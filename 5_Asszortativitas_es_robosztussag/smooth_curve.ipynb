{
 "cells": [
  {
   "cell_type": "markdown",
   "id": "advance-space",
   "metadata": {},
   "source": [
    "### dokumentáció: [scipy.interpolate.make_interp_spline](https://docs.scipy.org/doc/scipy/reference/generated/scipy.interpolate.make_interp_spline.html#scipy.interpolate.make_interp_spline)"
   ]
  },
  {
   "cell_type": "code",
   "execution_count": 9,
   "id": "western-haiti",
   "metadata": {},
   "outputs": [],
   "source": [
    "import numpy as np\n",
    "from scipy.interpolate import make_interp_spline as spline"
   ]
  },
  {
   "cell_type": "code",
   "execution_count": 14,
   "id": "radio-thumb",
   "metadata": {},
   "outputs": [],
   "source": [
    "sns.set()\n",
    "matplotlib.rcParams[\"figure.figsize\"] = (10, 10)"
   ]
  },
  {
   "cell_type": "code",
   "execution_count": 11,
   "id": "fewer-yorkshire",
   "metadata": {},
   "outputs": [],
   "source": [
    "x = np.linspace(0, 20, 20)\n",
    "y = x + np.sin(x) + np.random.normal(scale=5, size=x.shape)"
   ]
  },
  {
   "cell_type": "code",
   "execution_count": 12,
   "id": "scenic-algorithm",
   "metadata": {},
   "outputs": [],
   "source": [
    "x_smooth = np.linspace(0, 20, 100)\n",
    "y_smooth = spline(x, y)(x_smooth)"
   ]
  },
  {
   "cell_type": "markdown",
   "id": "graphic-statistics",
   "metadata": {},
   "source": [
    "### eredmény:\n",
    "<img src=\"smooth.png\">"
   ]
  }
 ],
 "metadata": {
  "kernelspec": {
   "display_name": "Python 3",
   "language": "python",
   "name": "python3"
  },
  "language_info": {
   "codemirror_mode": {
    "name": "ipython",
    "version": 3
   },
   "file_extension": ".py",
   "mimetype": "text/x-python",
   "name": "python",
   "nbconvert_exporter": "python",
   "pygments_lexer": "ipython3",
   "version": "3.7.5"
  }
 },
 "nbformat": 4,
 "nbformat_minor": 5
}
