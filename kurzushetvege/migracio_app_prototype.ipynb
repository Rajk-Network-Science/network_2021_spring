{
 "cells": [
  {
   "cell_type": "code",
   "execution_count": 1,
   "metadata": {},
   "outputs": [
    {
     "data": {
      "text/plain": [
       "'\\nTODO\\n- cell padding\\n- width jó legyen\\n- ne kelljen görgetni\\n\\n'"
      ]
     },
     "execution_count": 1,
     "metadata": {},
     "output_type": "execute_result"
    }
   ],
   "source": [
    "'''\n",
    "TODO\n",
    "- cell padding\n",
    "- width jó legyen\n",
    "- ne kelljen görgetni\n",
    "\n",
    "'''"
   ]
  },
  {
   "cell_type": "markdown",
   "metadata": {},
   "source": [
    "# Packages"
   ]
  },
  {
   "cell_type": "code",
   "execution_count": 2,
   "metadata": {},
   "outputs": [],
   "source": [
    "import plotly.express as px\n",
    "from jupyter_dash import JupyterDash\n",
    "import dash_core_components as dcc\n",
    "import dash_html_components as html\n",
    "import dash_bootstrap_components as dbc\n",
    "from dash.dependencies import Input, Output\n",
    "import pandas as pd\n",
    "\n",
    "DATAPATH = 'C:/Users/HP/Documents/02_CODING/KURZUS_Network/DATA/Kurzushetvege/'"
   ]
  },
  {
   "cell_type": "markdown",
   "metadata": {},
   "source": [
    "# External stylesheet"
   ]
  },
  {
   "cell_type": "code",
   "execution_count": 3,
   "metadata": {},
   "outputs": [],
   "source": [
    "external_stylesheets = [dbc.themes.BOOTSTRAP]"
   ]
  },
  {
   "cell_type": "markdown",
   "metadata": {},
   "source": [
    "# Call the app"
   ]
  },
  {
   "cell_type": "code",
   "execution_count": 4,
   "metadata": {},
   "outputs": [],
   "source": [
    "# In a .py file, use this:\n",
    "# app = dash.Dash(__name__, external_stylesheets=external_stylesheets)\n",
    "\n",
    "# Now, in a Jupyter notebook environment, we use this:\n",
    "app = JupyterDash(__name__, external_stylesheets=external_stylesheets)"
   ]
  },
  {
   "cell_type": "markdown",
   "metadata": {},
   "source": [
    "# Formatting presets"
   ]
  },
  {
   "cell_type": "code",
   "execution_count": 5,
   "metadata": {},
   "outputs": [],
   "source": [
    "colors = {\n",
    "    'bg' : '#a8dadc'\n",
    "}"
   ]
  },
  {
   "cell_type": "code",
   "execution_count": 6,
   "metadata": {},
   "outputs": [],
   "source": [
    "udvozlo_szoveg = '''\n",
    "De jó, hogy a dashboardunkra tévedtél! Próbáld ki, mielőtt _migráncsoznál_ egy jót!\n",
    "A grafikonokon a World Bank migrációs adatbázisának adatai láthatók.\n",
    "Erről ezeket érdemes tudni:\n",
    "- bla\n",
    "- bliblu\n",
    "- bluble\n",
    "\n",
    "[Adatok leírása](https://datacatalog.worldbank.org/dataset/global-bilateral-migration-database)\n",
    "\n",
    "[Adatok forrása](https://www.worldbank.org/en/topic/migrationremittancesdiasporaissues/brief/migration-remittances-data)\n",
    "\n",
    "Az alábbi gombok megnyomásával megnézhetsz néhány érdekes sztorit!\n",
    "\n",
    "\n",
    "'''"
   ]
  },
  {
   "cell_type": "markdown",
   "metadata": {},
   "source": [
    "# Getting the data"
   ]
  },
  {
   "cell_type": "code",
   "execution_count": 7,
   "metadata": {},
   "outputs": [],
   "source": [
    "koldf = pd.DataFrame({\n",
    "    'koli' : ['rajk', 'szisz', 'evk'],\n",
    "    'iq' : [150, 130, 110],\n",
    "    'arc' : [8, 6, 10],\n",
    "    'color' : ['green', 'black', 'red']\n",
    "    })\n",
    "\n",
    "all_koli = koldf.koli.unique()"
   ]
  },
  {
   "cell_type": "code",
   "execution_count": 8,
   "metadata": {},
   "outputs": [],
   "source": [
    "edges = pd.read_csv(DATAPATH + 'edge_list_final.csv')\n",
    "nodes = pd.read_csv(DATAPATH + 'attributes.csv')\n",
    "all_from = edges.Origin.unique()\n",
    "all_to = edges.Destination.unique()\n",
    "all_year = edges.Year.unique()"
   ]
  },
  {
   "cell_type": "code",
   "execution_count": 9,
   "metadata": {},
   "outputs": [
    {
     "data": {
      "text/html": [
       "<div>\n",
       "<style scoped>\n",
       "    .dataframe tbody tr th:only-of-type {\n",
       "        vertical-align: middle;\n",
       "    }\n",
       "\n",
       "    .dataframe tbody tr th {\n",
       "        vertical-align: top;\n",
       "    }\n",
       "\n",
       "    .dataframe thead th {\n",
       "        text-align: right;\n",
       "    }\n",
       "</style>\n",
       "<table border=\"1\" class=\"dataframe\">\n",
       "  <thead>\n",
       "    <tr style=\"text-align: right;\">\n",
       "      <th></th>\n",
       "      <th>Unnamed: 0</th>\n",
       "      <th>Origin</th>\n",
       "      <th>Destination</th>\n",
       "      <th>Year</th>\n",
       "      <th>Stock</th>\n",
       "      <th>Flow</th>\n",
       "      <th>Origin_latitude</th>\n",
       "      <th>Origin_longitude</th>\n",
       "      <th>Destination_latitude</th>\n",
       "      <th>Destination_longitude</th>\n",
       "    </tr>\n",
       "  </thead>\n",
       "  <tbody>\n",
       "    <tr>\n",
       "      <th>18745</th>\n",
       "      <td>18745</td>\n",
       "      <td>United Kingdom</td>\n",
       "      <td>Norway</td>\n",
       "      <td>1970</td>\n",
       "      <td>6495.000000</td>\n",
       "      <td>2044</td>\n",
       "      <td>55.378051</td>\n",
       "      <td>-3.435973</td>\n",
       "      <td>60.472024</td>\n",
       "      <td>8.468946</td>\n",
       "    </tr>\n",
       "    <tr>\n",
       "      <th>18018</th>\n",
       "      <td>18018</td>\n",
       "      <td>Turkmenistan</td>\n",
       "      <td>Uzbekistan</td>\n",
       "      <td>2013</td>\n",
       "      <td>7100.000000</td>\n",
       "      <td>-35465</td>\n",
       "      <td>38.969719</td>\n",
       "      <td>59.556278</td>\n",
       "      <td>41.377491</td>\n",
       "      <td>64.585262</td>\n",
       "    </tr>\n",
       "    <tr>\n",
       "      <th>20061</th>\n",
       "      <td>20061</td>\n",
       "      <td>West Bank and Gaza</td>\n",
       "      <td>Syrian Arab Republic</td>\n",
       "      <td>2017</td>\n",
       "      <td>630490.000000</td>\n",
       "      <td>388091</td>\n",
       "      <td>NaN</td>\n",
       "      <td>NaN</td>\n",
       "      <td>34.802075</td>\n",
       "      <td>38.996815</td>\n",
       "    </tr>\n",
       "    <tr>\n",
       "      <th>1343</th>\n",
       "      <td>1343</td>\n",
       "      <td>Bangladesh</td>\n",
       "      <td>Jordan</td>\n",
       "      <td>2010</td>\n",
       "      <td>56977.885794</td>\n",
       "      <td>50142</td>\n",
       "      <td>23.684994</td>\n",
       "      <td>90.356331</td>\n",
       "      <td>30.585164</td>\n",
       "      <td>36.238414</td>\n",
       "    </tr>\n",
       "    <tr>\n",
       "      <th>9713</th>\n",
       "      <td>9713</td>\n",
       "      <td>Kazakhstan</td>\n",
       "      <td>Turkmenistan</td>\n",
       "      <td>2013</td>\n",
       "      <td>14184.000000</td>\n",
       "      <td>-4582</td>\n",
       "      <td>48.019573</td>\n",
       "      <td>66.923684</td>\n",
       "      <td>38.969719</td>\n",
       "      <td>59.556278</td>\n",
       "    </tr>\n",
       "  </tbody>\n",
       "</table>\n",
       "</div>"
      ],
      "text/plain": [
       "       Unnamed: 0              Origin           Destination  Year  \\\n",
       "18745       18745      United Kingdom                Norway  1970   \n",
       "18018       18018        Turkmenistan            Uzbekistan  2013   \n",
       "20061       20061  West Bank and Gaza  Syrian Arab Republic  2017   \n",
       "1343         1343          Bangladesh                Jordan  2010   \n",
       "9713         9713          Kazakhstan          Turkmenistan  2013   \n",
       "\n",
       "               Stock    Flow  Origin_latitude  Origin_longitude  \\\n",
       "18745    6495.000000    2044        55.378051         -3.435973   \n",
       "18018    7100.000000  -35465        38.969719         59.556278   \n",
       "20061  630490.000000  388091              NaN               NaN   \n",
       "1343    56977.885794   50142        23.684994         90.356331   \n",
       "9713    14184.000000   -4582        48.019573         66.923684   \n",
       "\n",
       "       Destination_latitude  Destination_longitude  \n",
       "18745             60.472024               8.468946  \n",
       "18018             41.377491              64.585262  \n",
       "20061             34.802075              38.996815  \n",
       "1343              30.585164              36.238414  \n",
       "9713              38.969719              59.556278  "
      ]
     },
     "execution_count": 9,
     "metadata": {},
     "output_type": "execute_result"
    }
   ],
   "source": [
    "edges.sample(5)"
   ]
  },
  {
   "cell_type": "code",
   "execution_count": 10,
   "metadata": {},
   "outputs": [
    {
     "data": {
      "text/html": [
       "<div>\n",
       "<style scoped>\n",
       "    .dataframe tbody tr th:only-of-type {\n",
       "        vertical-align: middle;\n",
       "    }\n",
       "\n",
       "    .dataframe tbody tr th {\n",
       "        vertical-align: top;\n",
       "    }\n",
       "\n",
       "    .dataframe thead th {\n",
       "        text-align: right;\n",
       "    }\n",
       "</style>\n",
       "<table border=\"1\" class=\"dataframe\">\n",
       "  <thead>\n",
       "    <tr style=\"text-align: right;\">\n",
       "      <th></th>\n",
       "      <th>Origin</th>\n",
       "      <th>Year</th>\n",
       "      <th>Origin_latitude</th>\n",
       "      <th>Origin_longitude</th>\n",
       "      <th>Stock</th>\n",
       "    </tr>\n",
       "  </thead>\n",
       "  <tbody>\n",
       "    <tr>\n",
       "      <th>39</th>\n",
       "      <td>Angola</td>\n",
       "      <td>2013</td>\n",
       "      <td>-11.202692</td>\n",
       "      <td>17.873887</td>\n",
       "      <td>507419.0</td>\n",
       "    </tr>\n",
       "    <tr>\n",
       "      <th>76</th>\n",
       "      <td>Australia</td>\n",
       "      <td>2013</td>\n",
       "      <td>-25.274398</td>\n",
       "      <td>133.775136</td>\n",
       "      <td>459893.0</td>\n",
       "    </tr>\n",
       "    <tr>\n",
       "      <th>706</th>\n",
       "      <td>Italy</td>\n",
       "      <td>2017</td>\n",
       "      <td>41.871940</td>\n",
       "      <td>12.567380</td>\n",
       "      <td>3206815.0</td>\n",
       "    </tr>\n",
       "    <tr>\n",
       "      <th>1567</th>\n",
       "      <td>Yemen, Rep.</td>\n",
       "      <td>2013</td>\n",
       "      <td>NaN</td>\n",
       "      <td>NaN</td>\n",
       "      <td>1254079.0</td>\n",
       "    </tr>\n",
       "    <tr>\n",
       "      <th>681</th>\n",
       "      <td>Iraq</td>\n",
       "      <td>2017</td>\n",
       "      <td>33.223191</td>\n",
       "      <td>43.679291</td>\n",
       "      <td>1916621.0</td>\n",
       "    </tr>\n",
       "  </tbody>\n",
       "</table>\n",
       "</div>"
      ],
      "text/plain": [
       "           Origin  Year  Origin_latitude  Origin_longitude      Stock\n",
       "39         Angola  2013       -11.202692         17.873887   507419.0\n",
       "76      Australia  2013       -25.274398        133.775136   459893.0\n",
       "706         Italy  2017        41.871940         12.567380  3206815.0\n",
       "1567  Yemen, Rep.  2013              NaN               NaN  1254079.0\n",
       "681          Iraq  2017        33.223191         43.679291  1916621.0"
      ]
     },
     "execution_count": 10,
     "metadata": {},
     "output_type": "execute_result"
    }
   ],
   "source": [
    "nodes.sample(5)"
   ]
  },
  {
   "cell_type": "code",
   "execution_count": 11,
   "metadata": {},
   "outputs": [
    {
     "data": {
      "text/plain": [
       "211"
      ]
     },
     "execution_count": 11,
     "metadata": {},
     "output_type": "execute_result"
    }
   ],
   "source": [
    "len(all_to)"
   ]
  },
  {
   "cell_type": "markdown",
   "metadata": {},
   "source": [
    "# Defining functions and figures"
   ]
  },
  {
   "cell_type": "code",
   "execution_count": 12,
   "metadata": {},
   "outputs": [],
   "source": [
    "# Példa\n",
    "fig1 = px.bar(koldf, x='koli', y='iq', color = 'koli', color_discrete_sequence = koldf['color'])\n",
    "fig2 = px.bar(koldf, x='koli', y='arc', color = 'koli', color_discrete_sequence = koldf['color'])"
   ]
  },
  {
   "cell_type": "code",
   "execution_count": 13,
   "metadata": {},
   "outputs": [],
   "source": [
    "# Mendöl térkép készítője\n",
    "from mapping import map_creation\n",
    "# Gyenes gráf készítője\n",
    "from gyenes_vizu import generate_data, graf_vizu"
   ]
  },
  {
   "cell_type": "code",
   "execution_count": null,
   "metadata": {},
   "outputs": [],
   "source": []
  },
  {
   "cell_type": "markdown",
   "metadata": {},
   "source": [
    "# App layout"
   ]
  },
  {
   "cell_type": "code",
   "execution_count": 14,
   "metadata": {},
   "outputs": [],
   "source": [
    "app.layout = html.Div(children=[\n",
    "    html.H1(children='Migráció app', style = {'backgroundColor' : colors['bg']}),\n",
    "    html.H4(children='Rajk Network Science kurzushétvége, 2021.04.16-18.', style = {'backgroundColor' : colors['bg']}),\n",
    "    \n",
    "    dbc.Row(\n",
    "            [\n",
    "            dbc.Col(\n",
    "                [\n",
    "                    html.Div('Migráció a világban', style = {'textAlign' : 'left', 'fontSize' : 20, 'fontWeight' : 'bold'}),\n",
    "                    html.Div('Egy adott év kiválasztásával megtekinthető az évben országok közötti áramlás', style = {'textAlign' : 'left'}),\n",
    "                    #html.Img(src = 'https://cdn.vox-cdn.com/thumbor/2-7zdMpMpfbDDqIn2GsRVNN-au8=/51x0:977x617/1400x1050/filters:focal(51x0:977x617):format(png)/cdn.vox-cdn.com/uploads/chorus_image/image/50017015/Screen_Shot_2016-07-04_at_12.37.15_PM.0.0.png',\n",
    "                    #         height = 300, width = 420),\n",
    "                    \n",
    "                    # Mendöl térképe\n",
    "                    dcc.Graph(id = 'terkep_viz'),\n",
    "                    \n",
    "    \n",
    "                    dcc.Slider(\n",
    "                        id = 'year_slider_1',\n",
    "                        min = all_year.min(),\n",
    "                        max = all_year.max(),\n",
    "                        value = all_year.max(),\n",
    "                        marks = {str(year): str(year) for year in all_year},\n",
    "                        step = None)\n",
    "                    \n",
    "                    \n",
    "                ], style = {'backgroundColor' : colors['bg']}, width = {'size' : 6}\n",
    "                ),\n",
    "            \n",
    "            dbc.Col(\n",
    "                [\n",
    "                    html.Div('Migrációs hálózat', style = {'textAlign' : 'left', 'fontSize' : 20, 'fontWeight' : 'bold'}),\n",
    "                    html.Div('Országok és év kiválasztásával megtekinthető az adott országok adott éves migrációs hálózata', style = {'textAlign' : 'left'}),\n",
    "                    html.Img(src = 'https://brsl.net.bd/wp-content/uploads/2020/04/1_rmq7bd3GFjcwfXtkrBQaPQ.png',\n",
    "                             height = 300, width = 600),\n",
    "                    dcc.Slider(\n",
    "                        id = 'year_slider_2',\n",
    "                        min = all_year.min(),\n",
    "                        max = all_year.max(),\n",
    "                        value = all_year.max(),\n",
    "                        marks = {str(year): str(year) for year in all_year},\n",
    "                        step = None),\n",
    "                    dcc.Dropdown(\n",
    "                        id = 'orszag_dropdown_2', # this number means that this is the 2nd cell on the dashboard (not that this is the 2nd dropdown filter)\n",
    "                        options = [{'label': i, 'value': i} for i in all_from],\n",
    "                        value = ['Germany', 'Greece', 'Austria', 'Hungary', 'Turkey'],\n",
    "                        multi=True\n",
    "                        )\n",
    "                    \n",
    "                    \n",
    "                    \n",
    "                ], style = {'backgroundColor' : colors['bg']}, width = {'size' : 6}),\n",
    "            \n",
    "            ]), # Row 1 vége\n",
    "    \n",
    "    html.Br(),\n",
    "            \n",
    "    dbc.Row(\n",
    "            [\n",
    "            \n",
    "            dbc.Col(\n",
    "                [\n",
    "                    html.Div('Adott ország vizsgálata', style = {'textAlign' : 'left', 'fontSize' : 20, 'fontWeight' : 'bold'}),\n",
    "                    html.Div('Egy adott ország esetében megtekinthetők a leggyakoribb küldő vagy fogadó országok', style = {'textAlign' : 'left'}),\n",
    "                    html.Img(src = 'https://www.amcharts.com/wp-content/uploads/2018/01/horizontal-bar-chart.png',\n",
    "                             height = 300, width = 384),\n",
    "                    dcc.Dropdown(\n",
    "                        id = 'orszag_dropdown_3', # this number means that this is the 3rd cell on the dashboard (not that this is the 3rd dropdown filter)\n",
    "                        options = [{'label': i, 'value': i} for i in all_from],\n",
    "                        value = 'Germany'\n",
    "                        ),\n",
    "                    dcc.RadioItems(\n",
    "                        id = 'kibe_radio_3',\n",
    "                        options = [{'label': 'Beáramlás', 'value' : 'be'},\n",
    "                                   {'label': 'Kiáramlás', 'value' : 'ki'}], # Itt még át kell írni a value-kat!\n",
    "                        value = 'be',\n",
    "                        labelStyle = {'display': 'inline-block'}\n",
    "                    ),\n",
    "                ],\n",
    "                style = {'backgroundColor' : colors['bg']}, width = {'size' : 6}),\n",
    "            \n",
    "            dbc.Col(\n",
    "                [\n",
    "                    html.Div('Útmutató', style = {'textAlign' : 'left', 'fontSize' : 20, 'fontWeight' : 'bold'}),\n",
    "                    dcc.Markdown(udvozlo_szoveg)\n",
    "                ],\n",
    "                style = {'backgroundColor' : colors['bg']}, width = {'size' : 6}),\n",
    "                \n",
    "                #[\n",
    "                #    html.Div(\"Jobb alsó\", style = {'textAlign' : 'center', 'fontSize' : 14}),\n",
    "                #    html.Div(\"A szakkolisok IQ-ja\", style = {'textAlign' : 'center', 'fontSize' : 20}),\n",
    "                #    html.Br(),\n",
    "                #    dcc.Graph(\n",
    "                #        id = 'iq_graf'\n",
    "                #        ),\n",
    "                #    html.Label('Koli szűrő'),\n",
    "                #    dcc.Dropdown(\n",
    "                #        id = 'koli_dropdown1',\n",
    "                #        options = [{'label': i, 'value': i} for i in all_koli],\n",
    "                #        value = ['rajk', 'szisz'],\n",
    "                #        multi=True\n",
    "                #        )\n",
    "                #], style = {'backgroundColor' : colors['bg']}, width = {'size' : 6})],\n",
    "                \n",
    "            ]) # Row 2 vége\n",
    "    ]) # Layout vége"
   ]
  },
  {
   "cell_type": "markdown",
   "metadata": {},
   "source": [
    "# Callbacks"
   ]
  },
  {
   "cell_type": "code",
   "execution_count": 15,
   "metadata": {},
   "outputs": [],
   "source": [
    "#@app.callback(\n",
    "#    Output('iq_graf', 'figure'),\n",
    "#    Input('koli_dropdown1', 'value'))\n",
    "#def update_figure(kolik):\n",
    "#    filtered_df = koldf[koldf.koli.isin(kolik)]\n",
    "#\n",
    "#    fig = px.bar(filtered_df, x='koli', y='iq', color = 'koli', color_discrete_sequence = list(filtered_df['color']))\n",
    "#\n",
    "#    fig.update_layout(transition_duration=500)\n",
    "#\n",
    "#    return fig\n",
    "\n",
    "@app.callback(\n",
    "    Output('terkep_viz', 'figure'),\n",
    "    Input('year_slider_1', 'value'))\n",
    "def update_map(year):\n",
    "    szurt_nodes = nodes[nodes.Year == year]\n",
    "    szurt_edges = edges[edges.Year == year]\n",
    "    fig = map_creation(edgelist_df = szurt_edges, node_df = szurt_nodes, edgeweight_multiplier = 0.02)\n",
    "    fig.update_layout(transition_duration = 500)\n",
    "    return fig\n",
    "\n",
    "\n",
    "\n"
   ]
  },
  {
   "cell_type": "markdown",
   "metadata": {},
   "source": [
    "# Run the app!"
   ]
  },
  {
   "cell_type": "code",
   "execution_count": 16,
   "metadata": {},
   "outputs": [
    {
     "name": "stdout",
     "output_type": "stream",
     "text": [
      "Dash app running on http://127.0.0.1:8050/\n"
     ]
    },
    {
     "name": "stderr",
     "output_type": "stream",
     "text": [
      "C:\\Users\\HP\\Documents\\02_CODING\\KURZUS_Network\\network_2021_spring\\kurzushetvege\\mapping.py:8: SettingWithCopyWarning:\n",
      "\n",
      "\n",
      "A value is trying to be set on a copy of a slice from a DataFrame.\n",
      "Try using .loc[row_indexer,col_indexer] = value instead\n",
      "\n",
      "See the caveats in the documentation: https://pandas.pydata.org/pandas-docs/stable/user_guide/indexing.html#returning-a-view-versus-a-copy\n",
      "\n"
     ]
    },
    {
     "name": "stdout",
     "output_type": "stream",
     "text": [
      "A hálózat több, mint 1000 élt tartalmaz, a számítási kapacitások korlátossága miatt, csak a felső 1000 kerül ábrázolásra.\n"
     ]
    },
    {
     "name": "stderr",
     "output_type": "stream",
     "text": [
      "C:\\Users\\HP\\Documents\\02_CODING\\KURZUS_Network\\network_2021_spring\\kurzushetvege\\mapping.py:8: SettingWithCopyWarning:\n",
      "\n",
      "\n",
      "A value is trying to be set on a copy of a slice from a DataFrame.\n",
      "Try using .loc[row_indexer,col_indexer] = value instead\n",
      "\n",
      "See the caveats in the documentation: https://pandas.pydata.org/pandas-docs/stable/user_guide/indexing.html#returning-a-view-versus-a-copy\n",
      "\n"
     ]
    },
    {
     "name": "stdout",
     "output_type": "stream",
     "text": [
      "A hálózat több, mint 1000 élt tartalmaz, a számítási kapacitások korlátossága miatt, csak a felső 1000 kerül ábrázolásra.\n"
     ]
    },
    {
     "name": "stderr",
     "output_type": "stream",
     "text": [
      "C:\\Users\\HP\\Documents\\02_CODING\\KURZUS_Network\\network_2021_spring\\kurzushetvege\\mapping.py:8: SettingWithCopyWarning:\n",
      "\n",
      "\n",
      "A value is trying to be set on a copy of a slice from a DataFrame.\n",
      "Try using .loc[row_indexer,col_indexer] = value instead\n",
      "\n",
      "See the caveats in the documentation: https://pandas.pydata.org/pandas-docs/stable/user_guide/indexing.html#returning-a-view-versus-a-copy\n",
      "\n"
     ]
    },
    {
     "name": "stdout",
     "output_type": "stream",
     "text": [
      "A hálózat több, mint 1000 élt tartalmaz, a számítási kapacitások korlátossága miatt, csak a felső 1000 kerül ábrázolásra.\n"
     ]
    },
    {
     "name": "stderr",
     "output_type": "stream",
     "text": [
      "C:\\Users\\HP\\Documents\\02_CODING\\KURZUS_Network\\network_2021_spring\\kurzushetvege\\mapping.py:8: SettingWithCopyWarning:\n",
      "\n",
      "\n",
      "A value is trying to be set on a copy of a slice from a DataFrame.\n",
      "Try using .loc[row_indexer,col_indexer] = value instead\n",
      "\n",
      "See the caveats in the documentation: https://pandas.pydata.org/pandas-docs/stable/user_guide/indexing.html#returning-a-view-versus-a-copy\n",
      "\n"
     ]
    },
    {
     "name": "stdout",
     "output_type": "stream",
     "text": [
      "A hálózat több, mint 1000 élt tartalmaz, a számítási kapacitások korlátossága miatt, csak a felső 1000 kerül ábrázolásra.\n"
     ]
    },
    {
     "name": "stderr",
     "output_type": "stream",
     "text": [
      "C:\\Users\\HP\\Documents\\02_CODING\\KURZUS_Network\\network_2021_spring\\kurzushetvege\\mapping.py:8: SettingWithCopyWarning:\n",
      "\n",
      "\n",
      "A value is trying to be set on a copy of a slice from a DataFrame.\n",
      "Try using .loc[row_indexer,col_indexer] = value instead\n",
      "\n",
      "See the caveats in the documentation: https://pandas.pydata.org/pandas-docs/stable/user_guide/indexing.html#returning-a-view-versus-a-copy\n",
      "\n"
     ]
    },
    {
     "name": "stdout",
     "output_type": "stream",
     "text": [
      "A hálózat több, mint 1000 élt tartalmaz, a számítási kapacitások korlátossága miatt, csak a felső 1000 kerül ábrázolásra.\n"
     ]
    },
    {
     "name": "stderr",
     "output_type": "stream",
     "text": [
      "C:\\Users\\HP\\Documents\\02_CODING\\KURZUS_Network\\network_2021_spring\\kurzushetvege\\mapping.py:8: SettingWithCopyWarning:\n",
      "\n",
      "\n",
      "A value is trying to be set on a copy of a slice from a DataFrame.\n",
      "Try using .loc[row_indexer,col_indexer] = value instead\n",
      "\n",
      "See the caveats in the documentation: https://pandas.pydata.org/pandas-docs/stable/user_guide/indexing.html#returning-a-view-versus-a-copy\n",
      "\n"
     ]
    },
    {
     "name": "stdout",
     "output_type": "stream",
     "text": [
      "A hálózat több, mint 1000 élt tartalmaz, a számítási kapacitások korlátossága miatt, csak a felső 1000 kerül ábrázolásra.\n"
     ]
    },
    {
     "name": "stderr",
     "output_type": "stream",
     "text": [
      "C:\\Users\\HP\\Documents\\02_CODING\\KURZUS_Network\\network_2021_spring\\kurzushetvege\\mapping.py:8: SettingWithCopyWarning:\n",
      "\n",
      "\n",
      "A value is trying to be set on a copy of a slice from a DataFrame.\n",
      "Try using .loc[row_indexer,col_indexer] = value instead\n",
      "\n",
      "See the caveats in the documentation: https://pandas.pydata.org/pandas-docs/stable/user_guide/indexing.html#returning-a-view-versus-a-copy\n",
      "\n"
     ]
    },
    {
     "name": "stdout",
     "output_type": "stream",
     "text": [
      "A hálózat több, mint 1000 élt tartalmaz, a számítási kapacitások korlátossága miatt, csak a felső 1000 kerül ábrázolásra.\n"
     ]
    },
    {
     "name": "stderr",
     "output_type": "stream",
     "text": [
      "C:\\Users\\HP\\Documents\\02_CODING\\KURZUS_Network\\network_2021_spring\\kurzushetvege\\mapping.py:8: SettingWithCopyWarning:\n",
      "\n",
      "\n",
      "A value is trying to be set on a copy of a slice from a DataFrame.\n",
      "Try using .loc[row_indexer,col_indexer] = value instead\n",
      "\n",
      "See the caveats in the documentation: https://pandas.pydata.org/pandas-docs/stable/user_guide/indexing.html#returning-a-view-versus-a-copy\n",
      "\n"
     ]
    },
    {
     "name": "stdout",
     "output_type": "stream",
     "text": [
      "A hálózat több, mint 1000 élt tartalmaz, a számítási kapacitások korlátossága miatt, csak a felső 1000 kerül ábrázolásra.\n"
     ]
    },
    {
     "name": "stderr",
     "output_type": "stream",
     "text": [
      "C:\\Users\\HP\\Documents\\02_CODING\\KURZUS_Network\\network_2021_spring\\kurzushetvege\\mapping.py:8: SettingWithCopyWarning:\n",
      "\n",
      "\n",
      "A value is trying to be set on a copy of a slice from a DataFrame.\n",
      "Try using .loc[row_indexer,col_indexer] = value instead\n",
      "\n",
      "See the caveats in the documentation: https://pandas.pydata.org/pandas-docs/stable/user_guide/indexing.html#returning-a-view-versus-a-copy\n",
      "\n"
     ]
    },
    {
     "name": "stdout",
     "output_type": "stream",
     "text": [
      "A hálózat több, mint 1000 élt tartalmaz, a számítási kapacitások korlátossága miatt, csak a felső 1000 kerül ábrázolásra.\n"
     ]
    },
    {
     "name": "stderr",
     "output_type": "stream",
     "text": [
      "C:\\Users\\HP\\Documents\\02_CODING\\KURZUS_Network\\network_2021_spring\\kurzushetvege\\mapping.py:8: SettingWithCopyWarning:\n",
      "\n",
      "\n",
      "A value is trying to be set on a copy of a slice from a DataFrame.\n",
      "Try using .loc[row_indexer,col_indexer] = value instead\n",
      "\n",
      "See the caveats in the documentation: https://pandas.pydata.org/pandas-docs/stable/user_guide/indexing.html#returning-a-view-versus-a-copy\n",
      "\n"
     ]
    },
    {
     "name": "stdout",
     "output_type": "stream",
     "text": [
      "A hálózat több, mint 1000 élt tartalmaz, a számítási kapacitások korlátossága miatt, csak a felső 1000 kerül ábrázolásra.\n"
     ]
    }
   ],
   "source": [
    "if __name__ == '__main__':\n",
    "    app.run_server(debug=True, mode = 'external')"
   ]
  },
  {
   "cell_type": "code",
   "execution_count": null,
   "metadata": {},
   "outputs": [],
   "source": []
  },
  {
   "cell_type": "code",
   "execution_count": null,
   "metadata": {},
   "outputs": [],
   "source": []
  },
  {
   "cell_type": "code",
   "execution_count": null,
   "metadata": {},
   "outputs": [],
   "source": []
  },
  {
   "cell_type": "code",
   "execution_count": null,
   "metadata": {},
   "outputs": [],
   "source": []
  },
  {
   "cell_type": "code",
   "execution_count": null,
   "metadata": {},
   "outputs": [],
   "source": []
  },
  {
   "cell_type": "code",
   "execution_count": null,
   "metadata": {},
   "outputs": [],
   "source": []
  },
  {
   "cell_type": "code",
   "execution_count": null,
   "metadata": {},
   "outputs": [],
   "source": []
  },
  {
   "cell_type": "code",
   "execution_count": null,
   "metadata": {},
   "outputs": [],
   "source": []
  },
  {
   "cell_type": "code",
   "execution_count": null,
   "metadata": {},
   "outputs": [],
   "source": []
  }
 ],
 "metadata": {
  "kernelspec": {
   "display_name": "Python 3",
   "language": "python",
   "name": "python3"
  },
  "language_info": {
   "codemirror_mode": {
    "name": "ipython",
    "version": 3
   },
   "file_extension": ".py",
   "mimetype": "text/x-python",
   "name": "python",
   "nbconvert_exporter": "python",
   "pygments_lexer": "ipython3",
   "version": "3.8.0"
  },
  "toc": {
   "base_numbering": 1,
   "nav_menu": {},
   "number_sections": true,
   "sideBar": true,
   "skip_h1_title": false,
   "title_cell": "Table of Contents",
   "title_sidebar": "Contents",
   "toc_cell": false,
   "toc_position": {},
   "toc_section_display": true,
   "toc_window_display": true
  }
 },
 "nbformat": 4,
 "nbformat_minor": 2
}
