{
 "cells": [
  {
   "cell_type": "markdown",
   "id": "tropical-heating",
   "metadata": {},
   "source": [
    "#### [lines on maps documentation](https://plotly.com/python/lines-on-maps/)"
   ]
  },
  {
   "cell_type": "markdown",
   "id": "massive-yemen",
   "metadata": {},
   "source": [
    "#### [3D graph documentation](https://plotly.com/python/v3/3d-network-graph/)"
   ]
  },
  {
   "cell_type": "code",
   "execution_count": 1,
   "id": "earned-ticket",
   "metadata": {},
   "outputs": [],
   "source": [
    "import numpy as np\n",
    "import pandas as pd\n",
    "\n",
    "import networkx as nx\n",
    "import igraph as ig\n",
    "\n",
    "import plotly.graph_objs as go\n",
    "import plotly"
   ]
  },
  {
   "cell_type": "code",
   "execution_count": 2,
   "id": "elegant-approach",
   "metadata": {
    "scrolled": true
   },
   "outputs": [
    {
     "data": {
      "text/html": [
       "        <script type=\"text/javascript\">\n",
       "        window.PlotlyConfig = {MathJaxConfig: 'local'};\n",
       "        if (window.MathJax) {MathJax.Hub.Config({SVG: {font: \"STIX-Web\"}});}\n",
       "        if (typeof require !== 'undefined') {\n",
       "        require.undef(\"plotly\");\n",
       "        requirejs.config({\n",
       "            paths: {\n",
       "                'plotly': ['https://cdn.plot.ly/plotly-latest.min']\n",
       "            }\n",
       "        });\n",
       "        require(['plotly'], function(Plotly) {\n",
       "            window._Plotly = Plotly;\n",
       "        });\n",
       "        }\n",
       "        </script>\n",
       "        "
      ]
     },
     "metadata": {},
     "output_type": "display_data"
    }
   ],
   "source": [
    "plotly.offline.init_notebook_mode(connected=True)"
   ]
  },
  {
   "cell_type": "code",
   "execution_count": 53,
   "id": "handmade-citizenship",
   "metadata": {},
   "outputs": [],
   "source": [
    "g = nx.erdos_renyi_graph(200, 0.05)\n",
    "while not nx.is_connected(g):\n",
    "    g = nx.erdos_renyi_graph(20, 0.1)\n",
    "i_g = ig.Graph(edges=list(g.edges()))"
   ]
  },
  {
   "cell_type": "code",
   "execution_count": 54,
   "id": "assured-removal",
   "metadata": {},
   "outputs": [],
   "source": [
    "node_layout = np.array([i_g.layout(layout=\"sphere\")[n] for n in g.nodes()])"
   ]
  },
  {
   "cell_type": "code",
   "execution_count": 55,
   "id": "streaming-terror",
   "metadata": {},
   "outputs": [],
   "source": [
    "edge_layout = np.array(\n",
    "    [[node_layout[edge[i]] for i in range(2)] for edge in i_g.get_edgelist()]\n",
    ")"
   ]
  },
  {
   "cell_type": "code",
   "execution_count": 56,
   "id": "municipal-brooklyn",
   "metadata": {},
   "outputs": [],
   "source": [
    "edge_traces = [\n",
    "    go.Scatter3d(\n",
    "        **{\n",
    "            ax: np.append(edge_layout[n, :, i], None)\n",
    "            for i, ax in enumerate([\"x\", \"y\", \"z\"])\n",
    "        },\n",
    "        mode=\"lines\",\n",
    "        line=dict(color=\"black\", width=np.random.randint(0.1, high=10)),\n",
    "        hoverinfo=\"none\",\n",
    "    )\n",
    "    for n in range(g.number_of_edges())\n",
    "]"
   ]
  },
  {
   "cell_type": "code",
   "execution_count": 57,
   "id": "respiratory-ground",
   "metadata": {},
   "outputs": [],
   "source": [
    "node_trace = go.Scatter3d(\n",
    "    **{ax: node_layout[:, i] for i, ax in enumerate([\"x\", \"y\", \"z\"])},\n",
    "    mode=\"markers\",\n",
    "    name=\"actors\",\n",
    "    marker=dict(\n",
    "        symbol=\"circle\",\n",
    "        size=6,\n",
    "        color=\"blue\",\n",
    "        colorscale=\"Viridis\",\n",
    "        line=dict(color=\"lightblue\", width=0.5),\n",
    "    ),\n",
    "    text=[str(n) for n in g.nodes()],\n",
    "    hoverinfo=\"text\",\n",
    ")"
   ]
  },
  {
   "cell_type": "code",
   "execution_count": 58,
   "id": "superb-devil",
   "metadata": {},
   "outputs": [],
   "source": [
    "axis = dict(\n",
    "    showbackground=False,\n",
    "    showline=False,\n",
    "    zeroline=False,\n",
    "    showgrid=True,\n",
    "    showticklabels=False,\n",
    "    title=\"\",\n",
    ")"
   ]
  },
  {
   "cell_type": "code",
   "execution_count": 59,
   "id": "spread-brake",
   "metadata": {},
   "outputs": [],
   "source": [
    "layout = go.Layout(\n",
    "    title=\"sample 3D graph\",\n",
    "    width=1000,\n",
    "    height=1000,\n",
    "    showlegend=False,\n",
    "    scene=dict(\n",
    "        xaxis=dict(axis),\n",
    "        yaxis=dict(axis),\n",
    "        zaxis=dict(axis),\n",
    "    ),\n",
    "    margin=dict(t=100),\n",
    "    hovermode=\"closest\",\n",
    ")"
   ]
  },
  {
   "cell_type": "code",
   "execution_count": 60,
   "id": "controversial-research",
   "metadata": {
    "scrolled": false
   },
   "outputs": [
    {
     "data": {
      "application/vnd.plotly.v1+json": {
       "config": {
        "linkText": "Export to plot.ly",
        "plotlyServerURL": "https://plot.ly",
        "showLink": false
       },
       "data": [
        {
         "hoverinfo": "none",
         "line": {
          "color": "black",
          "width": 3
         },
         "mode": "lines",
         "type": "scatter3d",
         "x": [
          1.2246467991473532e-16,
          -0.3364695168897425,
          null
         ],
         "y": [
          0,
          -0.3368222188476665,
          null
         ],
         "z": [
          -1,
          -0.8793969849246231,
          null
         ]
        },
        {
         "hoverinfo": "none",
         "line": {
          "color": "black",
          "width": 5
         },
         "mode": "lines",
         "type": "scatter3d",
         "x": [
          1.2246467991473532e-16,
          -0.2731277093851147,
          null
         ],
         "y": [
          0,
          -0.8043626009530863,
          null
         ],
         "z": [
          -1,
          -0.5276381909547739,
          null
         ]
        },
        {
         "hoverinfo": "none",
         "line": {
          "color": "black",
          "width": 9
         },
         "mode": "lines",
         "type": "scatter3d",
         "x": [
          1.2246467991473532e-16,
          -0.8405173138299454,
          null
         ],
         "y": [
          0,
          -0.5350073360636081,
          null
         ],
         "z": [
          -1,
          -0.08542713567839195,
          null
         ]
        },
        {
         "hoverinfo": "none",
         "line": {
          "color": "black",
          "width": 6
         },
         "mode": "lines",
         "type": "scatter3d",
         "x": [
          1.2246467991473532e-16,
          -0.8109889569592988,
          null
         ],
         "y": [
          0,
          0.5735317455564173,
          null
         ],
         "z": [
          -1,
          0.11557788944723603,
          null
         ]
        },
        {
         "hoverinfo": "none",
         "line": {
          "color": "black",
          "width": 4
         },
         "mode": "lines",
         "type": "scatter3d",
         "x": [
          1.2246467991473532e-16,
          0.9592929774959421,
          null
         ],
         "y": [
          0,
          -0.11864579105488865,
          null
         ],
         "z": [
          -1,
          0.25628140703517593,
          null
         ]
        },
        {
         "hoverinfo": "none",
         "line": {
          "color": "black",
          "width": 1
         },
         "mode": "lines",
         "type": "scatter3d",
         "x": [
          1.2246467991473532e-16,
          -0.4311344860611112,
          null
         ],
         "y": [
          0,
          -0.8001017444049664,
          null
         ],
         "z": [
          -1,
          0.41708542713567837,
          null
         ]
        },
        {
         "hoverinfo": "none",
         "line": {
          "color": "black",
          "width": 3
         },
         "mode": "lines",
         "type": "scatter3d",
         "x": [
          1.2246467991473532e-16,
          0.0632016554808522,
          null
         ],
         "y": [
          0,
          -0.8971477100578715,
          null
         ],
         "z": [
          -1,
          0.43718592964824127,
          null
         ]
        },
        {
         "hoverinfo": "none",
         "line": {
          "color": "black",
          "width": 2
         },
         "mode": "lines",
         "type": "scatter3d",
         "x": [
          1.2246467991473532e-16,
          -0.707456892094313,
          null
         ],
         "y": [
          0,
          -0.360266373382285,
          null
         ],
         "z": [
          -1,
          0.6080402010050252,
          null
         ]
        },
        {
         "hoverinfo": "none",
         "line": {
          "color": "black",
          "width": 0
         },
         "mode": "lines",
         "type": "scatter3d",
         "x": [
          -0.032133952679065145,
          -0.5416042025803353,
          null
         ],
         "y": [
          0.13772038355838287,
          0.33991683015107377,
          null
         ],
         "z": [
          -0.9899497487437185,
          -0.7688442211055275,
          null
         ]
        },
        {
         "hoverinfo": "none",
         "line": {
          "color": "black",
          "width": 4
         },
         "mode": "lines",
         "type": "scatter3d",
         "x": [
          -0.032133952679065145,
          -0.5593208018755575,
          null
         ],
         "y": [
          0.13772038355838287,
          -0.3761544920686069,
          null
         ],
         "z": [
          -0.9899497487437185,
          -0.7386934673366833,
          null
         ]
        },
        {
         "hoverinfo": "none",
         "line": {
          "color": "black",
          "width": 6
         },
         "mode": "lines",
         "type": "scatter3d",
         "x": [
          -0.032133952679065145,
          0.9692141584109936,
          null
         ],
         "y": [
          0.13772038355838287,
          0.09741069134859666,
          null
         ],
         "z": [
          -0.9899497487437185,
          -0.2261306532663317,
          null
         ]
        },
        {
         "hoverinfo": "none",
         "line": {
          "color": "black",
          "width": 7
         },
         "mode": "lines",
         "type": "scatter3d",
         "x": [
          -0.032133952679065145,
          0.9134816304942963,
          null
         ],
         "y": [
          0.13772038355838287,
          0.3447616141867552,
          null
         ],
         "z": [
          -0.9899497487437185,
          -0.21608040201005033,
          null
         ]
        },
        {
         "hoverinfo": "none",
         "line": {
          "color": "black",
          "width": 8
         },
         "mode": "lines",
         "type": "scatter3d",
         "x": [
          -0.032133952679065145,
          0.6243280701168443,
          null
         ],
         "y": [
          0.13772038355838287,
          0.7561787750638941,
          null
         ],
         "z": [
          -0.9899497487437185,
          -0.19597989949748734,
          null
         ]
        },
        {
         "hoverinfo": "none",
         "line": {
          "color": "black",
          "width": 6
         },
         "mode": "lines",
         "type": "scatter3d",
         "x": [
          -0.032133952679065145,
          0.89774944367018,
          null
         ],
         "y": [
          0.13772038355838287,
          -0.3652617613625499,
          null
         ],
         "z": [
          -0.9899497487437185,
          0.24623115577889462,
          null
         ]
        },
        {
         "hoverinfo": "none",
         "line": {
          "color": "black",
          "width": 5
         },
         "mode": "lines",
         "type": "scatter3d",
         "x": [
          -0.032133952679065145,
          0.3962282650703626,
          null
         ],
         "y": [
          0.13772038355838287,
          -0.6400433729233012,
          null
         ],
         "z": [
          -0.9899497487437185,
          0.6582914572864322,
          null
         ]
        },
        {
         "hoverinfo": "none",
         "line": {
          "color": "black",
          "width": 5
         },
         "mode": "lines",
         "type": "scatter3d",
         "x": [
          -0.032133952679065145,
          -0.1303084840790476,
          null
         ],
         "y": [
          0.13772038355838287,
          0.20594207574432036,
          null
         ],
         "z": [
          -0.9899497487437185,
          0.9698492462311559,
          null
         ]
        },
        {
         "hoverinfo": "none",
         "line": {
          "color": "black",
          "width": 0
         },
         "mode": "lines",
         "type": "scatter3d",
         "x": [
          -0.19906354897238956,
          -0.3364695168897425,
          null
         ],
         "y": [
          0.013064390318155485,
          -0.3368222188476665,
          null
         ],
         "z": [
          -0.9798994974874372,
          -0.8793969849246231,
          null
         ]
        },
        {
         "hoverinfo": "none",
         "line": {
          "color": "black",
          "width": 2
         },
         "mode": "lines",
         "type": "scatter3d",
         "x": [
          -0.19906354897238956,
          0.7033011304219116,
          null
         ],
         "y": [
          0.013064390318155485,
          -0.7107321949644987,
          null
         ],
         "z": [
          -0.9798994974874372,
          -0.015075376884422157,
          null
         ]
        },
        {
         "hoverinfo": "none",
         "line": {
          "color": "black",
          "width": 5
         },
         "mode": "lines",
         "type": "scatter3d",
         "x": [
          -0.19906354897238956,
          0.5970599024521844,
          null
         ],
         "y": [
          0.013064390318155485,
          -0.7696651223338173,
          null
         ],
         "z": [
          -0.9798994974874372,
          0.22613065326633158,
          null
         ]
        },
        {
         "hoverinfo": "none",
         "line": {
          "color": "black",
          "width": 5
         },
         "mode": "lines",
         "type": "scatter3d",
         "x": [
          -0.19906354897238956,
          0.5646952188368541,
          null
         ],
         "y": [
          0.013064390318155485,
          0.7702061342015544,
          null
         ],
         "z": [
          -0.9798994974874372,
          0.29648241206030157,
          null
         ]
        },
        {
         "hoverinfo": "none",
         "line": {
          "color": "black",
          "width": 0
         },
         "mode": "lines",
         "type": "scatter3d",
         "x": [
          -0.19906354897238956,
          -0.4034742971178234,
          null
         ],
         "y": [
          0.013064390318155485,
          0.8507953738854946,
          null
         ],
         "z": [
          -0.9798994974874372,
          0.3366834170854272,
          null
         ]
        },
        {
         "hoverinfo": "none",
         "line": {
          "color": "black",
          "width": 0
         },
         "mode": "lines",
         "type": "scatter3d",
         "x": [
          -0.19906354897238956,
          0.5319383843782858,
          null
         ],
         "y": [
          0.013064390318155485,
          -0.7126925523580707,
          null
         ],
         "z": [
          -0.9798994974874372,
          0.45728643216080406,
          null
         ]
        },
        {
         "hoverinfo": "none",
         "line": {
          "color": "black",
          "width": 4
         },
         "mode": "lines",
         "type": "scatter3d",
         "x": [
          -0.19906354897238956,
          0.3962282650703626,
          null
         ],
         "y": [
          0.013064390318155485,
          -0.6400433729233012,
          null
         ],
         "z": [
          -0.9798994974874372,
          0.6582914572864322,
          null
         ]
        },
        {
         "hoverinfo": "none",
         "line": {
          "color": "black",
          "width": 0
         },
         "mode": "lines",
         "type": "scatter3d",
         "x": [
          -0.19906354897238956,
          0.725096144076266,
          null
         ],
         "y": [
          0.013064390318155485,
          0.01681974681893568,
          null
         ],
         "z": [
          -0.9798994974874372,
          0.6884422110552764,
          null
         ]
        },
        {
         "hoverinfo": "none",
         "line": {
          "color": "black",
          "width": 9
         },
         "mode": "lines",
         "type": "scatter3d",
         "x": [
          -0.19906354897238956,
          -0.4107215962272207,
          null
         ],
         "y": [
          0.013064390318155485,
          0.5202793617472665,
          null
         ],
         "z": [
          -0.9798994974874372,
          0.7487437185929648,
          null
         ]
        },
        {
         "hoverinfo": "none",
         "line": {
          "color": "black",
          "width": 8
         },
         "mode": "lines",
         "type": "scatter3d",
         "x": [
          -0.13595244227377956,
          -0.44268961941831086,
          null
         ],
         "y": [
          -0.20226065614610675,
          -0.11362004624810425,
          null
         ],
         "z": [
          -0.9698492462311558,
          -0.8894472361809045,
          null
         ]
        },
        {
         "hoverinfo": "none",
         "line": {
          "color": "black",
          "width": 4
         },
         "mode": "lines",
         "type": "scatter3d",
         "x": [
          -0.13595244227377956,
          0.3108397890520478,
          null
         ],
         "y": [
          -0.20226065614610675,
          -0.8386646672133121,
          null
         ],
         "z": [
          -0.9698492462311558,
          0.44723618090452255,
          null
         ]
        },
        {
         "hoverinfo": "none",
         "line": {
          "color": "black",
          "width": 6
         },
         "mode": "lines",
         "type": "scatter3d",
         "x": [
          -0.13595244227377956,
          -0.7231637330577864,
          null
         ],
         "y": [
          -0.20226065614610675,
          0.3782565293064855,
          null
         ],
         "z": [
          -0.9698492462311558,
          0.5778894472361809,
          null
         ]
        },
        {
         "hoverinfo": "none",
         "line": {
          "color": "black",
          "width": 0
         },
         "mode": "lines",
         "type": "scatter3d",
         "x": [
          -0.13595244227377956,
          0.06389728976483165,
          null
         ],
         "y": [
          -0.20226065614610675,
          0.6819062985636061,
          null
         ],
         "z": [
          -0.9698492462311558,
          0.728643216080402,
          null
         ]
        },
        {
         "hoverinfo": "none",
         "line": {
          "color": "black",
          "width": 0
         },
         "mode": "lines",
         "type": "scatter3d",
         "x": [
          -0.13595244227377956,
          0.30775790638944817,
          null
         ],
         "y": [
          -0.20226065614610675,
          0.0571173779137144,
          null
         ],
         "z": [
          -0.9698492462311558,
          0.949748743718593,
          null
         ]
        },
        {
         "hoverinfo": "none",
         "line": {
          "color": "black",
          "width": 6
         },
         "mode": "lines",
         "type": "scatter3d",
         "x": [
          0.08699091031156504,
          -0.021693443738824616,
          null
         ],
         "y": [
          -0.2668678901036732,
          0.7858076019752953,
          null
         ],
         "z": [
          -0.9597989949748744,
          -0.6180904522613064,
          null
         ]
        },
        {
         "hoverinfo": "none",
         "line": {
          "color": "black",
          "width": 8
         },
         "mode": "lines",
         "type": "scatter3d",
         "x": [
          0.08699091031156504,
          -0.08433109874112966,
          null
         ],
         "y": [
          -0.2668678901036732,
          0.9825420908093567,
          null
         ],
         "z": [
          -0.9597989949748744,
          -0.16582914572864332,
          null
         ]
        },
        {
         "hoverinfo": "none",
         "line": {
          "color": "black",
          "width": 4
         },
         "mode": "lines",
         "type": "scatter3d",
         "x": [
          0.08699091031156504,
          -0.9734264244291374,
          null
         ],
         "y": [
          -0.2668678901036732,
          0.19769357018888423,
          null
         ],
         "z": [
          -0.9597989949748744,
          -0.11557788944723613,
          null
         ]
        },
        {
         "hoverinfo": "none",
         "line": {
          "color": "black",
          "width": 9
         },
         "mode": "lines",
         "type": "scatter3d",
         "x": [
          0.08699091031156504,
          0.5015353289119979,
          null
         ],
         "y": [
          -0.2668678901036732,
          -0.8647722339805256,
          null
         ],
         "z": [
          -0.9597989949748744,
          -0.025125628140703495,
          null
         ]
        },
        {
         "hoverinfo": "none",
         "line": {
          "color": "black",
          "width": 6
         },
         "mode": "lines",
         "type": "scatter3d",
         "x": [
          0.08699091031156504,
          -0.7976204808491804,
          null
         ],
         "y": [
          -0.2668678901036732,
          0.13464204197246402,
          null
         ],
         "z": [
          -0.9597989949748744,
          0.5879396984924623,
          null
         ]
        },
        {
         "hoverinfo": "none",
         "line": {
          "color": "black",
          "width": 8
         },
         "mode": "lines",
         "type": "scatter3d",
         "x": [
          0.08699091031156504,
          -0.600556325517356,
          null
         ],
         "y": [
          -0.2668678901036732,
          -0.18070833075791126,
          null
         ],
         "z": [
          -0.9597989949748744,
          0.778894472361809,
          null
         ]
        },
        {
         "hoverinfo": "none",
         "line": {
          "color": "black",
          "width": 5
         },
         "mode": "lines",
         "type": "scatter3d",
         "x": [
          0.08699091031156504,
          0.43486403352118225,
          null
         ],
         "y": [
          -0.2668678901036732,
          -0.351298495616475,
          null
         ],
         "z": [
          -0.9597989949748744,
          0.829145728643216,
          null
         ]
        },
        {
         "hoverinfo": "none",
         "line": {
          "color": "black",
          "width": 2
         },
         "mode": "lines",
         "type": "scatter3d",
         "x": [
          0.28287365586258917,
          -0.02552158648393625,
          null
         ],
         "y": [
          -0.13401424783913019,
          -0.8552493047655827,
          null
         ],
         "z": [
          -0.949748743718593,
          -0.5175879396984926,
          null
         ]
        },
        {
         "hoverinfo": "none",
         "line": {
          "color": "black",
          "width": 2
         },
         "mode": "lines",
         "type": "scatter3d",
         "x": [
          0.28287365586258917,
          0.22617275089540043,
          null
         ],
         "y": [
          -0.13401424783913019,
          -0.8314152882664261,
          null
         ],
         "z": [
          -0.949748743718593,
          -0.5075376884422109,
          null
         ]
        },
        {
         "hoverinfo": "none",
         "line": {
          "color": "black",
          "width": 0
         },
         "mode": "lines",
         "type": "scatter3d",
         "x": [
          0.28287365586258917,
          -0.8919836432498447,
          null
         ],
         "y": [
          -0.13401424783913019,
          -0.30167773672316983,
          null
         ],
         "z": [
          -0.949748743718593,
          -0.3366834170854271,
          null
         ]
        },
        {
         "hoverinfo": "none",
         "line": {
          "color": "black",
          "width": 6
         },
         "mode": "lines",
         "type": "scatter3d",
         "x": [
          0.28287365586258917,
          -0.6161246034909317,
          null
         ],
         "y": [
          -0.13401424783913019,
          -0.7212251598313059,
          null
         ],
         "z": [
          -0.949748743718593,
          -0.3165829145728643,
          null
         ]
        },
        {
         "hoverinfo": "none",
         "line": {
          "color": "black",
          "width": 3
         },
         "mode": "lines",
         "type": "scatter3d",
         "x": [
          0.28287365586258917,
          0.7958335820929668,
          null
         ],
         "y": [
          -0.13401424783913019,
          0.5693860611162309,
          null
         ],
         "z": [
          -0.949748743718593,
          -0.20603015075376888,
          null
         ]
        },
        {
         "hoverinfo": "none",
         "line": {
          "color": "black",
          "width": 2
         },
         "mode": "lines",
         "type": "scatter3d",
         "x": [
          0.28287365586258917,
          0.2674492764124154,
          null
         ],
         "y": [
          -0.13401424783913019,
          -0.9629296662036767,
          null
         ],
         "z": [
          -0.949748743718593,
          -0.035175879396985035,
          null
         ]
        },
        {
         "hoverinfo": "none",
         "line": {
          "color": "black",
          "width": 8
         },
         "mode": "lines",
         "type": "scatter3d",
         "x": [
          0.28287365586258917,
          0.9995234698449429,
          null
         ],
         "y": [
          -0.13401424783913019,
          -0.026936336813276493,
          null
         ],
         "z": [
          -0.949748743718593,
          0.015075376884422058,
          null
         ]
        },
        {
         "hoverinfo": "none",
         "line": {
          "color": "black",
          "width": 0
         },
         "mode": "lines",
         "type": "scatter3d",
         "x": [
          0.28287365586258917,
          -0.9774199655907337,
          null
         ],
         "y": [
          -0.13401424783913019,
          -0.15301429152536394,
          null
         ],
         "z": [
          -0.949748743718593,
          0.14572864321608045,
          null
         ]
        },
        {
         "hoverinfo": "none",
         "line": {
          "color": "black",
          "width": 4
         },
         "mode": "lines",
         "type": "scatter3d",
         "x": [
          0.28287365586258917,
          -0.11973939666335258,
          null
         ],
         "y": [
          -0.13401424783913019,
          -0.9732699296082516,
          null
         ],
         "z": [
          -0.949748743718593,
          0.19597989949748745,
          null
         ]
        },
        {
         "hoverinfo": "none",
         "line": {
          "color": "black",
          "width": 1
         },
         "mode": "lines",
         "type": "scatter3d",
         "x": [
          0.28287365586258917,
          0.3962282650703626,
          null
         ],
         "y": [
          -0.13401424783913019,
          -0.6400433729233012,
          null
         ],
         "z": [
          -0.949748743718593,
          0.6582914572864322,
          null
         ]
        },
        {
         "hoverinfo": "none",
         "line": {
          "color": "black",
          "width": 6
         },
         "mode": "lines",
         "type": "scatter3d",
         "x": [
          0.28287365586258917,
          -0.42956390914738973,
          null
         ],
         "y": [
          -0.13401424783913019,
          0.07986938119331266,
          null
         ],
         "z": [
          -0.949748743718593,
          0.8994974874371859,
          null
         ]
        },
        {
         "hoverinfo": "none",
         "line": {
          "color": "black",
          "width": 9
         },
         "mode": "lines",
         "type": "scatter3d",
         "x": [
          0.32653852628887875,
          0.5016558508965476,
          null
         ],
         "y": [
          0.10168251626089096,
          0.27825169574601083,
          null
         ],
         "z": [
          -0.9396984924623115,
          -0.8190954773869346,
          null
         ]
        },
        {
         "hoverinfo": "none",
         "line": {
          "color": "black",
          "width": 4
         },
         "mode": "lines",
         "type": "scatter3d",
         "x": [
          0.32653852628887875,
          0.44943909472304994,
          null
         ],
         "y": [
          0.10168251626089096,
          0.6250734399887283,
          null
         ],
         "z": [
          -0.9396984924623115,
          -0.6381909547738694,
          null
         ]
        },
        {
         "hoverinfo": "none",
         "line": {
          "color": "black",
          "width": 5
         },
         "mode": "lines",
         "type": "scatter3d",
         "x": [
          0.32653852628887875,
          -0.8216546571450994,
          null
         ],
         "y": [
          0.10168251626089096,
          0.4362525822106138,
          null
         ],
         "z": [
          -0.9396984924623115,
          -0.36683417085427134,
          null
         ]
        },
        {
         "hoverinfo": "none",
         "line": {
          "color": "black",
          "width": 3
         },
         "mode": "lines",
         "type": "scatter3d",
         "x": [
          0.32653852628887875,
          0.8597006759110095,
          null
         ],
         "y": [
          0.10168251626089096,
          -0.510773429174399,
          null
         ],
         "z": [
          -0.9396984924623115,
          -0.005025125628140692,
          null
         ]
        },
        {
         "hoverinfo": "none",
         "line": {
          "color": "black",
          "width": 8
         },
         "mode": "lines",
         "type": "scatter3d",
         "x": [
          0.32653852628887875,
          0.9995234698449429,
          null
         ],
         "y": [
          0.10168251626089096,
          -0.026936336813276493,
          null
         ],
         "z": [
          -0.9396984924623115,
          0.015075376884422058,
          null
         ]
        },
        {
         "hoverinfo": "none",
         "line": {
          "color": "black",
          "width": 4
         },
         "mode": "lines",
         "type": "scatter3d",
         "x": [
          0.32653852628887875,
          0.739575014981879,
          null
         ],
         "y": [
          0.10168251626089096,
          0.6715529720883432,
          null
         ],
         "z": [
          -0.9396984924623115,
          0.045226130653266486,
          null
         ]
        },
        {
         "hoverinfo": "none",
         "line": {
          "color": "black",
          "width": 2
         },
         "mode": "lines",
         "type": "scatter3d",
         "x": [
          0.32653852628887875,
          0.06798173585948922,
          null
         ],
         "y": [
          0.10168251626089096,
          0.9948350661714466,
          null
         ],
         "z": [
          -0.9396984924623115,
          0.07537688442211064,
          null
         ]
        },
        {
         "hoverinfo": "none",
         "line": {
          "color": "black",
          "width": 3
         },
         "mode": "lines",
         "type": "scatter3d",
         "x": [
          0.32653852628887875,
          0.7741176022559528,
          null
         ],
         "y": [
          0.10168251626089096,
          -0.5873333961357678,
          null
         ],
         "z": [
          -0.9396984924623115,
          0.23618090452261312,
          null
         ]
        },
        {
         "hoverinfo": "none",
         "line": {
          "color": "black",
          "width": 6
         },
         "mode": "lines",
         "type": "scatter3d",
         "x": [
          0.32653852628887875,
          0.1297116280928751,
          null
         ],
         "y": [
          0.10168251626089096,
          0.24891922943540667,
          null
         ],
         "z": [
          -0.9396984924623115,
          0.9597989949748744,
          null
         ]
        },
        {
         "hoverinfo": "none",
         "line": {
          "color": "black",
          "width": 7
         },
         "mode": "lines",
         "type": "scatter3d",
         "x": [
          0.20130943312962077,
          0.34686968146326486,
          null
         ],
         "y": [
          0.30859141231661874,
          0.4744757592931101,
          null
         ],
         "z": [
          -0.9296482412060302,
          -0.8090452261306532,
          null
         ]
        },
        {
         "hoverinfo": "none",
         "line": {
          "color": "black",
          "width": 8
         },
         "mode": "lines",
         "type": "scatter3d",
         "x": [
          0.20130943312962077,
          -0.021693443738824616,
          null
         ],
         "y": [
          0.30859141231661874,
          0.7858076019752953,
          null
         ],
         "z": [
          -0.9296482412060302,
          -0.6180904522613064,
          null
         ]
        },
        {
         "hoverinfo": "none",
         "line": {
          "color": "black",
          "width": 9
         },
         "mode": "lines",
         "type": "scatter3d",
         "x": [
          0.20130943312962077,
          -0.02552158648393625,
          null
         ],
         "y": [
          0.30859141231661874,
          -0.8552493047655827,
          null
         ],
         "z": [
          -0.9296482412060302,
          -0.5175879396984926,
          null
         ]
        },
        {
         "hoverinfo": "none",
         "line": {
          "color": "black",
          "width": 6
         },
         "mode": "lines",
         "type": "scatter3d",
         "x": [
          0.20130943312962077,
          -0.9365042078689544,
          null
         ],
         "y": [
          0.30859141231661874,
          -0.052303268368663655,
          null
         ],
         "z": [
          -0.9296482412060302,
          -0.3467336683417085,
          null
         ]
        },
        {
         "hoverinfo": "none",
         "line": {
          "color": "black",
          "width": 5
         },
         "mode": "lines",
         "type": "scatter3d",
         "x": [
          0.20130943312962077,
          -0.1643943972580509,
          null
         ],
         "y": [
          0.30859141231661874,
          -0.9407830044644023,
          null
         ],
         "z": [
          -0.9296482412060302,
          -0.29648241206030146,
          null
         ]
        },
        {
         "hoverinfo": "none",
         "line": {
          "color": "black",
          "width": 6
         },
         "mode": "lines",
         "type": "scatter3d",
         "x": [
          0.20130943312962077,
          0.4105859500056902,
          null
         ],
         "y": [
          0.30859141231661874,
          0.8926641829729847,
          null
         ],
         "z": [
          -0.9296482412060302,
          -0.18592964824120606,
          null
         ]
        },
        {
         "hoverinfo": "none",
         "line": {
          "color": "black",
          "width": 4
         },
         "mode": "lines",
         "type": "scatter3d",
         "x": [
          0.20130943312962077,
          -0.8904277233305821,
          null
         ],
         "y": [
          0.30859141231661874,
          0.43744261313650457,
          null
         ],
         "z": [
          -0.9296482412060302,
          -0.12562814070351752,
          null
         ]
        },
        {
         "hoverinfo": "none",
         "line": {
          "color": "black",
          "width": 1
         },
         "mode": "lines",
         "type": "scatter3d",
         "x": [
          0.20130943312962077,
          -0.47275790495820047,
          null
         ],
         "y": [
          0.30859141231661874,
          -0.8787675428113799,
          null
         ],
         "z": [
          -0.9296482412060302,
          -0.06532663316582904,
          null
         ]
        },
        {
         "hoverinfo": "none",
         "line": {
          "color": "black",
          "width": 1
         },
         "mode": "lines",
         "type": "scatter3d",
         "x": [
          0.20130943312962077,
          -0.8109889569592988,
          null
         ],
         "y": [
          0.30859141231661874,
          0.5735317455564173,
          null
         ],
         "z": [
          -0.9296482412060302,
          0.11557788944723603,
          null
         ]
        },
        {
         "hoverinfo": "none",
         "line": {
          "color": "black",
          "width": 3
         },
         "mode": "lines",
         "type": "scatter3d",
         "x": [
          0.20130943312962077,
          -0.6353138707760849,
          null
         ],
         "y": [
          0.30859141231661874,
          0.07249033916421053,
          null
         ],
         "z": [
          -0.9296482412060302,
          0.7688442211055277,
          null
         ]
        },
        {
         "hoverinfo": "none",
         "line": {
          "color": "black",
          "width": 5
         },
         "mode": "lines",
         "type": "scatter3d",
         "x": [
          0.20130943312962077,
          0.0676279462623623,
          null
         ],
         "y": [
          0.30859141231661874,
          -0.12420127151757969,
          null
         ],
         "z": [
          -0.9296482412060302,
          0.9899497487437185,
          null
         ]
        },
        {
         "hoverinfo": "none",
         "line": {
          "color": "black",
          "width": 5
         },
         "mode": "lines",
         "type": "scatter3d",
         "x": [
          0.20130943312962077,
          0,
          null
         ],
         "y": [
          0.30859141231661874,
          0,
          null
         ],
         "z": [
          -0.9296482412060302,
          1,
          null
         ]
        },
        {
         "hoverinfo": "none",
         "line": {
          "color": "black",
          "width": 5
         },
         "mode": "lines",
         "type": "scatter3d",
         "x": [
          -0.02745271035429632,
          0.08426822572670396,
          null
         ],
         "y": [
          0.39190035158772807,
          -0.7006183620080165,
          null
         ],
         "z": [
          -0.9195979899497487,
          -0.7085427135678393,
          null
         ]
        },
        {
         "hoverinfo": "none",
         "line": {
          "color": "black",
          "width": 6
         },
         "mode": "lines",
         "type": "scatter3d",
         "x": [
          -0.02745271035429632,
          -0.7824796533348303,
          null
         ],
         "y": [
          0.39190035158772807,
          -0.5301286325953671,
          null
         ],
         "z": [
          -0.9195979899497487,
          -0.3266331658291457,
          null
         ]
        },
        {
         "hoverinfo": "none",
         "line": {
          "color": "black",
          "width": 7
         },
         "mode": "lines",
         "type": "scatter3d",
         "x": [
          -0.02745271035429632,
          0.9591176411373035,
          null
         ],
         "y": [
          0.39190035158772807,
          -0.1559228360378783,
          null
         ],
         "z": [
          -0.9195979899497487,
          -0.236180904522613,
          null
         ]
        },
        {
         "hoverinfo": "none",
         "line": {
          "color": "black",
          "width": 0
         },
         "mode": "lines",
         "type": "scatter3d",
         "x": [
          -0.02745271035429632,
          0.16898247772841876,
          null
         ],
         "y": [
          0.39190035158772807,
          0.9697996493796973,
          null
         ],
         "z": [
          -0.9195979899497487,
          -0.17587939698492466,
          null
         ]
        },
        {
         "hoverinfo": "none",
         "line": {
          "color": "black",
          "width": 3
         },
         "mode": "lines",
         "type": "scatter3d",
         "x": [
          -0.02745271035429632,
          0.2674492764124154,
          null
         ],
         "y": [
          0.39190035158772807,
          -0.9629296662036767,
          null
         ],
         "z": [
          -0.9195979899497487,
          -0.035175879396985035,
          null
         ]
        },
        {
         "hoverinfo": "none",
         "line": {
          "color": "black",
          "width": 9
         },
         "mode": "lines",
         "type": "scatter3d",
         "x": [
          -0.02745271035429632,
          -0.9047419231328161,
          null
         ],
         "y": [
          0.39190035158772807,
          -0.39645300927462035,
          null
         ],
         "z": [
          -0.9195979899497487,
          0.15577889447236173,
          null
         ]
        },
        {
         "hoverinfo": "none",
         "line": {
          "color": "black",
          "width": 9
         },
         "mode": "lines",
         "type": "scatter3d",
         "x": [
          -0.02745271035429632,
          -0.6386889828957023,
          null
         ],
         "y": [
          0.39190035158772807,
          -0.6529921505841256,
          null
         ],
         "z": [
          -0.9195979899497487,
          0.4070351758793972,
          null
         ]
        },
        {
         "hoverinfo": "none",
         "line": {
          "color": "black",
          "width": 3
         },
         "mode": "lines",
         "type": "scatter3d",
         "x": [
          -0.02745271035429632,
          0.8715636126463255,
          null
         ],
         "y": [
          0.39190035158772807,
          -0.05274333023114333,
          null
         ],
         "z": [
          -0.9195979899497487,
          0.48743718592964813,
          null
         ]
        },
        {
         "hoverinfo": "none",
         "line": {
          "color": "black",
          "width": 6
         },
         "mode": "lines",
         "type": "scatter3d",
         "x": [
          -0.02745271035429632,
          -0.1341208174448031,
          null
         ],
         "y": [
          0.39190035158772807,
          0.8258292378007893,
          null
         ],
         "z": [
          -0.9195979899497487,
          0.5477386934673367,
          null
         ]
        },
        {
         "hoverinfo": "none",
         "line": {
          "color": "black",
          "width": 4
         },
         "mode": "lines",
         "type": "scatter3d",
         "x": [
          -0.02745271035429632,
          -0.09075695184030583,
          null
         ],
         "y": [
          0.39190035158772807,
          -0.7645099613068972,
          null
         ],
         "z": [
          -0.9195979899497487,
          0.6381909547738693,
          null
         ]
        },
        {
         "hoverinfo": "none",
         "line": {
          "color": "black",
          "width": 7
         },
         "mode": "lines",
         "type": "scatter3d",
         "x": [
          -0.02745271035429632,
          0.5810756220933079,
          null
         ],
         "y": [
          0.39190035158772807,
          -0.46440336134774246,
          null
         ],
         "z": [
          -0.9195979899497487,
          0.6683417085427135,
          null
         ]
        },
        {
         "hoverinfo": "none",
         "line": {
          "color": "black",
          "width": 2
         },
         "mode": "lines",
         "type": "scatter3d",
         "x": [
          -0.02745271035429632,
          -0.6353138707760849,
          null
         ],
         "y": [
          0.39190035158772807,
          0.07249033916421053,
          null
         ],
         "z": [
          -0.9195979899497487,
          0.7688442211055277,
          null
         ]
        },
        {
         "hoverinfo": "none",
         "line": {
          "color": "black",
          "width": 2
         },
         "mode": "lines",
         "type": "scatter3d",
         "x": [
          -0.02745271035429632,
          -0.18633022541047584,
          null
         ],
         "y": [
          0.39190035158772807,
          -0.3458620880912837,
          null
         ],
         "z": [
          -0.9195979899497487,
          0.9195979899497488,
          null
         ]
        },
        {
         "hoverinfo": "none",
         "line": {
          "color": "black",
          "width": 1
         },
         "mode": "lines",
         "type": "scatter3d",
         "x": [
          -0.2621154032369282,
          0.11556281947391066,
          null
         ],
         "y": [
          0.3225188776235315,
          -0.49825173363421427,
          null
         ],
         "z": [
          -0.9095477386934674,
          -0.8592964824120604,
          null
         ]
        },
        {
         "hoverinfo": "none",
         "line": {
          "color": "black",
          "width": 9
         },
         "mode": "lines",
         "type": "scatter3d",
         "x": [
          -0.2621154032369282,
          -0.16600286298928865,
          null
         ],
         "y": [
          0.3225188776235315,
          -0.6753274764028482,
          null
         ],
         "z": [
          -0.9095477386934674,
          -0.7185929648241206,
          null
         ]
        },
        {
         "hoverinfo": "none",
         "line": {
          "color": "black",
          "width": 6
         },
         "mode": "lines",
         "type": "scatter3d",
         "x": [
          -0.2621154032369282,
          -0.4951054392952383,
          null
         ],
         "y": [
          0.3225188776235315,
          0.6303004235916108,
          null
         ],
         "z": [
          -0.9095477386934674,
          -0.5979899497487439,
          null
         ]
        },
        {
         "hoverinfo": "none",
         "line": {
          "color": "black",
          "width": 1
         },
         "mode": "lines",
         "type": "scatter3d",
         "x": [
          -0.2621154032369282,
          0.9134816304942963,
          null
         ],
         "y": [
          0.3225188776235315,
          0.3447616141867552,
          null
         ],
         "z": [
          -0.9095477386934674,
          -0.21608040201005033,
          null
         ]
        },
        {
         "hoverinfo": "none",
         "line": {
          "color": "black",
          "width": 1
         },
         "mode": "lines",
         "type": "scatter3d",
         "x": [
          -0.2621154032369282,
          0.7958335820929668,
          null
         ],
         "y": [
          0.3225188776235315,
          0.5693860611162309,
          null
         ],
         "z": [
          -0.9095477386934674,
          -0.20603015075376888,
          null
         ]
        },
        {
         "hoverinfo": "none",
         "line": {
          "color": "black",
          "width": 3
         },
         "mode": "lines",
         "type": "scatter3d",
         "x": [
          -0.2621154032369282,
          0.9738814815414809,
          null
         ],
         "y": [
          0.3225188776235315,
          0.22566249737407673,
          null
         ],
         "z": [
          -0.9095477386934674,
          0.025125628140703616,
          null
         ]
        },
        {
         "hoverinfo": "none",
         "line": {
          "color": "black",
          "width": 9
         },
         "mode": "lines",
         "type": "scatter3d",
         "x": [
          -0.2621154032369282,
          0.5799931250776793,
          null
         ],
         "y": [
          0.3225188776235315,
          0.6290554026008339,
          null
         ],
         "z": [
          -0.9095477386934674,
          0.5175879396984923,
          null
         ]
        },
        {
         "hoverinfo": "none",
         "line": {
          "color": "black",
          "width": 6
         },
         "mode": "lines",
         "type": "scatter3d",
         "x": [
          -0.2621154032369282,
          -0.09075695184030583,
          null
         ],
         "y": [
          0.3225188776235315,
          -0.7645099613068972,
          null
         ],
         "z": [
          -0.9095477386934674,
          0.6381909547738693,
          null
         ]
        },
        {
         "hoverinfo": "none",
         "line": {
          "color": "black",
          "width": 8
         },
         "mode": "lines",
         "type": "scatter3d",
         "x": [
          -0.2621154032369282,
          0.36776528457450497,
          null
         ],
         "y": [
          0.3225188776235315,
          0.35546905741019574,
          null
         ],
         "z": [
          -0.9095477386934674,
          0.8592964824120604,
          null
         ]
        },
        {
         "hoverinfo": "none",
         "line": {
          "color": "black",
          "width": 0
         },
         "mode": "lines",
         "type": "scatter3d",
         "x": [
          -0.2621154032369282,
          -0.42956390914738973,
          null
         ],
         "y": [
          0.3225188776235315,
          0.07986938119331266,
          null
         ],
         "z": [
          -0.9095477386934674,
          0.8994974874371859,
          null
         ]
        },
        {
         "hoverinfo": "none",
         "line": {
          "color": "black",
          "width": 3
         },
         "mode": "lines",
         "type": "scatter3d",
         "x": [
          -0.4166634044954904,
          0.6211402465143849,
          null
         ],
         "y": [
          0.1315137918562799,
          0.44041813423680065,
          null
         ],
         "z": [
          -0.8994974874371859,
          -0.6482412060301509,
          null
         ]
        },
        {
         "hoverinfo": "none",
         "line": {
          "color": "black",
          "width": 8
         },
         "mode": "lines",
         "type": "scatter3d",
         "x": [
          -0.4166634044954904,
          0.9692141584109936,
          null
         ],
         "y": [
          0.1315137918562799,
          0.09741069134859666,
          null
         ],
         "z": [
          -0.8994974874371859,
          -0.2261306532663317,
          null
         ]
        },
        {
         "hoverinfo": "none",
         "line": {
          "color": "black",
          "width": 3
         },
         "mode": "lines",
         "type": "scatter3d",
         "x": [
          -0.4166634044954904,
          -0.678728644568649,
          null
         ],
         "y": [
          0.1315137918562799,
          -0.730510610694205,
          null
         ],
         "z": [
          -0.8994974874371859,
          -0.07537688442211053,
          null
         ]
        },
        {
         "hoverinfo": "none",
         "line": {
          "color": "black",
          "width": 0
         },
         "mode": "lines",
         "type": "scatter3d",
         "x": [
          -0.4166634044954904,
          0.016183422624492533,
          null
         ],
         "y": [
          0.1315137918562799,
          -0.9988456807426714,
          null
         ],
         "z": [
          -0.8994974874371859,
          -0.04522613065326637,
          null
         ]
        },
        {
         "hoverinfo": "none",
         "line": {
          "color": "black",
          "width": 6
         },
         "mode": "lines",
         "type": "scatter3d",
         "x": [
          -0.4166634044954904,
          -0.9288482441833449,
          null
         ],
         "y": [
          0.1315137918562799,
          0.3485089805742379,
          null
         ],
         "z": [
          -0.8994974874371859,
          0.12562814070351763,
          null
         ]
        },
        {
         "hoverinfo": "none",
         "line": {
          "color": "black",
          "width": 6
         },
         "mode": "lines",
         "type": "scatter3d",
         "x": [
          -0.4166634044954904,
          0.8829535645133417,
          null
         ],
         "y": [
          0.1315137918562799,
          0.37948128147239324,
          null
         ],
         "z": [
          -0.8994974874371859,
          0.2763819095477386,
          null
         ]
        },
        {
         "hoverinfo": "none",
         "line": {
          "color": "black",
          "width": 2
         },
         "mode": "lines",
         "type": "scatter3d",
         "x": [
          -0.4166634044954904,
          0.8440290778788562,
          null
         ],
         "y": [
          0.1315137918562799,
          0.20030268479764154,
          null
         ],
         "z": [
          -0.8994974874371859,
          0.49748743718592975,
          null
         ]
        },
        {
         "hoverinfo": "none",
         "line": {
          "color": "black",
          "width": 3
         },
         "mode": "lines",
         "type": "scatter3d",
         "x": [
          -0.4166634044954904,
          0.30775790638944817,
          null
         ],
         "y": [
          0.1315137918562799,
          0.0571173779137144,
          null
         ],
         "z": [
          -0.8994974874371859,
          0.949748743718593,
          null
         ]
        },
        {
         "hoverinfo": "none",
         "line": {
          "color": "black",
          "width": 0
         },
         "mode": "lines",
         "type": "scatter3d",
         "x": [
          -0.44268961941831086,
          -0.6702820247214136,
          null
         ],
         "y": [
          -0.11362004624810425,
          0.639280955219031,
          null
         ],
         "z": [
          -0.8894472361809045,
          -0.37688442211055273,
          null
         ]
        },
        {
         "hoverinfo": "none",
         "line": {
          "color": "black",
          "width": 8
         },
         "mode": "lines",
         "type": "scatter3d",
         "x": [
          -0.44268961941831086,
          -0.9047419231328161,
          null
         ],
         "y": [
          -0.11362004624810425,
          -0.39645300927462035,
          null
         ],
         "z": [
          -0.8894472361809045,
          0.15577889447236173,
          null
         ]
        },
        {
         "hoverinfo": "none",
         "line": {
          "color": "black",
          "width": 9
         },
         "mode": "lines",
         "type": "scatter3d",
         "x": [
          -0.44268961941831086,
          -0.4034742971178234,
          null
         ],
         "y": [
          -0.11362004624810425,
          0.8507953738854946,
          null
         ],
         "z": [
          -0.8894472361809045,
          0.3366834170854272,
          null
         ]
        },
        {
         "hoverinfo": "none",
         "line": {
          "color": "black",
          "width": 1
         },
         "mode": "lines",
         "type": "scatter3d",
         "x": [
          -0.44268961941831086,
          -0.7924588501224821,
          null
         ],
         "y": [
          -0.11362004624810425,
          -0.12007077438764355,
          null
         ],
         "z": [
          -0.8894472361809045,
          0.5979899497487438,
          null
         ]
        },
        {
         "hoverinfo": "none",
         "line": {
          "color": "black",
          "width": 7
         },
         "mode": "lines",
         "type": "scatter3d",
         "x": [
          -0.44268961941831086,
          -0.3292415201774607,
          null
         ],
         "y": [
          -0.11362004624810425,
          0.31699153843814987,
          null
         ],
         "z": [
          -0.8894472361809045,
          0.8894472361809045,
          null
         ]
        },
        {
         "hoverinfo": "none",
         "line": {
          "color": "black",
          "width": 6
         },
         "mode": "lines",
         "type": "scatter3d",
         "x": [
          -0.44268961941831086,
          -0.3779945609644943,
          null
         ],
         "y": [
          -0.11362004624810425,
          -0.17275133261095033,
          null
         ],
         "z": [
          -0.8894472361809045,
          0.9095477386934674,
          null
         ]
        },
        {
         "hoverinfo": "none",
         "line": {
          "color": "black",
          "width": 6
         },
         "mode": "lines",
         "type": "scatter3d",
         "x": [
          -0.3364695168897425,
          0.7427005070540483,
          null
         ],
         "y": [
          -0.3368222188476665,
          -0.0414163910048412,
          null
         ],
         "z": [
          -0.8793969849246231,
          -0.6683417085427136,
          null
         ]
        },
        {
         "hoverinfo": "none",
         "line": {
          "color": "black",
          "width": 1
         },
         "mode": "lines",
         "type": "scatter3d",
         "x": [
          -0.3364695168897425,
          -0.02552158648393625,
          null
         ],
         "y": [
          -0.3368222188476665,
          -0.8552493047655827,
          null
         ],
         "z": [
          -0.8793969849246231,
          -0.5175879396984926,
          null
         ]
        },
        {
         "hoverinfo": "none",
         "line": {
          "color": "black",
          "width": 4
         },
         "mode": "lines",
         "type": "scatter3d",
         "x": [
          -0.3364695168897425,
          -0.4311344860611112,
          null
         ],
         "y": [
          -0.3368222188476665,
          -0.8001017444049664,
          null
         ],
         "z": [
          -0.8793969849246231,
          0.41708542713567837,
          null
         ]
        },
        {
         "hoverinfo": "none",
         "line": {
          "color": "black",
          "width": 0
         },
         "mode": "lines",
         "type": "scatter3d",
         "x": [
          -0.3364695168897425,
          0.5212824240995492,
          null
         ],
         "y": [
          -0.3368222188476665,
          0.47563836827449124,
          null
         ],
         "z": [
          -0.8793969849246231,
          0.7085427135678393,
          null
         ]
        },
        {
         "hoverinfo": "none",
         "line": {
          "color": "black",
          "width": 6
         },
         "mode": "lines",
         "type": "scatter3d",
         "x": [
          -0.3364695168897425,
          0.06389728976483165,
          null
         ],
         "y": [
          -0.3368222188476665,
          0.6819062985636061,
          null
         ],
         "z": [
          -0.8793969849246231,
          0.728643216080402,
          null
         ]
        },
        {
         "hoverinfo": "none",
         "line": {
          "color": "black",
          "width": 9
         },
         "mode": "lines",
         "type": "scatter3d",
         "x": [
          -0.3364695168897425,
          -0.4107215962272207,
          null
         ],
         "y": [
          -0.3368222188476665,
          0.5202793617472665,
          null
         ],
         "z": [
          -0.8793969849246231,
          0.7487437185929648,
          null
         ]
        },
        {
         "hoverinfo": "none",
         "line": {
          "color": "black",
          "width": 5
         },
         "mode": "lines",
         "type": "scatter3d",
         "x": [
          -0.3364695168897425,
          0.24223438436005945,
          null
         ],
         "y": [
          -0.3368222188476665,
          -0.5200049057056794,
          null
         ],
         "z": [
          -0.8793969849246231,
          0.8190954773869348,
          null
         ]
        },
        {
         "hoverinfo": "none",
         "line": {
          "color": "black",
          "width": 9
         },
         "mode": "lines",
         "type": "scatter3d",
         "x": [
          -0.3364695168897425,
          0.30775790638944817,
          null
         ],
         "y": [
          -0.3368222188476665,
          0.0571173779137144,
          null
         ],
         "z": [
          -0.8793969849246231,
          0.949748743718593,
          null
         ]
        },
        {
         "hoverinfo": "none",
         "line": {
          "color": "black",
          "width": 1
         },
         "mode": "lines",
         "type": "scatter3d",
         "x": [
          -0.13171703525515455,
          0.722933490894233,
          null
         ],
         "y": [
          -0.4763264419321875,
          0.20980830538180167,
          null
         ],
         "z": [
          -0.8693467336683418,
          -0.6582914572864321,
          null
         ]
        },
        {
         "hoverinfo": "none",
         "line": {
          "color": "black",
          "width": 4
         },
         "mode": "lines",
         "type": "scatter3d",
         "x": [
          -0.13171703525515455,
          -0.27091571301396306,
          null
         ],
         "y": [
          -0.4763264419321875,
          0.7462518277390714,
          null
         ],
         "z": [
          -0.8693467336683418,
          -0.6080402010050251,
          null
         ]
        },
        {
         "hoverinfo": "none",
         "line": {
          "color": "black",
          "width": 0
         },
         "mode": "lines",
         "type": "scatter3d",
         "x": [
          -0.13171703525515455,
          0.8801565810810618,
          null
         ],
         "y": [
          -0.4763264419321875,
          0.1273322886833448,
          null
         ],
         "z": [
          -0.8693467336683418,
          -0.45728643216080395,
          null
         ]
        },
        {
         "hoverinfo": "none",
         "line": {
          "color": "black",
          "width": 9
         },
         "mode": "lines",
         "type": "scatter3d",
         "x": [
          -0.13171703525515455,
          0.9606193521054072,
          null
         ],
         "y": [
          -0.4763264419321875,
          -0.27782226057861037,
          null
         ],
         "z": [
          -0.8693467336683418,
          0.005025125628140593,
          null
         ]
        },
        {
         "hoverinfo": "none",
         "line": {
          "color": "black",
          "width": 3
         },
         "mode": "lines",
         "type": "scatter3d",
         "x": [
          -0.13171703525515455,
          -0.11973939666335258,
          null
         ],
         "y": [
          -0.4763264419321875,
          -0.9732699296082516,
          null
         ],
         "z": [
          -0.8693467336683418,
          0.19597989949748745,
          null
         ]
        },
        {
         "hoverinfo": "none",
         "line": {
          "color": "black",
          "width": 3
         },
         "mode": "lines",
         "type": "scatter3d",
         "x": [
          -0.13171703525515455,
          0.5646952188368541,
          null
         ],
         "y": [
          -0.4763264419321875,
          0.7702061342015544,
          null
         ],
         "z": [
          -0.8693467336683418,
          0.29648241206030157,
          null
         ]
        },
        {
         "hoverinfo": "none",
         "line": {
          "color": "black",
          "width": 0
         },
         "mode": "lines",
         "type": "scatter3d",
         "x": [
          -0.13171703525515455,
          0.09172592356847682,
          null
         ],
         "y": [
          -0.4763264419321875,
          0.9441194909258364,
          null
         ],
         "z": [
          -0.8693467336683418,
          0.3165829145728642,
          null
         ]
        },
        {
         "hoverinfo": "none",
         "line": {
          "color": "black",
          "width": 8
         },
         "mode": "lines",
         "type": "scatter3d",
         "x": [
          -0.13171703525515455,
          -0.7793130144557557,
          null
         ],
         "y": [
          -0.4763264419321875,
          0.515147027766033,
          null
         ],
         "z": [
          -0.8693467336683418,
          0.3567839195979901,
          null
         ]
        },
        {
         "hoverinfo": "none",
         "line": {
          "color": "black",
          "width": 3
         },
         "mode": "lines",
         "type": "scatter3d",
         "x": [
          -0.13171703525515455,
          0.12037404304848949,
          null
         ],
         "y": [
          -0.4763264419321875,
          0.834506578088399,
          null
         ],
         "z": [
          -0.8693467336683418,
          0.5376884422110553,
          null
         ]
        },
        {
         "hoverinfo": "none",
         "line": {
          "color": "black",
          "width": 1
         },
         "mode": "lines",
         "type": "scatter3d",
         "x": [
          -0.13171703525515455,
          -0.4107215962272207,
          null
         ],
         "y": [
          -0.4763264419321875,
          0.5202793617472665,
          null
         ],
         "z": [
          -0.8693467336683418,
          0.7487437185929648,
          null
         ]
        },
        {
         "hoverinfo": "none",
         "line": {
          "color": "black",
          "width": 5
         },
         "mode": "lines",
         "type": "scatter3d",
         "x": [
          -0.13171703525515455,
          -0.11657616359218419,
          null
         ],
         "y": [
          -0.4763264419321875,
          0.4615960799092759,
          null
         ],
         "z": [
          -0.8693467336683418,
          0.879396984924623,
          null
         ]
        },
        {
         "hoverinfo": "none",
         "line": {
          "color": "black",
          "width": 1
         },
         "mode": "lines",
         "type": "scatter3d",
         "x": [
          0.11556281947391066,
          0.46009396672206704,
          null
         ],
         "y": [
          -0.49825173363421427,
          -0.73540450884403,
          null
         ],
         "z": [
          -0.8592964824120604,
          -0.4974874371859297,
          null
         ]
        },
        {
         "hoverinfo": "none",
         "line": {
          "color": "black",
          "width": 2
         },
         "mode": "lines",
         "type": "scatter3d",
         "x": [
          0.11556281947391066,
          0.7480816348934248,
          null
         ],
         "y": [
          -0.49825173363421427,
          -0.6121222981915062,
          null
         ],
         "z": [
          -0.8592964824120604,
          -0.25628140703517577,
          null
         ]
        },
        {
         "hoverinfo": "none",
         "line": {
          "color": "black",
          "width": 5
         },
         "mode": "lines",
         "type": "scatter3d",
         "x": [
          0.11556281947391066,
          -0.9774199655907337,
          null
         ],
         "y": [
          -0.49825173363421427,
          -0.15301429152536394,
          null
         ],
         "z": [
          -0.8592964824120604,
          0.14572864321608045,
          null
         ]
        },
        {
         "hoverinfo": "none",
         "line": {
          "color": "black",
          "width": 0
         },
         "mode": "lines",
         "type": "scatter3d",
         "x": [
          0.11556281947391066,
          0.0632016554808522,
          null
         ],
         "y": [
          -0.49825173363421427,
          -0.8971477100578715,
          null
         ],
         "z": [
          -0.8592964824120604,
          0.43718592964824127,
          null
         ]
        },
        {
         "hoverinfo": "none",
         "line": {
          "color": "black",
          "width": 7
         },
         "mode": "lines",
         "type": "scatter3d",
         "x": [
          0.11556281947391066,
          -0.46736094041360504,
          null
         ],
         "y": [
          -0.49825173363421427,
          -0.3989235195509105,
          null
         ],
         "z": [
          -0.8592964824120604,
          0.7889447236180904,
          null
         ]
        },
        {
         "hoverinfo": "none",
         "line": {
          "color": "black",
          "width": 4
         },
         "mode": "lines",
         "type": "scatter3d",
         "x": [
          0.11556281947391066,
          -0.3292415201774607,
          null
         ],
         "y": [
          -0.49825173363421427,
          0.31699153843814987,
          null
         ],
         "z": [
          -0.8592964824120604,
          0.8894472361809045,
          null
         ]
        },
        {
         "hoverinfo": "none",
         "line": {
          "color": "black",
          "width": 8
         },
         "mode": "lines",
         "type": "scatter3d",
         "x": [
          0.11556281947391066,
          0.0720199661208389,
          null
         ],
         "y": [
          -0.49825173363421427,
          -0.3613409361011954,
          null
         ],
         "z": [
          -0.8592964824120604,
          0.9296482412060301,
          null
         ]
        },
        {
         "hoverinfo": "none",
         "line": {
          "color": "black",
          "width": 0
         },
         "mode": "lines",
         "type": "scatter3d",
         "x": [
          0.3441774570903987,
          0.44943909472304994,
          null
         ],
         "y": [
          -0.4004031929174544,
          0.6250734399887283,
          null
         ],
         "z": [
          -0.8492462311557788,
          -0.6381909547738694,
          null
         ]
        },
        {
         "hoverinfo": "none",
         "line": {
          "color": "black",
          "width": 7
         },
         "mode": "lines",
         "type": "scatter3d",
         "x": [
          0.3441774570903987,
          0.6563279444247275,
          null
         ],
         "y": [
          -0.4004031929174544,
          -0.575880733433753,
          null
         ],
         "z": [
          -0.8492462311557788,
          -0.48743718592964824,
          null
         ]
        },
        {
         "hoverinfo": "none",
         "line": {
          "color": "black",
          "width": 8
         },
         "mode": "lines",
         "type": "scatter3d",
         "x": [
          0.3441774570903987,
          0.5613571369223281,
          null
         ],
         "y": [
          -0.4004031929174544,
          -0.7835468158432456,
          null
         ],
         "z": [
          -0.8492462311557788,
          -0.2663316582914572,
          null
         ]
        },
        {
         "hoverinfo": "none",
         "line": {
          "color": "black",
          "width": 5
         },
         "mode": "lines",
         "type": "scatter3d",
         "x": [
          0.3441774570903987,
          0.9692141584109936,
          null
         ],
         "y": [
          -0.4004031929174544,
          0.09741069134859666,
          null
         ],
         "z": [
          -0.8492462311557788,
          -0.2261306532663317,
          null
         ]
        },
        {
         "hoverinfo": "none",
         "line": {
          "color": "black",
          "width": 5
         },
         "mode": "lines",
         "type": "scatter3d",
         "x": [
          0.3441774570903987,
          0.5799931250776793,
          null
         ],
         "y": [
          -0.4004031929174544,
          0.6290554026008339,
          null
         ],
         "z": [
          -0.8492462311557788,
          0.5175879396984923,
          null
         ]
        },
        {
         "hoverinfo": "none",
         "line": {
          "color": "black",
          "width": 4
         },
         "mode": "lines",
         "type": "scatter3d",
         "x": [
          0.3441774570903987,
          0.1633089131200265,
          null
         ],
         "y": [
          -0.4004031929174544,
          -0.7437160329723511,
          null
         ],
         "z": [
          -0.8492462311557788,
          0.6482412060301508,
          null
         ]
        },
        {
         "hoverinfo": "none",
         "line": {
          "color": "black",
          "width": 6
         },
         "mode": "lines",
         "type": "scatter3d",
         "x": [
          0.3441774570903987,
          0.5212824240995492,
          null
         ],
         "y": [
          -0.4004031929174544,
          0.47563836827449124,
          null
         ],
         "z": [
          -0.8492462311557788,
          0.7085427135678393,
          null
         ]
        },
        {
         "hoverinfo": "none",
         "line": {
          "color": "black",
          "width": 0
         },
         "mode": "lines",
         "type": "scatter3d",
         "x": [
          0.5024359229003386,
          -0.6419805478430175,
          null
         ],
         "y": [
          -0.20810634468897715,
          0.10996675639301308,
          null
         ],
         "z": [
          -0.8391959798994973,
          -0.7587939698492463,
          null
         ]
        },
        {
         "hoverinfo": "none",
         "line": {
          "color": "black",
          "width": 5
         },
         "mode": "lines",
         "type": "scatter3d",
         "x": [
          0.5024359229003386,
          0.22617275089540043,
          null
         ],
         "y": [
          -0.20810634468897715,
          -0.8314152882664261,
          null
         ],
         "z": [
          -0.8391959798994973,
          -0.5075376884422109,
          null
         ]
        },
        {
         "hoverinfo": "none",
         "line": {
          "color": "black",
          "width": 8
         },
         "mode": "lines",
         "type": "scatter3d",
         "x": [
          0.5024359229003386,
          0.3363668860791254,
          null
         ],
         "y": [
          -0.20810634468897715,
          -0.9002612720894853,
          null
         ],
         "z": [
          -0.8391959798994973,
          -0.2763819095477387,
          null
         ]
        },
        {
         "hoverinfo": "none",
         "line": {
          "color": "black",
          "width": 2
         },
         "mode": "lines",
         "type": "scatter3d",
         "x": [
          0.5024359229003386,
          -0.9475723752818175,
          null
         ],
         "y": [
          -0.20810634468897715,
          -0.30494370330751364,
          null
         ],
         "z": [
          -0.8391959798994973,
          -0.09547738693467336,
          null
         ]
        },
        {
         "hoverinfo": "none",
         "line": {
          "color": "black",
          "width": 5
         },
         "mode": "lines",
         "type": "scatter3d",
         "x": [
          0.5024359229003386,
          -0.678728644568649,
          null
         ],
         "y": [
          -0.20810634468897715,
          -0.730510610694205,
          null
         ],
         "z": [
          -0.8391959798994973,
          -0.07537688442211053,
          null
         ]
        },
        {
         "hoverinfo": "none",
         "line": {
          "color": "black",
          "width": 4
         },
         "mode": "lines",
         "type": "scatter3d",
         "x": [
          0.5024359229003386,
          0.9995234698449429,
          null
         ],
         "y": [
          -0.20810634468897715,
          -0.026936336813276493,
          null
         ],
         "z": [
          -0.8391959798994973,
          0.015075376884422058,
          null
         ]
        },
        {
         "hoverinfo": "none",
         "line": {
          "color": "black",
          "width": 3
         },
         "mode": "lines",
         "type": "scatter3d",
         "x": [
          0.5024359229003386,
          0.9738814815414809,
          null
         ],
         "y": [
          -0.20810634468897715,
          0.22566249737407673,
          null
         ],
         "z": [
          -0.8391959798994973,
          0.025125628140703616,
          null
         ]
        },
        {
         "hoverinfo": "none",
         "line": {
          "color": "black",
          "width": 2
         },
         "mode": "lines",
         "type": "scatter3d",
         "x": [
          0.5024359229003386,
          0.06798173585948922,
          null
         ],
         "y": [
          -0.20810634468897715,
          0.9948350661714466,
          null
         ],
         "z": [
          -0.8391959798994973,
          0.07537688442211064,
          null
         ]
        },
        {
         "hoverinfo": "none",
         "line": {
          "color": "black",
          "width": 7
         },
         "mode": "lines",
         "type": "scatter3d",
         "x": [
          0.5024359229003386,
          -0.7722794062760031,
          null
         ],
         "y": [
          -0.20810634468897715,
          -0.6132578683301932,
          null
         ],
         "z": [
          -0.8391959798994973,
          0.16582914572864324,
          null
         ]
        },
        {
         "hoverinfo": "none",
         "line": {
          "color": "black",
          "width": 2
         },
         "mode": "lines",
         "type": "scatter3d",
         "x": [
          0.5024359229003386,
          0.3399549164860912,
          null
         ],
         "y": [
          -0.20810634468897715,
          0.8890828876302689,
          null
         ],
         "z": [
          -0.8391959798994973,
          0.30653266331658297,
          null
         ]
        },
        {
         "hoverinfo": "none",
         "line": {
          "color": "black",
          "width": 9
         },
         "mode": "lines",
         "type": "scatter3d",
         "x": [
          0.5024359229003386,
          -0.6143899953864282,
          null
         ],
         "y": [
          -0.20810634468897715,
          0.7087317523628855,
          null
         ],
         "z": [
          -0.8391959798994973,
          0.3467336683417086,
          null
         ]
        },
        {
         "hoverinfo": "none",
         "line": {
          "color": "black",
          "width": 7
         },
         "mode": "lines",
         "type": "scatter3d",
         "x": [
          0.5024359229003386,
          -0.6386889828957023,
          null
         ],
         "y": [
          -0.20810634468897715,
          -0.6529921505841256,
          null
         ],
         "z": [
          -0.8391959798994973,
          0.4070351758793972,
          null
         ]
        },
        {
         "hoverinfo": "none",
         "line": {
          "color": "black",
          "width": 8
         },
         "mode": "lines",
         "type": "scatter3d",
         "x": [
          0.5024359229003386,
          0.7440964149681661,
          null
         ],
         "y": [
          -0.20810634468897715,
          0.4344260812178058,
          null
         ],
         "z": [
          -0.8391959798994973,
          0.5075376884422113,
          null
         ]
        },
        {
         "hoverinfo": "none",
         "line": {
          "color": "black",
          "width": 3
         },
         "mode": "lines",
         "type": "scatter3d",
         "x": [
          0.5024359229003386,
          -0.11657616359218419,
          null
         ],
         "y": [
          -0.20810634468897715,
          0.4615960799092759,
          null
         ],
         "z": [
          -0.8391959798994973,
          0.879396984924623,
          null
         ]
        },
        {
         "hoverinfo": "none",
         "line": {
          "color": "black",
          "width": 6
         },
         "mode": "lines",
         "type": "scatter3d",
         "x": [
          0.557934993565241,
          0.5334469074912569,
          null
         ],
         "y": [
          0.035012906592636533,
          -0.49140789465100837,
          null
         ],
         "z": [
          -0.8291457286432161,
          -0.6884422110552765,
          null
         ]
        },
        {
         "hoverinfo": "none",
         "line": {
          "color": "black",
          "width": 5
         },
         "mode": "lines",
         "type": "scatter3d",
         "x": [
          0.557934993565241,
          -0.8227463645485272,
          null
         ],
         "y": [
          0.035012906592636533,
          -0.025437514247334803,
          null
         ],
         "z": [
          -0.8291457286432161,
          -0.5678391959798994,
          null
         ]
        },
        {
         "hoverinfo": "none",
         "line": {
          "color": "black",
          "width": 7
         },
         "mode": "lines",
         "type": "scatter3d",
         "x": [
          0.557934993565241,
          -0.8216546571450994,
          null
         ],
         "y": [
          0.035012906592636533,
          0.4362525822106138,
          null
         ],
         "z": [
          -0.8291457286432161,
          -0.36683417085427134,
          null
         ]
        },
        {
         "hoverinfo": "none",
         "line": {
          "color": "black",
          "width": 0
         },
         "mode": "lines",
         "type": "scatter3d",
         "x": [
          0.557934993565241,
          -0.1643943972580509,
          null
         ],
         "y": [
          0.035012906592636533,
          -0.9407830044644023,
          null
         ],
         "z": [
          -0.8291457286432161,
          -0.29648241206030146,
          null
         ]
        },
        {
         "hoverinfo": "none",
         "line": {
          "color": "black",
          "width": 5
         },
         "mode": "lines",
         "type": "scatter3d",
         "x": [
          0.557934993565241,
          -0.33250966656464714,
          null
         ],
         "y": [
          0.035012906592636533,
          0.9301452884781152,
          null
         ],
         "z": [
          -0.8291457286432161,
          -0.15577889447236182,
          null
         ]
        },
        {
         "hoverinfo": "none",
         "line": {
          "color": "black",
          "width": 1
         },
         "mode": "lines",
         "type": "scatter3d",
         "x": [
          0.557934993565241,
          0.9592929774959421,
          null
         ],
         "y": [
          0.035012906592636533,
          -0.11864579105488865,
          null
         ],
         "z": [
          -0.8291457286432161,
          0.25628140703517593,
          null
         ]
        },
        {
         "hoverinfo": "none",
         "line": {
          "color": "black",
          "width": 7
         },
         "mode": "lines",
         "type": "scatter3d",
         "x": [
          0.557934993565241,
          0.09172592356847682,
          null
         ],
         "y": [
          0.035012906592636533,
          0.9441194909258364,
          null
         ],
         "z": [
          -0.8291457286432161,
          0.3165829145728642,
          null
         ]
        },
        {
         "hoverinfo": "none",
         "line": {
          "color": "black",
          "width": 3
         },
         "mode": "lines",
         "type": "scatter3d",
         "x": [
          0.557934993565241,
          -0.7975160188443354,
          null
         ],
         "y": [
          0.035012906592636533,
          -0.45428093654550455,
          null
         ],
         "z": [
          -0.8291457286432161,
          0.3969849246231157,
          null
         ]
        },
        {
         "hoverinfo": "none",
         "line": {
          "color": "black",
          "width": 3
         },
         "mode": "lines",
         "type": "scatter3d",
         "x": [
          0.557934993565241,
          -0.5505913149039414,
          null
         ],
         "y": [
          0.035012906592636533,
          -0.5610823440242639,
          null
         ],
         "z": [
          -0.8291457286432161,
          0.6180904522613064,
          null
         ]
        },
        {
         "hoverinfo": "none",
         "line": {
          "color": "black",
          "width": 2
         },
         "mode": "lines",
         "type": "scatter3d",
         "x": [
          0.5016558508965476,
          0.34686968146326486,
          null
         ],
         "y": [
          0.27825169574601083,
          0.4744757592931101,
          null
         ],
         "z": [
          -0.8190954773869346,
          -0.8090452261306532,
          null
         ]
        },
        {
         "hoverinfo": "none",
         "line": {
          "color": "black",
          "width": 2
         },
         "mode": "lines",
         "type": "scatter3d",
         "x": [
          0.5016558508965476,
          -0.1643943972580509,
          null
         ],
         "y": [
          0.27825169574601083,
          -0.9407830044644023,
          null
         ],
         "z": [
          -0.8190954773869346,
          -0.29648241206030146,
          null
         ]
        },
        {
         "hoverinfo": "none",
         "line": {
          "color": "black",
          "width": 0
         },
         "mode": "lines",
         "type": "scatter3d",
         "x": [
          0.5016558508965476,
          0.7480816348934248,
          null
         ],
         "y": [
          0.27825169574601083,
          -0.6121222981915062,
          null
         ],
         "z": [
          -0.8190954773869346,
          -0.25628140703517577,
          null
         ]
        },
        {
         "hoverinfo": "none",
         "line": {
          "color": "black",
          "width": 0
         },
         "mode": "lines",
         "type": "scatter3d",
         "x": [
          0.5016558508965476,
          -0.42668500783452756,
          null
         ],
         "y": [
          0.27825169574601083,
          0.8993464141660742,
          null
         ],
         "z": [
          -0.8190954773869346,
          0.09547738693467349,
          null
         ]
        },
        {
         "hoverinfo": "none",
         "line": {
          "color": "black",
          "width": 9
         },
         "mode": "lines",
         "type": "scatter3d",
         "x": [
          0.5016558508965476,
          0.3108397890520478,
          null
         ],
         "y": [
          0.27825169574601083,
          -0.8386646672133121,
          null
         ],
         "z": [
          -0.8190954773869346,
          0.44723618090452255,
          null
         ]
        },
        {
         "hoverinfo": "none",
         "line": {
          "color": "black",
          "width": 1
         },
         "mode": "lines",
         "type": "scatter3d",
         "x": [
          0.5016558508965476,
          0.8248223009029717,
          null
         ],
         "y": [
          0.27825169574601083,
          -0.3029354494546556,
          null
         ],
         "z": [
          -0.8190954773869346,
          0.4773869346733668,
          null
         ]
        },
        {
         "hoverinfo": "none",
         "line": {
          "color": "black",
          "width": 2
         },
         "mode": "lines",
         "type": "scatter3d",
         "x": [
          0.5016558508965476,
          0.725096144076266,
          null
         ],
         "y": [
          0.27825169574601083,
          0.01681974681893568,
          null
         ],
         "z": [
          -0.8190954773869346,
          0.6884422110552764,
          null
         ]
        },
        {
         "hoverinfo": "none",
         "line": {
          "color": "black",
          "width": 1
         },
         "mode": "lines",
         "type": "scatter3d",
         "x": [
          0.5016558508965476,
          -0.5679012117000678,
          null
         ],
         "y": [
          0.27825169574601083,
          0.318935612734006,
          null
         ],
         "z": [
          -0.8190954773869346,
          0.7587939698492463,
          null
         ]
        },
        {
         "hoverinfo": "none",
         "line": {
          "color": "black",
          "width": 4
         },
         "mode": "lines",
         "type": "scatter3d",
         "x": [
          0.34686968146326486,
          -0.4951054392952383,
          null
         ],
         "y": [
          0.4744757592931101,
          0.6303004235916108,
          null
         ],
         "z": [
          -0.8090452261306532,
          -0.5979899497487439,
          null
         ]
        },
        {
         "hoverinfo": "none",
         "line": {
          "color": "black",
          "width": 7
         },
         "mode": "lines",
         "type": "scatter3d",
         "x": [
          0.34686968146326486,
          -0.7847039751073679,
          null
         ],
         "y": [
          0.4744757592931101,
          0.22423973382020593,
          null
         ],
         "z": [
          -0.8090452261306532,
          -0.5778894472361807,
          null
         ]
        },
        {
         "hoverinfo": "none",
         "line": {
          "color": "black",
          "width": 8
         },
         "mode": "lines",
         "type": "scatter3d",
         "x": [
          0.34686968146326486,
          0.9591176411373035,
          null
         ],
         "y": [
          0.4744757592931101,
          -0.1559228360378783,
          null
         ],
         "z": [
          -0.8090452261306532,
          -0.236180904522613,
          null
         ]
        },
        {
         "hoverinfo": "none",
         "line": {
          "color": "black",
          "width": 9
         },
         "mode": "lines",
         "type": "scatter3d",
         "x": [
          0.34686968146326486,
          -0.7793130144557557,
          null
         ],
         "y": [
          0.4744757592931101,
          0.515147027766033,
          null
         ],
         "z": [
          -0.8090452261306532,
          0.3567839195979901,
          null
         ]
        },
        {
         "hoverinfo": "none",
         "line": {
          "color": "black",
          "width": 0
         },
         "mode": "lines",
         "type": "scatter3d",
         "x": [
          0.34686968146326486,
          -0.1908820904593788,
          null
         ],
         "y": [
          0.4744757592931101,
          -0.8838094476675942,
          null
         ],
         "z": [
          -0.8090452261306532,
          0.4271356783919597,
          null
         ]
        },
        {
         "hoverinfo": "none",
         "line": {
          "color": "black",
          "width": 1
         },
         "mode": "lines",
         "type": "scatter3d",
         "x": [
          0.34686968146326486,
          0.7082279152172981,
          null
         ],
         "y": [
          0.4744757592931101,
          -0.5291593752733467,
          null
         ],
         "z": [
          -0.8090452261306532,
          0.4673366834170853,
          null
         ]
        },
        {
         "hoverinfo": "none",
         "line": {
          "color": "black",
          "width": 1
         },
         "mode": "lines",
         "type": "scatter3d",
         "x": [
          0.12414761111548962,
          0.5613571369223281,
          null
         ],
         "y": [
          0.5883828692100228,
          -0.7835468158432456,
          null
         ],
         "z": [
          -0.798994974874372,
          -0.2663316582914572,
          null
         ]
        },
        {
         "hoverinfo": "none",
         "line": {
          "color": "black",
          "width": 6
         },
         "mode": "lines",
         "type": "scatter3d",
         "x": [
          0.12414761111548962,
          0.8597006759110095,
          null
         ],
         "y": [
          0.5883828692100228,
          -0.510773429174399,
          null
         ],
         "z": [
          -0.798994974874372,
          -0.005025125628140692,
          null
         ]
        },
        {
         "hoverinfo": "none",
         "line": {
          "color": "black",
          "width": 0
         },
         "mode": "lines",
         "type": "scatter3d",
         "x": [
          0.12414761111548962,
          -0.18549067049375184,
          null
         ],
         "y": [
          0.5883828692100228,
          0.978925643575427,
          null
         ],
         "z": [
          -0.798994974874372,
          0.08542713567839207,
          null
         ]
        },
        {
         "hoverinfo": "none",
         "line": {
          "color": "black",
          "width": 5
         },
         "mode": "lines",
         "type": "scatter3d",
         "x": [
          0.12414761111548962,
          0.13434625214634502,
          null
         ],
         "y": [
          0.5883828692100228,
          -0.9692794548088852,
          null
         ],
         "z": [
          -0.798994974874372,
          0.20603015075376876,
          null
         ]
        },
        {
         "hoverinfo": "none",
         "line": {
          "color": "black",
          "width": 3
         },
         "mode": "lines",
         "type": "scatter3d",
         "x": [
          0.12414761111548962,
          0.5646952188368541,
          null
         ],
         "y": [
          0.5883828692100228,
          0.7702061342015544,
          null
         ],
         "z": [
          -0.798994974874372,
          0.29648241206030157,
          null
         ]
        },
        {
         "hoverinfo": "none",
         "line": {
          "color": "black",
          "width": 7
         },
         "mode": "lines",
         "type": "scatter3d",
         "x": [
          0.12414761111548962,
          0.12037404304848949,
          null
         ],
         "y": [
          0.5883828692100228,
          0.834506578088399,
          null
         ],
         "z": [
          -0.798994974874372,
          0.5376884422110553,
          null
         ]
        },
        {
         "hoverinfo": "none",
         "line": {
          "color": "black",
          "width": 8
         },
         "mode": "lines",
         "type": "scatter3d",
         "x": [
          0.12414761111548962,
          0.6955838850071943,
          null
         ],
         "y": [
          0.5883828692100228,
          -0.2365320439145132,
          null
         ],
         "z": [
          -0.798994974874372,
          0.6783919597989949,
          null
         ]
        },
        {
         "hoverinfo": "none",
         "line": {
          "color": "black",
          "width": 1
         },
         "mode": "lines",
         "type": "scatter3d",
         "x": [
          0.12414761111548962,
          0.1400434946507435,
          null
         ],
         "y": [
          0.5883828692100228,
          0.4739452249640167,
          null
         ],
         "z": [
          -0.798994974874372,
          0.8693467336683418,
          null
         ]
        },
        {
         "hoverinfo": "none",
         "line": {
          "color": "black",
          "width": 9
         },
         "mode": "lines",
         "type": "scatter3d",
         "x": [
          -0.12588429280142016,
          -0.6419805478430175,
          null
         ],
         "y": [
          0.6014310998784991,
          0.10996675639301308,
          null
         ],
         "z": [
          -0.7889447236180905,
          -0.7587939698492463,
          null
         ]
        },
        {
         "hoverinfo": "none",
         "line": {
          "color": "black",
          "width": 1
         },
         "mode": "lines",
         "type": "scatter3d",
         "x": [
          -0.12588429280142016,
          0.813632848484258,
          null
         ],
         "y": [
          0.6014310998784991,
          0.3714584584544138,
          null
         ],
         "z": [
          -0.7889447236180905,
          -0.4472361809045229,
          null
         ]
        },
        {
         "hoverinfo": "none",
         "line": {
          "color": "black",
          "width": 9
         },
         "mode": "lines",
         "type": "scatter3d",
         "x": [
          -0.12588429280142016,
          -0.4695271916732191,
          null
         ],
         "y": [
          0.6014310998784991,
          0.7936156341869542,
          null
         ],
         "z": [
          -0.7889447236180905,
          -0.3869346733668342,
          null
         ]
        },
        {
         "hoverinfo": "none",
         "line": {
          "color": "black",
          "width": 2
         },
         "mode": "lines",
         "type": "scatter3d",
         "x": [
          -0.12588429280142016,
          0.4105859500056902,
          null
         ],
         "y": [
          0.6014310998784991,
          0.8926641829729847,
          null
         ],
         "z": [
          -0.7889447236180905,
          -0.18592964824120606,
          null
         ]
        },
        {
         "hoverinfo": "none",
         "line": {
          "color": "black",
          "width": 2
         },
         "mode": "lines",
         "type": "scatter3d",
         "x": [
          -0.12588429280142016,
          -0.9475723752818175,
          null
         ],
         "y": [
          0.6014310998784991,
          -0.30494370330751364,
          null
         ],
         "z": [
          -0.7889447236180905,
          -0.09547738693467336,
          null
         ]
        },
        {
         "hoverinfo": "none",
         "line": {
          "color": "black",
          "width": 0
         },
         "mode": "lines",
         "type": "scatter3d",
         "x": [
          -0.12588429280142016,
          -0.18549067049375184,
          null
         ],
         "y": [
          0.6014310998784991,
          0.978925643575427,
          null
         ],
         "z": [
          -0.7889447236180905,
          0.08542713567839207,
          null
         ]
        },
        {
         "hoverinfo": "none",
         "line": {
          "color": "black",
          "width": 8
         },
         "mode": "lines",
         "type": "scatter3d",
         "x": [
          -0.12588429280142016,
          0.5970599024521844,
          null
         ],
         "y": [
          0.6014310998784991,
          -0.7696651223338173,
          null
         ],
         "z": [
          -0.7889447236180905,
          0.22613065326633158,
          null
         ]
        },
        {
         "hoverinfo": "none",
         "line": {
          "color": "black",
          "width": 1
         },
         "mode": "lines",
         "type": "scatter3d",
         "x": [
          -0.12588429280142016,
          0.5799931250776793,
          null
         ],
         "y": [
          0.6014310998784991,
          0.6290554026008339,
          null
         ],
         "z": [
          -0.7889447236180905,
          0.5175879396984923,
          null
         ]
        },
        {
         "hoverinfo": "none",
         "line": {
          "color": "black",
          "width": 1
         },
         "mode": "lines",
         "type": "scatter3d",
         "x": [
          -0.12588429280142016,
          -0.707456892094313,
          null
         ],
         "y": [
          0.6014310998784991,
          -0.360266373382285,
          null
         ],
         "z": [
          -0.7889447236180905,
          0.6080402010050252,
          null
         ]
        },
        {
         "hoverinfo": "none",
         "line": {
          "color": "black",
          "width": 6
         },
         "mode": "lines",
         "type": "scatter3d",
         "x": [
          -0.12588429280142016,
          0.5212824240995492,
          null
         ],
         "y": [
          0.6014310998784991,
          0.47563836827449124,
          null
         ],
         "z": [
          -0.7889447236180905,
          0.7085427135678393,
          null
         ]
        },
        {
         "hoverinfo": "none",
         "line": {
          "color": "black",
          "width": 5
         },
         "mode": "lines",
         "type": "scatter3d",
         "x": [
          -0.36041865158594155,
          0.7985178366343181,
          null
         ],
         "y": [
          0.5132463312223391,
          -0.36670284861180913,
          null
         ],
         "z": [
          -0.7788944723618089,
          -0.4773869346733667,
          null
         ]
        },
        {
         "hoverinfo": "none",
         "line": {
          "color": "black",
          "width": 9
         },
         "mode": "lines",
         "type": "scatter3d",
         "x": [
          -0.36041865158594155,
          0.8751100997786688,
          null
         ],
         "y": [
          0.5132463312223391,
          -0.12561344513262568,
          null
         ],
         "z": [
          -0.7788944723618089,
          -0.4673366834170854,
          null
         ]
        },
        {
         "hoverinfo": "none",
         "line": {
          "color": "black",
          "width": 5
         },
         "mode": "lines",
         "type": "scatter3d",
         "x": [
          -0.36041865158594155,
          0.7958335820929668,
          null
         ],
         "y": [
          0.5132463312223391,
          0.5693860611162309,
          null
         ],
         "z": [
          -0.7788944723618089,
          -0.20603015075376888,
          null
         ]
        },
        {
         "hoverinfo": "none",
         "line": {
          "color": "black",
          "width": 1
         },
         "mode": "lines",
         "type": "scatter3d",
         "x": [
          -0.36041865158594155,
          -0.08433109874112966,
          null
         ],
         "y": [
          0.5132463312223391,
          0.9825420908093567,
          null
         ],
         "z": [
          -0.7788944723618089,
          -0.16582914572864332,
          null
         ]
        },
        {
         "hoverinfo": "none",
         "line": {
          "color": "black",
          "width": 6
         },
         "mode": "lines",
         "type": "scatter3d",
         "x": [
          -0.36041865158594155,
          -0.23599909505127642,
          null
         ],
         "y": [
          0.5132463312223391,
          -0.970179853809575,
          null
         ],
         "z": [
          -0.7788944723618089,
          -0.05527638190954783,
          null
         ]
        },
        {
         "hoverinfo": "none",
         "line": {
          "color": "black",
          "width": 5
         },
         "mode": "lines",
         "type": "scatter3d",
         "x": [
          -0.36041865158594155,
          -0.1908820904593788,
          null
         ],
         "y": [
          0.5132463312223391,
          -0.8838094476675942,
          null
         ],
         "z": [
          -0.7788944723618089,
          0.4271356783919597,
          null
         ]
        },
        {
         "hoverinfo": "none",
         "line": {
          "color": "black",
          "width": 0
         },
         "mode": "lines",
         "type": "scatter3d",
         "x": [
          -0.36041865158594155,
          -0.7231637330577864,
          null
         ],
         "y": [
          0.5132463312223391,
          0.3782565293064855,
          null
         ],
         "z": [
          -0.7788944723618089,
          0.5778894472361809,
          null
         ]
        },
        {
         "hoverinfo": "none",
         "line": {
          "color": "black",
          "width": 9
         },
         "mode": "lines",
         "type": "scatter3d",
         "x": [
          -0.36041865158594155,
          0.5810756220933079,
          null
         ],
         "y": [
          0.5132463312223391,
          -0.46440336134774246,
          null
         ],
         "z": [
          -0.7788944723618089,
          0.6683417085427135,
          null
         ]
        },
        {
         "hoverinfo": "none",
         "line": {
          "color": "black",
          "width": 5
         },
         "mode": "lines",
         "type": "scatter3d",
         "x": [
          -0.36041865158594155,
          -0.004587855210254107,
          null
         ],
         "y": [
          0.5132463312223391,
          -0.5877284863436261,
          null
         ],
         "z": [
          -0.7788944723618089,
          0.8090452261306533,
          null
         ]
        },
        {
         "hoverinfo": "none",
         "line": {
          "color": "black",
          "width": 0
         },
         "mode": "lines",
         "type": "scatter3d",
         "x": [
          -0.5416042025803353,
          0.2271342624438953,
          null
         ],
         "y": [
          0.33991683015107377,
          0.7442105101438017,
          null
         ],
         "z": [
          -0.7688442211055275,
          -0.6281407035175878,
          null
         ]
        },
        {
         "hoverinfo": "none",
         "line": {
          "color": "black",
          "width": 0
         },
         "mode": "lines",
         "type": "scatter3d",
         "x": [
          -0.5416042025803353,
          -0.9125581834726422,
          null
         ],
         "y": [
          0.33991683015107377,
          0.19985694006815632,
          null
         ],
         "z": [
          -0.7688442211055275,
          -0.35678391959799,
          null
         ]
        },
        {
         "hoverinfo": "none",
         "line": {
          "color": "black",
          "width": 8
         },
         "mode": "lines",
         "type": "scatter3d",
         "x": [
          -0.5416042025803353,
          -0.7492577373693531,
          null
         ],
         "y": [
          0.33991683015107377,
          0.648231607488682,
          null
         ],
         "z": [
          -0.7688442211055275,
          -0.13567839195979897,
          null
         ]
        },
        {
         "hoverinfo": "none",
         "line": {
          "color": "black",
          "width": 8
         },
         "mode": "lines",
         "type": "scatter3d",
         "x": [
          -0.5416042025803353,
          -0.2566312989684941,
          null
         ],
         "y": [
          0.33991683015107377,
          -0.5438266327748627,
          null
         ],
         "z": [
          -0.7688442211055275,
          0.7989949748743719,
          null
         ]
        },
        {
         "hoverinfo": "none",
         "line": {
          "color": "black",
          "width": 2
         },
         "mode": "lines",
         "type": "scatter3d",
         "x": [
          -0.5416042025803353,
          0.27639958067021775,
          null
         ],
         "y": [
          0.33991683015107377,
          -0.20141999669691893,
          null
         ],
         "z": [
          -0.7688442211055275,
          0.9396984924623115,
          null
         ]
        },
        {
         "hoverinfo": "none",
         "line": {
          "color": "black",
          "width": 0
         },
         "mode": "lines",
         "type": "scatter3d",
         "x": [
          -0.6419805478430175,
          -0.08433109874112966,
          null
         ],
         "y": [
          0.10996675639301308,
          0.9825420908093567,
          null
         ],
         "z": [
          -0.7587939698492463,
          -0.16582914572864332,
          null
         ]
        },
        {
         "hoverinfo": "none",
         "line": {
          "color": "black",
          "width": 3
         },
         "mode": "lines",
         "type": "scatter3d",
         "x": [
          -0.6419805478430175,
          0.7033011304219116,
          null
         ],
         "y": [
          0.10996675639301308,
          -0.7107321949644987,
          null
         ],
         "z": [
          -0.7587939698492463,
          -0.015075376884422157,
          null
         ]
        },
        {
         "hoverinfo": "none",
         "line": {
          "color": "black",
          "width": 6
         },
         "mode": "lines",
         "type": "scatter3d",
         "x": [
          -0.6419805478430175,
          0.9995234698449429,
          null
         ],
         "y": [
          0.10996675639301308,
          -0.026936336813276493,
          null
         ],
         "z": [
          -0.7587939698492463,
          0.015075376884422058,
          null
         ]
        },
        {
         "hoverinfo": "none",
         "line": {
          "color": "black",
          "width": 2
         },
         "mode": "lines",
         "type": "scatter3d",
         "x": [
          -0.6419805478430175,
          0.5460301977631995,
          null
         ],
         "y": [
          0.10996675639301308,
          0.8359399169400101,
          null
         ],
         "z": [
          -0.7587939698492463,
          0.05527638190954773,
          null
         ]
        },
        {
         "hoverinfo": "none",
         "line": {
          "color": "black",
          "width": 8
         },
         "mode": "lines",
         "type": "scatter3d",
         "x": [
          -0.6419805478430175,
          -0.18549067049375184,
          null
         ],
         "y": [
          0.10996675639301308,
          0.978925643575427,
          null
         ],
         "z": [
          -0.7587939698492463,
          0.08542713567839207,
          null
         ]
        },
        {
         "hoverinfo": "none",
         "line": {
          "color": "black",
          "width": 6
         },
         "mode": "lines",
         "type": "scatter3d",
         "x": [
          -0.6419805478430175,
          -0.9047419231328161,
          null
         ],
         "y": [
          0.10996675639301308,
          -0.39645300927462035,
          null
         ],
         "z": [
          -0.7587939698492463,
          0.15577889447236173,
          null
         ]
        },
        {
         "hoverinfo": "none",
         "line": {
          "color": "black",
          "width": 7
         },
         "mode": "lines",
         "type": "scatter3d",
         "x": [
          -0.6419805478430175,
          -0.11973939666335258,
          null
         ],
         "y": [
          0.10996675639301308,
          -0.9732699296082516,
          null
         ],
         "z": [
          -0.7587939698492463,
          0.19597989949748745,
          null
         ]
        },
        {
         "hoverinfo": "none",
         "line": {
          "color": "black",
          "width": 8
         },
         "mode": "lines",
         "type": "scatter3d",
         "x": [
          -0.6419805478430175,
          0.7440964149681661,
          null
         ],
         "y": [
          0.10996675639301308,
          0.4344260812178058,
          null
         ],
         "z": [
          -0.7587939698492463,
          0.5075376884422113,
          null
         ]
        },
        {
         "hoverinfo": "none",
         "line": {
          "color": "black",
          "width": 0
         },
         "mode": "lines",
         "type": "scatter3d",
         "x": [
          -0.6419805478430175,
          0.1633089131200265,
          null
         ],
         "y": [
          0.10996675639301308,
          -0.7437160329723511,
          null
         ],
         "z": [
          -0.7587939698492463,
          0.6482412060301508,
          null
         ]
        },
        {
         "hoverinfo": "none",
         "line": {
          "color": "black",
          "width": 4
         },
         "mode": "lines",
         "type": "scatter3d",
         "x": [
          -0.6419805478430175,
          -0.004587855210254107,
          null
         ],
         "y": [
          0.10996675639301308,
          -0.5877284863436261,
          null
         ],
         "z": [
          -0.7587939698492463,
          0.8090452261306533,
          null
         ]
        },
        {
         "hoverinfo": "none",
         "line": {
          "color": "black",
          "width": 3
         },
         "mode": "lines",
         "type": "scatter3d",
         "x": [
          -0.6419805478430175,
          0.1297116280928751,
          null
         ],
         "y": [
          0.10996675639301308,
          0.24891922943540667,
          null
         ],
         "z": [
          -0.7587939698492463,
          0.9597989949748744,
          null
         ]
        },
        {
         "hoverinfo": "none",
         "line": {
          "color": "black",
          "width": 3
         },
         "mode": "lines",
         "type": "scatter3d",
         "x": [
          -0.6476851458340083,
          -0.27091571301396306,
          null
         ],
         "y": [
          -0.14102055074902595,
          0.7462518277390714,
          null
         ],
         "z": [
          -0.7487437185929648,
          -0.6080402010050251,
          null
         ]
        },
        {
         "hoverinfo": "none",
         "line": {
          "color": "black",
          "width": 9
         },
         "mode": "lines",
         "type": "scatter3d",
         "x": [
          -0.6476851458340083,
          -0.6701371795582428,
          null
         ],
         "y": [
          -0.14102055074902595,
          -0.5008976784258622,
          null
         ],
         "z": [
          -0.7487437185929648,
          -0.5477386934673367,
          null
         ]
        },
        {
         "hoverinfo": "none",
         "line": {
          "color": "black",
          "width": 3
         },
         "mode": "lines",
         "type": "scatter3d",
         "x": [
          -0.6476851458340083,
          -0.49469427933914145,
          null
         ],
         "y": [
          -0.14102055074902595,
          -0.682765486167671,
          null
         ],
         "z": [
          -0.7487437185929648,
          -0.5376884422110554,
          null
         ]
        },
        {
         "hoverinfo": "none",
         "line": {
          "color": "black",
          "width": 2
         },
         "mode": "lines",
         "type": "scatter3d",
         "x": [
          -0.6476851458340083,
          0.01750774905872829,
          null
         ],
         "y": [
          -0.14102055074902595,
          0.9132446793273558,
          null
         ],
         "z": [
          -0.7487437185929648,
          -0.4070351758793971,
          null
         ]
        },
        {
         "hoverinfo": "none",
         "line": {
          "color": "black",
          "width": 9
         },
         "mode": "lines",
         "type": "scatter3d",
         "x": [
          -0.6476851458340083,
          -0.6161246034909317,
          null
         ],
         "y": [
          -0.14102055074902595,
          -0.7212251598313059,
          null
         ],
         "z": [
          -0.7487437185929648,
          -0.3165829145728643,
          null
         ]
        },
        {
         "hoverinfo": "none",
         "line": {
          "color": "black",
          "width": 0
         },
         "mode": "lines",
         "type": "scatter3d",
         "x": [
          -0.6476851458340083,
          -0.678728644568649,
          null
         ],
         "y": [
          -0.14102055074902595,
          -0.730510610694205,
          null
         ],
         "z": [
          -0.7487437185929648,
          -0.07537688442211053,
          null
         ]
        },
        {
         "hoverinfo": "none",
         "line": {
          "color": "black",
          "width": 4
         },
         "mode": "lines",
         "type": "scatter3d",
         "x": [
          -0.6476851458340083,
          0.5799931250776793,
          null
         ],
         "y": [
          -0.14102055074902595,
          0.6290554026008339,
          null
         ],
         "z": [
          -0.7487437185929648,
          0.5175879396984923,
          null
         ]
        },
        {
         "hoverinfo": "none",
         "line": {
          "color": "black",
          "width": 5
         },
         "mode": "lines",
         "type": "scatter3d",
         "x": [
          -0.6476851458340083,
          -0.004587855210254107,
          null
         ],
         "y": [
          -0.14102055074902595,
          -0.5877284863436261,
          null
         ],
         "z": [
          -0.7487437185929648,
          0.8090452261306533,
          null
         ]
        },
        {
         "hoverinfo": "none",
         "line": {
          "color": "black",
          "width": 4
         },
         "mode": "lines",
         "type": "scatter3d",
         "x": [
          -0.6476851458340083,
          0.1400434946507435,
          null
         ],
         "y": [
          -0.14102055074902595,
          0.4739452249640167,
          null
         ],
         "z": [
          -0.7487437185929648,
          0.8693467336683418,
          null
         ]
        },
        {
         "hoverinfo": "none",
         "line": {
          "color": "black",
          "width": 2
         },
         "mode": "lines",
         "type": "scatter3d",
         "x": [
          -0.6476851458340083,
          0.0720199661208389,
          null
         ],
         "y": [
          -0.14102055074902595,
          -0.3613409361011954,
          null
         ],
         "z": [
          -0.7487437185929648,
          0.9296482412060301,
          null
         ]
        },
        {
         "hoverinfo": "none",
         "line": {
          "color": "black",
          "width": 6
         },
         "mode": "lines",
         "type": "scatter3d",
         "x": [
          -0.5593208018755575,
          -0.3907102300020467,
          null
         ],
         "y": [
          -0.3761544920686069,
          -0.5625162929478188,
          null
         ],
         "z": [
          -0.7386934673366833,
          -0.7286432160804021,
          null
         ]
        },
        {
         "hoverinfo": "none",
         "line": {
          "color": "black",
          "width": 9
         },
         "mode": "lines",
         "type": "scatter3d",
         "x": [
          -0.5593208018755575,
          0.08426822572670396,
          null
         ],
         "y": [
          -0.3761544920686069,
          -0.7006183620080165,
          null
         ],
         "z": [
          -0.7386934673366833,
          -0.7085427135678393,
          null
         ]
        },
        {
         "hoverinfo": "none",
         "line": {
          "color": "black",
          "width": 8
         },
         "mode": "lines",
         "type": "scatter3d",
         "x": [
          -0.5593208018755575,
          0.6211402465143849,
          null
         ],
         "y": [
          -0.3761544920686069,
          0.44041813423680065,
          null
         ],
         "z": [
          -0.7386934673366833,
          -0.6482412060301509,
          null
         ]
        },
        {
         "hoverinfo": "none",
         "line": {
          "color": "black",
          "width": 5
         },
         "mode": "lines",
         "type": "scatter3d",
         "x": [
          -0.5593208018755575,
          0.7985178366343181,
          null
         ],
         "y": [
          -0.3761544920686069,
          -0.36670284861180913,
          null
         ],
         "z": [
          -0.7386934673366833,
          -0.4773869346733667,
          null
         ]
        },
        {
         "hoverinfo": "none",
         "line": {
          "color": "black",
          "width": 7
         },
         "mode": "lines",
         "type": "scatter3d",
         "x": [
          -0.5593208018755575,
          -0.7824796533348303,
          null
         ],
         "y": [
          -0.3761544920686069,
          -0.5301286325953671,
          null
         ],
         "z": [
          -0.7386934673366833,
          -0.3266331658291457,
          null
         ]
        },
        {
         "hoverinfo": "none",
         "line": {
          "color": "black",
          "width": 1
         },
         "mode": "lines",
         "type": "scatter3d",
         "x": [
          -0.5593208018755575,
          0.9692141584109936,
          null
         ],
         "y": [
          -0.3761544920686069,
          0.09741069134859666,
          null
         ],
         "z": [
          -0.7386934673366833,
          -0.2261306532663317,
          null
         ]
        },
        {
         "hoverinfo": "none",
         "line": {
          "color": "black",
          "width": 3
         },
         "mode": "lines",
         "type": "scatter3d",
         "x": [
          -0.5593208018755575,
          -0.678728644568649,
          null
         ],
         "y": [
          -0.3761544920686069,
          -0.730510610694205,
          null
         ],
         "z": [
          -0.7386934673366833,
          -0.07537688442211053,
          null
         ]
        },
        {
         "hoverinfo": "none",
         "line": {
          "color": "black",
          "width": 0
         },
         "mode": "lines",
         "type": "scatter3d",
         "x": [
          -0.5593208018755575,
          0.739575014981879,
          null
         ],
         "y": [
          -0.3761544920686069,
          0.6715529720883432,
          null
         ],
         "z": [
          -0.7386934673366833,
          0.045226130653266486,
          null
         ]
        },
        {
         "hoverinfo": "none",
         "line": {
          "color": "black",
          "width": 7
         },
         "mode": "lines",
         "type": "scatter3d",
         "x": [
          -0.5593208018755575,
          -0.6143899953864282,
          null
         ],
         "y": [
          -0.3761544920686069,
          0.7087317523628855,
          null
         ],
         "z": [
          -0.7386934673366833,
          0.3467336683417086,
          null
         ]
        },
        {
         "hoverinfo": "none",
         "line": {
          "color": "black",
          "width": 8
         },
         "mode": "lines",
         "type": "scatter3d",
         "x": [
          -0.5593208018755575,
          0.0720199661208389,
          null
         ],
         "y": [
          -0.3761544920686069,
          -0.3613409361011954,
          null
         ],
         "z": [
          -0.7386934673366833,
          0.9296482412060301,
          null
         ]
        },
        {
         "hoverinfo": "none",
         "line": {
          "color": "black",
          "width": 6
         },
         "mode": "lines",
         "type": "scatter3d",
         "x": [
          -0.5593208018755575,
          0.1297116280928751,
          null
         ],
         "y": [
          -0.3761544920686069,
          0.24891922943540667,
          null
         ],
         "z": [
          -0.7386934673366833,
          0.9597989949748744,
          null
         ]
        },
        {
         "hoverinfo": "none",
         "line": {
          "color": "black",
          "width": 1
         },
         "mode": "lines",
         "type": "scatter3d",
         "x": [
          -0.3907102300020467,
          0.722933490894233,
          null
         ],
         "y": [
          -0.5625162929478188,
          0.20980830538180167,
          null
         ],
         "z": [
          -0.7286432160804021,
          -0.6582914572864321,
          null
         ]
        },
        {
         "hoverinfo": "none",
         "line": {
          "color": "black",
          "width": 9
         },
         "mode": "lines",
         "type": "scatter3d",
         "x": [
          -0.3907102300020467,
          -0.23434121536311986,
          null
         ],
         "y": [
          -0.5625162929478188,
          0.8874047353964903,
          null
         ],
         "z": [
          -0.7286432160804021,
          -0.3969849246231156,
          null
         ]
        },
        {
         "hoverinfo": "none",
         "line": {
          "color": "black",
          "width": 0
         },
         "mode": "lines",
         "type": "scatter3d",
         "x": [
          -0.3907102300020467,
          0.3363668860791254,
          null
         ],
         "y": [
          -0.5625162929478188,
          -0.9002612720894853,
          null
         ],
         "z": [
          -0.7286432160804021,
          -0.2763819095477387,
          null
         ]
        },
        {
         "hoverinfo": "none",
         "line": {
          "color": "black",
          "width": 8
         },
         "mode": "lines",
         "type": "scatter3d",
         "x": [
          -0.3907102300020467,
          0.7480816348934248,
          null
         ],
         "y": [
          -0.5625162929478188,
          -0.6121222981915062,
          null
         ],
         "z": [
          -0.7286432160804021,
          -0.25628140703517577,
          null
         ]
        },
        {
         "hoverinfo": "none",
         "line": {
          "color": "black",
          "width": 3
         },
         "mode": "lines",
         "type": "scatter3d",
         "x": [
          -0.3907102300020467,
          -0.9734264244291374,
          null
         ],
         "y": [
          -0.5625162929478188,
          0.19769357018888423,
          null
         ],
         "z": [
          -0.7286432160804021,
          -0.11557788944723613,
          null
         ]
        },
        {
         "hoverinfo": "none",
         "line": {
          "color": "black",
          "width": 9
         },
         "mode": "lines",
         "type": "scatter3d",
         "x": [
          -0.3907102300020467,
          0.8597006759110095,
          null
         ],
         "y": [
          -0.5625162929478188,
          -0.510773429174399,
          null
         ],
         "z": [
          -0.7286432160804021,
          -0.005025125628140692,
          null
         ]
        },
        {
         "hoverinfo": "none",
         "line": {
          "color": "black",
          "width": 7
         },
         "mode": "lines",
         "type": "scatter3d",
         "x": [
          -0.3907102300020467,
          0.7500220497040564,
          null
         ],
         "y": [
          -0.5625162929478188,
          0.5961740871715794,
          null
         ],
         "z": [
          -0.7286432160804021,
          0.2864321608040202,
          null
         ]
        },
        {
         "hoverinfo": "none",
         "line": {
          "color": "black",
          "width": 2
         },
         "mode": "lines",
         "type": "scatter3d",
         "x": [
          -0.3907102300020467,
          0.0632016554808522,
          null
         ],
         "y": [
          -0.5625162929478188,
          -0.8971477100578715,
          null
         ],
         "z": [
          -0.7286432160804021,
          0.43718592964824127,
          null
         ]
        },
        {
         "hoverinfo": "none",
         "line": {
          "color": "black",
          "width": 2
         },
         "mode": "lines",
         "type": "scatter3d",
         "x": [
          -0.3907102300020467,
          0.5319383843782858,
          null
         ],
         "y": [
          -0.5625162929478188,
          -0.7126925523580707,
          null
         ],
         "z": [
          -0.7286432160804021,
          0.45728643216080406,
          null
         ]
        },
        {
         "hoverinfo": "none",
         "line": {
          "color": "black",
          "width": 4
         },
         "mode": "lines",
         "type": "scatter3d",
         "x": [
          -0.3907102300020467,
          -0.33761069961500084,
          null
         ],
         "y": [
          -0.5625162929478188,
          -0.7010408490879112,
          null
         ],
         "z": [
          -0.7286432160804021,
          0.6281407035175879,
          null
         ]
        },
        {
         "hoverinfo": "none",
         "line": {
          "color": "black",
          "width": 6
         },
         "mode": "lines",
         "type": "scatter3d",
         "x": [
          -0.3907102300020467,
          -0.4107215962272207,
          null
         ],
         "y": [
          -0.5625162929478188,
          0.5202793617472665,
          null
         ],
         "z": [
          -0.7286432160804021,
          0.7487437185929648,
          null
         ]
        },
        {
         "hoverinfo": "none",
         "line": {
          "color": "black",
          "width": 6
         },
         "mode": "lines",
         "type": "scatter3d",
         "x": [
          -0.3907102300020467,
          -0.2566312989684941,
          null
         ],
         "y": [
          -0.5625162929478188,
          -0.5438266327748627,
          null
         ],
         "z": [
          -0.7286432160804021,
          0.7989949748743719,
          null
         ]
        },
        {
         "hoverinfo": "none",
         "line": {
          "color": "black",
          "width": 6
         },
         "mode": "lines",
         "type": "scatter3d",
         "x": [
          -0.16600286298928865,
          0.813632848484258,
          null
         ],
         "y": [
          -0.6753274764028482,
          0.3714584584544138,
          null
         ],
         "z": [
          -0.7185929648241206,
          -0.4472361809045229,
          null
         ]
        },
        {
         "hoverinfo": "none",
         "line": {
          "color": "black",
          "width": 2
         },
         "mode": "lines",
         "type": "scatter3d",
         "x": [
          -0.16600286298928865,
          0.7958335820929668,
          null
         ],
         "y": [
          -0.6753274764028482,
          0.5693860611162309,
          null
         ],
         "z": [
          -0.7185929648241206,
          -0.20603015075376888,
          null
         ]
        },
        {
         "hoverinfo": "none",
         "line": {
          "color": "black",
          "width": 5
         },
         "mode": "lines",
         "type": "scatter3d",
         "x": [
          -0.16600286298928865,
          0.3399549164860912,
          null
         ],
         "y": [
          -0.6753274764028482,
          0.8890828876302689,
          null
         ],
         "z": [
          -0.7185929648241206,
          0.30653266331658297,
          null
         ]
        },
        {
         "hoverinfo": "none",
         "line": {
          "color": "black",
          "width": 3
         },
         "mode": "lines",
         "type": "scatter3d",
         "x": [
          -0.16600286298928865,
          -0.3292415201774607,
          null
         ],
         "y": [
          -0.6753274764028482,
          0.31699153843814987,
          null
         ],
         "z": [
          -0.7185929648241206,
          0.8894472361809045,
          null
         ]
        },
        {
         "hoverinfo": "none",
         "line": {
          "color": "black",
          "width": 8
         },
         "mode": "lines",
         "type": "scatter3d",
         "x": [
          0.08426822572670396,
          -0.7831291349132213,
          null
         ],
         "y": [
          -0.7006183620080165,
          -0.274918626495518,
          null
         ],
         "z": [
          -0.7085427135678393,
          -0.5577889447236182,
          null
         ]
        },
        {
         "hoverinfo": "none",
         "line": {
          "color": "black",
          "width": 8
         },
         "mode": "lines",
         "type": "scatter3d",
         "x": [
          0.08426822572670396,
          -0.4695271916732191,
          null
         ],
         "y": [
          -0.7006183620080165,
          0.7936156341869542,
          null
         ],
         "z": [
          -0.7085427135678393,
          -0.3869346733668342,
          null
         ]
        },
        {
         "hoverinfo": "none",
         "line": {
          "color": "black",
          "width": 5
         },
         "mode": "lines",
         "type": "scatter3d",
         "x": [
          0.08426822572670396,
          -0.9365042078689544,
          null
         ],
         "y": [
          -0.7006183620080165,
          -0.052303268368663655,
          null
         ],
         "z": [
          -0.7085427135678393,
          -0.3467336683417085,
          null
         ]
        },
        {
         "hoverinfo": "none",
         "line": {
          "color": "black",
          "width": 6
         },
         "mode": "lines",
         "type": "scatter3d",
         "x": [
          0.08426822572670396,
          -0.40503694008954455,
          null
         ],
         "y": [
          -0.7006183620080165,
          -0.86138423684378,
          null
         ],
         "z": [
          -0.7085427135678393,
          -0.3065326633165828,
          null
         ]
        },
        {
         "hoverinfo": "none",
         "line": {
          "color": "black",
          "width": 3
         },
         "mode": "lines",
         "type": "scatter3d",
         "x": [
          0.08426822572670396,
          0.8837350468780757,
          null
         ],
         "y": [
          -0.7006183620080165,
          -0.3979730956273241,
          null
         ],
         "z": [
          -0.7085427135678393,
          -0.2462311557788945,
          null
         ]
        },
        {
         "hoverinfo": "none",
         "line": {
          "color": "black",
          "width": 1
         },
         "mode": "lines",
         "type": "scatter3d",
         "x": [
          0.08426822572670396,
          0.8853301800948286,
          null
         ],
         "y": [
          -0.7006183620080165,
          0.4636303804992801,
          null
         ],
         "z": [
          -0.7085427135678393,
          0.03517587939698494,
          null
         ]
        },
        {
         "hoverinfo": "none",
         "line": {
          "color": "black",
          "width": 8
         },
         "mode": "lines",
         "type": "scatter3d",
         "x": [
          0.08426822572670396,
          -0.985601838057066,
          null
         ],
         "y": [
          -0.7006183620080165,
          0.100897922544204,
          null
         ],
         "z": [
          -0.7085427135678393,
          0.13567839195979908,
          null
         ]
        },
        {
         "hoverinfo": "none",
         "line": {
          "color": "black",
          "width": 8
         },
         "mode": "lines",
         "type": "scatter3d",
         "x": [
          0.08426822572670396,
          0.06389728976483165,
          null
         ],
         "y": [
          -0.7006183620080165,
          0.6819062985636061,
          null
         ],
         "z": [
          -0.7085427135678393,
          0.728643216080402,
          null
         ]
        },
        {
         "hoverinfo": "none",
         "line": {
          "color": "black",
          "width": 7
         },
         "mode": "lines",
         "type": "scatter3d",
         "x": [
          0.08426822572670396,
          0.5317207462626569,
          null
         ],
         "y": [
          -0.7006183620080165,
          -0.11411904010464476,
          null
         ],
         "z": [
          -0.7085427135678393,
          0.8391959798994975,
          null
         ]
        },
        {
         "hoverinfo": "none",
         "line": {
          "color": "black",
          "width": 2
         },
         "mode": "lines",
         "type": "scatter3d",
         "x": [
          0.3275469559381285,
          -0.11973939666335258,
          null
         ],
         "y": [
          -0.6362556653968614,
          -0.9732699296082516,
          null
         ],
         "z": [
          -0.6984924623115578,
          0.19597989949748745,
          null
         ]
        },
        {
         "hoverinfo": "none",
         "line": {
          "color": "black",
          "width": 3
         },
         "mode": "lines",
         "type": "scatter3d",
         "x": [
          0.3275469559381285,
          0.89774944367018,
          null
         ],
         "y": [
          -0.6362556653968614,
          -0.3652617613625499,
          null
         ],
         "z": [
          -0.6984924623115578,
          0.24623115577889462,
          null
         ]
        },
        {
         "hoverinfo": "none",
         "line": {
          "color": "black",
          "width": 5
         },
         "mode": "lines",
         "type": "scatter3d",
         "x": [
          0.3275469559381285,
          0.8829535645133417,
          null
         ],
         "y": [
          -0.6362556653968614,
          0.37948128147239324,
          null
         ],
         "z": [
          -0.6984924623115578,
          0.2763819095477386,
          null
         ]
        },
        {
         "hoverinfo": "none",
         "line": {
          "color": "black",
          "width": 6
         },
         "mode": "lines",
         "type": "scatter3d",
         "x": [
          0.3275469559381285,
          -0.7975160188443354,
          null
         ],
         "y": [
          -0.6362556653968614,
          -0.45428093654550455,
          null
         ],
         "z": [
          -0.6984924623115578,
          0.3969849246231157,
          null
         ]
        },
        {
         "hoverinfo": "none",
         "line": {
          "color": "black",
          "width": 8
         },
         "mode": "lines",
         "type": "scatter3d",
         "x": [
          0.3275469559381285,
          -0.6386889828957023,
          null
         ],
         "y": [
          -0.6362556653968614,
          -0.6529921505841256,
          null
         ],
         "z": [
          -0.6984924623115578,
          0.4070351758793972,
          null
         ]
        },
        {
         "hoverinfo": "none",
         "line": {
          "color": "black",
          "width": 0
         },
         "mode": "lines",
         "type": "scatter3d",
         "x": [
          0.3275469559381285,
          -0.600556325517356,
          null
         ],
         "y": [
          -0.6362556653968614,
          -0.18070833075791126,
          null
         ],
         "z": [
          -0.6984924623115578,
          0.778894472361809,
          null
         ]
        },
        {
         "hoverinfo": "none",
         "line": {
          "color": "black",
          "width": 8
         },
         "mode": "lines",
         "type": "scatter3d",
         "x": [
          0.3275469559381285,
          0.1297116280928751,
          null
         ],
         "y": [
          -0.6362556653968614,
          0.24891922943540667,
          null
         ],
         "z": [
          -0.6984924623115578,
          0.9597989949748744,
          null
         ]
        },
        {
         "hoverinfo": "none",
         "line": {
          "color": "black",
          "width": 6
         },
         "mode": "lines",
         "type": "scatter3d",
         "x": [
          0.5334469074912569,
          -0.27091571301396306,
          null
         ],
         "y": [
          -0.49140789465100837,
          0.7462518277390714,
          null
         ],
         "z": [
          -0.6884422110552765,
          -0.6080402010050251,
          null
         ]
        },
        {
         "hoverinfo": "none",
         "line": {
          "color": "black",
          "width": 4
         },
         "mode": "lines",
         "type": "scatter3d",
         "x": [
          0.5334469074912569,
          0.739575014981879,
          null
         ],
         "y": [
          -0.49140789465100837,
          0.6715529720883432,
          null
         ],
         "z": [
          -0.6884422110552765,
          0.045226130653266486,
          null
         ]
        },
        {
         "hoverinfo": "none",
         "line": {
          "color": "black",
          "width": 4
         },
         "mode": "lines",
         "type": "scatter3d",
         "x": [
          0.5334469074912569,
          -0.8109889569592988,
          null
         ],
         "y": [
          -0.49140789465100837,
          0.5735317455564173,
          null
         ],
         "z": [
          -0.6884422110552765,
          0.11557788944723603,
          null
         ]
        },
        {
         "hoverinfo": "none",
         "line": {
          "color": "black",
          "width": 3
         },
         "mode": "lines",
         "type": "scatter3d",
         "x": [
          0.5334469074912569,
          0.36579375496206784,
          null
         ],
         "y": [
          -0.49140789465100837,
          0.7666765082332472,
          null
         ],
         "z": [
          -0.6884422110552765,
          0.5276381909547738,
          null
         ]
        },
        {
         "hoverinfo": "none",
         "line": {
          "color": "black",
          "width": 4
         },
         "mode": "lines",
         "type": "scatter3d",
         "x": [
          0.5334469074912569,
          -0.5679012117000678,
          null
         ],
         "y": [
          -0.49140789465100837,
          0.318935612734006,
          null
         ],
         "z": [
          -0.6884422110552765,
          0.7587939698492463,
          null
         ]
        },
        {
         "hoverinfo": "none",
         "line": {
          "color": "black",
          "width": 2
         },
         "mode": "lines",
         "type": "scatter3d",
         "x": [
          0.5334469074912569,
          0.0676279462623623,
          null
         ],
         "y": [
          -0.49140789465100837,
          -0.12420127151757969,
          null
         ],
         "z": [
          -0.6884422110552765,
          0.9899497487437185,
          null
         ]
        },
        {
         "hoverinfo": "none",
         "line": {
          "color": "black",
          "width": 5
         },
         "mode": "lines",
         "type": "scatter3d",
         "x": [
          0.67729665182849,
          0.6211402465143849,
          null
         ],
         "y": [
          -0.2846991294366667,
          0.44041813423680065,
          null
         ],
         "z": [
          -0.678391959798995,
          -0.6482412060301509,
          null
         ]
        },
        {
         "hoverinfo": "none",
         "line": {
          "color": "black",
          "width": 3
         },
         "mode": "lines",
         "type": "scatter3d",
         "x": [
          0.67729665182849,
          -0.4695271916732191,
          null
         ],
         "y": [
          -0.2846991294366667,
          0.7936156341869542,
          null
         ],
         "z": [
          -0.678391959798995,
          -0.3869346733668342,
          null
         ]
        },
        {
         "hoverinfo": "none",
         "line": {
          "color": "black",
          "width": 6
         },
         "mode": "lines",
         "type": "scatter3d",
         "x": [
          0.67729665182849,
          0.7480816348934248,
          null
         ],
         "y": [
          -0.2846991294366667,
          -0.6121222981915062,
          null
         ],
         "z": [
          -0.678391959798995,
          -0.25628140703517577,
          null
         ]
        },
        {
         "hoverinfo": "none",
         "line": {
          "color": "black",
          "width": 7
         },
         "mode": "lines",
         "type": "scatter3d",
         "x": [
          0.67729665182849,
          0.6243280701168443,
          null
         ],
         "y": [
          -0.2846991294366667,
          0.7561787750638941,
          null
         ],
         "z": [
          -0.678391959798995,
          -0.19597989949748734,
          null
         ]
        },
        {
         "hoverinfo": "none",
         "line": {
          "color": "black",
          "width": 6
         },
         "mode": "lines",
         "type": "scatter3d",
         "x": [
          0.67729665182849,
          -0.9288482441833449,
          null
         ],
         "y": [
          -0.2846991294366667,
          0.3485089805742379,
          null
         ],
         "z": [
          -0.678391959798995,
          0.12562814070351763,
          null
         ]
        },
        {
         "hoverinfo": "none",
         "line": {
          "color": "black",
          "width": 7
         },
         "mode": "lines",
         "type": "scatter3d",
         "x": [
          0.67729665182849,
          0.9543101980031311,
          null
         ],
         "y": [
          -0.2846991294366667,
          0.1354972094876758,
          null
         ],
         "z": [
          -0.678391959798995,
          0.26633165829145716,
          null
         ]
        },
        {
         "hoverinfo": "none",
         "line": {
          "color": "black",
          "width": 3
         },
         "mode": "lines",
         "type": "scatter3d",
         "x": [
          0.7427005070540483,
          0.44943909472304994,
          null
         ],
         "y": [
          -0.0414163910048412,
          0.6250734399887283,
          null
         ],
         "z": [
          -0.6683417085427136,
          -0.6381909547738694,
          null
         ]
        },
        {
         "hoverinfo": "none",
         "line": {
          "color": "black",
          "width": 9
         },
         "mode": "lines",
         "type": "scatter3d",
         "x": [
          0.7427005070540483,
          -0.7492577373693531,
          null
         ],
         "y": [
          -0.0414163910048412,
          0.648231607488682,
          null
         ],
         "z": [
          -0.6683417085427136,
          -0.13567839195979897,
          null
         ]
        },
        {
         "hoverinfo": "none",
         "line": {
          "color": "black",
          "width": 3
         },
         "mode": "lines",
         "type": "scatter3d",
         "x": [
          0.7427005070540483,
          -0.9047419231328161,
          null
         ],
         "y": [
          -0.0414163910048412,
          -0.39645300927462035,
          null
         ],
         "z": [
          -0.6683417085427136,
          0.15577889447236173,
          null
         ]
        },
        {
         "hoverinfo": "none",
         "line": {
          "color": "black",
          "width": 3
         },
         "mode": "lines",
         "type": "scatter3d",
         "x": [
          0.7427005070540483,
          -0.5887395729275208,
          null
         ],
         "y": [
          -0.0414163910048412,
          -0.7889563695067934,
          null
         ],
         "z": [
          -0.6683417085427136,
          0.17587939698492458,
          null
         ]
        },
        {
         "hoverinfo": "none",
         "line": {
          "color": "black",
          "width": 3
         },
         "mode": "lines",
         "type": "scatter3d",
         "x": [
          0.7427005070540483,
          -0.707456892094313,
          null
         ],
         "y": [
          -0.0414163910048412,
          -0.360266373382285,
          null
         ],
         "z": [
          -0.6683417085427136,
          0.6080402010050252,
          null
         ]
        },
        {
         "hoverinfo": "none",
         "line": {
          "color": "black",
          "width": 9
         },
         "mode": "lines",
         "type": "scatter3d",
         "x": [
          0.722933490894233,
          0.4105859500056902,
          null
         ],
         "y": [
          0.20980830538180167,
          0.8926641829729847,
          null
         ],
         "z": [
          -0.6582914572864321,
          -0.18592964824120606,
          null
         ]
        },
        {
         "hoverinfo": "none",
         "line": {
          "color": "black",
          "width": 5
         },
         "mode": "lines",
         "type": "scatter3d",
         "x": [
          0.722933490894233,
          -0.5887395729275208,
          null
         ],
         "y": [
          0.20980830538180167,
          -0.7889563695067934,
          null
         ],
         "z": [
          -0.6582914572864321,
          0.17587939698492458,
          null
         ]
        },
        {
         "hoverinfo": "none",
         "line": {
          "color": "black",
          "width": 3
         },
         "mode": "lines",
         "type": "scatter3d",
         "x": [
          0.722933490894233,
          0.7741176022559528,
          null
         ],
         "y": [
          0.20980830538180167,
          -0.5873333961357678,
          null
         ],
         "z": [
          -0.6582914572864321,
          0.23618090452261312,
          null
         ]
        },
        {
         "hoverinfo": "none",
         "line": {
          "color": "black",
          "width": 8
         },
         "mode": "lines",
         "type": "scatter3d",
         "x": [
          0.722933490894233,
          -0.1908820904593788,
          null
         ],
         "y": [
          0.20980830538180167,
          -0.8838094476675942,
          null
         ],
         "z": [
          -0.6582914572864321,
          0.4271356783919597,
          null
         ]
        },
        {
         "hoverinfo": "none",
         "line": {
          "color": "black",
          "width": 4
         },
         "mode": "lines",
         "type": "scatter3d",
         "x": [
          0.722933490894233,
          0.7082279152172981,
          null
         ],
         "y": [
          0.20980830538180167,
          -0.5291593752733467,
          null
         ],
         "z": [
          -0.6582914572864321,
          0.4673366834170853,
          null
         ]
        },
        {
         "hoverinfo": "none",
         "line": {
          "color": "black",
          "width": 3
         },
         "mode": "lines",
         "type": "scatter3d",
         "x": [
          0.722933490894233,
          0.6648572393833766,
          null
         ],
         "y": [
          0.20980830538180167,
          0.264713300257944,
          null
         ],
         "z": [
          -0.6582914572864321,
          0.6984924623115578,
          null
         ]
        },
        {
         "hoverinfo": "none",
         "line": {
          "color": "black",
          "width": 0
         },
         "mode": "lines",
         "type": "scatter3d",
         "x": [
          0.722933490894233,
          -0.4107215962272207,
          null
         ],
         "y": [
          0.20980830538180167,
          0.5202793617472665,
          null
         ],
         "z": [
          -0.6582914572864321,
          0.7487437185929648,
          null
         ]
        },
        {
         "hoverinfo": "none",
         "line": {
          "color": "black",
          "width": 7
         },
         "mode": "lines",
         "type": "scatter3d",
         "x": [
          0.722933490894233,
          0.1400434946507435,
          null
         ],
         "y": [
          0.20980830538180167,
          0.4739452249640167,
          null
         ],
         "z": [
          -0.6582914572864321,
          0.8693467336683418,
          null
         ]
        },
        {
         "hoverinfo": "none",
         "line": {
          "color": "black",
          "width": 5
         },
         "mode": "lines",
         "type": "scatter3d",
         "x": [
          0.722933490894233,
          -0.1303084840790476,
          null
         ],
         "y": [
          0.20980830538180167,
          0.20594207574432036,
          null
         ],
         "z": [
          -0.6582914572864321,
          0.9698492462311559,
          null
         ]
        },
        {
         "hoverinfo": "none",
         "line": {
          "color": "black",
          "width": 8
         },
         "mode": "lines",
         "type": "scatter3d",
         "x": [
          0.6211402465143849,
          0.44943909472304994,
          null
         ],
         "y": [
          0.44041813423680065,
          0.6250734399887283,
          null
         ],
         "z": [
          -0.6482412060301509,
          -0.6381909547738694,
          null
         ]
        },
        {
         "hoverinfo": "none",
         "line": {
          "color": "black",
          "width": 9
         },
         "mode": "lines",
         "type": "scatter3d",
         "x": [
          0.6211402465143849,
          -0.8227463645485272,
          null
         ],
         "y": [
          0.44041813423680065,
          -0.025437514247334803,
          null
         ],
         "z": [
          -0.6482412060301509,
          -0.5678391959798994,
          null
         ]
        },
        {
         "hoverinfo": "none",
         "line": {
          "color": "black",
          "width": 8
         },
         "mode": "lines",
         "type": "scatter3d",
         "x": [
          0.6211402465143849,
          -0.1643943972580509,
          null
         ],
         "y": [
          0.44041813423680065,
          -0.9407830044644023,
          null
         ],
         "z": [
          -0.6482412060301509,
          -0.29648241206030146,
          null
         ]
        },
        {
         "hoverinfo": "none",
         "line": {
          "color": "black",
          "width": 5
         },
         "mode": "lines",
         "type": "scatter3d",
         "x": [
          0.6211402465143849,
          0.8837350468780757,
          null
         ],
         "y": [
          0.44041813423680065,
          -0.3979730956273241,
          null
         ],
         "z": [
          -0.6482412060301509,
          -0.2462311557788945,
          null
         ]
        },
        {
         "hoverinfo": "none",
         "line": {
          "color": "black",
          "width": 4
         },
         "mode": "lines",
         "type": "scatter3d",
         "x": [
          0.6211402465143849,
          -0.4034742971178234,
          null
         ],
         "y": [
          0.44041813423680065,
          0.8507953738854946,
          null
         ],
         "z": [
          -0.6482412060301509,
          0.3366834170854272,
          null
         ]
        },
        {
         "hoverinfo": "none",
         "line": {
          "color": "black",
          "width": 0
         },
         "mode": "lines",
         "type": "scatter3d",
         "x": [
          0.6211402465143849,
          -0.707456892094313,
          null
         ],
         "y": [
          0.44041813423680065,
          -0.360266373382285,
          null
         ],
         "z": [
          -0.6482412060301509,
          0.6080402010050252,
          null
         ]
        },
        {
         "hoverinfo": "none",
         "line": {
          "color": "black",
          "width": 8
         },
         "mode": "lines",
         "type": "scatter3d",
         "x": [
          0.6211402465143849,
          0.3962282650703626,
          null
         ],
         "y": [
          0.44041813423680065,
          -0.6400433729233012,
          null
         ],
         "z": [
          -0.6482412060301509,
          0.6582914572864322,
          null
         ]
        },
        {
         "hoverinfo": "none",
         "line": {
          "color": "black",
          "width": 9
         },
         "mode": "lines",
         "type": "scatter3d",
         "x": [
          0.6211402465143849,
          0.1400434946507435,
          null
         ],
         "y": [
          0.44041813423680065,
          0.4739452249640167,
          null
         ],
         "z": [
          -0.6482412060301509,
          0.8693467336683418,
          null
         ]
        },
        {
         "hoverinfo": "none",
         "line": {
          "color": "black",
          "width": 3
         },
         "mode": "lines",
         "type": "scatter3d",
         "x": [
          0.6211402465143849,
          0.27639958067021775,
          null
         ],
         "y": [
          0.44041813423680065,
          -0.20141999669691893,
          null
         ],
         "z": [
          -0.6482412060301509,
          0.9396984924623115,
          null
         ]
        },
        {
         "hoverinfo": "none",
         "line": {
          "color": "black",
          "width": 0
         },
         "mode": "lines",
         "type": "scatter3d",
         "x": [
          0.44943909472304994,
          0.08868431031648284,
          null
         ],
         "y": [
          0.6250734399887283,
          -0.9539872694962075,
          null
         ],
         "z": [
          -0.6381909547738694,
          -0.28643216080402006,
          null
         ]
        },
        {
         "hoverinfo": "none",
         "line": {
          "color": "black",
          "width": 5
         },
         "mode": "lines",
         "type": "scatter3d",
         "x": [
          0.44943909472304994,
          0.9606193521054072,
          null
         ],
         "y": [
          0.6250734399887283,
          -0.27782226057861037,
          null
         ],
         "z": [
          -0.6381909547738694,
          0.005025125628140593,
          null
         ]
        },
        {
         "hoverinfo": "none",
         "line": {
          "color": "black",
          "width": 6
         },
         "mode": "lines",
         "type": "scatter3d",
         "x": [
          0.44943909472304994,
          0.06798173585948922,
          null
         ],
         "y": [
          0.6250734399887283,
          0.9948350661714466,
          null
         ],
         "z": [
          -0.6381909547738694,
          0.07537688442211064,
          null
         ]
        },
        {
         "hoverinfo": "none",
         "line": {
          "color": "black",
          "width": 9
         },
         "mode": "lines",
         "type": "scatter3d",
         "x": [
          0.44943909472304994,
          -0.985601838057066,
          null
         ],
         "y": [
          0.6250734399887283,
          0.100897922544204,
          null
         ],
         "z": [
          -0.6381909547738694,
          0.13567839195979908,
          null
         ]
        },
        {
         "hoverinfo": "none",
         "line": {
          "color": "black",
          "width": 9
         },
         "mode": "lines",
         "type": "scatter3d",
         "x": [
          0.44943909472304994,
          0.13434625214634502,
          null
         ],
         "y": [
          0.6250734399887283,
          -0.9692794548088852,
          null
         ],
         "z": [
          -0.6381909547738694,
          0.20603015075376876,
          null
         ]
        },
        {
         "hoverinfo": "none",
         "line": {
          "color": "black",
          "width": 6
         },
         "mode": "lines",
         "type": "scatter3d",
         "x": [
          0.44943909472304994,
          0.5970599024521844,
          null
         ],
         "y": [
          0.6250734399887283,
          -0.7696651223338173,
          null
         ],
         "z": [
          -0.6381909547738694,
          0.22613065326633158,
          null
         ]
        },
        {
         "hoverinfo": "none",
         "line": {
          "color": "black",
          "width": 9
         },
         "mode": "lines",
         "type": "scatter3d",
         "x": [
          0.44943909472304994,
          -0.16221249071244484,
          null
         ],
         "y": [
          0.6250734399887283,
          0.9311272108779202,
          null
         ],
         "z": [
          -0.6381909547738694,
          0.3266331658291456,
          null
         ]
        },
        {
         "hoverinfo": "none",
         "line": {
          "color": "black",
          "width": 2
         },
         "mode": "lines",
         "type": "scatter3d",
         "x": [
          0.44943909472304994,
          0.3119136244605593,
          null
         ],
         "y": [
          0.6250734399887283,
          0.6215577541798972,
          null
         ],
         "z": [
          -0.6381909547738694,
          0.7185929648241205,
          null
         ]
        },
        {
         "hoverinfo": "none",
         "line": {
          "color": "black",
          "width": 8
         },
         "mode": "lines",
         "type": "scatter3d",
         "x": [
          0.44943909472304994,
          0.06389728976483165,
          null
         ],
         "y": [
          0.6250734399887283,
          0.6819062985636061,
          null
         ],
         "z": [
          -0.6381909547738694,
          0.728643216080402,
          null
         ]
        },
        {
         "hoverinfo": "none",
         "line": {
          "color": "black",
          "width": 8
         },
         "mode": "lines",
         "type": "scatter3d",
         "x": [
          0.2271342624438953,
          0.6563279444247275,
          null
         ],
         "y": [
          0.7442105101438017,
          -0.575880733433753,
          null
         ],
         "z": [
          -0.6281407035175878,
          -0.48743718592964824,
          null
         ]
        },
        {
         "hoverinfo": "none",
         "line": {
          "color": "black",
          "width": 7
         },
         "mode": "lines",
         "type": "scatter3d",
         "x": [
          0.2271342624438953,
          0.6812730069106526,
          null
         ],
         "y": [
          0.7442105101438017,
          0.5871418508099392,
          null
         ],
         "z": [
          -0.6281407035175878,
          -0.4371859296482414,
          null
         ]
        },
        {
         "hoverinfo": "none",
         "line": {
          "color": "black",
          "width": 6
         },
         "mode": "lines",
         "type": "scatter3d",
         "x": [
          0.2271342624438953,
          -0.6702820247214136,
          null
         ],
         "y": [
          0.7442105101438017,
          0.639280955219031,
          null
         ],
         "z": [
          -0.6281407035175878,
          -0.37688442211055273,
          null
         ]
        },
        {
         "hoverinfo": "none",
         "line": {
          "color": "black",
          "width": 8
         },
         "mode": "lines",
         "type": "scatter3d",
         "x": [
          0.2271342624438953,
          0.7958335820929668,
          null
         ],
         "y": [
          0.7442105101438017,
          0.5693860611162309,
          null
         ],
         "z": [
          -0.6281407035175878,
          -0.20603015075376888,
          null
         ]
        },
        {
         "hoverinfo": "none",
         "line": {
          "color": "black",
          "width": 0
         },
         "mode": "lines",
         "type": "scatter3d",
         "x": [
          0.2271342624438953,
          0.5460301977631995,
          null
         ],
         "y": [
          0.7442105101438017,
          0.8359399169400101,
          null
         ],
         "z": [
          -0.6281407035175878,
          0.05527638190954773,
          null
         ]
        },
        {
         "hoverinfo": "none",
         "line": {
          "color": "black",
          "width": 5
         },
         "mode": "lines",
         "type": "scatter3d",
         "x": [
          0.2271342624438953,
          -0.16221249071244484,
          null
         ],
         "y": [
          0.7442105101438017,
          0.9311272108779202,
          null
         ],
         "z": [
          -0.6281407035175878,
          0.3266331658291456,
          null
         ]
        },
        {
         "hoverinfo": "none",
         "line": {
          "color": "black",
          "width": 9
         },
         "mode": "lines",
         "type": "scatter3d",
         "x": [
          0.2271342624438953,
          0.5319383843782858,
          null
         ],
         "y": [
          0.7442105101438017,
          -0.7126925523580707,
          null
         ],
         "z": [
          -0.6281407035175878,
          0.45728643216080406,
          null
         ]
        },
        {
         "hoverinfo": "none",
         "line": {
          "color": "black",
          "width": 1
         },
         "mode": "lines",
         "type": "scatter3d",
         "x": [
          0.2271342624438953,
          0.7440964149681661,
          null
         ],
         "y": [
          0.7442105101438017,
          0.4344260812178058,
          null
         ],
         "z": [
          -0.6281407035175878,
          0.5075376884422113,
          null
         ]
        },
        {
         "hoverinfo": "none",
         "line": {
          "color": "black",
          "width": 4
         },
         "mode": "lines",
         "type": "scatter3d",
         "x": [
          0.2271342624438953,
          -0.6353138707760849,
          null
         ],
         "y": [
          0.7442105101438017,
          0.07249033916421053,
          null
         ],
         "z": [
          -0.6281407035175878,
          0.7688442211055277,
          null
         ]
        },
        {
         "hoverinfo": "none",
         "line": {
          "color": "black",
          "width": 8
         },
         "mode": "lines",
         "type": "scatter3d",
         "x": [
          0.2271342624438953,
          0.5087685882011274,
          null
         ],
         "y": [
          0.7442105101438017,
          0.14119264331946282,
          null
         ],
         "z": [
          -0.6281407035175878,
          0.8492462311557789,
          null
         ]
        },
        {
         "hoverinfo": "none",
         "line": {
          "color": "black",
          "width": 4
         },
         "mode": "lines",
         "type": "scatter3d",
         "x": [
          -0.021693443738824616,
          -0.4695271916732191,
          null
         ],
         "y": [
          0.7858076019752953,
          0.7936156341869542,
          null
         ],
         "z": [
          -0.6180904522613064,
          -0.3869346733668342,
          null
         ]
        },
        {
         "hoverinfo": "none",
         "line": {
          "color": "black",
          "width": 1
         },
         "mode": "lines",
         "type": "scatter3d",
         "x": [
          -0.021693443738824616,
          0.9134816304942963,
          null
         ],
         "y": [
          0.7858076019752953,
          0.3447616141867552,
          null
         ],
         "z": [
          -0.6180904522613064,
          -0.21608040201005033,
          null
         ]
        },
        {
         "hoverinfo": "none",
         "line": {
          "color": "black",
          "width": 4
         },
         "mode": "lines",
         "type": "scatter3d",
         "x": [
          -0.021693443738824616,
          -0.5591285460316034,
          null
         ],
         "y": [
          0.7858076019752953,
          0.8161730402059268,
          null
         ],
         "z": [
          -0.6180904522613064,
          -0.14572864321608034,
          null
         ]
        },
        {
         "hoverinfo": "none",
         "line": {
          "color": "black",
          "width": 9
         },
         "mode": "lines",
         "type": "scatter3d",
         "x": [
          -0.021693443738824616,
          0.8853301800948286,
          null
         ],
         "y": [
          0.7858076019752953,
          0.4636303804992801,
          null
         ],
         "z": [
          -0.6180904522613064,
          0.03517587939698494,
          null
         ]
        },
        {
         "hoverinfo": "none",
         "line": {
          "color": "black",
          "width": 3
         },
         "mode": "lines",
         "type": "scatter3d",
         "x": [
          -0.021693443738824616,
          0.89774944367018,
          null
         ],
         "y": [
          0.7858076019752953,
          -0.3652617613625499,
          null
         ],
         "z": [
          -0.6180904522613064,
          0.24623115577889462,
          null
         ]
        },
        {
         "hoverinfo": "none",
         "line": {
          "color": "black",
          "width": 3
         },
         "mode": "lines",
         "type": "scatter3d",
         "x": [
          -0.021693443738824616,
          0.09172592356847682,
          null
         ],
         "y": [
          0.7858076019752953,
          0.9441194909258364,
          null
         ],
         "z": [
          -0.6180904522613064,
          0.3165829145728642,
          null
         ]
        },
        {
         "hoverinfo": "none",
         "line": {
          "color": "black",
          "width": 4
         },
         "mode": "lines",
         "type": "scatter3d",
         "x": [
          -0.021693443738824616,
          -0.6386889828957023,
          null
         ],
         "y": [
          0.7858076019752953,
          -0.6529921505841256,
          null
         ],
         "z": [
          -0.6180904522613064,
          0.4070351758793972,
          null
         ]
        },
        {
         "hoverinfo": "none",
         "line": {
          "color": "black",
          "width": 1
         },
         "mode": "lines",
         "type": "scatter3d",
         "x": [
          -0.021693443738824616,
          -0.7231637330577864,
          null
         ],
         "y": [
          0.7858076019752953,
          0.3782565293064855,
          null
         ],
         "z": [
          -0.6180904522613064,
          0.5778894472361809,
          null
         ]
        },
        {
         "hoverinfo": "none",
         "line": {
          "color": "black",
          "width": 0
         },
         "mode": "lines",
         "type": "scatter3d",
         "x": [
          -0.021693443738824616,
          -0.7976204808491804,
          null
         ],
         "y": [
          0.7858076019752953,
          0.13464204197246402,
          null
         ],
         "z": [
          -0.6180904522613064,
          0.5879396984924623,
          null
         ]
        },
        {
         "hoverinfo": "none",
         "line": {
          "color": "black",
          "width": 1
         },
         "mode": "lines",
         "type": "scatter3d",
         "x": [
          -0.021693443738824616,
          0.5212824240995492,
          null
         ],
         "y": [
          0.7858076019752953,
          0.47563836827449124,
          null
         ],
         "z": [
          -0.6180904522613064,
          0.7085427135678393,
          null
         ]
        },
        {
         "hoverinfo": "none",
         "line": {
          "color": "black",
          "width": 3
         },
         "mode": "lines",
         "type": "scatter3d",
         "x": [
          -0.021693443738824616,
          0.30775790638944817,
          null
         ],
         "y": [
          0.7858076019752953,
          0.0571173779137144,
          null
         ],
         "z": [
          -0.6180904522613064,
          0.949748743718593,
          null
         ]
        },
        {
         "hoverinfo": "none",
         "line": {
          "color": "black",
          "width": 8
         },
         "mode": "lines",
         "type": "scatter3d",
         "x": [
          -0.021693443738824616,
          0.0676279462623623,
          null
         ],
         "y": [
          0.7858076019752953,
          -0.12420127151757969,
          null
         ],
         "z": [
          -0.6180904522613064,
          0.9899497487437185,
          null
         ]
        },
        {
         "hoverinfo": "none",
         "line": {
          "color": "black",
          "width": 0
         },
         "mode": "lines",
         "type": "scatter3d",
         "x": [
          -0.27091571301396306,
          -0.9365042078689544,
          null
         ],
         "y": [
          0.7462518277390714,
          -0.052303268368663655,
          null
         ],
         "z": [
          -0.6080402010050251,
          -0.3467336683417085,
          null
         ]
        },
        {
         "hoverinfo": "none",
         "line": {
          "color": "black",
          "width": 1
         },
         "mode": "lines",
         "type": "scatter3d",
         "x": [
          -0.27091571301396306,
          -0.8405173138299454,
          null
         ],
         "y": [
          0.7462518277390714,
          -0.5350073360636081,
          null
         ],
         "z": [
          -0.6080402010050251,
          -0.08542713567839195,
          null
         ]
        },
        {
         "hoverinfo": "none",
         "line": {
          "color": "black",
          "width": 3
         },
         "mode": "lines",
         "type": "scatter3d",
         "x": [
          -0.27091571301396306,
          -0.47275790495820047,
          null
         ],
         "y": [
          0.7462518277390714,
          -0.8787675428113799,
          null
         ],
         "z": [
          -0.6080402010050251,
          -0.06532663316582904,
          null
         ]
        },
        {
         "hoverinfo": "none",
         "line": {
          "color": "black",
          "width": 8
         },
         "mode": "lines",
         "type": "scatter3d",
         "x": [
          -0.27091571301396306,
          0.89774944367018,
          null
         ],
         "y": [
          0.7462518277390714,
          -0.3652617613625499,
          null
         ],
         "z": [
          -0.6080402010050251,
          0.24623115577889462,
          null
         ]
        },
        {
         "hoverinfo": "none",
         "line": {
          "color": "black",
          "width": 0
         },
         "mode": "lines",
         "type": "scatter3d",
         "x": [
          -0.27091571301396306,
          -0.8858140940564723,
          null
         ],
         "y": [
          0.7462518277390714,
          0.2841937400165084,
          null
         ],
         "z": [
          -0.6080402010050251,
          0.3668341708542712,
          null
         ]
        },
        {
         "hoverinfo": "none",
         "line": {
          "color": "black",
          "width": 3
         },
         "mode": "lines",
         "type": "scatter3d",
         "x": [
          -0.27091571301396306,
          0.5212824240995492,
          null
         ],
         "y": [
          0.7462518277390714,
          0.47563836827449124,
          null
         ],
         "z": [
          -0.6080402010050251,
          0.7085427135678393,
          null
         ]
        },
        {
         "hoverinfo": "none",
         "line": {
          "color": "black",
          "width": 2
         },
         "mode": "lines",
         "type": "scatter3d",
         "x": [
          -0.27091571301396306,
          -0.004587855210254107,
          null
         ],
         "y": [
          0.7462518277390714,
          -0.5877284863436261,
          null
         ],
         "z": [
          -0.6080402010050251,
          0.8090452261306533,
          null
         ]
        },
        {
         "hoverinfo": "none",
         "line": {
          "color": "black",
          "width": 9
         },
         "mode": "lines",
         "type": "scatter3d",
         "x": [
          -0.27091571301396306,
          0.5317207462626569,
          null
         ],
         "y": [
          0.7462518277390714,
          -0.11411904010464476,
          null
         ],
         "z": [
          -0.6080402010050251,
          0.8391959798994975,
          null
         ]
        },
        {
         "hoverinfo": "none",
         "line": {
          "color": "black",
          "width": 8
         },
         "mode": "lines",
         "type": "scatter3d",
         "x": [
          -0.4951054392952383,
          -0.02552158648393625,
          null
         ],
         "y": [
          0.6303004235916108,
          -0.8552493047655827,
          null
         ],
         "z": [
          -0.5979899497487439,
          -0.5175879396984926,
          null
         ]
        },
        {
         "hoverinfo": "none",
         "line": {
          "color": "black",
          "width": 7
         },
         "mode": "lines",
         "type": "scatter3d",
         "x": [
          -0.4951054392952383,
          0.08868431031648284,
          null
         ],
         "y": [
          0.6303004235916108,
          -0.9539872694962075,
          null
         ],
         "z": [
          -0.5979899497487439,
          -0.28643216080402006,
          null
         ]
        },
        {
         "hoverinfo": "none",
         "line": {
          "color": "black",
          "width": 9
         },
         "mode": "lines",
         "type": "scatter3d",
         "x": [
          -0.4951054392952383,
          -0.9928784759284608,
          null
         ],
         "y": [
          0.6303004235916108,
          -0.05528335749405927,
          null
         ],
         "z": [
          -0.5979899497487439,
          -0.10552763819095481,
          null
         ]
        },
        {
         "hoverinfo": "none",
         "line": {
          "color": "black",
          "width": 1
         },
         "mode": "lines",
         "type": "scatter3d",
         "x": [
          -0.4951054392952383,
          -0.7722794062760031,
          null
         ],
         "y": [
          0.6303004235916108,
          -0.6132578683301932,
          null
         ],
         "z": [
          -0.5979899497487439,
          0.16582914572864324,
          null
         ]
        },
        {
         "hoverinfo": "none",
         "line": {
          "color": "black",
          "width": 1
         },
         "mode": "lines",
         "type": "scatter3d",
         "x": [
          -0.4951054392952383,
          -0.6386889828957023,
          null
         ],
         "y": [
          0.6303004235916108,
          -0.6529921505841256,
          null
         ],
         "z": [
          -0.5979899497487439,
          0.4070351758793972,
          null
         ]
        },
        {
         "hoverinfo": "none",
         "line": {
          "color": "black",
          "width": 1
         },
         "mode": "lines",
         "type": "scatter3d",
         "x": [
          -0.4951054392952383,
          0.7440964149681661,
          null
         ],
         "y": [
          0.6303004235916108,
          0.4344260812178058,
          null
         ],
         "z": [
          -0.5979899497487439,
          0.5075376884422113,
          null
         ]
        },
        {
         "hoverinfo": "none",
         "line": {
          "color": "black",
          "width": 5
         },
         "mode": "lines",
         "type": "scatter3d",
         "x": [
          -0.4951054392952383,
          -0.5679012117000678,
          null
         ],
         "y": [
          0.6303004235916108,
          0.318935612734006,
          null
         ],
         "z": [
          -0.5979899497487439,
          0.7587939698492463,
          null
         ]
        },
        {
         "hoverinfo": "none",
         "line": {
          "color": "black",
          "width": 4
         },
         "mode": "lines",
         "type": "scatter3d",
         "x": [
          -0.4951054392952383,
          0.1297116280928751,
          null
         ],
         "y": [
          0.6303004235916108,
          0.24891922943540667,
          null
         ],
         "z": [
          -0.5979899497487439,
          0.9597989949748744,
          null
         ]
        },
        {
         "hoverinfo": "none",
         "line": {
          "color": "black",
          "width": 4
         },
         "mode": "lines",
         "type": "scatter3d",
         "x": [
          -0.672034824294811,
          -0.02552158648393625,
          null
         ],
         "y": [
          0.4502178426846665,
          -0.8552493047655827,
          null
         ],
         "z": [
          -0.5879396984924623,
          -0.5175879396984926,
          null
         ]
        },
        {
         "hoverinfo": "none",
         "line": {
          "color": "black",
          "width": 4
         },
         "mode": "lines",
         "type": "scatter3d",
         "x": [
          -0.672034824294811,
          -0.47275790495820047,
          null
         ],
         "y": [
          0.4502178426846665,
          -0.8787675428113799,
          null
         ],
         "z": [
          -0.5879396984924623,
          -0.06532663316582904,
          null
         ]
        },
        {
         "hoverinfo": "none",
         "line": {
          "color": "black",
          "width": 7
         },
         "mode": "lines",
         "type": "scatter3d",
         "x": [
          -0.672034824294811,
          -0.42668500783452756,
          null
         ],
         "y": [
          0.4502178426846665,
          0.8993464141660742,
          null
         ],
         "z": [
          -0.5879396984924623,
          0.09547738693467349,
          null
         ]
        },
        {
         "hoverinfo": "none",
         "line": {
          "color": "black",
          "width": 9
         },
         "mode": "lines",
         "type": "scatter3d",
         "x": [
          -0.672034824294811,
          0.3399549164860912,
          null
         ],
         "y": [
          0.4502178426846665,
          0.8890828876302689,
          null
         ],
         "z": [
          -0.5879396984924623,
          0.30653266331658297,
          null
         ]
        },
        {
         "hoverinfo": "none",
         "line": {
          "color": "black",
          "width": 7
         },
         "mode": "lines",
         "type": "scatter3d",
         "x": [
          -0.672034824294811,
          0.7440964149681661,
          null
         ],
         "y": [
          0.4502178426846665,
          0.4344260812178058,
          null
         ],
         "z": [
          -0.5879396984924623,
          0.5075376884422113,
          null
         ]
        },
        {
         "hoverinfo": "none",
         "line": {
          "color": "black",
          "width": 7
         },
         "mode": "lines",
         "type": "scatter3d",
         "x": [
          -0.672034824294811,
          0.3119136244605593,
          null
         ],
         "y": [
          0.4502178426846665,
          0.6215577541798972,
          null
         ],
         "z": [
          -0.5879396984924623,
          0.7185929648241205,
          null
         ]
        },
        {
         "hoverinfo": "none",
         "line": {
          "color": "black",
          "width": 4
         },
         "mode": "lines",
         "type": "scatter3d",
         "x": [
          -0.672034824294811,
          -0.11657616359218419,
          null
         ],
         "y": [
          0.4502178426846665,
          0.4615960799092759,
          null
         ],
         "z": [
          -0.5879396984924623,
          0.879396984924623,
          null
         ]
        },
        {
         "hoverinfo": "none",
         "line": {
          "color": "black",
          "width": 3
         },
         "mode": "lines",
         "type": "scatter3d",
         "x": [
          -0.7847039751073679,
          0.9134816304942963,
          null
         ],
         "y": [
          0.22423973382020593,
          0.3447616141867552,
          null
         ],
         "z": [
          -0.5778894472361807,
          -0.21608040201005033,
          null
         ]
        },
        {
         "hoverinfo": "none",
         "line": {
          "color": "black",
          "width": 9
         },
         "mode": "lines",
         "type": "scatter3d",
         "x": [
          -0.7847039751073679,
          0.8829535645133417,
          null
         ],
         "y": [
          0.22423973382020593,
          0.37948128147239324,
          null
         ],
         "z": [
          -0.5778894472361807,
          0.2763819095477386,
          null
         ]
        },
        {
         "hoverinfo": "none",
         "line": {
          "color": "black",
          "width": 2
         },
         "mode": "lines",
         "type": "scatter3d",
         "x": [
          -0.7847039751073679,
          -0.6386889828957023,
          null
         ],
         "y": [
          0.22423973382020593,
          -0.6529921505841256,
          null
         ],
         "z": [
          -0.5778894472361807,
          0.4070351758793972,
          null
         ]
        },
        {
         "hoverinfo": "none",
         "line": {
          "color": "black",
          "width": 2
         },
         "mode": "lines",
         "type": "scatter3d",
         "x": [
          -0.7847039751073679,
          -0.707456892094313,
          null
         ],
         "y": [
          0.22423973382020593,
          -0.360266373382285,
          null
         ],
         "z": [
          -0.5778894472361807,
          0.6080402010050252,
          null
         ]
        },
        {
         "hoverinfo": "none",
         "line": {
          "color": "black",
          "width": 6
         },
         "mode": "lines",
         "type": "scatter3d",
         "x": [
          -0.8227463645485272,
          0.13434625214634502,
          null
         ],
         "y": [
          -0.025437514247334803,
          -0.9692794548088852,
          null
         ],
         "z": [
          -0.5678391959798994,
          0.20603015075376876,
          null
         ]
        },
        {
         "hoverinfo": "none",
         "line": {
          "color": "black",
          "width": 8
         },
         "mode": "lines",
         "type": "scatter3d",
         "x": [
          -0.8227463645485272,
          0.3108397890520478,
          null
         ],
         "y": [
          -0.025437514247334803,
          -0.8386646672133121,
          null
         ],
         "z": [
          -0.5678391959798994,
          0.44723618090452255,
          null
         ]
        },
        {
         "hoverinfo": "none",
         "line": {
          "color": "black",
          "width": 7
         },
         "mode": "lines",
         "type": "scatter3d",
         "x": [
          -0.8227463645485272,
          -0.7231637330577864,
          null
         ],
         "y": [
          -0.025437514247334803,
          0.3782565293064855,
          null
         ],
         "z": [
          -0.5678391959798994,
          0.5778894472361809,
          null
         ]
        },
        {
         "hoverinfo": "none",
         "line": {
          "color": "black",
          "width": 3
         },
         "mode": "lines",
         "type": "scatter3d",
         "x": [
          -0.8227463645485272,
          0.5212824240995492,
          null
         ],
         "y": [
          -0.025437514247334803,
          0.47563836827449124,
          null
         ],
         "z": [
          -0.5678391959798994,
          0.7085427135678393,
          null
         ]
        },
        {
         "hoverinfo": "none",
         "line": {
          "color": "black",
          "width": 5
         },
         "mode": "lines",
         "type": "scatter3d",
         "x": [
          -0.8227463645485272,
          0.3119136244605593,
          null
         ],
         "y": [
          -0.025437514247334803,
          0.6215577541798972,
          null
         ],
         "z": [
          -0.5678391959798994,
          0.7185929648241205,
          null
         ]
        },
        {
         "hoverinfo": "none",
         "line": {
          "color": "black",
          "width": 9
         },
         "mode": "lines",
         "type": "scatter3d",
         "x": [
          -0.8227463645485272,
          -0.4107215962272207,
          null
         ],
         "y": [
          -0.025437514247334803,
          0.5202793617472665,
          null
         ],
         "z": [
          -0.5678391959798994,
          0.7487437185929648,
          null
         ]
        },
        {
         "hoverinfo": "none",
         "line": {
          "color": "black",
          "width": 2
         },
         "mode": "lines",
         "type": "scatter3d",
         "x": [
          -0.8227463645485272,
          0,
          null
         ],
         "y": [
          -0.025437514247334803,
          0,
          null
         ],
         "z": [
          -0.5678391959798994,
          1,
          null
         ]
        },
        {
         "hoverinfo": "none",
         "line": {
          "color": "black",
          "width": 0
         },
         "mode": "lines",
         "type": "scatter3d",
         "x": [
          -0.7831291349132213,
          -0.23599909505127642,
          null
         ],
         "y": [
          -0.274918626495518,
          -0.970179853809575,
          null
         ],
         "z": [
          -0.5577889447236182,
          -0.05527638190954783,
          null
         ]
        },
        {
         "hoverinfo": "none",
         "line": {
          "color": "black",
          "width": 2
         },
         "mode": "lines",
         "type": "scatter3d",
         "x": [
          -0.7831291349132213,
          -0.11973939666335258,
          null
         ],
         "y": [
          -0.274918626495518,
          -0.9732699296082516,
          null
         ],
         "z": [
          -0.5577889447236182,
          0.19597989949748745,
          null
         ]
        },
        {
         "hoverinfo": "none",
         "line": {
          "color": "black",
          "width": 4
         },
         "mode": "lines",
         "type": "scatter3d",
         "x": [
          -0.7831291349132213,
          0.12037404304848949,
          null
         ],
         "y": [
          -0.274918626495518,
          0.834506578088399,
          null
         ],
         "z": [
          -0.5577889447236182,
          0.5376884422110553,
          null
         ]
        },
        {
         "hoverinfo": "none",
         "line": {
          "color": "black",
          "width": 3
         },
         "mode": "lines",
         "type": "scatter3d",
         "x": [
          -0.7831291349132213,
          0.725096144076266,
          null
         ],
         "y": [
          -0.274918626495518,
          0.01681974681893568,
          null
         ],
         "z": [
          -0.5577889447236182,
          0.6884422110552764,
          null
         ]
        },
        {
         "hoverinfo": "none",
         "line": {
          "color": "black",
          "width": 3
         },
         "mode": "lines",
         "type": "scatter3d",
         "x": [
          -0.7831291349132213,
          0.5212824240995492,
          null
         ],
         "y": [
          -0.274918626495518,
          0.47563836827449124,
          null
         ],
         "z": [
          -0.5577889447236182,
          0.7085427135678393,
          null
         ]
        },
        {
         "hoverinfo": "none",
         "line": {
          "color": "black",
          "width": 3
         },
         "mode": "lines",
         "type": "scatter3d",
         "x": [
          -0.7831291349132213,
          -0.6353138707760849,
          null
         ],
         "y": [
          -0.274918626495518,
          0.07249033916421053,
          null
         ],
         "z": [
          -0.5577889447236182,
          0.7688442211055277,
          null
         ]
        },
        {
         "hoverinfo": "none",
         "line": {
          "color": "black",
          "width": 5
         },
         "mode": "lines",
         "type": "scatter3d",
         "x": [
          -0.7831291349132213,
          0.24223438436005945,
          null
         ],
         "y": [
          -0.274918626495518,
          -0.5200049057056794,
          null
         ],
         "z": [
          -0.5577889447236182,
          0.8190954773869348,
          null
         ]
        },
        {
         "hoverinfo": "none",
         "line": {
          "color": "black",
          "width": 2
         },
         "mode": "lines",
         "type": "scatter3d",
         "x": [
          -0.6701371795582428,
          0.22617275089540043,
          null
         ],
         "y": [
          -0.5008976784258622,
          -0.8314152882664261,
          null
         ],
         "z": [
          -0.5477386934673367,
          -0.5075376884422109,
          null
         ]
        },
        {
         "hoverinfo": "none",
         "line": {
          "color": "black",
          "width": 0
         },
         "mode": "lines",
         "type": "scatter3d",
         "x": [
          -0.6701371795582428,
          -0.8216546571450994,
          null
         ],
         "y": [
          -0.5008976784258622,
          0.4362525822106138,
          null
         ],
         "z": [
          -0.5477386934673367,
          -0.36683417085427134,
          null
         ]
        },
        {
         "hoverinfo": "none",
         "line": {
          "color": "black",
          "width": 9
         },
         "mode": "lines",
         "type": "scatter3d",
         "x": [
          -0.6701371795582428,
          -0.42668500783452756,
          null
         ],
         "y": [
          -0.5008976784258622,
          0.8993464141660742,
          null
         ],
         "z": [
          -0.5477386934673367,
          0.09547738693467349,
          null
         ]
        },
        {
         "hoverinfo": "none",
         "line": {
          "color": "black",
          "width": 2
         },
         "mode": "lines",
         "type": "scatter3d",
         "x": [
          -0.6701371795582428,
          0.3788192430037307,
          null
         ],
         "y": [
          -0.5008976784258622,
          -0.8998917940492931,
          null
         ],
         "z": [
          -0.5477386934673367,
          0.21608040201005022,
          null
         ]
        },
        {
         "hoverinfo": "none",
         "line": {
          "color": "black",
          "width": 9
         },
         "mode": "lines",
         "type": "scatter3d",
         "x": [
          -0.6701371795582428,
          0.09172592356847682,
          null
         ],
         "y": [
          -0.5008976784258622,
          0.9441194909258364,
          null
         ],
         "z": [
          -0.5477386934673367,
          0.3165829145728642,
          null
         ]
        },
        {
         "hoverinfo": "none",
         "line": {
          "color": "black",
          "width": 0
         },
         "mode": "lines",
         "type": "scatter3d",
         "x": [
          -0.6701371795582428,
          -0.004587855210254107,
          null
         ],
         "y": [
          -0.5008976784258622,
          -0.5877284863436261,
          null
         ],
         "z": [
          -0.5477386934673367,
          0.8090452261306533,
          null
         ]
        },
        {
         "hoverinfo": "none",
         "line": {
          "color": "black",
          "width": 7
         },
         "mode": "lines",
         "type": "scatter3d",
         "x": [
          -0.6701371795582428,
          -0.11657616359218419,
          null
         ],
         "y": [
          -0.5008976784258622,
          0.4615960799092759,
          null
         ],
         "z": [
          -0.5477386934673367,
          0.879396984924623,
          null
         ]
        },
        {
         "hoverinfo": "none",
         "line": {
          "color": "black",
          "width": 5
         },
         "mode": "lines",
         "type": "scatter3d",
         "x": [
          -0.6701371795582428,
          -0.1303084840790476,
          null
         ],
         "y": [
          -0.5008976784258622,
          0.20594207574432036,
          null
         ],
         "z": [
          -0.5477386934673367,
          0.9698492462311559,
          null
         ]
        },
        {
         "hoverinfo": "none",
         "line": {
          "color": "black",
          "width": 2
         },
         "mode": "lines",
         "type": "scatter3d",
         "x": [
          -0.49469427933914145,
          0.3363668860791254,
          null
         ],
         "y": [
          -0.682765486167671,
          -0.9002612720894853,
          null
         ],
         "z": [
          -0.5376884422110554,
          -0.2763819095477387,
          null
         ]
        },
        {
         "hoverinfo": "none",
         "line": {
          "color": "black",
          "width": 2
         },
         "mode": "lines",
         "type": "scatter3d",
         "x": [
          -0.49469427933914145,
          0.6243280701168443,
          null
         ],
         "y": [
          -0.682765486167671,
          0.7561787750638941,
          null
         ],
         "z": [
          -0.5376884422110554,
          -0.19597989949748734,
          null
         ]
        },
        {
         "hoverinfo": "none",
         "line": {
          "color": "black",
          "width": 0
         },
         "mode": "lines",
         "type": "scatter3d",
         "x": [
          -0.49469427933914145,
          -0.42668500783452756,
          null
         ],
         "y": [
          -0.682765486167671,
          0.8993464141660742,
          null
         ],
         "z": [
          -0.5376884422110554,
          0.09547738693467349,
          null
         ]
        },
        {
         "hoverinfo": "none",
         "line": {
          "color": "black",
          "width": 4
         },
         "mode": "lines",
         "type": "scatter3d",
         "x": [
          -0.49469427933914145,
          -0.7722794062760031,
          null
         ],
         "y": [
          -0.682765486167671,
          -0.6132578683301932,
          null
         ],
         "z": [
          -0.5376884422110554,
          0.16582914572864324,
          null
         ]
        },
        {
         "hoverinfo": "none",
         "line": {
          "color": "black",
          "width": 5
         },
         "mode": "lines",
         "type": "scatter3d",
         "x": [
          -0.49469427933914145,
          -0.6143899953864282,
          null
         ],
         "y": [
          -0.682765486167671,
          0.7087317523628855,
          null
         ],
         "z": [
          -0.5376884422110554,
          0.3467336683417086,
          null
         ]
        },
        {
         "hoverinfo": "none",
         "line": {
          "color": "black",
          "width": 7
         },
         "mode": "lines",
         "type": "scatter3d",
         "x": [
          -0.49469427933914145,
          0.36776528457450497,
          null
         ],
         "y": [
          -0.682765486167671,
          0.35546905741019574,
          null
         ],
         "z": [
          -0.5376884422110554,
          0.8592964824120604,
          null
         ]
        },
        {
         "hoverinfo": "none",
         "line": {
          "color": "black",
          "width": 5
         },
         "mode": "lines",
         "type": "scatter3d",
         "x": [
          -0.49469427933914145,
          -0.18633022541047584,
          null
         ],
         "y": [
          -0.682765486167671,
          -0.3458620880912837,
          null
         ],
         "z": [
          -0.5376884422110554,
          0.9195979899497488,
          null
         ]
        },
        {
         "hoverinfo": "none",
         "line": {
          "color": "black",
          "width": 1
         },
         "mode": "lines",
         "type": "scatter3d",
         "x": [
          -0.2731277093851147,
          -0.23434121536311986,
          null
         ],
         "y": [
          -0.8043626009530863,
          0.8874047353964903,
          null
         ],
         "z": [
          -0.5276381909547739,
          -0.3969849246231156,
          null
         ]
        },
        {
         "hoverinfo": "none",
         "line": {
          "color": "black",
          "width": 0
         },
         "mode": "lines",
         "type": "scatter3d",
         "x": [
          -0.2731277093851147,
          0.9591176411373035,
          null
         ],
         "y": [
          -0.8043626009530863,
          -0.1559228360378783,
          null
         ],
         "z": [
          -0.5276381909547739,
          -0.236180904522613,
          null
         ]
        },
        {
         "hoverinfo": "none",
         "line": {
          "color": "black",
          "width": 9
         },
         "mode": "lines",
         "type": "scatter3d",
         "x": [
          -0.2731277093851147,
          0.9543101980031311,
          null
         ],
         "y": [
          -0.8043626009530863,
          0.1354972094876758,
          null
         ],
         "z": [
          -0.5276381909547739,
          0.26633165829145716,
          null
         ]
        },
        {
         "hoverinfo": "none",
         "line": {
          "color": "black",
          "width": 4
         },
         "mode": "lines",
         "type": "scatter3d",
         "x": [
          -0.2731277093851147,
          0.8829535645133417,
          null
         ],
         "y": [
          -0.8043626009530863,
          0.37948128147239324,
          null
         ],
         "z": [
          -0.5276381909547739,
          0.2763819095477386,
          null
         ]
        },
        {
         "hoverinfo": "none",
         "line": {
          "color": "black",
          "width": 3
         },
         "mode": "lines",
         "type": "scatter3d",
         "x": [
          -0.2731277093851147,
          -0.2566312989684941,
          null
         ],
         "y": [
          -0.8043626009530863,
          -0.5438266327748627,
          null
         ],
         "z": [
          -0.5276381909547739,
          0.7989949748743719,
          null
         ]
        },
        {
         "hoverinfo": "none",
         "line": {
          "color": "black",
          "width": 6
         },
         "mode": "lines",
         "type": "scatter3d",
         "x": [
          -0.2731277093851147,
          -0.3779945609644943,
          null
         ],
         "y": [
          -0.8043626009530863,
          -0.17275133261095033,
          null
         ],
         "z": [
          -0.5276381909547739,
          0.9095477386934674,
          null
         ]
        },
        {
         "hoverinfo": "none",
         "line": {
          "color": "black",
          "width": 3
         },
         "mode": "lines",
         "type": "scatter3d",
         "x": [
          -0.2731277093851147,
          0,
          null
         ],
         "y": [
          -0.8043626009530863,
          0,
          null
         ],
         "z": [
          -0.5276381909547739,
          1,
          null
         ]
        },
        {
         "hoverinfo": "none",
         "line": {
          "color": "black",
          "width": 8
         },
         "mode": "lines",
         "type": "scatter3d",
         "x": [
          -0.02552158648393625,
          0.813632848484258,
          null
         ],
         "y": [
          -0.8552493047655827,
          0.3714584584544138,
          null
         ],
         "z": [
          -0.5175879396984926,
          -0.4472361809045229,
          null
         ]
        },
        {
         "hoverinfo": "none",
         "line": {
          "color": "black",
          "width": 9
         },
         "mode": "lines",
         "type": "scatter3d",
         "x": [
          -0.02552158648393625,
          0.26672823542793117,
          null
         ],
         "y": [
          -0.8552493047655827,
          0.8688473944810738,
          null
         ],
         "z": [
          -0.5175879396984926,
          -0.4170854271356784,
          null
         ]
        },
        {
         "hoverinfo": "none",
         "line": {
          "color": "black",
          "width": 6
         },
         "mode": "lines",
         "type": "scatter3d",
         "x": [
          -0.02552158648393625,
          -0.8216546571450994,
          null
         ],
         "y": [
          -0.8552493047655827,
          0.4362525822106138,
          null
         ],
         "z": [
          -0.5175879396984926,
          -0.36683417085427134,
          null
         ]
        },
        {
         "hoverinfo": "none",
         "line": {
          "color": "black",
          "width": 9
         },
         "mode": "lines",
         "type": "scatter3d",
         "x": [
          -0.02552158648393625,
          -0.40503694008954455,
          null
         ],
         "y": [
          -0.8552493047655827,
          -0.86138423684378,
          null
         ],
         "z": [
          -0.5175879396984926,
          -0.3065326633165828,
          null
         ]
        },
        {
         "hoverinfo": "none",
         "line": {
          "color": "black",
          "width": 0
         },
         "mode": "lines",
         "type": "scatter3d",
         "x": [
          -0.02552158648393625,
          0.7480816348934248,
          null
         ],
         "y": [
          -0.8552493047655827,
          -0.6121222981915062,
          null
         ],
         "z": [
          -0.5175879396984926,
          -0.25628140703517577,
          null
         ]
        },
        {
         "hoverinfo": "none",
         "line": {
          "color": "black",
          "width": 4
         },
         "mode": "lines",
         "type": "scatter3d",
         "x": [
          -0.02552158648393625,
          0.16898247772841876,
          null
         ],
         "y": [
          -0.8552493047655827,
          0.9697996493796973,
          null
         ],
         "z": [
          -0.5175879396984926,
          -0.17587939698492466,
          null
         ]
        },
        {
         "hoverinfo": "none",
         "line": {
          "color": "black",
          "width": 8
         },
         "mode": "lines",
         "type": "scatter3d",
         "x": [
          -0.02552158648393625,
          -0.8904277233305821,
          null
         ],
         "y": [
          -0.8552493047655827,
          0.43744261313650457,
          null
         ],
         "z": [
          -0.5175879396984926,
          -0.12562814070351752,
          null
         ]
        },
        {
         "hoverinfo": "none",
         "line": {
          "color": "black",
          "width": 8
         },
         "mode": "lines",
         "type": "scatter3d",
         "x": [
          -0.02552158648393625,
          0.739575014981879,
          null
         ],
         "y": [
          -0.8552493047655827,
          0.6715529720883432,
          null
         ],
         "z": [
          -0.5175879396984926,
          0.045226130653266486,
          null
         ]
        },
        {
         "hoverinfo": "none",
         "line": {
          "color": "black",
          "width": 4
         },
         "mode": "lines",
         "type": "scatter3d",
         "x": [
          -0.02552158648393625,
          0.9543101980031311,
          null
         ],
         "y": [
          -0.8552493047655827,
          0.1354972094876758,
          null
         ],
         "z": [
          -0.5175879396984926,
          0.26633165829145716,
          null
         ]
        },
        {
         "hoverinfo": "none",
         "line": {
          "color": "black",
          "width": 0
         },
         "mode": "lines",
         "type": "scatter3d",
         "x": [
          -0.02552158648393625,
          0.7500220497040564,
          null
         ],
         "y": [
          -0.8552493047655827,
          0.5961740871715794,
          null
         ],
         "z": [
          -0.5175879396984926,
          0.2864321608040202,
          null
         ]
        },
        {
         "hoverinfo": "none",
         "line": {
          "color": "black",
          "width": 8
         },
         "mode": "lines",
         "type": "scatter3d",
         "x": [
          -0.02552158648393625,
          -0.4034742971178234,
          null
         ],
         "y": [
          -0.8552493047655827,
          0.8507953738854946,
          null
         ],
         "z": [
          -0.5175879396984926,
          0.3366834170854272,
          null
         ]
        },
        {
         "hoverinfo": "none",
         "line": {
          "color": "black",
          "width": 4
         },
         "mode": "lines",
         "type": "scatter3d",
         "x": [
          -0.02552158648393625,
          0.43486403352118225,
          null
         ],
         "y": [
          -0.8552493047655827,
          -0.351298495616475,
          null
         ],
         "z": [
          -0.5175879396984926,
          0.829145728643216,
          null
         ]
        },
        {
         "hoverinfo": "none",
         "line": {
          "color": "black",
          "width": 3
         },
         "mode": "lines",
         "type": "scatter3d",
         "x": [
          0.22617275089540043,
          0.8751100997786688,
          null
         ],
         "y": [
          -0.8314152882664261,
          -0.12561344513262568,
          null
         ],
         "z": [
          -0.5075376884422109,
          -0.4673366834170854,
          null
         ]
        },
        {
         "hoverinfo": "none",
         "line": {
          "color": "black",
          "width": 2
         },
         "mode": "lines",
         "type": "scatter3d",
         "x": [
          0.22617275089540043,
          -0.1643943972580509,
          null
         ],
         "y": [
          -0.8314152882664261,
          -0.9407830044644023,
          null
         ],
         "z": [
          -0.5075376884422109,
          -0.29648241206030146,
          null
         ]
        },
        {
         "hoverinfo": "none",
         "line": {
          "color": "black",
          "width": 7
         },
         "mode": "lines",
         "type": "scatter3d",
         "x": [
          0.22617275089540043,
          0.16898247772841876,
          null
         ],
         "y": [
          -0.8314152882664261,
          0.9697996493796973,
          null
         ],
         "z": [
          -0.5075376884422109,
          -0.17587939698492466,
          null
         ]
        },
        {
         "hoverinfo": "none",
         "line": {
          "color": "black",
          "width": 6
         },
         "mode": "lines",
         "type": "scatter3d",
         "x": [
          0.22617275089540043,
          0.5460301977631995,
          null
         ],
         "y": [
          -0.8314152882664261,
          0.8359399169400101,
          null
         ],
         "z": [
          -0.5075376884422109,
          0.05527638190954773,
          null
         ]
        },
        {
         "hoverinfo": "none",
         "line": {
          "color": "black",
          "width": 6
         },
         "mode": "lines",
         "type": "scatter3d",
         "x": [
          0.22617275089540043,
          0.31722051404782214,
          null
         ],
         "y": [
          -0.8314152882664261,
          0.9460991367010397,
          null
         ],
         "z": [
          -0.5075376884422109,
          0.06532663316582916,
          null
         ]
        },
        {
         "hoverinfo": "none",
         "line": {
          "color": "black",
          "width": 4
         },
         "mode": "lines",
         "type": "scatter3d",
         "x": [
          0.22617275089540043,
          0.09172592356847682,
          null
         ],
         "y": [
          -0.8314152882664261,
          0.9441194909258364,
          null
         ],
         "z": [
          -0.5075376884422109,
          0.3165829145728642,
          null
         ]
        },
        {
         "hoverinfo": "none",
         "line": {
          "color": "black",
          "width": 9
         },
         "mode": "lines",
         "type": "scatter3d",
         "x": [
          0.22617275089540043,
          0.8440290778788562,
          null
         ],
         "y": [
          -0.8314152882664261,
          0.20030268479764154,
          null
         ],
         "z": [
          -0.5075376884422109,
          0.49748743718592975,
          null
         ]
        },
        {
         "hoverinfo": "none",
         "line": {
          "color": "black",
          "width": 7
         },
         "mode": "lines",
         "type": "scatter3d",
         "x": [
          0.22617275089540043,
          -0.1341208174448031,
          null
         ],
         "y": [
          -0.8314152882664261,
          0.8258292378007893,
          null
         ],
         "z": [
          -0.5075376884422109,
          0.5477386934673367,
          null
         ]
        },
        {
         "hoverinfo": "none",
         "line": {
          "color": "black",
          "width": 4
         },
         "mode": "lines",
         "type": "scatter3d",
         "x": [
          0.22617275089540043,
          -0.004587855210254107,
          null
         ],
         "y": [
          -0.8314152882664261,
          -0.5877284863436261,
          null
         ],
         "z": [
          -0.5075376884422109,
          0.8090452261306533,
          null
         ]
        },
        {
         "hoverinfo": "none",
         "line": {
          "color": "black",
          "width": 7
         },
         "mode": "lines",
         "type": "scatter3d",
         "x": [
          0.22617275089540043,
          -0.3779945609644943,
          null
         ],
         "y": [
          -0.8314152882664261,
          -0.17275133261095033,
          null
         ],
         "z": [
          -0.5075376884422109,
          0.9095477386934674,
          null
         ]
        },
        {
         "hoverinfo": "none",
         "line": {
          "color": "black",
          "width": 9
         },
         "mode": "lines",
         "type": "scatter3d",
         "x": [
          0.22617275089540043,
          -0.1922969882497981,
          null
         ],
         "y": [
          -0.8314152882664261,
          -0.05309277854779562,
          null
         ],
         "z": [
          -0.5075376884422109,
          0.9798994974874371,
          null
         ]
        },
        {
         "hoverinfo": "none",
         "line": {
          "color": "black",
          "width": 4
         },
         "mode": "lines",
         "type": "scatter3d",
         "x": [
          0.46009396672206704,
          -0.9928784759284608,
          null
         ],
         "y": [
          -0.73540450884403,
          -0.05528335749405927,
          null
         ],
         "z": [
          -0.4974874371859297,
          -0.10552763819095481,
          null
         ]
        },
        {
         "hoverinfo": "none",
         "line": {
          "color": "black",
          "width": 5
         },
         "mode": "lines",
         "type": "scatter3d",
         "x": [
          0.46009396672206704,
          -0.5887395729275208,
          null
         ],
         "y": [
          -0.73540450884403,
          -0.7889563695067934,
          null
         ],
         "z": [
          -0.4974874371859297,
          0.17587939698492458,
          null
         ]
        },
        {
         "hoverinfo": "none",
         "line": {
          "color": "black",
          "width": 0
         },
         "mode": "lines",
         "type": "scatter3d",
         "x": [
          0.46009396672206704,
          0.9543101980031311,
          null
         ],
         "y": [
          -0.73540450884403,
          0.1354972094876758,
          null
         ],
         "z": [
          -0.4974874371859297,
          0.26633165829145716,
          null
         ]
        },
        {
         "hoverinfo": "none",
         "line": {
          "color": "black",
          "width": 6
         },
         "mode": "lines",
         "type": "scatter3d",
         "x": [
          0.46009396672206704,
          -0.5505913149039414,
          null
         ],
         "y": [
          -0.73540450884403,
          -0.5610823440242639,
          null
         ],
         "z": [
          -0.4974874371859297,
          0.6180904522613064,
          null
         ]
        },
        {
         "hoverinfo": "none",
         "line": {
          "color": "black",
          "width": 9
         },
         "mode": "lines",
         "type": "scatter3d",
         "x": [
          0.46009396672206704,
          -0.09075695184030583,
          null
         ],
         "y": [
          -0.73540450884403,
          -0.7645099613068972,
          null
         ],
         "z": [
          -0.4974874371859297,
          0.6381909547738693,
          null
         ]
        },
        {
         "hoverinfo": "none",
         "line": {
          "color": "black",
          "width": 4
         },
         "mode": "lines",
         "type": "scatter3d",
         "x": [
          0.46009396672206704,
          -0.42956390914738973,
          null
         ],
         "y": [
          -0.73540450884403,
          0.07986938119331266,
          null
         ],
         "z": [
          -0.4974874371859297,
          0.8994974874371859,
          null
         ]
        },
        {
         "hoverinfo": "none",
         "line": {
          "color": "black",
          "width": 5
         },
         "mode": "lines",
         "type": "scatter3d",
         "x": [
          0.46009396672206704,
          -0.18633022541047584,
          null
         ],
         "y": [
          -0.73540450884403,
          -0.3458620880912837,
          null
         ],
         "z": [
          -0.4974874371859297,
          0.9195979899497488,
          null
         ]
        },
        {
         "hoverinfo": "none",
         "line": {
          "color": "black",
          "width": 4
         },
         "mode": "lines",
         "type": "scatter3d",
         "x": [
          0.6563279444247275,
          -0.9928784759284608,
          null
         ],
         "y": [
          -0.575880733433753,
          -0.05528335749405927,
          null
         ],
         "z": [
          -0.48743718592964824,
          -0.10552763819095481,
          null
         ]
        },
        {
         "hoverinfo": "none",
         "line": {
          "color": "black",
          "width": 7
         },
         "mode": "lines",
         "type": "scatter3d",
         "x": [
          0.6563279444247275,
          0.8597006759110095,
          null
         ],
         "y": [
          -0.575880733433753,
          -0.510773429174399,
          null
         ],
         "z": [
          -0.48743718592964824,
          -0.005025125628140692,
          null
         ]
        },
        {
         "hoverinfo": "none",
         "line": {
          "color": "black",
          "width": 4
         },
         "mode": "lines",
         "type": "scatter3d",
         "x": [
          0.6563279444247275,
          0.9738814815414809,
          null
         ],
         "y": [
          -0.575880733433753,
          0.22566249737407673,
          null
         ],
         "z": [
          -0.48743718592964824,
          0.025125628140703616,
          null
         ]
        },
        {
         "hoverinfo": "none",
         "line": {
          "color": "black",
          "width": 5
         },
         "mode": "lines",
         "type": "scatter3d",
         "x": [
          0.6563279444247275,
          0.7741176022559528,
          null
         ],
         "y": [
          -0.575880733433753,
          -0.5873333961357678,
          null
         ],
         "z": [
          -0.48743718592964824,
          0.23618090452261312,
          null
         ]
        },
        {
         "hoverinfo": "none",
         "line": {
          "color": "black",
          "width": 4
         },
         "mode": "lines",
         "type": "scatter3d",
         "x": [
          0.6563279444247275,
          0.0632016554808522,
          null
         ],
         "y": [
          -0.575880733433753,
          -0.8971477100578715,
          null
         ],
         "z": [
          -0.48743718592964824,
          0.43718592964824127,
          null
         ]
        },
        {
         "hoverinfo": "none",
         "line": {
          "color": "black",
          "width": 8
         },
         "mode": "lines",
         "type": "scatter3d",
         "x": [
          0.6563279444247275,
          -0.33761069961500084,
          null
         ],
         "y": [
          -0.575880733433753,
          -0.7010408490879112,
          null
         ],
         "z": [
          -0.48743718592964824,
          0.6281407035175879,
          null
         ]
        },
        {
         "hoverinfo": "none",
         "line": {
          "color": "black",
          "width": 7
         },
         "mode": "lines",
         "type": "scatter3d",
         "x": [
          0.7985178366343181,
          0.26672823542793117,
          null
         ],
         "y": [
          -0.36670284861180913,
          0.8688473944810738,
          null
         ],
         "z": [
          -0.4773869346733667,
          -0.4170854271356784,
          null
         ]
        },
        {
         "hoverinfo": "none",
         "line": {
          "color": "black",
          "width": 7
         },
         "mode": "lines",
         "type": "scatter3d",
         "x": [
          0.7985178366343181,
          -0.6161246034909317,
          null
         ],
         "y": [
          -0.36670284861180913,
          -0.7212251598313059,
          null
         ],
         "z": [
          -0.4773869346733667,
          -0.3165829145728643,
          null
         ]
        },
        {
         "hoverinfo": "none",
         "line": {
          "color": "black",
          "width": 0
         },
         "mode": "lines",
         "type": "scatter3d",
         "x": [
          0.7985178366343181,
          0.9591176411373035,
          null
         ],
         "y": [
          -0.36670284861180913,
          -0.1559228360378783,
          null
         ],
         "z": [
          -0.4773869346733667,
          -0.236180904522613,
          null
         ]
        },
        {
         "hoverinfo": "none",
         "line": {
          "color": "black",
          "width": 7
         },
         "mode": "lines",
         "type": "scatter3d",
         "x": [
          0.7985178366343181,
          0.6243280701168443,
          null
         ],
         "y": [
          -0.36670284861180913,
          0.7561787750638941,
          null
         ],
         "z": [
          -0.4773869346733667,
          -0.19597989949748734,
          null
         ]
        },
        {
         "hoverinfo": "none",
         "line": {
          "color": "black",
          "width": 7
         },
         "mode": "lines",
         "type": "scatter3d",
         "x": [
          0.7985178366343181,
          -0.18549067049375184,
          null
         ],
         "y": [
          -0.36670284861180913,
          0.978925643575427,
          null
         ],
         "z": [
          -0.4773869346733667,
          0.08542713567839207,
          null
         ]
        },
        {
         "hoverinfo": "none",
         "line": {
          "color": "black",
          "width": 2
         },
         "mode": "lines",
         "type": "scatter3d",
         "x": [
          0.7985178366343181,
          0.9543101980031311,
          null
         ],
         "y": [
          -0.36670284861180913,
          0.1354972094876758,
          null
         ],
         "z": [
          -0.4773869346733667,
          0.26633165829145716,
          null
         ]
        },
        {
         "hoverinfo": "none",
         "line": {
          "color": "black",
          "width": 5
         },
         "mode": "lines",
         "type": "scatter3d",
         "x": [
          0.7985178366343181,
          0.12037404304848949,
          null
         ],
         "y": [
          -0.36670284861180913,
          0.834506578088399,
          null
         ],
         "z": [
          -0.4773869346733667,
          0.5376884422110553,
          null
         ]
        },
        {
         "hoverinfo": "none",
         "line": {
          "color": "black",
          "width": 3
         },
         "mode": "lines",
         "type": "scatter3d",
         "x": [
          0.7985178366343181,
          -0.600556325517356,
          null
         ],
         "y": [
          -0.36670284861180913,
          -0.18070833075791126,
          null
         ],
         "z": [
          -0.4773869346733667,
          0.778894472361809,
          null
         ]
        },
        {
         "hoverinfo": "none",
         "line": {
          "color": "black",
          "width": 4
         },
         "mode": "lines",
         "type": "scatter3d",
         "x": [
          0.8751100997786688,
          -0.6702820247214136,
          null
         ],
         "y": [
          -0.12561344513262568,
          0.639280955219031,
          null
         ],
         "z": [
          -0.4673366834170854,
          -0.37688442211055273,
          null
         ]
        },
        {
         "hoverinfo": "none",
         "line": {
          "color": "black",
          "width": 8
         },
         "mode": "lines",
         "type": "scatter3d",
         "x": [
          0.8751100997786688,
          0.6243280701168443,
          null
         ],
         "y": [
          -0.12561344513262568,
          0.7561787750638941,
          null
         ],
         "z": [
          -0.4673366834170854,
          -0.19597989949748734,
          null
         ]
        },
        {
         "hoverinfo": "none",
         "line": {
          "color": "black",
          "width": 1
         },
         "mode": "lines",
         "type": "scatter3d",
         "x": [
          0.8751100997786688,
          0.31722051404782214,
          null
         ],
         "y": [
          -0.12561344513262568,
          0.9460991367010397,
          null
         ],
         "z": [
          -0.4673366834170854,
          0.06532663316582916,
          null
         ]
        },
        {
         "hoverinfo": "none",
         "line": {
          "color": "black",
          "width": 9
         },
         "mode": "lines",
         "type": "scatter3d",
         "x": [
          0.8751100997786688,
          0.13434625214634502,
          null
         ],
         "y": [
          -0.12561344513262568,
          -0.9692794548088852,
          null
         ],
         "z": [
          -0.4673366834170854,
          0.20603015075376876,
          null
         ]
        },
        {
         "hoverinfo": "none",
         "line": {
          "color": "black",
          "width": 8
         },
         "mode": "lines",
         "type": "scatter3d",
         "x": [
          0.8751100997786688,
          0.36776528457450497,
          null
         ],
         "y": [
          -0.12561344513262568,
          0.35546905741019574,
          null
         ],
         "z": [
          -0.4673366834170854,
          0.8592964824120604,
          null
         ]
        },
        {
         "hoverinfo": "none",
         "line": {
          "color": "black",
          "width": 2
         },
         "mode": "lines",
         "type": "scatter3d",
         "x": [
          0.8801565810810618,
          -0.7824796533348303,
          null
         ],
         "y": [
          0.1273322886833448,
          -0.5301286325953671,
          null
         ],
         "z": [
          -0.45728643216080395,
          -0.3266331658291457,
          null
         ]
        },
        {
         "hoverinfo": "none",
         "line": {
          "color": "black",
          "width": 0
         },
         "mode": "lines",
         "type": "scatter3d",
         "x": [
          0.8801565810810618,
          0.3788192430037307,
          null
         ],
         "y": [
          0.1273322886833448,
          -0.8998917940492931,
          null
         ],
         "z": [
          -0.45728643216080395,
          0.21608040201005022,
          null
         ]
        },
        {
         "hoverinfo": "none",
         "line": {
          "color": "black",
          "width": 4
         },
         "mode": "lines",
         "type": "scatter3d",
         "x": [
          0.8801565810810618,
          -0.6143899953864282,
          null
         ],
         "y": [
          0.1273322886833448,
          0.7087317523628855,
          null
         ],
         "z": [
          -0.45728643216080395,
          0.3467336683417086,
          null
         ]
        },
        {
         "hoverinfo": "none",
         "line": {
          "color": "black",
          "width": 8
         },
         "mode": "lines",
         "type": "scatter3d",
         "x": [
          0.8801565810810618,
          -0.5771143305124173,
          null
         ],
         "y": [
          0.1273322886833448,
          0.5869392617861797,
          null
         ],
         "z": [
          -0.45728643216080395,
          0.5678391959798994,
          null
         ]
        },
        {
         "hoverinfo": "none",
         "line": {
          "color": "black",
          "width": 8
         },
         "mode": "lines",
         "type": "scatter3d",
         "x": [
          0.8801565810810618,
          -0.7924588501224821,
          null
         ],
         "y": [
          0.1273322886833448,
          -0.12007077438764355,
          null
         ],
         "z": [
          -0.45728643216080395,
          0.5979899497487438,
          null
         ]
        },
        {
         "hoverinfo": "none",
         "line": {
          "color": "black",
          "width": 0
         },
         "mode": "lines",
         "type": "scatter3d",
         "x": [
          0.8801565810810618,
          0.725096144076266,
          null
         ],
         "y": [
          0.1273322886833448,
          0.01681974681893568,
          null
         ],
         "z": [
          -0.45728643216080395,
          0.6884422110552764,
          null
         ]
        },
        {
         "hoverinfo": "none",
         "line": {
          "color": "black",
          "width": 4
         },
         "mode": "lines",
         "type": "scatter3d",
         "x": [
          0.8801565810810618,
          0,
          null
         ],
         "y": [
          0.1273322886833448,
          0,
          null
         ],
         "z": [
          -0.45728643216080395,
          1,
          null
         ]
        },
        {
         "hoverinfo": "none",
         "line": {
          "color": "black",
          "width": 6
         },
         "mode": "lines",
         "type": "scatter3d",
         "x": [
          0.813632848484258,
          -0.5771143305124173,
          null
         ],
         "y": [
          0.3714584584544138,
          0.5869392617861797,
          null
         ],
         "z": [
          -0.4472361809045229,
          0.5678391959798994,
          null
         ]
        },
        {
         "hoverinfo": "none",
         "line": {
          "color": "black",
          "width": 2
         },
         "mode": "lines",
         "type": "scatter3d",
         "x": [
          0.813632848484258,
          0.5212824240995492,
          null
         ],
         "y": [
          0.3714584584544138,
          0.47563836827449124,
          null
         ],
         "z": [
          -0.4472361809045229,
          0.7085427135678393,
          null
         ]
        },
        {
         "hoverinfo": "none",
         "line": {
          "color": "black",
          "width": 2
         },
         "mode": "lines",
         "type": "scatter3d",
         "x": [
          0.813632848484258,
          0.36776528457450497,
          null
         ],
         "y": [
          0.3714584584544138,
          0.35546905741019574,
          null
         ],
         "z": [
          -0.4472361809045229,
          0.8592964824120604,
          null
         ]
        },
        {
         "hoverinfo": "none",
         "line": {
          "color": "black",
          "width": 9
         },
         "mode": "lines",
         "type": "scatter3d",
         "x": [
          0.6812730069106526,
          -0.9125581834726422,
          null
         ],
         "y": [
          0.5871418508099392,
          0.19985694006815632,
          null
         ],
         "z": [
          -0.4371859296482414,
          -0.35678391959799,
          null
         ]
        },
        {
         "hoverinfo": "none",
         "line": {
          "color": "black",
          "width": 6
         },
         "mode": "lines",
         "type": "scatter3d",
         "x": [
          0.6812730069106526,
          0.016183422624492533,
          null
         ],
         "y": [
          0.5871418508099392,
          -0.9988456807426714,
          null
         ],
         "z": [
          -0.4371859296482414,
          -0.04522613065326637,
          null
         ]
        },
        {
         "hoverinfo": "none",
         "line": {
          "color": "black",
          "width": 9
         },
         "mode": "lines",
         "type": "scatter3d",
         "x": [
          0.6812730069106526,
          0.31722051404782214,
          null
         ],
         "y": [
          0.5871418508099392,
          0.9460991367010397,
          null
         ],
         "z": [
          -0.4371859296482414,
          0.06532663316582916,
          null
         ]
        },
        {
         "hoverinfo": "none",
         "line": {
          "color": "black",
          "width": 9
         },
         "mode": "lines",
         "type": "scatter3d",
         "x": [
          0.6812730069106526,
          -0.42668500783452756,
          null
         ],
         "y": [
          0.5871418508099392,
          0.8993464141660742,
          null
         ],
         "z": [
          -0.4371859296482414,
          0.09547738693467349,
          null
         ]
        },
        {
         "hoverinfo": "none",
         "line": {
          "color": "black",
          "width": 2
         },
         "mode": "lines",
         "type": "scatter3d",
         "x": [
          0.6812730069106526,
          -0.8109889569592988,
          null
         ],
         "y": [
          0.5871418508099392,
          0.5735317455564173,
          null
         ],
         "z": [
          -0.4371859296482414,
          0.11557788944723603,
          null
         ]
        },
        {
         "hoverinfo": "none",
         "line": {
          "color": "black",
          "width": 8
         },
         "mode": "lines",
         "type": "scatter3d",
         "x": [
          0.6812730069106526,
          -0.3662817858898524,
          null
         ],
         "y": [
          0.5871418508099392,
          -0.9117388986054294,
          null
         ],
         "z": [
          -0.4371859296482414,
          0.18592964824120597,
          null
         ]
        },
        {
         "hoverinfo": "none",
         "line": {
          "color": "black",
          "width": 9
         },
         "mode": "lines",
         "type": "scatter3d",
         "x": [
          0.49395828252674556,
          0.01750774905872829,
          null
         ],
         "y": [
          0.7573376574341647,
          0.9132446793273558,
          null
         ],
         "z": [
          -0.4271356783919596,
          -0.4070351758793971,
          null
         ]
        },
        {
         "hoverinfo": "none",
         "line": {
          "color": "black",
          "width": 0
         },
         "mode": "lines",
         "type": "scatter3d",
         "x": [
          0.49395828252674556,
          -0.4695271916732191,
          null
         ],
         "y": [
          0.7573376574341647,
          0.7936156341869542,
          null
         ],
         "z": [
          -0.4271356783919596,
          -0.3869346733668342,
          null
         ]
        },
        {
         "hoverinfo": "none",
         "line": {
          "color": "black",
          "width": 5
         },
         "mode": "lines",
         "type": "scatter3d",
         "x": [
          0.49395828252674556,
          -0.5591285460316034,
          null
         ],
         "y": [
          0.7573376574341647,
          0.8161730402059268,
          null
         ],
         "z": [
          -0.4271356783919596,
          -0.14572864321608034,
          null
         ]
        },
        {
         "hoverinfo": "none",
         "line": {
          "color": "black",
          "width": 0
         },
         "mode": "lines",
         "type": "scatter3d",
         "x": [
          0.49395828252674556,
          0.31722051404782214,
          null
         ],
         "y": [
          0.7573376574341647,
          0.9460991367010397,
          null
         ],
         "z": [
          -0.4271356783919596,
          0.06532663316582916,
          null
         ]
        },
        {
         "hoverinfo": "none",
         "line": {
          "color": "black",
          "width": 6
         },
         "mode": "lines",
         "type": "scatter3d",
         "x": [
          0.49395828252674556,
          0.7500220497040564,
          null
         ],
         "y": [
          0.7573376574341647,
          0.5961740871715794,
          null
         ],
         "z": [
          -0.4271356783919596,
          0.2864321608040202,
          null
         ]
        },
        {
         "hoverinfo": "none",
         "line": {
          "color": "black",
          "width": 0
         },
         "mode": "lines",
         "type": "scatter3d",
         "x": [
          0.49395828252674556,
          -0.8955829153536629,
          null
         ],
         "y": [
          0.7573376574341647,
          -0.2195741338890703,
          null
         ],
         "z": [
          -0.4271356783919596,
          0.3869346733668343,
          null
         ]
        },
        {
         "hoverinfo": "none",
         "line": {
          "color": "black",
          "width": 8
         },
         "mode": "lines",
         "type": "scatter3d",
         "x": [
          0.49395828252674556,
          -0.600556325517356,
          null
         ],
         "y": [
          0.7573376574341647,
          -0.18070833075791126,
          null
         ],
         "z": [
          -0.4271356783919596,
          0.778894472361809,
          null
         ]
        },
        {
         "hoverinfo": "none",
         "line": {
          "color": "black",
          "width": 4
         },
         "mode": "lines",
         "type": "scatter3d",
         "x": [
          0.49395828252674556,
          -0.3779945609644943,
          null
         ],
         "y": [
          0.7573376574341647,
          -0.17275133261095033,
          null
         ],
         "z": [
          -0.4271356783919596,
          0.9095477386934674,
          null
         ]
        },
        {
         "hoverinfo": "none",
         "line": {
          "color": "black",
          "width": 9
         },
         "mode": "lines",
         "type": "scatter3d",
         "x": [
          0.49395828252674556,
          0.0720199661208389,
          null
         ],
         "y": [
          0.7573376574341647,
          -0.3613409361011954,
          null
         ],
         "z": [
          -0.4271356783919596,
          0.9296482412060301,
          null
         ]
        },
        {
         "hoverinfo": "none",
         "line": {
          "color": "black",
          "width": 1
         },
         "mode": "lines",
         "type": "scatter3d",
         "x": [
          0.26672823542793117,
          0.9591176411373035,
          null
         ],
         "y": [
          0.8688473944810738,
          -0.1559228360378783,
          null
         ],
         "z": [
          -0.4170854271356784,
          -0.236180904522613,
          null
         ]
        },
        {
         "hoverinfo": "none",
         "line": {
          "color": "black",
          "width": 5
         },
         "mode": "lines",
         "type": "scatter3d",
         "x": [
          0.26672823542793117,
          -0.5591285460316034,
          null
         ],
         "y": [
          0.8688473944810738,
          0.8161730402059268,
          null
         ],
         "z": [
          -0.4170854271356784,
          -0.14572864321608034,
          null
         ]
        },
        {
         "hoverinfo": "none",
         "line": {
          "color": "black",
          "width": 9
         },
         "mode": "lines",
         "type": "scatter3d",
         "x": [
          0.26672823542793117,
          -0.9928784759284608,
          null
         ],
         "y": [
          0.8688473944810738,
          -0.05528335749405927,
          null
         ],
         "z": [
          -0.4170854271356784,
          -0.10552763819095481,
          null
         ]
        },
        {
         "hoverinfo": "none",
         "line": {
          "color": "black",
          "width": 5
         },
         "mode": "lines",
         "type": "scatter3d",
         "x": [
          0.26672823542793117,
          0.9738814815414809,
          null
         ],
         "y": [
          0.8688473944810738,
          0.22566249737407673,
          null
         ],
         "z": [
          -0.4170854271356784,
          0.025125628140703616,
          null
         ]
        },
        {
         "hoverinfo": "none",
         "line": {
          "color": "black",
          "width": 8
         },
         "mode": "lines",
         "type": "scatter3d",
         "x": [
          0.26672823542793117,
          0.13434625214634502,
          null
         ],
         "y": [
          0.8688473944810738,
          -0.9692794548088852,
          null
         ],
         "z": [
          -0.4170854271356784,
          0.20603015075376876,
          null
         ]
        },
        {
         "hoverinfo": "none",
         "line": {
          "color": "black",
          "width": 2
         },
         "mode": "lines",
         "type": "scatter3d",
         "x": [
          0.26672823542793117,
          -0.4311344860611112,
          null
         ],
         "y": [
          0.8688473944810738,
          -0.8001017444049664,
          null
         ],
         "z": [
          -0.4170854271356784,
          0.41708542713567837,
          null
         ]
        },
        {
         "hoverinfo": "none",
         "line": {
          "color": "black",
          "width": 4
         },
         "mode": "lines",
         "type": "scatter3d",
         "x": [
          0.26672823542793117,
          -0.5505913149039414,
          null
         ],
         "y": [
          0.8688473944810738,
          -0.5610823440242639,
          null
         ],
         "z": [
          -0.4170854271356784,
          0.6180904522613064,
          null
         ]
        },
        {
         "hoverinfo": "none",
         "line": {
          "color": "black",
          "width": 1
         },
         "mode": "lines",
         "type": "scatter3d",
         "x": [
          0.26672823542793117,
          -0.18901287835010755,
          null
         ],
         "y": [
          0.8688473944810738,
          0.646997753575633,
          null
         ],
         "z": [
          -0.4170854271356784,
          0.7386934673366834,
          null
         ]
        },
        {
         "hoverinfo": "none",
         "line": {
          "color": "black",
          "width": 1
         },
         "mode": "lines",
         "type": "scatter3d",
         "x": [
          0.01750774905872829,
          -0.9365042078689544,
          null
         ],
         "y": [
          0.9132446793273558,
          -0.052303268368663655,
          null
         ],
         "z": [
          -0.4070351758793971,
          -0.3467336683417085,
          null
         ]
        },
        {
         "hoverinfo": "none",
         "line": {
          "color": "black",
          "width": 7
         },
         "mode": "lines",
         "type": "scatter3d",
         "x": [
          0.01750774905872829,
          -0.40503694008954455,
          null
         ],
         "y": [
          0.9132446793273558,
          -0.86138423684378,
          null
         ],
         "z": [
          -0.4070351758793971,
          -0.3065326633165828,
          null
         ]
        },
        {
         "hoverinfo": "none",
         "line": {
          "color": "black",
          "width": 8
         },
         "mode": "lines",
         "type": "scatter3d",
         "x": [
          0.01750774905872829,
          0.5613571369223281,
          null
         ],
         "y": [
          0.9132446793273558,
          -0.7835468158432456,
          null
         ],
         "z": [
          -0.4070351758793971,
          -0.2663316582914572,
          null
         ]
        },
        {
         "hoverinfo": "none",
         "line": {
          "color": "black",
          "width": 4
         },
         "mode": "lines",
         "type": "scatter3d",
         "x": [
          0.01750774905872829,
          0.7958335820929668,
          null
         ],
         "y": [
          0.9132446793273558,
          0.5693860611162309,
          null
         ],
         "z": [
          -0.4070351758793971,
          -0.20603015075376888,
          null
         ]
        },
        {
         "hoverinfo": "none",
         "line": {
          "color": "black",
          "width": 2
         },
         "mode": "lines",
         "type": "scatter3d",
         "x": [
          0.01750774905872829,
          0.9738814815414809,
          null
         ],
         "y": [
          0.9132446793273558,
          0.22566249737407673,
          null
         ],
         "z": [
          -0.4070351758793971,
          0.025125628140703616,
          null
         ]
        },
        {
         "hoverinfo": "none",
         "line": {
          "color": "black",
          "width": 0
         },
         "mode": "lines",
         "type": "scatter3d",
         "x": [
          0.01750774905872829,
          0.739575014981879,
          null
         ],
         "y": [
          0.9132446793273558,
          0.6715529720883432,
          null
         ],
         "z": [
          -0.4070351758793971,
          0.045226130653266486,
          null
         ]
        },
        {
         "hoverinfo": "none",
         "line": {
          "color": "black",
          "width": 7
         },
         "mode": "lines",
         "type": "scatter3d",
         "x": [
          0.01750774905872829,
          -0.4034742971178234,
          null
         ],
         "y": [
          0.9132446793273558,
          0.8507953738854946,
          null
         ],
         "z": [
          -0.4070351758793971,
          0.3366834170854272,
          null
         ]
        },
        {
         "hoverinfo": "none",
         "line": {
          "color": "black",
          "width": 9
         },
         "mode": "lines",
         "type": "scatter3d",
         "x": [
          0.01750774905872829,
          -0.1341208174448031,
          null
         ],
         "y": [
          0.9132446793273558,
          0.8258292378007893,
          null
         ],
         "z": [
          -0.4070351758793971,
          0.5477386934673367,
          null
         ]
        },
        {
         "hoverinfo": "none",
         "line": {
          "color": "black",
          "width": 3
         },
         "mode": "lines",
         "type": "scatter3d",
         "x": [
          0.01750774905872829,
          -0.33761069961500084,
          null
         ],
         "y": [
          0.9132446793273558,
          -0.7010408490879112,
          null
         ],
         "z": [
          -0.4070351758793971,
          0.6281407035175879,
          null
         ]
        },
        {
         "hoverinfo": "none",
         "line": {
          "color": "black",
          "width": 7
         },
         "mode": "lines",
         "type": "scatter3d",
         "x": [
          0.01750774905872829,
          0.1633089131200265,
          null
         ],
         "y": [
          0.9132446793273558,
          -0.7437160329723511,
          null
         ],
         "z": [
          -0.4070351758793971,
          0.6482412060301508,
          null
         ]
        },
        {
         "hoverinfo": "none",
         "line": {
          "color": "black",
          "width": 1
         },
         "mode": "lines",
         "type": "scatter3d",
         "x": [
          0.01750774905872829,
          0.725096144076266,
          null
         ],
         "y": [
          0.9132446793273558,
          0.01681974681893568,
          null
         ],
         "z": [
          -0.4070351758793971,
          0.6884422110552764,
          null
         ]
        },
        {
         "hoverinfo": "none",
         "line": {
          "color": "black",
          "width": 0
         },
         "mode": "lines",
         "type": "scatter3d",
         "x": [
          -0.23434121536311986,
          0.3363668860791254,
          null
         ],
         "y": [
          0.8874047353964903,
          -0.9002612720894853,
          null
         ],
         "z": [
          -0.3969849246231156,
          -0.2763819095477387,
          null
         ]
        },
        {
         "hoverinfo": "none",
         "line": {
          "color": "black",
          "width": 3
         },
         "mode": "lines",
         "type": "scatter3d",
         "x": [
          -0.23434121536311986,
          -0.5887395729275208,
          null
         ],
         "y": [
          0.8874047353964903,
          -0.7889563695067934,
          null
         ],
         "z": [
          -0.3969849246231156,
          0.17587939698492458,
          null
         ]
        },
        {
         "hoverinfo": "none",
         "line": {
          "color": "black",
          "width": 0
         },
         "mode": "lines",
         "type": "scatter3d",
         "x": [
          -0.23434121536311986,
          -0.3662817858898524,
          null
         ],
         "y": [
          0.8874047353964903,
          -0.9117388986054294,
          null
         ],
         "z": [
          -0.3969849246231156,
          0.18592964824120597,
          null
         ]
        },
        {
         "hoverinfo": "none",
         "line": {
          "color": "black",
          "width": 6
         },
         "mode": "lines",
         "type": "scatter3d",
         "x": [
          -0.23434121536311986,
          0.5212824240995492,
          null
         ],
         "y": [
          0.8874047353964903,
          0.47563836827449124,
          null
         ],
         "z": [
          -0.3969849246231156,
          0.7085427135678393,
          null
         ]
        },
        {
         "hoverinfo": "none",
         "line": {
          "color": "black",
          "width": 7
         },
         "mode": "lines",
         "type": "scatter3d",
         "x": [
          -0.23434121536311986,
          0.06389728976483165,
          null
         ],
         "y": [
          0.8874047353964903,
          0.6819062985636061,
          null
         ],
         "z": [
          -0.3969849246231156,
          0.728643216080402,
          null
         ]
        },
        {
         "hoverinfo": "none",
         "line": {
          "color": "black",
          "width": 7
         },
         "mode": "lines",
         "type": "scatter3d",
         "x": [
          -0.23434121536311986,
          -0.2566312989684941,
          null
         ],
         "y": [
          0.8874047353964903,
          -0.5438266327748627,
          null
         ],
         "z": [
          -0.3969849246231156,
          0.7989949748743719,
          null
         ]
        },
        {
         "hoverinfo": "none",
         "line": {
          "color": "black",
          "width": 4
         },
         "mode": "lines",
         "type": "scatter3d",
         "x": [
          -0.4695271916732191,
          0.16898247772841876,
          null
         ],
         "y": [
          0.7936156341869542,
          0.9697996493796973,
          null
         ],
         "z": [
          -0.3869346733668342,
          -0.17587939698492466,
          null
         ]
        },
        {
         "hoverinfo": "none",
         "line": {
          "color": "black",
          "width": 2
         },
         "mode": "lines",
         "type": "scatter3d",
         "x": [
          -0.4695271916732191,
          -0.9734264244291374,
          null
         ],
         "y": [
          0.7936156341869542,
          0.19769357018888423,
          null
         ],
         "z": [
          -0.3869346733668342,
          -0.11557788944723613,
          null
         ]
        },
        {
         "hoverinfo": "none",
         "line": {
          "color": "black",
          "width": 3
         },
         "mode": "lines",
         "type": "scatter3d",
         "x": [
          -0.4695271916732191,
          0.8597006759110095,
          null
         ],
         "y": [
          0.7936156341869542,
          -0.510773429174399,
          null
         ],
         "z": [
          -0.3869346733668342,
          -0.005025125628140692,
          null
         ]
        },
        {
         "hoverinfo": "none",
         "line": {
          "color": "black",
          "width": 4
         },
         "mode": "lines",
         "type": "scatter3d",
         "x": [
          -0.4695271916732191,
          0.13434625214634502,
          null
         ],
         "y": [
          0.7936156341869542,
          -0.9692794548088852,
          null
         ],
         "z": [
          -0.3869346733668342,
          0.20603015075376876,
          null
         ]
        },
        {
         "hoverinfo": "none",
         "line": {
          "color": "black",
          "width": 4
         },
         "mode": "lines",
         "type": "scatter3d",
         "x": [
          -0.4695271916732191,
          0.9543101980031311,
          null
         ],
         "y": [
          0.7936156341869542,
          0.1354972094876758,
          null
         ],
         "z": [
          -0.3869346733668342,
          0.26633165829145716,
          null
         ]
        },
        {
         "hoverinfo": "none",
         "line": {
          "color": "black",
          "width": 4
         },
         "mode": "lines",
         "type": "scatter3d",
         "x": [
          -0.4695271916732191,
          0.5319383843782858,
          null
         ],
         "y": [
          0.7936156341869542,
          -0.7126925523580707,
          null
         ],
         "z": [
          -0.3869346733668342,
          0.45728643216080406,
          null
         ]
        },
        {
         "hoverinfo": "none",
         "line": {
          "color": "black",
          "width": 4
         },
         "mode": "lines",
         "type": "scatter3d",
         "x": [
          -0.4695271916732191,
          0.725096144076266,
          null
         ],
         "y": [
          0.7936156341869542,
          0.01681974681893568,
          null
         ],
         "z": [
          -0.3869346733668342,
          0.6884422110552764,
          null
         ]
        },
        {
         "hoverinfo": "none",
         "line": {
          "color": "black",
          "width": 2
         },
         "mode": "lines",
         "type": "scatter3d",
         "x": [
          -0.6702820247214136,
          0.9606193521054072,
          null
         ],
         "y": [
          0.639280955219031,
          -0.27782226057861037,
          null
         ],
         "z": [
          -0.37688442211055273,
          0.005025125628140593,
          null
         ]
        },
        {
         "hoverinfo": "none",
         "line": {
          "color": "black",
          "width": 8
         },
         "mode": "lines",
         "type": "scatter3d",
         "x": [
          -0.6702820247214136,
          0.9738814815414809,
          null
         ],
         "y": [
          0.639280955219031,
          0.22566249737407673,
          null
         ],
         "z": [
          -0.37688442211055273,
          0.025125628140703616,
          null
         ]
        },
        {
         "hoverinfo": "none",
         "line": {
          "color": "black",
          "width": 0
         },
         "mode": "lines",
         "type": "scatter3d",
         "x": [
          -0.6702820247214136,
          0.3788192430037307,
          null
         ],
         "y": [
          0.639280955219031,
          -0.8998917940492931,
          null
         ],
         "z": [
          -0.37688442211055273,
          0.21608040201005022,
          null
         ]
        },
        {
         "hoverinfo": "none",
         "line": {
          "color": "black",
          "width": 9
         },
         "mode": "lines",
         "type": "scatter3d",
         "x": [
          -0.6702820247214136,
          -0.1908820904593788,
          null
         ],
         "y": [
          0.639280955219031,
          -0.8838094476675942,
          null
         ],
         "z": [
          -0.37688442211055273,
          0.4271356783919597,
          null
         ]
        },
        {
         "hoverinfo": "none",
         "line": {
          "color": "black",
          "width": 4
         },
         "mode": "lines",
         "type": "scatter3d",
         "x": [
          -0.6702820247214136,
          -0.33761069961500084,
          null
         ],
         "y": [
          0.639280955219031,
          -0.7010408490879112,
          null
         ],
         "z": [
          -0.37688442211055273,
          0.6281407035175879,
          null
         ]
        },
        {
         "hoverinfo": "none",
         "line": {
          "color": "black",
          "width": 9
         },
         "mode": "lines",
         "type": "scatter3d",
         "x": [
          -0.6702820247214136,
          0.3119136244605593,
          null
         ],
         "y": [
          0.639280955219031,
          0.6215577541798972,
          null
         ],
         "z": [
          -0.37688442211055273,
          0.7185929648241205,
          null
         ]
        },
        {
         "hoverinfo": "none",
         "line": {
          "color": "black",
          "width": 5
         },
         "mode": "lines",
         "type": "scatter3d",
         "x": [
          -0.8216546571450994,
          -0.40503694008954455,
          null
         ],
         "y": [
          0.4362525822106138,
          -0.86138423684378,
          null
         ],
         "z": [
          -0.36683417085427134,
          -0.3065326633165828,
          null
         ]
        },
        {
         "hoverinfo": "none",
         "line": {
          "color": "black",
          "width": 7
         },
         "mode": "lines",
         "type": "scatter3d",
         "x": [
          -0.8216546571450994,
          0.7958335820929668,
          null
         ],
         "y": [
          0.4362525822106138,
          0.5693860611162309,
          null
         ],
         "z": [
          -0.36683417085427134,
          -0.20603015075376888,
          null
         ]
        },
        {
         "hoverinfo": "none",
         "line": {
          "color": "black",
          "width": 2
         },
         "mode": "lines",
         "type": "scatter3d",
         "x": [
          -0.8216546571450994,
          0.6243280701168443,
          null
         ],
         "y": [
          0.4362525822106138,
          0.7561787750638941,
          null
         ],
         "z": [
          -0.36683417085427134,
          -0.19597989949748734,
          null
         ]
        },
        {
         "hoverinfo": "none",
         "line": {
          "color": "black",
          "width": 5
         },
         "mode": "lines",
         "type": "scatter3d",
         "x": [
          -0.8216546571450994,
          -0.678728644568649,
          null
         ],
         "y": [
          0.4362525822106138,
          -0.730510610694205,
          null
         ],
         "z": [
          -0.36683417085427134,
          -0.07537688442211053,
          null
         ]
        },
        {
         "hoverinfo": "none",
         "line": {
          "color": "black",
          "width": 3
         },
         "mode": "lines",
         "type": "scatter3d",
         "x": [
          -0.8216546571450994,
          -0.23599909505127642,
          null
         ],
         "y": [
          0.4362525822106138,
          -0.970179853809575,
          null
         ],
         "z": [
          -0.36683417085427134,
          -0.05527638190954783,
          null
         ]
        },
        {
         "hoverinfo": "none",
         "line": {
          "color": "black",
          "width": 9
         },
         "mode": "lines",
         "type": "scatter3d",
         "x": [
          -0.8216546571450994,
          -0.9288482441833449,
          null
         ],
         "y": [
          0.4362525822106138,
          0.3485089805742379,
          null
         ],
         "z": [
          -0.36683417085427134,
          0.12562814070351763,
          null
         ]
        },
        {
         "hoverinfo": "none",
         "line": {
          "color": "black",
          "width": 7
         },
         "mode": "lines",
         "type": "scatter3d",
         "x": [
          -0.8216546571450994,
          -0.8858140940564723,
          null
         ],
         "y": [
          0.4362525822106138,
          0.2841937400165084,
          null
         ],
         "z": [
          -0.36683417085427134,
          0.3668341708542712,
          null
         ]
        },
        {
         "hoverinfo": "none",
         "line": {
          "color": "black",
          "width": 3
         },
         "mode": "lines",
         "type": "scatter3d",
         "x": [
          -0.8216546571450994,
          0.8715636126463255,
          null
         ],
         "y": [
          0.4362525822106138,
          -0.05274333023114333,
          null
         ],
         "z": [
          -0.36683417085427134,
          0.48743718592964813,
          null
         ]
        },
        {
         "hoverinfo": "none",
         "line": {
          "color": "black",
          "width": 2
         },
         "mode": "lines",
         "type": "scatter3d",
         "x": [
          -0.8216546571450994,
          0.36579375496206784,
          null
         ],
         "y": [
          0.4362525822106138,
          0.7666765082332472,
          null
         ],
         "z": [
          -0.36683417085427134,
          0.5276381909547738,
          null
         ]
        },
        {
         "hoverinfo": "none",
         "line": {
          "color": "black",
          "width": 8
         },
         "mode": "lines",
         "type": "scatter3d",
         "x": [
          -0.8216546571450994,
          -0.5679012117000678,
          null
         ],
         "y": [
          0.4362525822106138,
          0.318935612734006,
          null
         ],
         "z": [
          -0.36683417085427134,
          0.7587939698492463,
          null
         ]
        },
        {
         "hoverinfo": "none",
         "line": {
          "color": "black",
          "width": 6
         },
         "mode": "lines",
         "type": "scatter3d",
         "x": [
          -0.8216546571450994,
          0.5317207462626569,
          null
         ],
         "y": [
          0.4362525822106138,
          -0.11411904010464476,
          null
         ],
         "z": [
          -0.36683417085427134,
          0.8391959798994975,
          null
         ]
        },
        {
         "hoverinfo": "none",
         "line": {
          "color": "black",
          "width": 6
         },
         "mode": "lines",
         "type": "scatter3d",
         "x": [
          -0.9125581834726422,
          -0.8919836432498447,
          null
         ],
         "y": [
          0.19985694006815632,
          -0.30167773672316983,
          null
         ],
         "z": [
          -0.35678391959799,
          -0.3366834170854271,
          null
         ]
        },
        {
         "hoverinfo": "none",
         "line": {
          "color": "black",
          "width": 9
         },
         "mode": "lines",
         "type": "scatter3d",
         "x": [
          -0.9125581834726422,
          -0.7824796533348303,
          null
         ],
         "y": [
          0.19985694006815632,
          -0.5301286325953671,
          null
         ],
         "z": [
          -0.35678391959799,
          -0.3266331658291457,
          null
         ]
        },
        {
         "hoverinfo": "none",
         "line": {
          "color": "black",
          "width": 5
         },
         "mode": "lines",
         "type": "scatter3d",
         "x": [
          -0.9125581834726422,
          -0.9928784759284608,
          null
         ],
         "y": [
          0.19985694006815632,
          -0.05528335749405927,
          null
         ],
         "z": [
          -0.35678391959799,
          -0.10552763819095481,
          null
         ]
        },
        {
         "hoverinfo": "none",
         "line": {
          "color": "black",
          "width": 1
         },
         "mode": "lines",
         "type": "scatter3d",
         "x": [
          -0.9125581834726422,
          -0.8109889569592988,
          null
         ],
         "y": [
          0.19985694006815632,
          0.5735317455564173,
          null
         ],
         "z": [
          -0.35678391959799,
          0.11557788944723603,
          null
         ]
        },
        {
         "hoverinfo": "none",
         "line": {
          "color": "black",
          "width": 0
         },
         "mode": "lines",
         "type": "scatter3d",
         "x": [
          -0.9125581834726422,
          -0.33761069961500084,
          null
         ],
         "y": [
          0.19985694006815632,
          -0.7010408490879112,
          null
         ],
         "z": [
          -0.35678391959799,
          0.6281407035175879,
          null
         ]
        },
        {
         "hoverinfo": "none",
         "line": {
          "color": "black",
          "width": 3
         },
         "mode": "lines",
         "type": "scatter3d",
         "x": [
          -0.9365042078689544,
          -0.678728644568649,
          null
         ],
         "y": [
          -0.052303268368663655,
          -0.730510610694205,
          null
         ],
         "z": [
          -0.3467336683417085,
          -0.07537688442211053,
          null
         ]
        },
        {
         "hoverinfo": "none",
         "line": {
          "color": "black",
          "width": 5
         },
         "mode": "lines",
         "type": "scatter3d",
         "x": [
          -0.9365042078689544,
          -0.23599909505127642,
          null
         ],
         "y": [
          -0.052303268368663655,
          -0.970179853809575,
          null
         ],
         "z": [
          -0.3467336683417085,
          -0.05527638190954783,
          null
         ]
        },
        {
         "hoverinfo": "none",
         "line": {
          "color": "black",
          "width": 4
         },
         "mode": "lines",
         "type": "scatter3d",
         "x": [
          -0.9365042078689544,
          0.739575014981879,
          null
         ],
         "y": [
          -0.052303268368663655,
          0.6715529720883432,
          null
         ],
         "z": [
          -0.3467336683417085,
          0.045226130653266486,
          null
         ]
        },
        {
         "hoverinfo": "none",
         "line": {
          "color": "black",
          "width": 5
         },
         "mode": "lines",
         "type": "scatter3d",
         "x": [
          -0.9365042078689544,
          -0.9288482441833449,
          null
         ],
         "y": [
          -0.052303268368663655,
          0.3485089805742379,
          null
         ],
         "z": [
          -0.3467336683417085,
          0.12562814070351763,
          null
         ]
        },
        {
         "hoverinfo": "none",
         "line": {
          "color": "black",
          "width": 6
         },
         "mode": "lines",
         "type": "scatter3d",
         "x": [
          -0.9365042078689544,
          -0.985601838057066,
          null
         ],
         "y": [
          -0.052303268368663655,
          0.100897922544204,
          null
         ],
         "z": [
          -0.3467336683417085,
          0.13567839195979908,
          null
         ]
        },
        {
         "hoverinfo": "none",
         "line": {
          "color": "black",
          "width": 3
         },
         "mode": "lines",
         "type": "scatter3d",
         "x": [
          -0.9365042078689544,
          -0.7231637330577864,
          null
         ],
         "y": [
          -0.052303268368663655,
          0.3782565293064855,
          null
         ],
         "z": [
          -0.3467336683417085,
          0.5778894472361809,
          null
         ]
        },
        {
         "hoverinfo": "none",
         "line": {
          "color": "black",
          "width": 6
         },
         "mode": "lines",
         "type": "scatter3d",
         "x": [
          -0.9365042078689544,
          0.725096144076266,
          null
         ],
         "y": [
          -0.052303268368663655,
          0.01681974681893568,
          null
         ],
         "z": [
          -0.3467336683417085,
          0.6884422110552764,
          null
         ]
        },
        {
         "hoverinfo": "none",
         "line": {
          "color": "black",
          "width": 1
         },
         "mode": "lines",
         "type": "scatter3d",
         "x": [
          -0.8919836432498447,
          0.9738814815414809,
          null
         ],
         "y": [
          -0.30167773672316983,
          0.22566249737407673,
          null
         ],
         "z": [
          -0.3366834170854271,
          0.025125628140703616,
          null
         ]
        },
        {
         "hoverinfo": "none",
         "line": {
          "color": "black",
          "width": 7
         },
         "mode": "lines",
         "type": "scatter3d",
         "x": [
          -0.8919836432498447,
          0.7082279152172981,
          null
         ],
         "y": [
          -0.30167773672316983,
          -0.5291593752733467,
          null
         ],
         "z": [
          -0.3366834170854271,
          0.4673366834170853,
          null
         ]
        },
        {
         "hoverinfo": "none",
         "line": {
          "color": "black",
          "width": 8
         },
         "mode": "lines",
         "type": "scatter3d",
         "x": [
          -0.8919836432498447,
          -0.4107215962272207,
          null
         ],
         "y": [
          -0.30167773672316983,
          0.5202793617472665,
          null
         ],
         "z": [
          -0.3366834170854271,
          0.7487437185929648,
          null
         ]
        },
        {
         "hoverinfo": "none",
         "line": {
          "color": "black",
          "width": 8
         },
         "mode": "lines",
         "type": "scatter3d",
         "x": [
          -0.7824796533348303,
          -0.3662817858898524,
          null
         ],
         "y": [
          -0.5301286325953671,
          -0.9117388986054294,
          null
         ],
         "z": [
          -0.3266331658291457,
          0.18592964824120597,
          null
         ]
        },
        {
         "hoverinfo": "none",
         "line": {
          "color": "black",
          "width": 4
         },
         "mode": "lines",
         "type": "scatter3d",
         "x": [
          -0.7824796533348303,
          0.3962282650703626,
          null
         ],
         "y": [
          -0.5301286325953671,
          -0.6400433729233012,
          null
         ],
         "z": [
          -0.3266331658291457,
          0.6582914572864322,
          null
         ]
        },
        {
         "hoverinfo": "none",
         "line": {
          "color": "black",
          "width": 5
         },
         "mode": "lines",
         "type": "scatter3d",
         "x": [
          -0.7824796533348303,
          0.6955838850071943,
          null
         ],
         "y": [
          -0.5301286325953671,
          -0.2365320439145132,
          null
         ],
         "z": [
          -0.3266331658291457,
          0.6783919597989949,
          null
         ]
        },
        {
         "hoverinfo": "none",
         "line": {
          "color": "black",
          "width": 0
         },
         "mode": "lines",
         "type": "scatter3d",
         "x": [
          -0.7824796533348303,
          -0.6353138707760849,
          null
         ],
         "y": [
          -0.5301286325953671,
          0.07249033916421053,
          null
         ],
         "z": [
          -0.3266331658291457,
          0.7688442211055277,
          null
         ]
        },
        {
         "hoverinfo": "none",
         "line": {
          "color": "black",
          "width": 7
         },
         "mode": "lines",
         "type": "scatter3d",
         "x": [
          -0.7824796533348303,
          -0.2566312989684941,
          null
         ],
         "y": [
          -0.5301286325953671,
          -0.5438266327748627,
          null
         ],
         "z": [
          -0.3266331658291457,
          0.7989949748743719,
          null
         ]
        },
        {
         "hoverinfo": "none",
         "line": {
          "color": "black",
          "width": 0
         },
         "mode": "lines",
         "type": "scatter3d",
         "x": [
          -0.7824796533348303,
          -0.42956390914738973,
          null
         ],
         "y": [
          -0.5301286325953671,
          0.07986938119331266,
          null
         ],
         "z": [
          -0.3266331658291457,
          0.8994974874371859,
          null
         ]
        },
        {
         "hoverinfo": "none",
         "line": {
          "color": "black",
          "width": 3
         },
         "mode": "lines",
         "type": "scatter3d",
         "x": [
          -0.6161246034909317,
          0.8853301800948286,
          null
         ],
         "y": [
          -0.7212251598313059,
          0.4636303804992801,
          null
         ],
         "z": [
          -0.3165829145728643,
          0.03517587939698494,
          null
         ]
        },
        {
         "hoverinfo": "none",
         "line": {
          "color": "black",
          "width": 7
         },
         "mode": "lines",
         "type": "scatter3d",
         "x": [
          -0.6161246034909317,
          -0.9774199655907337,
          null
         ],
         "y": [
          -0.7212251598313059,
          -0.15301429152536394,
          null
         ],
         "z": [
          -0.3165829145728643,
          0.14572864321608045,
          null
         ]
        },
        {
         "hoverinfo": "none",
         "line": {
          "color": "black",
          "width": 2
         },
         "mode": "lines",
         "type": "scatter3d",
         "x": [
          -0.6161246034909317,
          -0.5679012117000678,
          null
         ],
         "y": [
          -0.7212251598313059,
          0.318935612734006,
          null
         ],
         "z": [
          -0.3165829145728643,
          0.7587939698492463,
          null
         ]
        },
        {
         "hoverinfo": "none",
         "line": {
          "color": "black",
          "width": 7
         },
         "mode": "lines",
         "type": "scatter3d",
         "x": [
          -0.6161246034909317,
          -0.600556325517356,
          null
         ],
         "y": [
          -0.7212251598313059,
          -0.18070833075791126,
          null
         ],
         "z": [
          -0.3165829145728643,
          0.778894472361809,
          null
         ]
        },
        {
         "hoverinfo": "none",
         "line": {
          "color": "black",
          "width": 6
         },
         "mode": "lines",
         "type": "scatter3d",
         "x": [
          -0.40503694008954455,
          0.5613571369223281,
          null
         ],
         "y": [
          -0.86138423684378,
          -0.7835468158432456,
          null
         ],
         "z": [
          -0.3065326633165828,
          -0.2663316582914572,
          null
         ]
        },
        {
         "hoverinfo": "none",
         "line": {
          "color": "black",
          "width": 7
         },
         "mode": "lines",
         "type": "scatter3d",
         "x": [
          -0.40503694008954455,
          -0.08433109874112966,
          null
         ],
         "y": [
          -0.86138423684378,
          0.9825420908093567,
          null
         ],
         "z": [
          -0.3065326633165828,
          -0.16582914572864332,
          null
         ]
        },
        {
         "hoverinfo": "none",
         "line": {
          "color": "black",
          "width": 6
         },
         "mode": "lines",
         "type": "scatter3d",
         "x": [
          -0.40503694008954455,
          -0.8405173138299454,
          null
         ],
         "y": [
          -0.86138423684378,
          -0.5350073360636081,
          null
         ],
         "z": [
          -0.3065326633165828,
          -0.08542713567839195,
          null
         ]
        },
        {
         "hoverinfo": "none",
         "line": {
          "color": "black",
          "width": 0
         },
         "mode": "lines",
         "type": "scatter3d",
         "x": [
          -0.40503694008954455,
          -0.6143899953864282,
          null
         ],
         "y": [
          -0.86138423684378,
          0.7087317523628855,
          null
         ],
         "z": [
          -0.3065326633165828,
          0.3467336683417086,
          null
         ]
        },
        {
         "hoverinfo": "none",
         "line": {
          "color": "black",
          "width": 1
         },
         "mode": "lines",
         "type": "scatter3d",
         "x": [
          -0.40503694008954455,
          -0.6386889828957023,
          null
         ],
         "y": [
          -0.86138423684378,
          -0.6529921505841256,
          null
         ],
         "z": [
          -0.3065326633165828,
          0.4070351758793972,
          null
         ]
        },
        {
         "hoverinfo": "none",
         "line": {
          "color": "black",
          "width": 8
         },
         "mode": "lines",
         "type": "scatter3d",
         "x": [
          -0.40503694008954455,
          0.5317207462626569,
          null
         ],
         "y": [
          -0.86138423684378,
          -0.11411904010464476,
          null
         ],
         "z": [
          -0.3065326633165828,
          0.8391959798994975,
          null
         ]
        },
        {
         "hoverinfo": "none",
         "line": {
          "color": "black",
          "width": 9
         },
         "mode": "lines",
         "type": "scatter3d",
         "x": [
          -0.1643943972580509,
          -0.8405173138299454,
          null
         ],
         "y": [
          -0.9407830044644023,
          -0.5350073360636081,
          null
         ],
         "z": [
          -0.29648241206030146,
          -0.08542713567839195,
          null
         ]
        },
        {
         "hoverinfo": "none",
         "line": {
          "color": "black",
          "width": 3
         },
         "mode": "lines",
         "type": "scatter3d",
         "x": [
          -0.1643943972580509,
          0.13434625214634502,
          null
         ],
         "y": [
          -0.9407830044644023,
          -0.9692794548088852,
          null
         ],
         "z": [
          -0.29648241206030146,
          0.20603015075376876,
          null
         ]
        },
        {
         "hoverinfo": "none",
         "line": {
          "color": "black",
          "width": 0
         },
         "mode": "lines",
         "type": "scatter3d",
         "x": [
          -0.1643943972580509,
          0.9543101980031311,
          null
         ],
         "y": [
          -0.9407830044644023,
          0.1354972094876758,
          null
         ],
         "z": [
          -0.29648241206030146,
          0.26633165829145716,
          null
         ]
        },
        {
         "hoverinfo": "none",
         "line": {
          "color": "black",
          "width": 3
         },
         "mode": "lines",
         "type": "scatter3d",
         "x": [
          -0.1643943972580509,
          0.7500220497040564,
          null
         ],
         "y": [
          -0.9407830044644023,
          0.5961740871715794,
          null
         ],
         "z": [
          -0.29648241206030146,
          0.2864321608040202,
          null
         ]
        },
        {
         "hoverinfo": "none",
         "line": {
          "color": "black",
          "width": 3
         },
         "mode": "lines",
         "type": "scatter3d",
         "x": [
          -0.1643943972580509,
          -0.8858140940564723,
          null
         ],
         "y": [
          -0.9407830044644023,
          0.2841937400165084,
          null
         ],
         "z": [
          -0.29648241206030146,
          0.3668341708542712,
          null
         ]
        },
        {
         "hoverinfo": "none",
         "line": {
          "color": "black",
          "width": 0
         },
         "mode": "lines",
         "type": "scatter3d",
         "x": [
          -0.1643943972580509,
          -0.46736094041360504,
          null
         ],
         "y": [
          -0.9407830044644023,
          -0.3989235195509105,
          null
         ],
         "z": [
          -0.29648241206030146,
          0.7889447236180904,
          null
         ]
        },
        {
         "hoverinfo": "none",
         "line": {
          "color": "black",
          "width": 8
         },
         "mode": "lines",
         "type": "scatter3d",
         "x": [
          -0.1643943972580509,
          -0.004587855210254107,
          null
         ],
         "y": [
          -0.9407830044644023,
          -0.5877284863436261,
          null
         ],
         "z": [
          -0.29648241206030146,
          0.8090452261306533,
          null
         ]
        },
        {
         "hoverinfo": "none",
         "line": {
          "color": "black",
          "width": 8
         },
         "mode": "lines",
         "type": "scatter3d",
         "x": [
          0.08868431031648284,
          -0.23599909505127642,
          null
         ],
         "y": [
          -0.9539872694962075,
          -0.970179853809575,
          null
         ],
         "z": [
          -0.28643216080402006,
          -0.05527638190954783,
          null
         ]
        },
        {
         "hoverinfo": "none",
         "line": {
          "color": "black",
          "width": 2
         },
         "mode": "lines",
         "type": "scatter3d",
         "x": [
          0.08868431031648284,
          0.8440290778788562,
          null
         ],
         "y": [
          -0.9539872694962075,
          0.20030268479764154,
          null
         ],
         "z": [
          -0.28643216080402006,
          0.49748743718592975,
          null
         ]
        },
        {
         "hoverinfo": "none",
         "line": {
          "color": "black",
          "width": 1
         },
         "mode": "lines",
         "type": "scatter3d",
         "x": [
          0.08868431031648284,
          0.06389728976483165,
          null
         ],
         "y": [
          -0.9539872694962075,
          0.6819062985636061,
          null
         ],
         "z": [
          -0.28643216080402006,
          0.728643216080402,
          null
         ]
        },
        {
         "hoverinfo": "none",
         "line": {
          "color": "black",
          "width": 1
         },
         "mode": "lines",
         "type": "scatter3d",
         "x": [
          0.3363668860791254,
          0.9591176411373035,
          null
         ],
         "y": [
          -0.9002612720894853,
          -0.1559228360378783,
          null
         ],
         "z": [
          -0.2763819095477387,
          -0.236180904522613,
          null
         ]
        },
        {
         "hoverinfo": "none",
         "line": {
          "color": "black",
          "width": 5
         },
         "mode": "lines",
         "type": "scatter3d",
         "x": [
          0.3363668860791254,
          0.4105859500056902,
          null
         ],
         "y": [
          -0.9002612720894853,
          0.8926641829729847,
          null
         ],
         "z": [
          -0.2763819095477387,
          -0.18592964824120606,
          null
         ]
        },
        {
         "hoverinfo": "none",
         "line": {
          "color": "black",
          "width": 5
         },
         "mode": "lines",
         "type": "scatter3d",
         "x": [
          0.3363668860791254,
          -0.9774199655907337,
          null
         ],
         "y": [
          -0.9002612720894853,
          -0.15301429152536394,
          null
         ],
         "z": [
          -0.2763819095477387,
          0.14572864321608045,
          null
         ]
        },
        {
         "hoverinfo": "none",
         "line": {
          "color": "black",
          "width": 0
         },
         "mode": "lines",
         "type": "scatter3d",
         "x": [
          0.3363668860791254,
          -0.11973939666335258,
          null
         ],
         "y": [
          -0.9002612720894853,
          -0.9732699296082516,
          null
         ],
         "z": [
          -0.2763819095477387,
          0.19597989949748745,
          null
         ]
        },
        {
         "hoverinfo": "none",
         "line": {
          "color": "black",
          "width": 8
         },
         "mode": "lines",
         "type": "scatter3d",
         "x": [
          0.3363668860791254,
          0.8715636126463255,
          null
         ],
         "y": [
          -0.9002612720894853,
          -0.05274333023114333,
          null
         ],
         "z": [
          -0.2763819095477387,
          0.48743718592964813,
          null
         ]
        },
        {
         "hoverinfo": "none",
         "line": {
          "color": "black",
          "width": 3
         },
         "mode": "lines",
         "type": "scatter3d",
         "x": [
          0.3363668860791254,
          0.5087685882011274,
          null
         ],
         "y": [
          -0.9002612720894853,
          0.14119264331946282,
          null
         ],
         "z": [
          -0.2763819095477387,
          0.8492462311557789,
          null
         ]
        },
        {
         "hoverinfo": "none",
         "line": {
          "color": "black",
          "width": 3
         },
         "mode": "lines",
         "type": "scatter3d",
         "x": [
          0.3363668860791254,
          0.0676279462623623,
          null
         ],
         "y": [
          -0.9002612720894853,
          -0.12420127151757969,
          null
         ],
         "z": [
          -0.2763819095477387,
          0.9899497487437185,
          null
         ]
        },
        {
         "hoverinfo": "none",
         "line": {
          "color": "black",
          "width": 9
         },
         "mode": "lines",
         "type": "scatter3d",
         "x": [
          0.5613571369223281,
          0.9606193521054072,
          null
         ],
         "y": [
          -0.7835468158432456,
          -0.27782226057861037,
          null
         ],
         "z": [
          -0.2663316582914572,
          0.005025125628140593,
          null
         ]
        },
        {
         "hoverinfo": "none",
         "line": {
          "color": "black",
          "width": 7
         },
         "mode": "lines",
         "type": "scatter3d",
         "x": [
          0.5613571369223281,
          0.8853301800948286,
          null
         ],
         "y": [
          -0.7835468158432456,
          0.4636303804992801,
          null
         ],
         "z": [
          -0.2663316582914572,
          0.03517587939698494,
          null
         ]
        },
        {
         "hoverinfo": "none",
         "line": {
          "color": "black",
          "width": 0
         },
         "mode": "lines",
         "type": "scatter3d",
         "x": [
          0.5613571369223281,
          0.5460301977631995,
          null
         ],
         "y": [
          -0.7835468158432456,
          0.8359399169400101,
          null
         ],
         "z": [
          -0.2663316582914572,
          0.05527638190954773,
          null
         ]
        },
        {
         "hoverinfo": "none",
         "line": {
          "color": "black",
          "width": 0
         },
         "mode": "lines",
         "type": "scatter3d",
         "x": [
          0.5613571369223281,
          -0.18549067049375184,
          null
         ],
         "y": [
          -0.7835468158432456,
          0.978925643575427,
          null
         ],
         "z": [
          -0.2663316582914572,
          0.08542713567839207,
          null
         ]
        },
        {
         "hoverinfo": "none",
         "line": {
          "color": "black",
          "width": 9
         },
         "mode": "lines",
         "type": "scatter3d",
         "x": [
          0.5613571369223281,
          -0.6353138707760849,
          null
         ],
         "y": [
          -0.7835468158432456,
          0.07249033916421053,
          null
         ],
         "z": [
          -0.2663316582914572,
          0.7688442211055277,
          null
         ]
        },
        {
         "hoverinfo": "none",
         "line": {
          "color": "black",
          "width": 6
         },
         "mode": "lines",
         "type": "scatter3d",
         "x": [
          0.5613571369223281,
          -0.2566312989684941,
          null
         ],
         "y": [
          -0.7835468158432456,
          -0.5438266327748627,
          null
         ],
         "z": [
          -0.2663316582914572,
          0.7989949748743719,
          null
         ]
        },
        {
         "hoverinfo": "none",
         "line": {
          "color": "black",
          "width": 9
         },
         "mode": "lines",
         "type": "scatter3d",
         "x": [
          0.7480816348934248,
          0.09172592356847682,
          null
         ],
         "y": [
          -0.6121222981915062,
          0.9441194909258364,
          null
         ],
         "z": [
          -0.25628140703517577,
          0.3165829145728642,
          null
         ]
        },
        {
         "hoverinfo": "none",
         "line": {
          "color": "black",
          "width": 5
         },
         "mode": "lines",
         "type": "scatter3d",
         "x": [
          0.7480816348934248,
          0.3108397890520478,
          null
         ],
         "y": [
          -0.6121222981915062,
          -0.8386646672133121,
          null
         ],
         "z": [
          -0.25628140703517577,
          0.44723618090452255,
          null
         ]
        },
        {
         "hoverinfo": "none",
         "line": {
          "color": "black",
          "width": 3
         },
         "mode": "lines",
         "type": "scatter3d",
         "x": [
          0.7480816348934248,
          -0.09075695184030583,
          null
         ],
         "y": [
          -0.6121222981915062,
          -0.7645099613068972,
          null
         ],
         "z": [
          -0.25628140703517577,
          0.6381909547738693,
          null
         ]
        },
        {
         "hoverinfo": "none",
         "line": {
          "color": "black",
          "width": 8
         },
         "mode": "lines",
         "type": "scatter3d",
         "x": [
          0.7480816348934248,
          -0.3292415201774607,
          null
         ],
         "y": [
          -0.6121222981915062,
          0.31699153843814987,
          null
         ],
         "z": [
          -0.25628140703517577,
          0.8894472361809045,
          null
         ]
        },
        {
         "hoverinfo": "none",
         "line": {
          "color": "black",
          "width": 9
         },
         "mode": "lines",
         "type": "scatter3d",
         "x": [
          0.7480816348934248,
          -0.42956390914738973,
          null
         ],
         "y": [
          -0.6121222981915062,
          0.07986938119331266,
          null
         ],
         "z": [
          -0.25628140703517577,
          0.8994974874371859,
          null
         ]
        },
        {
         "hoverinfo": "none",
         "line": {
          "color": "black",
          "width": 4
         },
         "mode": "lines",
         "type": "scatter3d",
         "x": [
          0.8837350468780757,
          0.4105859500056902,
          null
         ],
         "y": [
          -0.3979730956273241,
          0.8926641829729847,
          null
         ],
         "z": [
          -0.2462311557788945,
          -0.18592964824120606,
          null
         ]
        },
        {
         "hoverinfo": "none",
         "line": {
          "color": "black",
          "width": 1
         },
         "mode": "lines",
         "type": "scatter3d",
         "x": [
          0.8837350468780757,
          0.8597006759110095,
          null
         ],
         "y": [
          -0.3979730956273241,
          -0.510773429174399,
          null
         ],
         "z": [
          -0.2462311557788945,
          -0.005025125628140692,
          null
         ]
        },
        {
         "hoverinfo": "none",
         "line": {
          "color": "black",
          "width": 4
         },
         "mode": "lines",
         "type": "scatter3d",
         "x": [
          0.8837350468780757,
          -0.9774199655907337,
          null
         ],
         "y": [
          -0.3979730956273241,
          -0.15301429152536394,
          null
         ],
         "z": [
          -0.2462311557788945,
          0.14572864321608045,
          null
         ]
        },
        {
         "hoverinfo": "none",
         "line": {
          "color": "black",
          "width": 2
         },
         "mode": "lines",
         "type": "scatter3d",
         "x": [
          0.8837350468780757,
          0.30775790638944817,
          null
         ],
         "y": [
          -0.3979730956273241,
          0.0571173779137144,
          null
         ],
         "z": [
          -0.2462311557788945,
          0.949748743718593,
          null
         ]
        },
        {
         "hoverinfo": "none",
         "line": {
          "color": "black",
          "width": 1
         },
         "mode": "lines",
         "type": "scatter3d",
         "x": [
          0.8837350468780757,
          -0.1922969882497981,
          null
         ],
         "y": [
          -0.3979730956273241,
          -0.05309277854779562,
          null
         ],
         "z": [
          -0.2462311557788945,
          0.9798994974874371,
          null
         ]
        },
        {
         "hoverinfo": "none",
         "line": {
          "color": "black",
          "width": 3
         },
         "mode": "lines",
         "type": "scatter3d",
         "x": [
          0.9591176411373035,
          0.16898247772841876,
          null
         ],
         "y": [
          -0.1559228360378783,
          0.9697996493796973,
          null
         ],
         "z": [
          -0.236180904522613,
          -0.17587939698492466,
          null
         ]
        },
        {
         "hoverinfo": "none",
         "line": {
          "color": "black",
          "width": 3
         },
         "mode": "lines",
         "type": "scatter3d",
         "x": [
          0.9591176411373035,
          0.016183422624492533,
          null
         ],
         "y": [
          -0.1559228360378783,
          -0.9988456807426714,
          null
         ],
         "z": [
          -0.236180904522613,
          -0.04522613065326637,
          null
         ]
        },
        {
         "hoverinfo": "none",
         "line": {
          "color": "black",
          "width": 0
         },
         "mode": "lines",
         "type": "scatter3d",
         "x": [
          0.9591176411373035,
          0.7033011304219116,
          null
         ],
         "y": [
          -0.1559228360378783,
          -0.7107321949644987,
          null
         ],
         "z": [
          -0.236180904522613,
          -0.015075376884422157,
          null
         ]
        },
        {
         "hoverinfo": "none",
         "line": {
          "color": "black",
          "width": 9
         },
         "mode": "lines",
         "type": "scatter3d",
         "x": [
          0.9591176411373035,
          0.739575014981879,
          null
         ],
         "y": [
          -0.1559228360378783,
          0.6715529720883432,
          null
         ],
         "z": [
          -0.236180904522613,
          0.045226130653266486,
          null
         ]
        },
        {
         "hoverinfo": "none",
         "line": {
          "color": "black",
          "width": 9
         },
         "mode": "lines",
         "type": "scatter3d",
         "x": [
          0.9591176411373035,
          -0.985601838057066,
          null
         ],
         "y": [
          -0.1559228360378783,
          0.100897922544204,
          null
         ],
         "z": [
          -0.236180904522613,
          0.13567839195979908,
          null
         ]
        },
        {
         "hoverinfo": "none",
         "line": {
          "color": "black",
          "width": 3
         },
         "mode": "lines",
         "type": "scatter3d",
         "x": [
          0.9591176411373035,
          0.9592929774959421,
          null
         ],
         "y": [
          -0.1559228360378783,
          -0.11864579105488865,
          null
         ],
         "z": [
          -0.236180904522613,
          0.25628140703517593,
          null
         ]
        },
        {
         "hoverinfo": "none",
         "line": {
          "color": "black",
          "width": 7
         },
         "mode": "lines",
         "type": "scatter3d",
         "x": [
          0.9591176411373035,
          -0.8858140940564723,
          null
         ],
         "y": [
          -0.1559228360378783,
          0.2841937400165084,
          null
         ],
         "z": [
          -0.236180904522613,
          0.3668341708542712,
          null
         ]
        },
        {
         "hoverinfo": "none",
         "line": {
          "color": "black",
          "width": 8
         },
         "mode": "lines",
         "type": "scatter3d",
         "x": [
          0.9591176411373035,
          -0.3779945609644943,
          null
         ],
         "y": [
          -0.1559228360378783,
          -0.17275133261095033,
          null
         ],
         "z": [
          -0.236180904522613,
          0.9095477386934674,
          null
         ]
        },
        {
         "hoverinfo": "none",
         "line": {
          "color": "black",
          "width": 5
         },
         "mode": "lines",
         "type": "scatter3d",
         "x": [
          0.9692141584109936,
          0.16898247772841876,
          null
         ],
         "y": [
          0.09741069134859666,
          0.9697996493796973,
          null
         ],
         "z": [
          -0.2261306532663317,
          -0.17587939698492466,
          null
         ]
        },
        {
         "hoverinfo": "none",
         "line": {
          "color": "black",
          "width": 9
         },
         "mode": "lines",
         "type": "scatter3d",
         "x": [
          0.9692141584109936,
          0.9995234698449429,
          null
         ],
         "y": [
          0.09741069134859666,
          -0.026936336813276493,
          null
         ],
         "z": [
          -0.2261306532663317,
          0.015075376884422058,
          null
         ]
        },
        {
         "hoverinfo": "none",
         "line": {
          "color": "black",
          "width": 6
         },
         "mode": "lines",
         "type": "scatter3d",
         "x": [
          0.9692141584109936,
          -0.7793130144557557,
          null
         ],
         "y": [
          0.09741069134859666,
          0.515147027766033,
          null
         ],
         "z": [
          -0.2261306532663317,
          0.3567839195979901,
          null
         ]
        },
        {
         "hoverinfo": "none",
         "line": {
          "color": "black",
          "width": 4
         },
         "mode": "lines",
         "type": "scatter3d",
         "x": [
          0.9692141584109936,
          -0.925672422221608,
          null
         ],
         "y": [
          0.09741069134859666,
          0.03299544072710666,
          null
         ],
         "z": [
          -0.2261306532663317,
          0.3768844221105527,
          null
         ]
        },
        {
         "hoverinfo": "none",
         "line": {
          "color": "black",
          "width": 7
         },
         "mode": "lines",
         "type": "scatter3d",
         "x": [
          0.9692141584109936,
          0,
          null
         ],
         "y": [
          0.09741069134859666,
          0,
          null
         ],
         "z": [
          -0.2261306532663317,
          1,
          null
         ]
        },
        {
         "hoverinfo": "none",
         "line": {
          "color": "black",
          "width": 1
         },
         "mode": "lines",
         "type": "scatter3d",
         "x": [
          0.9134816304942963,
          -0.33250966656464714,
          null
         ],
         "y": [
          0.3447616141867552,
          0.9301452884781152,
          null
         ],
         "z": [
          -0.21608040201005033,
          -0.15577889447236182,
          null
         ]
        },
        {
         "hoverinfo": "none",
         "line": {
          "color": "black",
          "width": 0
         },
         "mode": "lines",
         "type": "scatter3d",
         "x": [
          0.9134816304942963,
          -0.42668500783452756,
          null
         ],
         "y": [
          0.3447616141867552,
          0.8993464141660742,
          null
         ],
         "z": [
          -0.21608040201005033,
          0.09547738693467349,
          null
         ]
        },
        {
         "hoverinfo": "none",
         "line": {
          "color": "black",
          "width": 6
         },
         "mode": "lines",
         "type": "scatter3d",
         "x": [
          0.9134816304942963,
          -0.9774199655907337,
          null
         ],
         "y": [
          0.3447616141867552,
          -0.15301429152536394,
          null
         ],
         "z": [
          -0.21608040201005033,
          0.14572864321608045,
          null
         ]
        },
        {
         "hoverinfo": "none",
         "line": {
          "color": "black",
          "width": 2
         },
         "mode": "lines",
         "type": "scatter3d",
         "x": [
          0.9134816304942963,
          -0.11973939666335258,
          null
         ],
         "y": [
          0.3447616141867552,
          -0.9732699296082516,
          null
         ],
         "z": [
          -0.21608040201005033,
          0.19597989949748745,
          null
         ]
        },
        {
         "hoverinfo": "none",
         "line": {
          "color": "black",
          "width": 1
         },
         "mode": "lines",
         "type": "scatter3d",
         "x": [
          0.9134816304942963,
          -0.4034742971178234,
          null
         ],
         "y": [
          0.3447616141867552,
          0.8507953738854946,
          null
         ],
         "z": [
          -0.21608040201005033,
          0.3366834170854272,
          null
         ]
        },
        {
         "hoverinfo": "none",
         "line": {
          "color": "black",
          "width": 1
         },
         "mode": "lines",
         "type": "scatter3d",
         "x": [
          0.9134816304942963,
          -0.7793130144557557,
          null
         ],
         "y": [
          0.3447616141867552,
          0.515147027766033,
          null
         ],
         "z": [
          -0.21608040201005033,
          0.3567839195979901,
          null
         ]
        },
        {
         "hoverinfo": "none",
         "line": {
          "color": "black",
          "width": 1
         },
         "mode": "lines",
         "type": "scatter3d",
         "x": [
          0.9134816304942963,
          -0.3741885774371721,
          null
         ],
         "y": [
          0.3447616141867552,
          0.7408470838571601,
          null
         ],
         "z": [
          -0.21608040201005033,
          0.5577889447236182,
          null
         ]
        },
        {
         "hoverinfo": "none",
         "line": {
          "color": "black",
          "width": 0
         },
         "mode": "lines",
         "type": "scatter3d",
         "x": [
          0.9134816304942963,
          -0.7231637330577864,
          null
         ],
         "y": [
          0.3447616141867552,
          0.3782565293064855,
          null
         ],
         "z": [
          -0.21608040201005033,
          0.5778894472361809,
          null
         ]
        },
        {
         "hoverinfo": "none",
         "line": {
          "color": "black",
          "width": 8
         },
         "mode": "lines",
         "type": "scatter3d",
         "x": [
          0.9134816304942963,
          0.5810756220933079,
          null
         ],
         "y": [
          0.3447616141867552,
          -0.46440336134774246,
          null
         ],
         "z": [
          -0.21608040201005033,
          0.6683417085427135,
          null
         ]
        },
        {
         "hoverinfo": "none",
         "line": {
          "color": "black",
          "width": 1
         },
         "mode": "lines",
         "type": "scatter3d",
         "x": [
          0.9134816304942963,
          0.6648572393833766,
          null
         ],
         "y": [
          0.3447616141867552,
          0.264713300257944,
          null
         ],
         "z": [
          -0.21608040201005033,
          0.6984924623115578,
          null
         ]
        },
        {
         "hoverinfo": "none",
         "line": {
          "color": "black",
          "width": 3
         },
         "mode": "lines",
         "type": "scatter3d",
         "x": [
          0.7958335820929668,
          0.8597006759110095,
          null
         ],
         "y": [
          0.5693860611162309,
          -0.510773429174399,
          null
         ],
         "z": [
          -0.20603015075376888,
          -0.005025125628140692,
          null
         ]
        },
        {
         "hoverinfo": "none",
         "line": {
          "color": "black",
          "width": 9
         },
         "mode": "lines",
         "type": "scatter3d",
         "x": [
          0.7958335820929668,
          0.9995234698449429,
          null
         ],
         "y": [
          0.5693860611162309,
          -0.026936336813276493,
          null
         ],
         "z": [
          -0.20603015075376888,
          0.015075376884422058,
          null
         ]
        },
        {
         "hoverinfo": "none",
         "line": {
          "color": "black",
          "width": 4
         },
         "mode": "lines",
         "type": "scatter3d",
         "x": [
          0.7958335820929668,
          0.9738814815414809,
          null
         ],
         "y": [
          0.5693860611162309,
          0.22566249737407673,
          null
         ],
         "z": [
          -0.20603015075376888,
          0.025125628140703616,
          null
         ]
        },
        {
         "hoverinfo": "none",
         "line": {
          "color": "black",
          "width": 8
         },
         "mode": "lines",
         "type": "scatter3d",
         "x": [
          0.7958335820929668,
          -0.9047419231328161,
          null
         ],
         "y": [
          0.5693860611162309,
          -0.39645300927462035,
          null
         ],
         "z": [
          -0.20603015075376888,
          0.15577889447236173,
          null
         ]
        },
        {
         "hoverinfo": "none",
         "line": {
          "color": "black",
          "width": 4
         },
         "mode": "lines",
         "type": "scatter3d",
         "x": [
          0.7958335820929668,
          0.1633089131200265,
          null
         ],
         "y": [
          0.5693860611162309,
          -0.7437160329723511,
          null
         ],
         "z": [
          -0.20603015075376888,
          0.6482412060301508,
          null
         ]
        },
        {
         "hoverinfo": "none",
         "line": {
          "color": "black",
          "width": 6
         },
         "mode": "lines",
         "type": "scatter3d",
         "x": [
          0.7958335820929668,
          -0.18633022541047584,
          null
         ],
         "y": [
          0.5693860611162309,
          -0.3458620880912837,
          null
         ],
         "z": [
          -0.20603015075376888,
          0.9195979899497488,
          null
         ]
        },
        {
         "hoverinfo": "none",
         "line": {
          "color": "black",
          "width": 7
         },
         "mode": "lines",
         "type": "scatter3d",
         "x": [
          0.6243280701168443,
          0.5460301977631995,
          null
         ],
         "y": [
          0.7561787750638941,
          0.8359399169400101,
          null
         ],
         "z": [
          -0.19597989949748734,
          0.05527638190954773,
          null
         ]
        },
        {
         "hoverinfo": "none",
         "line": {
          "color": "black",
          "width": 9
         },
         "mode": "lines",
         "type": "scatter3d",
         "x": [
          0.6243280701168443,
          -0.6398431952082979,
          null
         ],
         "y": [
          0.7561787750638941,
          0.7612257241603668,
          null
         ],
         "z": [
          -0.19597989949748734,
          0.10552763819095472,
          null
         ]
        },
        {
         "hoverinfo": "none",
         "line": {
          "color": "black",
          "width": 6
         },
         "mode": "lines",
         "type": "scatter3d",
         "x": [
          0.6243280701168443,
          -0.8858140940564723,
          null
         ],
         "y": [
          0.7561787750638941,
          0.2841937400165084,
          null
         ],
         "z": [
          -0.19597989949748734,
          0.3668341708542712,
          null
         ]
        },
        {
         "hoverinfo": "none",
         "line": {
          "color": "black",
          "width": 1
         },
         "mode": "lines",
         "type": "scatter3d",
         "x": [
          0.6243280701168443,
          0.5317207462626569,
          null
         ],
         "y": [
          0.7561787750638941,
          -0.11411904010464476,
          null
         ],
         "z": [
          -0.19597989949748734,
          0.8391959798994975,
          null
         ]
        },
        {
         "hoverinfo": "none",
         "line": {
          "color": "black",
          "width": 9
         },
         "mode": "lines",
         "type": "scatter3d",
         "x": [
          0.4105859500056902,
          -0.4311344860611112,
          null
         ],
         "y": [
          0.8926641829729847,
          -0.8001017444049664,
          null
         ],
         "z": [
          -0.18592964824120606,
          0.41708542713567837,
          null
         ]
        },
        {
         "hoverinfo": "none",
         "line": {
          "color": "black",
          "width": 2
         },
         "mode": "lines",
         "type": "scatter3d",
         "x": [
          0.4105859500056902,
          0.0632016554808522,
          null
         ],
         "y": [
          0.8926641829729847,
          -0.8971477100578715,
          null
         ],
         "z": [
          -0.18592964824120606,
          0.43718592964824127,
          null
         ]
        },
        {
         "hoverinfo": "none",
         "line": {
          "color": "black",
          "width": 8
         },
         "mode": "lines",
         "type": "scatter3d",
         "x": [
          0.4105859500056902,
          -0.7924588501224821,
          null
         ],
         "y": [
          0.8926641829729847,
          -0.12007077438764355,
          null
         ],
         "z": [
          -0.18592964824120606,
          0.5979899497487438,
          null
         ]
        },
        {
         "hoverinfo": "none",
         "line": {
          "color": "black",
          "width": 7
         },
         "mode": "lines",
         "type": "scatter3d",
         "x": [
          0.4105859500056902,
          -0.004587855210254107,
          null
         ],
         "y": [
          0.8926641829729847,
          -0.5877284863436261,
          null
         ],
         "z": [
          -0.18592964824120606,
          0.8090452261306533,
          null
         ]
        },
        {
         "hoverinfo": "none",
         "line": {
          "color": "black",
          "width": 8
         },
         "mode": "lines",
         "type": "scatter3d",
         "x": [
          0.4105859500056902,
          -0.3779945609644943,
          null
         ],
         "y": [
          0.8926641829729847,
          -0.17275133261095033,
          null
         ],
         "z": [
          -0.18592964824120606,
          0.9095477386934674,
          null
         ]
        },
        {
         "hoverinfo": "none",
         "line": {
          "color": "black",
          "width": 0
         },
         "mode": "lines",
         "type": "scatter3d",
         "x": [
          0.4105859500056902,
          0.1297116280928751,
          null
         ],
         "y": [
          0.8926641829729847,
          0.24891922943540667,
          null
         ],
         "z": [
          -0.18592964824120606,
          0.9597989949748744,
          null
         ]
        },
        {
         "hoverinfo": "none",
         "line": {
          "color": "black",
          "width": 0
         },
         "mode": "lines",
         "type": "scatter3d",
         "x": [
          0.16898247772841876,
          -0.985601838057066,
          null
         ],
         "y": [
          0.9697996493796973,
          0.100897922544204,
          null
         ],
         "z": [
          -0.17587939698492466,
          0.13567839195979908,
          null
         ]
        },
        {
         "hoverinfo": "none",
         "line": {
          "color": "black",
          "width": 0
         },
         "mode": "lines",
         "type": "scatter3d",
         "x": [
          0.16898247772841876,
          0.5646952188368541,
          null
         ],
         "y": [
          0.9697996493796973,
          0.7702061342015544,
          null
         ],
         "z": [
          -0.17587939698492466,
          0.29648241206030157,
          null
         ]
        },
        {
         "hoverinfo": "none",
         "line": {
          "color": "black",
          "width": 6
         },
         "mode": "lines",
         "type": "scatter3d",
         "x": [
          0.16898247772841876,
          -0.4311344860611112,
          null
         ],
         "y": [
          0.9697996493796973,
          -0.8001017444049664,
          null
         ],
         "z": [
          -0.17587939698492466,
          0.41708542713567837,
          null
         ]
        },
        {
         "hoverinfo": "none",
         "line": {
          "color": "black",
          "width": 2
         },
         "mode": "lines",
         "type": "scatter3d",
         "x": [
          0.16898247772841876,
          -0.33761069961500084,
          null
         ],
         "y": [
          0.9697996493796973,
          -0.7010408490879112,
          null
         ],
         "z": [
          -0.17587939698492466,
          0.6281407035175879,
          null
         ]
        },
        {
         "hoverinfo": "none",
         "line": {
          "color": "black",
          "width": 7
         },
         "mode": "lines",
         "type": "scatter3d",
         "x": [
          -0.08433109874112966,
          0.8597006759110095,
          null
         ],
         "y": [
          0.9825420908093567,
          -0.510773429174399,
          null
         ],
         "z": [
          -0.16582914572864332,
          -0.005025125628140692,
          null
         ]
        },
        {
         "hoverinfo": "none",
         "line": {
          "color": "black",
          "width": 2
         },
         "mode": "lines",
         "type": "scatter3d",
         "x": [
          -0.08433109874112966,
          -0.5887395729275208,
          null
         ],
         "y": [
          0.9825420908093567,
          -0.7889563695067934,
          null
         ],
         "z": [
          -0.16582914572864332,
          0.17587939698492458,
          null
         ]
        },
        {
         "hoverinfo": "none",
         "line": {
          "color": "black",
          "width": 0
         },
         "mode": "lines",
         "type": "scatter3d",
         "x": [
          -0.08433109874112966,
          -0.3662817858898524,
          null
         ],
         "y": [
          0.9825420908093567,
          -0.9117388986054294,
          null
         ],
         "z": [
          -0.16582914572864332,
          0.18592964824120597,
          null
         ]
        },
        {
         "hoverinfo": "none",
         "line": {
          "color": "black",
          "width": 2
         },
         "mode": "lines",
         "type": "scatter3d",
         "x": [
          -0.08433109874112966,
          0.7500220497040564,
          null
         ],
         "y": [
          0.9825420908093567,
          0.5961740871715794,
          null
         ],
         "z": [
          -0.16582914572864332,
          0.2864321608040202,
          null
         ]
        },
        {
         "hoverinfo": "none",
         "line": {
          "color": "black",
          "width": 1
         },
         "mode": "lines",
         "type": "scatter3d",
         "x": [
          -0.08433109874112966,
          0.725096144076266,
          null
         ],
         "y": [
          0.9825420908093567,
          0.01681974681893568,
          null
         ],
         "z": [
          -0.16582914572864332,
          0.6884422110552764,
          null
         ]
        },
        {
         "hoverinfo": "none",
         "line": {
          "color": "black",
          "width": 9
         },
         "mode": "lines",
         "type": "scatter3d",
         "x": [
          -0.08433109874112966,
          0.0720199661208389,
          null
         ],
         "y": [
          0.9825420908093567,
          -0.3613409361011954,
          null
         ],
         "z": [
          -0.16582914572864332,
          0.9296482412060301,
          null
         ]
        },
        {
         "hoverinfo": "none",
         "line": {
          "color": "black",
          "width": 1
         },
         "mode": "lines",
         "type": "scatter3d",
         "x": [
          -0.08433109874112966,
          -0.1303084840790476,
          null
         ],
         "y": [
          0.9825420908093567,
          0.20594207574432036,
          null
         ],
         "z": [
          -0.16582914572864332,
          0.9698492462311559,
          null
         ]
        },
        {
         "hoverinfo": "none",
         "line": {
          "color": "black",
          "width": 7
         },
         "mode": "lines",
         "type": "scatter3d",
         "x": [
          -0.33250966656464714,
          -0.7492577373693531,
          null
         ],
         "y": [
          0.9301452884781152,
          0.648231607488682,
          null
         ],
         "z": [
          -0.15577889447236182,
          -0.13567839195979897,
          null
         ]
        },
        {
         "hoverinfo": "none",
         "line": {
          "color": "black",
          "width": 2
         },
         "mode": "lines",
         "type": "scatter3d",
         "x": [
          -0.33250966656464714,
          -0.23599909505127642,
          null
         ],
         "y": [
          0.9301452884781152,
          -0.970179853809575,
          null
         ],
         "z": [
          -0.15577889447236182,
          -0.05527638190954783,
          null
         ]
        },
        {
         "hoverinfo": "none",
         "line": {
          "color": "black",
          "width": 2
         },
         "mode": "lines",
         "type": "scatter3d",
         "x": [
          -0.33250966656464714,
          0.8440290778788562,
          null
         ],
         "y": [
          0.9301452884781152,
          0.20030268479764154,
          null
         ],
         "z": [
          -0.15577889447236182,
          0.49748743718592975,
          null
         ]
        },
        {
         "hoverinfo": "none",
         "line": {
          "color": "black",
          "width": 9
         },
         "mode": "lines",
         "type": "scatter3d",
         "x": [
          -0.33250966656464714,
          -0.1341208174448031,
          null
         ],
         "y": [
          0.9301452884781152,
          0.8258292378007893,
          null
         ],
         "z": [
          -0.15577889447236182,
          0.5477386934673367,
          null
         ]
        },
        {
         "hoverinfo": "none",
         "line": {
          "color": "black",
          "width": 1
         },
         "mode": "lines",
         "type": "scatter3d",
         "x": [
          -0.33250966656464714,
          -0.7231637330577864,
          null
         ],
         "y": [
          0.9301452884781152,
          0.3782565293064855,
          null
         ],
         "z": [
          -0.15577889447236182,
          0.5778894472361809,
          null
         ]
        },
        {
         "hoverinfo": "none",
         "line": {
          "color": "black",
          "width": 8
         },
         "mode": "lines",
         "type": "scatter3d",
         "x": [
          -0.33250966656464714,
          0.725096144076266,
          null
         ],
         "y": [
          0.9301452884781152,
          0.01681974681893568,
          null
         ],
         "z": [
          -0.15577889447236182,
          0.6884422110552764,
          null
         ]
        },
        {
         "hoverinfo": "none",
         "line": {
          "color": "black",
          "width": 4
         },
         "mode": "lines",
         "type": "scatter3d",
         "x": [
          -0.33250966656464714,
          -0.6353138707760849,
          null
         ],
         "y": [
          0.9301452884781152,
          0.07249033916421053,
          null
         ],
         "z": [
          -0.15577889447236182,
          0.7688442211055277,
          null
         ]
        },
        {
         "hoverinfo": "none",
         "line": {
          "color": "black",
          "width": 7
         },
         "mode": "lines",
         "type": "scatter3d",
         "x": [
          -0.33250966656464714,
          -0.004587855210254107,
          null
         ],
         "y": [
          0.9301452884781152,
          -0.5877284863436261,
          null
         ],
         "z": [
          -0.15577889447236182,
          0.8090452261306533,
          null
         ]
        },
        {
         "hoverinfo": "none",
         "line": {
          "color": "black",
          "width": 0
         },
         "mode": "lines",
         "type": "scatter3d",
         "x": [
          -0.5591285460316034,
          -0.9475723752818175,
          null
         ],
         "y": [
          0.8161730402059268,
          -0.30494370330751364,
          null
         ],
         "z": [
          -0.14572864321608034,
          -0.09547738693467336,
          null
         ]
        },
        {
         "hoverinfo": "none",
         "line": {
          "color": "black",
          "width": 7
         },
         "mode": "lines",
         "type": "scatter3d",
         "x": [
          -0.5591285460316034,
          -0.8405173138299454,
          null
         ],
         "y": [
          0.8161730402059268,
          -0.5350073360636081,
          null
         ],
         "z": [
          -0.14572864321608034,
          -0.08542713567839195,
          null
         ]
        },
        {
         "hoverinfo": "none",
         "line": {
          "color": "black",
          "width": 0
         },
         "mode": "lines",
         "type": "scatter3d",
         "x": [
          -0.5591285460316034,
          -0.23599909505127642,
          null
         ],
         "y": [
          0.8161730402059268,
          -0.970179853809575,
          null
         ],
         "z": [
          -0.14572864321608034,
          -0.05527638190954783,
          null
         ]
        },
        {
         "hoverinfo": "none",
         "line": {
          "color": "black",
          "width": 2
         },
         "mode": "lines",
         "type": "scatter3d",
         "x": [
          -0.5591285460316034,
          -0.8109889569592988,
          null
         ],
         "y": [
          0.8161730402059268,
          0.5735317455564173,
          null
         ],
         "z": [
          -0.14572864321608034,
          0.11557788944723603,
          null
         ]
        },
        {
         "hoverinfo": "none",
         "line": {
          "color": "black",
          "width": 6
         },
         "mode": "lines",
         "type": "scatter3d",
         "x": [
          -0.5591285460316034,
          -0.9774199655907337,
          null
         ],
         "y": [
          0.8161730402059268,
          -0.15301429152536394,
          null
         ],
         "z": [
          -0.14572864321608034,
          0.14572864321608045,
          null
         ]
        },
        {
         "hoverinfo": "none",
         "line": {
          "color": "black",
          "width": 4
         },
         "mode": "lines",
         "type": "scatter3d",
         "x": [
          -0.5591285460316034,
          -0.8858140940564723,
          null
         ],
         "y": [
          0.8161730402059268,
          0.2841937400165084,
          null
         ],
         "z": [
          -0.14572864321608034,
          0.3668341708542712,
          null
         ]
        },
        {
         "hoverinfo": "none",
         "line": {
          "color": "black",
          "width": 2
         },
         "mode": "lines",
         "type": "scatter3d",
         "x": [
          -0.5591285460316034,
          -0.7924588501224821,
          null
         ],
         "y": [
          0.8161730402059268,
          -0.12007077438764355,
          null
         ],
         "z": [
          -0.14572864321608034,
          0.5979899497487438,
          null
         ]
        },
        {
         "hoverinfo": "none",
         "line": {
          "color": "black",
          "width": 5
         },
         "mode": "lines",
         "type": "scatter3d",
         "x": [
          -0.5591285460316034,
          0.43486403352118225,
          null
         ],
         "y": [
          0.8161730402059268,
          -0.351298495616475,
          null
         ],
         "z": [
          -0.14572864321608034,
          0.829145728643216,
          null
         ]
        },
        {
         "hoverinfo": "none",
         "line": {
          "color": "black",
          "width": 0
         },
         "mode": "lines",
         "type": "scatter3d",
         "x": [
          -0.5591285460316034,
          0.1297116280928751,
          null
         ],
         "y": [
          0.8161730402059268,
          0.24891922943540667,
          null
         ],
         "z": [
          -0.14572864321608034,
          0.9597989949748744,
          null
         ]
        },
        {
         "hoverinfo": "none",
         "line": {
          "color": "black",
          "width": 2
         },
         "mode": "lines",
         "type": "scatter3d",
         "x": [
          -0.5591285460316034,
          -0.1922969882497981,
          null
         ],
         "y": [
          0.8161730402059268,
          -0.05309277854779562,
          null
         ],
         "z": [
          -0.14572864321608034,
          0.9798994974874371,
          null
         ]
        },
        {
         "hoverinfo": "none",
         "line": {
          "color": "black",
          "width": 8
         },
         "mode": "lines",
         "type": "scatter3d",
         "x": [
          -0.7492577373693531,
          -0.47275790495820047,
          null
         ],
         "y": [
          0.648231607488682,
          -0.8787675428113799,
          null
         ],
         "z": [
          -0.13567839195979897,
          -0.06532663316582904,
          null
         ]
        },
        {
         "hoverinfo": "none",
         "line": {
          "color": "black",
          "width": 3
         },
         "mode": "lines",
         "type": "scatter3d",
         "x": [
          -0.7492577373693531,
          -0.985601838057066,
          null
         ],
         "y": [
          0.648231607488682,
          0.100897922544204,
          null
         ],
         "z": [
          -0.13567839195979897,
          0.13567839195979908,
          null
         ]
        },
        {
         "hoverinfo": "none",
         "line": {
          "color": "black",
          "width": 1
         },
         "mode": "lines",
         "type": "scatter3d",
         "x": [
          -0.7492577373693531,
          -0.9774199655907337,
          null
         ],
         "y": [
          0.648231607488682,
          -0.15301429152536394,
          null
         ],
         "z": [
          -0.13567839195979897,
          0.14572864321608045,
          null
         ]
        },
        {
         "hoverinfo": "none",
         "line": {
          "color": "black",
          "width": 5
         },
         "mode": "lines",
         "type": "scatter3d",
         "x": [
          -0.7492577373693531,
          -0.5887395729275208,
          null
         ],
         "y": [
          0.648231607488682,
          -0.7889563695067934,
          null
         ],
         "z": [
          -0.13567839195979897,
          0.17587939698492458,
          null
         ]
        },
        {
         "hoverinfo": "none",
         "line": {
          "color": "black",
          "width": 5
         },
         "mode": "lines",
         "type": "scatter3d",
         "x": [
          -0.7492577373693531,
          -0.3662817858898524,
          null
         ],
         "y": [
          0.648231607488682,
          -0.9117388986054294,
          null
         ],
         "z": [
          -0.13567839195979897,
          0.18592964824120597,
          null
         ]
        },
        {
         "hoverinfo": "none",
         "line": {
          "color": "black",
          "width": 2
         },
         "mode": "lines",
         "type": "scatter3d",
         "x": [
          -0.7492577373693531,
          0.12037404304848949,
          null
         ],
         "y": [
          0.648231607488682,
          0.834506578088399,
          null
         ],
         "z": [
          -0.13567839195979897,
          0.5376884422110553,
          null
         ]
        },
        {
         "hoverinfo": "none",
         "line": {
          "color": "black",
          "width": 3
         },
         "mode": "lines",
         "type": "scatter3d",
         "x": [
          -0.7492577373693531,
          -0.7231637330577864,
          null
         ],
         "y": [
          0.648231607488682,
          0.3782565293064855,
          null
         ],
         "z": [
          -0.13567839195979897,
          0.5778894472361809,
          null
         ]
        },
        {
         "hoverinfo": "none",
         "line": {
          "color": "black",
          "width": 3
         },
         "mode": "lines",
         "type": "scatter3d",
         "x": [
          -0.7492577373693531,
          -0.7924588501224821,
          null
         ],
         "y": [
          0.648231607488682,
          -0.12007077438764355,
          null
         ],
         "z": [
          -0.13567839195979897,
          0.5979899497487438,
          null
         ]
        },
        {
         "hoverinfo": "none",
         "line": {
          "color": "black",
          "width": 9
         },
         "mode": "lines",
         "type": "scatter3d",
         "x": [
          -0.7492577373693531,
          0.725096144076266,
          null
         ],
         "y": [
          0.648231607488682,
          0.01681974681893568,
          null
         ],
         "z": [
          -0.13567839195979897,
          0.6884422110552764,
          null
         ]
        },
        {
         "hoverinfo": "none",
         "line": {
          "color": "black",
          "width": 3
         },
         "mode": "lines",
         "type": "scatter3d",
         "x": [
          -0.7492577373693531,
          0.3119136244605593,
          null
         ],
         "y": [
          0.648231607488682,
          0.6215577541798972,
          null
         ],
         "z": [
          -0.13567839195979897,
          0.7185929648241205,
          null
         ]
        },
        {
         "hoverinfo": "none",
         "line": {
          "color": "black",
          "width": 9
         },
         "mode": "lines",
         "type": "scatter3d",
         "x": [
          -0.7492577373693531,
          -0.1922969882497981,
          null
         ],
         "y": [
          0.648231607488682,
          -0.05309277854779562,
          null
         ],
         "z": [
          -0.13567839195979897,
          0.9798994974874371,
          null
         ]
        },
        {
         "hoverinfo": "none",
         "line": {
          "color": "black",
          "width": 6
         },
         "mode": "lines",
         "type": "scatter3d",
         "x": [
          -0.8904277233305821,
          -0.985601838057066,
          null
         ],
         "y": [
          0.43744261313650457,
          0.100897922544204,
          null
         ],
         "z": [
          -0.12562814070351752,
          0.13567839195979908,
          null
         ]
        },
        {
         "hoverinfo": "none",
         "line": {
          "color": "black",
          "width": 2
         },
         "mode": "lines",
         "type": "scatter3d",
         "x": [
          -0.8904277233305821,
          0.7440964149681661,
          null
         ],
         "y": [
          0.43744261313650457,
          0.4344260812178058,
          null
         ],
         "z": [
          -0.12562814070351752,
          0.5075376884422113,
          null
         ]
        },
        {
         "hoverinfo": "none",
         "line": {
          "color": "black",
          "width": 3
         },
         "mode": "lines",
         "type": "scatter3d",
         "x": [
          -0.8904277233305821,
          -0.6353138707760849,
          null
         ],
         "y": [
          0.43744261313650457,
          0.07249033916421053,
          null
         ],
         "z": [
          -0.12562814070351752,
          0.7688442211055277,
          null
         ]
        },
        {
         "hoverinfo": "none",
         "line": {
          "color": "black",
          "width": 6
         },
         "mode": "lines",
         "type": "scatter3d",
         "x": [
          -0.9734264244291374,
          0.8829535645133417,
          null
         ],
         "y": [
          0.19769357018888423,
          0.37948128147239324,
          null
         ],
         "z": [
          -0.11557788944723613,
          0.2763819095477386,
          null
         ]
        },
        {
         "hoverinfo": "none",
         "line": {
          "color": "black",
          "width": 0
         },
         "mode": "lines",
         "type": "scatter3d",
         "x": [
          -0.9734264244291374,
          0.7082279152172981,
          null
         ],
         "y": [
          0.19769357018888423,
          -0.5291593752733467,
          null
         ],
         "z": [
          -0.11557788944723613,
          0.4673366834170853,
          null
         ]
        },
        {
         "hoverinfo": "none",
         "line": {
          "color": "black",
          "width": 5
         },
         "mode": "lines",
         "type": "scatter3d",
         "x": [
          -0.9734264244291374,
          -0.7976204808491804,
          null
         ],
         "y": [
          0.19769357018888423,
          0.13464204197246402,
          null
         ],
         "z": [
          -0.11557788944723613,
          0.5879396984924623,
          null
         ]
        },
        {
         "hoverinfo": "none",
         "line": {
          "color": "black",
          "width": 0
         },
         "mode": "lines",
         "type": "scatter3d",
         "x": [
          -0.9928784759284608,
          -0.8405173138299454,
          null
         ],
         "y": [
          -0.05528335749405927,
          -0.5350073360636081,
          null
         ],
         "z": [
          -0.10552763819095481,
          -0.08542713567839195,
          null
         ]
        },
        {
         "hoverinfo": "none",
         "line": {
          "color": "black",
          "width": 7
         },
         "mode": "lines",
         "type": "scatter3d",
         "x": [
          -0.9928784759284608,
          0.31722051404782214,
          null
         ],
         "y": [
          -0.05528335749405927,
          0.9460991367010397,
          null
         ],
         "z": [
          -0.10552763819095481,
          0.06532663316582916,
          null
         ]
        },
        {
         "hoverinfo": "none",
         "line": {
          "color": "black",
          "width": 4
         },
         "mode": "lines",
         "type": "scatter3d",
         "x": [
          -0.9928784759284608,
          -0.7793130144557557,
          null
         ],
         "y": [
          -0.05528335749405927,
          0.515147027766033,
          null
         ],
         "z": [
          -0.10552763819095481,
          0.3567839195979901,
          null
         ]
        },
        {
         "hoverinfo": "none",
         "line": {
          "color": "black",
          "width": 1
         },
         "mode": "lines",
         "type": "scatter3d",
         "x": [
          -0.9928784759284608,
          0.06389728976483165,
          null
         ],
         "y": [
          -0.05528335749405927,
          0.6819062985636061,
          null
         ],
         "z": [
          -0.10552763819095481,
          0.728643216080402,
          null
         ]
        },
        {
         "hoverinfo": "none",
         "line": {
          "color": "black",
          "width": 2
         },
         "mode": "lines",
         "type": "scatter3d",
         "x": [
          -0.9928784759284608,
          -0.18901287835010755,
          null
         ],
         "y": [
          -0.05528335749405927,
          0.646997753575633,
          null
         ],
         "z": [
          -0.10552763819095481,
          0.7386934673366834,
          null
         ]
        },
        {
         "hoverinfo": "none",
         "line": {
          "color": "black",
          "width": 0
         },
         "mode": "lines",
         "type": "scatter3d",
         "x": [
          -0.9475723752818175,
          0.5460301977631995,
          null
         ],
         "y": [
          -0.30494370330751364,
          0.8359399169400101,
          null
         ],
         "z": [
          -0.09547738693467336,
          0.05527638190954773,
          null
         ]
        },
        {
         "hoverinfo": "none",
         "line": {
          "color": "black",
          "width": 4
         },
         "mode": "lines",
         "type": "scatter3d",
         "x": [
          -0.9475723752818175,
          -0.5887395729275208,
          null
         ],
         "y": [
          -0.30494370330751364,
          -0.7889563695067934,
          null
         ],
         "z": [
          -0.09547738693467336,
          0.17587939698492458,
          null
         ]
        },
        {
         "hoverinfo": "none",
         "line": {
          "color": "black",
          "width": 9
         },
         "mode": "lines",
         "type": "scatter3d",
         "x": [
          -0.9475723752818175,
          0.0720199661208389,
          null
         ],
         "y": [
          -0.30494370330751364,
          -0.3613409361011954,
          null
         ],
         "z": [
          -0.09547738693467336,
          0.9296482412060301,
          null
         ]
        },
        {
         "hoverinfo": "none",
         "line": {
          "color": "black",
          "width": 8
         },
         "mode": "lines",
         "type": "scatter3d",
         "x": [
          -0.8405173138299454,
          -0.9288482441833449,
          null
         ],
         "y": [
          -0.5350073360636081,
          0.3485089805742379,
          null
         ],
         "z": [
          -0.08542713567839195,
          0.12562814070351763,
          null
         ]
        },
        {
         "hoverinfo": "none",
         "line": {
          "color": "black",
          "width": 1
         },
         "mode": "lines",
         "type": "scatter3d",
         "x": [
          -0.8405173138299454,
          -0.7975160188443354,
          null
         ],
         "y": [
          -0.5350073360636081,
          -0.45428093654550455,
          null
         ],
         "z": [
          -0.08542713567839195,
          0.3969849246231157,
          null
         ]
        },
        {
         "hoverinfo": "none",
         "line": {
          "color": "black",
          "width": 4
         },
         "mode": "lines",
         "type": "scatter3d",
         "x": [
          -0.8405173138299454,
          0.725096144076266,
          null
         ],
         "y": [
          -0.5350073360636081,
          0.01681974681893568,
          null
         ],
         "z": [
          -0.08542713567839195,
          0.6884422110552764,
          null
         ]
        },
        {
         "hoverinfo": "none",
         "line": {
          "color": "black",
          "width": 5
         },
         "mode": "lines",
         "type": "scatter3d",
         "x": [
          -0.8405173138299454,
          -0.11657616359218419,
          null
         ],
         "y": [
          -0.5350073360636081,
          0.4615960799092759,
          null
         ],
         "z": [
          -0.08542713567839195,
          0.879396984924623,
          null
         ]
        },
        {
         "hoverinfo": "none",
         "line": {
          "color": "black",
          "width": 2
         },
         "mode": "lines",
         "type": "scatter3d",
         "x": [
          -0.678728644568649,
          -0.47275790495820047,
          null
         ],
         "y": [
          -0.730510610694205,
          -0.8787675428113799,
          null
         ],
         "z": [
          -0.07537688442211053,
          -0.06532663316582904,
          null
         ]
        },
        {
         "hoverinfo": "none",
         "line": {
          "color": "black",
          "width": 4
         },
         "mode": "lines",
         "type": "scatter3d",
         "x": [
          -0.678728644568649,
          -0.9047419231328161,
          null
         ],
         "y": [
          -0.730510610694205,
          -0.39645300927462035,
          null
         ],
         "z": [
          -0.07537688442211053,
          0.15577889447236173,
          null
         ]
        },
        {
         "hoverinfo": "none",
         "line": {
          "color": "black",
          "width": 3
         },
         "mode": "lines",
         "type": "scatter3d",
         "x": [
          -0.678728644568649,
          0.5646952188368541,
          null
         ],
         "y": [
          -0.730510610694205,
          0.7702061342015544,
          null
         ],
         "z": [
          -0.07537688442211053,
          0.29648241206030157,
          null
         ]
        },
        {
         "hoverinfo": "none",
         "line": {
          "color": "black",
          "width": 4
         },
         "mode": "lines",
         "type": "scatter3d",
         "x": [
          -0.678728644568649,
          -0.5505913149039414,
          null
         ],
         "y": [
          -0.730510610694205,
          -0.5610823440242639,
          null
         ],
         "z": [
          -0.07537688442211053,
          0.6180904522613064,
          null
         ]
        },
        {
         "hoverinfo": "none",
         "line": {
          "color": "black",
          "width": 3
         },
         "mode": "lines",
         "type": "scatter3d",
         "x": [
          -0.678728644568649,
          0.3119136244605593,
          null
         ],
         "y": [
          -0.730510610694205,
          0.6215577541798972,
          null
         ],
         "z": [
          -0.07537688442211053,
          0.7185929648241205,
          null
         ]
        },
        {
         "hoverinfo": "none",
         "line": {
          "color": "black",
          "width": 2
         },
         "mode": "lines",
         "type": "scatter3d",
         "x": [
          -0.678728644568649,
          0.0676279462623623,
          null
         ],
         "y": [
          -0.730510610694205,
          -0.12420127151757969,
          null
         ],
         "z": [
          -0.07537688442211053,
          0.9899497487437185,
          null
         ]
        },
        {
         "hoverinfo": "none",
         "line": {
          "color": "black",
          "width": 5
         },
         "mode": "lines",
         "type": "scatter3d",
         "x": [
          -0.47275790495820047,
          0.9995234698449429,
          null
         ],
         "y": [
          -0.8787675428113799,
          -0.026936336813276493,
          null
         ],
         "z": [
          -0.06532663316582904,
          0.015075376884422058,
          null
         ]
        },
        {
         "hoverinfo": "none",
         "line": {
          "color": "black",
          "width": 6
         },
         "mode": "lines",
         "type": "scatter3d",
         "x": [
          -0.47275790495820047,
          0.739575014981879,
          null
         ],
         "y": [
          -0.8787675428113799,
          0.6715529720883432,
          null
         ],
         "z": [
          -0.06532663316582904,
          0.045226130653266486,
          null
         ]
        },
        {
         "hoverinfo": "none",
         "line": {
          "color": "black",
          "width": 5
         },
         "mode": "lines",
         "type": "scatter3d",
         "x": [
          -0.47275790495820047,
          -0.11973939666335258,
          null
         ],
         "y": [
          -0.8787675428113799,
          -0.9732699296082516,
          null
         ],
         "z": [
          -0.06532663316582904,
          0.19597989949748745,
          null
         ]
        },
        {
         "hoverinfo": "none",
         "line": {
          "color": "black",
          "width": 5
         },
         "mode": "lines",
         "type": "scatter3d",
         "x": [
          -0.47275790495820047,
          0.8829535645133417,
          null
         ],
         "y": [
          -0.8787675428113799,
          0.37948128147239324,
          null
         ],
         "z": [
          -0.06532663316582904,
          0.2763819095477386,
          null
         ]
        },
        {
         "hoverinfo": "none",
         "line": {
          "color": "black",
          "width": 3
         },
         "mode": "lines",
         "type": "scatter3d",
         "x": [
          -0.47275790495820047,
          -0.16221249071244484,
          null
         ],
         "y": [
          -0.8787675428113799,
          0.9311272108779202,
          null
         ],
         "z": [
          -0.06532663316582904,
          0.3266331658291456,
          null
         ]
        },
        {
         "hoverinfo": "none",
         "line": {
          "color": "black",
          "width": 7
         },
         "mode": "lines",
         "type": "scatter3d",
         "x": [
          -0.47275790495820047,
          -0.4311344860611112,
          null
         ],
         "y": [
          -0.8787675428113799,
          -0.8001017444049664,
          null
         ],
         "z": [
          -0.06532663316582904,
          0.41708542713567837,
          null
         ]
        },
        {
         "hoverinfo": "none",
         "line": {
          "color": "black",
          "width": 4
         },
         "mode": "lines",
         "type": "scatter3d",
         "x": [
          -0.47275790495820047,
          0.8715636126463255,
          null
         ],
         "y": [
          -0.8787675428113799,
          -0.05274333023114333,
          null
         ],
         "z": [
          -0.06532663316582904,
          0.48743718592964813,
          null
         ]
        },
        {
         "hoverinfo": "none",
         "line": {
          "color": "black",
          "width": 0
         },
         "mode": "lines",
         "type": "scatter3d",
         "x": [
          -0.47275790495820047,
          -0.09075695184030583,
          null
         ],
         "y": [
          -0.8787675428113799,
          -0.7645099613068972,
          null
         ],
         "z": [
          -0.06532663316582904,
          0.6381909547738693,
          null
         ]
        },
        {
         "hoverinfo": "none",
         "line": {
          "color": "black",
          "width": 6
         },
         "mode": "lines",
         "type": "scatter3d",
         "x": [
          -0.47275790495820047,
          0.5810756220933079,
          null
         ],
         "y": [
          -0.8787675428113799,
          -0.46440336134774246,
          null
         ],
         "z": [
          -0.06532663316582904,
          0.6683417085427135,
          null
         ]
        },
        {
         "hoverinfo": "none",
         "line": {
          "color": "black",
          "width": 8
         },
         "mode": "lines",
         "type": "scatter3d",
         "x": [
          -0.47275790495820047,
          0.3119136244605593,
          null
         ],
         "y": [
          -0.8787675428113799,
          0.6215577541798972,
          null
         ],
         "z": [
          -0.06532663316582904,
          0.7185929648241205,
          null
         ]
        },
        {
         "hoverinfo": "none",
         "line": {
          "color": "black",
          "width": 9
         },
         "mode": "lines",
         "type": "scatter3d",
         "x": [
          -0.23599909505127642,
          0.7033011304219116,
          null
         ],
         "y": [
          -0.970179853809575,
          -0.7107321949644987,
          null
         ],
         "z": [
          -0.05527638190954783,
          -0.015075376884422157,
          null
         ]
        },
        {
         "hoverinfo": "none",
         "line": {
          "color": "black",
          "width": 8
         },
         "mode": "lines",
         "type": "scatter3d",
         "x": [
          -0.23599909505127642,
          0.5460301977631995,
          null
         ],
         "y": [
          -0.970179853809575,
          0.8359399169400101,
          null
         ],
         "z": [
          -0.05527638190954783,
          0.05527638190954773,
          null
         ]
        },
        {
         "hoverinfo": "none",
         "line": {
          "color": "black",
          "width": 8
         },
         "mode": "lines",
         "type": "scatter3d",
         "x": [
          -0.23599909505127642,
          -0.5887395729275208,
          null
         ],
         "y": [
          -0.970179853809575,
          -0.7889563695067934,
          null
         ],
         "z": [
          -0.05527638190954783,
          0.17587939698492458,
          null
         ]
        },
        {
         "hoverinfo": "none",
         "line": {
          "color": "black",
          "width": 8
         },
         "mode": "lines",
         "type": "scatter3d",
         "x": [
          -0.23599909505127642,
          -0.16221249071244484,
          null
         ],
         "y": [
          -0.970179853809575,
          0.9311272108779202,
          null
         ],
         "z": [
          -0.05527638190954783,
          0.3266331658291456,
          null
         ]
        },
        {
         "hoverinfo": "none",
         "line": {
          "color": "black",
          "width": 1
         },
         "mode": "lines",
         "type": "scatter3d",
         "x": [
          -0.23599909505127642,
          0.5317207462626569,
          null
         ],
         "y": [
          -0.970179853809575,
          -0.11411904010464476,
          null
         ],
         "z": [
          -0.05527638190954783,
          0.8391959798994975,
          null
         ]
        },
        {
         "hoverinfo": "none",
         "line": {
          "color": "black",
          "width": 8
         },
         "mode": "lines",
         "type": "scatter3d",
         "x": [
          -0.23599909505127642,
          -0.42956390914738973,
          null
         ],
         "y": [
          -0.970179853809575,
          0.07986938119331266,
          null
         ],
         "z": [
          -0.05527638190954783,
          0.8994974874371859,
          null
         ]
        },
        {
         "hoverinfo": "none",
         "line": {
          "color": "black",
          "width": 3
         },
         "mode": "lines",
         "type": "scatter3d",
         "x": [
          0.016183422624492533,
          0.8853301800948286,
          null
         ],
         "y": [
          -0.9988456807426714,
          0.4636303804992801,
          null
         ],
         "z": [
          -0.04522613065326637,
          0.03517587939698494,
          null
         ]
        },
        {
         "hoverinfo": "none",
         "line": {
          "color": "black",
          "width": 6
         },
         "mode": "lines",
         "type": "scatter3d",
         "x": [
          0.016183422624492533,
          -0.1908820904593788,
          null
         ],
         "y": [
          -0.9988456807426714,
          -0.8838094476675942,
          null
         ],
         "z": [
          -0.04522613065326637,
          0.4271356783919597,
          null
         ]
        },
        {
         "hoverinfo": "none",
         "line": {
          "color": "black",
          "width": 0
         },
         "mode": "lines",
         "type": "scatter3d",
         "x": [
          0.016183422624492533,
          0.5799931250776793,
          null
         ],
         "y": [
          -0.9988456807426714,
          0.6290554026008339,
          null
         ],
         "z": [
          -0.04522613065326637,
          0.5175879396984923,
          null
         ]
        },
        {
         "hoverinfo": "none",
         "line": {
          "color": "black",
          "width": 7
         },
         "mode": "lines",
         "type": "scatter3d",
         "x": [
          0.016183422624492533,
          -0.7976204808491804,
          null
         ],
         "y": [
          -0.9988456807426714,
          0.13464204197246402,
          null
         ],
         "z": [
          -0.04522613065326637,
          0.5879396984924623,
          null
         ]
        },
        {
         "hoverinfo": "none",
         "line": {
          "color": "black",
          "width": 6
         },
         "mode": "lines",
         "type": "scatter3d",
         "x": [
          0.016183422624492533,
          -0.6353138707760849,
          null
         ],
         "y": [
          -0.9988456807426714,
          0.07249033916421053,
          null
         ],
         "z": [
          -0.04522613065326637,
          0.7688442211055277,
          null
         ]
        },
        {
         "hoverinfo": "none",
         "line": {
          "color": "black",
          "width": 6
         },
         "mode": "lines",
         "type": "scatter3d",
         "x": [
          0.016183422624492533,
          0.1400434946507435,
          null
         ],
         "y": [
          -0.9988456807426714,
          0.4739452249640167,
          null
         ],
         "z": [
          -0.04522613065326637,
          0.8693467336683418,
          null
         ]
        },
        {
         "hoverinfo": "none",
         "line": {
          "color": "black",
          "width": 9
         },
         "mode": "lines",
         "type": "scatter3d",
         "x": [
          0.016183422624492533,
          -0.1303084840790476,
          null
         ],
         "y": [
          -0.9988456807426714,
          0.20594207574432036,
          null
         ],
         "z": [
          -0.04522613065326637,
          0.9698492462311559,
          null
         ]
        },
        {
         "hoverinfo": "none",
         "line": {
          "color": "black",
          "width": 3
         },
         "mode": "lines",
         "type": "scatter3d",
         "x": [
          0.2674492764124154,
          -0.1908820904593788,
          null
         ],
         "y": [
          -0.9629296662036767,
          -0.8838094476675942,
          null
         ],
         "z": [
          -0.035175879396985035,
          0.4271356783919597,
          null
         ]
        },
        {
         "hoverinfo": "none",
         "line": {
          "color": "black",
          "width": 1
         },
         "mode": "lines",
         "type": "scatter3d",
         "x": [
          0.2674492764124154,
          0.725096144076266,
          null
         ],
         "y": [
          -0.9629296662036767,
          0.01681974681893568,
          null
         ],
         "z": [
          -0.035175879396985035,
          0.6884422110552764,
          null
         ]
        },
        {
         "hoverinfo": "none",
         "line": {
          "color": "black",
          "width": 2
         },
         "mode": "lines",
         "type": "scatter3d",
         "x": [
          0.2674492764124154,
          -0.42956390914738973,
          null
         ],
         "y": [
          -0.9629296662036767,
          0.07986938119331266,
          null
         ],
         "z": [
          -0.035175879396985035,
          0.8994974874371859,
          null
         ]
        },
        {
         "hoverinfo": "none",
         "line": {
          "color": "black",
          "width": 7
         },
         "mode": "lines",
         "type": "scatter3d",
         "x": [
          0.2674492764124154,
          0.0720199661208389,
          null
         ],
         "y": [
          -0.9629296662036767,
          -0.3613409361011954,
          null
         ],
         "z": [
          -0.035175879396985035,
          0.9296482412060301,
          null
         ]
        },
        {
         "hoverinfo": "none",
         "line": {
          "color": "black",
          "width": 1
         },
         "mode": "lines",
         "type": "scatter3d",
         "x": [
          0.2674492764124154,
          -0.1303084840790476,
          null
         ],
         "y": [
          -0.9629296662036767,
          0.20594207574432036,
          null
         ],
         "z": [
          -0.035175879396985035,
          0.9698492462311559,
          null
         ]
        },
        {
         "hoverinfo": "none",
         "line": {
          "color": "black",
          "width": 4
         },
         "mode": "lines",
         "type": "scatter3d",
         "x": [
          0.5015353289119979,
          0.06798173585948922,
          null
         ],
         "y": [
          -0.8647722339805256,
          0.9948350661714466,
          null
         ],
         "z": [
          -0.025125628140703495,
          0.07537688442211064,
          null
         ]
        },
        {
         "hoverinfo": "none",
         "line": {
          "color": "black",
          "width": 3
         },
         "mode": "lines",
         "type": "scatter3d",
         "x": [
          0.5015353289119979,
          -0.6398431952082979,
          null
         ],
         "y": [
          -0.8647722339805256,
          0.7612257241603668,
          null
         ],
         "z": [
          -0.025125628140703495,
          0.10552763819095472,
          null
         ]
        },
        {
         "hoverinfo": "none",
         "line": {
          "color": "black",
          "width": 4
         },
         "mode": "lines",
         "type": "scatter3d",
         "x": [
          0.5015353289119979,
          0.9592929774959421,
          null
         ],
         "y": [
          -0.8647722339805256,
          -0.11864579105488865,
          null
         ],
         "z": [
          -0.025125628140703495,
          0.25628140703517593,
          null
         ]
        },
        {
         "hoverinfo": "none",
         "line": {
          "color": "black",
          "width": 7
         },
         "mode": "lines",
         "type": "scatter3d",
         "x": [
          0.5015353289119979,
          -0.7975160188443354,
          null
         ],
         "y": [
          -0.8647722339805256,
          -0.45428093654550455,
          null
         ],
         "z": [
          -0.025125628140703495,
          0.3969849246231157,
          null
         ]
        },
        {
         "hoverinfo": "none",
         "line": {
          "color": "black",
          "width": 3
         },
         "mode": "lines",
         "type": "scatter3d",
         "x": [
          0.5015353289119979,
          0.3108397890520478,
          null
         ],
         "y": [
          -0.8647722339805256,
          -0.8386646672133121,
          null
         ],
         "z": [
          -0.025125628140703495,
          0.44723618090452255,
          null
         ]
        },
        {
         "hoverinfo": "none",
         "line": {
          "color": "black",
          "width": 0
         },
         "mode": "lines",
         "type": "scatter3d",
         "x": [
          0.5015353289119979,
          0.7082279152172981,
          null
         ],
         "y": [
          -0.8647722339805256,
          -0.5291593752733467,
          null
         ],
         "z": [
          -0.025125628140703495,
          0.4673366834170853,
          null
         ]
        },
        {
         "hoverinfo": "none",
         "line": {
          "color": "black",
          "width": 7
         },
         "mode": "lines",
         "type": "scatter3d",
         "x": [
          0.7033011304219116,
          -0.985601838057066,
          null
         ],
         "y": [
          -0.7107321949644987,
          0.100897922544204,
          null
         ],
         "z": [
          -0.015075376884422157,
          0.13567839195979908,
          null
         ]
        },
        {
         "hoverinfo": "none",
         "line": {
          "color": "black",
          "width": 0
         },
         "mode": "lines",
         "type": "scatter3d",
         "x": [
          0.7033011304219116,
          0.13434625214634502,
          null
         ],
         "y": [
          -0.7107321949644987,
          -0.9692794548088852,
          null
         ],
         "z": [
          -0.015075376884422157,
          0.20603015075376876,
          null
         ]
        },
        {
         "hoverinfo": "none",
         "line": {
          "color": "black",
          "width": 2
         },
         "mode": "lines",
         "type": "scatter3d",
         "x": [
          0.7033011304219116,
          0.7500220497040564,
          null
         ],
         "y": [
          -0.7107321949644987,
          0.5961740871715794,
          null
         ],
         "z": [
          -0.015075376884422157,
          0.2864321608040202,
          null
         ]
        },
        {
         "hoverinfo": "none",
         "line": {
          "color": "black",
          "width": 8
         },
         "mode": "lines",
         "type": "scatter3d",
         "x": [
          0.7033011304219116,
          0.3399549164860912,
          null
         ],
         "y": [
          -0.7107321949644987,
          0.8890828876302689,
          null
         ],
         "z": [
          -0.015075376884422157,
          0.30653266331658297,
          null
         ]
        },
        {
         "hoverinfo": "none",
         "line": {
          "color": "black",
          "width": 8
         },
         "mode": "lines",
         "type": "scatter3d",
         "x": [
          0.7033011304219116,
          0.3119136244605593,
          null
         ],
         "y": [
          -0.7107321949644987,
          0.6215577541798972,
          null
         ],
         "z": [
          -0.015075376884422157,
          0.7185929648241205,
          null
         ]
        },
        {
         "hoverinfo": "none",
         "line": {
          "color": "black",
          "width": 7
         },
         "mode": "lines",
         "type": "scatter3d",
         "x": [
          0.7033011304219116,
          0.43486403352118225,
          null
         ],
         "y": [
          -0.7107321949644987,
          -0.351298495616475,
          null
         ],
         "z": [
          -0.015075376884422157,
          0.829145728643216,
          null
         ]
        },
        {
         "hoverinfo": "none",
         "line": {
          "color": "black",
          "width": 7
         },
         "mode": "lines",
         "type": "scatter3d",
         "x": [
          0.7033011304219116,
          0.1297116280928751,
          null
         ],
         "y": [
          -0.7107321949644987,
          0.24891922943540667,
          null
         ],
         "z": [
          -0.015075376884422157,
          0.9597989949748744,
          null
         ]
        },
        {
         "hoverinfo": "none",
         "line": {
          "color": "black",
          "width": 2
         },
         "mode": "lines",
         "type": "scatter3d",
         "x": [
          0.8597006759110095,
          0.5460301977631995,
          null
         ],
         "y": [
          -0.510773429174399,
          0.8359399169400101,
          null
         ],
         "z": [
          -0.005025125628140692,
          0.05527638190954773,
          null
         ]
        },
        {
         "hoverinfo": "none",
         "line": {
          "color": "black",
          "width": 1
         },
         "mode": "lines",
         "type": "scatter3d",
         "x": [
          0.8597006759110095,
          0.06798173585948922,
          null
         ],
         "y": [
          -0.510773429174399,
          0.9948350661714466,
          null
         ],
         "z": [
          -0.005025125628140692,
          0.07537688442211064,
          null
         ]
        },
        {
         "hoverinfo": "none",
         "line": {
          "color": "black",
          "width": 1
         },
         "mode": "lines",
         "type": "scatter3d",
         "x": [
          0.8597006759110095,
          -0.3662817858898524,
          null
         ],
         "y": [
          -0.510773429174399,
          -0.9117388986054294,
          null
         ],
         "z": [
          -0.005025125628140692,
          0.18592964824120597,
          null
         ]
        },
        {
         "hoverinfo": "none",
         "line": {
          "color": "black",
          "width": 5
         },
         "mode": "lines",
         "type": "scatter3d",
         "x": [
          0.8597006759110095,
          -0.4034742971178234,
          null
         ],
         "y": [
          -0.510773429174399,
          0.8507953738854946,
          null
         ],
         "z": [
          -0.005025125628140692,
          0.3366834170854272,
          null
         ]
        },
        {
         "hoverinfo": "none",
         "line": {
          "color": "black",
          "width": 9
         },
         "mode": "lines",
         "type": "scatter3d",
         "x": [
          0.8597006759110095,
          -0.8858140940564723,
          null
         ],
         "y": [
          -0.510773429174399,
          0.2841937400165084,
          null
         ],
         "z": [
          -0.005025125628140692,
          0.3668341708542712,
          null
         ]
        },
        {
         "hoverinfo": "none",
         "line": {
          "color": "black",
          "width": 3
         },
         "mode": "lines",
         "type": "scatter3d",
         "x": [
          0.8597006759110095,
          -0.5771143305124173,
          null
         ],
         "y": [
          -0.510773429174399,
          0.5869392617861797,
          null
         ],
         "z": [
          -0.005025125628140692,
          0.5678391959798994,
          null
         ]
        },
        {
         "hoverinfo": "none",
         "line": {
          "color": "black",
          "width": 6
         },
         "mode": "lines",
         "type": "scatter3d",
         "x": [
          0.8597006759110095,
          -0.46736094041360504,
          null
         ],
         "y": [
          -0.510773429174399,
          -0.3989235195509105,
          null
         ],
         "z": [
          -0.005025125628140692,
          0.7889447236180904,
          null
         ]
        },
        {
         "hoverinfo": "none",
         "line": {
          "color": "black",
          "width": 7
         },
         "mode": "lines",
         "type": "scatter3d",
         "x": [
          0.9606193521054072,
          -0.8109889569592988,
          null
         ],
         "y": [
          -0.27782226057861037,
          0.5735317455564173,
          null
         ],
         "z": [
          0.005025125628140593,
          0.11557788944723603,
          null
         ]
        },
        {
         "hoverinfo": "none",
         "line": {
          "color": "black",
          "width": 1
         },
         "mode": "lines",
         "type": "scatter3d",
         "x": [
          0.9606193521054072,
          -0.985601838057066,
          null
         ],
         "y": [
          -0.27782226057861037,
          0.100897922544204,
          null
         ],
         "z": [
          0.005025125628140593,
          0.13567839195979908,
          null
         ]
        },
        {
         "hoverinfo": "none",
         "line": {
          "color": "black",
          "width": 7
         },
         "mode": "lines",
         "type": "scatter3d",
         "x": [
          0.9606193521054072,
          0.3788192430037307,
          null
         ],
         "y": [
          -0.27782226057861037,
          -0.8998917940492931,
          null
         ],
         "z": [
          0.005025125628140593,
          0.21608040201005022,
          null
         ]
        },
        {
         "hoverinfo": "none",
         "line": {
          "color": "black",
          "width": 0
         },
         "mode": "lines",
         "type": "scatter3d",
         "x": [
          0.9606193521054072,
          0.3399549164860912,
          null
         ],
         "y": [
          -0.27782226057861037,
          0.8890828876302689,
          null
         ],
         "z": [
          0.005025125628140593,
          0.30653266331658297,
          null
         ]
        },
        {
         "hoverinfo": "none",
         "line": {
          "color": "black",
          "width": 2
         },
         "mode": "lines",
         "type": "scatter3d",
         "x": [
          0.9606193521054072,
          -0.33761069961500084,
          null
         ],
         "y": [
          -0.27782226057861037,
          -0.7010408490879112,
          null
         ],
         "z": [
          0.005025125628140593,
          0.6281407035175879,
          null
         ]
        },
        {
         "hoverinfo": "none",
         "line": {
          "color": "black",
          "width": 9
         },
         "mode": "lines",
         "type": "scatter3d",
         "x": [
          0.9606193521054072,
          0.43486403352118225,
          null
         ],
         "y": [
          -0.27782226057861037,
          -0.351298495616475,
          null
         ],
         "z": [
          0.005025125628140593,
          0.829145728643216,
          null
         ]
        },
        {
         "hoverinfo": "none",
         "line": {
          "color": "black",
          "width": 7
         },
         "mode": "lines",
         "type": "scatter3d",
         "x": [
          0.9606193521054072,
          0.5317207462626569,
          null
         ],
         "y": [
          -0.27782226057861037,
          -0.11411904010464476,
          null
         ],
         "z": [
          0.005025125628140593,
          0.8391959798994975,
          null
         ]
        },
        {
         "hoverinfo": "none",
         "line": {
          "color": "black",
          "width": 1
         },
         "mode": "lines",
         "type": "scatter3d",
         "x": [
          0.9606193521054072,
          0.27639958067021775,
          null
         ],
         "y": [
          -0.27782226057861037,
          -0.20141999669691893,
          null
         ],
         "z": [
          0.005025125628140593,
          0.9396984924623115,
          null
         ]
        },
        {
         "hoverinfo": "none",
         "line": {
          "color": "black",
          "width": 7
         },
         "mode": "lines",
         "type": "scatter3d",
         "x": [
          0.9995234698449429,
          -0.6143899953864282,
          null
         ],
         "y": [
          -0.026936336813276493,
          0.7087317523628855,
          null
         ],
         "z": [
          0.015075376884422058,
          0.3467336683417086,
          null
         ]
        },
        {
         "hoverinfo": "none",
         "line": {
          "color": "black",
          "width": 8
         },
         "mode": "lines",
         "type": "scatter3d",
         "x": [
          0.9995234698449429,
          -0.600556325517356,
          null
         ],
         "y": [
          -0.026936336813276493,
          -0.18070833075791126,
          null
         ],
         "z": [
          0.015075376884422058,
          0.778894472361809,
          null
         ]
        },
        {
         "hoverinfo": "none",
         "line": {
          "color": "black",
          "width": 8
         },
         "mode": "lines",
         "type": "scatter3d",
         "x": [
          0.9738814815414809,
          0.31722051404782214,
          null
         ],
         "y": [
          0.22566249737407673,
          0.9460991367010397,
          null
         ],
         "z": [
          0.025125628140703616,
          0.06532663316582916,
          null
         ]
        },
        {
         "hoverinfo": "none",
         "line": {
          "color": "black",
          "width": 2
         },
         "mode": "lines",
         "type": "scatter3d",
         "x": [
          0.9738814815414809,
          0.8829535645133417,
          null
         ],
         "y": [
          0.22566249737407673,
          0.37948128147239324,
          null
         ],
         "z": [
          0.025125628140703616,
          0.2763819095477386,
          null
         ]
        },
        {
         "hoverinfo": "none",
         "line": {
          "color": "black",
          "width": 1
         },
         "mode": "lines",
         "type": "scatter3d",
         "x": [
          0.9738814815414809,
          -0.4034742971178234,
          null
         ],
         "y": [
          0.22566249737407673,
          0.8507953738854946,
          null
         ],
         "z": [
          0.025125628140703616,
          0.3366834170854272,
          null
         ]
        },
        {
         "hoverinfo": "none",
         "line": {
          "color": "black",
          "width": 8
         },
         "mode": "lines",
         "type": "scatter3d",
         "x": [
          0.8853301800948286,
          0.06798173585948922,
          null
         ],
         "y": [
          0.4636303804992801,
          0.9948350661714466,
          null
         ],
         "z": [
          0.03517587939698494,
          0.07537688442211064,
          null
         ]
        },
        {
         "hoverinfo": "none",
         "line": {
          "color": "black",
          "width": 0
         },
         "mode": "lines",
         "type": "scatter3d",
         "x": [
          0.8853301800948286,
          0.5970599024521844,
          null
         ],
         "y": [
          0.4636303804992801,
          -0.7696651223338173,
          null
         ],
         "z": [
          0.03517587939698494,
          0.22613065326633158,
          null
         ]
        },
        {
         "hoverinfo": "none",
         "line": {
          "color": "black",
          "width": 5
         },
         "mode": "lines",
         "type": "scatter3d",
         "x": [
          0.8853301800948286,
          -0.1908820904593788,
          null
         ],
         "y": [
          0.4636303804992801,
          -0.8838094476675942,
          null
         ],
         "z": [
          0.03517587939698494,
          0.4271356783919597,
          null
         ]
        },
        {
         "hoverinfo": "none",
         "line": {
          "color": "black",
          "width": 5
         },
         "mode": "lines",
         "type": "scatter3d",
         "x": [
          0.8853301800948286,
          -0.18901287835010755,
          null
         ],
         "y": [
          0.4636303804992801,
          0.646997753575633,
          null
         ],
         "z": [
          0.03517587939698494,
          0.7386934673366834,
          null
         ]
        },
        {
         "hoverinfo": "none",
         "line": {
          "color": "black",
          "width": 4
         },
         "mode": "lines",
         "type": "scatter3d",
         "x": [
          0.8853301800948286,
          -0.4107215962272207,
          null
         ],
         "y": [
          0.4636303804992801,
          0.5202793617472665,
          null
         ],
         "z": [
          0.03517587939698494,
          0.7487437185929648,
          null
         ]
        },
        {
         "hoverinfo": "none",
         "line": {
          "color": "black",
          "width": 1
         },
         "mode": "lines",
         "type": "scatter3d",
         "x": [
          0.8853301800948286,
          -0.3779945609644943,
          null
         ],
         "y": [
          0.4636303804992801,
          -0.17275133261095033,
          null
         ],
         "z": [
          0.03517587939698494,
          0.9095477386934674,
          null
         ]
        },
        {
         "hoverinfo": "none",
         "line": {
          "color": "black",
          "width": 2
         },
         "mode": "lines",
         "type": "scatter3d",
         "x": [
          0.739575014981879,
          -0.7975160188443354,
          null
         ],
         "y": [
          0.6715529720883432,
          -0.45428093654550455,
          null
         ],
         "z": [
          0.045226130653266486,
          0.3969849246231157,
          null
         ]
        },
        {
         "hoverinfo": "none",
         "line": {
          "color": "black",
          "width": 8
         },
         "mode": "lines",
         "type": "scatter3d",
         "x": [
          0.5460301977631995,
          -0.8109889569592988,
          null
         ],
         "y": [
          0.8359399169400101,
          0.5735317455564173,
          null
         ],
         "z": [
          0.05527638190954773,
          0.11557788944723603,
          null
         ]
        },
        {
         "hoverinfo": "none",
         "line": {
          "color": "black",
          "width": 1
         },
         "mode": "lines",
         "type": "scatter3d",
         "x": [
          0.5460301977631995,
          -0.9774199655907337,
          null
         ],
         "y": [
          0.8359399169400101,
          -0.15301429152536394,
          null
         ],
         "z": [
          0.05527638190954773,
          0.14572864321608045,
          null
         ]
        },
        {
         "hoverinfo": "none",
         "line": {
          "color": "black",
          "width": 1
         },
         "mode": "lines",
         "type": "scatter3d",
         "x": [
          0.5460301977631995,
          -0.5887395729275208,
          null
         ],
         "y": [
          0.8359399169400101,
          -0.7889563695067934,
          null
         ],
         "z": [
          0.05527638190954773,
          0.17587939698492458,
          null
         ]
        },
        {
         "hoverinfo": "none",
         "line": {
          "color": "black",
          "width": 7
         },
         "mode": "lines",
         "type": "scatter3d",
         "x": [
          0.5460301977631995,
          0.3788192430037307,
          null
         ],
         "y": [
          0.8359399169400101,
          -0.8998917940492931,
          null
         ],
         "z": [
          0.05527638190954773,
          0.21608040201005022,
          null
         ]
        },
        {
         "hoverinfo": "none",
         "line": {
          "color": "black",
          "width": 3
         },
         "mode": "lines",
         "type": "scatter3d",
         "x": [
          0.5460301977631995,
          0.5970599024521844,
          null
         ],
         "y": [
          0.8359399169400101,
          -0.7696651223338173,
          null
         ],
         "z": [
          0.05527638190954773,
          0.22613065326633158,
          null
         ]
        },
        {
         "hoverinfo": "none",
         "line": {
          "color": "black",
          "width": 0
         },
         "mode": "lines",
         "type": "scatter3d",
         "x": [
          0.5460301977631995,
          0.36579375496206784,
          null
         ],
         "y": [
          0.8359399169400101,
          0.7666765082332472,
          null
         ],
         "z": [
          0.05527638190954773,
          0.5276381909547738,
          null
         ]
        },
        {
         "hoverinfo": "none",
         "line": {
          "color": "black",
          "width": 3
         },
         "mode": "lines",
         "type": "scatter3d",
         "x": [
          0.5460301977631995,
          -0.09075695184030583,
          null
         ],
         "y": [
          0.8359399169400101,
          -0.7645099613068972,
          null
         ],
         "z": [
          0.05527638190954773,
          0.6381909547738693,
          null
         ]
        },
        {
         "hoverinfo": "none",
         "line": {
          "color": "black",
          "width": 5
         },
         "mode": "lines",
         "type": "scatter3d",
         "x": [
          0.31722051404782214,
          -0.9774199655907337,
          null
         ],
         "y": [
          0.9460991367010397,
          -0.15301429152536394,
          null
         ],
         "z": [
          0.06532663316582916,
          0.14572864321608045,
          null
         ]
        },
        {
         "hoverinfo": "none",
         "line": {
          "color": "black",
          "width": 9
         },
         "mode": "lines",
         "type": "scatter3d",
         "x": [
          0.31722051404782214,
          -0.11973939666335258,
          null
         ],
         "y": [
          0.9460991367010397,
          -0.9732699296082516,
          null
         ],
         "z": [
          0.06532663316582916,
          0.19597989949748745,
          null
         ]
        },
        {
         "hoverinfo": "none",
         "line": {
          "color": "black",
          "width": 4
         },
         "mode": "lines",
         "type": "scatter3d",
         "x": [
          0.31722051404782214,
          -0.4311344860611112,
          null
         ],
         "y": [
          0.9460991367010397,
          -0.8001017444049664,
          null
         ],
         "z": [
          0.06532663316582916,
          0.41708542713567837,
          null
         ]
        },
        {
         "hoverinfo": "none",
         "line": {
          "color": "black",
          "width": 6
         },
         "mode": "lines",
         "type": "scatter3d",
         "x": [
          0.31722051404782214,
          -0.1908820904593788,
          null
         ],
         "y": [
          0.9460991367010397,
          -0.8838094476675942,
          null
         ],
         "z": [
          0.06532663316582916,
          0.4271356783919597,
          null
         ]
        },
        {
         "hoverinfo": "none",
         "line": {
          "color": "black",
          "width": 0
         },
         "mode": "lines",
         "type": "scatter3d",
         "x": [
          0.31722051404782214,
          -0.004587855210254107,
          null
         ],
         "y": [
          0.9460991367010397,
          -0.5877284863436261,
          null
         ],
         "z": [
          0.06532663316582916,
          0.8090452261306533,
          null
         ]
        },
        {
         "hoverinfo": "none",
         "line": {
          "color": "black",
          "width": 8
         },
         "mode": "lines",
         "type": "scatter3d",
         "x": [
          0.06798173585948922,
          0.0632016554808522,
          null
         ],
         "y": [
          0.9948350661714466,
          -0.8971477100578715,
          null
         ],
         "z": [
          0.07537688442211064,
          0.43718592964824127,
          null
         ]
        },
        {
         "hoverinfo": "none",
         "line": {
          "color": "black",
          "width": 5
         },
         "mode": "lines",
         "type": "scatter3d",
         "x": [
          0.06798173585948922,
          -0.18633022541047584,
          null
         ],
         "y": [
          0.9948350661714466,
          -0.3458620880912837,
          null
         ],
         "z": [
          0.07537688442211064,
          0.9195979899497488,
          null
         ]
        },
        {
         "hoverinfo": "none",
         "line": {
          "color": "black",
          "width": 9
         },
         "mode": "lines",
         "type": "scatter3d",
         "x": [
          -0.18549067049375184,
          0.7500220497040564,
          null
         ],
         "y": [
          0.978925643575427,
          0.5961740871715794,
          null
         ],
         "z": [
          0.08542713567839207,
          0.2864321608040202,
          null
         ]
        },
        {
         "hoverinfo": "none",
         "line": {
          "color": "black",
          "width": 5
         },
         "mode": "lines",
         "type": "scatter3d",
         "x": [
          -0.18549067049375184,
          0.3399549164860912,
          null
         ],
         "y": [
          0.978925643575427,
          0.8890828876302689,
          null
         ],
         "z": [
          0.08542713567839207,
          0.30653266331658297,
          null
         ]
        },
        {
         "hoverinfo": "none",
         "line": {
          "color": "black",
          "width": 0
         },
         "mode": "lines",
         "type": "scatter3d",
         "x": [
          -0.18549067049375184,
          -0.925672422221608,
          null
         ],
         "y": [
          0.978925643575427,
          0.03299544072710666,
          null
         ],
         "z": [
          0.08542713567839207,
          0.3768844221105527,
          null
         ]
        },
        {
         "hoverinfo": "none",
         "line": {
          "color": "black",
          "width": 4
         },
         "mode": "lines",
         "type": "scatter3d",
         "x": [
          -0.18549067049375184,
          -0.7231637330577864,
          null
         ],
         "y": [
          0.978925643575427,
          0.3782565293064855,
          null
         ],
         "z": [
          0.08542713567839207,
          0.5778894472361809,
          null
         ]
        },
        {
         "hoverinfo": "none",
         "line": {
          "color": "black",
          "width": 4
         },
         "mode": "lines",
         "type": "scatter3d",
         "x": [
          -0.18549067049375184,
          0.5317207462626569,
          null
         ],
         "y": [
          0.978925643575427,
          -0.11411904010464476,
          null
         ],
         "z": [
          0.08542713567839207,
          0.8391959798994975,
          null
         ]
        },
        {
         "hoverinfo": "none",
         "line": {
          "color": "black",
          "width": 9
         },
         "mode": "lines",
         "type": "scatter3d",
         "x": [
          -0.42668500783452756,
          0.9592929774959421,
          null
         ],
         "y": [
          0.8993464141660742,
          -0.11864579105488865,
          null
         ],
         "z": [
          0.09547738693467349,
          0.25628140703517593,
          null
         ]
        },
        {
         "hoverinfo": "none",
         "line": {
          "color": "black",
          "width": 0
         },
         "mode": "lines",
         "type": "scatter3d",
         "x": [
          -0.42668500783452756,
          0.09172592356847682,
          null
         ],
         "y": [
          0.8993464141660742,
          0.9441194909258364,
          null
         ],
         "z": [
          0.09547738693467349,
          0.3165829145728642,
          null
         ]
        },
        {
         "hoverinfo": "none",
         "line": {
          "color": "black",
          "width": 8
         },
         "mode": "lines",
         "type": "scatter3d",
         "x": [
          -0.42668500783452756,
          0.1400434946507435,
          null
         ],
         "y": [
          0.8993464141660742,
          0.4739452249640167,
          null
         ],
         "z": [
          0.09547738693467349,
          0.8693467336683418,
          null
         ]
        },
        {
         "hoverinfo": "none",
         "line": {
          "color": "black",
          "width": 2
         },
         "mode": "lines",
         "type": "scatter3d",
         "x": [
          -0.6398431952082979,
          -0.9774199655907337,
          null
         ],
         "y": [
          0.7612257241603668,
          -0.15301429152536394,
          null
         ],
         "z": [
          0.10552763819095472,
          0.14572864321608045,
          null
         ]
        },
        {
         "hoverinfo": "none",
         "line": {
          "color": "black",
          "width": 4
         },
         "mode": "lines",
         "type": "scatter3d",
         "x": [
          -0.6398431952082979,
          -0.8955829153536629,
          null
         ],
         "y": [
          0.7612257241603668,
          -0.2195741338890703,
          null
         ],
         "z": [
          0.10552763819095472,
          0.3869346733668343,
          null
         ]
        },
        {
         "hoverinfo": "none",
         "line": {
          "color": "black",
          "width": 9
         },
         "mode": "lines",
         "type": "scatter3d",
         "x": [
          -0.6398431952082979,
          0.8440290778788562,
          null
         ],
         "y": [
          0.7612257241603668,
          0.20030268479764154,
          null
         ],
         "z": [
          0.10552763819095472,
          0.49748743718592975,
          null
         ]
        },
        {
         "hoverinfo": "none",
         "line": {
          "color": "black",
          "width": 6
         },
         "mode": "lines",
         "type": "scatter3d",
         "x": [
          -0.6398431952082979,
          -0.600556325517356,
          null
         ],
         "y": [
          0.7612257241603668,
          -0.18070833075791126,
          null
         ],
         "z": [
          0.10552763819095472,
          0.778894472361809,
          null
         ]
        },
        {
         "hoverinfo": "none",
         "line": {
          "color": "black",
          "width": 2
         },
         "mode": "lines",
         "type": "scatter3d",
         "x": [
          -0.6398431952082979,
          0.43486403352118225,
          null
         ],
         "y": [
          0.7612257241603668,
          -0.351298495616475,
          null
         ],
         "z": [
          0.10552763819095472,
          0.829145728643216,
          null
         ]
        },
        {
         "hoverinfo": "none",
         "line": {
          "color": "black",
          "width": 4
         },
         "mode": "lines",
         "type": "scatter3d",
         "x": [
          -0.6398431952082979,
          0.30775790638944817,
          null
         ],
         "y": [
          0.7612257241603668,
          0.0571173779137144,
          null
         ],
         "z": [
          0.10552763819095472,
          0.949748743718593,
          null
         ]
        },
        {
         "hoverinfo": "none",
         "line": {
          "color": "black",
          "width": 9
         },
         "mode": "lines",
         "type": "scatter3d",
         "x": [
          -0.8109889569592988,
          -0.9774199655907337,
          null
         ],
         "y": [
          0.5735317455564173,
          -0.15301429152536394,
          null
         ],
         "z": [
          0.11557788944723603,
          0.14572864321608045,
          null
         ]
        },
        {
         "hoverinfo": "none",
         "line": {
          "color": "black",
          "width": 7
         },
         "mode": "lines",
         "type": "scatter3d",
         "x": [
          -0.8109889569592988,
          0.13434625214634502,
          null
         ],
         "y": [
          0.5735317455564173,
          -0.9692794548088852,
          null
         ],
         "z": [
          0.11557788944723603,
          0.20603015075376876,
          null
         ]
        },
        {
         "hoverinfo": "none",
         "line": {
          "color": "black",
          "width": 2
         },
         "mode": "lines",
         "type": "scatter3d",
         "x": [
          -0.8109889569592988,
          0.8440290778788562,
          null
         ],
         "y": [
          0.5735317455564173,
          0.20030268479764154,
          null
         ],
         "z": [
          0.11557788944723603,
          0.49748743718592975,
          null
         ]
        },
        {
         "hoverinfo": "none",
         "line": {
          "color": "black",
          "width": 7
         },
         "mode": "lines",
         "type": "scatter3d",
         "x": [
          -0.8109889569592988,
          -0.1922969882497981,
          null
         ],
         "y": [
          0.5735317455564173,
          -0.05309277854779562,
          null
         ],
         "z": [
          0.11557788944723603,
          0.9798994974874371,
          null
         ]
        },
        {
         "hoverinfo": "none",
         "line": {
          "color": "black",
          "width": 7
         },
         "mode": "lines",
         "type": "scatter3d",
         "x": [
          -0.9288482441833449,
          -0.3662817858898524,
          null
         ],
         "y": [
          0.3485089805742379,
          -0.9117388986054294,
          null
         ],
         "z": [
          0.12562814070351763,
          0.18592964824120597,
          null
         ]
        },
        {
         "hoverinfo": "none",
         "line": {
          "color": "black",
          "width": 1
         },
         "mode": "lines",
         "type": "scatter3d",
         "x": [
          -0.9288482441833449,
          0.725096144076266,
          null
         ],
         "y": [
          0.3485089805742379,
          0.01681974681893568,
          null
         ],
         "z": [
          0.12562814070351763,
          0.6884422110552764,
          null
         ]
        },
        {
         "hoverinfo": "none",
         "line": {
          "color": "black",
          "width": 2
         },
         "mode": "lines",
         "type": "scatter3d",
         "x": [
          -0.9288482441833449,
          -0.6353138707760849,
          null
         ],
         "y": [
          0.3485089805742379,
          0.07249033916421053,
          null
         ],
         "z": [
          0.12562814070351763,
          0.7688442211055277,
          null
         ]
        },
        {
         "hoverinfo": "none",
         "line": {
          "color": "black",
          "width": 3
         },
         "mode": "lines",
         "type": "scatter3d",
         "x": [
          -0.9288482441833449,
          0,
          null
         ],
         "y": [
          0.3485089805742379,
          0,
          null
         ],
         "z": [
          0.12562814070351763,
          1,
          null
         ]
        },
        {
         "hoverinfo": "none",
         "line": {
          "color": "black",
          "width": 2
         },
         "mode": "lines",
         "type": "scatter3d",
         "x": [
          -0.985601838057066,
          -0.9774199655907337,
          null
         ],
         "y": [
          0.100897922544204,
          -0.15301429152536394,
          null
         ],
         "z": [
          0.13567839195979908,
          0.14572864321608045,
          null
         ]
        },
        {
         "hoverinfo": "none",
         "line": {
          "color": "black",
          "width": 0
         },
         "mode": "lines",
         "type": "scatter3d",
         "x": [
          -0.985601838057066,
          0.9592929774959421,
          null
         ],
         "y": [
          0.100897922544204,
          -0.11864579105488865,
          null
         ],
         "z": [
          0.13567839195979908,
          0.25628140703517593,
          null
         ]
        },
        {
         "hoverinfo": "none",
         "line": {
          "color": "black",
          "width": 8
         },
         "mode": "lines",
         "type": "scatter3d",
         "x": [
          -0.985601838057066,
          0.0720199661208389,
          null
         ],
         "y": [
          0.100897922544204,
          -0.3613409361011954,
          null
         ],
         "z": [
          0.13567839195979908,
          0.9296482412060301,
          null
         ]
        },
        {
         "hoverinfo": "none",
         "line": {
          "color": "black",
          "width": 4
         },
         "mode": "lines",
         "type": "scatter3d",
         "x": [
          -0.985601838057066,
          0.27639958067021775,
          null
         ],
         "y": [
          0.100897922544204,
          -0.20141999669691893,
          null
         ],
         "z": [
          0.13567839195979908,
          0.9396984924623115,
          null
         ]
        },
        {
         "hoverinfo": "none",
         "line": {
          "color": "black",
          "width": 1
         },
         "mode": "lines",
         "type": "scatter3d",
         "x": [
          -0.9774199655907337,
          -0.5887395729275208,
          null
         ],
         "y": [
          -0.15301429152536394,
          -0.7889563695067934,
          null
         ],
         "z": [
          0.14572864321608045,
          0.17587939698492458,
          null
         ]
        },
        {
         "hoverinfo": "none",
         "line": {
          "color": "black",
          "width": 7
         },
         "mode": "lines",
         "type": "scatter3d",
         "x": [
          -0.9774199655907337,
          0.06389728976483165,
          null
         ],
         "y": [
          -0.15301429152536394,
          0.6819062985636061,
          null
         ],
         "z": [
          0.14572864321608045,
          0.728643216080402,
          null
         ]
        },
        {
         "hoverinfo": "none",
         "line": {
          "color": "black",
          "width": 0
         },
         "mode": "lines",
         "type": "scatter3d",
         "x": [
          -0.9047419231328161,
          0.13434625214634502,
          null
         ],
         "y": [
          -0.39645300927462035,
          -0.9692794548088852,
          null
         ],
         "z": [
          0.15577889447236173,
          0.20603015075376876,
          null
         ]
        },
        {
         "hoverinfo": "none",
         "line": {
          "color": "black",
          "width": 4
         },
         "mode": "lines",
         "type": "scatter3d",
         "x": [
          -0.9047419231328161,
          0.8829535645133417,
          null
         ],
         "y": [
          -0.39645300927462035,
          0.37948128147239324,
          null
         ],
         "z": [
          0.15577889447236173,
          0.2763819095477386,
          null
         ]
        },
        {
         "hoverinfo": "none",
         "line": {
          "color": "black",
          "width": 7
         },
         "mode": "lines",
         "type": "scatter3d",
         "x": [
          -0.9047419231328161,
          -0.925672422221608,
          null
         ],
         "y": [
          -0.39645300927462035,
          0.03299544072710666,
          null
         ],
         "z": [
          0.15577889447236173,
          0.3768844221105527,
          null
         ]
        },
        {
         "hoverinfo": "none",
         "line": {
          "color": "black",
          "width": 6
         },
         "mode": "lines",
         "type": "scatter3d",
         "x": [
          -0.9047419231328161,
          0.7082279152172981,
          null
         ],
         "y": [
          -0.39645300927462035,
          -0.5291593752733467,
          null
         ],
         "z": [
          0.15577889447236173,
          0.4673366834170853,
          null
         ]
        },
        {
         "hoverinfo": "none",
         "line": {
          "color": "black",
          "width": 8
         },
         "mode": "lines",
         "type": "scatter3d",
         "x": [
          -0.9047419231328161,
          -0.7976204808491804,
          null
         ],
         "y": [
          -0.39645300927462035,
          0.13464204197246402,
          null
         ],
         "z": [
          0.15577889447236173,
          0.5879396984924623,
          null
         ]
        },
        {
         "hoverinfo": "none",
         "line": {
          "color": "black",
          "width": 3
         },
         "mode": "lines",
         "type": "scatter3d",
         "x": [
          -0.9047419231328161,
          0.3962282650703626,
          null
         ],
         "y": [
          -0.39645300927462035,
          -0.6400433729233012,
          null
         ],
         "z": [
          0.15577889447236173,
          0.6582914572864322,
          null
         ]
        },
        {
         "hoverinfo": "none",
         "line": {
          "color": "black",
          "width": 9
         },
         "mode": "lines",
         "type": "scatter3d",
         "x": [
          -0.9047419231328161,
          -0.4107215962272207,
          null
         ],
         "y": [
          -0.39645300927462035,
          0.5202793617472665,
          null
         ],
         "z": [
          0.15577889447236173,
          0.7487437185929648,
          null
         ]
        },
        {
         "hoverinfo": "none",
         "line": {
          "color": "black",
          "width": 2
         },
         "mode": "lines",
         "type": "scatter3d",
         "x": [
          -0.9047419231328161,
          -0.6353138707760849,
          null
         ],
         "y": [
          -0.39645300927462035,
          0.07249033916421053,
          null
         ],
         "z": [
          0.15577889447236173,
          0.7688442211055277,
          null
         ]
        },
        {
         "hoverinfo": "none",
         "line": {
          "color": "black",
          "width": 2
         },
         "mode": "lines",
         "type": "scatter3d",
         "x": [
          -0.9047419231328161,
          -0.3779945609644943,
          null
         ],
         "y": [
          -0.39645300927462035,
          -0.17275133261095033,
          null
         ],
         "z": [
          0.15577889447236173,
          0.9095477386934674,
          null
         ]
        },
        {
         "hoverinfo": "none",
         "line": {
          "color": "black",
          "width": 2
         },
         "mode": "lines",
         "type": "scatter3d",
         "x": [
          -0.7722794062760031,
          -0.11973939666335258,
          null
         ],
         "y": [
          -0.6132578683301932,
          -0.9732699296082516,
          null
         ],
         "z": [
          0.16582914572864324,
          0.19597989949748745,
          null
         ]
        },
        {
         "hoverinfo": "none",
         "line": {
          "color": "black",
          "width": 7
         },
         "mode": "lines",
         "type": "scatter3d",
         "x": [
          -0.7722794062760031,
          -0.8955829153536629,
          null
         ],
         "y": [
          -0.6132578683301932,
          -0.2195741338890703,
          null
         ],
         "z": [
          0.16582914572864324,
          0.3869346733668343,
          null
         ]
        },
        {
         "hoverinfo": "none",
         "line": {
          "color": "black",
          "width": 2
         },
         "mode": "lines",
         "type": "scatter3d",
         "x": [
          -0.7722794062760031,
          -0.707456892094313,
          null
         ],
         "y": [
          -0.6132578683301932,
          -0.360266373382285,
          null
         ],
         "z": [
          0.16582914572864324,
          0.6080402010050252,
          null
         ]
        },
        {
         "hoverinfo": "none",
         "line": {
          "color": "black",
          "width": 1
         },
         "mode": "lines",
         "type": "scatter3d",
         "x": [
          -0.7722794062760031,
          0.3962282650703626,
          null
         ],
         "y": [
          -0.6132578683301932,
          -0.6400433729233012,
          null
         ],
         "z": [
          0.16582914572864324,
          0.6582914572864322,
          null
         ]
        },
        {
         "hoverinfo": "none",
         "line": {
          "color": "black",
          "width": 7
         },
         "mode": "lines",
         "type": "scatter3d",
         "x": [
          -0.7722794062760031,
          -0.6353138707760849,
          null
         ],
         "y": [
          -0.6132578683301932,
          0.07249033916421053,
          null
         ],
         "z": [
          0.16582914572864324,
          0.7688442211055277,
          null
         ]
        },
        {
         "hoverinfo": "none",
         "line": {
          "color": "black",
          "width": 1
         },
         "mode": "lines",
         "type": "scatter3d",
         "x": [
          -0.7722794062760031,
          0.1297116280928751,
          null
         ],
         "y": [
          -0.6132578683301932,
          0.24891922943540667,
          null
         ],
         "z": [
          0.16582914572864324,
          0.9597989949748744,
          null
         ]
        },
        {
         "hoverinfo": "none",
         "line": {
          "color": "black",
          "width": 3
         },
         "mode": "lines",
         "type": "scatter3d",
         "x": [
          -0.7722794062760031,
          -0.1922969882497981,
          null
         ],
         "y": [
          -0.6132578683301932,
          -0.05309277854779562,
          null
         ],
         "z": [
          0.16582914572864324,
          0.9798994974874371,
          null
         ]
        },
        {
         "hoverinfo": "none",
         "line": {
          "color": "black",
          "width": 6
         },
         "mode": "lines",
         "type": "scatter3d",
         "x": [
          -0.5887395729275208,
          0.5646952188368541,
          null
         ],
         "y": [
          -0.7889563695067934,
          0.7702061342015544,
          null
         ],
         "z": [
          0.17587939698492458,
          0.29648241206030157,
          null
         ]
        },
        {
         "hoverinfo": "none",
         "line": {
          "color": "black",
          "width": 7
         },
         "mode": "lines",
         "type": "scatter3d",
         "x": [
          -0.5887395729275208,
          -0.1908820904593788,
          null
         ],
         "y": [
          -0.7889563695067934,
          -0.8838094476675942,
          null
         ],
         "z": [
          0.17587939698492458,
          0.4271356783919597,
          null
         ]
        },
        {
         "hoverinfo": "none",
         "line": {
          "color": "black",
          "width": 5
         },
         "mode": "lines",
         "type": "scatter3d",
         "x": [
          -0.5887395729275208,
          -0.33761069961500084,
          null
         ],
         "y": [
          -0.7889563695067934,
          -0.7010408490879112,
          null
         ],
         "z": [
          0.17587939698492458,
          0.6281407035175879,
          null
         ]
        },
        {
         "hoverinfo": "none",
         "line": {
          "color": "black",
          "width": 2
         },
         "mode": "lines",
         "type": "scatter3d",
         "x": [
          -0.5887395729275208,
          0.43486403352118225,
          null
         ],
         "y": [
          -0.7889563695067934,
          -0.351298495616475,
          null
         ],
         "z": [
          0.17587939698492458,
          0.829145728643216,
          null
         ]
        },
        {
         "hoverinfo": "none",
         "line": {
          "color": "black",
          "width": 1
         },
         "mode": "lines",
         "type": "scatter3d",
         "x": [
          -0.5887395729275208,
          0.5317207462626569,
          null
         ],
         "y": [
          -0.7889563695067934,
          -0.11411904010464476,
          null
         ],
         "z": [
          0.17587939698492458,
          0.8391959798994975,
          null
         ]
        },
        {
         "hoverinfo": "none",
         "line": {
          "color": "black",
          "width": 1
         },
         "mode": "lines",
         "type": "scatter3d",
         "x": [
          -0.3662817858898524,
          0.36579375496206784,
          null
         ],
         "y": [
          -0.9117388986054294,
          0.7666765082332472,
          null
         ],
         "z": [
          0.18592964824120597,
          0.5276381909547738,
          null
         ]
        },
        {
         "hoverinfo": "none",
         "line": {
          "color": "black",
          "width": 6
         },
         "mode": "lines",
         "type": "scatter3d",
         "x": [
          -0.3662817858898524,
          0.36776528457450497,
          null
         ],
         "y": [
          -0.9117388986054294,
          0.35546905741019574,
          null
         ],
         "z": [
          0.18592964824120597,
          0.8592964824120604,
          null
         ]
        },
        {
         "hoverinfo": "none",
         "line": {
          "color": "black",
          "width": 7
         },
         "mode": "lines",
         "type": "scatter3d",
         "x": [
          -0.11973939666335258,
          0.7082279152172981,
          null
         ],
         "y": [
          -0.9732699296082516,
          -0.5291593752733467,
          null
         ],
         "z": [
          0.19597989949748745,
          0.4673366834170853,
          null
         ]
        },
        {
         "hoverinfo": "none",
         "line": {
          "color": "black",
          "width": 8
         },
         "mode": "lines",
         "type": "scatter3d",
         "x": [
          -0.11973939666335258,
          0.36776528457450497,
          null
         ],
         "y": [
          -0.9732699296082516,
          0.35546905741019574,
          null
         ],
         "z": [
          0.19597989949748745,
          0.8592964824120604,
          null
         ]
        },
        {
         "hoverinfo": "none",
         "line": {
          "color": "black",
          "width": 0
         },
         "mode": "lines",
         "type": "scatter3d",
         "x": [
          -0.11973939666335258,
          -0.42956390914738973,
          null
         ],
         "y": [
          -0.9732699296082516,
          0.07986938119331266,
          null
         ],
         "z": [
          0.19597989949748745,
          0.8994974874371859,
          null
         ]
        },
        {
         "hoverinfo": "none",
         "line": {
          "color": "black",
          "width": 0
         },
         "mode": "lines",
         "type": "scatter3d",
         "x": [
          0.13434625214634502,
          0.06389728976483165,
          null
         ],
         "y": [
          -0.9692794548088852,
          0.6819062985636061,
          null
         ],
         "z": [
          0.20603015075376876,
          0.728643216080402,
          null
         ]
        },
        {
         "hoverinfo": "none",
         "line": {
          "color": "black",
          "width": 5
         },
         "mode": "lines",
         "type": "scatter3d",
         "x": [
          0.13434625214634502,
          0.0676279462623623,
          null
         ],
         "y": [
          -0.9692794548088852,
          -0.12420127151757969,
          null
         ],
         "z": [
          0.20603015075376876,
          0.9899497487437185,
          null
         ]
        },
        {
         "hoverinfo": "none",
         "line": {
          "color": "black",
          "width": 5
         },
         "mode": "lines",
         "type": "scatter3d",
         "x": [
          0.13434625214634502,
          0,
          null
         ],
         "y": [
          -0.9692794548088852,
          0,
          null
         ],
         "z": [
          0.20603015075376876,
          1,
          null
         ]
        },
        {
         "hoverinfo": "none",
         "line": {
          "color": "black",
          "width": 8
         },
         "mode": "lines",
         "type": "scatter3d",
         "x": [
          0.3788192430037307,
          0.8715636126463255,
          null
         ],
         "y": [
          -0.8998917940492931,
          -0.05274333023114333,
          null
         ],
         "z": [
          0.21608040201005022,
          0.48743718592964813,
          null
         ]
        },
        {
         "hoverinfo": "none",
         "line": {
          "color": "black",
          "width": 3
         },
         "mode": "lines",
         "type": "scatter3d",
         "x": [
          0.3788192430037307,
          -0.5771143305124173,
          null
         ],
         "y": [
          -0.8998917940492931,
          0.5869392617861797,
          null
         ],
         "z": [
          0.21608040201005022,
          0.5678391959798994,
          null
         ]
        },
        {
         "hoverinfo": "none",
         "line": {
          "color": "black",
          "width": 9
         },
         "mode": "lines",
         "type": "scatter3d",
         "x": [
          0.3788192430037307,
          0.1633089131200265,
          null
         ],
         "y": [
          -0.8998917940492931,
          -0.7437160329723511,
          null
         ],
         "z": [
          0.21608040201005022,
          0.6482412060301508,
          null
         ]
        },
        {
         "hoverinfo": "none",
         "line": {
          "color": "black",
          "width": 2
         },
         "mode": "lines",
         "type": "scatter3d",
         "x": [
          0.3788192430037307,
          0.06389728976483165,
          null
         ],
         "y": [
          -0.8998917940492931,
          0.6819062985636061,
          null
         ],
         "z": [
          0.21608040201005022,
          0.728643216080402,
          null
         ]
        },
        {
         "hoverinfo": "none",
         "line": {
          "color": "black",
          "width": 4
         },
         "mode": "lines",
         "type": "scatter3d",
         "x": [
          0.3788192430037307,
          -0.004587855210254107,
          null
         ],
         "y": [
          -0.8998917940492931,
          -0.5877284863436261,
          null
         ],
         "z": [
          0.21608040201005022,
          0.8090452261306533,
          null
         ]
        },
        {
         "hoverinfo": "none",
         "line": {
          "color": "black",
          "width": 8
         },
         "mode": "lines",
         "type": "scatter3d",
         "x": [
          0.5970599024521844,
          -0.1908820904593788,
          null
         ],
         "y": [
          -0.7696651223338173,
          -0.8838094476675942,
          null
         ],
         "z": [
          0.22613065326633158,
          0.4271356783919597,
          null
         ]
        },
        {
         "hoverinfo": "none",
         "line": {
          "color": "black",
          "width": 7
         },
         "mode": "lines",
         "type": "scatter3d",
         "x": [
          0.5970599024521844,
          0.7440964149681661,
          null
         ],
         "y": [
          -0.7696651223338173,
          0.4344260812178058,
          null
         ],
         "z": [
          0.22613065326633158,
          0.5075376884422113,
          null
         ]
        },
        {
         "hoverinfo": "none",
         "line": {
          "color": "black",
          "width": 4
         },
         "mode": "lines",
         "type": "scatter3d",
         "x": [
          0.5970599024521844,
          -0.5505913149039414,
          null
         ],
         "y": [
          -0.7696651223338173,
          -0.5610823440242639,
          null
         ],
         "z": [
          0.22613065326633158,
          0.6180904522613064,
          null
         ]
        },
        {
         "hoverinfo": "none",
         "line": {
          "color": "black",
          "width": 7
         },
         "mode": "lines",
         "type": "scatter3d",
         "x": [
          0.7741176022559528,
          -0.7793130144557557,
          null
         ],
         "y": [
          -0.5873333961357678,
          0.515147027766033,
          null
         ],
         "z": [
          0.23618090452261312,
          0.3567839195979901,
          null
         ]
        },
        {
         "hoverinfo": "none",
         "line": {
          "color": "black",
          "width": 2
         },
         "mode": "lines",
         "type": "scatter3d",
         "x": [
          0.7741176022559528,
          0.7440964149681661,
          null
         ],
         "y": [
          -0.5873333961357678,
          0.4344260812178058,
          null
         ],
         "z": [
          0.23618090452261312,
          0.5075376884422113,
          null
         ]
        },
        {
         "hoverinfo": "none",
         "line": {
          "color": "black",
          "width": 0
         },
         "mode": "lines",
         "type": "scatter3d",
         "x": [
          0.89774944367018,
          0.9592929774959421,
          null
         ],
         "y": [
          -0.3652617613625499,
          -0.11864579105488865,
          null
         ],
         "z": [
          0.24623115577889462,
          0.25628140703517593,
          null
         ]
        },
        {
         "hoverinfo": "none",
         "line": {
          "color": "black",
          "width": 2
         },
         "mode": "lines",
         "type": "scatter3d",
         "x": [
          0.89774944367018,
          0.9543101980031311,
          null
         ],
         "y": [
          -0.3652617613625499,
          0.1354972094876758,
          null
         ],
         "z": [
          0.24623115577889462,
          0.26633165829145716,
          null
         ]
        },
        {
         "hoverinfo": "none",
         "line": {
          "color": "black",
          "width": 4
         },
         "mode": "lines",
         "type": "scatter3d",
         "x": [
          0.89774944367018,
          0.8829535645133417,
          null
         ],
         "y": [
          -0.3652617613625499,
          0.37948128147239324,
          null
         ],
         "z": [
          0.24623115577889462,
          0.2763819095477386,
          null
         ]
        },
        {
         "hoverinfo": "none",
         "line": {
          "color": "black",
          "width": 2
         },
         "mode": "lines",
         "type": "scatter3d",
         "x": [
          0.89774944367018,
          0.7500220497040564,
          null
         ],
         "y": [
          -0.3652617613625499,
          0.5961740871715794,
          null
         ],
         "z": [
          0.24623115577889462,
          0.2864321608040202,
          null
         ]
        },
        {
         "hoverinfo": "none",
         "line": {
          "color": "black",
          "width": 2
         },
         "mode": "lines",
         "type": "scatter3d",
         "x": [
          0.89774944367018,
          -0.7975160188443354,
          null
         ],
         "y": [
          -0.3652617613625499,
          -0.45428093654550455,
          null
         ],
         "z": [
          0.24623115577889462,
          0.3969849246231157,
          null
         ]
        },
        {
         "hoverinfo": "none",
         "line": {
          "color": "black",
          "width": 6
         },
         "mode": "lines",
         "type": "scatter3d",
         "x": [
          0.89774944367018,
          -0.1908820904593788,
          null
         ],
         "y": [
          -0.3652617613625499,
          -0.8838094476675942,
          null
         ],
         "z": [
          0.24623115577889462,
          0.4271356783919597,
          null
         ]
        },
        {
         "hoverinfo": "none",
         "line": {
          "color": "black",
          "width": 4
         },
         "mode": "lines",
         "type": "scatter3d",
         "x": [
          0.89774944367018,
          0.5319383843782858,
          null
         ],
         "y": [
          -0.3652617613625499,
          -0.7126925523580707,
          null
         ],
         "z": [
          0.24623115577889462,
          0.45728643216080406,
          null
         ]
        },
        {
         "hoverinfo": "none",
         "line": {
          "color": "black",
          "width": 5
         },
         "mode": "lines",
         "type": "scatter3d",
         "x": [
          0.89774944367018,
          0.6955838850071943,
          null
         ],
         "y": [
          -0.3652617613625499,
          -0.2365320439145132,
          null
         ],
         "z": [
          0.24623115577889462,
          0.6783919597989949,
          null
         ]
        },
        {
         "hoverinfo": "none",
         "line": {
          "color": "black",
          "width": 8
         },
         "mode": "lines",
         "type": "scatter3d",
         "x": [
          0.89774944367018,
          -0.46736094041360504,
          null
         ],
         "y": [
          -0.3652617613625499,
          -0.3989235195509105,
          null
         ],
         "z": [
          0.24623115577889462,
          0.7889447236180904,
          null
         ]
        },
        {
         "hoverinfo": "none",
         "line": {
          "color": "black",
          "width": 2
         },
         "mode": "lines",
         "type": "scatter3d",
         "x": [
          0.9592929774959421,
          -0.4034742971178234,
          null
         ],
         "y": [
          -0.11864579105488865,
          0.8507953738854946,
          null
         ],
         "z": [
          0.25628140703517593,
          0.3366834170854272,
          null
         ]
        },
        {
         "hoverinfo": "none",
         "line": {
          "color": "black",
          "width": 2
         },
         "mode": "lines",
         "type": "scatter3d",
         "x": [
          0.9592929774959421,
          -0.7924588501224821,
          null
         ],
         "y": [
          -0.11864579105488865,
          -0.12007077438764355,
          null
         ],
         "z": [
          0.25628140703517593,
          0.5979899497487438,
          null
         ]
        },
        {
         "hoverinfo": "none",
         "line": {
          "color": "black",
          "width": 8
         },
         "mode": "lines",
         "type": "scatter3d",
         "x": [
          0.9592929774959421,
          0.06389728976483165,
          null
         ],
         "y": [
          -0.11864579105488865,
          0.6819062985636061,
          null
         ],
         "z": [
          0.25628140703517593,
          0.728643216080402,
          null
         ]
        },
        {
         "hoverinfo": "none",
         "line": {
          "color": "black",
          "width": 3
         },
         "mode": "lines",
         "type": "scatter3d",
         "x": [
          0.9543101980031311,
          0.5799931250776793,
          null
         ],
         "y": [
          0.1354972094876758,
          0.6290554026008339,
          null
         ],
         "z": [
          0.26633165829145716,
          0.5175879396984923,
          null
         ]
        },
        {
         "hoverinfo": "none",
         "line": {
          "color": "black",
          "width": 5
         },
         "mode": "lines",
         "type": "scatter3d",
         "x": [
          0.9543101980031311,
          0.12037404304848949,
          null
         ],
         "y": [
          0.1354972094876758,
          0.834506578088399,
          null
         ],
         "z": [
          0.26633165829145716,
          0.5376884422110553,
          null
         ]
        },
        {
         "hoverinfo": "none",
         "line": {
          "color": "black",
          "width": 3
         },
         "mode": "lines",
         "type": "scatter3d",
         "x": [
          0.9543101980031311,
          0.3962282650703626,
          null
         ],
         "y": [
          0.1354972094876758,
          -0.6400433729233012,
          null
         ],
         "z": [
          0.26633165829145716,
          0.6582914572864322,
          null
         ]
        },
        {
         "hoverinfo": "none",
         "line": {
          "color": "black",
          "width": 3
         },
         "mode": "lines",
         "type": "scatter3d",
         "x": [
          0.9543101980031311,
          0.6648572393833766,
          null
         ],
         "y": [
          0.1354972094876758,
          0.264713300257944,
          null
         ],
         "z": [
          0.26633165829145716,
          0.6984924623115578,
          null
         ]
        },
        {
         "hoverinfo": "none",
         "line": {
          "color": "black",
          "width": 1
         },
         "mode": "lines",
         "type": "scatter3d",
         "x": [
          0.9543101980031311,
          -0.3779945609644943,
          null
         ],
         "y": [
          0.1354972094876758,
          -0.17275133261095033,
          null
         ],
         "z": [
          0.26633165829145716,
          0.9095477386934674,
          null
         ]
        },
        {
         "hoverinfo": "none",
         "line": {
          "color": "black",
          "width": 3
         },
         "mode": "lines",
         "type": "scatter3d",
         "x": [
          0.9543101980031311,
          0.0720199661208389,
          null
         ],
         "y": [
          0.1354972094876758,
          -0.3613409361011954,
          null
         ],
         "z": [
          0.26633165829145716,
          0.9296482412060301,
          null
         ]
        },
        {
         "hoverinfo": "none",
         "line": {
          "color": "black",
          "width": 3
         },
         "mode": "lines",
         "type": "scatter3d",
         "x": [
          0.8829535645133417,
          -0.16221249071244484,
          null
         ],
         "y": [
          0.37948128147239324,
          0.9311272108779202,
          null
         ],
         "z": [
          0.2763819095477386,
          0.3266331658291456,
          null
         ]
        },
        {
         "hoverinfo": "none",
         "line": {
          "color": "black",
          "width": 7
         },
         "mode": "lines",
         "type": "scatter3d",
         "x": [
          0.8829535645133417,
          0.7082279152172981,
          null
         ],
         "y": [
          0.37948128147239324,
          -0.5291593752733467,
          null
         ],
         "z": [
          0.2763819095477386,
          0.4673366834170853,
          null
         ]
        },
        {
         "hoverinfo": "none",
         "line": {
          "color": "black",
          "width": 3
         },
         "mode": "lines",
         "type": "scatter3d",
         "x": [
          0.8829535645133417,
          0.5317207462626569,
          null
         ],
         "y": [
          0.37948128147239324,
          -0.11411904010464476,
          null
         ],
         "z": [
          0.2763819095477386,
          0.8391959798994975,
          null
         ]
        },
        {
         "hoverinfo": "none",
         "line": {
          "color": "black",
          "width": 5
         },
         "mode": "lines",
         "type": "scatter3d",
         "x": [
          0.7500220497040564,
          -0.4034742971178234,
          null
         ],
         "y": [
          0.5961740871715794,
          0.8507953738854946,
          null
         ],
         "z": [
          0.2864321608040202,
          0.3366834170854272,
          null
         ]
        },
        {
         "hoverinfo": "none",
         "line": {
          "color": "black",
          "width": 2
         },
         "mode": "lines",
         "type": "scatter3d",
         "x": [
          0.7500220497040564,
          0.5212824240995492,
          null
         ],
         "y": [
          0.5961740871715794,
          0.47563836827449124,
          null
         ],
         "z": [
          0.2864321608040202,
          0.7085427135678393,
          null
         ]
        },
        {
         "hoverinfo": "none",
         "line": {
          "color": "black",
          "width": 9
         },
         "mode": "lines",
         "type": "scatter3d",
         "x": [
          0.7500220497040564,
          -0.3779945609644943,
          null
         ],
         "y": [
          0.5961740871715794,
          -0.17275133261095033,
          null
         ],
         "z": [
          0.2864321608040202,
          0.9095477386934674,
          null
         ]
        },
        {
         "hoverinfo": "none",
         "line": {
          "color": "black",
          "width": 3
         },
         "mode": "lines",
         "type": "scatter3d",
         "x": [
          0.7500220497040564,
          0.0676279462623623,
          null
         ],
         "y": [
          0.5961740871715794,
          -0.12420127151757969,
          null
         ],
         "z": [
          0.2864321608040202,
          0.9899497487437185,
          null
         ]
        },
        {
         "hoverinfo": "none",
         "line": {
          "color": "black",
          "width": 1
         },
         "mode": "lines",
         "type": "scatter3d",
         "x": [
          0.5646952188368541,
          0.7082279152172981,
          null
         ],
         "y": [
          0.7702061342015544,
          -0.5291593752733467,
          null
         ],
         "z": [
          0.29648241206030157,
          0.4673366834170853,
          null
         ]
        },
        {
         "hoverinfo": "none",
         "line": {
          "color": "black",
          "width": 0
         },
         "mode": "lines",
         "type": "scatter3d",
         "x": [
          0.5646952188368541,
          -0.3741885774371721,
          null
         ],
         "y": [
          0.7702061342015544,
          0.7408470838571601,
          null
         ],
         "z": [
          0.29648241206030157,
          0.5577889447236182,
          null
         ]
        },
        {
         "hoverinfo": "none",
         "line": {
          "color": "black",
          "width": 9
         },
         "mode": "lines",
         "type": "scatter3d",
         "x": [
          0.5646952188368541,
          -0.09075695184030583,
          null
         ],
         "y": [
          0.7702061342015544,
          -0.7645099613068972,
          null
         ],
         "z": [
          0.29648241206030157,
          0.6381909547738693,
          null
         ]
        },
        {
         "hoverinfo": "none",
         "line": {
          "color": "black",
          "width": 9
         },
         "mode": "lines",
         "type": "scatter3d",
         "x": [
          0.5646952188368541,
          -0.4107215962272207,
          null
         ],
         "y": [
          0.7702061342015544,
          0.5202793617472665,
          null
         ],
         "z": [
          0.29648241206030157,
          0.7487437185929648,
          null
         ]
        },
        {
         "hoverinfo": "none",
         "line": {
          "color": "black",
          "width": 5
         },
         "mode": "lines",
         "type": "scatter3d",
         "x": [
          0.5646952188368541,
          -0.46736094041360504,
          null
         ],
         "y": [
          0.7702061342015544,
          -0.3989235195509105,
          null
         ],
         "z": [
          0.29648241206030157,
          0.7889447236180904,
          null
         ]
        },
        {
         "hoverinfo": "none",
         "line": {
          "color": "black",
          "width": 0
         },
         "mode": "lines",
         "type": "scatter3d",
         "x": [
          0.3399549164860912,
          -0.4311344860611112,
          null
         ],
         "y": [
          0.8890828876302689,
          -0.8001017444049664,
          null
         ],
         "z": [
          0.30653266331658297,
          0.41708542713567837,
          null
         ]
        },
        {
         "hoverinfo": "none",
         "line": {
          "color": "black",
          "width": 6
         },
         "mode": "lines",
         "type": "scatter3d",
         "x": [
          0.3399549164860912,
          -0.5771143305124173,
          null
         ],
         "y": [
          0.8890828876302689,
          0.5869392617861797,
          null
         ],
         "z": [
          0.30653266331658297,
          0.5678391959798994,
          null
         ]
        },
        {
         "hoverinfo": "none",
         "line": {
          "color": "black",
          "width": 4
         },
         "mode": "lines",
         "type": "scatter3d",
         "x": [
          0.09172592356847682,
          -0.16221249071244484,
          null
         ],
         "y": [
          0.9441194909258364,
          0.9311272108779202,
          null
         ],
         "z": [
          0.3165829145728642,
          0.3266331658291456,
          null
         ]
        },
        {
         "hoverinfo": "none",
         "line": {
          "color": "black",
          "width": 7
         },
         "mode": "lines",
         "type": "scatter3d",
         "x": [
          0.09172592356847682,
          -0.7975160188443354,
          null
         ],
         "y": [
          0.9441194909258364,
          -0.45428093654550455,
          null
         ],
         "z": [
          0.3165829145728642,
          0.3969849246231157,
          null
         ]
        },
        {
         "hoverinfo": "none",
         "line": {
          "color": "black",
          "width": 3
         },
         "mode": "lines",
         "type": "scatter3d",
         "x": [
          0.09172592356847682,
          0.5799931250776793,
          null
         ],
         "y": [
          0.9441194909258364,
          0.6290554026008339,
          null
         ],
         "z": [
          0.3165829145728642,
          0.5175879396984923,
          null
         ]
        },
        {
         "hoverinfo": "none",
         "line": {
          "color": "black",
          "width": 9
         },
         "mode": "lines",
         "type": "scatter3d",
         "x": [
          0.09172592356847682,
          -0.7976204808491804,
          null
         ],
         "y": [
          0.9441194909258364,
          0.13464204197246402,
          null
         ],
         "z": [
          0.3165829145728642,
          0.5879396984924623,
          null
         ]
        },
        {
         "hoverinfo": "none",
         "line": {
          "color": "black",
          "width": 3
         },
         "mode": "lines",
         "type": "scatter3d",
         "x": [
          -0.16221249071244484,
          -0.7793130144557557,
          null
         ],
         "y": [
          0.9311272108779202,
          0.515147027766033,
          null
         ],
         "z": [
          0.3266331658291456,
          0.3567839195979901,
          null
         ]
        },
        {
         "hoverinfo": "none",
         "line": {
          "color": "black",
          "width": 1
         },
         "mode": "lines",
         "type": "scatter3d",
         "x": [
          -0.16221249071244484,
          0.5319383843782858,
          null
         ],
         "y": [
          0.9311272108779202,
          -0.7126925523580707,
          null
         ],
         "z": [
          0.3266331658291456,
          0.45728643216080406,
          null
         ]
        },
        {
         "hoverinfo": "none",
         "line": {
          "color": "black",
          "width": 5
         },
         "mode": "lines",
         "type": "scatter3d",
         "x": [
          -0.16221249071244484,
          0.12037404304848949,
          null
         ],
         "y": [
          0.9311272108779202,
          0.834506578088399,
          null
         ],
         "z": [
          0.3266331658291456,
          0.5376884422110553,
          null
         ]
        },
        {
         "hoverinfo": "none",
         "line": {
          "color": "black",
          "width": 6
         },
         "mode": "lines",
         "type": "scatter3d",
         "x": [
          -0.16221249071244484,
          -0.33761069961500084,
          null
         ],
         "y": [
          0.9311272108779202,
          -0.7010408490879112,
          null
         ],
         "z": [
          0.3266331658291456,
          0.6281407035175879,
          null
         ]
        },
        {
         "hoverinfo": "none",
         "line": {
          "color": "black",
          "width": 2
         },
         "mode": "lines",
         "type": "scatter3d",
         "x": [
          -0.16221249071244484,
          0.6955838850071943,
          null
         ],
         "y": [
          0.9311272108779202,
          -0.2365320439145132,
          null
         ],
         "z": [
          0.3266331658291456,
          0.6783919597989949,
          null
         ]
        },
        {
         "hoverinfo": "none",
         "line": {
          "color": "black",
          "width": 7
         },
         "mode": "lines",
         "type": "scatter3d",
         "x": [
          -0.4034742971178234,
          -0.5505913149039414,
          null
         ],
         "y": [
          0.8507953738854946,
          -0.5610823440242639,
          null
         ],
         "z": [
          0.3366834170854272,
          0.6180904522613064,
          null
         ]
        },
        {
         "hoverinfo": "none",
         "line": {
          "color": "black",
          "width": 4
         },
         "mode": "lines",
         "type": "scatter3d",
         "x": [
          -0.4034742971178234,
          0.43486403352118225,
          null
         ],
         "y": [
          0.8507953738854946,
          -0.351298495616475,
          null
         ],
         "z": [
          0.3366834170854272,
          0.829145728643216,
          null
         ]
        },
        {
         "hoverinfo": "none",
         "line": {
          "color": "black",
          "width": 4
         },
         "mode": "lines",
         "type": "scatter3d",
         "x": [
          -0.6143899953864282,
          0.5799931250776793,
          null
         ],
         "y": [
          0.7087317523628855,
          0.6290554026008339,
          null
         ],
         "z": [
          0.3467336683417086,
          0.5175879396984923,
          null
         ]
        },
        {
         "hoverinfo": "none",
         "line": {
          "color": "black",
          "width": 6
         },
         "mode": "lines",
         "type": "scatter3d",
         "x": [
          -0.6143899953864282,
          -0.11657616359218419,
          null
         ],
         "y": [
          0.7087317523628855,
          0.4615960799092759,
          null
         ],
         "z": [
          0.3467336683417086,
          0.879396984924623,
          null
         ]
        },
        {
         "hoverinfo": "none",
         "line": {
          "color": "black",
          "width": 1
         },
         "mode": "lines",
         "type": "scatter3d",
         "x": [
          -0.6143899953864282,
          -0.1303084840790476,
          null
         ],
         "y": [
          0.7087317523628855,
          0.20594207574432036,
          null
         ],
         "z": [
          0.3467336683417086,
          0.9698492462311559,
          null
         ]
        },
        {
         "hoverinfo": "none",
         "line": {
          "color": "black",
          "width": 9
         },
         "mode": "lines",
         "type": "scatter3d",
         "x": [
          -0.7793130144557557,
          0.0632016554808522,
          null
         ],
         "y": [
          0.515147027766033,
          -0.8971477100578715,
          null
         ],
         "z": [
          0.3567839195979901,
          0.43718592964824127,
          null
         ]
        },
        {
         "hoverinfo": "none",
         "line": {
          "color": "black",
          "width": 6
         },
         "mode": "lines",
         "type": "scatter3d",
         "x": [
          -0.7793130144557557,
          0.5799931250776793,
          null
         ],
         "y": [
          0.515147027766033,
          0.6290554026008339,
          null
         ],
         "z": [
          0.3567839195979901,
          0.5175879396984923,
          null
         ]
        },
        {
         "hoverinfo": "none",
         "line": {
          "color": "black",
          "width": 5
         },
         "mode": "lines",
         "type": "scatter3d",
         "x": [
          -0.7793130144557557,
          -0.7976204808491804,
          null
         ],
         "y": [
          0.515147027766033,
          0.13464204197246402,
          null
         ],
         "z": [
          0.3567839195979901,
          0.5879396984924623,
          null
         ]
        },
        {
         "hoverinfo": "none",
         "line": {
          "color": "black",
          "width": 1
         },
         "mode": "lines",
         "type": "scatter3d",
         "x": [
          -0.7793130144557557,
          0.1633089131200265,
          null
         ],
         "y": [
          0.515147027766033,
          -0.7437160329723511,
          null
         ],
         "z": [
          0.3567839195979901,
          0.6482412060301508,
          null
         ]
        },
        {
         "hoverinfo": "none",
         "line": {
          "color": "black",
          "width": 2
         },
         "mode": "lines",
         "type": "scatter3d",
         "x": [
          -0.7793130144557557,
          0.27639958067021775,
          null
         ],
         "y": [
          0.515147027766033,
          -0.20141999669691893,
          null
         ],
         "z": [
          0.3567839195979901,
          0.9396984924623115,
          null
         ]
        },
        {
         "hoverinfo": "none",
         "line": {
          "color": "black",
          "width": 6
         },
         "mode": "lines",
         "type": "scatter3d",
         "x": [
          -0.8858140940564723,
          -0.7231637330577864,
          null
         ],
         "y": [
          0.2841937400165084,
          0.3782565293064855,
          null
         ],
         "z": [
          0.3668341708542712,
          0.5778894472361809,
          null
         ]
        },
        {
         "hoverinfo": "none",
         "line": {
          "color": "black",
          "width": 0
         },
         "mode": "lines",
         "type": "scatter3d",
         "x": [
          -0.8858140940564723,
          -0.33761069961500084,
          null
         ],
         "y": [
          0.2841937400165084,
          -0.7010408490879112,
          null
         ],
         "z": [
          0.3668341708542712,
          0.6281407035175879,
          null
         ]
        },
        {
         "hoverinfo": "none",
         "line": {
          "color": "black",
          "width": 7
         },
         "mode": "lines",
         "type": "scatter3d",
         "x": [
          -0.8858140940564723,
          -0.4107215962272207,
          null
         ],
         "y": [
          0.2841937400165084,
          0.5202793617472665,
          null
         ],
         "z": [
          0.3668341708542712,
          0.7487437185929648,
          null
         ]
        },
        {
         "hoverinfo": "none",
         "line": {
          "color": "black",
          "width": 8
         },
         "mode": "lines",
         "type": "scatter3d",
         "x": [
          -0.8858140940564723,
          -0.5679012117000678,
          null
         ],
         "y": [
          0.2841937400165084,
          0.318935612734006,
          null
         ],
         "z": [
          0.3668341708542712,
          0.7587939698492463,
          null
         ]
        },
        {
         "hoverinfo": "none",
         "line": {
          "color": "black",
          "width": 9
         },
         "mode": "lines",
         "type": "scatter3d",
         "x": [
          -0.925672422221608,
          -0.3741885774371721,
          null
         ],
         "y": [
          0.03299544072710666,
          0.7408470838571601,
          null
         ],
         "z": [
          0.3768844221105527,
          0.5577889447236182,
          null
         ]
        },
        {
         "hoverinfo": "none",
         "line": {
          "color": "black",
          "width": 7
         },
         "mode": "lines",
         "type": "scatter3d",
         "x": [
          -0.8955829153536629,
          0.12037404304848949,
          null
         ],
         "y": [
          -0.2195741338890703,
          0.834506578088399,
          null
         ],
         "z": [
          0.3869346733668343,
          0.5376884422110553,
          null
         ]
        },
        {
         "hoverinfo": "none",
         "line": {
          "color": "black",
          "width": 8
         },
         "mode": "lines",
         "type": "scatter3d",
         "x": [
          -0.7975160188443354,
          0.3108397890520478,
          null
         ],
         "y": [
          -0.45428093654550455,
          -0.8386646672133121,
          null
         ],
         "z": [
          0.3969849246231157,
          0.44723618090452255,
          null
         ]
        },
        {
         "hoverinfo": "none",
         "line": {
          "color": "black",
          "width": 1
         },
         "mode": "lines",
         "type": "scatter3d",
         "x": [
          -0.7975160188443354,
          0.3962282650703626,
          null
         ],
         "y": [
          -0.45428093654550455,
          -0.6400433729233012,
          null
         ],
         "z": [
          0.3969849246231157,
          0.6582914572864322,
          null
         ]
        },
        {
         "hoverinfo": "none",
         "line": {
          "color": "black",
          "width": 3
         },
         "mode": "lines",
         "type": "scatter3d",
         "x": [
          -0.7975160188443354,
          -0.1922969882497981,
          null
         ],
         "y": [
          -0.45428093654550455,
          -0.05309277854779562,
          null
         ],
         "z": [
          0.3969849246231157,
          0.9798994974874371,
          null
         ]
        },
        {
         "hoverinfo": "none",
         "line": {
          "color": "black",
          "width": 5
         },
         "mode": "lines",
         "type": "scatter3d",
         "x": [
          -0.6386889828957023,
          0.12037404304848949,
          null
         ],
         "y": [
          -0.6529921505841256,
          0.834506578088399,
          null
         ],
         "z": [
          0.4070351758793972,
          0.5376884422110553,
          null
         ]
        },
        {
         "hoverinfo": "none",
         "line": {
          "color": "black",
          "width": 8
         },
         "mode": "lines",
         "type": "scatter3d",
         "x": [
          -0.6386889828957023,
          -0.1341208174448031,
          null
         ],
         "y": [
          -0.6529921505841256,
          0.8258292378007893,
          null
         ],
         "z": [
          0.4070351758793972,
          0.5477386934673367,
          null
         ]
        },
        {
         "hoverinfo": "none",
         "line": {
          "color": "black",
          "width": 3
         },
         "mode": "lines",
         "type": "scatter3d",
         "x": [
          -0.6386889828957023,
          -0.18901287835010755,
          null
         ],
         "y": [
          -0.6529921505841256,
          0.646997753575633,
          null
         ],
         "z": [
          0.4070351758793972,
          0.7386934673366834,
          null
         ]
        },
        {
         "hoverinfo": "none",
         "line": {
          "color": "black",
          "width": 7
         },
         "mode": "lines",
         "type": "scatter3d",
         "x": [
          -0.4311344860611112,
          0.0632016554808522,
          null
         ],
         "y": [
          -0.8001017444049664,
          -0.8971477100578715,
          null
         ],
         "z": [
          0.41708542713567837,
          0.43718592964824127,
          null
         ]
        },
        {
         "hoverinfo": "none",
         "line": {
          "color": "black",
          "width": 9
         },
         "mode": "lines",
         "type": "scatter3d",
         "x": [
          -0.4311344860611112,
          -0.5771143305124173,
          null
         ],
         "y": [
          -0.8001017444049664,
          0.5869392617861797,
          null
         ],
         "z": [
          0.41708542713567837,
          0.5678391959798994,
          null
         ]
        },
        {
         "hoverinfo": "none",
         "line": {
          "color": "black",
          "width": 5
         },
         "mode": "lines",
         "type": "scatter3d",
         "x": [
          -0.4311344860611112,
          0.5317207462626569,
          null
         ],
         "y": [
          -0.8001017444049664,
          -0.11411904010464476,
          null
         ],
         "z": [
          0.41708542713567837,
          0.8391959798994975,
          null
         ]
        },
        {
         "hoverinfo": "none",
         "line": {
          "color": "black",
          "width": 3
         },
         "mode": "lines",
         "type": "scatter3d",
         "x": [
          0.0632016554808522,
          0.8440290778788562,
          null
         ],
         "y": [
          -0.8971477100578715,
          0.20030268479764154,
          null
         ],
         "z": [
          0.43718592964824127,
          0.49748743718592975,
          null
         ]
        },
        {
         "hoverinfo": "none",
         "line": {
          "color": "black",
          "width": 2
         },
         "mode": "lines",
         "type": "scatter3d",
         "x": [
          0.0632016554808522,
          -0.11657616359218419,
          null
         ],
         "y": [
          -0.8971477100578715,
          0.4615960799092759,
          null
         ],
         "z": [
          0.43718592964824127,
          0.879396984924623,
          null
         ]
        },
        {
         "hoverinfo": "none",
         "line": {
          "color": "black",
          "width": 0
         },
         "mode": "lines",
         "type": "scatter3d",
         "x": [
          0.3108397890520478,
          0.1633089131200265,
          null
         ],
         "y": [
          -0.8386646672133121,
          -0.7437160329723511,
          null
         ],
         "z": [
          0.44723618090452255,
          0.6482412060301508,
          null
         ]
        },
        {
         "hoverinfo": "none",
         "line": {
          "color": "black",
          "width": 2
         },
         "mode": "lines",
         "type": "scatter3d",
         "x": [
          0.3108397890520478,
          0.3962282650703626,
          null
         ],
         "y": [
          -0.8386646672133121,
          -0.6400433729233012,
          null
         ],
         "z": [
          0.44723618090452255,
          0.6582914572864322,
          null
         ]
        },
        {
         "hoverinfo": "none",
         "line": {
          "color": "black",
          "width": 5
         },
         "mode": "lines",
         "type": "scatter3d",
         "x": [
          0.3108397890520478,
          -0.46736094041360504,
          null
         ],
         "y": [
          -0.8386646672133121,
          -0.3989235195509105,
          null
         ],
         "z": [
          0.44723618090452255,
          0.7889447236180904,
          null
         ]
        },
        {
         "hoverinfo": "none",
         "line": {
          "color": "black",
          "width": 2
         },
         "mode": "lines",
         "type": "scatter3d",
         "x": [
          0.3108397890520478,
          0.30775790638944817,
          null
         ],
         "y": [
          -0.8386646672133121,
          0.0571173779137144,
          null
         ],
         "z": [
          0.44723618090452255,
          0.949748743718593,
          null
         ]
        },
        {
         "hoverinfo": "none",
         "line": {
          "color": "black",
          "width": 8
         },
         "mode": "lines",
         "type": "scatter3d",
         "x": [
          0.5319383843782858,
          -0.7924588501224821,
          null
         ],
         "y": [
          -0.7126925523580707,
          -0.12007077438764355,
          null
         ],
         "z": [
          0.45728643216080406,
          0.5979899497487438,
          null
         ]
        },
        {
         "hoverinfo": "none",
         "line": {
          "color": "black",
          "width": 0
         },
         "mode": "lines",
         "type": "scatter3d",
         "x": [
          0.5319383843782858,
          -0.42956390914738973,
          null
         ],
         "y": [
          -0.7126925523580707,
          0.07986938119331266,
          null
         ],
         "z": [
          0.45728643216080406,
          0.8994974874371859,
          null
         ]
        },
        {
         "hoverinfo": "none",
         "line": {
          "color": "black",
          "width": 4
         },
         "mode": "lines",
         "type": "scatter3d",
         "x": [
          0.5319383843782858,
          0,
          null
         ],
         "y": [
          -0.7126925523580707,
          0,
          null
         ],
         "z": [
          0.45728643216080406,
          1,
          null
         ]
        },
        {
         "hoverinfo": "none",
         "line": {
          "color": "black",
          "width": 5
         },
         "mode": "lines",
         "type": "scatter3d",
         "x": [
          0.7082279152172981,
          -0.7924588501224821,
          null
         ],
         "y": [
          -0.5291593752733467,
          -0.12007077438764355,
          null
         ],
         "z": [
          0.4673366834170853,
          0.5979899497487438,
          null
         ]
        },
        {
         "hoverinfo": "none",
         "line": {
          "color": "black",
          "width": 8
         },
         "mode": "lines",
         "type": "scatter3d",
         "x": [
          0.7082279152172981,
          -0.5505913149039414,
          null
         ],
         "y": [
          -0.5291593752733467,
          -0.5610823440242639,
          null
         ],
         "z": [
          0.4673366834170853,
          0.6180904522613064,
          null
         ]
        },
        {
         "hoverinfo": "none",
         "line": {
          "color": "black",
          "width": 2
         },
         "mode": "lines",
         "type": "scatter3d",
         "x": [
          0.7082279152172981,
          0.24223438436005945,
          null
         ],
         "y": [
          -0.5291593752733467,
          -0.5200049057056794,
          null
         ],
         "z": [
          0.4673366834170853,
          0.8190954773869348,
          null
         ]
        },
        {
         "hoverinfo": "none",
         "line": {
          "color": "black",
          "width": 2
         },
         "mode": "lines",
         "type": "scatter3d",
         "x": [
          0.8248223009029717,
          -0.004587855210254107,
          null
         ],
         "y": [
          -0.3029354494546556,
          -0.5877284863436261,
          null
         ],
         "z": [
          0.4773869346733668,
          0.8090452261306533,
          null
         ]
        },
        {
         "hoverinfo": "none",
         "line": {
          "color": "black",
          "width": 1
         },
         "mode": "lines",
         "type": "scatter3d",
         "x": [
          0.8248223009029717,
          0.1400434946507435,
          null
         ],
         "y": [
          -0.3029354494546556,
          0.4739452249640167,
          null
         ],
         "z": [
          0.4773869346733668,
          0.8693467336683418,
          null
         ]
        },
        {
         "hoverinfo": "none",
         "line": {
          "color": "black",
          "width": 9
         },
         "mode": "lines",
         "type": "scatter3d",
         "x": [
          0.8715636126463255,
          -0.33761069961500084,
          null
         ],
         "y": [
          -0.05274333023114333,
          -0.7010408490879112,
          null
         ],
         "z": [
          0.48743718592964813,
          0.6281407035175879,
          null
         ]
        },
        {
         "hoverinfo": "none",
         "line": {
          "color": "black",
          "width": 7
         },
         "mode": "lines",
         "type": "scatter3d",
         "x": [
          0.8715636126463255,
          0.06389728976483165,
          null
         ],
         "y": [
          -0.05274333023114333,
          0.6819062985636061,
          null
         ],
         "z": [
          0.48743718592964813,
          0.728643216080402,
          null
         ]
        },
        {
         "hoverinfo": "none",
         "line": {
          "color": "black",
          "width": 9
         },
         "mode": "lines",
         "type": "scatter3d",
         "x": [
          0.8440290778788562,
          -0.18901287835010755,
          null
         ],
         "y": [
          0.20030268479764154,
          0.646997753575633,
          null
         ],
         "z": [
          0.49748743718592975,
          0.7386934673366834,
          null
         ]
        },
        {
         "hoverinfo": "none",
         "line": {
          "color": "black",
          "width": 9
         },
         "mode": "lines",
         "type": "scatter3d",
         "x": [
          0.8440290778788562,
          0.0720199661208389,
          null
         ],
         "y": [
          0.20030268479764154,
          -0.3613409361011954,
          null
         ],
         "z": [
          0.49748743718592975,
          0.9296482412060301,
          null
         ]
        },
        {
         "hoverinfo": "none",
         "line": {
          "color": "black",
          "width": 3
         },
         "mode": "lines",
         "type": "scatter3d",
         "x": [
          0.8440290778788562,
          -0.1922969882497981,
          null
         ],
         "y": [
          0.20030268479764154,
          -0.05309277854779562,
          null
         ],
         "z": [
          0.49748743718592975,
          0.9798994974874371,
          null
         ]
        },
        {
         "hoverinfo": "none",
         "line": {
          "color": "black",
          "width": 6
         },
         "mode": "lines",
         "type": "scatter3d",
         "x": [
          0.7440964149681661,
          -0.5771143305124173,
          null
         ],
         "y": [
          0.4344260812178058,
          0.5869392617861797,
          null
         ],
         "z": [
          0.5075376884422113,
          0.5678391959798994,
          null
         ]
        },
        {
         "hoverinfo": "none",
         "line": {
          "color": "black",
          "width": 9
         },
         "mode": "lines",
         "type": "scatter3d",
         "x": [
          0.7440964149681661,
          0.5212824240995492,
          null
         ],
         "y": [
          0.4344260812178058,
          0.47563836827449124,
          null
         ],
         "z": [
          0.5075376884422113,
          0.7085427135678393,
          null
         ]
        },
        {
         "hoverinfo": "none",
         "line": {
          "color": "black",
          "width": 8
         },
         "mode": "lines",
         "type": "scatter3d",
         "x": [
          0.7440964149681661,
          0.1400434946507435,
          null
         ],
         "y": [
          0.4344260812178058,
          0.4739452249640167,
          null
         ],
         "z": [
          0.5075376884422113,
          0.8693467336683418,
          null
         ]
        },
        {
         "hoverinfo": "none",
         "line": {
          "color": "black",
          "width": 1
         },
         "mode": "lines",
         "type": "scatter3d",
         "x": [
          0.5799931250776793,
          -0.7976204808491804,
          null
         ],
         "y": [
          0.6290554026008339,
          0.13464204197246402,
          null
         ],
         "z": [
          0.5175879396984923,
          0.5879396984924623,
          null
         ]
        },
        {
         "hoverinfo": "none",
         "line": {
          "color": "black",
          "width": 2
         },
         "mode": "lines",
         "type": "scatter3d",
         "x": [
          0.5799931250776793,
          0.3962282650703626,
          null
         ],
         "y": [
          0.6290554026008339,
          -0.6400433729233012,
          null
         ],
         "z": [
          0.5175879396984923,
          0.6582914572864322,
          null
         ]
        },
        {
         "hoverinfo": "none",
         "line": {
          "color": "black",
          "width": 6
         },
         "mode": "lines",
         "type": "scatter3d",
         "x": [
          0.5799931250776793,
          0.6648572393833766,
          null
         ],
         "y": [
          0.6290554026008339,
          0.264713300257944,
          null
         ],
         "z": [
          0.5175879396984923,
          0.6984924623115578,
          null
         ]
        },
        {
         "hoverinfo": "none",
         "line": {
          "color": "black",
          "width": 6
         },
         "mode": "lines",
         "type": "scatter3d",
         "x": [
          0.36579375496206784,
          -0.33761069961500084,
          null
         ],
         "y": [
          0.7666765082332472,
          -0.7010408490879112,
          null
         ],
         "z": [
          0.5276381909547738,
          0.6281407035175879,
          null
         ]
        },
        {
         "hoverinfo": "none",
         "line": {
          "color": "black",
          "width": 0
         },
         "mode": "lines",
         "type": "scatter3d",
         "x": [
          0.36579375496206784,
          0.6955838850071943,
          null
         ],
         "y": [
          0.7666765082332472,
          -0.2365320439145132,
          null
         ],
         "z": [
          0.5276381909547738,
          0.6783919597989949,
          null
         ]
        },
        {
         "hoverinfo": "none",
         "line": {
          "color": "black",
          "width": 4
         },
         "mode": "lines",
         "type": "scatter3d",
         "x": [
          0.36579375496206784,
          -0.46736094041360504,
          null
         ],
         "y": [
          0.7666765082332472,
          -0.3989235195509105,
          null
         ],
         "z": [
          0.5276381909547738,
          0.7889447236180904,
          null
         ]
        },
        {
         "hoverinfo": "none",
         "line": {
          "color": "black",
          "width": 8
         },
         "mode": "lines",
         "type": "scatter3d",
         "x": [
          0.36579375496206784,
          0.5087685882011274,
          null
         ],
         "y": [
          0.7666765082332472,
          0.14119264331946282,
          null
         ],
         "z": [
          0.5276381909547738,
          0.8492462311557789,
          null
         ]
        },
        {
         "hoverinfo": "none",
         "line": {
          "color": "black",
          "width": 8
         },
         "mode": "lines",
         "type": "scatter3d",
         "x": [
          0.36579375496206784,
          0.0720199661208389,
          null
         ],
         "y": [
          0.7666765082332472,
          -0.3613409361011954,
          null
         ],
         "z": [
          0.5276381909547738,
          0.9296482412060301,
          null
         ]
        },
        {
         "hoverinfo": "none",
         "line": {
          "color": "black",
          "width": 8
         },
         "mode": "lines",
         "type": "scatter3d",
         "x": [
          0.36579375496206784,
          0.27639958067021775,
          null
         ],
         "y": [
          0.7666765082332472,
          -0.20141999669691893,
          null
         ],
         "z": [
          0.5276381909547738,
          0.9396984924623115,
          null
         ]
        },
        {
         "hoverinfo": "none",
         "line": {
          "color": "black",
          "width": 0
         },
         "mode": "lines",
         "type": "scatter3d",
         "x": [
          0.12037404304848949,
          -0.5771143305124173,
          null
         ],
         "y": [
          0.834506578088399,
          0.5869392617861797,
          null
         ],
         "z": [
          0.5376884422110553,
          0.5678391959798994,
          null
         ]
        },
        {
         "hoverinfo": "none",
         "line": {
          "color": "black",
          "width": 7
         },
         "mode": "lines",
         "type": "scatter3d",
         "x": [
          0.12037404304848949,
          -0.707456892094313,
          null
         ],
         "y": [
          0.834506578088399,
          -0.360266373382285,
          null
         ],
         "z": [
          0.5376884422110553,
          0.6080402010050252,
          null
         ]
        },
        {
         "hoverinfo": "none",
         "line": {
          "color": "black",
          "width": 9
         },
         "mode": "lines",
         "type": "scatter3d",
         "x": [
          0.12037404304848949,
          0.725096144076266,
          null
         ],
         "y": [
          0.834506578088399,
          0.01681974681893568,
          null
         ],
         "z": [
          0.5376884422110553,
          0.6884422110552764,
          null
         ]
        },
        {
         "hoverinfo": "none",
         "line": {
          "color": "black",
          "width": 2
         },
         "mode": "lines",
         "type": "scatter3d",
         "x": [
          0.12037404304848949,
          0.5212824240995492,
          null
         ],
         "y": [
          0.834506578088399,
          0.47563836827449124,
          null
         ],
         "z": [
          0.5376884422110553,
          0.7085427135678393,
          null
         ]
        },
        {
         "hoverinfo": "none",
         "line": {
          "color": "black",
          "width": 7
         },
         "mode": "lines",
         "type": "scatter3d",
         "x": [
          0.12037404304848949,
          0.3119136244605593,
          null
         ],
         "y": [
          0.834506578088399,
          0.6215577541798972,
          null
         ],
         "z": [
          0.5376884422110553,
          0.7185929648241205,
          null
         ]
        },
        {
         "hoverinfo": "none",
         "line": {
          "color": "black",
          "width": 2
         },
         "mode": "lines",
         "type": "scatter3d",
         "x": [
          0.12037404304848949,
          0.5317207462626569,
          null
         ],
         "y": [
          0.834506578088399,
          -0.11411904010464476,
          null
         ],
         "z": [
          0.5376884422110553,
          0.8391959798994975,
          null
         ]
        },
        {
         "hoverinfo": "none",
         "line": {
          "color": "black",
          "width": 5
         },
         "mode": "lines",
         "type": "scatter3d",
         "x": [
          0.12037404304848949,
          0.1297116280928751,
          null
         ],
         "y": [
          0.834506578088399,
          0.24891922943540667,
          null
         ],
         "z": [
          0.5376884422110553,
          0.9597989949748744,
          null
         ]
        },
        {
         "hoverinfo": "none",
         "line": {
          "color": "black",
          "width": 8
         },
         "mode": "lines",
         "type": "scatter3d",
         "x": [
          -0.1341208174448031,
          0.27639958067021775,
          null
         ],
         "y": [
          0.8258292378007893,
          -0.20141999669691893,
          null
         ],
         "z": [
          0.5477386934673367,
          0.9396984924623115,
          null
         ]
        },
        {
         "hoverinfo": "none",
         "line": {
          "color": "black",
          "width": 1
         },
         "mode": "lines",
         "type": "scatter3d",
         "x": [
          -0.1341208174448031,
          0,
          null
         ],
         "y": [
          0.8258292378007893,
          0,
          null
         ],
         "z": [
          0.5477386934673367,
          1,
          null
         ]
        },
        {
         "hoverinfo": "none",
         "line": {
          "color": "black",
          "width": 8
         },
         "mode": "lines",
         "type": "scatter3d",
         "x": [
          -0.3741885774371721,
          -0.600556325517356,
          null
         ],
         "y": [
          0.7408470838571601,
          -0.18070833075791126,
          null
         ],
         "z": [
          0.5577889447236182,
          0.778894472361809,
          null
         ]
        },
        {
         "hoverinfo": "none",
         "line": {
          "color": "black",
          "width": 4
         },
         "mode": "lines",
         "type": "scatter3d",
         "x": [
          -0.3741885774371721,
          -0.1922969882497981,
          null
         ],
         "y": [
          0.7408470838571601,
          -0.05309277854779562,
          null
         ],
         "z": [
          0.5577889447236182,
          0.9798994974874371,
          null
         ]
        },
        {
         "hoverinfo": "none",
         "line": {
          "color": "black",
          "width": 8
         },
         "mode": "lines",
         "type": "scatter3d",
         "x": [
          -0.5771143305124173,
          0,
          null
         ],
         "y": [
          0.5869392617861797,
          0,
          null
         ],
         "z": [
          0.5678391959798994,
          1,
          null
         ]
        },
        {
         "hoverinfo": "none",
         "line": {
          "color": "black",
          "width": 3
         },
         "mode": "lines",
         "type": "scatter3d",
         "x": [
          -0.7924588501224821,
          -0.1303084840790476,
          null
         ],
         "y": [
          -0.12007077438764355,
          0.20594207574432036,
          null
         ],
         "z": [
          0.5979899497487438,
          0.9698492462311559,
          null
         ]
        },
        {
         "hoverinfo": "none",
         "line": {
          "color": "black",
          "width": 1
         },
         "mode": "lines",
         "type": "scatter3d",
         "x": [
          -0.707456892094313,
          0.3962282650703626,
          null
         ],
         "y": [
          -0.360266373382285,
          -0.6400433729233012,
          null
         ],
         "z": [
          0.6080402010050252,
          0.6582914572864322,
          null
         ]
        },
        {
         "hoverinfo": "none",
         "line": {
          "color": "black",
          "width": 4
         },
         "mode": "lines",
         "type": "scatter3d",
         "x": [
          -0.707456892094313,
          0.5212824240995492,
          null
         ],
         "y": [
          -0.360266373382285,
          0.47563836827449124,
          null
         ],
         "z": [
          0.6080402010050252,
          0.7085427135678393,
          null
         ]
        },
        {
         "hoverinfo": "none",
         "line": {
          "color": "black",
          "width": 3
         },
         "mode": "lines",
         "type": "scatter3d",
         "x": [
          -0.5505913149039414,
          -0.2566312989684941,
          null
         ],
         "y": [
          -0.5610823440242639,
          -0.5438266327748627,
          null
         ],
         "z": [
          0.6180904522613064,
          0.7989949748743719,
          null
         ]
        },
        {
         "hoverinfo": "none",
         "line": {
          "color": "black",
          "width": 8
         },
         "mode": "lines",
         "type": "scatter3d",
         "x": [
          -0.09075695184030583,
          0.36776528457450497,
          null
         ],
         "y": [
          -0.7645099613068972,
          0.35546905741019574,
          null
         ],
         "z": [
          0.6381909547738693,
          0.8592964824120604,
          null
         ]
        },
        {
         "hoverinfo": "none",
         "line": {
          "color": "black",
          "width": 1
         },
         "mode": "lines",
         "type": "scatter3d",
         "x": [
          0.1633089131200265,
          0.5810756220933079,
          null
         ],
         "y": [
          -0.7437160329723511,
          -0.46440336134774246,
          null
         ],
         "z": [
          0.6482412060301508,
          0.6683417085427135,
          null
         ]
        },
        {
         "hoverinfo": "none",
         "line": {
          "color": "black",
          "width": 2
         },
         "mode": "lines",
         "type": "scatter3d",
         "x": [
          0.1633089131200265,
          -0.4107215962272207,
          null
         ],
         "y": [
          -0.7437160329723511,
          0.5202793617472665,
          null
         ],
         "z": [
          0.6482412060301508,
          0.7487437185929648,
          null
         ]
        },
        {
         "hoverinfo": "none",
         "line": {
          "color": "black",
          "width": 8
         },
         "mode": "lines",
         "type": "scatter3d",
         "x": [
          0.3962282650703626,
          0.5810756220933079,
          null
         ],
         "y": [
          -0.6400433729233012,
          -0.46440336134774246,
          null
         ],
         "z": [
          0.6582914572864322,
          0.6683417085427135,
          null
         ]
        },
        {
         "hoverinfo": "none",
         "line": {
          "color": "black",
          "width": 2
         },
         "mode": "lines",
         "type": "scatter3d",
         "x": [
          0.3962282650703626,
          0.5317207462626569,
          null
         ],
         "y": [
          -0.6400433729233012,
          -0.11411904010464476,
          null
         ],
         "z": [
          0.6582914572864322,
          0.8391959798994975,
          null
         ]
        },
        {
         "hoverinfo": "none",
         "line": {
          "color": "black",
          "width": 8
         },
         "mode": "lines",
         "type": "scatter3d",
         "x": [
          0.3962282650703626,
          -0.18633022541047584,
          null
         ],
         "y": [
          -0.6400433729233012,
          -0.3458620880912837,
          null
         ],
         "z": [
          0.6582914572864322,
          0.9195979899497488,
          null
         ]
        },
        {
         "hoverinfo": "none",
         "line": {
          "color": "black",
          "width": 8
         },
         "mode": "lines",
         "type": "scatter3d",
         "x": [
          0.6955838850071943,
          -0.18633022541047584,
          null
         ],
         "y": [
          -0.2365320439145132,
          -0.3458620880912837,
          null
         ],
         "z": [
          0.6783919597989949,
          0.9195979899497488,
          null
         ]
        },
        {
         "hoverinfo": "none",
         "line": {
          "color": "black",
          "width": 9
         },
         "mode": "lines",
         "type": "scatter3d",
         "x": [
          0.725096144076266,
          -0.2566312989684941,
          null
         ],
         "y": [
          0.01681974681893568,
          -0.5438266327748627,
          null
         ],
         "z": [
          0.6884422110552764,
          0.7989949748743719,
          null
         ]
        },
        {
         "hoverinfo": "none",
         "line": {
          "color": "black",
          "width": 6
         },
         "mode": "lines",
         "type": "scatter3d",
         "x": [
          0.6648572393833766,
          -0.600556325517356,
          null
         ],
         "y": [
          0.264713300257944,
          -0.18070833075791126,
          null
         ],
         "z": [
          0.6984924623115578,
          0.778894472361809,
          null
         ]
        },
        {
         "hoverinfo": "none",
         "line": {
          "color": "black",
          "width": 8
         },
         "mode": "lines",
         "type": "scatter3d",
         "x": [
          0.6648572393833766,
          -0.46736094041360504,
          null
         ],
         "y": [
          0.264713300257944,
          -0.3989235195509105,
          null
         ],
         "z": [
          0.6984924623115578,
          0.7889447236180904,
          null
         ]
        },
        {
         "hoverinfo": "none",
         "line": {
          "color": "black",
          "width": 9
         },
         "mode": "lines",
         "type": "scatter3d",
         "x": [
          0.6648572393833766,
          -0.2566312989684941,
          null
         ],
         "y": [
          0.264713300257944,
          -0.5438266327748627,
          null
         ],
         "z": [
          0.6984924623115578,
          0.7989949748743719,
          null
         ]
        },
        {
         "hoverinfo": "none",
         "line": {
          "color": "black",
          "width": 7
         },
         "mode": "lines",
         "type": "scatter3d",
         "x": [
          0.6648572393833766,
          0.36776528457450497,
          null
         ],
         "y": [
          0.264713300257944,
          0.35546905741019574,
          null
         ],
         "z": [
          0.6984924623115578,
          0.8592964824120604,
          null
         ]
        },
        {
         "hoverinfo": "none",
         "line": {
          "color": "black",
          "width": 9
         },
         "mode": "lines",
         "type": "scatter3d",
         "x": [
          0.6648572393833766,
          0.0720199661208389,
          null
         ],
         "y": [
          0.264713300257944,
          -0.3613409361011954,
          null
         ],
         "z": [
          0.6984924623115578,
          0.9296482412060301,
          null
         ]
        },
        {
         "hoverinfo": "none",
         "line": {
          "color": "black",
          "width": 9
         },
         "mode": "lines",
         "type": "scatter3d",
         "x": [
          0.5212824240995492,
          0.1400434946507435,
          null
         ],
         "y": [
          0.47563836827449124,
          0.4739452249640167,
          null
         ],
         "z": [
          0.7085427135678393,
          0.8693467336683418,
          null
         ]
        },
        {
         "hoverinfo": "none",
         "line": {
          "color": "black",
          "width": 3
         },
         "mode": "lines",
         "type": "scatter3d",
         "x": [
          0.3119136244605593,
          0.5087685882011274,
          null
         ],
         "y": [
          0.6215577541798972,
          0.14119264331946282,
          null
         ],
         "z": [
          0.7185929648241205,
          0.8492462311557789,
          null
         ]
        },
        {
         "hoverinfo": "none",
         "line": {
          "color": "black",
          "width": 3
         },
         "mode": "lines",
         "type": "scatter3d",
         "x": [
          0.06389728976483165,
          -0.5679012117000678,
          null
         ],
         "y": [
          0.6819062985636061,
          0.318935612734006,
          null
         ],
         "z": [
          0.728643216080402,
          0.7587939698492463,
          null
         ]
        },
        {
         "hoverinfo": "none",
         "line": {
          "color": "black",
          "width": 6
         },
         "mode": "lines",
         "type": "scatter3d",
         "x": [
          -0.18901287835010755,
          -0.4107215962272207,
          null
         ],
         "y": [
          0.646997753575633,
          0.5202793617472665,
          null
         ],
         "z": [
          0.7386934673366834,
          0.7487437185929648,
          null
         ]
        },
        {
         "hoverinfo": "none",
         "line": {
          "color": "black",
          "width": 4
         },
         "mode": "lines",
         "type": "scatter3d",
         "x": [
          -0.4107215962272207,
          -0.6353138707760849,
          null
         ],
         "y": [
          0.5202793617472665,
          0.07249033916421053,
          null
         ],
         "z": [
          0.7487437185929648,
          0.7688442211055277,
          null
         ]
        },
        {
         "hoverinfo": "none",
         "line": {
          "color": "black",
          "width": 5
         },
         "mode": "lines",
         "type": "scatter3d",
         "x": [
          -0.4107215962272207,
          -0.46736094041360504,
          null
         ],
         "y": [
          0.5202793617472665,
          -0.3989235195509105,
          null
         ],
         "z": [
          0.7487437185929648,
          0.7889447236180904,
          null
         ]
        },
        {
         "hoverinfo": "none",
         "line": {
          "color": "black",
          "width": 8
         },
         "mode": "lines",
         "type": "scatter3d",
         "x": [
          -0.5679012117000678,
          -0.46736094041360504,
          null
         ],
         "y": [
          0.318935612734006,
          -0.3989235195509105,
          null
         ],
         "z": [
          0.7587939698492463,
          0.7889447236180904,
          null
         ]
        },
        {
         "hoverinfo": "none",
         "line": {
          "color": "black",
          "width": 9
         },
         "mode": "lines",
         "type": "scatter3d",
         "x": [
          -0.6353138707760849,
          -0.42956390914738973,
          null
         ],
         "y": [
          0.07249033916421053,
          0.07986938119331266,
          null
         ],
         "z": [
          0.7688442211055277,
          0.8994974874371859,
          null
         ]
        },
        {
         "hoverinfo": "none",
         "line": {
          "color": "black",
          "width": 0
         },
         "mode": "lines",
         "type": "scatter3d",
         "x": [
          -0.6353138707760849,
          0.1297116280928751,
          null
         ],
         "y": [
          0.07249033916421053,
          0.24891922943540667,
          null
         ],
         "z": [
          0.7688442211055277,
          0.9597989949748744,
          null
         ]
        },
        {
         "hoverinfo": "none",
         "line": {
          "color": "black",
          "width": 3
         },
         "mode": "lines",
         "type": "scatter3d",
         "x": [
          -0.6353138707760849,
          -0.1303084840790476,
          null
         ],
         "y": [
          0.07249033916421053,
          0.20594207574432036,
          null
         ],
         "z": [
          0.7688442211055277,
          0.9698492462311559,
          null
         ]
        },
        {
         "hoverinfo": "none",
         "line": {
          "color": "black",
          "width": 6
         },
         "mode": "lines",
         "type": "scatter3d",
         "x": [
          -0.600556325517356,
          0.36776528457450497,
          null
         ],
         "y": [
          -0.18070833075791126,
          0.35546905741019574,
          null
         ],
         "z": [
          0.778894472361809,
          0.8592964824120604,
          null
         ]
        },
        {
         "hoverinfo": "none",
         "line": {
          "color": "black",
          "width": 8
         },
         "mode": "lines",
         "type": "scatter3d",
         "x": [
          -0.46736094041360504,
          0.43486403352118225,
          null
         ],
         "y": [
          -0.3989235195509105,
          -0.351298495616475,
          null
         ],
         "z": [
          0.7889447236180904,
          0.829145728643216,
          null
         ]
        },
        {
         "hoverinfo": "none",
         "line": {
          "color": "black",
          "width": 8
         },
         "mode": "lines",
         "type": "scatter3d",
         "x": [
          -0.46736094041360504,
          -0.3779945609644943,
          null
         ],
         "y": [
          -0.3989235195509105,
          -0.17275133261095033,
          null
         ],
         "z": [
          0.7889447236180904,
          0.9095477386934674,
          null
         ]
        },
        {
         "hoverinfo": "none",
         "line": {
          "color": "black",
          "width": 3
         },
         "mode": "lines",
         "type": "scatter3d",
         "x": [
          -0.46736094041360504,
          0.27639958067021775,
          null
         ],
         "y": [
          -0.3989235195509105,
          -0.20141999669691893,
          null
         ],
         "z": [
          0.7889447236180904,
          0.9396984924623115,
          null
         ]
        },
        {
         "hoverinfo": "none",
         "line": {
          "color": "black",
          "width": 5
         },
         "mode": "lines",
         "type": "scatter3d",
         "x": [
          -0.46736094041360504,
          0.1297116280928751,
          null
         ],
         "y": [
          -0.3989235195509105,
          0.24891922943540667,
          null
         ],
         "z": [
          0.7889447236180904,
          0.9597989949748744,
          null
         ]
        },
        {
         "hoverinfo": "none",
         "line": {
          "color": "black",
          "width": 9
         },
         "mode": "lines",
         "type": "scatter3d",
         "x": [
          -0.2566312989684941,
          -0.3292415201774607,
          null
         ],
         "y": [
          -0.5438266327748627,
          0.31699153843814987,
          null
         ],
         "z": [
          0.7989949748743719,
          0.8894472361809045,
          null
         ]
        },
        {
         "hoverinfo": "none",
         "line": {
          "color": "black",
          "width": 1
         },
         "mode": "lines",
         "type": "scatter3d",
         "x": [
          -0.2566312989684941,
          -0.1922969882497981,
          null
         ],
         "y": [
          -0.5438266327748627,
          -0.05309277854779562,
          null
         ],
         "z": [
          0.7989949748743719,
          0.9798994974874371,
          null
         ]
        },
        {
         "hoverinfo": "none",
         "line": {
          "color": "black",
          "width": 9
         },
         "mode": "lines",
         "type": "scatter3d",
         "x": [
          0.43486403352118225,
          0.0720199661208389,
          null
         ],
         "y": [
          -0.351298495616475,
          -0.3613409361011954,
          null
         ],
         "z": [
          0.829145728643216,
          0.9296482412060301,
          null
         ]
        },
        {
         "hoverinfo": "none",
         "line": {
          "color": "black",
          "width": 6
         },
         "mode": "lines",
         "type": "scatter3d",
         "x": [
          0.43486403352118225,
          0.30775790638944817,
          null
         ],
         "y": [
          -0.351298495616475,
          0.0571173779137144,
          null
         ],
         "z": [
          0.829145728643216,
          0.949748743718593,
          null
         ]
        },
        {
         "hoverinfo": "none",
         "line": {
          "color": "black",
          "width": 2
         },
         "mode": "lines",
         "type": "scatter3d",
         "x": [
          0.5087685882011274,
          0.27639958067021775,
          null
         ],
         "y": [
          0.14119264331946282,
          -0.20141999669691893,
          null
         ],
         "z": [
          0.8492462311557789,
          0.9396984924623115,
          null
         ]
        },
        {
         "hoverinfo": "none",
         "line": {
          "color": "black",
          "width": 0
         },
         "mode": "lines",
         "type": "scatter3d",
         "x": [
          0.1400434946507435,
          0.27639958067021775,
          null
         ],
         "y": [
          0.4739452249640167,
          -0.20141999669691893,
          null
         ],
         "z": [
          0.8693467336683418,
          0.9396984924623115,
          null
         ]
        },
        {
         "hoverinfo": "none",
         "line": {
          "color": "black",
          "width": 1
         },
         "mode": "lines",
         "type": "scatter3d",
         "x": [
          -0.11657616359218419,
          -0.3779945609644943,
          null
         ],
         "y": [
          0.4615960799092759,
          -0.17275133261095033,
          null
         ],
         "z": [
          0.879396984924623,
          0.9095477386934674,
          null
         ]
        },
        {
         "hoverinfo": "none",
         "line": {
          "color": "black",
          "width": 4
         },
         "mode": "lines",
         "type": "scatter3d",
         "x": [
          0.30775790638944817,
          0.0676279462623623,
          null
         ],
         "y": [
          0.0571173779137144,
          -0.12420127151757969,
          null
         ],
         "z": [
          0.949748743718593,
          0.9899497487437185,
          null
         ]
        },
        {
         "hoverinfo": "none",
         "line": {
          "color": "black",
          "width": 5
         },
         "mode": "lines",
         "type": "scatter3d",
         "x": [
          0.1297116280928751,
          -0.1922969882497981,
          null
         ],
         "y": [
          0.24891922943540667,
          -0.05309277854779562,
          null
         ],
         "z": [
          0.9597989949748744,
          0.9798994974874371,
          null
         ]
        },
        {
         "hoverinfo": "none",
         "line": {
          "color": "black",
          "width": 9
         },
         "mode": "lines",
         "type": "scatter3d",
         "x": [
          0.1297116280928751,
          0,
          null
         ],
         "y": [
          0.24891922943540667,
          0,
          null
         ],
         "z": [
          0.9597989949748744,
          1,
          null
         ]
        },
        {
         "hoverinfo": "text",
         "marker": {
          "color": "blue",
          "colorscale": [
           [
            0,
            "#440154"
           ],
           [
            0.1111111111111111,
            "#482878"
           ],
           [
            0.2222222222222222,
            "#3e4989"
           ],
           [
            0.3333333333333333,
            "#31688e"
           ],
           [
            0.4444444444444444,
            "#26828e"
           ],
           [
            0.5555555555555556,
            "#1f9e89"
           ],
           [
            0.6666666666666666,
            "#35b779"
           ],
           [
            0.7777777777777778,
            "#6ece58"
           ],
           [
            0.8888888888888888,
            "#b5de2b"
           ],
           [
            1,
            "#fde725"
           ]
          ],
          "line": {
           "color": "lightblue",
           "width": 0.5
          },
          "size": 6,
          "symbol": "circle"
         },
         "mode": "markers",
         "name": "actors",
         "text": [
          "0",
          "1",
          "2",
          "3",
          "4",
          "5",
          "6",
          "7",
          "8",
          "9",
          "10",
          "11",
          "12",
          "13",
          "14",
          "15",
          "16",
          "17",
          "18",
          "19",
          "20",
          "21",
          "22",
          "23",
          "24",
          "25",
          "26",
          "27",
          "28",
          "29",
          "30",
          "31",
          "32",
          "33",
          "34",
          "35",
          "36",
          "37",
          "38",
          "39",
          "40",
          "41",
          "42",
          "43",
          "44",
          "45",
          "46",
          "47",
          "48",
          "49",
          "50",
          "51",
          "52",
          "53",
          "54",
          "55",
          "56",
          "57",
          "58",
          "59",
          "60",
          "61",
          "62",
          "63",
          "64",
          "65",
          "66",
          "67",
          "68",
          "69",
          "70",
          "71",
          "72",
          "73",
          "74",
          "75",
          "76",
          "77",
          "78",
          "79",
          "80",
          "81",
          "82",
          "83",
          "84",
          "85",
          "86",
          "87",
          "88",
          "89",
          "90",
          "91",
          "92",
          "93",
          "94",
          "95",
          "96",
          "97",
          "98",
          "99",
          "100",
          "101",
          "102",
          "103",
          "104",
          "105",
          "106",
          "107",
          "108",
          "109",
          "110",
          "111",
          "112",
          "113",
          "114",
          "115",
          "116",
          "117",
          "118",
          "119",
          "120",
          "121",
          "122",
          "123",
          "124",
          "125",
          "126",
          "127",
          "128",
          "129",
          "130",
          "131",
          "132",
          "133",
          "134",
          "135",
          "136",
          "137",
          "138",
          "139",
          "140",
          "141",
          "142",
          "143",
          "144",
          "145",
          "146",
          "147",
          "148",
          "149",
          "150",
          "151",
          "152",
          "153",
          "154",
          "155",
          "156",
          "157",
          "158",
          "159",
          "160",
          "161",
          "162",
          "163",
          "164",
          "165",
          "166",
          "167",
          "168",
          "169",
          "170",
          "171",
          "172",
          "173",
          "174",
          "175",
          "176",
          "177",
          "178",
          "179",
          "180",
          "181",
          "182",
          "183",
          "184",
          "185",
          "186",
          "187",
          "188",
          "189",
          "190",
          "191",
          "192",
          "193",
          "194",
          "195",
          "196",
          "197",
          "198",
          "199"
         ],
         "type": "scatter3d",
         "x": [
          1.2246467991473532e-16,
          -0.032133952679065145,
          -0.19906354897238956,
          -0.13595244227377956,
          0.08699091031156504,
          0.28287365586258917,
          0.32653852628887875,
          0.20130943312962077,
          -0.02745271035429632,
          -0.2621154032369282,
          -0.4166634044954904,
          -0.44268961941831086,
          -0.3364695168897425,
          -0.13171703525515455,
          0.11556281947391066,
          0.3441774570903987,
          0.5024359229003386,
          0.557934993565241,
          0.5016558508965476,
          0.34686968146326486,
          0.12414761111548962,
          -0.12588429280142016,
          -0.36041865158594155,
          -0.5416042025803353,
          -0.6419805478430175,
          -0.6476851458340083,
          -0.5593208018755575,
          -0.3907102300020467,
          -0.16600286298928865,
          0.08426822572670396,
          0.3275469559381285,
          0.5334469074912569,
          0.67729665182849,
          0.7427005070540483,
          0.722933490894233,
          0.6211402465143849,
          0.44943909472304994,
          0.2271342624438953,
          -0.021693443738824616,
          -0.27091571301396306,
          -0.4951054392952383,
          -0.672034824294811,
          -0.7847039751073679,
          -0.8227463645485272,
          -0.7831291349132213,
          -0.6701371795582428,
          -0.49469427933914145,
          -0.2731277093851147,
          -0.02552158648393625,
          0.22617275089540043,
          0.46009396672206704,
          0.6563279444247275,
          0.7985178366343181,
          0.8751100997786688,
          0.8801565810810618,
          0.813632848484258,
          0.6812730069106526,
          0.49395828252674556,
          0.26672823542793117,
          0.01750774905872829,
          -0.23434121536311986,
          -0.4695271916732191,
          -0.6702820247214136,
          -0.8216546571450994,
          -0.9125581834726422,
          -0.9365042078689544,
          -0.8919836432498447,
          -0.7824796533348303,
          -0.6161246034909317,
          -0.40503694008954455,
          -0.1643943972580509,
          0.08868431031648284,
          0.3363668860791254,
          0.5613571369223281,
          0.7480816348934248,
          0.8837350468780757,
          0.9591176411373035,
          0.9692141584109936,
          0.9134816304942963,
          0.7958335820929668,
          0.6243280701168443,
          0.4105859500056902,
          0.16898247772841876,
          -0.08433109874112966,
          -0.33250966656464714,
          -0.5591285460316034,
          -0.7492577373693531,
          -0.8904277233305821,
          -0.9734264244291374,
          -0.9928784759284608,
          -0.9475723752818175,
          -0.8405173138299454,
          -0.678728644568649,
          -0.47275790495820047,
          -0.23599909505127642,
          0.016183422624492533,
          0.2674492764124154,
          0.5015353289119979,
          0.7033011304219116,
          0.8597006759110095,
          0.9606193521054072,
          0.9995234698449429,
          0.9738814815414809,
          0.8853301800948286,
          0.739575014981879,
          0.5460301977631995,
          0.31722051404782214,
          0.06798173585948922,
          -0.18549067049375184,
          -0.42668500783452756,
          -0.6398431952082979,
          -0.8109889569592988,
          -0.9288482441833449,
          -0.985601838057066,
          -0.9774199655907337,
          -0.9047419231328161,
          -0.7722794062760031,
          -0.5887395729275208,
          -0.3662817858898524,
          -0.11973939666335258,
          0.13434625214634502,
          0.3788192430037307,
          0.5970599024521844,
          0.7741176022559528,
          0.89774944367018,
          0.9592929774959421,
          0.9543101980031311,
          0.8829535645133417,
          0.7500220497040564,
          0.5646952188368541,
          0.3399549164860912,
          0.09172592356847682,
          -0.16221249071244484,
          -0.4034742971178234,
          -0.6143899953864282,
          -0.7793130144557557,
          -0.8858140940564723,
          -0.925672422221608,
          -0.8955829153536629,
          -0.7975160188443354,
          -0.6386889828957023,
          -0.4311344860611112,
          -0.1908820904593788,
          0.0632016554808522,
          0.3108397890520478,
          0.5319383843782858,
          0.7082279152172981,
          0.8248223009029717,
          0.8715636126463255,
          0.8440290778788562,
          0.7440964149681661,
          0.5799931250776793,
          0.36579375496206784,
          0.12037404304848949,
          -0.1341208174448031,
          -0.3741885774371721,
          -0.5771143305124173,
          -0.7231637330577864,
          -0.7976204808491804,
          -0.7924588501224821,
          -0.707456892094313,
          -0.5505913149039414,
          -0.33761069961500084,
          -0.09075695184030583,
          0.1633089131200265,
          0.3962282650703626,
          0.5810756220933079,
          0.6955838850071943,
          0.725096144076266,
          0.6648572393833766,
          0.5212824240995492,
          0.3119136244605593,
          0.06389728976483165,
          -0.18901287835010755,
          -0.4107215962272207,
          -0.5679012117000678,
          -0.6353138707760849,
          -0.600556325517356,
          -0.46736094041360504,
          -0.2566312989684941,
          -0.004587855210254107,
          0.24223438436005945,
          0.43486403352118225,
          0.5317207462626569,
          0.5087685882011274,
          0.36776528457450497,
          0.1400434946507435,
          -0.11657616359218419,
          -0.3292415201774607,
          -0.42956390914738973,
          -0.3779945609644943,
          -0.18633022541047584,
          0.0720199661208389,
          0.27639958067021775,
          0.30775790638944817,
          0.1297116280928751,
          -0.1303084840790476,
          -0.1922969882497981,
          0.0676279462623623,
          0
         ],
         "y": [
          0,
          0.13772038355838287,
          0.013064390318155485,
          -0.20226065614610675,
          -0.2668678901036732,
          -0.13401424783913019,
          0.10168251626089096,
          0.30859141231661874,
          0.39190035158772807,
          0.3225188776235315,
          0.1315137918562799,
          -0.11362004624810425,
          -0.3368222188476665,
          -0.4763264419321875,
          -0.49825173363421427,
          -0.4004031929174544,
          -0.20810634468897715,
          0.035012906592636533,
          0.27825169574601083,
          0.4744757592931101,
          0.5883828692100228,
          0.6014310998784991,
          0.5132463312223391,
          0.33991683015107377,
          0.10996675639301308,
          -0.14102055074902595,
          -0.3761544920686069,
          -0.5625162929478188,
          -0.6753274764028482,
          -0.7006183620080165,
          -0.6362556653968614,
          -0.49140789465100837,
          -0.2846991294366667,
          -0.0414163910048412,
          0.20980830538180167,
          0.44041813423680065,
          0.6250734399887283,
          0.7442105101438017,
          0.7858076019752953,
          0.7462518277390714,
          0.6303004235916108,
          0.4502178426846665,
          0.22423973382020593,
          -0.025437514247334803,
          -0.274918626495518,
          -0.5008976784258622,
          -0.682765486167671,
          -0.8043626009530863,
          -0.8552493047655827,
          -0.8314152882664261,
          -0.73540450884403,
          -0.575880733433753,
          -0.36670284861180913,
          -0.12561344513262568,
          0.1273322886833448,
          0.3714584584544138,
          0.5871418508099392,
          0.7573376574341647,
          0.8688473944810738,
          0.9132446793273558,
          0.8874047353964903,
          0.7936156341869542,
          0.639280955219031,
          0.4362525822106138,
          0.19985694006815632,
          -0.052303268368663655,
          -0.30167773672316983,
          -0.5301286325953671,
          -0.7212251598313059,
          -0.86138423684378,
          -0.9407830044644023,
          -0.9539872694962075,
          -0.9002612720894853,
          -0.7835468158432456,
          -0.6121222981915062,
          -0.3979730956273241,
          -0.1559228360378783,
          0.09741069134859666,
          0.3447616141867552,
          0.5693860611162309,
          0.7561787750638941,
          0.8926641829729847,
          0.9697996493796973,
          0.9825420908093567,
          0.9301452884781152,
          0.8161730402059268,
          0.648231607488682,
          0.43744261313650457,
          0.19769357018888423,
          -0.05528335749405927,
          -0.30494370330751364,
          -0.5350073360636081,
          -0.730510610694205,
          -0.8787675428113799,
          -0.970179853809575,
          -0.9988456807426714,
          -0.9629296662036767,
          -0.8647722339805256,
          -0.7107321949644987,
          -0.510773429174399,
          -0.27782226057861037,
          -0.026936336813276493,
          0.22566249737407673,
          0.4636303804992801,
          0.6715529720883432,
          0.8359399169400101,
          0.9460991367010397,
          0.9948350661714466,
          0.978925643575427,
          0.8993464141660742,
          0.7612257241603668,
          0.5735317455564173,
          0.3485089805742379,
          0.100897922544204,
          -0.15301429152536394,
          -0.39645300927462035,
          -0.6132578683301932,
          -0.7889563695067934,
          -0.9117388986054294,
          -0.9732699296082516,
          -0.9692794548088852,
          -0.8998917940492931,
          -0.7696651223338173,
          -0.5873333961357678,
          -0.3652617613625499,
          -0.11864579105488865,
          0.1354972094876758,
          0.37948128147239324,
          0.5961740871715794,
          0.7702061342015544,
          0.8890828876302689,
          0.9441194909258364,
          0.9311272108779202,
          0.8507953738854946,
          0.7087317523628855,
          0.515147027766033,
          0.2841937400165084,
          0.03299544072710666,
          -0.2195741338890703,
          -0.45428093654550455,
          -0.6529921505841256,
          -0.8001017444049664,
          -0.8838094476675942,
          -0.8971477100578715,
          -0.8386646672133121,
          -0.7126925523580707,
          -0.5291593752733467,
          -0.3029354494546556,
          -0.05274333023114333,
          0.20030268479764154,
          0.4344260812178058,
          0.6290554026008339,
          0.7666765082332472,
          0.834506578088399,
          0.8258292378007893,
          0.7408470838571601,
          0.5869392617861797,
          0.3782565293064855,
          0.13464204197246402,
          -0.12007077438764355,
          -0.360266373382285,
          -0.5610823440242639,
          -0.7010408490879112,
          -0.7645099613068972,
          -0.7437160329723511,
          -0.6400433729233012,
          -0.46440336134774246,
          -0.2365320439145132,
          0.01681974681893568,
          0.264713300257944,
          0.47563836827449124,
          0.6215577541798972,
          0.6819062985636061,
          0.646997753575633,
          0.5202793617472665,
          0.318935612734006,
          0.07249033916421053,
          -0.18070833075791126,
          -0.3989235195509105,
          -0.5438266327748627,
          -0.5877284863436261,
          -0.5200049057056794,
          -0.351298495616475,
          -0.11411904010464476,
          0.14119264331946282,
          0.35546905741019574,
          0.4739452249640167,
          0.4615960799092759,
          0.31699153843814987,
          0.07986938119331266,
          -0.17275133261095033,
          -0.3458620880912837,
          -0.3613409361011954,
          -0.20141999669691893,
          0.0571173779137144,
          0.24891922943540667,
          0.20594207574432036,
          -0.05309277854779562,
          -0.12420127151757969,
          0
         ],
         "z": [
          -1,
          -0.9899497487437185,
          -0.9798994974874372,
          -0.9698492462311558,
          -0.9597989949748744,
          -0.949748743718593,
          -0.9396984924623115,
          -0.9296482412060302,
          -0.9195979899497487,
          -0.9095477386934674,
          -0.8994974874371859,
          -0.8894472361809045,
          -0.8793969849246231,
          -0.8693467336683418,
          -0.8592964824120604,
          -0.8492462311557788,
          -0.8391959798994973,
          -0.8291457286432161,
          -0.8190954773869346,
          -0.8090452261306532,
          -0.798994974874372,
          -0.7889447236180905,
          -0.7788944723618089,
          -0.7688442211055275,
          -0.7587939698492463,
          -0.7487437185929648,
          -0.7386934673366833,
          -0.7286432160804021,
          -0.7185929648241206,
          -0.7085427135678393,
          -0.6984924623115578,
          -0.6884422110552765,
          -0.678391959798995,
          -0.6683417085427136,
          -0.6582914572864321,
          -0.6482412060301509,
          -0.6381909547738694,
          -0.6281407035175878,
          -0.6180904522613064,
          -0.6080402010050251,
          -0.5979899497487439,
          -0.5879396984924623,
          -0.5778894472361807,
          -0.5678391959798994,
          -0.5577889447236182,
          -0.5477386934673367,
          -0.5376884422110554,
          -0.5276381909547739,
          -0.5175879396984926,
          -0.5075376884422109,
          -0.4974874371859297,
          -0.48743718592964824,
          -0.4773869346733667,
          -0.4673366834170854,
          -0.45728643216080395,
          -0.4472361809045229,
          -0.4371859296482414,
          -0.4271356783919596,
          -0.4170854271356784,
          -0.4070351758793971,
          -0.3969849246231156,
          -0.3869346733668342,
          -0.37688442211055273,
          -0.36683417085427134,
          -0.35678391959799,
          -0.3467336683417085,
          -0.3366834170854271,
          -0.3266331658291457,
          -0.3165829145728643,
          -0.3065326633165828,
          -0.29648241206030146,
          -0.28643216080402006,
          -0.2763819095477387,
          -0.2663316582914572,
          -0.25628140703517577,
          -0.2462311557788945,
          -0.236180904522613,
          -0.2261306532663317,
          -0.21608040201005033,
          -0.20603015075376888,
          -0.19597989949748734,
          -0.18592964824120606,
          -0.17587939698492466,
          -0.16582914572864332,
          -0.15577889447236182,
          -0.14572864321608034,
          -0.13567839195979897,
          -0.12562814070351752,
          -0.11557788944723613,
          -0.10552763819095481,
          -0.09547738693467336,
          -0.08542713567839195,
          -0.07537688442211053,
          -0.06532663316582904,
          -0.05527638190954783,
          -0.04522613065326637,
          -0.035175879396985035,
          -0.025125628140703495,
          -0.015075376884422157,
          -0.005025125628140692,
          0.005025125628140593,
          0.015075376884422058,
          0.025125628140703616,
          0.03517587939698494,
          0.045226130653266486,
          0.05527638190954773,
          0.06532663316582916,
          0.07537688442211064,
          0.08542713567839207,
          0.09547738693467349,
          0.10552763819095472,
          0.11557788944723603,
          0.12562814070351763,
          0.13567839195979908,
          0.14572864321608045,
          0.15577889447236173,
          0.16582914572864324,
          0.17587939698492458,
          0.18592964824120597,
          0.19597989949748745,
          0.20603015075376876,
          0.21608040201005022,
          0.22613065326633158,
          0.23618090452261312,
          0.24623115577889462,
          0.25628140703517593,
          0.26633165829145716,
          0.2763819095477386,
          0.2864321608040202,
          0.29648241206030157,
          0.30653266331658297,
          0.3165829145728642,
          0.3266331658291456,
          0.3366834170854272,
          0.3467336683417086,
          0.3567839195979901,
          0.3668341708542712,
          0.3768844221105527,
          0.3869346733668343,
          0.3969849246231157,
          0.4070351758793972,
          0.41708542713567837,
          0.4271356783919597,
          0.43718592964824127,
          0.44723618090452255,
          0.45728643216080406,
          0.4673366834170853,
          0.4773869346733668,
          0.48743718592964813,
          0.49748743718592975,
          0.5075376884422113,
          0.5175879396984923,
          0.5276381909547738,
          0.5376884422110553,
          0.5477386934673367,
          0.5577889447236182,
          0.5678391959798994,
          0.5778894472361809,
          0.5879396984924623,
          0.5979899497487438,
          0.6080402010050252,
          0.6180904522613064,
          0.6281407035175879,
          0.6381909547738693,
          0.6482412060301508,
          0.6582914572864322,
          0.6683417085427135,
          0.6783919597989949,
          0.6884422110552764,
          0.6984924623115578,
          0.7085427135678393,
          0.7185929648241205,
          0.728643216080402,
          0.7386934673366834,
          0.7487437185929648,
          0.7587939698492463,
          0.7688442211055277,
          0.778894472361809,
          0.7889447236180904,
          0.7989949748743719,
          0.8090452261306533,
          0.8190954773869348,
          0.829145728643216,
          0.8391959798994975,
          0.8492462311557789,
          0.8592964824120604,
          0.8693467336683418,
          0.879396984924623,
          0.8894472361809045,
          0.8994974874371859,
          0.9095477386934674,
          0.9195979899497488,
          0.9296482412060301,
          0.9396984924623115,
          0.949748743718593,
          0.9597989949748744,
          0.9698492462311559,
          0.9798994974874371,
          0.9899497487437185,
          1
         ]
        }
       ],
       "layout": {
        "height": 1000,
        "hovermode": "closest",
        "margin": {
         "t": 100
        },
        "scene": {
         "xaxis": {
          "showbackground": false,
          "showgrid": true,
          "showline": false,
          "showticklabels": false,
          "title": {
           "text": ""
          },
          "zeroline": false
         },
         "yaxis": {
          "showbackground": false,
          "showgrid": true,
          "showline": false,
          "showticklabels": false,
          "title": {
           "text": ""
          },
          "zeroline": false
         },
         "zaxis": {
          "showbackground": false,
          "showgrid": true,
          "showline": false,
          "showticklabels": false,
          "title": {
           "text": ""
          },
          "zeroline": false
         }
        },
        "showlegend": false,
        "template": {
         "data": {
          "bar": [
           {
            "error_x": {
             "color": "#2a3f5f"
            },
            "error_y": {
             "color": "#2a3f5f"
            },
            "marker": {
             "line": {
              "color": "#E5ECF6",
              "width": 0.5
             }
            },
            "type": "bar"
           }
          ],
          "barpolar": [
           {
            "marker": {
             "line": {
              "color": "#E5ECF6",
              "width": 0.5
             }
            },
            "type": "barpolar"
           }
          ],
          "carpet": [
           {
            "aaxis": {
             "endlinecolor": "#2a3f5f",
             "gridcolor": "white",
             "linecolor": "white",
             "minorgridcolor": "white",
             "startlinecolor": "#2a3f5f"
            },
            "baxis": {
             "endlinecolor": "#2a3f5f",
             "gridcolor": "white",
             "linecolor": "white",
             "minorgridcolor": "white",
             "startlinecolor": "#2a3f5f"
            },
            "type": "carpet"
           }
          ],
          "choropleth": [
           {
            "colorbar": {
             "outlinewidth": 0,
             "ticks": ""
            },
            "type": "choropleth"
           }
          ],
          "contour": [
           {
            "colorbar": {
             "outlinewidth": 0,
             "ticks": ""
            },
            "colorscale": [
             [
              0,
              "#0d0887"
             ],
             [
              0.1111111111111111,
              "#46039f"
             ],
             [
              0.2222222222222222,
              "#7201a8"
             ],
             [
              0.3333333333333333,
              "#9c179e"
             ],
             [
              0.4444444444444444,
              "#bd3786"
             ],
             [
              0.5555555555555556,
              "#d8576b"
             ],
             [
              0.6666666666666666,
              "#ed7953"
             ],
             [
              0.7777777777777778,
              "#fb9f3a"
             ],
             [
              0.8888888888888888,
              "#fdca26"
             ],
             [
              1,
              "#f0f921"
             ]
            ],
            "type": "contour"
           }
          ],
          "contourcarpet": [
           {
            "colorbar": {
             "outlinewidth": 0,
             "ticks": ""
            },
            "type": "contourcarpet"
           }
          ],
          "heatmap": [
           {
            "colorbar": {
             "outlinewidth": 0,
             "ticks": ""
            },
            "colorscale": [
             [
              0,
              "#0d0887"
             ],
             [
              0.1111111111111111,
              "#46039f"
             ],
             [
              0.2222222222222222,
              "#7201a8"
             ],
             [
              0.3333333333333333,
              "#9c179e"
             ],
             [
              0.4444444444444444,
              "#bd3786"
             ],
             [
              0.5555555555555556,
              "#d8576b"
             ],
             [
              0.6666666666666666,
              "#ed7953"
             ],
             [
              0.7777777777777778,
              "#fb9f3a"
             ],
             [
              0.8888888888888888,
              "#fdca26"
             ],
             [
              1,
              "#f0f921"
             ]
            ],
            "type": "heatmap"
           }
          ],
          "heatmapgl": [
           {
            "colorbar": {
             "outlinewidth": 0,
             "ticks": ""
            },
            "colorscale": [
             [
              0,
              "#0d0887"
             ],
             [
              0.1111111111111111,
              "#46039f"
             ],
             [
              0.2222222222222222,
              "#7201a8"
             ],
             [
              0.3333333333333333,
              "#9c179e"
             ],
             [
              0.4444444444444444,
              "#bd3786"
             ],
             [
              0.5555555555555556,
              "#d8576b"
             ],
             [
              0.6666666666666666,
              "#ed7953"
             ],
             [
              0.7777777777777778,
              "#fb9f3a"
             ],
             [
              0.8888888888888888,
              "#fdca26"
             ],
             [
              1,
              "#f0f921"
             ]
            ],
            "type": "heatmapgl"
           }
          ],
          "histogram": [
           {
            "marker": {
             "colorbar": {
              "outlinewidth": 0,
              "ticks": ""
             }
            },
            "type": "histogram"
           }
          ],
          "histogram2d": [
           {
            "colorbar": {
             "outlinewidth": 0,
             "ticks": ""
            },
            "colorscale": [
             [
              0,
              "#0d0887"
             ],
             [
              0.1111111111111111,
              "#46039f"
             ],
             [
              0.2222222222222222,
              "#7201a8"
             ],
             [
              0.3333333333333333,
              "#9c179e"
             ],
             [
              0.4444444444444444,
              "#bd3786"
             ],
             [
              0.5555555555555556,
              "#d8576b"
             ],
             [
              0.6666666666666666,
              "#ed7953"
             ],
             [
              0.7777777777777778,
              "#fb9f3a"
             ],
             [
              0.8888888888888888,
              "#fdca26"
             ],
             [
              1,
              "#f0f921"
             ]
            ],
            "type": "histogram2d"
           }
          ],
          "histogram2dcontour": [
           {
            "colorbar": {
             "outlinewidth": 0,
             "ticks": ""
            },
            "colorscale": [
             [
              0,
              "#0d0887"
             ],
             [
              0.1111111111111111,
              "#46039f"
             ],
             [
              0.2222222222222222,
              "#7201a8"
             ],
             [
              0.3333333333333333,
              "#9c179e"
             ],
             [
              0.4444444444444444,
              "#bd3786"
             ],
             [
              0.5555555555555556,
              "#d8576b"
             ],
             [
              0.6666666666666666,
              "#ed7953"
             ],
             [
              0.7777777777777778,
              "#fb9f3a"
             ],
             [
              0.8888888888888888,
              "#fdca26"
             ],
             [
              1,
              "#f0f921"
             ]
            ],
            "type": "histogram2dcontour"
           }
          ],
          "mesh3d": [
           {
            "colorbar": {
             "outlinewidth": 0,
             "ticks": ""
            },
            "type": "mesh3d"
           }
          ],
          "parcoords": [
           {
            "line": {
             "colorbar": {
              "outlinewidth": 0,
              "ticks": ""
             }
            },
            "type": "parcoords"
           }
          ],
          "pie": [
           {
            "automargin": true,
            "type": "pie"
           }
          ],
          "scatter": [
           {
            "marker": {
             "colorbar": {
              "outlinewidth": 0,
              "ticks": ""
             }
            },
            "type": "scatter"
           }
          ],
          "scatter3d": [
           {
            "line": {
             "colorbar": {
              "outlinewidth": 0,
              "ticks": ""
             }
            },
            "marker": {
             "colorbar": {
              "outlinewidth": 0,
              "ticks": ""
             }
            },
            "type": "scatter3d"
           }
          ],
          "scattercarpet": [
           {
            "marker": {
             "colorbar": {
              "outlinewidth": 0,
              "ticks": ""
             }
            },
            "type": "scattercarpet"
           }
          ],
          "scattergeo": [
           {
            "marker": {
             "colorbar": {
              "outlinewidth": 0,
              "ticks": ""
             }
            },
            "type": "scattergeo"
           }
          ],
          "scattergl": [
           {
            "marker": {
             "colorbar": {
              "outlinewidth": 0,
              "ticks": ""
             }
            },
            "type": "scattergl"
           }
          ],
          "scattermapbox": [
           {
            "marker": {
             "colorbar": {
              "outlinewidth": 0,
              "ticks": ""
             }
            },
            "type": "scattermapbox"
           }
          ],
          "scatterpolar": [
           {
            "marker": {
             "colorbar": {
              "outlinewidth": 0,
              "ticks": ""
             }
            },
            "type": "scatterpolar"
           }
          ],
          "scatterpolargl": [
           {
            "marker": {
             "colorbar": {
              "outlinewidth": 0,
              "ticks": ""
             }
            },
            "type": "scatterpolargl"
           }
          ],
          "scatterternary": [
           {
            "marker": {
             "colorbar": {
              "outlinewidth": 0,
              "ticks": ""
             }
            },
            "type": "scatterternary"
           }
          ],
          "surface": [
           {
            "colorbar": {
             "outlinewidth": 0,
             "ticks": ""
            },
            "colorscale": [
             [
              0,
              "#0d0887"
             ],
             [
              0.1111111111111111,
              "#46039f"
             ],
             [
              0.2222222222222222,
              "#7201a8"
             ],
             [
              0.3333333333333333,
              "#9c179e"
             ],
             [
              0.4444444444444444,
              "#bd3786"
             ],
             [
              0.5555555555555556,
              "#d8576b"
             ],
             [
              0.6666666666666666,
              "#ed7953"
             ],
             [
              0.7777777777777778,
              "#fb9f3a"
             ],
             [
              0.8888888888888888,
              "#fdca26"
             ],
             [
              1,
              "#f0f921"
             ]
            ],
            "type": "surface"
           }
          ],
          "table": [
           {
            "cells": {
             "fill": {
              "color": "#EBF0F8"
             },
             "line": {
              "color": "white"
             }
            },
            "header": {
             "fill": {
              "color": "#C8D4E3"
             },
             "line": {
              "color": "white"
             }
            },
            "type": "table"
           }
          ]
         },
         "layout": {
          "annotationdefaults": {
           "arrowcolor": "#2a3f5f",
           "arrowhead": 0,
           "arrowwidth": 1
          },
          "autotypenumbers": "strict",
          "coloraxis": {
           "colorbar": {
            "outlinewidth": 0,
            "ticks": ""
           }
          },
          "colorscale": {
           "diverging": [
            [
             0,
             "#8e0152"
            ],
            [
             0.1,
             "#c51b7d"
            ],
            [
             0.2,
             "#de77ae"
            ],
            [
             0.3,
             "#f1b6da"
            ],
            [
             0.4,
             "#fde0ef"
            ],
            [
             0.5,
             "#f7f7f7"
            ],
            [
             0.6,
             "#e6f5d0"
            ],
            [
             0.7,
             "#b8e186"
            ],
            [
             0.8,
             "#7fbc41"
            ],
            [
             0.9,
             "#4d9221"
            ],
            [
             1,
             "#276419"
            ]
           ],
           "sequential": [
            [
             0,
             "#0d0887"
            ],
            [
             0.1111111111111111,
             "#46039f"
            ],
            [
             0.2222222222222222,
             "#7201a8"
            ],
            [
             0.3333333333333333,
             "#9c179e"
            ],
            [
             0.4444444444444444,
             "#bd3786"
            ],
            [
             0.5555555555555556,
             "#d8576b"
            ],
            [
             0.6666666666666666,
             "#ed7953"
            ],
            [
             0.7777777777777778,
             "#fb9f3a"
            ],
            [
             0.8888888888888888,
             "#fdca26"
            ],
            [
             1,
             "#f0f921"
            ]
           ],
           "sequentialminus": [
            [
             0,
             "#0d0887"
            ],
            [
             0.1111111111111111,
             "#46039f"
            ],
            [
             0.2222222222222222,
             "#7201a8"
            ],
            [
             0.3333333333333333,
             "#9c179e"
            ],
            [
             0.4444444444444444,
             "#bd3786"
            ],
            [
             0.5555555555555556,
             "#d8576b"
            ],
            [
             0.6666666666666666,
             "#ed7953"
            ],
            [
             0.7777777777777778,
             "#fb9f3a"
            ],
            [
             0.8888888888888888,
             "#fdca26"
            ],
            [
             1,
             "#f0f921"
            ]
           ]
          },
          "colorway": [
           "#636efa",
           "#EF553B",
           "#00cc96",
           "#ab63fa",
           "#FFA15A",
           "#19d3f3",
           "#FF6692",
           "#B6E880",
           "#FF97FF",
           "#FECB52"
          ],
          "font": {
           "color": "#2a3f5f"
          },
          "geo": {
           "bgcolor": "white",
           "lakecolor": "white",
           "landcolor": "#E5ECF6",
           "showlakes": true,
           "showland": true,
           "subunitcolor": "white"
          },
          "hoverlabel": {
           "align": "left"
          },
          "hovermode": "closest",
          "mapbox": {
           "style": "light"
          },
          "paper_bgcolor": "white",
          "plot_bgcolor": "#E5ECF6",
          "polar": {
           "angularaxis": {
            "gridcolor": "white",
            "linecolor": "white",
            "ticks": ""
           },
           "bgcolor": "#E5ECF6",
           "radialaxis": {
            "gridcolor": "white",
            "linecolor": "white",
            "ticks": ""
           }
          },
          "scene": {
           "xaxis": {
            "backgroundcolor": "#E5ECF6",
            "gridcolor": "white",
            "gridwidth": 2,
            "linecolor": "white",
            "showbackground": true,
            "ticks": "",
            "zerolinecolor": "white"
           },
           "yaxis": {
            "backgroundcolor": "#E5ECF6",
            "gridcolor": "white",
            "gridwidth": 2,
            "linecolor": "white",
            "showbackground": true,
            "ticks": "",
            "zerolinecolor": "white"
           },
           "zaxis": {
            "backgroundcolor": "#E5ECF6",
            "gridcolor": "white",
            "gridwidth": 2,
            "linecolor": "white",
            "showbackground": true,
            "ticks": "",
            "zerolinecolor": "white"
           }
          },
          "shapedefaults": {
           "line": {
            "color": "#2a3f5f"
           }
          },
          "ternary": {
           "aaxis": {
            "gridcolor": "white",
            "linecolor": "white",
            "ticks": ""
           },
           "baxis": {
            "gridcolor": "white",
            "linecolor": "white",
            "ticks": ""
           },
           "bgcolor": "#E5ECF6",
           "caxis": {
            "gridcolor": "white",
            "linecolor": "white",
            "ticks": ""
           }
          },
          "title": {
           "x": 0.05
          },
          "xaxis": {
           "automargin": true,
           "gridcolor": "white",
           "linecolor": "white",
           "ticks": "",
           "title": {
            "standoff": 15
           },
           "zerolinecolor": "white",
           "zerolinewidth": 2
          },
          "yaxis": {
           "automargin": true,
           "gridcolor": "white",
           "linecolor": "white",
           "ticks": "",
           "title": {
            "standoff": 15
           },
           "zerolinecolor": "white",
           "zerolinewidth": 2
          }
         }
        },
        "title": {
         "text": "sample 3D graph"
        },
        "width": 1000
       }
      },
      "text/html": [
       "<div>                            <div id=\"c55ca4b8-2b8a-47ff-a021-0eff57b896a3\" class=\"plotly-graph-div\" style=\"height:1000px; width:1000px;\"></div>            <script type=\"text/javascript\">                require([\"plotly\"], function(Plotly) {                    window.PLOTLYENV=window.PLOTLYENV || {};                                    if (document.getElementById(\"c55ca4b8-2b8a-47ff-a021-0eff57b896a3\")) {                    Plotly.newPlot(                        \"c55ca4b8-2b8a-47ff-a021-0eff57b896a3\",                        [{\"hoverinfo\": \"none\", \"line\": {\"color\": \"black\", \"width\": 3}, \"mode\": \"lines\", \"type\": \"scatter3d\", \"x\": [1.2246467991473532e-16, -0.3364695168897425, null], \"y\": [0.0, -0.3368222188476665, null], \"z\": [-1.0, -0.8793969849246231, null]}, {\"hoverinfo\": \"none\", \"line\": {\"color\": \"black\", \"width\": 5}, \"mode\": \"lines\", \"type\": \"scatter3d\", \"x\": [1.2246467991473532e-16, -0.2731277093851147, null], \"y\": [0.0, -0.8043626009530863, null], \"z\": [-1.0, -0.5276381909547739, null]}, {\"hoverinfo\": \"none\", \"line\": {\"color\": \"black\", \"width\": 9}, \"mode\": \"lines\", \"type\": \"scatter3d\", \"x\": [1.2246467991473532e-16, -0.8405173138299454, null], \"y\": [0.0, -0.5350073360636081, null], \"z\": [-1.0, -0.08542713567839195, null]}, {\"hoverinfo\": \"none\", \"line\": {\"color\": \"black\", \"width\": 6}, \"mode\": \"lines\", \"type\": \"scatter3d\", \"x\": [1.2246467991473532e-16, -0.8109889569592988, null], \"y\": [0.0, 0.5735317455564173, null], \"z\": [-1.0, 0.11557788944723603, null]}, {\"hoverinfo\": \"none\", \"line\": {\"color\": \"black\", \"width\": 4}, \"mode\": \"lines\", \"type\": \"scatter3d\", \"x\": [1.2246467991473532e-16, 0.9592929774959421, null], \"y\": [0.0, -0.11864579105488865, null], \"z\": [-1.0, 0.25628140703517593, null]}, {\"hoverinfo\": \"none\", \"line\": {\"color\": \"black\", \"width\": 1}, \"mode\": \"lines\", \"type\": \"scatter3d\", \"x\": [1.2246467991473532e-16, -0.4311344860611112, null], \"y\": [0.0, -0.8001017444049664, null], \"z\": [-1.0, 0.41708542713567837, null]}, {\"hoverinfo\": \"none\", \"line\": {\"color\": \"black\", \"width\": 3}, \"mode\": \"lines\", \"type\": \"scatter3d\", \"x\": [1.2246467991473532e-16, 0.0632016554808522, null], \"y\": [0.0, -0.8971477100578715, null], \"z\": [-1.0, 0.43718592964824127, null]}, {\"hoverinfo\": \"none\", \"line\": {\"color\": \"black\", \"width\": 2}, \"mode\": \"lines\", \"type\": \"scatter3d\", \"x\": [1.2246467991473532e-16, -0.707456892094313, null], \"y\": [0.0, -0.360266373382285, null], \"z\": [-1.0, 0.6080402010050252, null]}, {\"hoverinfo\": \"none\", \"line\": {\"color\": \"black\", \"width\": 0}, \"mode\": \"lines\", \"type\": \"scatter3d\", \"x\": [-0.032133952679065145, -0.5416042025803353, null], \"y\": [0.13772038355838287, 0.33991683015107377, null], \"z\": [-0.9899497487437185, -0.7688442211055275, null]}, {\"hoverinfo\": \"none\", \"line\": {\"color\": \"black\", \"width\": 4}, \"mode\": \"lines\", \"type\": \"scatter3d\", \"x\": [-0.032133952679065145, -0.5593208018755575, null], \"y\": [0.13772038355838287, -0.3761544920686069, null], \"z\": [-0.9899497487437185, -0.7386934673366833, null]}, {\"hoverinfo\": \"none\", \"line\": {\"color\": \"black\", \"width\": 6}, \"mode\": \"lines\", \"type\": \"scatter3d\", \"x\": [-0.032133952679065145, 0.9692141584109936, null], \"y\": [0.13772038355838287, 0.09741069134859666, null], \"z\": [-0.9899497487437185, -0.2261306532663317, null]}, {\"hoverinfo\": \"none\", \"line\": {\"color\": \"black\", \"width\": 7}, \"mode\": \"lines\", \"type\": \"scatter3d\", \"x\": [-0.032133952679065145, 0.9134816304942963, null], \"y\": [0.13772038355838287, 0.3447616141867552, null], \"z\": [-0.9899497487437185, -0.21608040201005033, null]}, {\"hoverinfo\": \"none\", \"line\": {\"color\": \"black\", \"width\": 8}, \"mode\": \"lines\", \"type\": \"scatter3d\", \"x\": [-0.032133952679065145, 0.6243280701168443, null], \"y\": [0.13772038355838287, 0.7561787750638941, null], \"z\": [-0.9899497487437185, -0.19597989949748734, null]}, {\"hoverinfo\": \"none\", \"line\": {\"color\": \"black\", \"width\": 6}, \"mode\": \"lines\", \"type\": \"scatter3d\", \"x\": [-0.032133952679065145, 0.89774944367018, null], \"y\": [0.13772038355838287, -0.3652617613625499, null], \"z\": [-0.9899497487437185, 0.24623115577889462, null]}, {\"hoverinfo\": \"none\", \"line\": {\"color\": \"black\", \"width\": 5}, \"mode\": \"lines\", \"type\": \"scatter3d\", \"x\": [-0.032133952679065145, 0.3962282650703626, null], \"y\": [0.13772038355838287, -0.6400433729233012, null], \"z\": [-0.9899497487437185, 0.6582914572864322, null]}, {\"hoverinfo\": \"none\", \"line\": {\"color\": \"black\", \"width\": 5}, \"mode\": \"lines\", \"type\": \"scatter3d\", \"x\": [-0.032133952679065145, -0.1303084840790476, null], \"y\": [0.13772038355838287, 0.20594207574432036, null], \"z\": [-0.9899497487437185, 0.9698492462311559, null]}, {\"hoverinfo\": \"none\", \"line\": {\"color\": \"black\", \"width\": 0}, \"mode\": \"lines\", \"type\": \"scatter3d\", \"x\": [-0.19906354897238956, -0.3364695168897425, null], \"y\": [0.013064390318155485, -0.3368222188476665, null], \"z\": [-0.9798994974874372, -0.8793969849246231, null]}, {\"hoverinfo\": \"none\", \"line\": {\"color\": \"black\", \"width\": 2}, \"mode\": \"lines\", \"type\": \"scatter3d\", \"x\": [-0.19906354897238956, 0.7033011304219116, null], \"y\": [0.013064390318155485, -0.7107321949644987, null], \"z\": [-0.9798994974874372, -0.015075376884422157, null]}, {\"hoverinfo\": \"none\", \"line\": {\"color\": \"black\", \"width\": 5}, \"mode\": \"lines\", \"type\": \"scatter3d\", \"x\": [-0.19906354897238956, 0.5970599024521844, null], \"y\": [0.013064390318155485, -0.7696651223338173, null], \"z\": [-0.9798994974874372, 0.22613065326633158, null]}, {\"hoverinfo\": \"none\", \"line\": {\"color\": \"black\", \"width\": 5}, \"mode\": \"lines\", \"type\": \"scatter3d\", \"x\": [-0.19906354897238956, 0.5646952188368541, null], \"y\": [0.013064390318155485, 0.7702061342015544, null], \"z\": [-0.9798994974874372, 0.29648241206030157, null]}, {\"hoverinfo\": \"none\", \"line\": {\"color\": \"black\", \"width\": 0}, \"mode\": \"lines\", \"type\": \"scatter3d\", \"x\": [-0.19906354897238956, -0.4034742971178234, null], \"y\": [0.013064390318155485, 0.8507953738854946, null], \"z\": [-0.9798994974874372, 0.3366834170854272, null]}, {\"hoverinfo\": \"none\", \"line\": {\"color\": \"black\", \"width\": 0}, \"mode\": \"lines\", \"type\": \"scatter3d\", \"x\": [-0.19906354897238956, 0.5319383843782858, null], \"y\": [0.013064390318155485, -0.7126925523580707, null], \"z\": [-0.9798994974874372, 0.45728643216080406, null]}, {\"hoverinfo\": \"none\", \"line\": {\"color\": \"black\", \"width\": 4}, \"mode\": \"lines\", \"type\": \"scatter3d\", \"x\": [-0.19906354897238956, 0.3962282650703626, null], \"y\": [0.013064390318155485, -0.6400433729233012, null], \"z\": [-0.9798994974874372, 0.6582914572864322, null]}, {\"hoverinfo\": \"none\", \"line\": {\"color\": \"black\", \"width\": 0}, \"mode\": \"lines\", \"type\": \"scatter3d\", \"x\": [-0.19906354897238956, 0.725096144076266, null], \"y\": [0.013064390318155485, 0.01681974681893568, null], \"z\": [-0.9798994974874372, 0.6884422110552764, null]}, {\"hoverinfo\": \"none\", \"line\": {\"color\": \"black\", \"width\": 9}, \"mode\": \"lines\", \"type\": \"scatter3d\", \"x\": [-0.19906354897238956, -0.4107215962272207, null], \"y\": [0.013064390318155485, 0.5202793617472665, null], \"z\": [-0.9798994974874372, 0.7487437185929648, null]}, {\"hoverinfo\": \"none\", \"line\": {\"color\": \"black\", \"width\": 8}, \"mode\": \"lines\", \"type\": \"scatter3d\", \"x\": [-0.13595244227377956, -0.44268961941831086, null], \"y\": [-0.20226065614610675, -0.11362004624810425, null], \"z\": [-0.9698492462311558, -0.8894472361809045, null]}, {\"hoverinfo\": \"none\", \"line\": {\"color\": \"black\", \"width\": 4}, \"mode\": \"lines\", \"type\": \"scatter3d\", \"x\": [-0.13595244227377956, 0.3108397890520478, null], \"y\": [-0.20226065614610675, -0.8386646672133121, null], \"z\": [-0.9698492462311558, 0.44723618090452255, null]}, {\"hoverinfo\": \"none\", \"line\": {\"color\": \"black\", \"width\": 6}, \"mode\": \"lines\", \"type\": \"scatter3d\", \"x\": [-0.13595244227377956, -0.7231637330577864, null], \"y\": [-0.20226065614610675, 0.3782565293064855, null], \"z\": [-0.9698492462311558, 0.5778894472361809, null]}, {\"hoverinfo\": \"none\", \"line\": {\"color\": \"black\", \"width\": 0}, \"mode\": \"lines\", \"type\": \"scatter3d\", \"x\": [-0.13595244227377956, 0.06389728976483165, null], \"y\": [-0.20226065614610675, 0.6819062985636061, null], \"z\": [-0.9698492462311558, 0.728643216080402, null]}, {\"hoverinfo\": \"none\", \"line\": {\"color\": \"black\", \"width\": 0}, \"mode\": \"lines\", \"type\": \"scatter3d\", \"x\": [-0.13595244227377956, 0.30775790638944817, null], \"y\": [-0.20226065614610675, 0.0571173779137144, null], \"z\": [-0.9698492462311558, 0.949748743718593, null]}, {\"hoverinfo\": \"none\", \"line\": {\"color\": \"black\", \"width\": 6}, \"mode\": \"lines\", \"type\": \"scatter3d\", \"x\": [0.08699091031156504, -0.021693443738824616, null], \"y\": [-0.2668678901036732, 0.7858076019752953, null], \"z\": [-0.9597989949748744, -0.6180904522613064, null]}, {\"hoverinfo\": \"none\", \"line\": {\"color\": \"black\", \"width\": 8}, \"mode\": \"lines\", \"type\": \"scatter3d\", \"x\": [0.08699091031156504, -0.08433109874112966, null], \"y\": [-0.2668678901036732, 0.9825420908093567, null], \"z\": [-0.9597989949748744, -0.16582914572864332, null]}, {\"hoverinfo\": \"none\", \"line\": {\"color\": \"black\", \"width\": 4}, \"mode\": \"lines\", \"type\": \"scatter3d\", \"x\": [0.08699091031156504, -0.9734264244291374, null], \"y\": [-0.2668678901036732, 0.19769357018888423, null], \"z\": [-0.9597989949748744, -0.11557788944723613, null]}, {\"hoverinfo\": \"none\", \"line\": {\"color\": \"black\", \"width\": 9}, \"mode\": \"lines\", \"type\": \"scatter3d\", \"x\": [0.08699091031156504, 0.5015353289119979, null], \"y\": [-0.2668678901036732, -0.8647722339805256, null], \"z\": [-0.9597989949748744, -0.025125628140703495, null]}, {\"hoverinfo\": \"none\", \"line\": {\"color\": \"black\", \"width\": 6}, \"mode\": \"lines\", \"type\": \"scatter3d\", \"x\": [0.08699091031156504, -0.7976204808491804, null], \"y\": [-0.2668678901036732, 0.13464204197246402, null], \"z\": [-0.9597989949748744, 0.5879396984924623, null]}, {\"hoverinfo\": \"none\", \"line\": {\"color\": \"black\", \"width\": 8}, \"mode\": \"lines\", \"type\": \"scatter3d\", \"x\": [0.08699091031156504, -0.600556325517356, null], \"y\": [-0.2668678901036732, -0.18070833075791126, null], \"z\": [-0.9597989949748744, 0.778894472361809, null]}, {\"hoverinfo\": \"none\", \"line\": {\"color\": \"black\", \"width\": 5}, \"mode\": \"lines\", \"type\": \"scatter3d\", \"x\": [0.08699091031156504, 0.43486403352118225, null], \"y\": [-0.2668678901036732, -0.351298495616475, null], \"z\": [-0.9597989949748744, 0.829145728643216, null]}, {\"hoverinfo\": \"none\", \"line\": {\"color\": \"black\", \"width\": 2}, \"mode\": \"lines\", \"type\": \"scatter3d\", \"x\": [0.28287365586258917, -0.02552158648393625, null], \"y\": [-0.13401424783913019, -0.8552493047655827, null], \"z\": [-0.949748743718593, -0.5175879396984926, null]}, {\"hoverinfo\": \"none\", \"line\": {\"color\": \"black\", \"width\": 2}, \"mode\": \"lines\", \"type\": \"scatter3d\", \"x\": [0.28287365586258917, 0.22617275089540043, null], \"y\": [-0.13401424783913019, -0.8314152882664261, null], \"z\": [-0.949748743718593, -0.5075376884422109, null]}, {\"hoverinfo\": \"none\", \"line\": {\"color\": \"black\", \"width\": 0}, \"mode\": \"lines\", \"type\": \"scatter3d\", \"x\": [0.28287365586258917, -0.8919836432498447, null], \"y\": [-0.13401424783913019, -0.30167773672316983, null], \"z\": [-0.949748743718593, -0.3366834170854271, null]}, {\"hoverinfo\": \"none\", \"line\": {\"color\": \"black\", \"width\": 6}, \"mode\": \"lines\", \"type\": \"scatter3d\", \"x\": [0.28287365586258917, -0.6161246034909317, null], \"y\": [-0.13401424783913019, -0.7212251598313059, null], \"z\": [-0.949748743718593, -0.3165829145728643, null]}, {\"hoverinfo\": \"none\", \"line\": {\"color\": \"black\", \"width\": 3}, \"mode\": \"lines\", \"type\": \"scatter3d\", \"x\": [0.28287365586258917, 0.7958335820929668, null], \"y\": [-0.13401424783913019, 0.5693860611162309, null], \"z\": [-0.949748743718593, -0.20603015075376888, null]}, {\"hoverinfo\": \"none\", \"line\": {\"color\": \"black\", \"width\": 2}, \"mode\": \"lines\", \"type\": \"scatter3d\", \"x\": [0.28287365586258917, 0.2674492764124154, null], \"y\": [-0.13401424783913019, -0.9629296662036767, null], \"z\": [-0.949748743718593, -0.035175879396985035, null]}, {\"hoverinfo\": \"none\", \"line\": {\"color\": \"black\", \"width\": 8}, \"mode\": \"lines\", \"type\": \"scatter3d\", \"x\": [0.28287365586258917, 0.9995234698449429, null], \"y\": [-0.13401424783913019, -0.026936336813276493, null], \"z\": [-0.949748743718593, 0.015075376884422058, null]}, {\"hoverinfo\": \"none\", \"line\": {\"color\": \"black\", \"width\": 0}, \"mode\": \"lines\", \"type\": \"scatter3d\", \"x\": [0.28287365586258917, -0.9774199655907337, null], \"y\": [-0.13401424783913019, -0.15301429152536394, null], \"z\": [-0.949748743718593, 0.14572864321608045, null]}, {\"hoverinfo\": \"none\", \"line\": {\"color\": \"black\", \"width\": 4}, \"mode\": \"lines\", \"type\": \"scatter3d\", \"x\": [0.28287365586258917, -0.11973939666335258, null], \"y\": [-0.13401424783913019, -0.9732699296082516, null], \"z\": [-0.949748743718593, 0.19597989949748745, null]}, {\"hoverinfo\": \"none\", \"line\": {\"color\": \"black\", \"width\": 1}, \"mode\": \"lines\", \"type\": \"scatter3d\", \"x\": [0.28287365586258917, 0.3962282650703626, null], \"y\": [-0.13401424783913019, -0.6400433729233012, null], \"z\": [-0.949748743718593, 0.6582914572864322, null]}, {\"hoverinfo\": \"none\", \"line\": {\"color\": \"black\", \"width\": 6}, \"mode\": \"lines\", \"type\": \"scatter3d\", \"x\": [0.28287365586258917, -0.42956390914738973, null], \"y\": [-0.13401424783913019, 0.07986938119331266, null], \"z\": [-0.949748743718593, 0.8994974874371859, null]}, {\"hoverinfo\": \"none\", \"line\": {\"color\": \"black\", \"width\": 9}, \"mode\": \"lines\", \"type\": \"scatter3d\", \"x\": [0.32653852628887875, 0.5016558508965476, null], \"y\": [0.10168251626089096, 0.27825169574601083, null], \"z\": [-0.9396984924623115, -0.8190954773869346, null]}, {\"hoverinfo\": \"none\", \"line\": {\"color\": \"black\", \"width\": 4}, \"mode\": \"lines\", \"type\": \"scatter3d\", \"x\": [0.32653852628887875, 0.44943909472304994, null], \"y\": [0.10168251626089096, 0.6250734399887283, null], \"z\": [-0.9396984924623115, -0.6381909547738694, null]}, {\"hoverinfo\": \"none\", \"line\": {\"color\": \"black\", \"width\": 5}, \"mode\": \"lines\", \"type\": \"scatter3d\", \"x\": [0.32653852628887875, -0.8216546571450994, null], \"y\": [0.10168251626089096, 0.4362525822106138, null], \"z\": [-0.9396984924623115, -0.36683417085427134, null]}, {\"hoverinfo\": \"none\", \"line\": {\"color\": \"black\", \"width\": 3}, \"mode\": \"lines\", \"type\": \"scatter3d\", \"x\": [0.32653852628887875, 0.8597006759110095, null], \"y\": [0.10168251626089096, -0.510773429174399, null], \"z\": [-0.9396984924623115, -0.005025125628140692, null]}, {\"hoverinfo\": \"none\", \"line\": {\"color\": \"black\", \"width\": 8}, \"mode\": \"lines\", \"type\": \"scatter3d\", \"x\": [0.32653852628887875, 0.9995234698449429, null], \"y\": [0.10168251626089096, -0.026936336813276493, null], \"z\": [-0.9396984924623115, 0.015075376884422058, null]}, {\"hoverinfo\": \"none\", \"line\": {\"color\": \"black\", \"width\": 4}, \"mode\": \"lines\", \"type\": \"scatter3d\", \"x\": [0.32653852628887875, 0.739575014981879, null], \"y\": [0.10168251626089096, 0.6715529720883432, null], \"z\": [-0.9396984924623115, 0.045226130653266486, null]}, {\"hoverinfo\": \"none\", \"line\": {\"color\": \"black\", \"width\": 2}, \"mode\": \"lines\", \"type\": \"scatter3d\", \"x\": [0.32653852628887875, 0.06798173585948922, null], \"y\": [0.10168251626089096, 0.9948350661714466, null], \"z\": [-0.9396984924623115, 0.07537688442211064, null]}, {\"hoverinfo\": \"none\", \"line\": {\"color\": \"black\", \"width\": 3}, \"mode\": \"lines\", \"type\": \"scatter3d\", \"x\": [0.32653852628887875, 0.7741176022559528, null], \"y\": [0.10168251626089096, -0.5873333961357678, null], \"z\": [-0.9396984924623115, 0.23618090452261312, null]}, {\"hoverinfo\": \"none\", \"line\": {\"color\": \"black\", \"width\": 6}, \"mode\": \"lines\", \"type\": \"scatter3d\", \"x\": [0.32653852628887875, 0.1297116280928751, null], \"y\": [0.10168251626089096, 0.24891922943540667, null], \"z\": [-0.9396984924623115, 0.9597989949748744, null]}, {\"hoverinfo\": \"none\", \"line\": {\"color\": \"black\", \"width\": 7}, \"mode\": \"lines\", \"type\": \"scatter3d\", \"x\": [0.20130943312962077, 0.34686968146326486, null], \"y\": [0.30859141231661874, 0.4744757592931101, null], \"z\": [-0.9296482412060302, -0.8090452261306532, null]}, {\"hoverinfo\": \"none\", \"line\": {\"color\": \"black\", \"width\": 8}, \"mode\": \"lines\", \"type\": \"scatter3d\", \"x\": [0.20130943312962077, -0.021693443738824616, null], \"y\": [0.30859141231661874, 0.7858076019752953, null], \"z\": [-0.9296482412060302, -0.6180904522613064, null]}, {\"hoverinfo\": \"none\", \"line\": {\"color\": \"black\", \"width\": 9}, \"mode\": \"lines\", \"type\": \"scatter3d\", \"x\": [0.20130943312962077, -0.02552158648393625, null], \"y\": [0.30859141231661874, -0.8552493047655827, null], \"z\": [-0.9296482412060302, -0.5175879396984926, null]}, {\"hoverinfo\": \"none\", \"line\": {\"color\": \"black\", \"width\": 6}, \"mode\": \"lines\", \"type\": \"scatter3d\", \"x\": [0.20130943312962077, -0.9365042078689544, null], \"y\": [0.30859141231661874, -0.052303268368663655, null], \"z\": [-0.9296482412060302, -0.3467336683417085, null]}, {\"hoverinfo\": \"none\", \"line\": {\"color\": \"black\", \"width\": 5}, \"mode\": \"lines\", \"type\": \"scatter3d\", \"x\": [0.20130943312962077, -0.1643943972580509, null], \"y\": [0.30859141231661874, -0.9407830044644023, null], \"z\": [-0.9296482412060302, -0.29648241206030146, null]}, {\"hoverinfo\": \"none\", \"line\": {\"color\": \"black\", \"width\": 6}, \"mode\": \"lines\", \"type\": \"scatter3d\", \"x\": [0.20130943312962077, 0.4105859500056902, null], \"y\": [0.30859141231661874, 0.8926641829729847, null], \"z\": [-0.9296482412060302, -0.18592964824120606, null]}, {\"hoverinfo\": \"none\", \"line\": {\"color\": \"black\", \"width\": 4}, \"mode\": \"lines\", \"type\": \"scatter3d\", \"x\": [0.20130943312962077, -0.8904277233305821, null], \"y\": [0.30859141231661874, 0.43744261313650457, null], \"z\": [-0.9296482412060302, -0.12562814070351752, null]}, {\"hoverinfo\": \"none\", \"line\": {\"color\": \"black\", \"width\": 1}, \"mode\": \"lines\", \"type\": \"scatter3d\", \"x\": [0.20130943312962077, -0.47275790495820047, null], \"y\": [0.30859141231661874, -0.8787675428113799, null], \"z\": [-0.9296482412060302, -0.06532663316582904, null]}, {\"hoverinfo\": \"none\", \"line\": {\"color\": \"black\", \"width\": 1}, \"mode\": \"lines\", \"type\": \"scatter3d\", \"x\": [0.20130943312962077, -0.8109889569592988, null], \"y\": [0.30859141231661874, 0.5735317455564173, null], \"z\": [-0.9296482412060302, 0.11557788944723603, null]}, {\"hoverinfo\": \"none\", \"line\": {\"color\": \"black\", \"width\": 3}, \"mode\": \"lines\", \"type\": \"scatter3d\", \"x\": [0.20130943312962077, -0.6353138707760849, null], \"y\": [0.30859141231661874, 0.07249033916421053, null], \"z\": [-0.9296482412060302, 0.7688442211055277, null]}, {\"hoverinfo\": \"none\", \"line\": {\"color\": \"black\", \"width\": 5}, \"mode\": \"lines\", \"type\": \"scatter3d\", \"x\": [0.20130943312962077, 0.0676279462623623, null], \"y\": [0.30859141231661874, -0.12420127151757969, null], \"z\": [-0.9296482412060302, 0.9899497487437185, null]}, {\"hoverinfo\": \"none\", \"line\": {\"color\": \"black\", \"width\": 5}, \"mode\": \"lines\", \"type\": \"scatter3d\", \"x\": [0.20130943312962077, 0.0, null], \"y\": [0.30859141231661874, 0.0, null], \"z\": [-0.9296482412060302, 1.0, null]}, {\"hoverinfo\": \"none\", \"line\": {\"color\": \"black\", \"width\": 5}, \"mode\": \"lines\", \"type\": \"scatter3d\", \"x\": [-0.02745271035429632, 0.08426822572670396, null], \"y\": [0.39190035158772807, -0.7006183620080165, null], \"z\": [-0.9195979899497487, -0.7085427135678393, null]}, {\"hoverinfo\": \"none\", \"line\": {\"color\": \"black\", \"width\": 6}, \"mode\": \"lines\", \"type\": \"scatter3d\", \"x\": [-0.02745271035429632, -0.7824796533348303, null], \"y\": [0.39190035158772807, -0.5301286325953671, null], \"z\": [-0.9195979899497487, -0.3266331658291457, null]}, {\"hoverinfo\": \"none\", \"line\": {\"color\": \"black\", \"width\": 7}, \"mode\": \"lines\", \"type\": \"scatter3d\", \"x\": [-0.02745271035429632, 0.9591176411373035, null], \"y\": [0.39190035158772807, -0.1559228360378783, null], \"z\": [-0.9195979899497487, -0.236180904522613, null]}, {\"hoverinfo\": \"none\", \"line\": {\"color\": \"black\", \"width\": 0}, \"mode\": \"lines\", \"type\": \"scatter3d\", \"x\": [-0.02745271035429632, 0.16898247772841876, null], \"y\": [0.39190035158772807, 0.9697996493796973, null], \"z\": [-0.9195979899497487, -0.17587939698492466, null]}, {\"hoverinfo\": \"none\", \"line\": {\"color\": \"black\", \"width\": 3}, \"mode\": \"lines\", \"type\": \"scatter3d\", \"x\": [-0.02745271035429632, 0.2674492764124154, null], \"y\": [0.39190035158772807, -0.9629296662036767, null], \"z\": [-0.9195979899497487, -0.035175879396985035, null]}, {\"hoverinfo\": \"none\", \"line\": {\"color\": \"black\", \"width\": 9}, \"mode\": \"lines\", \"type\": \"scatter3d\", \"x\": [-0.02745271035429632, -0.9047419231328161, null], \"y\": [0.39190035158772807, -0.39645300927462035, null], \"z\": [-0.9195979899497487, 0.15577889447236173, null]}, {\"hoverinfo\": \"none\", \"line\": {\"color\": \"black\", \"width\": 9}, \"mode\": \"lines\", \"type\": \"scatter3d\", \"x\": [-0.02745271035429632, -0.6386889828957023, null], \"y\": [0.39190035158772807, -0.6529921505841256, null], \"z\": [-0.9195979899497487, 0.4070351758793972, null]}, {\"hoverinfo\": \"none\", \"line\": {\"color\": \"black\", \"width\": 3}, \"mode\": \"lines\", \"type\": \"scatter3d\", \"x\": [-0.02745271035429632, 0.8715636126463255, null], \"y\": [0.39190035158772807, -0.05274333023114333, null], \"z\": [-0.9195979899497487, 0.48743718592964813, null]}, {\"hoverinfo\": \"none\", \"line\": {\"color\": \"black\", \"width\": 6}, \"mode\": \"lines\", \"type\": \"scatter3d\", \"x\": [-0.02745271035429632, -0.1341208174448031, null], \"y\": [0.39190035158772807, 0.8258292378007893, null], \"z\": [-0.9195979899497487, 0.5477386934673367, null]}, {\"hoverinfo\": \"none\", \"line\": {\"color\": \"black\", \"width\": 4}, \"mode\": \"lines\", \"type\": \"scatter3d\", \"x\": [-0.02745271035429632, -0.09075695184030583, null], \"y\": [0.39190035158772807, -0.7645099613068972, null], \"z\": [-0.9195979899497487, 0.6381909547738693, null]}, {\"hoverinfo\": \"none\", \"line\": {\"color\": \"black\", \"width\": 7}, \"mode\": \"lines\", \"type\": \"scatter3d\", \"x\": [-0.02745271035429632, 0.5810756220933079, null], \"y\": [0.39190035158772807, -0.46440336134774246, null], \"z\": [-0.9195979899497487, 0.6683417085427135, null]}, {\"hoverinfo\": \"none\", \"line\": {\"color\": \"black\", \"width\": 2}, \"mode\": \"lines\", \"type\": \"scatter3d\", \"x\": [-0.02745271035429632, -0.6353138707760849, null], \"y\": [0.39190035158772807, 0.07249033916421053, null], \"z\": [-0.9195979899497487, 0.7688442211055277, null]}, {\"hoverinfo\": \"none\", \"line\": {\"color\": \"black\", \"width\": 2}, \"mode\": \"lines\", \"type\": \"scatter3d\", \"x\": [-0.02745271035429632, -0.18633022541047584, null], \"y\": [0.39190035158772807, -0.3458620880912837, null], \"z\": [-0.9195979899497487, 0.9195979899497488, null]}, {\"hoverinfo\": \"none\", \"line\": {\"color\": \"black\", \"width\": 1}, \"mode\": \"lines\", \"type\": \"scatter3d\", \"x\": [-0.2621154032369282, 0.11556281947391066, null], \"y\": [0.3225188776235315, -0.49825173363421427, null], \"z\": [-0.9095477386934674, -0.8592964824120604, null]}, {\"hoverinfo\": \"none\", \"line\": {\"color\": \"black\", \"width\": 9}, \"mode\": \"lines\", \"type\": \"scatter3d\", \"x\": [-0.2621154032369282, -0.16600286298928865, null], \"y\": [0.3225188776235315, -0.6753274764028482, null], \"z\": [-0.9095477386934674, -0.7185929648241206, null]}, {\"hoverinfo\": \"none\", \"line\": {\"color\": \"black\", \"width\": 6}, \"mode\": \"lines\", \"type\": \"scatter3d\", \"x\": [-0.2621154032369282, -0.4951054392952383, null], \"y\": [0.3225188776235315, 0.6303004235916108, null], \"z\": [-0.9095477386934674, -0.5979899497487439, null]}, {\"hoverinfo\": \"none\", \"line\": {\"color\": \"black\", \"width\": 1}, \"mode\": \"lines\", \"type\": \"scatter3d\", \"x\": [-0.2621154032369282, 0.9134816304942963, null], \"y\": [0.3225188776235315, 0.3447616141867552, null], \"z\": [-0.9095477386934674, -0.21608040201005033, null]}, {\"hoverinfo\": \"none\", \"line\": {\"color\": \"black\", \"width\": 1}, \"mode\": \"lines\", \"type\": \"scatter3d\", \"x\": [-0.2621154032369282, 0.7958335820929668, null], \"y\": [0.3225188776235315, 0.5693860611162309, null], \"z\": [-0.9095477386934674, -0.20603015075376888, null]}, {\"hoverinfo\": \"none\", \"line\": {\"color\": \"black\", \"width\": 3}, \"mode\": \"lines\", \"type\": \"scatter3d\", \"x\": [-0.2621154032369282, 0.9738814815414809, null], \"y\": [0.3225188776235315, 0.22566249737407673, null], \"z\": [-0.9095477386934674, 0.025125628140703616, null]}, {\"hoverinfo\": \"none\", \"line\": {\"color\": \"black\", \"width\": 9}, \"mode\": \"lines\", \"type\": \"scatter3d\", \"x\": [-0.2621154032369282, 0.5799931250776793, null], \"y\": [0.3225188776235315, 0.6290554026008339, null], \"z\": [-0.9095477386934674, 0.5175879396984923, null]}, {\"hoverinfo\": \"none\", \"line\": {\"color\": \"black\", \"width\": 6}, \"mode\": \"lines\", \"type\": \"scatter3d\", \"x\": [-0.2621154032369282, -0.09075695184030583, null], \"y\": [0.3225188776235315, -0.7645099613068972, null], \"z\": [-0.9095477386934674, 0.6381909547738693, null]}, {\"hoverinfo\": \"none\", \"line\": {\"color\": \"black\", \"width\": 8}, \"mode\": \"lines\", \"type\": \"scatter3d\", \"x\": [-0.2621154032369282, 0.36776528457450497, null], \"y\": [0.3225188776235315, 0.35546905741019574, null], \"z\": [-0.9095477386934674, 0.8592964824120604, null]}, {\"hoverinfo\": \"none\", \"line\": {\"color\": \"black\", \"width\": 0}, \"mode\": \"lines\", \"type\": \"scatter3d\", \"x\": [-0.2621154032369282, -0.42956390914738973, null], \"y\": [0.3225188776235315, 0.07986938119331266, null], \"z\": [-0.9095477386934674, 0.8994974874371859, null]}, {\"hoverinfo\": \"none\", \"line\": {\"color\": \"black\", \"width\": 3}, \"mode\": \"lines\", \"type\": \"scatter3d\", \"x\": [-0.4166634044954904, 0.6211402465143849, null], \"y\": [0.1315137918562799, 0.44041813423680065, null], \"z\": [-0.8994974874371859, -0.6482412060301509, null]}, {\"hoverinfo\": \"none\", \"line\": {\"color\": \"black\", \"width\": 8}, \"mode\": \"lines\", \"type\": \"scatter3d\", \"x\": [-0.4166634044954904, 0.9692141584109936, null], \"y\": [0.1315137918562799, 0.09741069134859666, null], \"z\": [-0.8994974874371859, -0.2261306532663317, null]}, {\"hoverinfo\": \"none\", \"line\": {\"color\": \"black\", \"width\": 3}, \"mode\": \"lines\", \"type\": \"scatter3d\", \"x\": [-0.4166634044954904, -0.678728644568649, null], \"y\": [0.1315137918562799, -0.730510610694205, null], \"z\": [-0.8994974874371859, -0.07537688442211053, null]}, {\"hoverinfo\": \"none\", \"line\": {\"color\": \"black\", \"width\": 0}, \"mode\": \"lines\", \"type\": \"scatter3d\", \"x\": [-0.4166634044954904, 0.016183422624492533, null], \"y\": [0.1315137918562799, -0.9988456807426714, null], \"z\": [-0.8994974874371859, -0.04522613065326637, null]}, {\"hoverinfo\": \"none\", \"line\": {\"color\": \"black\", \"width\": 6}, \"mode\": \"lines\", \"type\": \"scatter3d\", \"x\": [-0.4166634044954904, -0.9288482441833449, null], \"y\": [0.1315137918562799, 0.3485089805742379, null], \"z\": [-0.8994974874371859, 0.12562814070351763, null]}, {\"hoverinfo\": \"none\", \"line\": {\"color\": \"black\", \"width\": 6}, \"mode\": \"lines\", \"type\": \"scatter3d\", \"x\": [-0.4166634044954904, 0.8829535645133417, null], \"y\": [0.1315137918562799, 0.37948128147239324, null], \"z\": [-0.8994974874371859, 0.2763819095477386, null]}, {\"hoverinfo\": \"none\", \"line\": {\"color\": \"black\", \"width\": 2}, \"mode\": \"lines\", \"type\": \"scatter3d\", \"x\": [-0.4166634044954904, 0.8440290778788562, null], \"y\": [0.1315137918562799, 0.20030268479764154, null], \"z\": [-0.8994974874371859, 0.49748743718592975, null]}, {\"hoverinfo\": \"none\", \"line\": {\"color\": \"black\", \"width\": 3}, \"mode\": \"lines\", \"type\": \"scatter3d\", \"x\": [-0.4166634044954904, 0.30775790638944817, null], \"y\": [0.1315137918562799, 0.0571173779137144, null], \"z\": [-0.8994974874371859, 0.949748743718593, null]}, {\"hoverinfo\": \"none\", \"line\": {\"color\": \"black\", \"width\": 0}, \"mode\": \"lines\", \"type\": \"scatter3d\", \"x\": [-0.44268961941831086, -0.6702820247214136, null], \"y\": [-0.11362004624810425, 0.639280955219031, null], \"z\": [-0.8894472361809045, -0.37688442211055273, null]}, {\"hoverinfo\": \"none\", \"line\": {\"color\": \"black\", \"width\": 8}, \"mode\": \"lines\", \"type\": \"scatter3d\", \"x\": [-0.44268961941831086, -0.9047419231328161, null], \"y\": [-0.11362004624810425, -0.39645300927462035, null], \"z\": [-0.8894472361809045, 0.15577889447236173, null]}, {\"hoverinfo\": \"none\", \"line\": {\"color\": \"black\", \"width\": 9}, \"mode\": \"lines\", \"type\": \"scatter3d\", \"x\": [-0.44268961941831086, -0.4034742971178234, null], \"y\": [-0.11362004624810425, 0.8507953738854946, null], \"z\": [-0.8894472361809045, 0.3366834170854272, null]}, {\"hoverinfo\": \"none\", \"line\": {\"color\": \"black\", \"width\": 1}, \"mode\": \"lines\", \"type\": \"scatter3d\", \"x\": [-0.44268961941831086, -0.7924588501224821, null], \"y\": [-0.11362004624810425, -0.12007077438764355, null], \"z\": [-0.8894472361809045, 0.5979899497487438, null]}, {\"hoverinfo\": \"none\", \"line\": {\"color\": \"black\", \"width\": 7}, \"mode\": \"lines\", \"type\": \"scatter3d\", \"x\": [-0.44268961941831086, -0.3292415201774607, null], \"y\": [-0.11362004624810425, 0.31699153843814987, null], \"z\": [-0.8894472361809045, 0.8894472361809045, null]}, {\"hoverinfo\": \"none\", \"line\": {\"color\": \"black\", \"width\": 6}, \"mode\": \"lines\", \"type\": \"scatter3d\", \"x\": [-0.44268961941831086, -0.3779945609644943, null], \"y\": [-0.11362004624810425, -0.17275133261095033, null], \"z\": [-0.8894472361809045, 0.9095477386934674, null]}, {\"hoverinfo\": \"none\", \"line\": {\"color\": \"black\", \"width\": 6}, \"mode\": \"lines\", \"type\": \"scatter3d\", \"x\": [-0.3364695168897425, 0.7427005070540483, null], \"y\": [-0.3368222188476665, -0.0414163910048412, null], \"z\": [-0.8793969849246231, -0.6683417085427136, null]}, {\"hoverinfo\": \"none\", \"line\": {\"color\": \"black\", \"width\": 1}, \"mode\": \"lines\", \"type\": \"scatter3d\", \"x\": [-0.3364695168897425, -0.02552158648393625, null], \"y\": [-0.3368222188476665, -0.8552493047655827, null], \"z\": [-0.8793969849246231, -0.5175879396984926, null]}, {\"hoverinfo\": \"none\", \"line\": {\"color\": \"black\", \"width\": 4}, \"mode\": \"lines\", \"type\": \"scatter3d\", \"x\": [-0.3364695168897425, -0.4311344860611112, null], \"y\": [-0.3368222188476665, -0.8001017444049664, null], \"z\": [-0.8793969849246231, 0.41708542713567837, null]}, {\"hoverinfo\": \"none\", \"line\": {\"color\": \"black\", \"width\": 0}, \"mode\": \"lines\", \"type\": \"scatter3d\", \"x\": [-0.3364695168897425, 0.5212824240995492, null], \"y\": [-0.3368222188476665, 0.47563836827449124, null], \"z\": [-0.8793969849246231, 0.7085427135678393, null]}, {\"hoverinfo\": \"none\", \"line\": {\"color\": \"black\", \"width\": 6}, \"mode\": \"lines\", \"type\": \"scatter3d\", \"x\": [-0.3364695168897425, 0.06389728976483165, null], \"y\": [-0.3368222188476665, 0.6819062985636061, null], \"z\": [-0.8793969849246231, 0.728643216080402, null]}, {\"hoverinfo\": \"none\", \"line\": {\"color\": \"black\", \"width\": 9}, \"mode\": \"lines\", \"type\": \"scatter3d\", \"x\": [-0.3364695168897425, -0.4107215962272207, null], \"y\": [-0.3368222188476665, 0.5202793617472665, null], \"z\": [-0.8793969849246231, 0.7487437185929648, null]}, {\"hoverinfo\": \"none\", \"line\": {\"color\": \"black\", \"width\": 5}, \"mode\": \"lines\", \"type\": \"scatter3d\", \"x\": [-0.3364695168897425, 0.24223438436005945, null], \"y\": [-0.3368222188476665, -0.5200049057056794, null], \"z\": [-0.8793969849246231, 0.8190954773869348, null]}, {\"hoverinfo\": \"none\", \"line\": {\"color\": \"black\", \"width\": 9}, \"mode\": \"lines\", \"type\": \"scatter3d\", \"x\": [-0.3364695168897425, 0.30775790638944817, null], \"y\": [-0.3368222188476665, 0.0571173779137144, null], \"z\": [-0.8793969849246231, 0.949748743718593, null]}, {\"hoverinfo\": \"none\", \"line\": {\"color\": \"black\", \"width\": 1}, \"mode\": \"lines\", \"type\": \"scatter3d\", \"x\": [-0.13171703525515455, 0.722933490894233, null], \"y\": [-0.4763264419321875, 0.20980830538180167, null], \"z\": [-0.8693467336683418, -0.6582914572864321, null]}, {\"hoverinfo\": \"none\", \"line\": {\"color\": \"black\", \"width\": 4}, \"mode\": \"lines\", \"type\": \"scatter3d\", \"x\": [-0.13171703525515455, -0.27091571301396306, null], \"y\": [-0.4763264419321875, 0.7462518277390714, null], \"z\": [-0.8693467336683418, -0.6080402010050251, null]}, {\"hoverinfo\": \"none\", \"line\": {\"color\": \"black\", \"width\": 0}, \"mode\": \"lines\", \"type\": \"scatter3d\", \"x\": [-0.13171703525515455, 0.8801565810810618, null], \"y\": [-0.4763264419321875, 0.1273322886833448, null], \"z\": [-0.8693467336683418, -0.45728643216080395, null]}, {\"hoverinfo\": \"none\", \"line\": {\"color\": \"black\", \"width\": 9}, \"mode\": \"lines\", \"type\": \"scatter3d\", \"x\": [-0.13171703525515455, 0.9606193521054072, null], \"y\": [-0.4763264419321875, -0.27782226057861037, null], \"z\": [-0.8693467336683418, 0.005025125628140593, null]}, {\"hoverinfo\": \"none\", \"line\": {\"color\": \"black\", \"width\": 3}, \"mode\": \"lines\", \"type\": \"scatter3d\", \"x\": [-0.13171703525515455, -0.11973939666335258, null], \"y\": [-0.4763264419321875, -0.9732699296082516, null], \"z\": [-0.8693467336683418, 0.19597989949748745, null]}, {\"hoverinfo\": \"none\", \"line\": {\"color\": \"black\", \"width\": 3}, \"mode\": \"lines\", \"type\": \"scatter3d\", \"x\": [-0.13171703525515455, 0.5646952188368541, null], \"y\": [-0.4763264419321875, 0.7702061342015544, null], \"z\": [-0.8693467336683418, 0.29648241206030157, null]}, {\"hoverinfo\": \"none\", \"line\": {\"color\": \"black\", \"width\": 0}, \"mode\": \"lines\", \"type\": \"scatter3d\", \"x\": [-0.13171703525515455, 0.09172592356847682, null], \"y\": [-0.4763264419321875, 0.9441194909258364, null], \"z\": [-0.8693467336683418, 0.3165829145728642, null]}, {\"hoverinfo\": \"none\", \"line\": {\"color\": \"black\", \"width\": 8}, \"mode\": \"lines\", \"type\": \"scatter3d\", \"x\": [-0.13171703525515455, -0.7793130144557557, null], \"y\": [-0.4763264419321875, 0.515147027766033, null], \"z\": [-0.8693467336683418, 0.3567839195979901, null]}, {\"hoverinfo\": \"none\", \"line\": {\"color\": \"black\", \"width\": 3}, \"mode\": \"lines\", \"type\": \"scatter3d\", \"x\": [-0.13171703525515455, 0.12037404304848949, null], \"y\": [-0.4763264419321875, 0.834506578088399, null], \"z\": [-0.8693467336683418, 0.5376884422110553, null]}, {\"hoverinfo\": \"none\", \"line\": {\"color\": \"black\", \"width\": 1}, \"mode\": \"lines\", \"type\": \"scatter3d\", \"x\": [-0.13171703525515455, -0.4107215962272207, null], \"y\": [-0.4763264419321875, 0.5202793617472665, null], \"z\": [-0.8693467336683418, 0.7487437185929648, null]}, {\"hoverinfo\": \"none\", \"line\": {\"color\": \"black\", \"width\": 5}, \"mode\": \"lines\", \"type\": \"scatter3d\", \"x\": [-0.13171703525515455, -0.11657616359218419, null], \"y\": [-0.4763264419321875, 0.4615960799092759, null], \"z\": [-0.8693467336683418, 0.879396984924623, null]}, {\"hoverinfo\": \"none\", \"line\": {\"color\": \"black\", \"width\": 1}, \"mode\": \"lines\", \"type\": \"scatter3d\", \"x\": [0.11556281947391066, 0.46009396672206704, null], \"y\": [-0.49825173363421427, -0.73540450884403, null], \"z\": [-0.8592964824120604, -0.4974874371859297, null]}, {\"hoverinfo\": \"none\", \"line\": {\"color\": \"black\", \"width\": 2}, \"mode\": \"lines\", \"type\": \"scatter3d\", \"x\": [0.11556281947391066, 0.7480816348934248, null], \"y\": [-0.49825173363421427, -0.6121222981915062, null], \"z\": [-0.8592964824120604, -0.25628140703517577, null]}, {\"hoverinfo\": \"none\", \"line\": {\"color\": \"black\", \"width\": 5}, \"mode\": \"lines\", \"type\": \"scatter3d\", \"x\": [0.11556281947391066, -0.9774199655907337, null], \"y\": [-0.49825173363421427, -0.15301429152536394, null], \"z\": [-0.8592964824120604, 0.14572864321608045, null]}, {\"hoverinfo\": \"none\", \"line\": {\"color\": \"black\", \"width\": 0}, \"mode\": \"lines\", \"type\": \"scatter3d\", \"x\": [0.11556281947391066, 0.0632016554808522, null], \"y\": [-0.49825173363421427, -0.8971477100578715, null], \"z\": [-0.8592964824120604, 0.43718592964824127, null]}, {\"hoverinfo\": \"none\", \"line\": {\"color\": \"black\", \"width\": 7}, \"mode\": \"lines\", \"type\": \"scatter3d\", \"x\": [0.11556281947391066, -0.46736094041360504, null], \"y\": [-0.49825173363421427, -0.3989235195509105, null], \"z\": [-0.8592964824120604, 0.7889447236180904, null]}, {\"hoverinfo\": \"none\", \"line\": {\"color\": \"black\", \"width\": 4}, \"mode\": \"lines\", \"type\": \"scatter3d\", \"x\": [0.11556281947391066, -0.3292415201774607, null], \"y\": [-0.49825173363421427, 0.31699153843814987, null], \"z\": [-0.8592964824120604, 0.8894472361809045, null]}, {\"hoverinfo\": \"none\", \"line\": {\"color\": \"black\", \"width\": 8}, \"mode\": \"lines\", \"type\": \"scatter3d\", \"x\": [0.11556281947391066, 0.0720199661208389, null], \"y\": [-0.49825173363421427, -0.3613409361011954, null], \"z\": [-0.8592964824120604, 0.9296482412060301, null]}, {\"hoverinfo\": \"none\", \"line\": {\"color\": \"black\", \"width\": 0}, \"mode\": \"lines\", \"type\": \"scatter3d\", \"x\": [0.3441774570903987, 0.44943909472304994, null], \"y\": [-0.4004031929174544, 0.6250734399887283, null], \"z\": [-0.8492462311557788, -0.6381909547738694, null]}, {\"hoverinfo\": \"none\", \"line\": {\"color\": \"black\", \"width\": 7}, \"mode\": \"lines\", \"type\": \"scatter3d\", \"x\": [0.3441774570903987, 0.6563279444247275, null], \"y\": [-0.4004031929174544, -0.575880733433753, null], \"z\": [-0.8492462311557788, -0.48743718592964824, null]}, {\"hoverinfo\": \"none\", \"line\": {\"color\": \"black\", \"width\": 8}, \"mode\": \"lines\", \"type\": \"scatter3d\", \"x\": [0.3441774570903987, 0.5613571369223281, null], \"y\": [-0.4004031929174544, -0.7835468158432456, null], \"z\": [-0.8492462311557788, -0.2663316582914572, null]}, {\"hoverinfo\": \"none\", \"line\": {\"color\": \"black\", \"width\": 5}, \"mode\": \"lines\", \"type\": \"scatter3d\", \"x\": [0.3441774570903987, 0.9692141584109936, null], \"y\": [-0.4004031929174544, 0.09741069134859666, null], \"z\": [-0.8492462311557788, -0.2261306532663317, null]}, {\"hoverinfo\": \"none\", \"line\": {\"color\": \"black\", \"width\": 5}, \"mode\": \"lines\", \"type\": \"scatter3d\", \"x\": [0.3441774570903987, 0.5799931250776793, null], \"y\": [-0.4004031929174544, 0.6290554026008339, null], \"z\": [-0.8492462311557788, 0.5175879396984923, null]}, {\"hoverinfo\": \"none\", \"line\": {\"color\": \"black\", \"width\": 4}, \"mode\": \"lines\", \"type\": \"scatter3d\", \"x\": [0.3441774570903987, 0.1633089131200265, null], \"y\": [-0.4004031929174544, -0.7437160329723511, null], \"z\": [-0.8492462311557788, 0.6482412060301508, null]}, {\"hoverinfo\": \"none\", \"line\": {\"color\": \"black\", \"width\": 6}, \"mode\": \"lines\", \"type\": \"scatter3d\", \"x\": [0.3441774570903987, 0.5212824240995492, null], \"y\": [-0.4004031929174544, 0.47563836827449124, null], \"z\": [-0.8492462311557788, 0.7085427135678393, null]}, {\"hoverinfo\": \"none\", \"line\": {\"color\": \"black\", \"width\": 0}, \"mode\": \"lines\", \"type\": \"scatter3d\", \"x\": [0.5024359229003386, -0.6419805478430175, null], \"y\": [-0.20810634468897715, 0.10996675639301308, null], \"z\": [-0.8391959798994973, -0.7587939698492463, null]}, {\"hoverinfo\": \"none\", \"line\": {\"color\": \"black\", \"width\": 5}, \"mode\": \"lines\", \"type\": \"scatter3d\", \"x\": [0.5024359229003386, 0.22617275089540043, null], \"y\": [-0.20810634468897715, -0.8314152882664261, null], \"z\": [-0.8391959798994973, -0.5075376884422109, null]}, {\"hoverinfo\": \"none\", \"line\": {\"color\": \"black\", \"width\": 8}, \"mode\": \"lines\", \"type\": \"scatter3d\", \"x\": [0.5024359229003386, 0.3363668860791254, null], \"y\": [-0.20810634468897715, -0.9002612720894853, null], \"z\": [-0.8391959798994973, -0.2763819095477387, null]}, {\"hoverinfo\": \"none\", \"line\": {\"color\": \"black\", \"width\": 2}, \"mode\": \"lines\", \"type\": \"scatter3d\", \"x\": [0.5024359229003386, -0.9475723752818175, null], \"y\": [-0.20810634468897715, -0.30494370330751364, null], \"z\": [-0.8391959798994973, -0.09547738693467336, null]}, {\"hoverinfo\": \"none\", \"line\": {\"color\": \"black\", \"width\": 5}, \"mode\": \"lines\", \"type\": \"scatter3d\", \"x\": [0.5024359229003386, -0.678728644568649, null], \"y\": [-0.20810634468897715, -0.730510610694205, null], \"z\": [-0.8391959798994973, -0.07537688442211053, null]}, {\"hoverinfo\": \"none\", \"line\": {\"color\": \"black\", \"width\": 4}, \"mode\": \"lines\", \"type\": \"scatter3d\", \"x\": [0.5024359229003386, 0.9995234698449429, null], \"y\": [-0.20810634468897715, -0.026936336813276493, null], \"z\": [-0.8391959798994973, 0.015075376884422058, null]}, {\"hoverinfo\": \"none\", \"line\": {\"color\": \"black\", \"width\": 3}, \"mode\": \"lines\", \"type\": \"scatter3d\", \"x\": [0.5024359229003386, 0.9738814815414809, null], \"y\": [-0.20810634468897715, 0.22566249737407673, null], \"z\": [-0.8391959798994973, 0.025125628140703616, null]}, {\"hoverinfo\": \"none\", \"line\": {\"color\": \"black\", \"width\": 2}, \"mode\": \"lines\", \"type\": \"scatter3d\", \"x\": [0.5024359229003386, 0.06798173585948922, null], \"y\": [-0.20810634468897715, 0.9948350661714466, null], \"z\": [-0.8391959798994973, 0.07537688442211064, null]}, {\"hoverinfo\": \"none\", \"line\": {\"color\": \"black\", \"width\": 7}, \"mode\": \"lines\", \"type\": \"scatter3d\", \"x\": [0.5024359229003386, -0.7722794062760031, null], \"y\": [-0.20810634468897715, -0.6132578683301932, null], \"z\": [-0.8391959798994973, 0.16582914572864324, null]}, {\"hoverinfo\": \"none\", \"line\": {\"color\": \"black\", \"width\": 2}, \"mode\": \"lines\", \"type\": \"scatter3d\", \"x\": [0.5024359229003386, 0.3399549164860912, null], \"y\": [-0.20810634468897715, 0.8890828876302689, null], \"z\": [-0.8391959798994973, 0.30653266331658297, null]}, {\"hoverinfo\": \"none\", \"line\": {\"color\": \"black\", \"width\": 9}, \"mode\": \"lines\", \"type\": \"scatter3d\", \"x\": [0.5024359229003386, -0.6143899953864282, null], \"y\": [-0.20810634468897715, 0.7087317523628855, null], \"z\": [-0.8391959798994973, 0.3467336683417086, null]}, {\"hoverinfo\": \"none\", \"line\": {\"color\": \"black\", \"width\": 7}, \"mode\": \"lines\", \"type\": \"scatter3d\", \"x\": [0.5024359229003386, -0.6386889828957023, null], \"y\": [-0.20810634468897715, -0.6529921505841256, null], \"z\": [-0.8391959798994973, 0.4070351758793972, null]}, {\"hoverinfo\": \"none\", \"line\": {\"color\": \"black\", \"width\": 8}, \"mode\": \"lines\", \"type\": \"scatter3d\", \"x\": [0.5024359229003386, 0.7440964149681661, null], \"y\": [-0.20810634468897715, 0.4344260812178058, null], \"z\": [-0.8391959798994973, 0.5075376884422113, null]}, {\"hoverinfo\": \"none\", \"line\": {\"color\": \"black\", \"width\": 3}, \"mode\": \"lines\", \"type\": \"scatter3d\", \"x\": [0.5024359229003386, -0.11657616359218419, null], \"y\": [-0.20810634468897715, 0.4615960799092759, null], \"z\": [-0.8391959798994973, 0.879396984924623, null]}, {\"hoverinfo\": \"none\", \"line\": {\"color\": \"black\", \"width\": 6}, \"mode\": \"lines\", \"type\": \"scatter3d\", \"x\": [0.557934993565241, 0.5334469074912569, null], \"y\": [0.035012906592636533, -0.49140789465100837, null], \"z\": [-0.8291457286432161, -0.6884422110552765, null]}, {\"hoverinfo\": \"none\", \"line\": {\"color\": \"black\", \"width\": 5}, \"mode\": \"lines\", \"type\": \"scatter3d\", \"x\": [0.557934993565241, -0.8227463645485272, null], \"y\": [0.035012906592636533, -0.025437514247334803, null], \"z\": [-0.8291457286432161, -0.5678391959798994, null]}, {\"hoverinfo\": \"none\", \"line\": {\"color\": \"black\", \"width\": 7}, \"mode\": \"lines\", \"type\": \"scatter3d\", \"x\": [0.557934993565241, -0.8216546571450994, null], \"y\": [0.035012906592636533, 0.4362525822106138, null], \"z\": [-0.8291457286432161, -0.36683417085427134, null]}, {\"hoverinfo\": \"none\", \"line\": {\"color\": \"black\", \"width\": 0}, \"mode\": \"lines\", \"type\": \"scatter3d\", \"x\": [0.557934993565241, -0.1643943972580509, null], \"y\": [0.035012906592636533, -0.9407830044644023, null], \"z\": [-0.8291457286432161, -0.29648241206030146, null]}, {\"hoverinfo\": \"none\", \"line\": {\"color\": \"black\", \"width\": 5}, \"mode\": \"lines\", \"type\": \"scatter3d\", \"x\": [0.557934993565241, -0.33250966656464714, null], \"y\": [0.035012906592636533, 0.9301452884781152, null], \"z\": [-0.8291457286432161, -0.15577889447236182, null]}, {\"hoverinfo\": \"none\", \"line\": {\"color\": \"black\", \"width\": 1}, \"mode\": \"lines\", \"type\": \"scatter3d\", \"x\": [0.557934993565241, 0.9592929774959421, null], \"y\": [0.035012906592636533, -0.11864579105488865, null], \"z\": [-0.8291457286432161, 0.25628140703517593, null]}, {\"hoverinfo\": \"none\", \"line\": {\"color\": \"black\", \"width\": 7}, \"mode\": \"lines\", \"type\": \"scatter3d\", \"x\": [0.557934993565241, 0.09172592356847682, null], \"y\": [0.035012906592636533, 0.9441194909258364, null], \"z\": [-0.8291457286432161, 0.3165829145728642, null]}, {\"hoverinfo\": \"none\", \"line\": {\"color\": \"black\", \"width\": 3}, \"mode\": \"lines\", \"type\": \"scatter3d\", \"x\": [0.557934993565241, -0.7975160188443354, null], \"y\": [0.035012906592636533, -0.45428093654550455, null], \"z\": [-0.8291457286432161, 0.3969849246231157, null]}, {\"hoverinfo\": \"none\", \"line\": {\"color\": \"black\", \"width\": 3}, \"mode\": \"lines\", \"type\": \"scatter3d\", \"x\": [0.557934993565241, -0.5505913149039414, null], \"y\": [0.035012906592636533, -0.5610823440242639, null], \"z\": [-0.8291457286432161, 0.6180904522613064, null]}, {\"hoverinfo\": \"none\", \"line\": {\"color\": \"black\", \"width\": 2}, \"mode\": \"lines\", \"type\": \"scatter3d\", \"x\": [0.5016558508965476, 0.34686968146326486, null], \"y\": [0.27825169574601083, 0.4744757592931101, null], \"z\": [-0.8190954773869346, -0.8090452261306532, null]}, {\"hoverinfo\": \"none\", \"line\": {\"color\": \"black\", \"width\": 2}, \"mode\": \"lines\", \"type\": \"scatter3d\", \"x\": [0.5016558508965476, -0.1643943972580509, null], \"y\": [0.27825169574601083, -0.9407830044644023, null], \"z\": [-0.8190954773869346, -0.29648241206030146, null]}, {\"hoverinfo\": \"none\", \"line\": {\"color\": \"black\", \"width\": 0}, \"mode\": \"lines\", \"type\": \"scatter3d\", \"x\": [0.5016558508965476, 0.7480816348934248, null], \"y\": [0.27825169574601083, -0.6121222981915062, null], \"z\": [-0.8190954773869346, -0.25628140703517577, null]}, {\"hoverinfo\": \"none\", \"line\": {\"color\": \"black\", \"width\": 0}, \"mode\": \"lines\", \"type\": \"scatter3d\", \"x\": [0.5016558508965476, -0.42668500783452756, null], \"y\": [0.27825169574601083, 0.8993464141660742, null], \"z\": [-0.8190954773869346, 0.09547738693467349, null]}, {\"hoverinfo\": \"none\", \"line\": {\"color\": \"black\", \"width\": 9}, \"mode\": \"lines\", \"type\": \"scatter3d\", \"x\": [0.5016558508965476, 0.3108397890520478, null], \"y\": [0.27825169574601083, -0.8386646672133121, null], \"z\": [-0.8190954773869346, 0.44723618090452255, null]}, {\"hoverinfo\": \"none\", \"line\": {\"color\": \"black\", \"width\": 1}, \"mode\": \"lines\", \"type\": \"scatter3d\", \"x\": [0.5016558508965476, 0.8248223009029717, null], \"y\": [0.27825169574601083, -0.3029354494546556, null], \"z\": [-0.8190954773869346, 0.4773869346733668, null]}, {\"hoverinfo\": \"none\", \"line\": {\"color\": \"black\", \"width\": 2}, \"mode\": \"lines\", \"type\": \"scatter3d\", \"x\": [0.5016558508965476, 0.725096144076266, null], \"y\": [0.27825169574601083, 0.01681974681893568, null], \"z\": [-0.8190954773869346, 0.6884422110552764, null]}, {\"hoverinfo\": \"none\", \"line\": {\"color\": \"black\", \"width\": 1}, \"mode\": \"lines\", \"type\": \"scatter3d\", \"x\": [0.5016558508965476, -0.5679012117000678, null], \"y\": [0.27825169574601083, 0.318935612734006, null], \"z\": [-0.8190954773869346, 0.7587939698492463, null]}, {\"hoverinfo\": \"none\", \"line\": {\"color\": \"black\", \"width\": 4}, \"mode\": \"lines\", \"type\": \"scatter3d\", \"x\": [0.34686968146326486, -0.4951054392952383, null], \"y\": [0.4744757592931101, 0.6303004235916108, null], \"z\": [-0.8090452261306532, -0.5979899497487439, null]}, {\"hoverinfo\": \"none\", \"line\": {\"color\": \"black\", \"width\": 7}, \"mode\": \"lines\", \"type\": \"scatter3d\", \"x\": [0.34686968146326486, -0.7847039751073679, null], \"y\": [0.4744757592931101, 0.22423973382020593, null], \"z\": [-0.8090452261306532, -0.5778894472361807, null]}, {\"hoverinfo\": \"none\", \"line\": {\"color\": \"black\", \"width\": 8}, \"mode\": \"lines\", \"type\": \"scatter3d\", \"x\": [0.34686968146326486, 0.9591176411373035, null], \"y\": [0.4744757592931101, -0.1559228360378783, null], \"z\": [-0.8090452261306532, -0.236180904522613, null]}, {\"hoverinfo\": \"none\", \"line\": {\"color\": \"black\", \"width\": 9}, \"mode\": \"lines\", \"type\": \"scatter3d\", \"x\": [0.34686968146326486, -0.7793130144557557, null], \"y\": [0.4744757592931101, 0.515147027766033, null], \"z\": [-0.8090452261306532, 0.3567839195979901, null]}, {\"hoverinfo\": \"none\", \"line\": {\"color\": \"black\", \"width\": 0}, \"mode\": \"lines\", \"type\": \"scatter3d\", \"x\": [0.34686968146326486, -0.1908820904593788, null], \"y\": [0.4744757592931101, -0.8838094476675942, null], \"z\": [-0.8090452261306532, 0.4271356783919597, null]}, {\"hoverinfo\": \"none\", \"line\": {\"color\": \"black\", \"width\": 1}, \"mode\": \"lines\", \"type\": \"scatter3d\", \"x\": [0.34686968146326486, 0.7082279152172981, null], \"y\": [0.4744757592931101, -0.5291593752733467, null], \"z\": [-0.8090452261306532, 0.4673366834170853, null]}, {\"hoverinfo\": \"none\", \"line\": {\"color\": \"black\", \"width\": 1}, \"mode\": \"lines\", \"type\": \"scatter3d\", \"x\": [0.12414761111548962, 0.5613571369223281, null], \"y\": [0.5883828692100228, -0.7835468158432456, null], \"z\": [-0.798994974874372, -0.2663316582914572, null]}, {\"hoverinfo\": \"none\", \"line\": {\"color\": \"black\", \"width\": 6}, \"mode\": \"lines\", \"type\": \"scatter3d\", \"x\": [0.12414761111548962, 0.8597006759110095, null], \"y\": [0.5883828692100228, -0.510773429174399, null], \"z\": [-0.798994974874372, -0.005025125628140692, null]}, {\"hoverinfo\": \"none\", \"line\": {\"color\": \"black\", \"width\": 0}, \"mode\": \"lines\", \"type\": \"scatter3d\", \"x\": [0.12414761111548962, -0.18549067049375184, null], \"y\": [0.5883828692100228, 0.978925643575427, null], \"z\": [-0.798994974874372, 0.08542713567839207, null]}, {\"hoverinfo\": \"none\", \"line\": {\"color\": \"black\", \"width\": 5}, \"mode\": \"lines\", \"type\": \"scatter3d\", \"x\": [0.12414761111548962, 0.13434625214634502, null], \"y\": [0.5883828692100228, -0.9692794548088852, null], \"z\": [-0.798994974874372, 0.20603015075376876, null]}, {\"hoverinfo\": \"none\", \"line\": {\"color\": \"black\", \"width\": 3}, \"mode\": \"lines\", \"type\": \"scatter3d\", \"x\": [0.12414761111548962, 0.5646952188368541, null], \"y\": [0.5883828692100228, 0.7702061342015544, null], \"z\": [-0.798994974874372, 0.29648241206030157, null]}, {\"hoverinfo\": \"none\", \"line\": {\"color\": \"black\", \"width\": 7}, \"mode\": \"lines\", \"type\": \"scatter3d\", \"x\": [0.12414761111548962, 0.12037404304848949, null], \"y\": [0.5883828692100228, 0.834506578088399, null], \"z\": [-0.798994974874372, 0.5376884422110553, null]}, {\"hoverinfo\": \"none\", \"line\": {\"color\": \"black\", \"width\": 8}, \"mode\": \"lines\", \"type\": \"scatter3d\", \"x\": [0.12414761111548962, 0.6955838850071943, null], \"y\": [0.5883828692100228, -0.2365320439145132, null], \"z\": [-0.798994974874372, 0.6783919597989949, null]}, {\"hoverinfo\": \"none\", \"line\": {\"color\": \"black\", \"width\": 1}, \"mode\": \"lines\", \"type\": \"scatter3d\", \"x\": [0.12414761111548962, 0.1400434946507435, null], \"y\": [0.5883828692100228, 0.4739452249640167, null], \"z\": [-0.798994974874372, 0.8693467336683418, null]}, {\"hoverinfo\": \"none\", \"line\": {\"color\": \"black\", \"width\": 9}, \"mode\": \"lines\", \"type\": \"scatter3d\", \"x\": [-0.12588429280142016, -0.6419805478430175, null], \"y\": [0.6014310998784991, 0.10996675639301308, null], \"z\": [-0.7889447236180905, -0.7587939698492463, null]}, {\"hoverinfo\": \"none\", \"line\": {\"color\": \"black\", \"width\": 1}, \"mode\": \"lines\", \"type\": \"scatter3d\", \"x\": [-0.12588429280142016, 0.813632848484258, null], \"y\": [0.6014310998784991, 0.3714584584544138, null], \"z\": [-0.7889447236180905, -0.4472361809045229, null]}, {\"hoverinfo\": \"none\", \"line\": {\"color\": \"black\", \"width\": 9}, \"mode\": \"lines\", \"type\": \"scatter3d\", \"x\": [-0.12588429280142016, -0.4695271916732191, null], \"y\": [0.6014310998784991, 0.7936156341869542, null], \"z\": [-0.7889447236180905, -0.3869346733668342, null]}, {\"hoverinfo\": \"none\", \"line\": {\"color\": \"black\", \"width\": 2}, \"mode\": \"lines\", \"type\": \"scatter3d\", \"x\": [-0.12588429280142016, 0.4105859500056902, null], \"y\": [0.6014310998784991, 0.8926641829729847, null], \"z\": [-0.7889447236180905, -0.18592964824120606, null]}, {\"hoverinfo\": \"none\", \"line\": {\"color\": \"black\", \"width\": 2}, \"mode\": \"lines\", \"type\": \"scatter3d\", \"x\": [-0.12588429280142016, -0.9475723752818175, null], \"y\": [0.6014310998784991, -0.30494370330751364, null], \"z\": [-0.7889447236180905, -0.09547738693467336, null]}, {\"hoverinfo\": \"none\", \"line\": {\"color\": \"black\", \"width\": 0}, \"mode\": \"lines\", \"type\": \"scatter3d\", \"x\": [-0.12588429280142016, -0.18549067049375184, null], \"y\": [0.6014310998784991, 0.978925643575427, null], \"z\": [-0.7889447236180905, 0.08542713567839207, null]}, {\"hoverinfo\": \"none\", \"line\": {\"color\": \"black\", \"width\": 8}, \"mode\": \"lines\", \"type\": \"scatter3d\", \"x\": [-0.12588429280142016, 0.5970599024521844, null], \"y\": [0.6014310998784991, -0.7696651223338173, null], \"z\": [-0.7889447236180905, 0.22613065326633158, null]}, {\"hoverinfo\": \"none\", \"line\": {\"color\": \"black\", \"width\": 1}, \"mode\": \"lines\", \"type\": \"scatter3d\", \"x\": [-0.12588429280142016, 0.5799931250776793, null], \"y\": [0.6014310998784991, 0.6290554026008339, null], \"z\": [-0.7889447236180905, 0.5175879396984923, null]}, {\"hoverinfo\": \"none\", \"line\": {\"color\": \"black\", \"width\": 1}, \"mode\": \"lines\", \"type\": \"scatter3d\", \"x\": [-0.12588429280142016, -0.707456892094313, null], \"y\": [0.6014310998784991, -0.360266373382285, null], \"z\": [-0.7889447236180905, 0.6080402010050252, null]}, {\"hoverinfo\": \"none\", \"line\": {\"color\": \"black\", \"width\": 6}, \"mode\": \"lines\", \"type\": \"scatter3d\", \"x\": [-0.12588429280142016, 0.5212824240995492, null], \"y\": [0.6014310998784991, 0.47563836827449124, null], \"z\": [-0.7889447236180905, 0.7085427135678393, null]}, {\"hoverinfo\": \"none\", \"line\": {\"color\": \"black\", \"width\": 5}, \"mode\": \"lines\", \"type\": \"scatter3d\", \"x\": [-0.36041865158594155, 0.7985178366343181, null], \"y\": [0.5132463312223391, -0.36670284861180913, null], \"z\": [-0.7788944723618089, -0.4773869346733667, null]}, {\"hoverinfo\": \"none\", \"line\": {\"color\": \"black\", \"width\": 9}, \"mode\": \"lines\", \"type\": \"scatter3d\", \"x\": [-0.36041865158594155, 0.8751100997786688, null], \"y\": [0.5132463312223391, -0.12561344513262568, null], \"z\": [-0.7788944723618089, -0.4673366834170854, null]}, {\"hoverinfo\": \"none\", \"line\": {\"color\": \"black\", \"width\": 5}, \"mode\": \"lines\", \"type\": \"scatter3d\", \"x\": [-0.36041865158594155, 0.7958335820929668, null], \"y\": [0.5132463312223391, 0.5693860611162309, null], \"z\": [-0.7788944723618089, -0.20603015075376888, null]}, {\"hoverinfo\": \"none\", \"line\": {\"color\": \"black\", \"width\": 1}, \"mode\": \"lines\", \"type\": \"scatter3d\", \"x\": [-0.36041865158594155, -0.08433109874112966, null], \"y\": [0.5132463312223391, 0.9825420908093567, null], \"z\": [-0.7788944723618089, -0.16582914572864332, null]}, {\"hoverinfo\": \"none\", \"line\": {\"color\": \"black\", \"width\": 6}, \"mode\": \"lines\", \"type\": \"scatter3d\", \"x\": [-0.36041865158594155, -0.23599909505127642, null], \"y\": [0.5132463312223391, -0.970179853809575, null], \"z\": [-0.7788944723618089, -0.05527638190954783, null]}, {\"hoverinfo\": \"none\", \"line\": {\"color\": \"black\", \"width\": 5}, \"mode\": \"lines\", \"type\": \"scatter3d\", \"x\": [-0.36041865158594155, -0.1908820904593788, null], \"y\": [0.5132463312223391, -0.8838094476675942, null], \"z\": [-0.7788944723618089, 0.4271356783919597, null]}, {\"hoverinfo\": \"none\", \"line\": {\"color\": \"black\", \"width\": 0}, \"mode\": \"lines\", \"type\": \"scatter3d\", \"x\": [-0.36041865158594155, -0.7231637330577864, null], \"y\": [0.5132463312223391, 0.3782565293064855, null], \"z\": [-0.7788944723618089, 0.5778894472361809, null]}, {\"hoverinfo\": \"none\", \"line\": {\"color\": \"black\", \"width\": 9}, \"mode\": \"lines\", \"type\": \"scatter3d\", \"x\": [-0.36041865158594155, 0.5810756220933079, null], \"y\": [0.5132463312223391, -0.46440336134774246, null], \"z\": [-0.7788944723618089, 0.6683417085427135, null]}, {\"hoverinfo\": \"none\", \"line\": {\"color\": \"black\", \"width\": 5}, \"mode\": \"lines\", \"type\": \"scatter3d\", \"x\": [-0.36041865158594155, -0.004587855210254107, null], \"y\": [0.5132463312223391, -0.5877284863436261, null], \"z\": [-0.7788944723618089, 0.8090452261306533, null]}, {\"hoverinfo\": \"none\", \"line\": {\"color\": \"black\", \"width\": 0}, \"mode\": \"lines\", \"type\": \"scatter3d\", \"x\": [-0.5416042025803353, 0.2271342624438953, null], \"y\": [0.33991683015107377, 0.7442105101438017, null], \"z\": [-0.7688442211055275, -0.6281407035175878, null]}, {\"hoverinfo\": \"none\", \"line\": {\"color\": \"black\", \"width\": 0}, \"mode\": \"lines\", \"type\": \"scatter3d\", \"x\": [-0.5416042025803353, -0.9125581834726422, null], \"y\": [0.33991683015107377, 0.19985694006815632, null], \"z\": [-0.7688442211055275, -0.35678391959799, null]}, {\"hoverinfo\": \"none\", \"line\": {\"color\": \"black\", \"width\": 8}, \"mode\": \"lines\", \"type\": \"scatter3d\", \"x\": [-0.5416042025803353, -0.7492577373693531, null], \"y\": [0.33991683015107377, 0.648231607488682, null], \"z\": [-0.7688442211055275, -0.13567839195979897, null]}, {\"hoverinfo\": \"none\", \"line\": {\"color\": \"black\", \"width\": 8}, \"mode\": \"lines\", \"type\": \"scatter3d\", \"x\": [-0.5416042025803353, -0.2566312989684941, null], \"y\": [0.33991683015107377, -0.5438266327748627, null], \"z\": [-0.7688442211055275, 0.7989949748743719, null]}, {\"hoverinfo\": \"none\", \"line\": {\"color\": \"black\", \"width\": 2}, \"mode\": \"lines\", \"type\": \"scatter3d\", \"x\": [-0.5416042025803353, 0.27639958067021775, null], \"y\": [0.33991683015107377, -0.20141999669691893, null], \"z\": [-0.7688442211055275, 0.9396984924623115, null]}, {\"hoverinfo\": \"none\", \"line\": {\"color\": \"black\", \"width\": 0}, \"mode\": \"lines\", \"type\": \"scatter3d\", \"x\": [-0.6419805478430175, -0.08433109874112966, null], \"y\": [0.10996675639301308, 0.9825420908093567, null], \"z\": [-0.7587939698492463, -0.16582914572864332, null]}, {\"hoverinfo\": \"none\", \"line\": {\"color\": \"black\", \"width\": 3}, \"mode\": \"lines\", \"type\": \"scatter3d\", \"x\": [-0.6419805478430175, 0.7033011304219116, null], \"y\": [0.10996675639301308, -0.7107321949644987, null], \"z\": [-0.7587939698492463, -0.015075376884422157, null]}, {\"hoverinfo\": \"none\", \"line\": {\"color\": \"black\", \"width\": 6}, \"mode\": \"lines\", \"type\": \"scatter3d\", \"x\": [-0.6419805478430175, 0.9995234698449429, null], \"y\": [0.10996675639301308, -0.026936336813276493, null], \"z\": [-0.7587939698492463, 0.015075376884422058, null]}, {\"hoverinfo\": \"none\", \"line\": {\"color\": \"black\", \"width\": 2}, \"mode\": \"lines\", \"type\": \"scatter3d\", \"x\": [-0.6419805478430175, 0.5460301977631995, null], \"y\": [0.10996675639301308, 0.8359399169400101, null], \"z\": [-0.7587939698492463, 0.05527638190954773, null]}, {\"hoverinfo\": \"none\", \"line\": {\"color\": \"black\", \"width\": 8}, \"mode\": \"lines\", \"type\": \"scatter3d\", \"x\": [-0.6419805478430175, -0.18549067049375184, null], \"y\": [0.10996675639301308, 0.978925643575427, null], \"z\": [-0.7587939698492463, 0.08542713567839207, null]}, {\"hoverinfo\": \"none\", \"line\": {\"color\": \"black\", \"width\": 6}, \"mode\": \"lines\", \"type\": \"scatter3d\", \"x\": [-0.6419805478430175, -0.9047419231328161, null], \"y\": [0.10996675639301308, -0.39645300927462035, null], \"z\": [-0.7587939698492463, 0.15577889447236173, null]}, {\"hoverinfo\": \"none\", \"line\": {\"color\": \"black\", \"width\": 7}, \"mode\": \"lines\", \"type\": \"scatter3d\", \"x\": [-0.6419805478430175, -0.11973939666335258, null], \"y\": [0.10996675639301308, -0.9732699296082516, null], \"z\": [-0.7587939698492463, 0.19597989949748745, null]}, {\"hoverinfo\": \"none\", \"line\": {\"color\": \"black\", \"width\": 8}, \"mode\": \"lines\", \"type\": \"scatter3d\", \"x\": [-0.6419805478430175, 0.7440964149681661, null], \"y\": [0.10996675639301308, 0.4344260812178058, null], \"z\": [-0.7587939698492463, 0.5075376884422113, null]}, {\"hoverinfo\": \"none\", \"line\": {\"color\": \"black\", \"width\": 0}, \"mode\": \"lines\", \"type\": \"scatter3d\", \"x\": [-0.6419805478430175, 0.1633089131200265, null], \"y\": [0.10996675639301308, -0.7437160329723511, null], \"z\": [-0.7587939698492463, 0.6482412060301508, null]}, {\"hoverinfo\": \"none\", \"line\": {\"color\": \"black\", \"width\": 4}, \"mode\": \"lines\", \"type\": \"scatter3d\", \"x\": [-0.6419805478430175, -0.004587855210254107, null], \"y\": [0.10996675639301308, -0.5877284863436261, null], \"z\": [-0.7587939698492463, 0.8090452261306533, null]}, {\"hoverinfo\": \"none\", \"line\": {\"color\": \"black\", \"width\": 3}, \"mode\": \"lines\", \"type\": \"scatter3d\", \"x\": [-0.6419805478430175, 0.1297116280928751, null], \"y\": [0.10996675639301308, 0.24891922943540667, null], \"z\": [-0.7587939698492463, 0.9597989949748744, null]}, {\"hoverinfo\": \"none\", \"line\": {\"color\": \"black\", \"width\": 3}, \"mode\": \"lines\", \"type\": \"scatter3d\", \"x\": [-0.6476851458340083, -0.27091571301396306, null], \"y\": [-0.14102055074902595, 0.7462518277390714, null], \"z\": [-0.7487437185929648, -0.6080402010050251, null]}, {\"hoverinfo\": \"none\", \"line\": {\"color\": \"black\", \"width\": 9}, \"mode\": \"lines\", \"type\": \"scatter3d\", \"x\": [-0.6476851458340083, -0.6701371795582428, null], \"y\": [-0.14102055074902595, -0.5008976784258622, null], \"z\": [-0.7487437185929648, -0.5477386934673367, null]}, {\"hoverinfo\": \"none\", \"line\": {\"color\": \"black\", \"width\": 3}, \"mode\": \"lines\", \"type\": \"scatter3d\", \"x\": [-0.6476851458340083, -0.49469427933914145, null], \"y\": [-0.14102055074902595, -0.682765486167671, null], \"z\": [-0.7487437185929648, -0.5376884422110554, null]}, {\"hoverinfo\": \"none\", \"line\": {\"color\": \"black\", \"width\": 2}, \"mode\": \"lines\", \"type\": \"scatter3d\", \"x\": [-0.6476851458340083, 0.01750774905872829, null], \"y\": [-0.14102055074902595, 0.9132446793273558, null], \"z\": [-0.7487437185929648, -0.4070351758793971, null]}, {\"hoverinfo\": \"none\", \"line\": {\"color\": \"black\", \"width\": 9}, \"mode\": \"lines\", \"type\": \"scatter3d\", \"x\": [-0.6476851458340083, -0.6161246034909317, null], \"y\": [-0.14102055074902595, -0.7212251598313059, null], \"z\": [-0.7487437185929648, -0.3165829145728643, null]}, {\"hoverinfo\": \"none\", \"line\": {\"color\": \"black\", \"width\": 0}, \"mode\": \"lines\", \"type\": \"scatter3d\", \"x\": [-0.6476851458340083, -0.678728644568649, null], \"y\": [-0.14102055074902595, -0.730510610694205, null], \"z\": [-0.7487437185929648, -0.07537688442211053, null]}, {\"hoverinfo\": \"none\", \"line\": {\"color\": \"black\", \"width\": 4}, \"mode\": \"lines\", \"type\": \"scatter3d\", \"x\": [-0.6476851458340083, 0.5799931250776793, null], \"y\": [-0.14102055074902595, 0.6290554026008339, null], \"z\": [-0.7487437185929648, 0.5175879396984923, null]}, {\"hoverinfo\": \"none\", \"line\": {\"color\": \"black\", \"width\": 5}, \"mode\": \"lines\", \"type\": \"scatter3d\", \"x\": [-0.6476851458340083, -0.004587855210254107, null], \"y\": [-0.14102055074902595, -0.5877284863436261, null], \"z\": [-0.7487437185929648, 0.8090452261306533, null]}, {\"hoverinfo\": \"none\", \"line\": {\"color\": \"black\", \"width\": 4}, \"mode\": \"lines\", \"type\": \"scatter3d\", \"x\": [-0.6476851458340083, 0.1400434946507435, null], \"y\": [-0.14102055074902595, 0.4739452249640167, null], \"z\": [-0.7487437185929648, 0.8693467336683418, null]}, {\"hoverinfo\": \"none\", \"line\": {\"color\": \"black\", \"width\": 2}, \"mode\": \"lines\", \"type\": \"scatter3d\", \"x\": [-0.6476851458340083, 0.0720199661208389, null], \"y\": [-0.14102055074902595, -0.3613409361011954, null], \"z\": [-0.7487437185929648, 0.9296482412060301, null]}, {\"hoverinfo\": \"none\", \"line\": {\"color\": \"black\", \"width\": 6}, \"mode\": \"lines\", \"type\": \"scatter3d\", \"x\": [-0.5593208018755575, -0.3907102300020467, null], \"y\": [-0.3761544920686069, -0.5625162929478188, null], \"z\": [-0.7386934673366833, -0.7286432160804021, null]}, {\"hoverinfo\": \"none\", \"line\": {\"color\": \"black\", \"width\": 9}, \"mode\": \"lines\", \"type\": \"scatter3d\", \"x\": [-0.5593208018755575, 0.08426822572670396, null], \"y\": [-0.3761544920686069, -0.7006183620080165, null], \"z\": [-0.7386934673366833, -0.7085427135678393, null]}, {\"hoverinfo\": \"none\", \"line\": {\"color\": \"black\", \"width\": 8}, \"mode\": \"lines\", \"type\": \"scatter3d\", \"x\": [-0.5593208018755575, 0.6211402465143849, null], \"y\": [-0.3761544920686069, 0.44041813423680065, null], \"z\": [-0.7386934673366833, -0.6482412060301509, null]}, {\"hoverinfo\": \"none\", \"line\": {\"color\": \"black\", \"width\": 5}, \"mode\": \"lines\", \"type\": \"scatter3d\", \"x\": [-0.5593208018755575, 0.7985178366343181, null], \"y\": [-0.3761544920686069, -0.36670284861180913, null], \"z\": [-0.7386934673366833, -0.4773869346733667, null]}, {\"hoverinfo\": \"none\", \"line\": {\"color\": \"black\", \"width\": 7}, \"mode\": \"lines\", \"type\": \"scatter3d\", \"x\": [-0.5593208018755575, -0.7824796533348303, null], \"y\": [-0.3761544920686069, -0.5301286325953671, null], \"z\": [-0.7386934673366833, -0.3266331658291457, null]}, {\"hoverinfo\": \"none\", \"line\": {\"color\": \"black\", \"width\": 1}, \"mode\": \"lines\", \"type\": \"scatter3d\", \"x\": [-0.5593208018755575, 0.9692141584109936, null], \"y\": [-0.3761544920686069, 0.09741069134859666, null], \"z\": [-0.7386934673366833, -0.2261306532663317, null]}, {\"hoverinfo\": \"none\", \"line\": {\"color\": \"black\", \"width\": 3}, \"mode\": \"lines\", \"type\": \"scatter3d\", \"x\": [-0.5593208018755575, -0.678728644568649, null], \"y\": [-0.3761544920686069, -0.730510610694205, null], \"z\": [-0.7386934673366833, -0.07537688442211053, null]}, {\"hoverinfo\": \"none\", \"line\": {\"color\": \"black\", \"width\": 0}, \"mode\": \"lines\", \"type\": \"scatter3d\", \"x\": [-0.5593208018755575, 0.739575014981879, null], \"y\": [-0.3761544920686069, 0.6715529720883432, null], \"z\": [-0.7386934673366833, 0.045226130653266486, null]}, {\"hoverinfo\": \"none\", \"line\": {\"color\": \"black\", \"width\": 7}, \"mode\": \"lines\", \"type\": \"scatter3d\", \"x\": [-0.5593208018755575, -0.6143899953864282, null], \"y\": [-0.3761544920686069, 0.7087317523628855, null], \"z\": [-0.7386934673366833, 0.3467336683417086, null]}, {\"hoverinfo\": \"none\", \"line\": {\"color\": \"black\", \"width\": 8}, \"mode\": \"lines\", \"type\": \"scatter3d\", \"x\": [-0.5593208018755575, 0.0720199661208389, null], \"y\": [-0.3761544920686069, -0.3613409361011954, null], \"z\": [-0.7386934673366833, 0.9296482412060301, null]}, {\"hoverinfo\": \"none\", \"line\": {\"color\": \"black\", \"width\": 6}, \"mode\": \"lines\", \"type\": \"scatter3d\", \"x\": [-0.5593208018755575, 0.1297116280928751, null], \"y\": [-0.3761544920686069, 0.24891922943540667, null], \"z\": [-0.7386934673366833, 0.9597989949748744, null]}, {\"hoverinfo\": \"none\", \"line\": {\"color\": \"black\", \"width\": 1}, \"mode\": \"lines\", \"type\": \"scatter3d\", \"x\": [-0.3907102300020467, 0.722933490894233, null], \"y\": [-0.5625162929478188, 0.20980830538180167, null], \"z\": [-0.7286432160804021, -0.6582914572864321, null]}, {\"hoverinfo\": \"none\", \"line\": {\"color\": \"black\", \"width\": 9}, \"mode\": \"lines\", \"type\": \"scatter3d\", \"x\": [-0.3907102300020467, -0.23434121536311986, null], \"y\": [-0.5625162929478188, 0.8874047353964903, null], \"z\": [-0.7286432160804021, -0.3969849246231156, null]}, {\"hoverinfo\": \"none\", \"line\": {\"color\": \"black\", \"width\": 0}, \"mode\": \"lines\", \"type\": \"scatter3d\", \"x\": [-0.3907102300020467, 0.3363668860791254, null], \"y\": [-0.5625162929478188, -0.9002612720894853, null], \"z\": [-0.7286432160804021, -0.2763819095477387, null]}, {\"hoverinfo\": \"none\", \"line\": {\"color\": \"black\", \"width\": 8}, \"mode\": \"lines\", \"type\": \"scatter3d\", \"x\": [-0.3907102300020467, 0.7480816348934248, null], \"y\": [-0.5625162929478188, -0.6121222981915062, null], \"z\": [-0.7286432160804021, -0.25628140703517577, null]}, {\"hoverinfo\": \"none\", \"line\": {\"color\": \"black\", \"width\": 3}, \"mode\": \"lines\", \"type\": \"scatter3d\", \"x\": [-0.3907102300020467, -0.9734264244291374, null], \"y\": [-0.5625162929478188, 0.19769357018888423, null], \"z\": [-0.7286432160804021, -0.11557788944723613, null]}, {\"hoverinfo\": \"none\", \"line\": {\"color\": \"black\", \"width\": 9}, \"mode\": \"lines\", \"type\": \"scatter3d\", \"x\": [-0.3907102300020467, 0.8597006759110095, null], \"y\": [-0.5625162929478188, -0.510773429174399, null], \"z\": [-0.7286432160804021, -0.005025125628140692, null]}, {\"hoverinfo\": \"none\", \"line\": {\"color\": \"black\", \"width\": 7}, \"mode\": \"lines\", \"type\": \"scatter3d\", \"x\": [-0.3907102300020467, 0.7500220497040564, null], \"y\": [-0.5625162929478188, 0.5961740871715794, null], \"z\": [-0.7286432160804021, 0.2864321608040202, null]}, {\"hoverinfo\": \"none\", \"line\": {\"color\": \"black\", \"width\": 2}, \"mode\": \"lines\", \"type\": \"scatter3d\", \"x\": [-0.3907102300020467, 0.0632016554808522, null], \"y\": [-0.5625162929478188, -0.8971477100578715, null], \"z\": [-0.7286432160804021, 0.43718592964824127, null]}, {\"hoverinfo\": \"none\", \"line\": {\"color\": \"black\", \"width\": 2}, \"mode\": \"lines\", \"type\": \"scatter3d\", \"x\": [-0.3907102300020467, 0.5319383843782858, null], \"y\": [-0.5625162929478188, -0.7126925523580707, null], \"z\": [-0.7286432160804021, 0.45728643216080406, null]}, {\"hoverinfo\": \"none\", \"line\": {\"color\": \"black\", \"width\": 4}, \"mode\": \"lines\", \"type\": \"scatter3d\", \"x\": [-0.3907102300020467, -0.33761069961500084, null], \"y\": [-0.5625162929478188, -0.7010408490879112, null], \"z\": [-0.7286432160804021, 0.6281407035175879, null]}, {\"hoverinfo\": \"none\", \"line\": {\"color\": \"black\", \"width\": 6}, \"mode\": \"lines\", \"type\": \"scatter3d\", \"x\": [-0.3907102300020467, -0.4107215962272207, null], \"y\": [-0.5625162929478188, 0.5202793617472665, null], \"z\": [-0.7286432160804021, 0.7487437185929648, null]}, {\"hoverinfo\": \"none\", \"line\": {\"color\": \"black\", \"width\": 6}, \"mode\": \"lines\", \"type\": \"scatter3d\", \"x\": [-0.3907102300020467, -0.2566312989684941, null], \"y\": [-0.5625162929478188, -0.5438266327748627, null], \"z\": [-0.7286432160804021, 0.7989949748743719, null]}, {\"hoverinfo\": \"none\", \"line\": {\"color\": \"black\", \"width\": 6}, \"mode\": \"lines\", \"type\": \"scatter3d\", \"x\": [-0.16600286298928865, 0.813632848484258, null], \"y\": [-0.6753274764028482, 0.3714584584544138, null], \"z\": [-0.7185929648241206, -0.4472361809045229, null]}, {\"hoverinfo\": \"none\", \"line\": {\"color\": \"black\", \"width\": 2}, \"mode\": \"lines\", \"type\": \"scatter3d\", \"x\": [-0.16600286298928865, 0.7958335820929668, null], \"y\": [-0.6753274764028482, 0.5693860611162309, null], \"z\": [-0.7185929648241206, -0.20603015075376888, null]}, {\"hoverinfo\": \"none\", \"line\": {\"color\": \"black\", \"width\": 5}, \"mode\": \"lines\", \"type\": \"scatter3d\", \"x\": [-0.16600286298928865, 0.3399549164860912, null], \"y\": [-0.6753274764028482, 0.8890828876302689, null], \"z\": [-0.7185929648241206, 0.30653266331658297, null]}, {\"hoverinfo\": \"none\", \"line\": {\"color\": \"black\", \"width\": 3}, \"mode\": \"lines\", \"type\": \"scatter3d\", \"x\": [-0.16600286298928865, -0.3292415201774607, null], \"y\": [-0.6753274764028482, 0.31699153843814987, null], \"z\": [-0.7185929648241206, 0.8894472361809045, null]}, {\"hoverinfo\": \"none\", \"line\": {\"color\": \"black\", \"width\": 8}, \"mode\": \"lines\", \"type\": \"scatter3d\", \"x\": [0.08426822572670396, -0.7831291349132213, null], \"y\": [-0.7006183620080165, -0.274918626495518, null], \"z\": [-0.7085427135678393, -0.5577889447236182, null]}, {\"hoverinfo\": \"none\", \"line\": {\"color\": \"black\", \"width\": 8}, \"mode\": \"lines\", \"type\": \"scatter3d\", \"x\": [0.08426822572670396, -0.4695271916732191, null], \"y\": [-0.7006183620080165, 0.7936156341869542, null], \"z\": [-0.7085427135678393, -0.3869346733668342, null]}, {\"hoverinfo\": \"none\", \"line\": {\"color\": \"black\", \"width\": 5}, \"mode\": \"lines\", \"type\": \"scatter3d\", \"x\": [0.08426822572670396, -0.9365042078689544, null], \"y\": [-0.7006183620080165, -0.052303268368663655, null], \"z\": [-0.7085427135678393, -0.3467336683417085, null]}, {\"hoverinfo\": \"none\", \"line\": {\"color\": \"black\", \"width\": 6}, \"mode\": \"lines\", \"type\": \"scatter3d\", \"x\": [0.08426822572670396, -0.40503694008954455, null], \"y\": [-0.7006183620080165, -0.86138423684378, null], \"z\": [-0.7085427135678393, -0.3065326633165828, null]}, {\"hoverinfo\": \"none\", \"line\": {\"color\": \"black\", \"width\": 3}, \"mode\": \"lines\", \"type\": \"scatter3d\", \"x\": [0.08426822572670396, 0.8837350468780757, null], \"y\": [-0.7006183620080165, -0.3979730956273241, null], \"z\": [-0.7085427135678393, -0.2462311557788945, null]}, {\"hoverinfo\": \"none\", \"line\": {\"color\": \"black\", \"width\": 1}, \"mode\": \"lines\", \"type\": \"scatter3d\", \"x\": [0.08426822572670396, 0.8853301800948286, null], \"y\": [-0.7006183620080165, 0.4636303804992801, null], \"z\": [-0.7085427135678393, 0.03517587939698494, null]}, {\"hoverinfo\": \"none\", \"line\": {\"color\": \"black\", \"width\": 8}, \"mode\": \"lines\", \"type\": \"scatter3d\", \"x\": [0.08426822572670396, -0.985601838057066, null], \"y\": [-0.7006183620080165, 0.100897922544204, null], \"z\": [-0.7085427135678393, 0.13567839195979908, null]}, {\"hoverinfo\": \"none\", \"line\": {\"color\": \"black\", \"width\": 8}, \"mode\": \"lines\", \"type\": \"scatter3d\", \"x\": [0.08426822572670396, 0.06389728976483165, null], \"y\": [-0.7006183620080165, 0.6819062985636061, null], \"z\": [-0.7085427135678393, 0.728643216080402, null]}, {\"hoverinfo\": \"none\", \"line\": {\"color\": \"black\", \"width\": 7}, \"mode\": \"lines\", \"type\": \"scatter3d\", \"x\": [0.08426822572670396, 0.5317207462626569, null], \"y\": [-0.7006183620080165, -0.11411904010464476, null], \"z\": [-0.7085427135678393, 0.8391959798994975, null]}, {\"hoverinfo\": \"none\", \"line\": {\"color\": \"black\", \"width\": 2}, \"mode\": \"lines\", \"type\": \"scatter3d\", \"x\": [0.3275469559381285, -0.11973939666335258, null], \"y\": [-0.6362556653968614, -0.9732699296082516, null], \"z\": [-0.6984924623115578, 0.19597989949748745, null]}, {\"hoverinfo\": \"none\", \"line\": {\"color\": \"black\", \"width\": 3}, \"mode\": \"lines\", \"type\": \"scatter3d\", \"x\": [0.3275469559381285, 0.89774944367018, null], \"y\": [-0.6362556653968614, -0.3652617613625499, null], \"z\": [-0.6984924623115578, 0.24623115577889462, null]}, {\"hoverinfo\": \"none\", \"line\": {\"color\": \"black\", \"width\": 5}, \"mode\": \"lines\", \"type\": \"scatter3d\", \"x\": [0.3275469559381285, 0.8829535645133417, null], \"y\": [-0.6362556653968614, 0.37948128147239324, null], \"z\": [-0.6984924623115578, 0.2763819095477386, null]}, {\"hoverinfo\": \"none\", \"line\": {\"color\": \"black\", \"width\": 6}, \"mode\": \"lines\", \"type\": \"scatter3d\", \"x\": [0.3275469559381285, -0.7975160188443354, null], \"y\": [-0.6362556653968614, -0.45428093654550455, null], \"z\": [-0.6984924623115578, 0.3969849246231157, null]}, {\"hoverinfo\": \"none\", \"line\": {\"color\": \"black\", \"width\": 8}, \"mode\": \"lines\", \"type\": \"scatter3d\", \"x\": [0.3275469559381285, -0.6386889828957023, null], \"y\": [-0.6362556653968614, -0.6529921505841256, null], \"z\": [-0.6984924623115578, 0.4070351758793972, null]}, {\"hoverinfo\": \"none\", \"line\": {\"color\": \"black\", \"width\": 0}, \"mode\": \"lines\", \"type\": \"scatter3d\", \"x\": [0.3275469559381285, -0.600556325517356, null], \"y\": [-0.6362556653968614, -0.18070833075791126, null], \"z\": [-0.6984924623115578, 0.778894472361809, null]}, {\"hoverinfo\": \"none\", \"line\": {\"color\": \"black\", \"width\": 8}, \"mode\": \"lines\", \"type\": \"scatter3d\", \"x\": [0.3275469559381285, 0.1297116280928751, null], \"y\": [-0.6362556653968614, 0.24891922943540667, null], \"z\": [-0.6984924623115578, 0.9597989949748744, null]}, {\"hoverinfo\": \"none\", \"line\": {\"color\": \"black\", \"width\": 6}, \"mode\": \"lines\", \"type\": \"scatter3d\", \"x\": [0.5334469074912569, -0.27091571301396306, null], \"y\": [-0.49140789465100837, 0.7462518277390714, null], \"z\": [-0.6884422110552765, -0.6080402010050251, null]}, {\"hoverinfo\": \"none\", \"line\": {\"color\": \"black\", \"width\": 4}, \"mode\": \"lines\", \"type\": \"scatter3d\", \"x\": [0.5334469074912569, 0.739575014981879, null], \"y\": [-0.49140789465100837, 0.6715529720883432, null], \"z\": [-0.6884422110552765, 0.045226130653266486, null]}, {\"hoverinfo\": \"none\", \"line\": {\"color\": \"black\", \"width\": 4}, \"mode\": \"lines\", \"type\": \"scatter3d\", \"x\": [0.5334469074912569, -0.8109889569592988, null], \"y\": [-0.49140789465100837, 0.5735317455564173, null], \"z\": [-0.6884422110552765, 0.11557788944723603, null]}, {\"hoverinfo\": \"none\", \"line\": {\"color\": \"black\", \"width\": 3}, \"mode\": \"lines\", \"type\": \"scatter3d\", \"x\": [0.5334469074912569, 0.36579375496206784, null], \"y\": [-0.49140789465100837, 0.7666765082332472, null], \"z\": [-0.6884422110552765, 0.5276381909547738, null]}, {\"hoverinfo\": \"none\", \"line\": {\"color\": \"black\", \"width\": 4}, \"mode\": \"lines\", \"type\": \"scatter3d\", \"x\": [0.5334469074912569, -0.5679012117000678, null], \"y\": [-0.49140789465100837, 0.318935612734006, null], \"z\": [-0.6884422110552765, 0.7587939698492463, null]}, {\"hoverinfo\": \"none\", \"line\": {\"color\": \"black\", \"width\": 2}, \"mode\": \"lines\", \"type\": \"scatter3d\", \"x\": [0.5334469074912569, 0.0676279462623623, null], \"y\": [-0.49140789465100837, -0.12420127151757969, null], \"z\": [-0.6884422110552765, 0.9899497487437185, null]}, {\"hoverinfo\": \"none\", \"line\": {\"color\": \"black\", \"width\": 5}, \"mode\": \"lines\", \"type\": \"scatter3d\", \"x\": [0.67729665182849, 0.6211402465143849, null], \"y\": [-0.2846991294366667, 0.44041813423680065, null], \"z\": [-0.678391959798995, -0.6482412060301509, null]}, {\"hoverinfo\": \"none\", \"line\": {\"color\": \"black\", \"width\": 3}, \"mode\": \"lines\", \"type\": \"scatter3d\", \"x\": [0.67729665182849, -0.4695271916732191, null], \"y\": [-0.2846991294366667, 0.7936156341869542, null], \"z\": [-0.678391959798995, -0.3869346733668342, null]}, {\"hoverinfo\": \"none\", \"line\": {\"color\": \"black\", \"width\": 6}, \"mode\": \"lines\", \"type\": \"scatter3d\", \"x\": [0.67729665182849, 0.7480816348934248, null], \"y\": [-0.2846991294366667, -0.6121222981915062, null], \"z\": [-0.678391959798995, -0.25628140703517577, null]}, {\"hoverinfo\": \"none\", \"line\": {\"color\": \"black\", \"width\": 7}, \"mode\": \"lines\", \"type\": \"scatter3d\", \"x\": [0.67729665182849, 0.6243280701168443, null], \"y\": [-0.2846991294366667, 0.7561787750638941, null], \"z\": [-0.678391959798995, -0.19597989949748734, null]}, {\"hoverinfo\": \"none\", \"line\": {\"color\": \"black\", \"width\": 6}, \"mode\": \"lines\", \"type\": \"scatter3d\", \"x\": [0.67729665182849, -0.9288482441833449, null], \"y\": [-0.2846991294366667, 0.3485089805742379, null], \"z\": [-0.678391959798995, 0.12562814070351763, null]}, {\"hoverinfo\": \"none\", \"line\": {\"color\": \"black\", \"width\": 7}, \"mode\": \"lines\", \"type\": \"scatter3d\", \"x\": [0.67729665182849, 0.9543101980031311, null], \"y\": [-0.2846991294366667, 0.1354972094876758, null], \"z\": [-0.678391959798995, 0.26633165829145716, null]}, {\"hoverinfo\": \"none\", \"line\": {\"color\": \"black\", \"width\": 3}, \"mode\": \"lines\", \"type\": \"scatter3d\", \"x\": [0.7427005070540483, 0.44943909472304994, null], \"y\": [-0.0414163910048412, 0.6250734399887283, null], \"z\": [-0.6683417085427136, -0.6381909547738694, null]}, {\"hoverinfo\": \"none\", \"line\": {\"color\": \"black\", \"width\": 9}, \"mode\": \"lines\", \"type\": \"scatter3d\", \"x\": [0.7427005070540483, -0.7492577373693531, null], \"y\": [-0.0414163910048412, 0.648231607488682, null], \"z\": [-0.6683417085427136, -0.13567839195979897, null]}, {\"hoverinfo\": \"none\", \"line\": {\"color\": \"black\", \"width\": 3}, \"mode\": \"lines\", \"type\": \"scatter3d\", \"x\": [0.7427005070540483, -0.9047419231328161, null], \"y\": [-0.0414163910048412, -0.39645300927462035, null], \"z\": [-0.6683417085427136, 0.15577889447236173, null]}, {\"hoverinfo\": \"none\", \"line\": {\"color\": \"black\", \"width\": 3}, \"mode\": \"lines\", \"type\": \"scatter3d\", \"x\": [0.7427005070540483, -0.5887395729275208, null], \"y\": [-0.0414163910048412, -0.7889563695067934, null], \"z\": [-0.6683417085427136, 0.17587939698492458, null]}, {\"hoverinfo\": \"none\", \"line\": {\"color\": \"black\", \"width\": 3}, \"mode\": \"lines\", \"type\": \"scatter3d\", \"x\": [0.7427005070540483, -0.707456892094313, null], \"y\": [-0.0414163910048412, -0.360266373382285, null], \"z\": [-0.6683417085427136, 0.6080402010050252, null]}, {\"hoverinfo\": \"none\", \"line\": {\"color\": \"black\", \"width\": 9}, \"mode\": \"lines\", \"type\": \"scatter3d\", \"x\": [0.722933490894233, 0.4105859500056902, null], \"y\": [0.20980830538180167, 0.8926641829729847, null], \"z\": [-0.6582914572864321, -0.18592964824120606, null]}, {\"hoverinfo\": \"none\", \"line\": {\"color\": \"black\", \"width\": 5}, \"mode\": \"lines\", \"type\": \"scatter3d\", \"x\": [0.722933490894233, -0.5887395729275208, null], \"y\": [0.20980830538180167, -0.7889563695067934, null], \"z\": [-0.6582914572864321, 0.17587939698492458, null]}, {\"hoverinfo\": \"none\", \"line\": {\"color\": \"black\", \"width\": 3}, \"mode\": \"lines\", \"type\": \"scatter3d\", \"x\": [0.722933490894233, 0.7741176022559528, null], \"y\": [0.20980830538180167, -0.5873333961357678, null], \"z\": [-0.6582914572864321, 0.23618090452261312, null]}, {\"hoverinfo\": \"none\", \"line\": {\"color\": \"black\", \"width\": 8}, \"mode\": \"lines\", \"type\": \"scatter3d\", \"x\": [0.722933490894233, -0.1908820904593788, null], \"y\": [0.20980830538180167, -0.8838094476675942, null], \"z\": [-0.6582914572864321, 0.4271356783919597, null]}, {\"hoverinfo\": \"none\", \"line\": {\"color\": \"black\", \"width\": 4}, \"mode\": \"lines\", \"type\": \"scatter3d\", \"x\": [0.722933490894233, 0.7082279152172981, null], \"y\": [0.20980830538180167, -0.5291593752733467, null], \"z\": [-0.6582914572864321, 0.4673366834170853, null]}, {\"hoverinfo\": \"none\", \"line\": {\"color\": \"black\", \"width\": 3}, \"mode\": \"lines\", \"type\": \"scatter3d\", \"x\": [0.722933490894233, 0.6648572393833766, null], \"y\": [0.20980830538180167, 0.264713300257944, null], \"z\": [-0.6582914572864321, 0.6984924623115578, null]}, {\"hoverinfo\": \"none\", \"line\": {\"color\": \"black\", \"width\": 0}, \"mode\": \"lines\", \"type\": \"scatter3d\", \"x\": [0.722933490894233, -0.4107215962272207, null], \"y\": [0.20980830538180167, 0.5202793617472665, null], \"z\": [-0.6582914572864321, 0.7487437185929648, null]}, {\"hoverinfo\": \"none\", \"line\": {\"color\": \"black\", \"width\": 7}, \"mode\": \"lines\", \"type\": \"scatter3d\", \"x\": [0.722933490894233, 0.1400434946507435, null], \"y\": [0.20980830538180167, 0.4739452249640167, null], \"z\": [-0.6582914572864321, 0.8693467336683418, null]}, {\"hoverinfo\": \"none\", \"line\": {\"color\": \"black\", \"width\": 5}, \"mode\": \"lines\", \"type\": \"scatter3d\", \"x\": [0.722933490894233, -0.1303084840790476, null], \"y\": [0.20980830538180167, 0.20594207574432036, null], \"z\": [-0.6582914572864321, 0.9698492462311559, null]}, {\"hoverinfo\": \"none\", \"line\": {\"color\": \"black\", \"width\": 8}, \"mode\": \"lines\", \"type\": \"scatter3d\", \"x\": [0.6211402465143849, 0.44943909472304994, null], \"y\": [0.44041813423680065, 0.6250734399887283, null], \"z\": [-0.6482412060301509, -0.6381909547738694, null]}, {\"hoverinfo\": \"none\", \"line\": {\"color\": \"black\", \"width\": 9}, \"mode\": \"lines\", \"type\": \"scatter3d\", \"x\": [0.6211402465143849, -0.8227463645485272, null], \"y\": [0.44041813423680065, -0.025437514247334803, null], \"z\": [-0.6482412060301509, -0.5678391959798994, null]}, {\"hoverinfo\": \"none\", \"line\": {\"color\": \"black\", \"width\": 8}, \"mode\": \"lines\", \"type\": \"scatter3d\", \"x\": [0.6211402465143849, -0.1643943972580509, null], \"y\": [0.44041813423680065, -0.9407830044644023, null], \"z\": [-0.6482412060301509, -0.29648241206030146, null]}, {\"hoverinfo\": \"none\", \"line\": {\"color\": \"black\", \"width\": 5}, \"mode\": \"lines\", \"type\": \"scatter3d\", \"x\": [0.6211402465143849, 0.8837350468780757, null], \"y\": [0.44041813423680065, -0.3979730956273241, null], \"z\": [-0.6482412060301509, -0.2462311557788945, null]}, {\"hoverinfo\": \"none\", \"line\": {\"color\": \"black\", \"width\": 4}, \"mode\": \"lines\", \"type\": \"scatter3d\", \"x\": [0.6211402465143849, -0.4034742971178234, null], \"y\": [0.44041813423680065, 0.8507953738854946, null], \"z\": [-0.6482412060301509, 0.3366834170854272, null]}, {\"hoverinfo\": \"none\", \"line\": {\"color\": \"black\", \"width\": 0}, \"mode\": \"lines\", \"type\": \"scatter3d\", \"x\": [0.6211402465143849, -0.707456892094313, null], \"y\": [0.44041813423680065, -0.360266373382285, null], \"z\": [-0.6482412060301509, 0.6080402010050252, null]}, {\"hoverinfo\": \"none\", \"line\": {\"color\": \"black\", \"width\": 8}, \"mode\": \"lines\", \"type\": \"scatter3d\", \"x\": [0.6211402465143849, 0.3962282650703626, null], \"y\": [0.44041813423680065, -0.6400433729233012, null], \"z\": [-0.6482412060301509, 0.6582914572864322, null]}, {\"hoverinfo\": \"none\", \"line\": {\"color\": \"black\", \"width\": 9}, \"mode\": \"lines\", \"type\": \"scatter3d\", \"x\": [0.6211402465143849, 0.1400434946507435, null], \"y\": [0.44041813423680065, 0.4739452249640167, null], \"z\": [-0.6482412060301509, 0.8693467336683418, null]}, {\"hoverinfo\": \"none\", \"line\": {\"color\": \"black\", \"width\": 3}, \"mode\": \"lines\", \"type\": \"scatter3d\", \"x\": [0.6211402465143849, 0.27639958067021775, null], \"y\": [0.44041813423680065, -0.20141999669691893, null], \"z\": [-0.6482412060301509, 0.9396984924623115, null]}, {\"hoverinfo\": \"none\", \"line\": {\"color\": \"black\", \"width\": 0}, \"mode\": \"lines\", \"type\": \"scatter3d\", \"x\": [0.44943909472304994, 0.08868431031648284, null], \"y\": [0.6250734399887283, -0.9539872694962075, null], \"z\": [-0.6381909547738694, -0.28643216080402006, null]}, {\"hoverinfo\": \"none\", \"line\": {\"color\": \"black\", \"width\": 5}, \"mode\": \"lines\", \"type\": \"scatter3d\", \"x\": [0.44943909472304994, 0.9606193521054072, null], \"y\": [0.6250734399887283, -0.27782226057861037, null], \"z\": [-0.6381909547738694, 0.005025125628140593, null]}, {\"hoverinfo\": \"none\", \"line\": {\"color\": \"black\", \"width\": 6}, \"mode\": \"lines\", \"type\": \"scatter3d\", \"x\": [0.44943909472304994, 0.06798173585948922, null], \"y\": [0.6250734399887283, 0.9948350661714466, null], \"z\": [-0.6381909547738694, 0.07537688442211064, null]}, {\"hoverinfo\": \"none\", \"line\": {\"color\": \"black\", \"width\": 9}, \"mode\": \"lines\", \"type\": \"scatter3d\", \"x\": [0.44943909472304994, -0.985601838057066, null], \"y\": [0.6250734399887283, 0.100897922544204, null], \"z\": [-0.6381909547738694, 0.13567839195979908, null]}, {\"hoverinfo\": \"none\", \"line\": {\"color\": \"black\", \"width\": 9}, \"mode\": \"lines\", \"type\": \"scatter3d\", \"x\": [0.44943909472304994, 0.13434625214634502, null], \"y\": [0.6250734399887283, -0.9692794548088852, null], \"z\": [-0.6381909547738694, 0.20603015075376876, null]}, {\"hoverinfo\": \"none\", \"line\": {\"color\": \"black\", \"width\": 6}, \"mode\": \"lines\", \"type\": \"scatter3d\", \"x\": [0.44943909472304994, 0.5970599024521844, null], \"y\": [0.6250734399887283, -0.7696651223338173, null], \"z\": [-0.6381909547738694, 0.22613065326633158, null]}, {\"hoverinfo\": \"none\", \"line\": {\"color\": \"black\", \"width\": 9}, \"mode\": \"lines\", \"type\": \"scatter3d\", \"x\": [0.44943909472304994, -0.16221249071244484, null], \"y\": [0.6250734399887283, 0.9311272108779202, null], \"z\": [-0.6381909547738694, 0.3266331658291456, null]}, {\"hoverinfo\": \"none\", \"line\": {\"color\": \"black\", \"width\": 2}, \"mode\": \"lines\", \"type\": \"scatter3d\", \"x\": [0.44943909472304994, 0.3119136244605593, null], \"y\": [0.6250734399887283, 0.6215577541798972, null], \"z\": [-0.6381909547738694, 0.7185929648241205, null]}, {\"hoverinfo\": \"none\", \"line\": {\"color\": \"black\", \"width\": 8}, \"mode\": \"lines\", \"type\": \"scatter3d\", \"x\": [0.44943909472304994, 0.06389728976483165, null], \"y\": [0.6250734399887283, 0.6819062985636061, null], \"z\": [-0.6381909547738694, 0.728643216080402, null]}, {\"hoverinfo\": \"none\", \"line\": {\"color\": \"black\", \"width\": 8}, \"mode\": \"lines\", \"type\": \"scatter3d\", \"x\": [0.2271342624438953, 0.6563279444247275, null], \"y\": [0.7442105101438017, -0.575880733433753, null], \"z\": [-0.6281407035175878, -0.48743718592964824, null]}, {\"hoverinfo\": \"none\", \"line\": {\"color\": \"black\", \"width\": 7}, \"mode\": \"lines\", \"type\": \"scatter3d\", \"x\": [0.2271342624438953, 0.6812730069106526, null], \"y\": [0.7442105101438017, 0.5871418508099392, null], \"z\": [-0.6281407035175878, -0.4371859296482414, null]}, {\"hoverinfo\": \"none\", \"line\": {\"color\": \"black\", \"width\": 6}, \"mode\": \"lines\", \"type\": \"scatter3d\", \"x\": [0.2271342624438953, -0.6702820247214136, null], \"y\": [0.7442105101438017, 0.639280955219031, null], \"z\": [-0.6281407035175878, -0.37688442211055273, null]}, {\"hoverinfo\": \"none\", \"line\": {\"color\": \"black\", \"width\": 8}, \"mode\": \"lines\", \"type\": \"scatter3d\", \"x\": [0.2271342624438953, 0.7958335820929668, null], \"y\": [0.7442105101438017, 0.5693860611162309, null], \"z\": [-0.6281407035175878, -0.20603015075376888, null]}, {\"hoverinfo\": \"none\", \"line\": {\"color\": \"black\", \"width\": 0}, \"mode\": \"lines\", \"type\": \"scatter3d\", \"x\": [0.2271342624438953, 0.5460301977631995, null], \"y\": [0.7442105101438017, 0.8359399169400101, null], \"z\": [-0.6281407035175878, 0.05527638190954773, null]}, {\"hoverinfo\": \"none\", \"line\": {\"color\": \"black\", \"width\": 5}, \"mode\": \"lines\", \"type\": \"scatter3d\", \"x\": [0.2271342624438953, -0.16221249071244484, null], \"y\": [0.7442105101438017, 0.9311272108779202, null], \"z\": [-0.6281407035175878, 0.3266331658291456, null]}, {\"hoverinfo\": \"none\", \"line\": {\"color\": \"black\", \"width\": 9}, \"mode\": \"lines\", \"type\": \"scatter3d\", \"x\": [0.2271342624438953, 0.5319383843782858, null], \"y\": [0.7442105101438017, -0.7126925523580707, null], \"z\": [-0.6281407035175878, 0.45728643216080406, null]}, {\"hoverinfo\": \"none\", \"line\": {\"color\": \"black\", \"width\": 1}, \"mode\": \"lines\", \"type\": \"scatter3d\", \"x\": [0.2271342624438953, 0.7440964149681661, null], \"y\": [0.7442105101438017, 0.4344260812178058, null], \"z\": [-0.6281407035175878, 0.5075376884422113, null]}, {\"hoverinfo\": \"none\", \"line\": {\"color\": \"black\", \"width\": 4}, \"mode\": \"lines\", \"type\": \"scatter3d\", \"x\": [0.2271342624438953, -0.6353138707760849, null], \"y\": [0.7442105101438017, 0.07249033916421053, null], \"z\": [-0.6281407035175878, 0.7688442211055277, null]}, {\"hoverinfo\": \"none\", \"line\": {\"color\": \"black\", \"width\": 8}, \"mode\": \"lines\", \"type\": \"scatter3d\", \"x\": [0.2271342624438953, 0.5087685882011274, null], \"y\": [0.7442105101438017, 0.14119264331946282, null], \"z\": [-0.6281407035175878, 0.8492462311557789, null]}, {\"hoverinfo\": \"none\", \"line\": {\"color\": \"black\", \"width\": 4}, \"mode\": \"lines\", \"type\": \"scatter3d\", \"x\": [-0.021693443738824616, -0.4695271916732191, null], \"y\": [0.7858076019752953, 0.7936156341869542, null], \"z\": [-0.6180904522613064, -0.3869346733668342, null]}, {\"hoverinfo\": \"none\", \"line\": {\"color\": \"black\", \"width\": 1}, \"mode\": \"lines\", \"type\": \"scatter3d\", \"x\": [-0.021693443738824616, 0.9134816304942963, null], \"y\": [0.7858076019752953, 0.3447616141867552, null], \"z\": [-0.6180904522613064, -0.21608040201005033, null]}, {\"hoverinfo\": \"none\", \"line\": {\"color\": \"black\", \"width\": 4}, \"mode\": \"lines\", \"type\": \"scatter3d\", \"x\": [-0.021693443738824616, -0.5591285460316034, null], \"y\": [0.7858076019752953, 0.8161730402059268, null], \"z\": [-0.6180904522613064, -0.14572864321608034, null]}, {\"hoverinfo\": \"none\", \"line\": {\"color\": \"black\", \"width\": 9}, \"mode\": \"lines\", \"type\": \"scatter3d\", \"x\": [-0.021693443738824616, 0.8853301800948286, null], \"y\": [0.7858076019752953, 0.4636303804992801, null], \"z\": [-0.6180904522613064, 0.03517587939698494, null]}, {\"hoverinfo\": \"none\", \"line\": {\"color\": \"black\", \"width\": 3}, \"mode\": \"lines\", \"type\": \"scatter3d\", \"x\": [-0.021693443738824616, 0.89774944367018, null], \"y\": [0.7858076019752953, -0.3652617613625499, null], \"z\": [-0.6180904522613064, 0.24623115577889462, null]}, {\"hoverinfo\": \"none\", \"line\": {\"color\": \"black\", \"width\": 3}, \"mode\": \"lines\", \"type\": \"scatter3d\", \"x\": [-0.021693443738824616, 0.09172592356847682, null], \"y\": [0.7858076019752953, 0.9441194909258364, null], \"z\": [-0.6180904522613064, 0.3165829145728642, null]}, {\"hoverinfo\": \"none\", \"line\": {\"color\": \"black\", \"width\": 4}, \"mode\": \"lines\", \"type\": \"scatter3d\", \"x\": [-0.021693443738824616, -0.6386889828957023, null], \"y\": [0.7858076019752953, -0.6529921505841256, null], \"z\": [-0.6180904522613064, 0.4070351758793972, null]}, {\"hoverinfo\": \"none\", \"line\": {\"color\": \"black\", \"width\": 1}, \"mode\": \"lines\", \"type\": \"scatter3d\", \"x\": [-0.021693443738824616, -0.7231637330577864, null], \"y\": [0.7858076019752953, 0.3782565293064855, null], \"z\": [-0.6180904522613064, 0.5778894472361809, null]}, {\"hoverinfo\": \"none\", \"line\": {\"color\": \"black\", \"width\": 0}, \"mode\": \"lines\", \"type\": \"scatter3d\", \"x\": [-0.021693443738824616, -0.7976204808491804, null], \"y\": [0.7858076019752953, 0.13464204197246402, null], \"z\": [-0.6180904522613064, 0.5879396984924623, null]}, {\"hoverinfo\": \"none\", \"line\": {\"color\": \"black\", \"width\": 1}, \"mode\": \"lines\", \"type\": \"scatter3d\", \"x\": [-0.021693443738824616, 0.5212824240995492, null], \"y\": [0.7858076019752953, 0.47563836827449124, null], \"z\": [-0.6180904522613064, 0.7085427135678393, null]}, {\"hoverinfo\": \"none\", \"line\": {\"color\": \"black\", \"width\": 3}, \"mode\": \"lines\", \"type\": \"scatter3d\", \"x\": [-0.021693443738824616, 0.30775790638944817, null], \"y\": [0.7858076019752953, 0.0571173779137144, null], \"z\": [-0.6180904522613064, 0.949748743718593, null]}, {\"hoverinfo\": \"none\", \"line\": {\"color\": \"black\", \"width\": 8}, \"mode\": \"lines\", \"type\": \"scatter3d\", \"x\": [-0.021693443738824616, 0.0676279462623623, null], \"y\": [0.7858076019752953, -0.12420127151757969, null], \"z\": [-0.6180904522613064, 0.9899497487437185, null]}, {\"hoverinfo\": \"none\", \"line\": {\"color\": \"black\", \"width\": 0}, \"mode\": \"lines\", \"type\": \"scatter3d\", \"x\": [-0.27091571301396306, -0.9365042078689544, null], \"y\": [0.7462518277390714, -0.052303268368663655, null], \"z\": [-0.6080402010050251, -0.3467336683417085, null]}, {\"hoverinfo\": \"none\", \"line\": {\"color\": \"black\", \"width\": 1}, \"mode\": \"lines\", \"type\": \"scatter3d\", \"x\": [-0.27091571301396306, -0.8405173138299454, null], \"y\": [0.7462518277390714, -0.5350073360636081, null], \"z\": [-0.6080402010050251, -0.08542713567839195, null]}, {\"hoverinfo\": \"none\", \"line\": {\"color\": \"black\", \"width\": 3}, \"mode\": \"lines\", \"type\": \"scatter3d\", \"x\": [-0.27091571301396306, -0.47275790495820047, null], \"y\": [0.7462518277390714, -0.8787675428113799, null], \"z\": [-0.6080402010050251, -0.06532663316582904, null]}, {\"hoverinfo\": \"none\", \"line\": {\"color\": \"black\", \"width\": 8}, \"mode\": \"lines\", \"type\": \"scatter3d\", \"x\": [-0.27091571301396306, 0.89774944367018, null], \"y\": [0.7462518277390714, -0.3652617613625499, null], \"z\": [-0.6080402010050251, 0.24623115577889462, null]}, {\"hoverinfo\": \"none\", \"line\": {\"color\": \"black\", \"width\": 0}, \"mode\": \"lines\", \"type\": \"scatter3d\", \"x\": [-0.27091571301396306, -0.8858140940564723, null], \"y\": [0.7462518277390714, 0.2841937400165084, null], \"z\": [-0.6080402010050251, 0.3668341708542712, null]}, {\"hoverinfo\": \"none\", \"line\": {\"color\": \"black\", \"width\": 3}, \"mode\": \"lines\", \"type\": \"scatter3d\", \"x\": [-0.27091571301396306, 0.5212824240995492, null], \"y\": [0.7462518277390714, 0.47563836827449124, null], \"z\": [-0.6080402010050251, 0.7085427135678393, null]}, {\"hoverinfo\": \"none\", \"line\": {\"color\": \"black\", \"width\": 2}, \"mode\": \"lines\", \"type\": \"scatter3d\", \"x\": [-0.27091571301396306, -0.004587855210254107, null], \"y\": [0.7462518277390714, -0.5877284863436261, null], \"z\": [-0.6080402010050251, 0.8090452261306533, null]}, {\"hoverinfo\": \"none\", \"line\": {\"color\": \"black\", \"width\": 9}, \"mode\": \"lines\", \"type\": \"scatter3d\", \"x\": [-0.27091571301396306, 0.5317207462626569, null], \"y\": [0.7462518277390714, -0.11411904010464476, null], \"z\": [-0.6080402010050251, 0.8391959798994975, null]}, {\"hoverinfo\": \"none\", \"line\": {\"color\": \"black\", \"width\": 8}, \"mode\": \"lines\", \"type\": \"scatter3d\", \"x\": [-0.4951054392952383, -0.02552158648393625, null], \"y\": [0.6303004235916108, -0.8552493047655827, null], \"z\": [-0.5979899497487439, -0.5175879396984926, null]}, {\"hoverinfo\": \"none\", \"line\": {\"color\": \"black\", \"width\": 7}, \"mode\": \"lines\", \"type\": \"scatter3d\", \"x\": [-0.4951054392952383, 0.08868431031648284, null], \"y\": [0.6303004235916108, -0.9539872694962075, null], \"z\": [-0.5979899497487439, -0.28643216080402006, null]}, {\"hoverinfo\": \"none\", \"line\": {\"color\": \"black\", \"width\": 9}, \"mode\": \"lines\", \"type\": \"scatter3d\", \"x\": [-0.4951054392952383, -0.9928784759284608, null], \"y\": [0.6303004235916108, -0.05528335749405927, null], \"z\": [-0.5979899497487439, -0.10552763819095481, null]}, {\"hoverinfo\": \"none\", \"line\": {\"color\": \"black\", \"width\": 1}, \"mode\": \"lines\", \"type\": \"scatter3d\", \"x\": [-0.4951054392952383, -0.7722794062760031, null], \"y\": [0.6303004235916108, -0.6132578683301932, null], \"z\": [-0.5979899497487439, 0.16582914572864324, null]}, {\"hoverinfo\": \"none\", \"line\": {\"color\": \"black\", \"width\": 1}, \"mode\": \"lines\", \"type\": \"scatter3d\", \"x\": [-0.4951054392952383, -0.6386889828957023, null], \"y\": [0.6303004235916108, -0.6529921505841256, null], \"z\": [-0.5979899497487439, 0.4070351758793972, null]}, {\"hoverinfo\": \"none\", \"line\": {\"color\": \"black\", \"width\": 1}, \"mode\": \"lines\", \"type\": \"scatter3d\", \"x\": [-0.4951054392952383, 0.7440964149681661, null], \"y\": [0.6303004235916108, 0.4344260812178058, null], \"z\": [-0.5979899497487439, 0.5075376884422113, null]}, {\"hoverinfo\": \"none\", \"line\": {\"color\": \"black\", \"width\": 5}, \"mode\": \"lines\", \"type\": \"scatter3d\", \"x\": [-0.4951054392952383, -0.5679012117000678, null], \"y\": [0.6303004235916108, 0.318935612734006, null], \"z\": [-0.5979899497487439, 0.7587939698492463, null]}, {\"hoverinfo\": \"none\", \"line\": {\"color\": \"black\", \"width\": 4}, \"mode\": \"lines\", \"type\": \"scatter3d\", \"x\": [-0.4951054392952383, 0.1297116280928751, null], \"y\": [0.6303004235916108, 0.24891922943540667, null], \"z\": [-0.5979899497487439, 0.9597989949748744, null]}, {\"hoverinfo\": \"none\", \"line\": {\"color\": \"black\", \"width\": 4}, \"mode\": \"lines\", \"type\": \"scatter3d\", \"x\": [-0.672034824294811, -0.02552158648393625, null], \"y\": [0.4502178426846665, -0.8552493047655827, null], \"z\": [-0.5879396984924623, -0.5175879396984926, null]}, {\"hoverinfo\": \"none\", \"line\": {\"color\": \"black\", \"width\": 4}, \"mode\": \"lines\", \"type\": \"scatter3d\", \"x\": [-0.672034824294811, -0.47275790495820047, null], \"y\": [0.4502178426846665, -0.8787675428113799, null], \"z\": [-0.5879396984924623, -0.06532663316582904, null]}, {\"hoverinfo\": \"none\", \"line\": {\"color\": \"black\", \"width\": 7}, \"mode\": \"lines\", \"type\": \"scatter3d\", \"x\": [-0.672034824294811, -0.42668500783452756, null], \"y\": [0.4502178426846665, 0.8993464141660742, null], \"z\": [-0.5879396984924623, 0.09547738693467349, null]}, {\"hoverinfo\": \"none\", \"line\": {\"color\": \"black\", \"width\": 9}, \"mode\": \"lines\", \"type\": \"scatter3d\", \"x\": [-0.672034824294811, 0.3399549164860912, null], \"y\": [0.4502178426846665, 0.8890828876302689, null], \"z\": [-0.5879396984924623, 0.30653266331658297, null]}, {\"hoverinfo\": \"none\", \"line\": {\"color\": \"black\", \"width\": 7}, \"mode\": \"lines\", \"type\": \"scatter3d\", \"x\": [-0.672034824294811, 0.7440964149681661, null], \"y\": [0.4502178426846665, 0.4344260812178058, null], \"z\": [-0.5879396984924623, 0.5075376884422113, null]}, {\"hoverinfo\": \"none\", \"line\": {\"color\": \"black\", \"width\": 7}, \"mode\": \"lines\", \"type\": \"scatter3d\", \"x\": [-0.672034824294811, 0.3119136244605593, null], \"y\": [0.4502178426846665, 0.6215577541798972, null], \"z\": [-0.5879396984924623, 0.7185929648241205, null]}, {\"hoverinfo\": \"none\", \"line\": {\"color\": \"black\", \"width\": 4}, \"mode\": \"lines\", \"type\": \"scatter3d\", \"x\": [-0.672034824294811, -0.11657616359218419, null], \"y\": [0.4502178426846665, 0.4615960799092759, null], \"z\": [-0.5879396984924623, 0.879396984924623, null]}, {\"hoverinfo\": \"none\", \"line\": {\"color\": \"black\", \"width\": 3}, \"mode\": \"lines\", \"type\": \"scatter3d\", \"x\": [-0.7847039751073679, 0.9134816304942963, null], \"y\": [0.22423973382020593, 0.3447616141867552, null], \"z\": [-0.5778894472361807, -0.21608040201005033, null]}, {\"hoverinfo\": \"none\", \"line\": {\"color\": \"black\", \"width\": 9}, \"mode\": \"lines\", \"type\": \"scatter3d\", \"x\": [-0.7847039751073679, 0.8829535645133417, null], \"y\": [0.22423973382020593, 0.37948128147239324, null], \"z\": [-0.5778894472361807, 0.2763819095477386, null]}, {\"hoverinfo\": \"none\", \"line\": {\"color\": \"black\", \"width\": 2}, \"mode\": \"lines\", \"type\": \"scatter3d\", \"x\": [-0.7847039751073679, -0.6386889828957023, null], \"y\": [0.22423973382020593, -0.6529921505841256, null], \"z\": [-0.5778894472361807, 0.4070351758793972, null]}, {\"hoverinfo\": \"none\", \"line\": {\"color\": \"black\", \"width\": 2}, \"mode\": \"lines\", \"type\": \"scatter3d\", \"x\": [-0.7847039751073679, -0.707456892094313, null], \"y\": [0.22423973382020593, -0.360266373382285, null], \"z\": [-0.5778894472361807, 0.6080402010050252, null]}, {\"hoverinfo\": \"none\", \"line\": {\"color\": \"black\", \"width\": 6}, \"mode\": \"lines\", \"type\": \"scatter3d\", \"x\": [-0.8227463645485272, 0.13434625214634502, null], \"y\": [-0.025437514247334803, -0.9692794548088852, null], \"z\": [-0.5678391959798994, 0.20603015075376876, null]}, {\"hoverinfo\": \"none\", \"line\": {\"color\": \"black\", \"width\": 8}, \"mode\": \"lines\", \"type\": \"scatter3d\", \"x\": [-0.8227463645485272, 0.3108397890520478, null], \"y\": [-0.025437514247334803, -0.8386646672133121, null], \"z\": [-0.5678391959798994, 0.44723618090452255, null]}, {\"hoverinfo\": \"none\", \"line\": {\"color\": \"black\", \"width\": 7}, \"mode\": \"lines\", \"type\": \"scatter3d\", \"x\": [-0.8227463645485272, -0.7231637330577864, null], \"y\": [-0.025437514247334803, 0.3782565293064855, null], \"z\": [-0.5678391959798994, 0.5778894472361809, null]}, {\"hoverinfo\": \"none\", \"line\": {\"color\": \"black\", \"width\": 3}, \"mode\": \"lines\", \"type\": \"scatter3d\", \"x\": [-0.8227463645485272, 0.5212824240995492, null], \"y\": [-0.025437514247334803, 0.47563836827449124, null], \"z\": [-0.5678391959798994, 0.7085427135678393, null]}, {\"hoverinfo\": \"none\", \"line\": {\"color\": \"black\", \"width\": 5}, \"mode\": \"lines\", \"type\": \"scatter3d\", \"x\": [-0.8227463645485272, 0.3119136244605593, null], \"y\": [-0.025437514247334803, 0.6215577541798972, null], \"z\": [-0.5678391959798994, 0.7185929648241205, null]}, {\"hoverinfo\": \"none\", \"line\": {\"color\": \"black\", \"width\": 9}, \"mode\": \"lines\", \"type\": \"scatter3d\", \"x\": [-0.8227463645485272, -0.4107215962272207, null], \"y\": [-0.025437514247334803, 0.5202793617472665, null], \"z\": [-0.5678391959798994, 0.7487437185929648, null]}, {\"hoverinfo\": \"none\", \"line\": {\"color\": \"black\", \"width\": 2}, \"mode\": \"lines\", \"type\": \"scatter3d\", \"x\": [-0.8227463645485272, 0.0, null], \"y\": [-0.025437514247334803, 0.0, null], \"z\": [-0.5678391959798994, 1.0, null]}, {\"hoverinfo\": \"none\", \"line\": {\"color\": \"black\", \"width\": 0}, \"mode\": \"lines\", \"type\": \"scatter3d\", \"x\": [-0.7831291349132213, -0.23599909505127642, null], \"y\": [-0.274918626495518, -0.970179853809575, null], \"z\": [-0.5577889447236182, -0.05527638190954783, null]}, {\"hoverinfo\": \"none\", \"line\": {\"color\": \"black\", \"width\": 2}, \"mode\": \"lines\", \"type\": \"scatter3d\", \"x\": [-0.7831291349132213, -0.11973939666335258, null], \"y\": [-0.274918626495518, -0.9732699296082516, null], \"z\": [-0.5577889447236182, 0.19597989949748745, null]}, {\"hoverinfo\": \"none\", \"line\": {\"color\": \"black\", \"width\": 4}, \"mode\": \"lines\", \"type\": \"scatter3d\", \"x\": [-0.7831291349132213, 0.12037404304848949, null], \"y\": [-0.274918626495518, 0.834506578088399, null], \"z\": [-0.5577889447236182, 0.5376884422110553, null]}, {\"hoverinfo\": \"none\", \"line\": {\"color\": \"black\", \"width\": 3}, \"mode\": \"lines\", \"type\": \"scatter3d\", \"x\": [-0.7831291349132213, 0.725096144076266, null], \"y\": [-0.274918626495518, 0.01681974681893568, null], \"z\": [-0.5577889447236182, 0.6884422110552764, null]}, {\"hoverinfo\": \"none\", \"line\": {\"color\": \"black\", \"width\": 3}, \"mode\": \"lines\", \"type\": \"scatter3d\", \"x\": [-0.7831291349132213, 0.5212824240995492, null], \"y\": [-0.274918626495518, 0.47563836827449124, null], \"z\": [-0.5577889447236182, 0.7085427135678393, null]}, {\"hoverinfo\": \"none\", \"line\": {\"color\": \"black\", \"width\": 3}, \"mode\": \"lines\", \"type\": \"scatter3d\", \"x\": [-0.7831291349132213, -0.6353138707760849, null], \"y\": [-0.274918626495518, 0.07249033916421053, null], \"z\": [-0.5577889447236182, 0.7688442211055277, null]}, {\"hoverinfo\": \"none\", \"line\": {\"color\": \"black\", \"width\": 5}, \"mode\": \"lines\", \"type\": \"scatter3d\", \"x\": [-0.7831291349132213, 0.24223438436005945, null], \"y\": [-0.274918626495518, -0.5200049057056794, null], \"z\": [-0.5577889447236182, 0.8190954773869348, null]}, {\"hoverinfo\": \"none\", \"line\": {\"color\": \"black\", \"width\": 2}, \"mode\": \"lines\", \"type\": \"scatter3d\", \"x\": [-0.6701371795582428, 0.22617275089540043, null], \"y\": [-0.5008976784258622, -0.8314152882664261, null], \"z\": [-0.5477386934673367, -0.5075376884422109, null]}, {\"hoverinfo\": \"none\", \"line\": {\"color\": \"black\", \"width\": 0}, \"mode\": \"lines\", \"type\": \"scatter3d\", \"x\": [-0.6701371795582428, -0.8216546571450994, null], \"y\": [-0.5008976784258622, 0.4362525822106138, null], \"z\": [-0.5477386934673367, -0.36683417085427134, null]}, {\"hoverinfo\": \"none\", \"line\": {\"color\": \"black\", \"width\": 9}, \"mode\": \"lines\", \"type\": \"scatter3d\", \"x\": [-0.6701371795582428, -0.42668500783452756, null], \"y\": [-0.5008976784258622, 0.8993464141660742, null], \"z\": [-0.5477386934673367, 0.09547738693467349, null]}, {\"hoverinfo\": \"none\", \"line\": {\"color\": \"black\", \"width\": 2}, \"mode\": \"lines\", \"type\": \"scatter3d\", \"x\": [-0.6701371795582428, 0.3788192430037307, null], \"y\": [-0.5008976784258622, -0.8998917940492931, null], \"z\": [-0.5477386934673367, 0.21608040201005022, null]}, {\"hoverinfo\": \"none\", \"line\": {\"color\": \"black\", \"width\": 9}, \"mode\": \"lines\", \"type\": \"scatter3d\", \"x\": [-0.6701371795582428, 0.09172592356847682, null], \"y\": [-0.5008976784258622, 0.9441194909258364, null], \"z\": [-0.5477386934673367, 0.3165829145728642, null]}, {\"hoverinfo\": \"none\", \"line\": {\"color\": \"black\", \"width\": 0}, \"mode\": \"lines\", \"type\": \"scatter3d\", \"x\": [-0.6701371795582428, -0.004587855210254107, null], \"y\": [-0.5008976784258622, -0.5877284863436261, null], \"z\": [-0.5477386934673367, 0.8090452261306533, null]}, {\"hoverinfo\": \"none\", \"line\": {\"color\": \"black\", \"width\": 7}, \"mode\": \"lines\", \"type\": \"scatter3d\", \"x\": [-0.6701371795582428, -0.11657616359218419, null], \"y\": [-0.5008976784258622, 0.4615960799092759, null], \"z\": [-0.5477386934673367, 0.879396984924623, null]}, {\"hoverinfo\": \"none\", \"line\": {\"color\": \"black\", \"width\": 5}, \"mode\": \"lines\", \"type\": \"scatter3d\", \"x\": [-0.6701371795582428, -0.1303084840790476, null], \"y\": [-0.5008976784258622, 0.20594207574432036, null], \"z\": [-0.5477386934673367, 0.9698492462311559, null]}, {\"hoverinfo\": \"none\", \"line\": {\"color\": \"black\", \"width\": 2}, \"mode\": \"lines\", \"type\": \"scatter3d\", \"x\": [-0.49469427933914145, 0.3363668860791254, null], \"y\": [-0.682765486167671, -0.9002612720894853, null], \"z\": [-0.5376884422110554, -0.2763819095477387, null]}, {\"hoverinfo\": \"none\", \"line\": {\"color\": \"black\", \"width\": 2}, \"mode\": \"lines\", \"type\": \"scatter3d\", \"x\": [-0.49469427933914145, 0.6243280701168443, null], \"y\": [-0.682765486167671, 0.7561787750638941, null], \"z\": [-0.5376884422110554, -0.19597989949748734, null]}, {\"hoverinfo\": \"none\", \"line\": {\"color\": \"black\", \"width\": 0}, \"mode\": \"lines\", \"type\": \"scatter3d\", \"x\": [-0.49469427933914145, -0.42668500783452756, null], \"y\": [-0.682765486167671, 0.8993464141660742, null], \"z\": [-0.5376884422110554, 0.09547738693467349, null]}, {\"hoverinfo\": \"none\", \"line\": {\"color\": \"black\", \"width\": 4}, \"mode\": \"lines\", \"type\": \"scatter3d\", \"x\": [-0.49469427933914145, -0.7722794062760031, null], \"y\": [-0.682765486167671, -0.6132578683301932, null], \"z\": [-0.5376884422110554, 0.16582914572864324, null]}, {\"hoverinfo\": \"none\", \"line\": {\"color\": \"black\", \"width\": 5}, \"mode\": \"lines\", \"type\": \"scatter3d\", \"x\": [-0.49469427933914145, -0.6143899953864282, null], \"y\": [-0.682765486167671, 0.7087317523628855, null], \"z\": [-0.5376884422110554, 0.3467336683417086, null]}, {\"hoverinfo\": \"none\", \"line\": {\"color\": \"black\", \"width\": 7}, \"mode\": \"lines\", \"type\": \"scatter3d\", \"x\": [-0.49469427933914145, 0.36776528457450497, null], \"y\": [-0.682765486167671, 0.35546905741019574, null], \"z\": [-0.5376884422110554, 0.8592964824120604, null]}, {\"hoverinfo\": \"none\", \"line\": {\"color\": \"black\", \"width\": 5}, \"mode\": \"lines\", \"type\": \"scatter3d\", \"x\": [-0.49469427933914145, -0.18633022541047584, null], \"y\": [-0.682765486167671, -0.3458620880912837, null], \"z\": [-0.5376884422110554, 0.9195979899497488, null]}, {\"hoverinfo\": \"none\", \"line\": {\"color\": \"black\", \"width\": 1}, \"mode\": \"lines\", \"type\": \"scatter3d\", \"x\": [-0.2731277093851147, -0.23434121536311986, null], \"y\": [-0.8043626009530863, 0.8874047353964903, null], \"z\": [-0.5276381909547739, -0.3969849246231156, null]}, {\"hoverinfo\": \"none\", \"line\": {\"color\": \"black\", \"width\": 0}, \"mode\": \"lines\", \"type\": \"scatter3d\", \"x\": [-0.2731277093851147, 0.9591176411373035, null], \"y\": [-0.8043626009530863, -0.1559228360378783, null], \"z\": [-0.5276381909547739, -0.236180904522613, null]}, {\"hoverinfo\": \"none\", \"line\": {\"color\": \"black\", \"width\": 9}, \"mode\": \"lines\", \"type\": \"scatter3d\", \"x\": [-0.2731277093851147, 0.9543101980031311, null], \"y\": [-0.8043626009530863, 0.1354972094876758, null], \"z\": [-0.5276381909547739, 0.26633165829145716, null]}, {\"hoverinfo\": \"none\", \"line\": {\"color\": \"black\", \"width\": 4}, \"mode\": \"lines\", \"type\": \"scatter3d\", \"x\": [-0.2731277093851147, 0.8829535645133417, null], \"y\": [-0.8043626009530863, 0.37948128147239324, null], \"z\": [-0.5276381909547739, 0.2763819095477386, null]}, {\"hoverinfo\": \"none\", \"line\": {\"color\": \"black\", \"width\": 3}, \"mode\": \"lines\", \"type\": \"scatter3d\", \"x\": [-0.2731277093851147, -0.2566312989684941, null], \"y\": [-0.8043626009530863, -0.5438266327748627, null], \"z\": [-0.5276381909547739, 0.7989949748743719, null]}, {\"hoverinfo\": \"none\", \"line\": {\"color\": \"black\", \"width\": 6}, \"mode\": \"lines\", \"type\": \"scatter3d\", \"x\": [-0.2731277093851147, -0.3779945609644943, null], \"y\": [-0.8043626009530863, -0.17275133261095033, null], \"z\": [-0.5276381909547739, 0.9095477386934674, null]}, {\"hoverinfo\": \"none\", \"line\": {\"color\": \"black\", \"width\": 3}, \"mode\": \"lines\", \"type\": \"scatter3d\", \"x\": [-0.2731277093851147, 0.0, null], \"y\": [-0.8043626009530863, 0.0, null], \"z\": [-0.5276381909547739, 1.0, null]}, {\"hoverinfo\": \"none\", \"line\": {\"color\": \"black\", \"width\": 8}, \"mode\": \"lines\", \"type\": \"scatter3d\", \"x\": [-0.02552158648393625, 0.813632848484258, null], \"y\": [-0.8552493047655827, 0.3714584584544138, null], \"z\": [-0.5175879396984926, -0.4472361809045229, null]}, {\"hoverinfo\": \"none\", \"line\": {\"color\": \"black\", \"width\": 9}, \"mode\": \"lines\", \"type\": \"scatter3d\", \"x\": [-0.02552158648393625, 0.26672823542793117, null], \"y\": [-0.8552493047655827, 0.8688473944810738, null], \"z\": [-0.5175879396984926, -0.4170854271356784, null]}, {\"hoverinfo\": \"none\", \"line\": {\"color\": \"black\", \"width\": 6}, \"mode\": \"lines\", \"type\": \"scatter3d\", \"x\": [-0.02552158648393625, -0.8216546571450994, null], \"y\": [-0.8552493047655827, 0.4362525822106138, null], \"z\": [-0.5175879396984926, -0.36683417085427134, null]}, {\"hoverinfo\": \"none\", \"line\": {\"color\": \"black\", \"width\": 9}, \"mode\": \"lines\", \"type\": \"scatter3d\", \"x\": [-0.02552158648393625, -0.40503694008954455, null], \"y\": [-0.8552493047655827, -0.86138423684378, null], \"z\": [-0.5175879396984926, -0.3065326633165828, null]}, {\"hoverinfo\": \"none\", \"line\": {\"color\": \"black\", \"width\": 0}, \"mode\": \"lines\", \"type\": \"scatter3d\", \"x\": [-0.02552158648393625, 0.7480816348934248, null], \"y\": [-0.8552493047655827, -0.6121222981915062, null], \"z\": [-0.5175879396984926, -0.25628140703517577, null]}, {\"hoverinfo\": \"none\", \"line\": {\"color\": \"black\", \"width\": 4}, \"mode\": \"lines\", \"type\": \"scatter3d\", \"x\": [-0.02552158648393625, 0.16898247772841876, null], \"y\": [-0.8552493047655827, 0.9697996493796973, null], \"z\": [-0.5175879396984926, -0.17587939698492466, null]}, {\"hoverinfo\": \"none\", \"line\": {\"color\": \"black\", \"width\": 8}, \"mode\": \"lines\", \"type\": \"scatter3d\", \"x\": [-0.02552158648393625, -0.8904277233305821, null], \"y\": [-0.8552493047655827, 0.43744261313650457, null], \"z\": [-0.5175879396984926, -0.12562814070351752, null]}, {\"hoverinfo\": \"none\", \"line\": {\"color\": \"black\", \"width\": 8}, \"mode\": \"lines\", \"type\": \"scatter3d\", \"x\": [-0.02552158648393625, 0.739575014981879, null], \"y\": [-0.8552493047655827, 0.6715529720883432, null], \"z\": [-0.5175879396984926, 0.045226130653266486, null]}, {\"hoverinfo\": \"none\", \"line\": {\"color\": \"black\", \"width\": 4}, \"mode\": \"lines\", \"type\": \"scatter3d\", \"x\": [-0.02552158648393625, 0.9543101980031311, null], \"y\": [-0.8552493047655827, 0.1354972094876758, null], \"z\": [-0.5175879396984926, 0.26633165829145716, null]}, {\"hoverinfo\": \"none\", \"line\": {\"color\": \"black\", \"width\": 0}, \"mode\": \"lines\", \"type\": \"scatter3d\", \"x\": [-0.02552158648393625, 0.7500220497040564, null], \"y\": [-0.8552493047655827, 0.5961740871715794, null], \"z\": [-0.5175879396984926, 0.2864321608040202, null]}, {\"hoverinfo\": \"none\", \"line\": {\"color\": \"black\", \"width\": 8}, \"mode\": \"lines\", \"type\": \"scatter3d\", \"x\": [-0.02552158648393625, -0.4034742971178234, null], \"y\": [-0.8552493047655827, 0.8507953738854946, null], \"z\": [-0.5175879396984926, 0.3366834170854272, null]}, {\"hoverinfo\": \"none\", \"line\": {\"color\": \"black\", \"width\": 4}, \"mode\": \"lines\", \"type\": \"scatter3d\", \"x\": [-0.02552158648393625, 0.43486403352118225, null], \"y\": [-0.8552493047655827, -0.351298495616475, null], \"z\": [-0.5175879396984926, 0.829145728643216, null]}, {\"hoverinfo\": \"none\", \"line\": {\"color\": \"black\", \"width\": 3}, \"mode\": \"lines\", \"type\": \"scatter3d\", \"x\": [0.22617275089540043, 0.8751100997786688, null], \"y\": [-0.8314152882664261, -0.12561344513262568, null], \"z\": [-0.5075376884422109, -0.4673366834170854, null]}, {\"hoverinfo\": \"none\", \"line\": {\"color\": \"black\", \"width\": 2}, \"mode\": \"lines\", \"type\": \"scatter3d\", \"x\": [0.22617275089540043, -0.1643943972580509, null], \"y\": [-0.8314152882664261, -0.9407830044644023, null], \"z\": [-0.5075376884422109, -0.29648241206030146, null]}, {\"hoverinfo\": \"none\", \"line\": {\"color\": \"black\", \"width\": 7}, \"mode\": \"lines\", \"type\": \"scatter3d\", \"x\": [0.22617275089540043, 0.16898247772841876, null], \"y\": [-0.8314152882664261, 0.9697996493796973, null], \"z\": [-0.5075376884422109, -0.17587939698492466, null]}, {\"hoverinfo\": \"none\", \"line\": {\"color\": \"black\", \"width\": 6}, \"mode\": \"lines\", \"type\": \"scatter3d\", \"x\": [0.22617275089540043, 0.5460301977631995, null], \"y\": [-0.8314152882664261, 0.8359399169400101, null], \"z\": [-0.5075376884422109, 0.05527638190954773, null]}, {\"hoverinfo\": \"none\", \"line\": {\"color\": \"black\", \"width\": 6}, \"mode\": \"lines\", \"type\": \"scatter3d\", \"x\": [0.22617275089540043, 0.31722051404782214, null], \"y\": [-0.8314152882664261, 0.9460991367010397, null], \"z\": [-0.5075376884422109, 0.06532663316582916, null]}, {\"hoverinfo\": \"none\", \"line\": {\"color\": \"black\", \"width\": 4}, \"mode\": \"lines\", \"type\": \"scatter3d\", \"x\": [0.22617275089540043, 0.09172592356847682, null], \"y\": [-0.8314152882664261, 0.9441194909258364, null], \"z\": [-0.5075376884422109, 0.3165829145728642, null]}, {\"hoverinfo\": \"none\", \"line\": {\"color\": \"black\", \"width\": 9}, \"mode\": \"lines\", \"type\": \"scatter3d\", \"x\": [0.22617275089540043, 0.8440290778788562, null], \"y\": [-0.8314152882664261, 0.20030268479764154, null], \"z\": [-0.5075376884422109, 0.49748743718592975, null]}, {\"hoverinfo\": \"none\", \"line\": {\"color\": \"black\", \"width\": 7}, \"mode\": \"lines\", \"type\": \"scatter3d\", \"x\": [0.22617275089540043, -0.1341208174448031, null], \"y\": [-0.8314152882664261, 0.8258292378007893, null], \"z\": [-0.5075376884422109, 0.5477386934673367, null]}, {\"hoverinfo\": \"none\", \"line\": {\"color\": \"black\", \"width\": 4}, \"mode\": \"lines\", \"type\": \"scatter3d\", \"x\": [0.22617275089540043, -0.004587855210254107, null], \"y\": [-0.8314152882664261, -0.5877284863436261, null], \"z\": [-0.5075376884422109, 0.8090452261306533, null]}, {\"hoverinfo\": \"none\", \"line\": {\"color\": \"black\", \"width\": 7}, \"mode\": \"lines\", \"type\": \"scatter3d\", \"x\": [0.22617275089540043, -0.3779945609644943, null], \"y\": [-0.8314152882664261, -0.17275133261095033, null], \"z\": [-0.5075376884422109, 0.9095477386934674, null]}, {\"hoverinfo\": \"none\", \"line\": {\"color\": \"black\", \"width\": 9}, \"mode\": \"lines\", \"type\": \"scatter3d\", \"x\": [0.22617275089540043, -0.1922969882497981, null], \"y\": [-0.8314152882664261, -0.05309277854779562, null], \"z\": [-0.5075376884422109, 0.9798994974874371, null]}, {\"hoverinfo\": \"none\", \"line\": {\"color\": \"black\", \"width\": 4}, \"mode\": \"lines\", \"type\": \"scatter3d\", \"x\": [0.46009396672206704, -0.9928784759284608, null], \"y\": [-0.73540450884403, -0.05528335749405927, null], \"z\": [-0.4974874371859297, -0.10552763819095481, null]}, {\"hoverinfo\": \"none\", \"line\": {\"color\": \"black\", \"width\": 5}, \"mode\": \"lines\", \"type\": \"scatter3d\", \"x\": [0.46009396672206704, -0.5887395729275208, null], \"y\": [-0.73540450884403, -0.7889563695067934, null], \"z\": [-0.4974874371859297, 0.17587939698492458, null]}, {\"hoverinfo\": \"none\", \"line\": {\"color\": \"black\", \"width\": 0}, \"mode\": \"lines\", \"type\": \"scatter3d\", \"x\": [0.46009396672206704, 0.9543101980031311, null], \"y\": [-0.73540450884403, 0.1354972094876758, null], \"z\": [-0.4974874371859297, 0.26633165829145716, null]}, {\"hoverinfo\": \"none\", \"line\": {\"color\": \"black\", \"width\": 6}, \"mode\": \"lines\", \"type\": \"scatter3d\", \"x\": [0.46009396672206704, -0.5505913149039414, null], \"y\": [-0.73540450884403, -0.5610823440242639, null], \"z\": [-0.4974874371859297, 0.6180904522613064, null]}, {\"hoverinfo\": \"none\", \"line\": {\"color\": \"black\", \"width\": 9}, \"mode\": \"lines\", \"type\": \"scatter3d\", \"x\": [0.46009396672206704, -0.09075695184030583, null], \"y\": [-0.73540450884403, -0.7645099613068972, null], \"z\": [-0.4974874371859297, 0.6381909547738693, null]}, {\"hoverinfo\": \"none\", \"line\": {\"color\": \"black\", \"width\": 4}, \"mode\": \"lines\", \"type\": \"scatter3d\", \"x\": [0.46009396672206704, -0.42956390914738973, null], \"y\": [-0.73540450884403, 0.07986938119331266, null], \"z\": [-0.4974874371859297, 0.8994974874371859, null]}, {\"hoverinfo\": \"none\", \"line\": {\"color\": \"black\", \"width\": 5}, \"mode\": \"lines\", \"type\": \"scatter3d\", \"x\": [0.46009396672206704, -0.18633022541047584, null], \"y\": [-0.73540450884403, -0.3458620880912837, null], \"z\": [-0.4974874371859297, 0.9195979899497488, null]}, {\"hoverinfo\": \"none\", \"line\": {\"color\": \"black\", \"width\": 4}, \"mode\": \"lines\", \"type\": \"scatter3d\", \"x\": [0.6563279444247275, -0.9928784759284608, null], \"y\": [-0.575880733433753, -0.05528335749405927, null], \"z\": [-0.48743718592964824, -0.10552763819095481, null]}, {\"hoverinfo\": \"none\", \"line\": {\"color\": \"black\", \"width\": 7}, \"mode\": \"lines\", \"type\": \"scatter3d\", \"x\": [0.6563279444247275, 0.8597006759110095, null], \"y\": [-0.575880733433753, -0.510773429174399, null], \"z\": [-0.48743718592964824, -0.005025125628140692, null]}, {\"hoverinfo\": \"none\", \"line\": {\"color\": \"black\", \"width\": 4}, \"mode\": \"lines\", \"type\": \"scatter3d\", \"x\": [0.6563279444247275, 0.9738814815414809, null], \"y\": [-0.575880733433753, 0.22566249737407673, null], \"z\": [-0.48743718592964824, 0.025125628140703616, null]}, {\"hoverinfo\": \"none\", \"line\": {\"color\": \"black\", \"width\": 5}, \"mode\": \"lines\", \"type\": \"scatter3d\", \"x\": [0.6563279444247275, 0.7741176022559528, null], \"y\": [-0.575880733433753, -0.5873333961357678, null], \"z\": [-0.48743718592964824, 0.23618090452261312, null]}, {\"hoverinfo\": \"none\", \"line\": {\"color\": \"black\", \"width\": 4}, \"mode\": \"lines\", \"type\": \"scatter3d\", \"x\": [0.6563279444247275, 0.0632016554808522, null], \"y\": [-0.575880733433753, -0.8971477100578715, null], \"z\": [-0.48743718592964824, 0.43718592964824127, null]}, {\"hoverinfo\": \"none\", \"line\": {\"color\": \"black\", \"width\": 8}, \"mode\": \"lines\", \"type\": \"scatter3d\", \"x\": [0.6563279444247275, -0.33761069961500084, null], \"y\": [-0.575880733433753, -0.7010408490879112, null], \"z\": [-0.48743718592964824, 0.6281407035175879, null]}, {\"hoverinfo\": \"none\", \"line\": {\"color\": \"black\", \"width\": 7}, \"mode\": \"lines\", \"type\": \"scatter3d\", \"x\": [0.7985178366343181, 0.26672823542793117, null], \"y\": [-0.36670284861180913, 0.8688473944810738, null], \"z\": [-0.4773869346733667, -0.4170854271356784, null]}, {\"hoverinfo\": \"none\", \"line\": {\"color\": \"black\", \"width\": 7}, \"mode\": \"lines\", \"type\": \"scatter3d\", \"x\": [0.7985178366343181, -0.6161246034909317, null], \"y\": [-0.36670284861180913, -0.7212251598313059, null], \"z\": [-0.4773869346733667, -0.3165829145728643, null]}, {\"hoverinfo\": \"none\", \"line\": {\"color\": \"black\", \"width\": 0}, \"mode\": \"lines\", \"type\": \"scatter3d\", \"x\": [0.7985178366343181, 0.9591176411373035, null], \"y\": [-0.36670284861180913, -0.1559228360378783, null], \"z\": [-0.4773869346733667, -0.236180904522613, null]}, {\"hoverinfo\": \"none\", \"line\": {\"color\": \"black\", \"width\": 7}, \"mode\": \"lines\", \"type\": \"scatter3d\", \"x\": [0.7985178366343181, 0.6243280701168443, null], \"y\": [-0.36670284861180913, 0.7561787750638941, null], \"z\": [-0.4773869346733667, -0.19597989949748734, null]}, {\"hoverinfo\": \"none\", \"line\": {\"color\": \"black\", \"width\": 7}, \"mode\": \"lines\", \"type\": \"scatter3d\", \"x\": [0.7985178366343181, -0.18549067049375184, null], \"y\": [-0.36670284861180913, 0.978925643575427, null], \"z\": [-0.4773869346733667, 0.08542713567839207, null]}, {\"hoverinfo\": \"none\", \"line\": {\"color\": \"black\", \"width\": 2}, \"mode\": \"lines\", \"type\": \"scatter3d\", \"x\": [0.7985178366343181, 0.9543101980031311, null], \"y\": [-0.36670284861180913, 0.1354972094876758, null], \"z\": [-0.4773869346733667, 0.26633165829145716, null]}, {\"hoverinfo\": \"none\", \"line\": {\"color\": \"black\", \"width\": 5}, \"mode\": \"lines\", \"type\": \"scatter3d\", \"x\": [0.7985178366343181, 0.12037404304848949, null], \"y\": [-0.36670284861180913, 0.834506578088399, null], \"z\": [-0.4773869346733667, 0.5376884422110553, null]}, {\"hoverinfo\": \"none\", \"line\": {\"color\": \"black\", \"width\": 3}, \"mode\": \"lines\", \"type\": \"scatter3d\", \"x\": [0.7985178366343181, -0.600556325517356, null], \"y\": [-0.36670284861180913, -0.18070833075791126, null], \"z\": [-0.4773869346733667, 0.778894472361809, null]}, {\"hoverinfo\": \"none\", \"line\": {\"color\": \"black\", \"width\": 4}, \"mode\": \"lines\", \"type\": \"scatter3d\", \"x\": [0.8751100997786688, -0.6702820247214136, null], \"y\": [-0.12561344513262568, 0.639280955219031, null], \"z\": [-0.4673366834170854, -0.37688442211055273, null]}, {\"hoverinfo\": \"none\", \"line\": {\"color\": \"black\", \"width\": 8}, \"mode\": \"lines\", \"type\": \"scatter3d\", \"x\": [0.8751100997786688, 0.6243280701168443, null], \"y\": [-0.12561344513262568, 0.7561787750638941, null], \"z\": [-0.4673366834170854, -0.19597989949748734, null]}, {\"hoverinfo\": \"none\", \"line\": {\"color\": \"black\", \"width\": 1}, \"mode\": \"lines\", \"type\": \"scatter3d\", \"x\": [0.8751100997786688, 0.31722051404782214, null], \"y\": [-0.12561344513262568, 0.9460991367010397, null], \"z\": [-0.4673366834170854, 0.06532663316582916, null]}, {\"hoverinfo\": \"none\", \"line\": {\"color\": \"black\", \"width\": 9}, \"mode\": \"lines\", \"type\": \"scatter3d\", \"x\": [0.8751100997786688, 0.13434625214634502, null], \"y\": [-0.12561344513262568, -0.9692794548088852, null], \"z\": [-0.4673366834170854, 0.20603015075376876, null]}, {\"hoverinfo\": \"none\", \"line\": {\"color\": \"black\", \"width\": 8}, \"mode\": \"lines\", \"type\": \"scatter3d\", \"x\": [0.8751100997786688, 0.36776528457450497, null], \"y\": [-0.12561344513262568, 0.35546905741019574, null], \"z\": [-0.4673366834170854, 0.8592964824120604, null]}, {\"hoverinfo\": \"none\", \"line\": {\"color\": \"black\", \"width\": 2}, \"mode\": \"lines\", \"type\": \"scatter3d\", \"x\": [0.8801565810810618, -0.7824796533348303, null], \"y\": [0.1273322886833448, -0.5301286325953671, null], \"z\": [-0.45728643216080395, -0.3266331658291457, null]}, {\"hoverinfo\": \"none\", \"line\": {\"color\": \"black\", \"width\": 0}, \"mode\": \"lines\", \"type\": \"scatter3d\", \"x\": [0.8801565810810618, 0.3788192430037307, null], \"y\": [0.1273322886833448, -0.8998917940492931, null], \"z\": [-0.45728643216080395, 0.21608040201005022, null]}, {\"hoverinfo\": \"none\", \"line\": {\"color\": \"black\", \"width\": 4}, \"mode\": \"lines\", \"type\": \"scatter3d\", \"x\": [0.8801565810810618, -0.6143899953864282, null], \"y\": [0.1273322886833448, 0.7087317523628855, null], \"z\": [-0.45728643216080395, 0.3467336683417086, null]}, {\"hoverinfo\": \"none\", \"line\": {\"color\": \"black\", \"width\": 8}, \"mode\": \"lines\", \"type\": \"scatter3d\", \"x\": [0.8801565810810618, -0.5771143305124173, null], \"y\": [0.1273322886833448, 0.5869392617861797, null], \"z\": [-0.45728643216080395, 0.5678391959798994, null]}, {\"hoverinfo\": \"none\", \"line\": {\"color\": \"black\", \"width\": 8}, \"mode\": \"lines\", \"type\": \"scatter3d\", \"x\": [0.8801565810810618, -0.7924588501224821, null], \"y\": [0.1273322886833448, -0.12007077438764355, null], \"z\": [-0.45728643216080395, 0.5979899497487438, null]}, {\"hoverinfo\": \"none\", \"line\": {\"color\": \"black\", \"width\": 0}, \"mode\": \"lines\", \"type\": \"scatter3d\", \"x\": [0.8801565810810618, 0.725096144076266, null], \"y\": [0.1273322886833448, 0.01681974681893568, null], \"z\": [-0.45728643216080395, 0.6884422110552764, null]}, {\"hoverinfo\": \"none\", \"line\": {\"color\": \"black\", \"width\": 4}, \"mode\": \"lines\", \"type\": \"scatter3d\", \"x\": [0.8801565810810618, 0.0, null], \"y\": [0.1273322886833448, 0.0, null], \"z\": [-0.45728643216080395, 1.0, null]}, {\"hoverinfo\": \"none\", \"line\": {\"color\": \"black\", \"width\": 6}, \"mode\": \"lines\", \"type\": \"scatter3d\", \"x\": [0.813632848484258, -0.5771143305124173, null], \"y\": [0.3714584584544138, 0.5869392617861797, null], \"z\": [-0.4472361809045229, 0.5678391959798994, null]}, {\"hoverinfo\": \"none\", \"line\": {\"color\": \"black\", \"width\": 2}, \"mode\": \"lines\", \"type\": \"scatter3d\", \"x\": [0.813632848484258, 0.5212824240995492, null], \"y\": [0.3714584584544138, 0.47563836827449124, null], \"z\": [-0.4472361809045229, 0.7085427135678393, null]}, {\"hoverinfo\": \"none\", \"line\": {\"color\": \"black\", \"width\": 2}, \"mode\": \"lines\", \"type\": \"scatter3d\", \"x\": [0.813632848484258, 0.36776528457450497, null], \"y\": [0.3714584584544138, 0.35546905741019574, null], \"z\": [-0.4472361809045229, 0.8592964824120604, null]}, {\"hoverinfo\": \"none\", \"line\": {\"color\": \"black\", \"width\": 9}, \"mode\": \"lines\", \"type\": \"scatter3d\", \"x\": [0.6812730069106526, -0.9125581834726422, null], \"y\": [0.5871418508099392, 0.19985694006815632, null], \"z\": [-0.4371859296482414, -0.35678391959799, null]}, {\"hoverinfo\": \"none\", \"line\": {\"color\": \"black\", \"width\": 6}, \"mode\": \"lines\", \"type\": \"scatter3d\", \"x\": [0.6812730069106526, 0.016183422624492533, null], \"y\": [0.5871418508099392, -0.9988456807426714, null], \"z\": [-0.4371859296482414, -0.04522613065326637, null]}, {\"hoverinfo\": \"none\", \"line\": {\"color\": \"black\", \"width\": 9}, \"mode\": \"lines\", \"type\": \"scatter3d\", \"x\": [0.6812730069106526, 0.31722051404782214, null], \"y\": [0.5871418508099392, 0.9460991367010397, null], \"z\": [-0.4371859296482414, 0.06532663316582916, null]}, {\"hoverinfo\": \"none\", \"line\": {\"color\": \"black\", \"width\": 9}, \"mode\": \"lines\", \"type\": \"scatter3d\", \"x\": [0.6812730069106526, -0.42668500783452756, null], \"y\": [0.5871418508099392, 0.8993464141660742, null], \"z\": [-0.4371859296482414, 0.09547738693467349, null]}, {\"hoverinfo\": \"none\", \"line\": {\"color\": \"black\", \"width\": 2}, \"mode\": \"lines\", \"type\": \"scatter3d\", \"x\": [0.6812730069106526, -0.8109889569592988, null], \"y\": [0.5871418508099392, 0.5735317455564173, null], \"z\": [-0.4371859296482414, 0.11557788944723603, null]}, {\"hoverinfo\": \"none\", \"line\": {\"color\": \"black\", \"width\": 8}, \"mode\": \"lines\", \"type\": \"scatter3d\", \"x\": [0.6812730069106526, -0.3662817858898524, null], \"y\": [0.5871418508099392, -0.9117388986054294, null], \"z\": [-0.4371859296482414, 0.18592964824120597, null]}, {\"hoverinfo\": \"none\", \"line\": {\"color\": \"black\", \"width\": 9}, \"mode\": \"lines\", \"type\": \"scatter3d\", \"x\": [0.49395828252674556, 0.01750774905872829, null], \"y\": [0.7573376574341647, 0.9132446793273558, null], \"z\": [-0.4271356783919596, -0.4070351758793971, null]}, {\"hoverinfo\": \"none\", \"line\": {\"color\": \"black\", \"width\": 0}, \"mode\": \"lines\", \"type\": \"scatter3d\", \"x\": [0.49395828252674556, -0.4695271916732191, null], \"y\": [0.7573376574341647, 0.7936156341869542, null], \"z\": [-0.4271356783919596, -0.3869346733668342, null]}, {\"hoverinfo\": \"none\", \"line\": {\"color\": \"black\", \"width\": 5}, \"mode\": \"lines\", \"type\": \"scatter3d\", \"x\": [0.49395828252674556, -0.5591285460316034, null], \"y\": [0.7573376574341647, 0.8161730402059268, null], \"z\": [-0.4271356783919596, -0.14572864321608034, null]}, {\"hoverinfo\": \"none\", \"line\": {\"color\": \"black\", \"width\": 0}, \"mode\": \"lines\", \"type\": \"scatter3d\", \"x\": [0.49395828252674556, 0.31722051404782214, null], \"y\": [0.7573376574341647, 0.9460991367010397, null], \"z\": [-0.4271356783919596, 0.06532663316582916, null]}, {\"hoverinfo\": \"none\", \"line\": {\"color\": \"black\", \"width\": 6}, \"mode\": \"lines\", \"type\": \"scatter3d\", \"x\": [0.49395828252674556, 0.7500220497040564, null], \"y\": [0.7573376574341647, 0.5961740871715794, null], \"z\": [-0.4271356783919596, 0.2864321608040202, null]}, {\"hoverinfo\": \"none\", \"line\": {\"color\": \"black\", \"width\": 0}, \"mode\": \"lines\", \"type\": \"scatter3d\", \"x\": [0.49395828252674556, -0.8955829153536629, null], \"y\": [0.7573376574341647, -0.2195741338890703, null], \"z\": [-0.4271356783919596, 0.3869346733668343, null]}, {\"hoverinfo\": \"none\", \"line\": {\"color\": \"black\", \"width\": 8}, \"mode\": \"lines\", \"type\": \"scatter3d\", \"x\": [0.49395828252674556, -0.600556325517356, null], \"y\": [0.7573376574341647, -0.18070833075791126, null], \"z\": [-0.4271356783919596, 0.778894472361809, null]}, {\"hoverinfo\": \"none\", \"line\": {\"color\": \"black\", \"width\": 4}, \"mode\": \"lines\", \"type\": \"scatter3d\", \"x\": [0.49395828252674556, -0.3779945609644943, null], \"y\": [0.7573376574341647, -0.17275133261095033, null], \"z\": [-0.4271356783919596, 0.9095477386934674, null]}, {\"hoverinfo\": \"none\", \"line\": {\"color\": \"black\", \"width\": 9}, \"mode\": \"lines\", \"type\": \"scatter3d\", \"x\": [0.49395828252674556, 0.0720199661208389, null], \"y\": [0.7573376574341647, -0.3613409361011954, null], \"z\": [-0.4271356783919596, 0.9296482412060301, null]}, {\"hoverinfo\": \"none\", \"line\": {\"color\": \"black\", \"width\": 1}, \"mode\": \"lines\", \"type\": \"scatter3d\", \"x\": [0.26672823542793117, 0.9591176411373035, null], \"y\": [0.8688473944810738, -0.1559228360378783, null], \"z\": [-0.4170854271356784, -0.236180904522613, null]}, {\"hoverinfo\": \"none\", \"line\": {\"color\": \"black\", \"width\": 5}, \"mode\": \"lines\", \"type\": \"scatter3d\", \"x\": [0.26672823542793117, -0.5591285460316034, null], \"y\": [0.8688473944810738, 0.8161730402059268, null], \"z\": [-0.4170854271356784, -0.14572864321608034, null]}, {\"hoverinfo\": \"none\", \"line\": {\"color\": \"black\", \"width\": 9}, \"mode\": \"lines\", \"type\": \"scatter3d\", \"x\": [0.26672823542793117, -0.9928784759284608, null], \"y\": [0.8688473944810738, -0.05528335749405927, null], \"z\": [-0.4170854271356784, -0.10552763819095481, null]}, {\"hoverinfo\": \"none\", \"line\": {\"color\": \"black\", \"width\": 5}, \"mode\": \"lines\", \"type\": \"scatter3d\", \"x\": [0.26672823542793117, 0.9738814815414809, null], \"y\": [0.8688473944810738, 0.22566249737407673, null], \"z\": [-0.4170854271356784, 0.025125628140703616, null]}, {\"hoverinfo\": \"none\", \"line\": {\"color\": \"black\", \"width\": 8}, \"mode\": \"lines\", \"type\": \"scatter3d\", \"x\": [0.26672823542793117, 0.13434625214634502, null], \"y\": [0.8688473944810738, -0.9692794548088852, null], \"z\": [-0.4170854271356784, 0.20603015075376876, null]}, {\"hoverinfo\": \"none\", \"line\": {\"color\": \"black\", \"width\": 2}, \"mode\": \"lines\", \"type\": \"scatter3d\", \"x\": [0.26672823542793117, -0.4311344860611112, null], \"y\": [0.8688473944810738, -0.8001017444049664, null], \"z\": [-0.4170854271356784, 0.41708542713567837, null]}, {\"hoverinfo\": \"none\", \"line\": {\"color\": \"black\", \"width\": 4}, \"mode\": \"lines\", \"type\": \"scatter3d\", \"x\": [0.26672823542793117, -0.5505913149039414, null], \"y\": [0.8688473944810738, -0.5610823440242639, null], \"z\": [-0.4170854271356784, 0.6180904522613064, null]}, {\"hoverinfo\": \"none\", \"line\": {\"color\": \"black\", \"width\": 1}, \"mode\": \"lines\", \"type\": \"scatter3d\", \"x\": [0.26672823542793117, -0.18901287835010755, null], \"y\": [0.8688473944810738, 0.646997753575633, null], \"z\": [-0.4170854271356784, 0.7386934673366834, null]}, {\"hoverinfo\": \"none\", \"line\": {\"color\": \"black\", \"width\": 1}, \"mode\": \"lines\", \"type\": \"scatter3d\", \"x\": [0.01750774905872829, -0.9365042078689544, null], \"y\": [0.9132446793273558, -0.052303268368663655, null], \"z\": [-0.4070351758793971, -0.3467336683417085, null]}, {\"hoverinfo\": \"none\", \"line\": {\"color\": \"black\", \"width\": 7}, \"mode\": \"lines\", \"type\": \"scatter3d\", \"x\": [0.01750774905872829, -0.40503694008954455, null], \"y\": [0.9132446793273558, -0.86138423684378, null], \"z\": [-0.4070351758793971, -0.3065326633165828, null]}, {\"hoverinfo\": \"none\", \"line\": {\"color\": \"black\", \"width\": 8}, \"mode\": \"lines\", \"type\": \"scatter3d\", \"x\": [0.01750774905872829, 0.5613571369223281, null], \"y\": [0.9132446793273558, -0.7835468158432456, null], \"z\": [-0.4070351758793971, -0.2663316582914572, null]}, {\"hoverinfo\": \"none\", \"line\": {\"color\": \"black\", \"width\": 4}, \"mode\": \"lines\", \"type\": \"scatter3d\", \"x\": [0.01750774905872829, 0.7958335820929668, null], \"y\": [0.9132446793273558, 0.5693860611162309, null], \"z\": [-0.4070351758793971, -0.20603015075376888, null]}, {\"hoverinfo\": \"none\", \"line\": {\"color\": \"black\", \"width\": 2}, \"mode\": \"lines\", \"type\": \"scatter3d\", \"x\": [0.01750774905872829, 0.9738814815414809, null], \"y\": [0.9132446793273558, 0.22566249737407673, null], \"z\": [-0.4070351758793971, 0.025125628140703616, null]}, {\"hoverinfo\": \"none\", \"line\": {\"color\": \"black\", \"width\": 0}, \"mode\": \"lines\", \"type\": \"scatter3d\", \"x\": [0.01750774905872829, 0.739575014981879, null], \"y\": [0.9132446793273558, 0.6715529720883432, null], \"z\": [-0.4070351758793971, 0.045226130653266486, null]}, {\"hoverinfo\": \"none\", \"line\": {\"color\": \"black\", \"width\": 7}, \"mode\": \"lines\", \"type\": \"scatter3d\", \"x\": [0.01750774905872829, -0.4034742971178234, null], \"y\": [0.9132446793273558, 0.8507953738854946, null], \"z\": [-0.4070351758793971, 0.3366834170854272, null]}, {\"hoverinfo\": \"none\", \"line\": {\"color\": \"black\", \"width\": 9}, \"mode\": \"lines\", \"type\": \"scatter3d\", \"x\": [0.01750774905872829, -0.1341208174448031, null], \"y\": [0.9132446793273558, 0.8258292378007893, null], \"z\": [-0.4070351758793971, 0.5477386934673367, null]}, {\"hoverinfo\": \"none\", \"line\": {\"color\": \"black\", \"width\": 3}, \"mode\": \"lines\", \"type\": \"scatter3d\", \"x\": [0.01750774905872829, -0.33761069961500084, null], \"y\": [0.9132446793273558, -0.7010408490879112, null], \"z\": [-0.4070351758793971, 0.6281407035175879, null]}, {\"hoverinfo\": \"none\", \"line\": {\"color\": \"black\", \"width\": 7}, \"mode\": \"lines\", \"type\": \"scatter3d\", \"x\": [0.01750774905872829, 0.1633089131200265, null], \"y\": [0.9132446793273558, -0.7437160329723511, null], \"z\": [-0.4070351758793971, 0.6482412060301508, null]}, {\"hoverinfo\": \"none\", \"line\": {\"color\": \"black\", \"width\": 1}, \"mode\": \"lines\", \"type\": \"scatter3d\", \"x\": [0.01750774905872829, 0.725096144076266, null], \"y\": [0.9132446793273558, 0.01681974681893568, null], \"z\": [-0.4070351758793971, 0.6884422110552764, null]}, {\"hoverinfo\": \"none\", \"line\": {\"color\": \"black\", \"width\": 0}, \"mode\": \"lines\", \"type\": \"scatter3d\", \"x\": [-0.23434121536311986, 0.3363668860791254, null], \"y\": [0.8874047353964903, -0.9002612720894853, null], \"z\": [-0.3969849246231156, -0.2763819095477387, null]}, {\"hoverinfo\": \"none\", \"line\": {\"color\": \"black\", \"width\": 3}, \"mode\": \"lines\", \"type\": \"scatter3d\", \"x\": [-0.23434121536311986, -0.5887395729275208, null], \"y\": [0.8874047353964903, -0.7889563695067934, null], \"z\": [-0.3969849246231156, 0.17587939698492458, null]}, {\"hoverinfo\": \"none\", \"line\": {\"color\": \"black\", \"width\": 0}, \"mode\": \"lines\", \"type\": \"scatter3d\", \"x\": [-0.23434121536311986, -0.3662817858898524, null], \"y\": [0.8874047353964903, -0.9117388986054294, null], \"z\": [-0.3969849246231156, 0.18592964824120597, null]}, {\"hoverinfo\": \"none\", \"line\": {\"color\": \"black\", \"width\": 6}, \"mode\": \"lines\", \"type\": \"scatter3d\", \"x\": [-0.23434121536311986, 0.5212824240995492, null], \"y\": [0.8874047353964903, 0.47563836827449124, null], \"z\": [-0.3969849246231156, 0.7085427135678393, null]}, {\"hoverinfo\": \"none\", \"line\": {\"color\": \"black\", \"width\": 7}, \"mode\": \"lines\", \"type\": \"scatter3d\", \"x\": [-0.23434121536311986, 0.06389728976483165, null], \"y\": [0.8874047353964903, 0.6819062985636061, null], \"z\": [-0.3969849246231156, 0.728643216080402, null]}, {\"hoverinfo\": \"none\", \"line\": {\"color\": \"black\", \"width\": 7}, \"mode\": \"lines\", \"type\": \"scatter3d\", \"x\": [-0.23434121536311986, -0.2566312989684941, null], \"y\": [0.8874047353964903, -0.5438266327748627, null], \"z\": [-0.3969849246231156, 0.7989949748743719, null]}, {\"hoverinfo\": \"none\", \"line\": {\"color\": \"black\", \"width\": 4}, \"mode\": \"lines\", \"type\": \"scatter3d\", \"x\": [-0.4695271916732191, 0.16898247772841876, null], \"y\": [0.7936156341869542, 0.9697996493796973, null], \"z\": [-0.3869346733668342, -0.17587939698492466, null]}, {\"hoverinfo\": \"none\", \"line\": {\"color\": \"black\", \"width\": 2}, \"mode\": \"lines\", \"type\": \"scatter3d\", \"x\": [-0.4695271916732191, -0.9734264244291374, null], \"y\": [0.7936156341869542, 0.19769357018888423, null], \"z\": [-0.3869346733668342, -0.11557788944723613, null]}, {\"hoverinfo\": \"none\", \"line\": {\"color\": \"black\", \"width\": 3}, \"mode\": \"lines\", \"type\": \"scatter3d\", \"x\": [-0.4695271916732191, 0.8597006759110095, null], \"y\": [0.7936156341869542, -0.510773429174399, null], \"z\": [-0.3869346733668342, -0.005025125628140692, null]}, {\"hoverinfo\": \"none\", \"line\": {\"color\": \"black\", \"width\": 4}, \"mode\": \"lines\", \"type\": \"scatter3d\", \"x\": [-0.4695271916732191, 0.13434625214634502, null], \"y\": [0.7936156341869542, -0.9692794548088852, null], \"z\": [-0.3869346733668342, 0.20603015075376876, null]}, {\"hoverinfo\": \"none\", \"line\": {\"color\": \"black\", \"width\": 4}, \"mode\": \"lines\", \"type\": \"scatter3d\", \"x\": [-0.4695271916732191, 0.9543101980031311, null], \"y\": [0.7936156341869542, 0.1354972094876758, null], \"z\": [-0.3869346733668342, 0.26633165829145716, null]}, {\"hoverinfo\": \"none\", \"line\": {\"color\": \"black\", \"width\": 4}, \"mode\": \"lines\", \"type\": \"scatter3d\", \"x\": [-0.4695271916732191, 0.5319383843782858, null], \"y\": [0.7936156341869542, -0.7126925523580707, null], \"z\": [-0.3869346733668342, 0.45728643216080406, null]}, {\"hoverinfo\": \"none\", \"line\": {\"color\": \"black\", \"width\": 4}, \"mode\": \"lines\", \"type\": \"scatter3d\", \"x\": [-0.4695271916732191, 0.725096144076266, null], \"y\": [0.7936156341869542, 0.01681974681893568, null], \"z\": [-0.3869346733668342, 0.6884422110552764, null]}, {\"hoverinfo\": \"none\", \"line\": {\"color\": \"black\", \"width\": 2}, \"mode\": \"lines\", \"type\": \"scatter3d\", \"x\": [-0.6702820247214136, 0.9606193521054072, null], \"y\": [0.639280955219031, -0.27782226057861037, null], \"z\": [-0.37688442211055273, 0.005025125628140593, null]}, {\"hoverinfo\": \"none\", \"line\": {\"color\": \"black\", \"width\": 8}, \"mode\": \"lines\", \"type\": \"scatter3d\", \"x\": [-0.6702820247214136, 0.9738814815414809, null], \"y\": [0.639280955219031, 0.22566249737407673, null], \"z\": [-0.37688442211055273, 0.025125628140703616, null]}, {\"hoverinfo\": \"none\", \"line\": {\"color\": \"black\", \"width\": 0}, \"mode\": \"lines\", \"type\": \"scatter3d\", \"x\": [-0.6702820247214136, 0.3788192430037307, null], \"y\": [0.639280955219031, -0.8998917940492931, null], \"z\": [-0.37688442211055273, 0.21608040201005022, null]}, {\"hoverinfo\": \"none\", \"line\": {\"color\": \"black\", \"width\": 9}, \"mode\": \"lines\", \"type\": \"scatter3d\", \"x\": [-0.6702820247214136, -0.1908820904593788, null], \"y\": [0.639280955219031, -0.8838094476675942, null], \"z\": [-0.37688442211055273, 0.4271356783919597, null]}, {\"hoverinfo\": \"none\", \"line\": {\"color\": \"black\", \"width\": 4}, \"mode\": \"lines\", \"type\": \"scatter3d\", \"x\": [-0.6702820247214136, -0.33761069961500084, null], \"y\": [0.639280955219031, -0.7010408490879112, null], \"z\": [-0.37688442211055273, 0.6281407035175879, null]}, {\"hoverinfo\": \"none\", \"line\": {\"color\": \"black\", \"width\": 9}, \"mode\": \"lines\", \"type\": \"scatter3d\", \"x\": [-0.6702820247214136, 0.3119136244605593, null], \"y\": [0.639280955219031, 0.6215577541798972, null], \"z\": [-0.37688442211055273, 0.7185929648241205, null]}, {\"hoverinfo\": \"none\", \"line\": {\"color\": \"black\", \"width\": 5}, \"mode\": \"lines\", \"type\": \"scatter3d\", \"x\": [-0.8216546571450994, -0.40503694008954455, null], \"y\": [0.4362525822106138, -0.86138423684378, null], \"z\": [-0.36683417085427134, -0.3065326633165828, null]}, {\"hoverinfo\": \"none\", \"line\": {\"color\": \"black\", \"width\": 7}, \"mode\": \"lines\", \"type\": \"scatter3d\", \"x\": [-0.8216546571450994, 0.7958335820929668, null], \"y\": [0.4362525822106138, 0.5693860611162309, null], \"z\": [-0.36683417085427134, -0.20603015075376888, null]}, {\"hoverinfo\": \"none\", \"line\": {\"color\": \"black\", \"width\": 2}, \"mode\": \"lines\", \"type\": \"scatter3d\", \"x\": [-0.8216546571450994, 0.6243280701168443, null], \"y\": [0.4362525822106138, 0.7561787750638941, null], \"z\": [-0.36683417085427134, -0.19597989949748734, null]}, {\"hoverinfo\": \"none\", \"line\": {\"color\": \"black\", \"width\": 5}, \"mode\": \"lines\", \"type\": \"scatter3d\", \"x\": [-0.8216546571450994, -0.678728644568649, null], \"y\": [0.4362525822106138, -0.730510610694205, null], \"z\": [-0.36683417085427134, -0.07537688442211053, null]}, {\"hoverinfo\": \"none\", \"line\": {\"color\": \"black\", \"width\": 3}, \"mode\": \"lines\", \"type\": \"scatter3d\", \"x\": [-0.8216546571450994, -0.23599909505127642, null], \"y\": [0.4362525822106138, -0.970179853809575, null], \"z\": [-0.36683417085427134, -0.05527638190954783, null]}, {\"hoverinfo\": \"none\", \"line\": {\"color\": \"black\", \"width\": 9}, \"mode\": \"lines\", \"type\": \"scatter3d\", \"x\": [-0.8216546571450994, -0.9288482441833449, null], \"y\": [0.4362525822106138, 0.3485089805742379, null], \"z\": [-0.36683417085427134, 0.12562814070351763, null]}, {\"hoverinfo\": \"none\", \"line\": {\"color\": \"black\", \"width\": 7}, \"mode\": \"lines\", \"type\": \"scatter3d\", \"x\": [-0.8216546571450994, -0.8858140940564723, null], \"y\": [0.4362525822106138, 0.2841937400165084, null], \"z\": [-0.36683417085427134, 0.3668341708542712, null]}, {\"hoverinfo\": \"none\", \"line\": {\"color\": \"black\", \"width\": 3}, \"mode\": \"lines\", \"type\": \"scatter3d\", \"x\": [-0.8216546571450994, 0.8715636126463255, null], \"y\": [0.4362525822106138, -0.05274333023114333, null], \"z\": [-0.36683417085427134, 0.48743718592964813, null]}, {\"hoverinfo\": \"none\", \"line\": {\"color\": \"black\", \"width\": 2}, \"mode\": \"lines\", \"type\": \"scatter3d\", \"x\": [-0.8216546571450994, 0.36579375496206784, null], \"y\": [0.4362525822106138, 0.7666765082332472, null], \"z\": [-0.36683417085427134, 0.5276381909547738, null]}, {\"hoverinfo\": \"none\", \"line\": {\"color\": \"black\", \"width\": 8}, \"mode\": \"lines\", \"type\": \"scatter3d\", \"x\": [-0.8216546571450994, -0.5679012117000678, null], \"y\": [0.4362525822106138, 0.318935612734006, null], \"z\": [-0.36683417085427134, 0.7587939698492463, null]}, {\"hoverinfo\": \"none\", \"line\": {\"color\": \"black\", \"width\": 6}, \"mode\": \"lines\", \"type\": \"scatter3d\", \"x\": [-0.8216546571450994, 0.5317207462626569, null], \"y\": [0.4362525822106138, -0.11411904010464476, null], \"z\": [-0.36683417085427134, 0.8391959798994975, null]}, {\"hoverinfo\": \"none\", \"line\": {\"color\": \"black\", \"width\": 6}, \"mode\": \"lines\", \"type\": \"scatter3d\", \"x\": [-0.9125581834726422, -0.8919836432498447, null], \"y\": [0.19985694006815632, -0.30167773672316983, null], \"z\": [-0.35678391959799, -0.3366834170854271, null]}, {\"hoverinfo\": \"none\", \"line\": {\"color\": \"black\", \"width\": 9}, \"mode\": \"lines\", \"type\": \"scatter3d\", \"x\": [-0.9125581834726422, -0.7824796533348303, null], \"y\": [0.19985694006815632, -0.5301286325953671, null], \"z\": [-0.35678391959799, -0.3266331658291457, null]}, {\"hoverinfo\": \"none\", \"line\": {\"color\": \"black\", \"width\": 5}, \"mode\": \"lines\", \"type\": \"scatter3d\", \"x\": [-0.9125581834726422, -0.9928784759284608, null], \"y\": [0.19985694006815632, -0.05528335749405927, null], \"z\": [-0.35678391959799, -0.10552763819095481, null]}, {\"hoverinfo\": \"none\", \"line\": {\"color\": \"black\", \"width\": 1}, \"mode\": \"lines\", \"type\": \"scatter3d\", \"x\": [-0.9125581834726422, -0.8109889569592988, null], \"y\": [0.19985694006815632, 0.5735317455564173, null], \"z\": [-0.35678391959799, 0.11557788944723603, null]}, {\"hoverinfo\": \"none\", \"line\": {\"color\": \"black\", \"width\": 0}, \"mode\": \"lines\", \"type\": \"scatter3d\", \"x\": [-0.9125581834726422, -0.33761069961500084, null], \"y\": [0.19985694006815632, -0.7010408490879112, null], \"z\": [-0.35678391959799, 0.6281407035175879, null]}, {\"hoverinfo\": \"none\", \"line\": {\"color\": \"black\", \"width\": 3}, \"mode\": \"lines\", \"type\": \"scatter3d\", \"x\": [-0.9365042078689544, -0.678728644568649, null], \"y\": [-0.052303268368663655, -0.730510610694205, null], \"z\": [-0.3467336683417085, -0.07537688442211053, null]}, {\"hoverinfo\": \"none\", \"line\": {\"color\": \"black\", \"width\": 5}, \"mode\": \"lines\", \"type\": \"scatter3d\", \"x\": [-0.9365042078689544, -0.23599909505127642, null], \"y\": [-0.052303268368663655, -0.970179853809575, null], \"z\": [-0.3467336683417085, -0.05527638190954783, null]}, {\"hoverinfo\": \"none\", \"line\": {\"color\": \"black\", \"width\": 4}, \"mode\": \"lines\", \"type\": \"scatter3d\", \"x\": [-0.9365042078689544, 0.739575014981879, null], \"y\": [-0.052303268368663655, 0.6715529720883432, null], \"z\": [-0.3467336683417085, 0.045226130653266486, null]}, {\"hoverinfo\": \"none\", \"line\": {\"color\": \"black\", \"width\": 5}, \"mode\": \"lines\", \"type\": \"scatter3d\", \"x\": [-0.9365042078689544, -0.9288482441833449, null], \"y\": [-0.052303268368663655, 0.3485089805742379, null], \"z\": [-0.3467336683417085, 0.12562814070351763, null]}, {\"hoverinfo\": \"none\", \"line\": {\"color\": \"black\", \"width\": 6}, \"mode\": \"lines\", \"type\": \"scatter3d\", \"x\": [-0.9365042078689544, -0.985601838057066, null], \"y\": [-0.052303268368663655, 0.100897922544204, null], \"z\": [-0.3467336683417085, 0.13567839195979908, null]}, {\"hoverinfo\": \"none\", \"line\": {\"color\": \"black\", \"width\": 3}, \"mode\": \"lines\", \"type\": \"scatter3d\", \"x\": [-0.9365042078689544, -0.7231637330577864, null], \"y\": [-0.052303268368663655, 0.3782565293064855, null], \"z\": [-0.3467336683417085, 0.5778894472361809, null]}, {\"hoverinfo\": \"none\", \"line\": {\"color\": \"black\", \"width\": 6}, \"mode\": \"lines\", \"type\": \"scatter3d\", \"x\": [-0.9365042078689544, 0.725096144076266, null], \"y\": [-0.052303268368663655, 0.01681974681893568, null], \"z\": [-0.3467336683417085, 0.6884422110552764, null]}, {\"hoverinfo\": \"none\", \"line\": {\"color\": \"black\", \"width\": 1}, \"mode\": \"lines\", \"type\": \"scatter3d\", \"x\": [-0.8919836432498447, 0.9738814815414809, null], \"y\": [-0.30167773672316983, 0.22566249737407673, null], \"z\": [-0.3366834170854271, 0.025125628140703616, null]}, {\"hoverinfo\": \"none\", \"line\": {\"color\": \"black\", \"width\": 7}, \"mode\": \"lines\", \"type\": \"scatter3d\", \"x\": [-0.8919836432498447, 0.7082279152172981, null], \"y\": [-0.30167773672316983, -0.5291593752733467, null], \"z\": [-0.3366834170854271, 0.4673366834170853, null]}, {\"hoverinfo\": \"none\", \"line\": {\"color\": \"black\", \"width\": 8}, \"mode\": \"lines\", \"type\": \"scatter3d\", \"x\": [-0.8919836432498447, -0.4107215962272207, null], \"y\": [-0.30167773672316983, 0.5202793617472665, null], \"z\": [-0.3366834170854271, 0.7487437185929648, null]}, {\"hoverinfo\": \"none\", \"line\": {\"color\": \"black\", \"width\": 8}, \"mode\": \"lines\", \"type\": \"scatter3d\", \"x\": [-0.7824796533348303, -0.3662817858898524, null], \"y\": [-0.5301286325953671, -0.9117388986054294, null], \"z\": [-0.3266331658291457, 0.18592964824120597, null]}, {\"hoverinfo\": \"none\", \"line\": {\"color\": \"black\", \"width\": 4}, \"mode\": \"lines\", \"type\": \"scatter3d\", \"x\": [-0.7824796533348303, 0.3962282650703626, null], \"y\": [-0.5301286325953671, -0.6400433729233012, null], \"z\": [-0.3266331658291457, 0.6582914572864322, null]}, {\"hoverinfo\": \"none\", \"line\": {\"color\": \"black\", \"width\": 5}, \"mode\": \"lines\", \"type\": \"scatter3d\", \"x\": [-0.7824796533348303, 0.6955838850071943, null], \"y\": [-0.5301286325953671, -0.2365320439145132, null], \"z\": [-0.3266331658291457, 0.6783919597989949, null]}, {\"hoverinfo\": \"none\", \"line\": {\"color\": \"black\", \"width\": 0}, \"mode\": \"lines\", \"type\": \"scatter3d\", \"x\": [-0.7824796533348303, -0.6353138707760849, null], \"y\": [-0.5301286325953671, 0.07249033916421053, null], \"z\": [-0.3266331658291457, 0.7688442211055277, null]}, {\"hoverinfo\": \"none\", \"line\": {\"color\": \"black\", \"width\": 7}, \"mode\": \"lines\", \"type\": \"scatter3d\", \"x\": [-0.7824796533348303, -0.2566312989684941, null], \"y\": [-0.5301286325953671, -0.5438266327748627, null], \"z\": [-0.3266331658291457, 0.7989949748743719, null]}, {\"hoverinfo\": \"none\", \"line\": {\"color\": \"black\", \"width\": 0}, \"mode\": \"lines\", \"type\": \"scatter3d\", \"x\": [-0.7824796533348303, -0.42956390914738973, null], \"y\": [-0.5301286325953671, 0.07986938119331266, null], \"z\": [-0.3266331658291457, 0.8994974874371859, null]}, {\"hoverinfo\": \"none\", \"line\": {\"color\": \"black\", \"width\": 3}, \"mode\": \"lines\", \"type\": \"scatter3d\", \"x\": [-0.6161246034909317, 0.8853301800948286, null], \"y\": [-0.7212251598313059, 0.4636303804992801, null], \"z\": [-0.3165829145728643, 0.03517587939698494, null]}, {\"hoverinfo\": \"none\", \"line\": {\"color\": \"black\", \"width\": 7}, \"mode\": \"lines\", \"type\": \"scatter3d\", \"x\": [-0.6161246034909317, -0.9774199655907337, null], \"y\": [-0.7212251598313059, -0.15301429152536394, null], \"z\": [-0.3165829145728643, 0.14572864321608045, null]}, {\"hoverinfo\": \"none\", \"line\": {\"color\": \"black\", \"width\": 2}, \"mode\": \"lines\", \"type\": \"scatter3d\", \"x\": [-0.6161246034909317, -0.5679012117000678, null], \"y\": [-0.7212251598313059, 0.318935612734006, null], \"z\": [-0.3165829145728643, 0.7587939698492463, null]}, {\"hoverinfo\": \"none\", \"line\": {\"color\": \"black\", \"width\": 7}, \"mode\": \"lines\", \"type\": \"scatter3d\", \"x\": [-0.6161246034909317, -0.600556325517356, null], \"y\": [-0.7212251598313059, -0.18070833075791126, null], \"z\": [-0.3165829145728643, 0.778894472361809, null]}, {\"hoverinfo\": \"none\", \"line\": {\"color\": \"black\", \"width\": 6}, \"mode\": \"lines\", \"type\": \"scatter3d\", \"x\": [-0.40503694008954455, 0.5613571369223281, null], \"y\": [-0.86138423684378, -0.7835468158432456, null], \"z\": [-0.3065326633165828, -0.2663316582914572, null]}, {\"hoverinfo\": \"none\", \"line\": {\"color\": \"black\", \"width\": 7}, \"mode\": \"lines\", \"type\": \"scatter3d\", \"x\": [-0.40503694008954455, -0.08433109874112966, null], \"y\": [-0.86138423684378, 0.9825420908093567, null], \"z\": [-0.3065326633165828, -0.16582914572864332, null]}, {\"hoverinfo\": \"none\", \"line\": {\"color\": \"black\", \"width\": 6}, \"mode\": \"lines\", \"type\": \"scatter3d\", \"x\": [-0.40503694008954455, -0.8405173138299454, null], \"y\": [-0.86138423684378, -0.5350073360636081, null], \"z\": [-0.3065326633165828, -0.08542713567839195, null]}, {\"hoverinfo\": \"none\", \"line\": {\"color\": \"black\", \"width\": 0}, \"mode\": \"lines\", \"type\": \"scatter3d\", \"x\": [-0.40503694008954455, -0.6143899953864282, null], \"y\": [-0.86138423684378, 0.7087317523628855, null], \"z\": [-0.3065326633165828, 0.3467336683417086, null]}, {\"hoverinfo\": \"none\", \"line\": {\"color\": \"black\", \"width\": 1}, \"mode\": \"lines\", \"type\": \"scatter3d\", \"x\": [-0.40503694008954455, -0.6386889828957023, null], \"y\": [-0.86138423684378, -0.6529921505841256, null], \"z\": [-0.3065326633165828, 0.4070351758793972, null]}, {\"hoverinfo\": \"none\", \"line\": {\"color\": \"black\", \"width\": 8}, \"mode\": \"lines\", \"type\": \"scatter3d\", \"x\": [-0.40503694008954455, 0.5317207462626569, null], \"y\": [-0.86138423684378, -0.11411904010464476, null], \"z\": [-0.3065326633165828, 0.8391959798994975, null]}, {\"hoverinfo\": \"none\", \"line\": {\"color\": \"black\", \"width\": 9}, \"mode\": \"lines\", \"type\": \"scatter3d\", \"x\": [-0.1643943972580509, -0.8405173138299454, null], \"y\": [-0.9407830044644023, -0.5350073360636081, null], \"z\": [-0.29648241206030146, -0.08542713567839195, null]}, {\"hoverinfo\": \"none\", \"line\": {\"color\": \"black\", \"width\": 3}, \"mode\": \"lines\", \"type\": \"scatter3d\", \"x\": [-0.1643943972580509, 0.13434625214634502, null], \"y\": [-0.9407830044644023, -0.9692794548088852, null], \"z\": [-0.29648241206030146, 0.20603015075376876, null]}, {\"hoverinfo\": \"none\", \"line\": {\"color\": \"black\", \"width\": 0}, \"mode\": \"lines\", \"type\": \"scatter3d\", \"x\": [-0.1643943972580509, 0.9543101980031311, null], \"y\": [-0.9407830044644023, 0.1354972094876758, null], \"z\": [-0.29648241206030146, 0.26633165829145716, null]}, {\"hoverinfo\": \"none\", \"line\": {\"color\": \"black\", \"width\": 3}, \"mode\": \"lines\", \"type\": \"scatter3d\", \"x\": [-0.1643943972580509, 0.7500220497040564, null], \"y\": [-0.9407830044644023, 0.5961740871715794, null], \"z\": [-0.29648241206030146, 0.2864321608040202, null]}, {\"hoverinfo\": \"none\", \"line\": {\"color\": \"black\", \"width\": 3}, \"mode\": \"lines\", \"type\": \"scatter3d\", \"x\": [-0.1643943972580509, -0.8858140940564723, null], \"y\": [-0.9407830044644023, 0.2841937400165084, null], \"z\": [-0.29648241206030146, 0.3668341708542712, null]}, {\"hoverinfo\": \"none\", \"line\": {\"color\": \"black\", \"width\": 0}, \"mode\": \"lines\", \"type\": \"scatter3d\", \"x\": [-0.1643943972580509, -0.46736094041360504, null], \"y\": [-0.9407830044644023, -0.3989235195509105, null], \"z\": [-0.29648241206030146, 0.7889447236180904, null]}, {\"hoverinfo\": \"none\", \"line\": {\"color\": \"black\", \"width\": 8}, \"mode\": \"lines\", \"type\": \"scatter3d\", \"x\": [-0.1643943972580509, -0.004587855210254107, null], \"y\": [-0.9407830044644023, -0.5877284863436261, null], \"z\": [-0.29648241206030146, 0.8090452261306533, null]}, {\"hoverinfo\": \"none\", \"line\": {\"color\": \"black\", \"width\": 8}, \"mode\": \"lines\", \"type\": \"scatter3d\", \"x\": [0.08868431031648284, -0.23599909505127642, null], \"y\": [-0.9539872694962075, -0.970179853809575, null], \"z\": [-0.28643216080402006, -0.05527638190954783, null]}, {\"hoverinfo\": \"none\", \"line\": {\"color\": \"black\", \"width\": 2}, \"mode\": \"lines\", \"type\": \"scatter3d\", \"x\": [0.08868431031648284, 0.8440290778788562, null], \"y\": [-0.9539872694962075, 0.20030268479764154, null], \"z\": [-0.28643216080402006, 0.49748743718592975, null]}, {\"hoverinfo\": \"none\", \"line\": {\"color\": \"black\", \"width\": 1}, \"mode\": \"lines\", \"type\": \"scatter3d\", \"x\": [0.08868431031648284, 0.06389728976483165, null], \"y\": [-0.9539872694962075, 0.6819062985636061, null], \"z\": [-0.28643216080402006, 0.728643216080402, null]}, {\"hoverinfo\": \"none\", \"line\": {\"color\": \"black\", \"width\": 1}, \"mode\": \"lines\", \"type\": \"scatter3d\", \"x\": [0.3363668860791254, 0.9591176411373035, null], \"y\": [-0.9002612720894853, -0.1559228360378783, null], \"z\": [-0.2763819095477387, -0.236180904522613, null]}, {\"hoverinfo\": \"none\", \"line\": {\"color\": \"black\", \"width\": 5}, \"mode\": \"lines\", \"type\": \"scatter3d\", \"x\": [0.3363668860791254, 0.4105859500056902, null], \"y\": [-0.9002612720894853, 0.8926641829729847, null], \"z\": [-0.2763819095477387, -0.18592964824120606, null]}, {\"hoverinfo\": \"none\", \"line\": {\"color\": \"black\", \"width\": 5}, \"mode\": \"lines\", \"type\": \"scatter3d\", \"x\": [0.3363668860791254, -0.9774199655907337, null], \"y\": [-0.9002612720894853, -0.15301429152536394, null], \"z\": [-0.2763819095477387, 0.14572864321608045, null]}, {\"hoverinfo\": \"none\", \"line\": {\"color\": \"black\", \"width\": 0}, \"mode\": \"lines\", \"type\": \"scatter3d\", \"x\": [0.3363668860791254, -0.11973939666335258, null], \"y\": [-0.9002612720894853, -0.9732699296082516, null], \"z\": [-0.2763819095477387, 0.19597989949748745, null]}, {\"hoverinfo\": \"none\", \"line\": {\"color\": \"black\", \"width\": 8}, \"mode\": \"lines\", \"type\": \"scatter3d\", \"x\": [0.3363668860791254, 0.8715636126463255, null], \"y\": [-0.9002612720894853, -0.05274333023114333, null], \"z\": [-0.2763819095477387, 0.48743718592964813, null]}, {\"hoverinfo\": \"none\", \"line\": {\"color\": \"black\", \"width\": 3}, \"mode\": \"lines\", \"type\": \"scatter3d\", \"x\": [0.3363668860791254, 0.5087685882011274, null], \"y\": [-0.9002612720894853, 0.14119264331946282, null], \"z\": [-0.2763819095477387, 0.8492462311557789, null]}, {\"hoverinfo\": \"none\", \"line\": {\"color\": \"black\", \"width\": 3}, \"mode\": \"lines\", \"type\": \"scatter3d\", \"x\": [0.3363668860791254, 0.0676279462623623, null], \"y\": [-0.9002612720894853, -0.12420127151757969, null], \"z\": [-0.2763819095477387, 0.9899497487437185, null]}, {\"hoverinfo\": \"none\", \"line\": {\"color\": \"black\", \"width\": 9}, \"mode\": \"lines\", \"type\": \"scatter3d\", \"x\": [0.5613571369223281, 0.9606193521054072, null], \"y\": [-0.7835468158432456, -0.27782226057861037, null], \"z\": [-0.2663316582914572, 0.005025125628140593, null]}, {\"hoverinfo\": \"none\", \"line\": {\"color\": \"black\", \"width\": 7}, \"mode\": \"lines\", \"type\": \"scatter3d\", \"x\": [0.5613571369223281, 0.8853301800948286, null], \"y\": [-0.7835468158432456, 0.4636303804992801, null], \"z\": [-0.2663316582914572, 0.03517587939698494, null]}, {\"hoverinfo\": \"none\", \"line\": {\"color\": \"black\", \"width\": 0}, \"mode\": \"lines\", \"type\": \"scatter3d\", \"x\": [0.5613571369223281, 0.5460301977631995, null], \"y\": [-0.7835468158432456, 0.8359399169400101, null], \"z\": [-0.2663316582914572, 0.05527638190954773, null]}, {\"hoverinfo\": \"none\", \"line\": {\"color\": \"black\", \"width\": 0}, \"mode\": \"lines\", \"type\": \"scatter3d\", \"x\": [0.5613571369223281, -0.18549067049375184, null], \"y\": [-0.7835468158432456, 0.978925643575427, null], \"z\": [-0.2663316582914572, 0.08542713567839207, null]}, {\"hoverinfo\": \"none\", \"line\": {\"color\": \"black\", \"width\": 9}, \"mode\": \"lines\", \"type\": \"scatter3d\", \"x\": [0.5613571369223281, -0.6353138707760849, null], \"y\": [-0.7835468158432456, 0.07249033916421053, null], \"z\": [-0.2663316582914572, 0.7688442211055277, null]}, {\"hoverinfo\": \"none\", \"line\": {\"color\": \"black\", \"width\": 6}, \"mode\": \"lines\", \"type\": \"scatter3d\", \"x\": [0.5613571369223281, -0.2566312989684941, null], \"y\": [-0.7835468158432456, -0.5438266327748627, null], \"z\": [-0.2663316582914572, 0.7989949748743719, null]}, {\"hoverinfo\": \"none\", \"line\": {\"color\": \"black\", \"width\": 9}, \"mode\": \"lines\", \"type\": \"scatter3d\", \"x\": [0.7480816348934248, 0.09172592356847682, null], \"y\": [-0.6121222981915062, 0.9441194909258364, null], \"z\": [-0.25628140703517577, 0.3165829145728642, null]}, {\"hoverinfo\": \"none\", \"line\": {\"color\": \"black\", \"width\": 5}, \"mode\": \"lines\", \"type\": \"scatter3d\", \"x\": [0.7480816348934248, 0.3108397890520478, null], \"y\": [-0.6121222981915062, -0.8386646672133121, null], \"z\": [-0.25628140703517577, 0.44723618090452255, null]}, {\"hoverinfo\": \"none\", \"line\": {\"color\": \"black\", \"width\": 3}, \"mode\": \"lines\", \"type\": \"scatter3d\", \"x\": [0.7480816348934248, -0.09075695184030583, null], \"y\": [-0.6121222981915062, -0.7645099613068972, null], \"z\": [-0.25628140703517577, 0.6381909547738693, null]}, {\"hoverinfo\": \"none\", \"line\": {\"color\": \"black\", \"width\": 8}, \"mode\": \"lines\", \"type\": \"scatter3d\", \"x\": [0.7480816348934248, -0.3292415201774607, null], \"y\": [-0.6121222981915062, 0.31699153843814987, null], \"z\": [-0.25628140703517577, 0.8894472361809045, null]}, {\"hoverinfo\": \"none\", \"line\": {\"color\": \"black\", \"width\": 9}, \"mode\": \"lines\", \"type\": \"scatter3d\", \"x\": [0.7480816348934248, -0.42956390914738973, null], \"y\": [-0.6121222981915062, 0.07986938119331266, null], \"z\": [-0.25628140703517577, 0.8994974874371859, null]}, {\"hoverinfo\": \"none\", \"line\": {\"color\": \"black\", \"width\": 4}, \"mode\": \"lines\", \"type\": \"scatter3d\", \"x\": [0.8837350468780757, 0.4105859500056902, null], \"y\": [-0.3979730956273241, 0.8926641829729847, null], \"z\": [-0.2462311557788945, -0.18592964824120606, null]}, {\"hoverinfo\": \"none\", \"line\": {\"color\": \"black\", \"width\": 1}, \"mode\": \"lines\", \"type\": \"scatter3d\", \"x\": [0.8837350468780757, 0.8597006759110095, null], \"y\": [-0.3979730956273241, -0.510773429174399, null], \"z\": [-0.2462311557788945, -0.005025125628140692, null]}, {\"hoverinfo\": \"none\", \"line\": {\"color\": \"black\", \"width\": 4}, \"mode\": \"lines\", \"type\": \"scatter3d\", \"x\": [0.8837350468780757, -0.9774199655907337, null], \"y\": [-0.3979730956273241, -0.15301429152536394, null], \"z\": [-0.2462311557788945, 0.14572864321608045, null]}, {\"hoverinfo\": \"none\", \"line\": {\"color\": \"black\", \"width\": 2}, \"mode\": \"lines\", \"type\": \"scatter3d\", \"x\": [0.8837350468780757, 0.30775790638944817, null], \"y\": [-0.3979730956273241, 0.0571173779137144, null], \"z\": [-0.2462311557788945, 0.949748743718593, null]}, {\"hoverinfo\": \"none\", \"line\": {\"color\": \"black\", \"width\": 1}, \"mode\": \"lines\", \"type\": \"scatter3d\", \"x\": [0.8837350468780757, -0.1922969882497981, null], \"y\": [-0.3979730956273241, -0.05309277854779562, null], \"z\": [-0.2462311557788945, 0.9798994974874371, null]}, {\"hoverinfo\": \"none\", \"line\": {\"color\": \"black\", \"width\": 3}, \"mode\": \"lines\", \"type\": \"scatter3d\", \"x\": [0.9591176411373035, 0.16898247772841876, null], \"y\": [-0.1559228360378783, 0.9697996493796973, null], \"z\": [-0.236180904522613, -0.17587939698492466, null]}, {\"hoverinfo\": \"none\", \"line\": {\"color\": \"black\", \"width\": 3}, \"mode\": \"lines\", \"type\": \"scatter3d\", \"x\": [0.9591176411373035, 0.016183422624492533, null], \"y\": [-0.1559228360378783, -0.9988456807426714, null], \"z\": [-0.236180904522613, -0.04522613065326637, null]}, {\"hoverinfo\": \"none\", \"line\": {\"color\": \"black\", \"width\": 0}, \"mode\": \"lines\", \"type\": \"scatter3d\", \"x\": [0.9591176411373035, 0.7033011304219116, null], \"y\": [-0.1559228360378783, -0.7107321949644987, null], \"z\": [-0.236180904522613, -0.015075376884422157, null]}, {\"hoverinfo\": \"none\", \"line\": {\"color\": \"black\", \"width\": 9}, \"mode\": \"lines\", \"type\": \"scatter3d\", \"x\": [0.9591176411373035, 0.739575014981879, null], \"y\": [-0.1559228360378783, 0.6715529720883432, null], \"z\": [-0.236180904522613, 0.045226130653266486, null]}, {\"hoverinfo\": \"none\", \"line\": {\"color\": \"black\", \"width\": 9}, \"mode\": \"lines\", \"type\": \"scatter3d\", \"x\": [0.9591176411373035, -0.985601838057066, null], \"y\": [-0.1559228360378783, 0.100897922544204, null], \"z\": [-0.236180904522613, 0.13567839195979908, null]}, {\"hoverinfo\": \"none\", \"line\": {\"color\": \"black\", \"width\": 3}, \"mode\": \"lines\", \"type\": \"scatter3d\", \"x\": [0.9591176411373035, 0.9592929774959421, null], \"y\": [-0.1559228360378783, -0.11864579105488865, null], \"z\": [-0.236180904522613, 0.25628140703517593, null]}, {\"hoverinfo\": \"none\", \"line\": {\"color\": \"black\", \"width\": 7}, \"mode\": \"lines\", \"type\": \"scatter3d\", \"x\": [0.9591176411373035, -0.8858140940564723, null], \"y\": [-0.1559228360378783, 0.2841937400165084, null], \"z\": [-0.236180904522613, 0.3668341708542712, null]}, {\"hoverinfo\": \"none\", \"line\": {\"color\": \"black\", \"width\": 8}, \"mode\": \"lines\", \"type\": \"scatter3d\", \"x\": [0.9591176411373035, -0.3779945609644943, null], \"y\": [-0.1559228360378783, -0.17275133261095033, null], \"z\": [-0.236180904522613, 0.9095477386934674, null]}, {\"hoverinfo\": \"none\", \"line\": {\"color\": \"black\", \"width\": 5}, \"mode\": \"lines\", \"type\": \"scatter3d\", \"x\": [0.9692141584109936, 0.16898247772841876, null], \"y\": [0.09741069134859666, 0.9697996493796973, null], \"z\": [-0.2261306532663317, -0.17587939698492466, null]}, {\"hoverinfo\": \"none\", \"line\": {\"color\": \"black\", \"width\": 9}, \"mode\": \"lines\", \"type\": \"scatter3d\", \"x\": [0.9692141584109936, 0.9995234698449429, null], \"y\": [0.09741069134859666, -0.026936336813276493, null], \"z\": [-0.2261306532663317, 0.015075376884422058, null]}, {\"hoverinfo\": \"none\", \"line\": {\"color\": \"black\", \"width\": 6}, \"mode\": \"lines\", \"type\": \"scatter3d\", \"x\": [0.9692141584109936, -0.7793130144557557, null], \"y\": [0.09741069134859666, 0.515147027766033, null], \"z\": [-0.2261306532663317, 0.3567839195979901, null]}, {\"hoverinfo\": \"none\", \"line\": {\"color\": \"black\", \"width\": 4}, \"mode\": \"lines\", \"type\": \"scatter3d\", \"x\": [0.9692141584109936, -0.925672422221608, null], \"y\": [0.09741069134859666, 0.03299544072710666, null], \"z\": [-0.2261306532663317, 0.3768844221105527, null]}, {\"hoverinfo\": \"none\", \"line\": {\"color\": \"black\", \"width\": 7}, \"mode\": \"lines\", \"type\": \"scatter3d\", \"x\": [0.9692141584109936, 0.0, null], \"y\": [0.09741069134859666, 0.0, null], \"z\": [-0.2261306532663317, 1.0, null]}, {\"hoverinfo\": \"none\", \"line\": {\"color\": \"black\", \"width\": 1}, \"mode\": \"lines\", \"type\": \"scatter3d\", \"x\": [0.9134816304942963, -0.33250966656464714, null], \"y\": [0.3447616141867552, 0.9301452884781152, null], \"z\": [-0.21608040201005033, -0.15577889447236182, null]}, {\"hoverinfo\": \"none\", \"line\": {\"color\": \"black\", \"width\": 0}, \"mode\": \"lines\", \"type\": \"scatter3d\", \"x\": [0.9134816304942963, -0.42668500783452756, null], \"y\": [0.3447616141867552, 0.8993464141660742, null], \"z\": [-0.21608040201005033, 0.09547738693467349, null]}, {\"hoverinfo\": \"none\", \"line\": {\"color\": \"black\", \"width\": 6}, \"mode\": \"lines\", \"type\": \"scatter3d\", \"x\": [0.9134816304942963, -0.9774199655907337, null], \"y\": [0.3447616141867552, -0.15301429152536394, null], \"z\": [-0.21608040201005033, 0.14572864321608045, null]}, {\"hoverinfo\": \"none\", \"line\": {\"color\": \"black\", \"width\": 2}, \"mode\": \"lines\", \"type\": \"scatter3d\", \"x\": [0.9134816304942963, -0.11973939666335258, null], \"y\": [0.3447616141867552, -0.9732699296082516, null], \"z\": [-0.21608040201005033, 0.19597989949748745, null]}, {\"hoverinfo\": \"none\", \"line\": {\"color\": \"black\", \"width\": 1}, \"mode\": \"lines\", \"type\": \"scatter3d\", \"x\": [0.9134816304942963, -0.4034742971178234, null], \"y\": [0.3447616141867552, 0.8507953738854946, null], \"z\": [-0.21608040201005033, 0.3366834170854272, null]}, {\"hoverinfo\": \"none\", \"line\": {\"color\": \"black\", \"width\": 1}, \"mode\": \"lines\", \"type\": \"scatter3d\", \"x\": [0.9134816304942963, -0.7793130144557557, null], \"y\": [0.3447616141867552, 0.515147027766033, null], \"z\": [-0.21608040201005033, 0.3567839195979901, null]}, {\"hoverinfo\": \"none\", \"line\": {\"color\": \"black\", \"width\": 1}, \"mode\": \"lines\", \"type\": \"scatter3d\", \"x\": [0.9134816304942963, -0.3741885774371721, null], \"y\": [0.3447616141867552, 0.7408470838571601, null], \"z\": [-0.21608040201005033, 0.5577889447236182, null]}, {\"hoverinfo\": \"none\", \"line\": {\"color\": \"black\", \"width\": 0}, \"mode\": \"lines\", \"type\": \"scatter3d\", \"x\": [0.9134816304942963, -0.7231637330577864, null], \"y\": [0.3447616141867552, 0.3782565293064855, null], \"z\": [-0.21608040201005033, 0.5778894472361809, null]}, {\"hoverinfo\": \"none\", \"line\": {\"color\": \"black\", \"width\": 8}, \"mode\": \"lines\", \"type\": \"scatter3d\", \"x\": [0.9134816304942963, 0.5810756220933079, null], \"y\": [0.3447616141867552, -0.46440336134774246, null], \"z\": [-0.21608040201005033, 0.6683417085427135, null]}, {\"hoverinfo\": \"none\", \"line\": {\"color\": \"black\", \"width\": 1}, \"mode\": \"lines\", \"type\": \"scatter3d\", \"x\": [0.9134816304942963, 0.6648572393833766, null], \"y\": [0.3447616141867552, 0.264713300257944, null], \"z\": [-0.21608040201005033, 0.6984924623115578, null]}, {\"hoverinfo\": \"none\", \"line\": {\"color\": \"black\", \"width\": 3}, \"mode\": \"lines\", \"type\": \"scatter3d\", \"x\": [0.7958335820929668, 0.8597006759110095, null], \"y\": [0.5693860611162309, -0.510773429174399, null], \"z\": [-0.20603015075376888, -0.005025125628140692, null]}, {\"hoverinfo\": \"none\", \"line\": {\"color\": \"black\", \"width\": 9}, \"mode\": \"lines\", \"type\": \"scatter3d\", \"x\": [0.7958335820929668, 0.9995234698449429, null], \"y\": [0.5693860611162309, -0.026936336813276493, null], \"z\": [-0.20603015075376888, 0.015075376884422058, null]}, {\"hoverinfo\": \"none\", \"line\": {\"color\": \"black\", \"width\": 4}, \"mode\": \"lines\", \"type\": \"scatter3d\", \"x\": [0.7958335820929668, 0.9738814815414809, null], \"y\": [0.5693860611162309, 0.22566249737407673, null], \"z\": [-0.20603015075376888, 0.025125628140703616, null]}, {\"hoverinfo\": \"none\", \"line\": {\"color\": \"black\", \"width\": 8}, \"mode\": \"lines\", \"type\": \"scatter3d\", \"x\": [0.7958335820929668, -0.9047419231328161, null], \"y\": [0.5693860611162309, -0.39645300927462035, null], \"z\": [-0.20603015075376888, 0.15577889447236173, null]}, {\"hoverinfo\": \"none\", \"line\": {\"color\": \"black\", \"width\": 4}, \"mode\": \"lines\", \"type\": \"scatter3d\", \"x\": [0.7958335820929668, 0.1633089131200265, null], \"y\": [0.5693860611162309, -0.7437160329723511, null], \"z\": [-0.20603015075376888, 0.6482412060301508, null]}, {\"hoverinfo\": \"none\", \"line\": {\"color\": \"black\", \"width\": 6}, \"mode\": \"lines\", \"type\": \"scatter3d\", \"x\": [0.7958335820929668, -0.18633022541047584, null], \"y\": [0.5693860611162309, -0.3458620880912837, null], \"z\": [-0.20603015075376888, 0.9195979899497488, null]}, {\"hoverinfo\": \"none\", \"line\": {\"color\": \"black\", \"width\": 7}, \"mode\": \"lines\", \"type\": \"scatter3d\", \"x\": [0.6243280701168443, 0.5460301977631995, null], \"y\": [0.7561787750638941, 0.8359399169400101, null], \"z\": [-0.19597989949748734, 0.05527638190954773, null]}, {\"hoverinfo\": \"none\", \"line\": {\"color\": \"black\", \"width\": 9}, \"mode\": \"lines\", \"type\": \"scatter3d\", \"x\": [0.6243280701168443, -0.6398431952082979, null], \"y\": [0.7561787750638941, 0.7612257241603668, null], \"z\": [-0.19597989949748734, 0.10552763819095472, null]}, {\"hoverinfo\": \"none\", \"line\": {\"color\": \"black\", \"width\": 6}, \"mode\": \"lines\", \"type\": \"scatter3d\", \"x\": [0.6243280701168443, -0.8858140940564723, null], \"y\": [0.7561787750638941, 0.2841937400165084, null], \"z\": [-0.19597989949748734, 0.3668341708542712, null]}, {\"hoverinfo\": \"none\", \"line\": {\"color\": \"black\", \"width\": 1}, \"mode\": \"lines\", \"type\": \"scatter3d\", \"x\": [0.6243280701168443, 0.5317207462626569, null], \"y\": [0.7561787750638941, -0.11411904010464476, null], \"z\": [-0.19597989949748734, 0.8391959798994975, null]}, {\"hoverinfo\": \"none\", \"line\": {\"color\": \"black\", \"width\": 9}, \"mode\": \"lines\", \"type\": \"scatter3d\", \"x\": [0.4105859500056902, -0.4311344860611112, null], \"y\": [0.8926641829729847, -0.8001017444049664, null], \"z\": [-0.18592964824120606, 0.41708542713567837, null]}, {\"hoverinfo\": \"none\", \"line\": {\"color\": \"black\", \"width\": 2}, \"mode\": \"lines\", \"type\": \"scatter3d\", \"x\": [0.4105859500056902, 0.0632016554808522, null], \"y\": [0.8926641829729847, -0.8971477100578715, null], \"z\": [-0.18592964824120606, 0.43718592964824127, null]}, {\"hoverinfo\": \"none\", \"line\": {\"color\": \"black\", \"width\": 8}, \"mode\": \"lines\", \"type\": \"scatter3d\", \"x\": [0.4105859500056902, -0.7924588501224821, null], \"y\": [0.8926641829729847, -0.12007077438764355, null], \"z\": [-0.18592964824120606, 0.5979899497487438, null]}, {\"hoverinfo\": \"none\", \"line\": {\"color\": \"black\", \"width\": 7}, \"mode\": \"lines\", \"type\": \"scatter3d\", \"x\": [0.4105859500056902, -0.004587855210254107, null], \"y\": [0.8926641829729847, -0.5877284863436261, null], \"z\": [-0.18592964824120606, 0.8090452261306533, null]}, {\"hoverinfo\": \"none\", \"line\": {\"color\": \"black\", \"width\": 8}, \"mode\": \"lines\", \"type\": \"scatter3d\", \"x\": [0.4105859500056902, -0.3779945609644943, null], \"y\": [0.8926641829729847, -0.17275133261095033, null], \"z\": [-0.18592964824120606, 0.9095477386934674, null]}, {\"hoverinfo\": \"none\", \"line\": {\"color\": \"black\", \"width\": 0}, \"mode\": \"lines\", \"type\": \"scatter3d\", \"x\": [0.4105859500056902, 0.1297116280928751, null], \"y\": [0.8926641829729847, 0.24891922943540667, null], \"z\": [-0.18592964824120606, 0.9597989949748744, null]}, {\"hoverinfo\": \"none\", \"line\": {\"color\": \"black\", \"width\": 0}, \"mode\": \"lines\", \"type\": \"scatter3d\", \"x\": [0.16898247772841876, -0.985601838057066, null], \"y\": [0.9697996493796973, 0.100897922544204, null], \"z\": [-0.17587939698492466, 0.13567839195979908, null]}, {\"hoverinfo\": \"none\", \"line\": {\"color\": \"black\", \"width\": 0}, \"mode\": \"lines\", \"type\": \"scatter3d\", \"x\": [0.16898247772841876, 0.5646952188368541, null], \"y\": [0.9697996493796973, 0.7702061342015544, null], \"z\": [-0.17587939698492466, 0.29648241206030157, null]}, {\"hoverinfo\": \"none\", \"line\": {\"color\": \"black\", \"width\": 6}, \"mode\": \"lines\", \"type\": \"scatter3d\", \"x\": [0.16898247772841876, -0.4311344860611112, null], \"y\": [0.9697996493796973, -0.8001017444049664, null], \"z\": [-0.17587939698492466, 0.41708542713567837, null]}, {\"hoverinfo\": \"none\", \"line\": {\"color\": \"black\", \"width\": 2}, \"mode\": \"lines\", \"type\": \"scatter3d\", \"x\": [0.16898247772841876, -0.33761069961500084, null], \"y\": [0.9697996493796973, -0.7010408490879112, null], \"z\": [-0.17587939698492466, 0.6281407035175879, null]}, {\"hoverinfo\": \"none\", \"line\": {\"color\": \"black\", \"width\": 7}, \"mode\": \"lines\", \"type\": \"scatter3d\", \"x\": [-0.08433109874112966, 0.8597006759110095, null], \"y\": [0.9825420908093567, -0.510773429174399, null], \"z\": [-0.16582914572864332, -0.005025125628140692, null]}, {\"hoverinfo\": \"none\", \"line\": {\"color\": \"black\", \"width\": 2}, \"mode\": \"lines\", \"type\": \"scatter3d\", \"x\": [-0.08433109874112966, -0.5887395729275208, null], \"y\": [0.9825420908093567, -0.7889563695067934, null], \"z\": [-0.16582914572864332, 0.17587939698492458, null]}, {\"hoverinfo\": \"none\", \"line\": {\"color\": \"black\", \"width\": 0}, \"mode\": \"lines\", \"type\": \"scatter3d\", \"x\": [-0.08433109874112966, -0.3662817858898524, null], \"y\": [0.9825420908093567, -0.9117388986054294, null], \"z\": [-0.16582914572864332, 0.18592964824120597, null]}, {\"hoverinfo\": \"none\", \"line\": {\"color\": \"black\", \"width\": 2}, \"mode\": \"lines\", \"type\": \"scatter3d\", \"x\": [-0.08433109874112966, 0.7500220497040564, null], \"y\": [0.9825420908093567, 0.5961740871715794, null], \"z\": [-0.16582914572864332, 0.2864321608040202, null]}, {\"hoverinfo\": \"none\", \"line\": {\"color\": \"black\", \"width\": 1}, \"mode\": \"lines\", \"type\": \"scatter3d\", \"x\": [-0.08433109874112966, 0.725096144076266, null], \"y\": [0.9825420908093567, 0.01681974681893568, null], \"z\": [-0.16582914572864332, 0.6884422110552764, null]}, {\"hoverinfo\": \"none\", \"line\": {\"color\": \"black\", \"width\": 9}, \"mode\": \"lines\", \"type\": \"scatter3d\", \"x\": [-0.08433109874112966, 0.0720199661208389, null], \"y\": [0.9825420908093567, -0.3613409361011954, null], \"z\": [-0.16582914572864332, 0.9296482412060301, null]}, {\"hoverinfo\": \"none\", \"line\": {\"color\": \"black\", \"width\": 1}, \"mode\": \"lines\", \"type\": \"scatter3d\", \"x\": [-0.08433109874112966, -0.1303084840790476, null], \"y\": [0.9825420908093567, 0.20594207574432036, null], \"z\": [-0.16582914572864332, 0.9698492462311559, null]}, {\"hoverinfo\": \"none\", \"line\": {\"color\": \"black\", \"width\": 7}, \"mode\": \"lines\", \"type\": \"scatter3d\", \"x\": [-0.33250966656464714, -0.7492577373693531, null], \"y\": [0.9301452884781152, 0.648231607488682, null], \"z\": [-0.15577889447236182, -0.13567839195979897, null]}, {\"hoverinfo\": \"none\", \"line\": {\"color\": \"black\", \"width\": 2}, \"mode\": \"lines\", \"type\": \"scatter3d\", \"x\": [-0.33250966656464714, -0.23599909505127642, null], \"y\": [0.9301452884781152, -0.970179853809575, null], \"z\": [-0.15577889447236182, -0.05527638190954783, null]}, {\"hoverinfo\": \"none\", \"line\": {\"color\": \"black\", \"width\": 2}, \"mode\": \"lines\", \"type\": \"scatter3d\", \"x\": [-0.33250966656464714, 0.8440290778788562, null], \"y\": [0.9301452884781152, 0.20030268479764154, null], \"z\": [-0.15577889447236182, 0.49748743718592975, null]}, {\"hoverinfo\": \"none\", \"line\": {\"color\": \"black\", \"width\": 9}, \"mode\": \"lines\", \"type\": \"scatter3d\", \"x\": [-0.33250966656464714, -0.1341208174448031, null], \"y\": [0.9301452884781152, 0.8258292378007893, null], \"z\": [-0.15577889447236182, 0.5477386934673367, null]}, {\"hoverinfo\": \"none\", \"line\": {\"color\": \"black\", \"width\": 1}, \"mode\": \"lines\", \"type\": \"scatter3d\", \"x\": [-0.33250966656464714, -0.7231637330577864, null], \"y\": [0.9301452884781152, 0.3782565293064855, null], \"z\": [-0.15577889447236182, 0.5778894472361809, null]}, {\"hoverinfo\": \"none\", \"line\": {\"color\": \"black\", \"width\": 8}, \"mode\": \"lines\", \"type\": \"scatter3d\", \"x\": [-0.33250966656464714, 0.725096144076266, null], \"y\": [0.9301452884781152, 0.01681974681893568, null], \"z\": [-0.15577889447236182, 0.6884422110552764, null]}, {\"hoverinfo\": \"none\", \"line\": {\"color\": \"black\", \"width\": 4}, \"mode\": \"lines\", \"type\": \"scatter3d\", \"x\": [-0.33250966656464714, -0.6353138707760849, null], \"y\": [0.9301452884781152, 0.07249033916421053, null], \"z\": [-0.15577889447236182, 0.7688442211055277, null]}, {\"hoverinfo\": \"none\", \"line\": {\"color\": \"black\", \"width\": 7}, \"mode\": \"lines\", \"type\": \"scatter3d\", \"x\": [-0.33250966656464714, -0.004587855210254107, null], \"y\": [0.9301452884781152, -0.5877284863436261, null], \"z\": [-0.15577889447236182, 0.8090452261306533, null]}, {\"hoverinfo\": \"none\", \"line\": {\"color\": \"black\", \"width\": 0}, \"mode\": \"lines\", \"type\": \"scatter3d\", \"x\": [-0.5591285460316034, -0.9475723752818175, null], \"y\": [0.8161730402059268, -0.30494370330751364, null], \"z\": [-0.14572864321608034, -0.09547738693467336, null]}, {\"hoverinfo\": \"none\", \"line\": {\"color\": \"black\", \"width\": 7}, \"mode\": \"lines\", \"type\": \"scatter3d\", \"x\": [-0.5591285460316034, -0.8405173138299454, null], \"y\": [0.8161730402059268, -0.5350073360636081, null], \"z\": [-0.14572864321608034, -0.08542713567839195, null]}, {\"hoverinfo\": \"none\", \"line\": {\"color\": \"black\", \"width\": 0}, \"mode\": \"lines\", \"type\": \"scatter3d\", \"x\": [-0.5591285460316034, -0.23599909505127642, null], \"y\": [0.8161730402059268, -0.970179853809575, null], \"z\": [-0.14572864321608034, -0.05527638190954783, null]}, {\"hoverinfo\": \"none\", \"line\": {\"color\": \"black\", \"width\": 2}, \"mode\": \"lines\", \"type\": \"scatter3d\", \"x\": [-0.5591285460316034, -0.8109889569592988, null], \"y\": [0.8161730402059268, 0.5735317455564173, null], \"z\": [-0.14572864321608034, 0.11557788944723603, null]}, {\"hoverinfo\": \"none\", \"line\": {\"color\": \"black\", \"width\": 6}, \"mode\": \"lines\", \"type\": \"scatter3d\", \"x\": [-0.5591285460316034, -0.9774199655907337, null], \"y\": [0.8161730402059268, -0.15301429152536394, null], \"z\": [-0.14572864321608034, 0.14572864321608045, null]}, {\"hoverinfo\": \"none\", \"line\": {\"color\": \"black\", \"width\": 4}, \"mode\": \"lines\", \"type\": \"scatter3d\", \"x\": [-0.5591285460316034, -0.8858140940564723, null], \"y\": [0.8161730402059268, 0.2841937400165084, null], \"z\": [-0.14572864321608034, 0.3668341708542712, null]}, {\"hoverinfo\": \"none\", \"line\": {\"color\": \"black\", \"width\": 2}, \"mode\": \"lines\", \"type\": \"scatter3d\", \"x\": [-0.5591285460316034, -0.7924588501224821, null], \"y\": [0.8161730402059268, -0.12007077438764355, null], \"z\": [-0.14572864321608034, 0.5979899497487438, null]}, {\"hoverinfo\": \"none\", \"line\": {\"color\": \"black\", \"width\": 5}, \"mode\": \"lines\", \"type\": \"scatter3d\", \"x\": [-0.5591285460316034, 0.43486403352118225, null], \"y\": [0.8161730402059268, -0.351298495616475, null], \"z\": [-0.14572864321608034, 0.829145728643216, null]}, {\"hoverinfo\": \"none\", \"line\": {\"color\": \"black\", \"width\": 0}, \"mode\": \"lines\", \"type\": \"scatter3d\", \"x\": [-0.5591285460316034, 0.1297116280928751, null], \"y\": [0.8161730402059268, 0.24891922943540667, null], \"z\": [-0.14572864321608034, 0.9597989949748744, null]}, {\"hoverinfo\": \"none\", \"line\": {\"color\": \"black\", \"width\": 2}, \"mode\": \"lines\", \"type\": \"scatter3d\", \"x\": [-0.5591285460316034, -0.1922969882497981, null], \"y\": [0.8161730402059268, -0.05309277854779562, null], \"z\": [-0.14572864321608034, 0.9798994974874371, null]}, {\"hoverinfo\": \"none\", \"line\": {\"color\": \"black\", \"width\": 8}, \"mode\": \"lines\", \"type\": \"scatter3d\", \"x\": [-0.7492577373693531, -0.47275790495820047, null], \"y\": [0.648231607488682, -0.8787675428113799, null], \"z\": [-0.13567839195979897, -0.06532663316582904, null]}, {\"hoverinfo\": \"none\", \"line\": {\"color\": \"black\", \"width\": 3}, \"mode\": \"lines\", \"type\": \"scatter3d\", \"x\": [-0.7492577373693531, -0.985601838057066, null], \"y\": [0.648231607488682, 0.100897922544204, null], \"z\": [-0.13567839195979897, 0.13567839195979908, null]}, {\"hoverinfo\": \"none\", \"line\": {\"color\": \"black\", \"width\": 1}, \"mode\": \"lines\", \"type\": \"scatter3d\", \"x\": [-0.7492577373693531, -0.9774199655907337, null], \"y\": [0.648231607488682, -0.15301429152536394, null], \"z\": [-0.13567839195979897, 0.14572864321608045, null]}, {\"hoverinfo\": \"none\", \"line\": {\"color\": \"black\", \"width\": 5}, \"mode\": \"lines\", \"type\": \"scatter3d\", \"x\": [-0.7492577373693531, -0.5887395729275208, null], \"y\": [0.648231607488682, -0.7889563695067934, null], \"z\": [-0.13567839195979897, 0.17587939698492458, null]}, {\"hoverinfo\": \"none\", \"line\": {\"color\": \"black\", \"width\": 5}, \"mode\": \"lines\", \"type\": \"scatter3d\", \"x\": [-0.7492577373693531, -0.3662817858898524, null], \"y\": [0.648231607488682, -0.9117388986054294, null], \"z\": [-0.13567839195979897, 0.18592964824120597, null]}, {\"hoverinfo\": \"none\", \"line\": {\"color\": \"black\", \"width\": 2}, \"mode\": \"lines\", \"type\": \"scatter3d\", \"x\": [-0.7492577373693531, 0.12037404304848949, null], \"y\": [0.648231607488682, 0.834506578088399, null], \"z\": [-0.13567839195979897, 0.5376884422110553, null]}, {\"hoverinfo\": \"none\", \"line\": {\"color\": \"black\", \"width\": 3}, \"mode\": \"lines\", \"type\": \"scatter3d\", \"x\": [-0.7492577373693531, -0.7231637330577864, null], \"y\": [0.648231607488682, 0.3782565293064855, null], \"z\": [-0.13567839195979897, 0.5778894472361809, null]}, {\"hoverinfo\": \"none\", \"line\": {\"color\": \"black\", \"width\": 3}, \"mode\": \"lines\", \"type\": \"scatter3d\", \"x\": [-0.7492577373693531, -0.7924588501224821, null], \"y\": [0.648231607488682, -0.12007077438764355, null], \"z\": [-0.13567839195979897, 0.5979899497487438, null]}, {\"hoverinfo\": \"none\", \"line\": {\"color\": \"black\", \"width\": 9}, \"mode\": \"lines\", \"type\": \"scatter3d\", \"x\": [-0.7492577373693531, 0.725096144076266, null], \"y\": [0.648231607488682, 0.01681974681893568, null], \"z\": [-0.13567839195979897, 0.6884422110552764, null]}, {\"hoverinfo\": \"none\", \"line\": {\"color\": \"black\", \"width\": 3}, \"mode\": \"lines\", \"type\": \"scatter3d\", \"x\": [-0.7492577373693531, 0.3119136244605593, null], \"y\": [0.648231607488682, 0.6215577541798972, null], \"z\": [-0.13567839195979897, 0.7185929648241205, null]}, {\"hoverinfo\": \"none\", \"line\": {\"color\": \"black\", \"width\": 9}, \"mode\": \"lines\", \"type\": \"scatter3d\", \"x\": [-0.7492577373693531, -0.1922969882497981, null], \"y\": [0.648231607488682, -0.05309277854779562, null], \"z\": [-0.13567839195979897, 0.9798994974874371, null]}, {\"hoverinfo\": \"none\", \"line\": {\"color\": \"black\", \"width\": 6}, \"mode\": \"lines\", \"type\": \"scatter3d\", \"x\": [-0.8904277233305821, -0.985601838057066, null], \"y\": [0.43744261313650457, 0.100897922544204, null], \"z\": [-0.12562814070351752, 0.13567839195979908, null]}, {\"hoverinfo\": \"none\", \"line\": {\"color\": \"black\", \"width\": 2}, \"mode\": \"lines\", \"type\": \"scatter3d\", \"x\": [-0.8904277233305821, 0.7440964149681661, null], \"y\": [0.43744261313650457, 0.4344260812178058, null], \"z\": [-0.12562814070351752, 0.5075376884422113, null]}, {\"hoverinfo\": \"none\", \"line\": {\"color\": \"black\", \"width\": 3}, \"mode\": \"lines\", \"type\": \"scatter3d\", \"x\": [-0.8904277233305821, -0.6353138707760849, null], \"y\": [0.43744261313650457, 0.07249033916421053, null], \"z\": [-0.12562814070351752, 0.7688442211055277, null]}, {\"hoverinfo\": \"none\", \"line\": {\"color\": \"black\", \"width\": 6}, \"mode\": \"lines\", \"type\": \"scatter3d\", \"x\": [-0.9734264244291374, 0.8829535645133417, null], \"y\": [0.19769357018888423, 0.37948128147239324, null], \"z\": [-0.11557788944723613, 0.2763819095477386, null]}, {\"hoverinfo\": \"none\", \"line\": {\"color\": \"black\", \"width\": 0}, \"mode\": \"lines\", \"type\": \"scatter3d\", \"x\": [-0.9734264244291374, 0.7082279152172981, null], \"y\": [0.19769357018888423, -0.5291593752733467, null], \"z\": [-0.11557788944723613, 0.4673366834170853, null]}, {\"hoverinfo\": \"none\", \"line\": {\"color\": \"black\", \"width\": 5}, \"mode\": \"lines\", \"type\": \"scatter3d\", \"x\": [-0.9734264244291374, -0.7976204808491804, null], \"y\": [0.19769357018888423, 0.13464204197246402, null], \"z\": [-0.11557788944723613, 0.5879396984924623, null]}, {\"hoverinfo\": \"none\", \"line\": {\"color\": \"black\", \"width\": 0}, \"mode\": \"lines\", \"type\": \"scatter3d\", \"x\": [-0.9928784759284608, -0.8405173138299454, null], \"y\": [-0.05528335749405927, -0.5350073360636081, null], \"z\": [-0.10552763819095481, -0.08542713567839195, null]}, {\"hoverinfo\": \"none\", \"line\": {\"color\": \"black\", \"width\": 7}, \"mode\": \"lines\", \"type\": \"scatter3d\", \"x\": [-0.9928784759284608, 0.31722051404782214, null], \"y\": [-0.05528335749405927, 0.9460991367010397, null], \"z\": [-0.10552763819095481, 0.06532663316582916, null]}, {\"hoverinfo\": \"none\", \"line\": {\"color\": \"black\", \"width\": 4}, \"mode\": \"lines\", \"type\": \"scatter3d\", \"x\": [-0.9928784759284608, -0.7793130144557557, null], \"y\": [-0.05528335749405927, 0.515147027766033, null], \"z\": [-0.10552763819095481, 0.3567839195979901, null]}, {\"hoverinfo\": \"none\", \"line\": {\"color\": \"black\", \"width\": 1}, \"mode\": \"lines\", \"type\": \"scatter3d\", \"x\": [-0.9928784759284608, 0.06389728976483165, null], \"y\": [-0.05528335749405927, 0.6819062985636061, null], \"z\": [-0.10552763819095481, 0.728643216080402, null]}, {\"hoverinfo\": \"none\", \"line\": {\"color\": \"black\", \"width\": 2}, \"mode\": \"lines\", \"type\": \"scatter3d\", \"x\": [-0.9928784759284608, -0.18901287835010755, null], \"y\": [-0.05528335749405927, 0.646997753575633, null], \"z\": [-0.10552763819095481, 0.7386934673366834, null]}, {\"hoverinfo\": \"none\", \"line\": {\"color\": \"black\", \"width\": 0}, \"mode\": \"lines\", \"type\": \"scatter3d\", \"x\": [-0.9475723752818175, 0.5460301977631995, null], \"y\": [-0.30494370330751364, 0.8359399169400101, null], \"z\": [-0.09547738693467336, 0.05527638190954773, null]}, {\"hoverinfo\": \"none\", \"line\": {\"color\": \"black\", \"width\": 4}, \"mode\": \"lines\", \"type\": \"scatter3d\", \"x\": [-0.9475723752818175, -0.5887395729275208, null], \"y\": [-0.30494370330751364, -0.7889563695067934, null], \"z\": [-0.09547738693467336, 0.17587939698492458, null]}, {\"hoverinfo\": \"none\", \"line\": {\"color\": \"black\", \"width\": 9}, \"mode\": \"lines\", \"type\": \"scatter3d\", \"x\": [-0.9475723752818175, 0.0720199661208389, null], \"y\": [-0.30494370330751364, -0.3613409361011954, null], \"z\": [-0.09547738693467336, 0.9296482412060301, null]}, {\"hoverinfo\": \"none\", \"line\": {\"color\": \"black\", \"width\": 8}, \"mode\": \"lines\", \"type\": \"scatter3d\", \"x\": [-0.8405173138299454, -0.9288482441833449, null], \"y\": [-0.5350073360636081, 0.3485089805742379, null], \"z\": [-0.08542713567839195, 0.12562814070351763, null]}, {\"hoverinfo\": \"none\", \"line\": {\"color\": \"black\", \"width\": 1}, \"mode\": \"lines\", \"type\": \"scatter3d\", \"x\": [-0.8405173138299454, -0.7975160188443354, null], \"y\": [-0.5350073360636081, -0.45428093654550455, null], \"z\": [-0.08542713567839195, 0.3969849246231157, null]}, {\"hoverinfo\": \"none\", \"line\": {\"color\": \"black\", \"width\": 4}, \"mode\": \"lines\", \"type\": \"scatter3d\", \"x\": [-0.8405173138299454, 0.725096144076266, null], \"y\": [-0.5350073360636081, 0.01681974681893568, null], \"z\": [-0.08542713567839195, 0.6884422110552764, null]}, {\"hoverinfo\": \"none\", \"line\": {\"color\": \"black\", \"width\": 5}, \"mode\": \"lines\", \"type\": \"scatter3d\", \"x\": [-0.8405173138299454, -0.11657616359218419, null], \"y\": [-0.5350073360636081, 0.4615960799092759, null], \"z\": [-0.08542713567839195, 0.879396984924623, null]}, {\"hoverinfo\": \"none\", \"line\": {\"color\": \"black\", \"width\": 2}, \"mode\": \"lines\", \"type\": \"scatter3d\", \"x\": [-0.678728644568649, -0.47275790495820047, null], \"y\": [-0.730510610694205, -0.8787675428113799, null], \"z\": [-0.07537688442211053, -0.06532663316582904, null]}, {\"hoverinfo\": \"none\", \"line\": {\"color\": \"black\", \"width\": 4}, \"mode\": \"lines\", \"type\": \"scatter3d\", \"x\": [-0.678728644568649, -0.9047419231328161, null], \"y\": [-0.730510610694205, -0.39645300927462035, null], \"z\": [-0.07537688442211053, 0.15577889447236173, null]}, {\"hoverinfo\": \"none\", \"line\": {\"color\": \"black\", \"width\": 3}, \"mode\": \"lines\", \"type\": \"scatter3d\", \"x\": [-0.678728644568649, 0.5646952188368541, null], \"y\": [-0.730510610694205, 0.7702061342015544, null], \"z\": [-0.07537688442211053, 0.29648241206030157, null]}, {\"hoverinfo\": \"none\", \"line\": {\"color\": \"black\", \"width\": 4}, \"mode\": \"lines\", \"type\": \"scatter3d\", \"x\": [-0.678728644568649, -0.5505913149039414, null], \"y\": [-0.730510610694205, -0.5610823440242639, null], \"z\": [-0.07537688442211053, 0.6180904522613064, null]}, {\"hoverinfo\": \"none\", \"line\": {\"color\": \"black\", \"width\": 3}, \"mode\": \"lines\", \"type\": \"scatter3d\", \"x\": [-0.678728644568649, 0.3119136244605593, null], \"y\": [-0.730510610694205, 0.6215577541798972, null], \"z\": [-0.07537688442211053, 0.7185929648241205, null]}, {\"hoverinfo\": \"none\", \"line\": {\"color\": \"black\", \"width\": 2}, \"mode\": \"lines\", \"type\": \"scatter3d\", \"x\": [-0.678728644568649, 0.0676279462623623, null], \"y\": [-0.730510610694205, -0.12420127151757969, null], \"z\": [-0.07537688442211053, 0.9899497487437185, null]}, {\"hoverinfo\": \"none\", \"line\": {\"color\": \"black\", \"width\": 5}, \"mode\": \"lines\", \"type\": \"scatter3d\", \"x\": [-0.47275790495820047, 0.9995234698449429, null], \"y\": [-0.8787675428113799, -0.026936336813276493, null], \"z\": [-0.06532663316582904, 0.015075376884422058, null]}, {\"hoverinfo\": \"none\", \"line\": {\"color\": \"black\", \"width\": 6}, \"mode\": \"lines\", \"type\": \"scatter3d\", \"x\": [-0.47275790495820047, 0.739575014981879, null], \"y\": [-0.8787675428113799, 0.6715529720883432, null], \"z\": [-0.06532663316582904, 0.045226130653266486, null]}, {\"hoverinfo\": \"none\", \"line\": {\"color\": \"black\", \"width\": 5}, \"mode\": \"lines\", \"type\": \"scatter3d\", \"x\": [-0.47275790495820047, -0.11973939666335258, null], \"y\": [-0.8787675428113799, -0.9732699296082516, null], \"z\": [-0.06532663316582904, 0.19597989949748745, null]}, {\"hoverinfo\": \"none\", \"line\": {\"color\": \"black\", \"width\": 5}, \"mode\": \"lines\", \"type\": \"scatter3d\", \"x\": [-0.47275790495820047, 0.8829535645133417, null], \"y\": [-0.8787675428113799, 0.37948128147239324, null], \"z\": [-0.06532663316582904, 0.2763819095477386, null]}, {\"hoverinfo\": \"none\", \"line\": {\"color\": \"black\", \"width\": 3}, \"mode\": \"lines\", \"type\": \"scatter3d\", \"x\": [-0.47275790495820047, -0.16221249071244484, null], \"y\": [-0.8787675428113799, 0.9311272108779202, null], \"z\": [-0.06532663316582904, 0.3266331658291456, null]}, {\"hoverinfo\": \"none\", \"line\": {\"color\": \"black\", \"width\": 7}, \"mode\": \"lines\", \"type\": \"scatter3d\", \"x\": [-0.47275790495820047, -0.4311344860611112, null], \"y\": [-0.8787675428113799, -0.8001017444049664, null], \"z\": [-0.06532663316582904, 0.41708542713567837, null]}, {\"hoverinfo\": \"none\", \"line\": {\"color\": \"black\", \"width\": 4}, \"mode\": \"lines\", \"type\": \"scatter3d\", \"x\": [-0.47275790495820047, 0.8715636126463255, null], \"y\": [-0.8787675428113799, -0.05274333023114333, null], \"z\": [-0.06532663316582904, 0.48743718592964813, null]}, {\"hoverinfo\": \"none\", \"line\": {\"color\": \"black\", \"width\": 0}, \"mode\": \"lines\", \"type\": \"scatter3d\", \"x\": [-0.47275790495820047, -0.09075695184030583, null], \"y\": [-0.8787675428113799, -0.7645099613068972, null], \"z\": [-0.06532663316582904, 0.6381909547738693, null]}, {\"hoverinfo\": \"none\", \"line\": {\"color\": \"black\", \"width\": 6}, \"mode\": \"lines\", \"type\": \"scatter3d\", \"x\": [-0.47275790495820047, 0.5810756220933079, null], \"y\": [-0.8787675428113799, -0.46440336134774246, null], \"z\": [-0.06532663316582904, 0.6683417085427135, null]}, {\"hoverinfo\": \"none\", \"line\": {\"color\": \"black\", \"width\": 8}, \"mode\": \"lines\", \"type\": \"scatter3d\", \"x\": [-0.47275790495820047, 0.3119136244605593, null], \"y\": [-0.8787675428113799, 0.6215577541798972, null], \"z\": [-0.06532663316582904, 0.7185929648241205, null]}, {\"hoverinfo\": \"none\", \"line\": {\"color\": \"black\", \"width\": 9}, \"mode\": \"lines\", \"type\": \"scatter3d\", \"x\": [-0.23599909505127642, 0.7033011304219116, null], \"y\": [-0.970179853809575, -0.7107321949644987, null], \"z\": [-0.05527638190954783, -0.015075376884422157, null]}, {\"hoverinfo\": \"none\", \"line\": {\"color\": \"black\", \"width\": 8}, \"mode\": \"lines\", \"type\": \"scatter3d\", \"x\": [-0.23599909505127642, 0.5460301977631995, null], \"y\": [-0.970179853809575, 0.8359399169400101, null], \"z\": [-0.05527638190954783, 0.05527638190954773, null]}, {\"hoverinfo\": \"none\", \"line\": {\"color\": \"black\", \"width\": 8}, \"mode\": \"lines\", \"type\": \"scatter3d\", \"x\": [-0.23599909505127642, -0.5887395729275208, null], \"y\": [-0.970179853809575, -0.7889563695067934, null], \"z\": [-0.05527638190954783, 0.17587939698492458, null]}, {\"hoverinfo\": \"none\", \"line\": {\"color\": \"black\", \"width\": 8}, \"mode\": \"lines\", \"type\": \"scatter3d\", \"x\": [-0.23599909505127642, -0.16221249071244484, null], \"y\": [-0.970179853809575, 0.9311272108779202, null], \"z\": [-0.05527638190954783, 0.3266331658291456, null]}, {\"hoverinfo\": \"none\", \"line\": {\"color\": \"black\", \"width\": 1}, \"mode\": \"lines\", \"type\": \"scatter3d\", \"x\": [-0.23599909505127642, 0.5317207462626569, null], \"y\": [-0.970179853809575, -0.11411904010464476, null], \"z\": [-0.05527638190954783, 0.8391959798994975, null]}, {\"hoverinfo\": \"none\", \"line\": {\"color\": \"black\", \"width\": 8}, \"mode\": \"lines\", \"type\": \"scatter3d\", \"x\": [-0.23599909505127642, -0.42956390914738973, null], \"y\": [-0.970179853809575, 0.07986938119331266, null], \"z\": [-0.05527638190954783, 0.8994974874371859, null]}, {\"hoverinfo\": \"none\", \"line\": {\"color\": \"black\", \"width\": 3}, \"mode\": \"lines\", \"type\": \"scatter3d\", \"x\": [0.016183422624492533, 0.8853301800948286, null], \"y\": [-0.9988456807426714, 0.4636303804992801, null], \"z\": [-0.04522613065326637, 0.03517587939698494, null]}, {\"hoverinfo\": \"none\", \"line\": {\"color\": \"black\", \"width\": 6}, \"mode\": \"lines\", \"type\": \"scatter3d\", \"x\": [0.016183422624492533, -0.1908820904593788, null], \"y\": [-0.9988456807426714, -0.8838094476675942, null], \"z\": [-0.04522613065326637, 0.4271356783919597, null]}, {\"hoverinfo\": \"none\", \"line\": {\"color\": \"black\", \"width\": 0}, \"mode\": \"lines\", \"type\": \"scatter3d\", \"x\": [0.016183422624492533, 0.5799931250776793, null], \"y\": [-0.9988456807426714, 0.6290554026008339, null], \"z\": [-0.04522613065326637, 0.5175879396984923, null]}, {\"hoverinfo\": \"none\", \"line\": {\"color\": \"black\", \"width\": 7}, \"mode\": \"lines\", \"type\": \"scatter3d\", \"x\": [0.016183422624492533, -0.7976204808491804, null], \"y\": [-0.9988456807426714, 0.13464204197246402, null], \"z\": [-0.04522613065326637, 0.5879396984924623, null]}, {\"hoverinfo\": \"none\", \"line\": {\"color\": \"black\", \"width\": 6}, \"mode\": \"lines\", \"type\": \"scatter3d\", \"x\": [0.016183422624492533, -0.6353138707760849, null], \"y\": [-0.9988456807426714, 0.07249033916421053, null], \"z\": [-0.04522613065326637, 0.7688442211055277, null]}, {\"hoverinfo\": \"none\", \"line\": {\"color\": \"black\", \"width\": 6}, \"mode\": \"lines\", \"type\": \"scatter3d\", \"x\": [0.016183422624492533, 0.1400434946507435, null], \"y\": [-0.9988456807426714, 0.4739452249640167, null], \"z\": [-0.04522613065326637, 0.8693467336683418, null]}, {\"hoverinfo\": \"none\", \"line\": {\"color\": \"black\", \"width\": 9}, \"mode\": \"lines\", \"type\": \"scatter3d\", \"x\": [0.016183422624492533, -0.1303084840790476, null], \"y\": [-0.9988456807426714, 0.20594207574432036, null], \"z\": [-0.04522613065326637, 0.9698492462311559, null]}, {\"hoverinfo\": \"none\", \"line\": {\"color\": \"black\", \"width\": 3}, \"mode\": \"lines\", \"type\": \"scatter3d\", \"x\": [0.2674492764124154, -0.1908820904593788, null], \"y\": [-0.9629296662036767, -0.8838094476675942, null], \"z\": [-0.035175879396985035, 0.4271356783919597, null]}, {\"hoverinfo\": \"none\", \"line\": {\"color\": \"black\", \"width\": 1}, \"mode\": \"lines\", \"type\": \"scatter3d\", \"x\": [0.2674492764124154, 0.725096144076266, null], \"y\": [-0.9629296662036767, 0.01681974681893568, null], \"z\": [-0.035175879396985035, 0.6884422110552764, null]}, {\"hoverinfo\": \"none\", \"line\": {\"color\": \"black\", \"width\": 2}, \"mode\": \"lines\", \"type\": \"scatter3d\", \"x\": [0.2674492764124154, -0.42956390914738973, null], \"y\": [-0.9629296662036767, 0.07986938119331266, null], \"z\": [-0.035175879396985035, 0.8994974874371859, null]}, {\"hoverinfo\": \"none\", \"line\": {\"color\": \"black\", \"width\": 7}, \"mode\": \"lines\", \"type\": \"scatter3d\", \"x\": [0.2674492764124154, 0.0720199661208389, null], \"y\": [-0.9629296662036767, -0.3613409361011954, null], \"z\": [-0.035175879396985035, 0.9296482412060301, null]}, {\"hoverinfo\": \"none\", \"line\": {\"color\": \"black\", \"width\": 1}, \"mode\": \"lines\", \"type\": \"scatter3d\", \"x\": [0.2674492764124154, -0.1303084840790476, null], \"y\": [-0.9629296662036767, 0.20594207574432036, null], \"z\": [-0.035175879396985035, 0.9698492462311559, null]}, {\"hoverinfo\": \"none\", \"line\": {\"color\": \"black\", \"width\": 4}, \"mode\": \"lines\", \"type\": \"scatter3d\", \"x\": [0.5015353289119979, 0.06798173585948922, null], \"y\": [-0.8647722339805256, 0.9948350661714466, null], \"z\": [-0.025125628140703495, 0.07537688442211064, null]}, {\"hoverinfo\": \"none\", \"line\": {\"color\": \"black\", \"width\": 3}, \"mode\": \"lines\", \"type\": \"scatter3d\", \"x\": [0.5015353289119979, -0.6398431952082979, null], \"y\": [-0.8647722339805256, 0.7612257241603668, null], \"z\": [-0.025125628140703495, 0.10552763819095472, null]}, {\"hoverinfo\": \"none\", \"line\": {\"color\": \"black\", \"width\": 4}, \"mode\": \"lines\", \"type\": \"scatter3d\", \"x\": [0.5015353289119979, 0.9592929774959421, null], \"y\": [-0.8647722339805256, -0.11864579105488865, null], \"z\": [-0.025125628140703495, 0.25628140703517593, null]}, {\"hoverinfo\": \"none\", \"line\": {\"color\": \"black\", \"width\": 7}, \"mode\": \"lines\", \"type\": \"scatter3d\", \"x\": [0.5015353289119979, -0.7975160188443354, null], \"y\": [-0.8647722339805256, -0.45428093654550455, null], \"z\": [-0.025125628140703495, 0.3969849246231157, null]}, {\"hoverinfo\": \"none\", \"line\": {\"color\": \"black\", \"width\": 3}, \"mode\": \"lines\", \"type\": \"scatter3d\", \"x\": [0.5015353289119979, 0.3108397890520478, null], \"y\": [-0.8647722339805256, -0.8386646672133121, null], \"z\": [-0.025125628140703495, 0.44723618090452255, null]}, {\"hoverinfo\": \"none\", \"line\": {\"color\": \"black\", \"width\": 0}, \"mode\": \"lines\", \"type\": \"scatter3d\", \"x\": [0.5015353289119979, 0.7082279152172981, null], \"y\": [-0.8647722339805256, -0.5291593752733467, null], \"z\": [-0.025125628140703495, 0.4673366834170853, null]}, {\"hoverinfo\": \"none\", \"line\": {\"color\": \"black\", \"width\": 7}, \"mode\": \"lines\", \"type\": \"scatter3d\", \"x\": [0.7033011304219116, -0.985601838057066, null], \"y\": [-0.7107321949644987, 0.100897922544204, null], \"z\": [-0.015075376884422157, 0.13567839195979908, null]}, {\"hoverinfo\": \"none\", \"line\": {\"color\": \"black\", \"width\": 0}, \"mode\": \"lines\", \"type\": \"scatter3d\", \"x\": [0.7033011304219116, 0.13434625214634502, null], \"y\": [-0.7107321949644987, -0.9692794548088852, null], \"z\": [-0.015075376884422157, 0.20603015075376876, null]}, {\"hoverinfo\": \"none\", \"line\": {\"color\": \"black\", \"width\": 2}, \"mode\": \"lines\", \"type\": \"scatter3d\", \"x\": [0.7033011304219116, 0.7500220497040564, null], \"y\": [-0.7107321949644987, 0.5961740871715794, null], \"z\": [-0.015075376884422157, 0.2864321608040202, null]}, {\"hoverinfo\": \"none\", \"line\": {\"color\": \"black\", \"width\": 8}, \"mode\": \"lines\", \"type\": \"scatter3d\", \"x\": [0.7033011304219116, 0.3399549164860912, null], \"y\": [-0.7107321949644987, 0.8890828876302689, null], \"z\": [-0.015075376884422157, 0.30653266331658297, null]}, {\"hoverinfo\": \"none\", \"line\": {\"color\": \"black\", \"width\": 8}, \"mode\": \"lines\", \"type\": \"scatter3d\", \"x\": [0.7033011304219116, 0.3119136244605593, null], \"y\": [-0.7107321949644987, 0.6215577541798972, null], \"z\": [-0.015075376884422157, 0.7185929648241205, null]}, {\"hoverinfo\": \"none\", \"line\": {\"color\": \"black\", \"width\": 7}, \"mode\": \"lines\", \"type\": \"scatter3d\", \"x\": [0.7033011304219116, 0.43486403352118225, null], \"y\": [-0.7107321949644987, -0.351298495616475, null], \"z\": [-0.015075376884422157, 0.829145728643216, null]}, {\"hoverinfo\": \"none\", \"line\": {\"color\": \"black\", \"width\": 7}, \"mode\": \"lines\", \"type\": \"scatter3d\", \"x\": [0.7033011304219116, 0.1297116280928751, null], \"y\": [-0.7107321949644987, 0.24891922943540667, null], \"z\": [-0.015075376884422157, 0.9597989949748744, null]}, {\"hoverinfo\": \"none\", \"line\": {\"color\": \"black\", \"width\": 2}, \"mode\": \"lines\", \"type\": \"scatter3d\", \"x\": [0.8597006759110095, 0.5460301977631995, null], \"y\": [-0.510773429174399, 0.8359399169400101, null], \"z\": [-0.005025125628140692, 0.05527638190954773, null]}, {\"hoverinfo\": \"none\", \"line\": {\"color\": \"black\", \"width\": 1}, \"mode\": \"lines\", \"type\": \"scatter3d\", \"x\": [0.8597006759110095, 0.06798173585948922, null], \"y\": [-0.510773429174399, 0.9948350661714466, null], \"z\": [-0.005025125628140692, 0.07537688442211064, null]}, {\"hoverinfo\": \"none\", \"line\": {\"color\": \"black\", \"width\": 1}, \"mode\": \"lines\", \"type\": \"scatter3d\", \"x\": [0.8597006759110095, -0.3662817858898524, null], \"y\": [-0.510773429174399, -0.9117388986054294, null], \"z\": [-0.005025125628140692, 0.18592964824120597, null]}, {\"hoverinfo\": \"none\", \"line\": {\"color\": \"black\", \"width\": 5}, \"mode\": \"lines\", \"type\": \"scatter3d\", \"x\": [0.8597006759110095, -0.4034742971178234, null], \"y\": [-0.510773429174399, 0.8507953738854946, null], \"z\": [-0.005025125628140692, 0.3366834170854272, null]}, {\"hoverinfo\": \"none\", \"line\": {\"color\": \"black\", \"width\": 9}, \"mode\": \"lines\", \"type\": \"scatter3d\", \"x\": [0.8597006759110095, -0.8858140940564723, null], \"y\": [-0.510773429174399, 0.2841937400165084, null], \"z\": [-0.005025125628140692, 0.3668341708542712, null]}, {\"hoverinfo\": \"none\", \"line\": {\"color\": \"black\", \"width\": 3}, \"mode\": \"lines\", \"type\": \"scatter3d\", \"x\": [0.8597006759110095, -0.5771143305124173, null], \"y\": [-0.510773429174399, 0.5869392617861797, null], \"z\": [-0.005025125628140692, 0.5678391959798994, null]}, {\"hoverinfo\": \"none\", \"line\": {\"color\": \"black\", \"width\": 6}, \"mode\": \"lines\", \"type\": \"scatter3d\", \"x\": [0.8597006759110095, -0.46736094041360504, null], \"y\": [-0.510773429174399, -0.3989235195509105, null], \"z\": [-0.005025125628140692, 0.7889447236180904, null]}, {\"hoverinfo\": \"none\", \"line\": {\"color\": \"black\", \"width\": 7}, \"mode\": \"lines\", \"type\": \"scatter3d\", \"x\": [0.9606193521054072, -0.8109889569592988, null], \"y\": [-0.27782226057861037, 0.5735317455564173, null], \"z\": [0.005025125628140593, 0.11557788944723603, null]}, {\"hoverinfo\": \"none\", \"line\": {\"color\": \"black\", \"width\": 1}, \"mode\": \"lines\", \"type\": \"scatter3d\", \"x\": [0.9606193521054072, -0.985601838057066, null], \"y\": [-0.27782226057861037, 0.100897922544204, null], \"z\": [0.005025125628140593, 0.13567839195979908, null]}, {\"hoverinfo\": \"none\", \"line\": {\"color\": \"black\", \"width\": 7}, \"mode\": \"lines\", \"type\": \"scatter3d\", \"x\": [0.9606193521054072, 0.3788192430037307, null], \"y\": [-0.27782226057861037, -0.8998917940492931, null], \"z\": [0.005025125628140593, 0.21608040201005022, null]}, {\"hoverinfo\": \"none\", \"line\": {\"color\": \"black\", \"width\": 0}, \"mode\": \"lines\", \"type\": \"scatter3d\", \"x\": [0.9606193521054072, 0.3399549164860912, null], \"y\": [-0.27782226057861037, 0.8890828876302689, null], \"z\": [0.005025125628140593, 0.30653266331658297, null]}, {\"hoverinfo\": \"none\", \"line\": {\"color\": \"black\", \"width\": 2}, \"mode\": \"lines\", \"type\": \"scatter3d\", \"x\": [0.9606193521054072, -0.33761069961500084, null], \"y\": [-0.27782226057861037, -0.7010408490879112, null], \"z\": [0.005025125628140593, 0.6281407035175879, null]}, {\"hoverinfo\": \"none\", \"line\": {\"color\": \"black\", \"width\": 9}, \"mode\": \"lines\", \"type\": \"scatter3d\", \"x\": [0.9606193521054072, 0.43486403352118225, null], \"y\": [-0.27782226057861037, -0.351298495616475, null], \"z\": [0.005025125628140593, 0.829145728643216, null]}, {\"hoverinfo\": \"none\", \"line\": {\"color\": \"black\", \"width\": 7}, \"mode\": \"lines\", \"type\": \"scatter3d\", \"x\": [0.9606193521054072, 0.5317207462626569, null], \"y\": [-0.27782226057861037, -0.11411904010464476, null], \"z\": [0.005025125628140593, 0.8391959798994975, null]}, {\"hoverinfo\": \"none\", \"line\": {\"color\": \"black\", \"width\": 1}, \"mode\": \"lines\", \"type\": \"scatter3d\", \"x\": [0.9606193521054072, 0.27639958067021775, null], \"y\": [-0.27782226057861037, -0.20141999669691893, null], \"z\": [0.005025125628140593, 0.9396984924623115, null]}, {\"hoverinfo\": \"none\", \"line\": {\"color\": \"black\", \"width\": 7}, \"mode\": \"lines\", \"type\": \"scatter3d\", \"x\": [0.9995234698449429, -0.6143899953864282, null], \"y\": [-0.026936336813276493, 0.7087317523628855, null], \"z\": [0.015075376884422058, 0.3467336683417086, null]}, {\"hoverinfo\": \"none\", \"line\": {\"color\": \"black\", \"width\": 8}, \"mode\": \"lines\", \"type\": \"scatter3d\", \"x\": [0.9995234698449429, -0.600556325517356, null], \"y\": [-0.026936336813276493, -0.18070833075791126, null], \"z\": [0.015075376884422058, 0.778894472361809, null]}, {\"hoverinfo\": \"none\", \"line\": {\"color\": \"black\", \"width\": 8}, \"mode\": \"lines\", \"type\": \"scatter3d\", \"x\": [0.9738814815414809, 0.31722051404782214, null], \"y\": [0.22566249737407673, 0.9460991367010397, null], \"z\": [0.025125628140703616, 0.06532663316582916, null]}, {\"hoverinfo\": \"none\", \"line\": {\"color\": \"black\", \"width\": 2}, \"mode\": \"lines\", \"type\": \"scatter3d\", \"x\": [0.9738814815414809, 0.8829535645133417, null], \"y\": [0.22566249737407673, 0.37948128147239324, null], \"z\": [0.025125628140703616, 0.2763819095477386, null]}, {\"hoverinfo\": \"none\", \"line\": {\"color\": \"black\", \"width\": 1}, \"mode\": \"lines\", \"type\": \"scatter3d\", \"x\": [0.9738814815414809, -0.4034742971178234, null], \"y\": [0.22566249737407673, 0.8507953738854946, null], \"z\": [0.025125628140703616, 0.3366834170854272, null]}, {\"hoverinfo\": \"none\", \"line\": {\"color\": \"black\", \"width\": 8}, \"mode\": \"lines\", \"type\": \"scatter3d\", \"x\": [0.8853301800948286, 0.06798173585948922, null], \"y\": [0.4636303804992801, 0.9948350661714466, null], \"z\": [0.03517587939698494, 0.07537688442211064, null]}, {\"hoverinfo\": \"none\", \"line\": {\"color\": \"black\", \"width\": 0}, \"mode\": \"lines\", \"type\": \"scatter3d\", \"x\": [0.8853301800948286, 0.5970599024521844, null], \"y\": [0.4636303804992801, -0.7696651223338173, null], \"z\": [0.03517587939698494, 0.22613065326633158, null]}, {\"hoverinfo\": \"none\", \"line\": {\"color\": \"black\", \"width\": 5}, \"mode\": \"lines\", \"type\": \"scatter3d\", \"x\": [0.8853301800948286, -0.1908820904593788, null], \"y\": [0.4636303804992801, -0.8838094476675942, null], \"z\": [0.03517587939698494, 0.4271356783919597, null]}, {\"hoverinfo\": \"none\", \"line\": {\"color\": \"black\", \"width\": 5}, \"mode\": \"lines\", \"type\": \"scatter3d\", \"x\": [0.8853301800948286, -0.18901287835010755, null], \"y\": [0.4636303804992801, 0.646997753575633, null], \"z\": [0.03517587939698494, 0.7386934673366834, null]}, {\"hoverinfo\": \"none\", \"line\": {\"color\": \"black\", \"width\": 4}, \"mode\": \"lines\", \"type\": \"scatter3d\", \"x\": [0.8853301800948286, -0.4107215962272207, null], \"y\": [0.4636303804992801, 0.5202793617472665, null], \"z\": [0.03517587939698494, 0.7487437185929648, null]}, {\"hoverinfo\": \"none\", \"line\": {\"color\": \"black\", \"width\": 1}, \"mode\": \"lines\", \"type\": \"scatter3d\", \"x\": [0.8853301800948286, -0.3779945609644943, null], \"y\": [0.4636303804992801, -0.17275133261095033, null], \"z\": [0.03517587939698494, 0.9095477386934674, null]}, {\"hoverinfo\": \"none\", \"line\": {\"color\": \"black\", \"width\": 2}, \"mode\": \"lines\", \"type\": \"scatter3d\", \"x\": [0.739575014981879, -0.7975160188443354, null], \"y\": [0.6715529720883432, -0.45428093654550455, null], \"z\": [0.045226130653266486, 0.3969849246231157, null]}, {\"hoverinfo\": \"none\", \"line\": {\"color\": \"black\", \"width\": 8}, \"mode\": \"lines\", \"type\": \"scatter3d\", \"x\": [0.5460301977631995, -0.8109889569592988, null], \"y\": [0.8359399169400101, 0.5735317455564173, null], \"z\": [0.05527638190954773, 0.11557788944723603, null]}, {\"hoverinfo\": \"none\", \"line\": {\"color\": \"black\", \"width\": 1}, \"mode\": \"lines\", \"type\": \"scatter3d\", \"x\": [0.5460301977631995, -0.9774199655907337, null], \"y\": [0.8359399169400101, -0.15301429152536394, null], \"z\": [0.05527638190954773, 0.14572864321608045, null]}, {\"hoverinfo\": \"none\", \"line\": {\"color\": \"black\", \"width\": 1}, \"mode\": \"lines\", \"type\": \"scatter3d\", \"x\": [0.5460301977631995, -0.5887395729275208, null], \"y\": [0.8359399169400101, -0.7889563695067934, null], \"z\": [0.05527638190954773, 0.17587939698492458, null]}, {\"hoverinfo\": \"none\", \"line\": {\"color\": \"black\", \"width\": 7}, \"mode\": \"lines\", \"type\": \"scatter3d\", \"x\": [0.5460301977631995, 0.3788192430037307, null], \"y\": [0.8359399169400101, -0.8998917940492931, null], \"z\": [0.05527638190954773, 0.21608040201005022, null]}, {\"hoverinfo\": \"none\", \"line\": {\"color\": \"black\", \"width\": 3}, \"mode\": \"lines\", \"type\": \"scatter3d\", \"x\": [0.5460301977631995, 0.5970599024521844, null], \"y\": [0.8359399169400101, -0.7696651223338173, null], \"z\": [0.05527638190954773, 0.22613065326633158, null]}, {\"hoverinfo\": \"none\", \"line\": {\"color\": \"black\", \"width\": 0}, \"mode\": \"lines\", \"type\": \"scatter3d\", \"x\": [0.5460301977631995, 0.36579375496206784, null], \"y\": [0.8359399169400101, 0.7666765082332472, null], \"z\": [0.05527638190954773, 0.5276381909547738, null]}, {\"hoverinfo\": \"none\", \"line\": {\"color\": \"black\", \"width\": 3}, \"mode\": \"lines\", \"type\": \"scatter3d\", \"x\": [0.5460301977631995, -0.09075695184030583, null], \"y\": [0.8359399169400101, -0.7645099613068972, null], \"z\": [0.05527638190954773, 0.6381909547738693, null]}, {\"hoverinfo\": \"none\", \"line\": {\"color\": \"black\", \"width\": 5}, \"mode\": \"lines\", \"type\": \"scatter3d\", \"x\": [0.31722051404782214, -0.9774199655907337, null], \"y\": [0.9460991367010397, -0.15301429152536394, null], \"z\": [0.06532663316582916, 0.14572864321608045, null]}, {\"hoverinfo\": \"none\", \"line\": {\"color\": \"black\", \"width\": 9}, \"mode\": \"lines\", \"type\": \"scatter3d\", \"x\": [0.31722051404782214, -0.11973939666335258, null], \"y\": [0.9460991367010397, -0.9732699296082516, null], \"z\": [0.06532663316582916, 0.19597989949748745, null]}, {\"hoverinfo\": \"none\", \"line\": {\"color\": \"black\", \"width\": 4}, \"mode\": \"lines\", \"type\": \"scatter3d\", \"x\": [0.31722051404782214, -0.4311344860611112, null], \"y\": [0.9460991367010397, -0.8001017444049664, null], \"z\": [0.06532663316582916, 0.41708542713567837, null]}, {\"hoverinfo\": \"none\", \"line\": {\"color\": \"black\", \"width\": 6}, \"mode\": \"lines\", \"type\": \"scatter3d\", \"x\": [0.31722051404782214, -0.1908820904593788, null], \"y\": [0.9460991367010397, -0.8838094476675942, null], \"z\": [0.06532663316582916, 0.4271356783919597, null]}, {\"hoverinfo\": \"none\", \"line\": {\"color\": \"black\", \"width\": 0}, \"mode\": \"lines\", \"type\": \"scatter3d\", \"x\": [0.31722051404782214, -0.004587855210254107, null], \"y\": [0.9460991367010397, -0.5877284863436261, null], \"z\": [0.06532663316582916, 0.8090452261306533, null]}, {\"hoverinfo\": \"none\", \"line\": {\"color\": \"black\", \"width\": 8}, \"mode\": \"lines\", \"type\": \"scatter3d\", \"x\": [0.06798173585948922, 0.0632016554808522, null], \"y\": [0.9948350661714466, -0.8971477100578715, null], \"z\": [0.07537688442211064, 0.43718592964824127, null]}, {\"hoverinfo\": \"none\", \"line\": {\"color\": \"black\", \"width\": 5}, \"mode\": \"lines\", \"type\": \"scatter3d\", \"x\": [0.06798173585948922, -0.18633022541047584, null], \"y\": [0.9948350661714466, -0.3458620880912837, null], \"z\": [0.07537688442211064, 0.9195979899497488, null]}, {\"hoverinfo\": \"none\", \"line\": {\"color\": \"black\", \"width\": 9}, \"mode\": \"lines\", \"type\": \"scatter3d\", \"x\": [-0.18549067049375184, 0.7500220497040564, null], \"y\": [0.978925643575427, 0.5961740871715794, null], \"z\": [0.08542713567839207, 0.2864321608040202, null]}, {\"hoverinfo\": \"none\", \"line\": {\"color\": \"black\", \"width\": 5}, \"mode\": \"lines\", \"type\": \"scatter3d\", \"x\": [-0.18549067049375184, 0.3399549164860912, null], \"y\": [0.978925643575427, 0.8890828876302689, null], \"z\": [0.08542713567839207, 0.30653266331658297, null]}, {\"hoverinfo\": \"none\", \"line\": {\"color\": \"black\", \"width\": 0}, \"mode\": \"lines\", \"type\": \"scatter3d\", \"x\": [-0.18549067049375184, -0.925672422221608, null], \"y\": [0.978925643575427, 0.03299544072710666, null], \"z\": [0.08542713567839207, 0.3768844221105527, null]}, {\"hoverinfo\": \"none\", \"line\": {\"color\": \"black\", \"width\": 4}, \"mode\": \"lines\", \"type\": \"scatter3d\", \"x\": [-0.18549067049375184, -0.7231637330577864, null], \"y\": [0.978925643575427, 0.3782565293064855, null], \"z\": [0.08542713567839207, 0.5778894472361809, null]}, {\"hoverinfo\": \"none\", \"line\": {\"color\": \"black\", \"width\": 4}, \"mode\": \"lines\", \"type\": \"scatter3d\", \"x\": [-0.18549067049375184, 0.5317207462626569, null], \"y\": [0.978925643575427, -0.11411904010464476, null], \"z\": [0.08542713567839207, 0.8391959798994975, null]}, {\"hoverinfo\": \"none\", \"line\": {\"color\": \"black\", \"width\": 9}, \"mode\": \"lines\", \"type\": \"scatter3d\", \"x\": [-0.42668500783452756, 0.9592929774959421, null], \"y\": [0.8993464141660742, -0.11864579105488865, null], \"z\": [0.09547738693467349, 0.25628140703517593, null]}, {\"hoverinfo\": \"none\", \"line\": {\"color\": \"black\", \"width\": 0}, \"mode\": \"lines\", \"type\": \"scatter3d\", \"x\": [-0.42668500783452756, 0.09172592356847682, null], \"y\": [0.8993464141660742, 0.9441194909258364, null], \"z\": [0.09547738693467349, 0.3165829145728642, null]}, {\"hoverinfo\": \"none\", \"line\": {\"color\": \"black\", \"width\": 8}, \"mode\": \"lines\", \"type\": \"scatter3d\", \"x\": [-0.42668500783452756, 0.1400434946507435, null], \"y\": [0.8993464141660742, 0.4739452249640167, null], \"z\": [0.09547738693467349, 0.8693467336683418, null]}, {\"hoverinfo\": \"none\", \"line\": {\"color\": \"black\", \"width\": 2}, \"mode\": \"lines\", \"type\": \"scatter3d\", \"x\": [-0.6398431952082979, -0.9774199655907337, null], \"y\": [0.7612257241603668, -0.15301429152536394, null], \"z\": [0.10552763819095472, 0.14572864321608045, null]}, {\"hoverinfo\": \"none\", \"line\": {\"color\": \"black\", \"width\": 4}, \"mode\": \"lines\", \"type\": \"scatter3d\", \"x\": [-0.6398431952082979, -0.8955829153536629, null], \"y\": [0.7612257241603668, -0.2195741338890703, null], \"z\": [0.10552763819095472, 0.3869346733668343, null]}, {\"hoverinfo\": \"none\", \"line\": {\"color\": \"black\", \"width\": 9}, \"mode\": \"lines\", \"type\": \"scatter3d\", \"x\": [-0.6398431952082979, 0.8440290778788562, null], \"y\": [0.7612257241603668, 0.20030268479764154, null], \"z\": [0.10552763819095472, 0.49748743718592975, null]}, {\"hoverinfo\": \"none\", \"line\": {\"color\": \"black\", \"width\": 6}, \"mode\": \"lines\", \"type\": \"scatter3d\", \"x\": [-0.6398431952082979, -0.600556325517356, null], \"y\": [0.7612257241603668, -0.18070833075791126, null], \"z\": [0.10552763819095472, 0.778894472361809, null]}, {\"hoverinfo\": \"none\", \"line\": {\"color\": \"black\", \"width\": 2}, \"mode\": \"lines\", \"type\": \"scatter3d\", \"x\": [-0.6398431952082979, 0.43486403352118225, null], \"y\": [0.7612257241603668, -0.351298495616475, null], \"z\": [0.10552763819095472, 0.829145728643216, null]}, {\"hoverinfo\": \"none\", \"line\": {\"color\": \"black\", \"width\": 4}, \"mode\": \"lines\", \"type\": \"scatter3d\", \"x\": [-0.6398431952082979, 0.30775790638944817, null], \"y\": [0.7612257241603668, 0.0571173779137144, null], \"z\": [0.10552763819095472, 0.949748743718593, null]}, {\"hoverinfo\": \"none\", \"line\": {\"color\": \"black\", \"width\": 9}, \"mode\": \"lines\", \"type\": \"scatter3d\", \"x\": [-0.8109889569592988, -0.9774199655907337, null], \"y\": [0.5735317455564173, -0.15301429152536394, null], \"z\": [0.11557788944723603, 0.14572864321608045, null]}, {\"hoverinfo\": \"none\", \"line\": {\"color\": \"black\", \"width\": 7}, \"mode\": \"lines\", \"type\": \"scatter3d\", \"x\": [-0.8109889569592988, 0.13434625214634502, null], \"y\": [0.5735317455564173, -0.9692794548088852, null], \"z\": [0.11557788944723603, 0.20603015075376876, null]}, {\"hoverinfo\": \"none\", \"line\": {\"color\": \"black\", \"width\": 2}, \"mode\": \"lines\", \"type\": \"scatter3d\", \"x\": [-0.8109889569592988, 0.8440290778788562, null], \"y\": [0.5735317455564173, 0.20030268479764154, null], \"z\": [0.11557788944723603, 0.49748743718592975, null]}, {\"hoverinfo\": \"none\", \"line\": {\"color\": \"black\", \"width\": 7}, \"mode\": \"lines\", \"type\": \"scatter3d\", \"x\": [-0.8109889569592988, -0.1922969882497981, null], \"y\": [0.5735317455564173, -0.05309277854779562, null], \"z\": [0.11557788944723603, 0.9798994974874371, null]}, {\"hoverinfo\": \"none\", \"line\": {\"color\": \"black\", \"width\": 7}, \"mode\": \"lines\", \"type\": \"scatter3d\", \"x\": [-0.9288482441833449, -0.3662817858898524, null], \"y\": [0.3485089805742379, -0.9117388986054294, null], \"z\": [0.12562814070351763, 0.18592964824120597, null]}, {\"hoverinfo\": \"none\", \"line\": {\"color\": \"black\", \"width\": 1}, \"mode\": \"lines\", \"type\": \"scatter3d\", \"x\": [-0.9288482441833449, 0.725096144076266, null], \"y\": [0.3485089805742379, 0.01681974681893568, null], \"z\": [0.12562814070351763, 0.6884422110552764, null]}, {\"hoverinfo\": \"none\", \"line\": {\"color\": \"black\", \"width\": 2}, \"mode\": \"lines\", \"type\": \"scatter3d\", \"x\": [-0.9288482441833449, -0.6353138707760849, null], \"y\": [0.3485089805742379, 0.07249033916421053, null], \"z\": [0.12562814070351763, 0.7688442211055277, null]}, {\"hoverinfo\": \"none\", \"line\": {\"color\": \"black\", \"width\": 3}, \"mode\": \"lines\", \"type\": \"scatter3d\", \"x\": [-0.9288482441833449, 0.0, null], \"y\": [0.3485089805742379, 0.0, null], \"z\": [0.12562814070351763, 1.0, null]}, {\"hoverinfo\": \"none\", \"line\": {\"color\": \"black\", \"width\": 2}, \"mode\": \"lines\", \"type\": \"scatter3d\", \"x\": [-0.985601838057066, -0.9774199655907337, null], \"y\": [0.100897922544204, -0.15301429152536394, null], \"z\": [0.13567839195979908, 0.14572864321608045, null]}, {\"hoverinfo\": \"none\", \"line\": {\"color\": \"black\", \"width\": 0}, \"mode\": \"lines\", \"type\": \"scatter3d\", \"x\": [-0.985601838057066, 0.9592929774959421, null], \"y\": [0.100897922544204, -0.11864579105488865, null], \"z\": [0.13567839195979908, 0.25628140703517593, null]}, {\"hoverinfo\": \"none\", \"line\": {\"color\": \"black\", \"width\": 8}, \"mode\": \"lines\", \"type\": \"scatter3d\", \"x\": [-0.985601838057066, 0.0720199661208389, null], \"y\": [0.100897922544204, -0.3613409361011954, null], \"z\": [0.13567839195979908, 0.9296482412060301, null]}, {\"hoverinfo\": \"none\", \"line\": {\"color\": \"black\", \"width\": 4}, \"mode\": \"lines\", \"type\": \"scatter3d\", \"x\": [-0.985601838057066, 0.27639958067021775, null], \"y\": [0.100897922544204, -0.20141999669691893, null], \"z\": [0.13567839195979908, 0.9396984924623115, null]}, {\"hoverinfo\": \"none\", \"line\": {\"color\": \"black\", \"width\": 1}, \"mode\": \"lines\", \"type\": \"scatter3d\", \"x\": [-0.9774199655907337, -0.5887395729275208, null], \"y\": [-0.15301429152536394, -0.7889563695067934, null], \"z\": [0.14572864321608045, 0.17587939698492458, null]}, {\"hoverinfo\": \"none\", \"line\": {\"color\": \"black\", \"width\": 7}, \"mode\": \"lines\", \"type\": \"scatter3d\", \"x\": [-0.9774199655907337, 0.06389728976483165, null], \"y\": [-0.15301429152536394, 0.6819062985636061, null], \"z\": [0.14572864321608045, 0.728643216080402, null]}, {\"hoverinfo\": \"none\", \"line\": {\"color\": \"black\", \"width\": 0}, \"mode\": \"lines\", \"type\": \"scatter3d\", \"x\": [-0.9047419231328161, 0.13434625214634502, null], \"y\": [-0.39645300927462035, -0.9692794548088852, null], \"z\": [0.15577889447236173, 0.20603015075376876, null]}, {\"hoverinfo\": \"none\", \"line\": {\"color\": \"black\", \"width\": 4}, \"mode\": \"lines\", \"type\": \"scatter3d\", \"x\": [-0.9047419231328161, 0.8829535645133417, null], \"y\": [-0.39645300927462035, 0.37948128147239324, null], \"z\": [0.15577889447236173, 0.2763819095477386, null]}, {\"hoverinfo\": \"none\", \"line\": {\"color\": \"black\", \"width\": 7}, \"mode\": \"lines\", \"type\": \"scatter3d\", \"x\": [-0.9047419231328161, -0.925672422221608, null], \"y\": [-0.39645300927462035, 0.03299544072710666, null], \"z\": [0.15577889447236173, 0.3768844221105527, null]}, {\"hoverinfo\": \"none\", \"line\": {\"color\": \"black\", \"width\": 6}, \"mode\": \"lines\", \"type\": \"scatter3d\", \"x\": [-0.9047419231328161, 0.7082279152172981, null], \"y\": [-0.39645300927462035, -0.5291593752733467, null], \"z\": [0.15577889447236173, 0.4673366834170853, null]}, {\"hoverinfo\": \"none\", \"line\": {\"color\": \"black\", \"width\": 8}, \"mode\": \"lines\", \"type\": \"scatter3d\", \"x\": [-0.9047419231328161, -0.7976204808491804, null], \"y\": [-0.39645300927462035, 0.13464204197246402, null], \"z\": [0.15577889447236173, 0.5879396984924623, null]}, {\"hoverinfo\": \"none\", \"line\": {\"color\": \"black\", \"width\": 3}, \"mode\": \"lines\", \"type\": \"scatter3d\", \"x\": [-0.9047419231328161, 0.3962282650703626, null], \"y\": [-0.39645300927462035, -0.6400433729233012, null], \"z\": [0.15577889447236173, 0.6582914572864322, null]}, {\"hoverinfo\": \"none\", \"line\": {\"color\": \"black\", \"width\": 9}, \"mode\": \"lines\", \"type\": \"scatter3d\", \"x\": [-0.9047419231328161, -0.4107215962272207, null], \"y\": [-0.39645300927462035, 0.5202793617472665, null], \"z\": [0.15577889447236173, 0.7487437185929648, null]}, {\"hoverinfo\": \"none\", \"line\": {\"color\": \"black\", \"width\": 2}, \"mode\": \"lines\", \"type\": \"scatter3d\", \"x\": [-0.9047419231328161, -0.6353138707760849, null], \"y\": [-0.39645300927462035, 0.07249033916421053, null], \"z\": [0.15577889447236173, 0.7688442211055277, null]}, {\"hoverinfo\": \"none\", \"line\": {\"color\": \"black\", \"width\": 2}, \"mode\": \"lines\", \"type\": \"scatter3d\", \"x\": [-0.9047419231328161, -0.3779945609644943, null], \"y\": [-0.39645300927462035, -0.17275133261095033, null], \"z\": [0.15577889447236173, 0.9095477386934674, null]}, {\"hoverinfo\": \"none\", \"line\": {\"color\": \"black\", \"width\": 2}, \"mode\": \"lines\", \"type\": \"scatter3d\", \"x\": [-0.7722794062760031, -0.11973939666335258, null], \"y\": [-0.6132578683301932, -0.9732699296082516, null], \"z\": [0.16582914572864324, 0.19597989949748745, null]}, {\"hoverinfo\": \"none\", \"line\": {\"color\": \"black\", \"width\": 7}, \"mode\": \"lines\", \"type\": \"scatter3d\", \"x\": [-0.7722794062760031, -0.8955829153536629, null], \"y\": [-0.6132578683301932, -0.2195741338890703, null], \"z\": [0.16582914572864324, 0.3869346733668343, null]}, {\"hoverinfo\": \"none\", \"line\": {\"color\": \"black\", \"width\": 2}, \"mode\": \"lines\", \"type\": \"scatter3d\", \"x\": [-0.7722794062760031, -0.707456892094313, null], \"y\": [-0.6132578683301932, -0.360266373382285, null], \"z\": [0.16582914572864324, 0.6080402010050252, null]}, {\"hoverinfo\": \"none\", \"line\": {\"color\": \"black\", \"width\": 1}, \"mode\": \"lines\", \"type\": \"scatter3d\", \"x\": [-0.7722794062760031, 0.3962282650703626, null], \"y\": [-0.6132578683301932, -0.6400433729233012, null], \"z\": [0.16582914572864324, 0.6582914572864322, null]}, {\"hoverinfo\": \"none\", \"line\": {\"color\": \"black\", \"width\": 7}, \"mode\": \"lines\", \"type\": \"scatter3d\", \"x\": [-0.7722794062760031, -0.6353138707760849, null], \"y\": [-0.6132578683301932, 0.07249033916421053, null], \"z\": [0.16582914572864324, 0.7688442211055277, null]}, {\"hoverinfo\": \"none\", \"line\": {\"color\": \"black\", \"width\": 1}, \"mode\": \"lines\", \"type\": \"scatter3d\", \"x\": [-0.7722794062760031, 0.1297116280928751, null], \"y\": [-0.6132578683301932, 0.24891922943540667, null], \"z\": [0.16582914572864324, 0.9597989949748744, null]}, {\"hoverinfo\": \"none\", \"line\": {\"color\": \"black\", \"width\": 3}, \"mode\": \"lines\", \"type\": \"scatter3d\", \"x\": [-0.7722794062760031, -0.1922969882497981, null], \"y\": [-0.6132578683301932, -0.05309277854779562, null], \"z\": [0.16582914572864324, 0.9798994974874371, null]}, {\"hoverinfo\": \"none\", \"line\": {\"color\": \"black\", \"width\": 6}, \"mode\": \"lines\", \"type\": \"scatter3d\", \"x\": [-0.5887395729275208, 0.5646952188368541, null], \"y\": [-0.7889563695067934, 0.7702061342015544, null], \"z\": [0.17587939698492458, 0.29648241206030157, null]}, {\"hoverinfo\": \"none\", \"line\": {\"color\": \"black\", \"width\": 7}, \"mode\": \"lines\", \"type\": \"scatter3d\", \"x\": [-0.5887395729275208, -0.1908820904593788, null], \"y\": [-0.7889563695067934, -0.8838094476675942, null], \"z\": [0.17587939698492458, 0.4271356783919597, null]}, {\"hoverinfo\": \"none\", \"line\": {\"color\": \"black\", \"width\": 5}, \"mode\": \"lines\", \"type\": \"scatter3d\", \"x\": [-0.5887395729275208, -0.33761069961500084, null], \"y\": [-0.7889563695067934, -0.7010408490879112, null], \"z\": [0.17587939698492458, 0.6281407035175879, null]}, {\"hoverinfo\": \"none\", \"line\": {\"color\": \"black\", \"width\": 2}, \"mode\": \"lines\", \"type\": \"scatter3d\", \"x\": [-0.5887395729275208, 0.43486403352118225, null], \"y\": [-0.7889563695067934, -0.351298495616475, null], \"z\": [0.17587939698492458, 0.829145728643216, null]}, {\"hoverinfo\": \"none\", \"line\": {\"color\": \"black\", \"width\": 1}, \"mode\": \"lines\", \"type\": \"scatter3d\", \"x\": [-0.5887395729275208, 0.5317207462626569, null], \"y\": [-0.7889563695067934, -0.11411904010464476, null], \"z\": [0.17587939698492458, 0.8391959798994975, null]}, {\"hoverinfo\": \"none\", \"line\": {\"color\": \"black\", \"width\": 1}, \"mode\": \"lines\", \"type\": \"scatter3d\", \"x\": [-0.3662817858898524, 0.36579375496206784, null], \"y\": [-0.9117388986054294, 0.7666765082332472, null], \"z\": [0.18592964824120597, 0.5276381909547738, null]}, {\"hoverinfo\": \"none\", \"line\": {\"color\": \"black\", \"width\": 6}, \"mode\": \"lines\", \"type\": \"scatter3d\", \"x\": [-0.3662817858898524, 0.36776528457450497, null], \"y\": [-0.9117388986054294, 0.35546905741019574, null], \"z\": [0.18592964824120597, 0.8592964824120604, null]}, {\"hoverinfo\": \"none\", \"line\": {\"color\": \"black\", \"width\": 7}, \"mode\": \"lines\", \"type\": \"scatter3d\", \"x\": [-0.11973939666335258, 0.7082279152172981, null], \"y\": [-0.9732699296082516, -0.5291593752733467, null], \"z\": [0.19597989949748745, 0.4673366834170853, null]}, {\"hoverinfo\": \"none\", \"line\": {\"color\": \"black\", \"width\": 8}, \"mode\": \"lines\", \"type\": \"scatter3d\", \"x\": [-0.11973939666335258, 0.36776528457450497, null], \"y\": [-0.9732699296082516, 0.35546905741019574, null], \"z\": [0.19597989949748745, 0.8592964824120604, null]}, {\"hoverinfo\": \"none\", \"line\": {\"color\": \"black\", \"width\": 0}, \"mode\": \"lines\", \"type\": \"scatter3d\", \"x\": [-0.11973939666335258, -0.42956390914738973, null], \"y\": [-0.9732699296082516, 0.07986938119331266, null], \"z\": [0.19597989949748745, 0.8994974874371859, null]}, {\"hoverinfo\": \"none\", \"line\": {\"color\": \"black\", \"width\": 0}, \"mode\": \"lines\", \"type\": \"scatter3d\", \"x\": [0.13434625214634502, 0.06389728976483165, null], \"y\": [-0.9692794548088852, 0.6819062985636061, null], \"z\": [0.20603015075376876, 0.728643216080402, null]}, {\"hoverinfo\": \"none\", \"line\": {\"color\": \"black\", \"width\": 5}, \"mode\": \"lines\", \"type\": \"scatter3d\", \"x\": [0.13434625214634502, 0.0676279462623623, null], \"y\": [-0.9692794548088852, -0.12420127151757969, null], \"z\": [0.20603015075376876, 0.9899497487437185, null]}, {\"hoverinfo\": \"none\", \"line\": {\"color\": \"black\", \"width\": 5}, \"mode\": \"lines\", \"type\": \"scatter3d\", \"x\": [0.13434625214634502, 0.0, null], \"y\": [-0.9692794548088852, 0.0, null], \"z\": [0.20603015075376876, 1.0, null]}, {\"hoverinfo\": \"none\", \"line\": {\"color\": \"black\", \"width\": 8}, \"mode\": \"lines\", \"type\": \"scatter3d\", \"x\": [0.3788192430037307, 0.8715636126463255, null], \"y\": [-0.8998917940492931, -0.05274333023114333, null], \"z\": [0.21608040201005022, 0.48743718592964813, null]}, {\"hoverinfo\": \"none\", \"line\": {\"color\": \"black\", \"width\": 3}, \"mode\": \"lines\", \"type\": \"scatter3d\", \"x\": [0.3788192430037307, -0.5771143305124173, null], \"y\": [-0.8998917940492931, 0.5869392617861797, null], \"z\": [0.21608040201005022, 0.5678391959798994, null]}, {\"hoverinfo\": \"none\", \"line\": {\"color\": \"black\", \"width\": 9}, \"mode\": \"lines\", \"type\": \"scatter3d\", \"x\": [0.3788192430037307, 0.1633089131200265, null], \"y\": [-0.8998917940492931, -0.7437160329723511, null], \"z\": [0.21608040201005022, 0.6482412060301508, null]}, {\"hoverinfo\": \"none\", \"line\": {\"color\": \"black\", \"width\": 2}, \"mode\": \"lines\", \"type\": \"scatter3d\", \"x\": [0.3788192430037307, 0.06389728976483165, null], \"y\": [-0.8998917940492931, 0.6819062985636061, null], \"z\": [0.21608040201005022, 0.728643216080402, null]}, {\"hoverinfo\": \"none\", \"line\": {\"color\": \"black\", \"width\": 4}, \"mode\": \"lines\", \"type\": \"scatter3d\", \"x\": [0.3788192430037307, -0.004587855210254107, null], \"y\": [-0.8998917940492931, -0.5877284863436261, null], \"z\": [0.21608040201005022, 0.8090452261306533, null]}, {\"hoverinfo\": \"none\", \"line\": {\"color\": \"black\", \"width\": 8}, \"mode\": \"lines\", \"type\": \"scatter3d\", \"x\": [0.5970599024521844, -0.1908820904593788, null], \"y\": [-0.7696651223338173, -0.8838094476675942, null], \"z\": [0.22613065326633158, 0.4271356783919597, null]}, {\"hoverinfo\": \"none\", \"line\": {\"color\": \"black\", \"width\": 7}, \"mode\": \"lines\", \"type\": \"scatter3d\", \"x\": [0.5970599024521844, 0.7440964149681661, null], \"y\": [-0.7696651223338173, 0.4344260812178058, null], \"z\": [0.22613065326633158, 0.5075376884422113, null]}, {\"hoverinfo\": \"none\", \"line\": {\"color\": \"black\", \"width\": 4}, \"mode\": \"lines\", \"type\": \"scatter3d\", \"x\": [0.5970599024521844, -0.5505913149039414, null], \"y\": [-0.7696651223338173, -0.5610823440242639, null], \"z\": [0.22613065326633158, 0.6180904522613064, null]}, {\"hoverinfo\": \"none\", \"line\": {\"color\": \"black\", \"width\": 7}, \"mode\": \"lines\", \"type\": \"scatter3d\", \"x\": [0.7741176022559528, -0.7793130144557557, null], \"y\": [-0.5873333961357678, 0.515147027766033, null], \"z\": [0.23618090452261312, 0.3567839195979901, null]}, {\"hoverinfo\": \"none\", \"line\": {\"color\": \"black\", \"width\": 2}, \"mode\": \"lines\", \"type\": \"scatter3d\", \"x\": [0.7741176022559528, 0.7440964149681661, null], \"y\": [-0.5873333961357678, 0.4344260812178058, null], \"z\": [0.23618090452261312, 0.5075376884422113, null]}, {\"hoverinfo\": \"none\", \"line\": {\"color\": \"black\", \"width\": 0}, \"mode\": \"lines\", \"type\": \"scatter3d\", \"x\": [0.89774944367018, 0.9592929774959421, null], \"y\": [-0.3652617613625499, -0.11864579105488865, null], \"z\": [0.24623115577889462, 0.25628140703517593, null]}, {\"hoverinfo\": \"none\", \"line\": {\"color\": \"black\", \"width\": 2}, \"mode\": \"lines\", \"type\": \"scatter3d\", \"x\": [0.89774944367018, 0.9543101980031311, null], \"y\": [-0.3652617613625499, 0.1354972094876758, null], \"z\": [0.24623115577889462, 0.26633165829145716, null]}, {\"hoverinfo\": \"none\", \"line\": {\"color\": \"black\", \"width\": 4}, \"mode\": \"lines\", \"type\": \"scatter3d\", \"x\": [0.89774944367018, 0.8829535645133417, null], \"y\": [-0.3652617613625499, 0.37948128147239324, null], \"z\": [0.24623115577889462, 0.2763819095477386, null]}, {\"hoverinfo\": \"none\", \"line\": {\"color\": \"black\", \"width\": 2}, \"mode\": \"lines\", \"type\": \"scatter3d\", \"x\": [0.89774944367018, 0.7500220497040564, null], \"y\": [-0.3652617613625499, 0.5961740871715794, null], \"z\": [0.24623115577889462, 0.2864321608040202, null]}, {\"hoverinfo\": \"none\", \"line\": {\"color\": \"black\", \"width\": 2}, \"mode\": \"lines\", \"type\": \"scatter3d\", \"x\": [0.89774944367018, -0.7975160188443354, null], \"y\": [-0.3652617613625499, -0.45428093654550455, null], \"z\": [0.24623115577889462, 0.3969849246231157, null]}, {\"hoverinfo\": \"none\", \"line\": {\"color\": \"black\", \"width\": 6}, \"mode\": \"lines\", \"type\": \"scatter3d\", \"x\": [0.89774944367018, -0.1908820904593788, null], \"y\": [-0.3652617613625499, -0.8838094476675942, null], \"z\": [0.24623115577889462, 0.4271356783919597, null]}, {\"hoverinfo\": \"none\", \"line\": {\"color\": \"black\", \"width\": 4}, \"mode\": \"lines\", \"type\": \"scatter3d\", \"x\": [0.89774944367018, 0.5319383843782858, null], \"y\": [-0.3652617613625499, -0.7126925523580707, null], \"z\": [0.24623115577889462, 0.45728643216080406, null]}, {\"hoverinfo\": \"none\", \"line\": {\"color\": \"black\", \"width\": 5}, \"mode\": \"lines\", \"type\": \"scatter3d\", \"x\": [0.89774944367018, 0.6955838850071943, null], \"y\": [-0.3652617613625499, -0.2365320439145132, null], \"z\": [0.24623115577889462, 0.6783919597989949, null]}, {\"hoverinfo\": \"none\", \"line\": {\"color\": \"black\", \"width\": 8}, \"mode\": \"lines\", \"type\": \"scatter3d\", \"x\": [0.89774944367018, -0.46736094041360504, null], \"y\": [-0.3652617613625499, -0.3989235195509105, null], \"z\": [0.24623115577889462, 0.7889447236180904, null]}, {\"hoverinfo\": \"none\", \"line\": {\"color\": \"black\", \"width\": 2}, \"mode\": \"lines\", \"type\": \"scatter3d\", \"x\": [0.9592929774959421, -0.4034742971178234, null], \"y\": [-0.11864579105488865, 0.8507953738854946, null], \"z\": [0.25628140703517593, 0.3366834170854272, null]}, {\"hoverinfo\": \"none\", \"line\": {\"color\": \"black\", \"width\": 2}, \"mode\": \"lines\", \"type\": \"scatter3d\", \"x\": [0.9592929774959421, -0.7924588501224821, null], \"y\": [-0.11864579105488865, -0.12007077438764355, null], \"z\": [0.25628140703517593, 0.5979899497487438, null]}, {\"hoverinfo\": \"none\", \"line\": {\"color\": \"black\", \"width\": 8}, \"mode\": \"lines\", \"type\": \"scatter3d\", \"x\": [0.9592929774959421, 0.06389728976483165, null], \"y\": [-0.11864579105488865, 0.6819062985636061, null], \"z\": [0.25628140703517593, 0.728643216080402, null]}, {\"hoverinfo\": \"none\", \"line\": {\"color\": \"black\", \"width\": 3}, \"mode\": \"lines\", \"type\": \"scatter3d\", \"x\": [0.9543101980031311, 0.5799931250776793, null], \"y\": [0.1354972094876758, 0.6290554026008339, null], \"z\": [0.26633165829145716, 0.5175879396984923, null]}, {\"hoverinfo\": \"none\", \"line\": {\"color\": \"black\", \"width\": 5}, \"mode\": \"lines\", \"type\": \"scatter3d\", \"x\": [0.9543101980031311, 0.12037404304848949, null], \"y\": [0.1354972094876758, 0.834506578088399, null], \"z\": [0.26633165829145716, 0.5376884422110553, null]}, {\"hoverinfo\": \"none\", \"line\": {\"color\": \"black\", \"width\": 3}, \"mode\": \"lines\", \"type\": \"scatter3d\", \"x\": [0.9543101980031311, 0.3962282650703626, null], \"y\": [0.1354972094876758, -0.6400433729233012, null], \"z\": [0.26633165829145716, 0.6582914572864322, null]}, {\"hoverinfo\": \"none\", \"line\": {\"color\": \"black\", \"width\": 3}, \"mode\": \"lines\", \"type\": \"scatter3d\", \"x\": [0.9543101980031311, 0.6648572393833766, null], \"y\": [0.1354972094876758, 0.264713300257944, null], \"z\": [0.26633165829145716, 0.6984924623115578, null]}, {\"hoverinfo\": \"none\", \"line\": {\"color\": \"black\", \"width\": 1}, \"mode\": \"lines\", \"type\": \"scatter3d\", \"x\": [0.9543101980031311, -0.3779945609644943, null], \"y\": [0.1354972094876758, -0.17275133261095033, null], \"z\": [0.26633165829145716, 0.9095477386934674, null]}, {\"hoverinfo\": \"none\", \"line\": {\"color\": \"black\", \"width\": 3}, \"mode\": \"lines\", \"type\": \"scatter3d\", \"x\": [0.9543101980031311, 0.0720199661208389, null], \"y\": [0.1354972094876758, -0.3613409361011954, null], \"z\": [0.26633165829145716, 0.9296482412060301, null]}, {\"hoverinfo\": \"none\", \"line\": {\"color\": \"black\", \"width\": 3}, \"mode\": \"lines\", \"type\": \"scatter3d\", \"x\": [0.8829535645133417, -0.16221249071244484, null], \"y\": [0.37948128147239324, 0.9311272108779202, null], \"z\": [0.2763819095477386, 0.3266331658291456, null]}, {\"hoverinfo\": \"none\", \"line\": {\"color\": \"black\", \"width\": 7}, \"mode\": \"lines\", \"type\": \"scatter3d\", \"x\": [0.8829535645133417, 0.7082279152172981, null], \"y\": [0.37948128147239324, -0.5291593752733467, null], \"z\": [0.2763819095477386, 0.4673366834170853, null]}, {\"hoverinfo\": \"none\", \"line\": {\"color\": \"black\", \"width\": 3}, \"mode\": \"lines\", \"type\": \"scatter3d\", \"x\": [0.8829535645133417, 0.5317207462626569, null], \"y\": [0.37948128147239324, -0.11411904010464476, null], \"z\": [0.2763819095477386, 0.8391959798994975, null]}, {\"hoverinfo\": \"none\", \"line\": {\"color\": \"black\", \"width\": 5}, \"mode\": \"lines\", \"type\": \"scatter3d\", \"x\": [0.7500220497040564, -0.4034742971178234, null], \"y\": [0.5961740871715794, 0.8507953738854946, null], \"z\": [0.2864321608040202, 0.3366834170854272, null]}, {\"hoverinfo\": \"none\", \"line\": {\"color\": \"black\", \"width\": 2}, \"mode\": \"lines\", \"type\": \"scatter3d\", \"x\": [0.7500220497040564, 0.5212824240995492, null], \"y\": [0.5961740871715794, 0.47563836827449124, null], \"z\": [0.2864321608040202, 0.7085427135678393, null]}, {\"hoverinfo\": \"none\", \"line\": {\"color\": \"black\", \"width\": 9}, \"mode\": \"lines\", \"type\": \"scatter3d\", \"x\": [0.7500220497040564, -0.3779945609644943, null], \"y\": [0.5961740871715794, -0.17275133261095033, null], \"z\": [0.2864321608040202, 0.9095477386934674, null]}, {\"hoverinfo\": \"none\", \"line\": {\"color\": \"black\", \"width\": 3}, \"mode\": \"lines\", \"type\": \"scatter3d\", \"x\": [0.7500220497040564, 0.0676279462623623, null], \"y\": [0.5961740871715794, -0.12420127151757969, null], \"z\": [0.2864321608040202, 0.9899497487437185, null]}, {\"hoverinfo\": \"none\", \"line\": {\"color\": \"black\", \"width\": 1}, \"mode\": \"lines\", \"type\": \"scatter3d\", \"x\": [0.5646952188368541, 0.7082279152172981, null], \"y\": [0.7702061342015544, -0.5291593752733467, null], \"z\": [0.29648241206030157, 0.4673366834170853, null]}, {\"hoverinfo\": \"none\", \"line\": {\"color\": \"black\", \"width\": 0}, \"mode\": \"lines\", \"type\": \"scatter3d\", \"x\": [0.5646952188368541, -0.3741885774371721, null], \"y\": [0.7702061342015544, 0.7408470838571601, null], \"z\": [0.29648241206030157, 0.5577889447236182, null]}, {\"hoverinfo\": \"none\", \"line\": {\"color\": \"black\", \"width\": 9}, \"mode\": \"lines\", \"type\": \"scatter3d\", \"x\": [0.5646952188368541, -0.09075695184030583, null], \"y\": [0.7702061342015544, -0.7645099613068972, null], \"z\": [0.29648241206030157, 0.6381909547738693, null]}, {\"hoverinfo\": \"none\", \"line\": {\"color\": \"black\", \"width\": 9}, \"mode\": \"lines\", \"type\": \"scatter3d\", \"x\": [0.5646952188368541, -0.4107215962272207, null], \"y\": [0.7702061342015544, 0.5202793617472665, null], \"z\": [0.29648241206030157, 0.7487437185929648, null]}, {\"hoverinfo\": \"none\", \"line\": {\"color\": \"black\", \"width\": 5}, \"mode\": \"lines\", \"type\": \"scatter3d\", \"x\": [0.5646952188368541, -0.46736094041360504, null], \"y\": [0.7702061342015544, -0.3989235195509105, null], \"z\": [0.29648241206030157, 0.7889447236180904, null]}, {\"hoverinfo\": \"none\", \"line\": {\"color\": \"black\", \"width\": 0}, \"mode\": \"lines\", \"type\": \"scatter3d\", \"x\": [0.3399549164860912, -0.4311344860611112, null], \"y\": [0.8890828876302689, -0.8001017444049664, null], \"z\": [0.30653266331658297, 0.41708542713567837, null]}, {\"hoverinfo\": \"none\", \"line\": {\"color\": \"black\", \"width\": 6}, \"mode\": \"lines\", \"type\": \"scatter3d\", \"x\": [0.3399549164860912, -0.5771143305124173, null], \"y\": [0.8890828876302689, 0.5869392617861797, null], \"z\": [0.30653266331658297, 0.5678391959798994, null]}, {\"hoverinfo\": \"none\", \"line\": {\"color\": \"black\", \"width\": 4}, \"mode\": \"lines\", \"type\": \"scatter3d\", \"x\": [0.09172592356847682, -0.16221249071244484, null], \"y\": [0.9441194909258364, 0.9311272108779202, null], \"z\": [0.3165829145728642, 0.3266331658291456, null]}, {\"hoverinfo\": \"none\", \"line\": {\"color\": \"black\", \"width\": 7}, \"mode\": \"lines\", \"type\": \"scatter3d\", \"x\": [0.09172592356847682, -0.7975160188443354, null], \"y\": [0.9441194909258364, -0.45428093654550455, null], \"z\": [0.3165829145728642, 0.3969849246231157, null]}, {\"hoverinfo\": \"none\", \"line\": {\"color\": \"black\", \"width\": 3}, \"mode\": \"lines\", \"type\": \"scatter3d\", \"x\": [0.09172592356847682, 0.5799931250776793, null], \"y\": [0.9441194909258364, 0.6290554026008339, null], \"z\": [0.3165829145728642, 0.5175879396984923, null]}, {\"hoverinfo\": \"none\", \"line\": {\"color\": \"black\", \"width\": 9}, \"mode\": \"lines\", \"type\": \"scatter3d\", \"x\": [0.09172592356847682, -0.7976204808491804, null], \"y\": [0.9441194909258364, 0.13464204197246402, null], \"z\": [0.3165829145728642, 0.5879396984924623, null]}, {\"hoverinfo\": \"none\", \"line\": {\"color\": \"black\", \"width\": 3}, \"mode\": \"lines\", \"type\": \"scatter3d\", \"x\": [-0.16221249071244484, -0.7793130144557557, null], \"y\": [0.9311272108779202, 0.515147027766033, null], \"z\": [0.3266331658291456, 0.3567839195979901, null]}, {\"hoverinfo\": \"none\", \"line\": {\"color\": \"black\", \"width\": 1}, \"mode\": \"lines\", \"type\": \"scatter3d\", \"x\": [-0.16221249071244484, 0.5319383843782858, null], \"y\": [0.9311272108779202, -0.7126925523580707, null], \"z\": [0.3266331658291456, 0.45728643216080406, null]}, {\"hoverinfo\": \"none\", \"line\": {\"color\": \"black\", \"width\": 5}, \"mode\": \"lines\", \"type\": \"scatter3d\", \"x\": [-0.16221249071244484, 0.12037404304848949, null], \"y\": [0.9311272108779202, 0.834506578088399, null], \"z\": [0.3266331658291456, 0.5376884422110553, null]}, {\"hoverinfo\": \"none\", \"line\": {\"color\": \"black\", \"width\": 6}, \"mode\": \"lines\", \"type\": \"scatter3d\", \"x\": [-0.16221249071244484, -0.33761069961500084, null], \"y\": [0.9311272108779202, -0.7010408490879112, null], \"z\": [0.3266331658291456, 0.6281407035175879, null]}, {\"hoverinfo\": \"none\", \"line\": {\"color\": \"black\", \"width\": 2}, \"mode\": \"lines\", \"type\": \"scatter3d\", \"x\": [-0.16221249071244484, 0.6955838850071943, null], \"y\": [0.9311272108779202, -0.2365320439145132, null], \"z\": [0.3266331658291456, 0.6783919597989949, null]}, {\"hoverinfo\": \"none\", \"line\": {\"color\": \"black\", \"width\": 7}, \"mode\": \"lines\", \"type\": \"scatter3d\", \"x\": [-0.4034742971178234, -0.5505913149039414, null], \"y\": [0.8507953738854946, -0.5610823440242639, null], \"z\": [0.3366834170854272, 0.6180904522613064, null]}, {\"hoverinfo\": \"none\", \"line\": {\"color\": \"black\", \"width\": 4}, \"mode\": \"lines\", \"type\": \"scatter3d\", \"x\": [-0.4034742971178234, 0.43486403352118225, null], \"y\": [0.8507953738854946, -0.351298495616475, null], \"z\": [0.3366834170854272, 0.829145728643216, null]}, {\"hoverinfo\": \"none\", \"line\": {\"color\": \"black\", \"width\": 4}, \"mode\": \"lines\", \"type\": \"scatter3d\", \"x\": [-0.6143899953864282, 0.5799931250776793, null], \"y\": [0.7087317523628855, 0.6290554026008339, null], \"z\": [0.3467336683417086, 0.5175879396984923, null]}, {\"hoverinfo\": \"none\", \"line\": {\"color\": \"black\", \"width\": 6}, \"mode\": \"lines\", \"type\": \"scatter3d\", \"x\": [-0.6143899953864282, -0.11657616359218419, null], \"y\": [0.7087317523628855, 0.4615960799092759, null], \"z\": [0.3467336683417086, 0.879396984924623, null]}, {\"hoverinfo\": \"none\", \"line\": {\"color\": \"black\", \"width\": 1}, \"mode\": \"lines\", \"type\": \"scatter3d\", \"x\": [-0.6143899953864282, -0.1303084840790476, null], \"y\": [0.7087317523628855, 0.20594207574432036, null], \"z\": [0.3467336683417086, 0.9698492462311559, null]}, {\"hoverinfo\": \"none\", \"line\": {\"color\": \"black\", \"width\": 9}, \"mode\": \"lines\", \"type\": \"scatter3d\", \"x\": [-0.7793130144557557, 0.0632016554808522, null], \"y\": [0.515147027766033, -0.8971477100578715, null], \"z\": [0.3567839195979901, 0.43718592964824127, null]}, {\"hoverinfo\": \"none\", \"line\": {\"color\": \"black\", \"width\": 6}, \"mode\": \"lines\", \"type\": \"scatter3d\", \"x\": [-0.7793130144557557, 0.5799931250776793, null], \"y\": [0.515147027766033, 0.6290554026008339, null], \"z\": [0.3567839195979901, 0.5175879396984923, null]}, {\"hoverinfo\": \"none\", \"line\": {\"color\": \"black\", \"width\": 5}, \"mode\": \"lines\", \"type\": \"scatter3d\", \"x\": [-0.7793130144557557, -0.7976204808491804, null], \"y\": [0.515147027766033, 0.13464204197246402, null], \"z\": [0.3567839195979901, 0.5879396984924623, null]}, {\"hoverinfo\": \"none\", \"line\": {\"color\": \"black\", \"width\": 1}, \"mode\": \"lines\", \"type\": \"scatter3d\", \"x\": [-0.7793130144557557, 0.1633089131200265, null], \"y\": [0.515147027766033, -0.7437160329723511, null], \"z\": [0.3567839195979901, 0.6482412060301508, null]}, {\"hoverinfo\": \"none\", \"line\": {\"color\": \"black\", \"width\": 2}, \"mode\": \"lines\", \"type\": \"scatter3d\", \"x\": [-0.7793130144557557, 0.27639958067021775, null], \"y\": [0.515147027766033, -0.20141999669691893, null], \"z\": [0.3567839195979901, 0.9396984924623115, null]}, {\"hoverinfo\": \"none\", \"line\": {\"color\": \"black\", \"width\": 6}, \"mode\": \"lines\", \"type\": \"scatter3d\", \"x\": [-0.8858140940564723, -0.7231637330577864, null], \"y\": [0.2841937400165084, 0.3782565293064855, null], \"z\": [0.3668341708542712, 0.5778894472361809, null]}, {\"hoverinfo\": \"none\", \"line\": {\"color\": \"black\", \"width\": 0}, \"mode\": \"lines\", \"type\": \"scatter3d\", \"x\": [-0.8858140940564723, -0.33761069961500084, null], \"y\": [0.2841937400165084, -0.7010408490879112, null], \"z\": [0.3668341708542712, 0.6281407035175879, null]}, {\"hoverinfo\": \"none\", \"line\": {\"color\": \"black\", \"width\": 7}, \"mode\": \"lines\", \"type\": \"scatter3d\", \"x\": [-0.8858140940564723, -0.4107215962272207, null], \"y\": [0.2841937400165084, 0.5202793617472665, null], \"z\": [0.3668341708542712, 0.7487437185929648, null]}, {\"hoverinfo\": \"none\", \"line\": {\"color\": \"black\", \"width\": 8}, \"mode\": \"lines\", \"type\": \"scatter3d\", \"x\": [-0.8858140940564723, -0.5679012117000678, null], \"y\": [0.2841937400165084, 0.318935612734006, null], \"z\": [0.3668341708542712, 0.7587939698492463, null]}, {\"hoverinfo\": \"none\", \"line\": {\"color\": \"black\", \"width\": 9}, \"mode\": \"lines\", \"type\": \"scatter3d\", \"x\": [-0.925672422221608, -0.3741885774371721, null], \"y\": [0.03299544072710666, 0.7408470838571601, null], \"z\": [0.3768844221105527, 0.5577889447236182, null]}, {\"hoverinfo\": \"none\", \"line\": {\"color\": \"black\", \"width\": 7}, \"mode\": \"lines\", \"type\": \"scatter3d\", \"x\": [-0.8955829153536629, 0.12037404304848949, null], \"y\": [-0.2195741338890703, 0.834506578088399, null], \"z\": [0.3869346733668343, 0.5376884422110553, null]}, {\"hoverinfo\": \"none\", \"line\": {\"color\": \"black\", \"width\": 8}, \"mode\": \"lines\", \"type\": \"scatter3d\", \"x\": [-0.7975160188443354, 0.3108397890520478, null], \"y\": [-0.45428093654550455, -0.8386646672133121, null], \"z\": [0.3969849246231157, 0.44723618090452255, null]}, {\"hoverinfo\": \"none\", \"line\": {\"color\": \"black\", \"width\": 1}, \"mode\": \"lines\", \"type\": \"scatter3d\", \"x\": [-0.7975160188443354, 0.3962282650703626, null], \"y\": [-0.45428093654550455, -0.6400433729233012, null], \"z\": [0.3969849246231157, 0.6582914572864322, null]}, {\"hoverinfo\": \"none\", \"line\": {\"color\": \"black\", \"width\": 3}, \"mode\": \"lines\", \"type\": \"scatter3d\", \"x\": [-0.7975160188443354, -0.1922969882497981, null], \"y\": [-0.45428093654550455, -0.05309277854779562, null], \"z\": [0.3969849246231157, 0.9798994974874371, null]}, {\"hoverinfo\": \"none\", \"line\": {\"color\": \"black\", \"width\": 5}, \"mode\": \"lines\", \"type\": \"scatter3d\", \"x\": [-0.6386889828957023, 0.12037404304848949, null], \"y\": [-0.6529921505841256, 0.834506578088399, null], \"z\": [0.4070351758793972, 0.5376884422110553, null]}, {\"hoverinfo\": \"none\", \"line\": {\"color\": \"black\", \"width\": 8}, \"mode\": \"lines\", \"type\": \"scatter3d\", \"x\": [-0.6386889828957023, -0.1341208174448031, null], \"y\": [-0.6529921505841256, 0.8258292378007893, null], \"z\": [0.4070351758793972, 0.5477386934673367, null]}, {\"hoverinfo\": \"none\", \"line\": {\"color\": \"black\", \"width\": 3}, \"mode\": \"lines\", \"type\": \"scatter3d\", \"x\": [-0.6386889828957023, -0.18901287835010755, null], \"y\": [-0.6529921505841256, 0.646997753575633, null], \"z\": [0.4070351758793972, 0.7386934673366834, null]}, {\"hoverinfo\": \"none\", \"line\": {\"color\": \"black\", \"width\": 7}, \"mode\": \"lines\", \"type\": \"scatter3d\", \"x\": [-0.4311344860611112, 0.0632016554808522, null], \"y\": [-0.8001017444049664, -0.8971477100578715, null], \"z\": [0.41708542713567837, 0.43718592964824127, null]}, {\"hoverinfo\": \"none\", \"line\": {\"color\": \"black\", \"width\": 9}, \"mode\": \"lines\", \"type\": \"scatter3d\", \"x\": [-0.4311344860611112, -0.5771143305124173, null], \"y\": [-0.8001017444049664, 0.5869392617861797, null], \"z\": [0.41708542713567837, 0.5678391959798994, null]}, {\"hoverinfo\": \"none\", \"line\": {\"color\": \"black\", \"width\": 5}, \"mode\": \"lines\", \"type\": \"scatter3d\", \"x\": [-0.4311344860611112, 0.5317207462626569, null], \"y\": [-0.8001017444049664, -0.11411904010464476, null], \"z\": [0.41708542713567837, 0.8391959798994975, null]}, {\"hoverinfo\": \"none\", \"line\": {\"color\": \"black\", \"width\": 3}, \"mode\": \"lines\", \"type\": \"scatter3d\", \"x\": [0.0632016554808522, 0.8440290778788562, null], \"y\": [-0.8971477100578715, 0.20030268479764154, null], \"z\": [0.43718592964824127, 0.49748743718592975, null]}, {\"hoverinfo\": \"none\", \"line\": {\"color\": \"black\", \"width\": 2}, \"mode\": \"lines\", \"type\": \"scatter3d\", \"x\": [0.0632016554808522, -0.11657616359218419, null], \"y\": [-0.8971477100578715, 0.4615960799092759, null], \"z\": [0.43718592964824127, 0.879396984924623, null]}, {\"hoverinfo\": \"none\", \"line\": {\"color\": \"black\", \"width\": 0}, \"mode\": \"lines\", \"type\": \"scatter3d\", \"x\": [0.3108397890520478, 0.1633089131200265, null], \"y\": [-0.8386646672133121, -0.7437160329723511, null], \"z\": [0.44723618090452255, 0.6482412060301508, null]}, {\"hoverinfo\": \"none\", \"line\": {\"color\": \"black\", \"width\": 2}, \"mode\": \"lines\", \"type\": \"scatter3d\", \"x\": [0.3108397890520478, 0.3962282650703626, null], \"y\": [-0.8386646672133121, -0.6400433729233012, null], \"z\": [0.44723618090452255, 0.6582914572864322, null]}, {\"hoverinfo\": \"none\", \"line\": {\"color\": \"black\", \"width\": 5}, \"mode\": \"lines\", \"type\": \"scatter3d\", \"x\": [0.3108397890520478, -0.46736094041360504, null], \"y\": [-0.8386646672133121, -0.3989235195509105, null], \"z\": [0.44723618090452255, 0.7889447236180904, null]}, {\"hoverinfo\": \"none\", \"line\": {\"color\": \"black\", \"width\": 2}, \"mode\": \"lines\", \"type\": \"scatter3d\", \"x\": [0.3108397890520478, 0.30775790638944817, null], \"y\": [-0.8386646672133121, 0.0571173779137144, null], \"z\": [0.44723618090452255, 0.949748743718593, null]}, {\"hoverinfo\": \"none\", \"line\": {\"color\": \"black\", \"width\": 8}, \"mode\": \"lines\", \"type\": \"scatter3d\", \"x\": [0.5319383843782858, -0.7924588501224821, null], \"y\": [-0.7126925523580707, -0.12007077438764355, null], \"z\": [0.45728643216080406, 0.5979899497487438, null]}, {\"hoverinfo\": \"none\", \"line\": {\"color\": \"black\", \"width\": 0}, \"mode\": \"lines\", \"type\": \"scatter3d\", \"x\": [0.5319383843782858, -0.42956390914738973, null], \"y\": [-0.7126925523580707, 0.07986938119331266, null], \"z\": [0.45728643216080406, 0.8994974874371859, null]}, {\"hoverinfo\": \"none\", \"line\": {\"color\": \"black\", \"width\": 4}, \"mode\": \"lines\", \"type\": \"scatter3d\", \"x\": [0.5319383843782858, 0.0, null], \"y\": [-0.7126925523580707, 0.0, null], \"z\": [0.45728643216080406, 1.0, null]}, {\"hoverinfo\": \"none\", \"line\": {\"color\": \"black\", \"width\": 5}, \"mode\": \"lines\", \"type\": \"scatter3d\", \"x\": [0.7082279152172981, -0.7924588501224821, null], \"y\": [-0.5291593752733467, -0.12007077438764355, null], \"z\": [0.4673366834170853, 0.5979899497487438, null]}, {\"hoverinfo\": \"none\", \"line\": {\"color\": \"black\", \"width\": 8}, \"mode\": \"lines\", \"type\": \"scatter3d\", \"x\": [0.7082279152172981, -0.5505913149039414, null], \"y\": [-0.5291593752733467, -0.5610823440242639, null], \"z\": [0.4673366834170853, 0.6180904522613064, null]}, {\"hoverinfo\": \"none\", \"line\": {\"color\": \"black\", \"width\": 2}, \"mode\": \"lines\", \"type\": \"scatter3d\", \"x\": [0.7082279152172981, 0.24223438436005945, null], \"y\": [-0.5291593752733467, -0.5200049057056794, null], \"z\": [0.4673366834170853, 0.8190954773869348, null]}, {\"hoverinfo\": \"none\", \"line\": {\"color\": \"black\", \"width\": 2}, \"mode\": \"lines\", \"type\": \"scatter3d\", \"x\": [0.8248223009029717, -0.004587855210254107, null], \"y\": [-0.3029354494546556, -0.5877284863436261, null], \"z\": [0.4773869346733668, 0.8090452261306533, null]}, {\"hoverinfo\": \"none\", \"line\": {\"color\": \"black\", \"width\": 1}, \"mode\": \"lines\", \"type\": \"scatter3d\", \"x\": [0.8248223009029717, 0.1400434946507435, null], \"y\": [-0.3029354494546556, 0.4739452249640167, null], \"z\": [0.4773869346733668, 0.8693467336683418, null]}, {\"hoverinfo\": \"none\", \"line\": {\"color\": \"black\", \"width\": 9}, \"mode\": \"lines\", \"type\": \"scatter3d\", \"x\": [0.8715636126463255, -0.33761069961500084, null], \"y\": [-0.05274333023114333, -0.7010408490879112, null], \"z\": [0.48743718592964813, 0.6281407035175879, null]}, {\"hoverinfo\": \"none\", \"line\": {\"color\": \"black\", \"width\": 7}, \"mode\": \"lines\", \"type\": \"scatter3d\", \"x\": [0.8715636126463255, 0.06389728976483165, null], \"y\": [-0.05274333023114333, 0.6819062985636061, null], \"z\": [0.48743718592964813, 0.728643216080402, null]}, {\"hoverinfo\": \"none\", \"line\": {\"color\": \"black\", \"width\": 9}, \"mode\": \"lines\", \"type\": \"scatter3d\", \"x\": [0.8440290778788562, -0.18901287835010755, null], \"y\": [0.20030268479764154, 0.646997753575633, null], \"z\": [0.49748743718592975, 0.7386934673366834, null]}, {\"hoverinfo\": \"none\", \"line\": {\"color\": \"black\", \"width\": 9}, \"mode\": \"lines\", \"type\": \"scatter3d\", \"x\": [0.8440290778788562, 0.0720199661208389, null], \"y\": [0.20030268479764154, -0.3613409361011954, null], \"z\": [0.49748743718592975, 0.9296482412060301, null]}, {\"hoverinfo\": \"none\", \"line\": {\"color\": \"black\", \"width\": 3}, \"mode\": \"lines\", \"type\": \"scatter3d\", \"x\": [0.8440290778788562, -0.1922969882497981, null], \"y\": [0.20030268479764154, -0.05309277854779562, null], \"z\": [0.49748743718592975, 0.9798994974874371, null]}, {\"hoverinfo\": \"none\", \"line\": {\"color\": \"black\", \"width\": 6}, \"mode\": \"lines\", \"type\": \"scatter3d\", \"x\": [0.7440964149681661, -0.5771143305124173, null], \"y\": [0.4344260812178058, 0.5869392617861797, null], \"z\": [0.5075376884422113, 0.5678391959798994, null]}, {\"hoverinfo\": \"none\", \"line\": {\"color\": \"black\", \"width\": 9}, \"mode\": \"lines\", \"type\": \"scatter3d\", \"x\": [0.7440964149681661, 0.5212824240995492, null], \"y\": [0.4344260812178058, 0.47563836827449124, null], \"z\": [0.5075376884422113, 0.7085427135678393, null]}, {\"hoverinfo\": \"none\", \"line\": {\"color\": \"black\", \"width\": 8}, \"mode\": \"lines\", \"type\": \"scatter3d\", \"x\": [0.7440964149681661, 0.1400434946507435, null], \"y\": [0.4344260812178058, 0.4739452249640167, null], \"z\": [0.5075376884422113, 0.8693467336683418, null]}, {\"hoverinfo\": \"none\", \"line\": {\"color\": \"black\", \"width\": 1}, \"mode\": \"lines\", \"type\": \"scatter3d\", \"x\": [0.5799931250776793, -0.7976204808491804, null], \"y\": [0.6290554026008339, 0.13464204197246402, null], \"z\": [0.5175879396984923, 0.5879396984924623, null]}, {\"hoverinfo\": \"none\", \"line\": {\"color\": \"black\", \"width\": 2}, \"mode\": \"lines\", \"type\": \"scatter3d\", \"x\": [0.5799931250776793, 0.3962282650703626, null], \"y\": [0.6290554026008339, -0.6400433729233012, null], \"z\": [0.5175879396984923, 0.6582914572864322, null]}, {\"hoverinfo\": \"none\", \"line\": {\"color\": \"black\", \"width\": 6}, \"mode\": \"lines\", \"type\": \"scatter3d\", \"x\": [0.5799931250776793, 0.6648572393833766, null], \"y\": [0.6290554026008339, 0.264713300257944, null], \"z\": [0.5175879396984923, 0.6984924623115578, null]}, {\"hoverinfo\": \"none\", \"line\": {\"color\": \"black\", \"width\": 6}, \"mode\": \"lines\", \"type\": \"scatter3d\", \"x\": [0.36579375496206784, -0.33761069961500084, null], \"y\": [0.7666765082332472, -0.7010408490879112, null], \"z\": [0.5276381909547738, 0.6281407035175879, null]}, {\"hoverinfo\": \"none\", \"line\": {\"color\": \"black\", \"width\": 0}, \"mode\": \"lines\", \"type\": \"scatter3d\", \"x\": [0.36579375496206784, 0.6955838850071943, null], \"y\": [0.7666765082332472, -0.2365320439145132, null], \"z\": [0.5276381909547738, 0.6783919597989949, null]}, {\"hoverinfo\": \"none\", \"line\": {\"color\": \"black\", \"width\": 4}, \"mode\": \"lines\", \"type\": \"scatter3d\", \"x\": [0.36579375496206784, -0.46736094041360504, null], \"y\": [0.7666765082332472, -0.3989235195509105, null], \"z\": [0.5276381909547738, 0.7889447236180904, null]}, {\"hoverinfo\": \"none\", \"line\": {\"color\": \"black\", \"width\": 8}, \"mode\": \"lines\", \"type\": \"scatter3d\", \"x\": [0.36579375496206784, 0.5087685882011274, null], \"y\": [0.7666765082332472, 0.14119264331946282, null], \"z\": [0.5276381909547738, 0.8492462311557789, null]}, {\"hoverinfo\": \"none\", \"line\": {\"color\": \"black\", \"width\": 8}, \"mode\": \"lines\", \"type\": \"scatter3d\", \"x\": [0.36579375496206784, 0.0720199661208389, null], \"y\": [0.7666765082332472, -0.3613409361011954, null], \"z\": [0.5276381909547738, 0.9296482412060301, null]}, {\"hoverinfo\": \"none\", \"line\": {\"color\": \"black\", \"width\": 8}, \"mode\": \"lines\", \"type\": \"scatter3d\", \"x\": [0.36579375496206784, 0.27639958067021775, null], \"y\": [0.7666765082332472, -0.20141999669691893, null], \"z\": [0.5276381909547738, 0.9396984924623115, null]}, {\"hoverinfo\": \"none\", \"line\": {\"color\": \"black\", \"width\": 0}, \"mode\": \"lines\", \"type\": \"scatter3d\", \"x\": [0.12037404304848949, -0.5771143305124173, null], \"y\": [0.834506578088399, 0.5869392617861797, null], \"z\": [0.5376884422110553, 0.5678391959798994, null]}, {\"hoverinfo\": \"none\", \"line\": {\"color\": \"black\", \"width\": 7}, \"mode\": \"lines\", \"type\": \"scatter3d\", \"x\": [0.12037404304848949, -0.707456892094313, null], \"y\": [0.834506578088399, -0.360266373382285, null], \"z\": [0.5376884422110553, 0.6080402010050252, null]}, {\"hoverinfo\": \"none\", \"line\": {\"color\": \"black\", \"width\": 9}, \"mode\": \"lines\", \"type\": \"scatter3d\", \"x\": [0.12037404304848949, 0.725096144076266, null], \"y\": [0.834506578088399, 0.01681974681893568, null], \"z\": [0.5376884422110553, 0.6884422110552764, null]}, {\"hoverinfo\": \"none\", \"line\": {\"color\": \"black\", \"width\": 2}, \"mode\": \"lines\", \"type\": \"scatter3d\", \"x\": [0.12037404304848949, 0.5212824240995492, null], \"y\": [0.834506578088399, 0.47563836827449124, null], \"z\": [0.5376884422110553, 0.7085427135678393, null]}, {\"hoverinfo\": \"none\", \"line\": {\"color\": \"black\", \"width\": 7}, \"mode\": \"lines\", \"type\": \"scatter3d\", \"x\": [0.12037404304848949, 0.3119136244605593, null], \"y\": [0.834506578088399, 0.6215577541798972, null], \"z\": [0.5376884422110553, 0.7185929648241205, null]}, {\"hoverinfo\": \"none\", \"line\": {\"color\": \"black\", \"width\": 2}, \"mode\": \"lines\", \"type\": \"scatter3d\", \"x\": [0.12037404304848949, 0.5317207462626569, null], \"y\": [0.834506578088399, -0.11411904010464476, null], \"z\": [0.5376884422110553, 0.8391959798994975, null]}, {\"hoverinfo\": \"none\", \"line\": {\"color\": \"black\", \"width\": 5}, \"mode\": \"lines\", \"type\": \"scatter3d\", \"x\": [0.12037404304848949, 0.1297116280928751, null], \"y\": [0.834506578088399, 0.24891922943540667, null], \"z\": [0.5376884422110553, 0.9597989949748744, null]}, {\"hoverinfo\": \"none\", \"line\": {\"color\": \"black\", \"width\": 8}, \"mode\": \"lines\", \"type\": \"scatter3d\", \"x\": [-0.1341208174448031, 0.27639958067021775, null], \"y\": [0.8258292378007893, -0.20141999669691893, null], \"z\": [0.5477386934673367, 0.9396984924623115, null]}, {\"hoverinfo\": \"none\", \"line\": {\"color\": \"black\", \"width\": 1}, \"mode\": \"lines\", \"type\": \"scatter3d\", \"x\": [-0.1341208174448031, 0.0, null], \"y\": [0.8258292378007893, 0.0, null], \"z\": [0.5477386934673367, 1.0, null]}, {\"hoverinfo\": \"none\", \"line\": {\"color\": \"black\", \"width\": 8}, \"mode\": \"lines\", \"type\": \"scatter3d\", \"x\": [-0.3741885774371721, -0.600556325517356, null], \"y\": [0.7408470838571601, -0.18070833075791126, null], \"z\": [0.5577889447236182, 0.778894472361809, null]}, {\"hoverinfo\": \"none\", \"line\": {\"color\": \"black\", \"width\": 4}, \"mode\": \"lines\", \"type\": \"scatter3d\", \"x\": [-0.3741885774371721, -0.1922969882497981, null], \"y\": [0.7408470838571601, -0.05309277854779562, null], \"z\": [0.5577889447236182, 0.9798994974874371, null]}, {\"hoverinfo\": \"none\", \"line\": {\"color\": \"black\", \"width\": 8}, \"mode\": \"lines\", \"type\": \"scatter3d\", \"x\": [-0.5771143305124173, 0.0, null], \"y\": [0.5869392617861797, 0.0, null], \"z\": [0.5678391959798994, 1.0, null]}, {\"hoverinfo\": \"none\", \"line\": {\"color\": \"black\", \"width\": 3}, \"mode\": \"lines\", \"type\": \"scatter3d\", \"x\": [-0.7924588501224821, -0.1303084840790476, null], \"y\": [-0.12007077438764355, 0.20594207574432036, null], \"z\": [0.5979899497487438, 0.9698492462311559, null]}, {\"hoverinfo\": \"none\", \"line\": {\"color\": \"black\", \"width\": 1}, \"mode\": \"lines\", \"type\": \"scatter3d\", \"x\": [-0.707456892094313, 0.3962282650703626, null], \"y\": [-0.360266373382285, -0.6400433729233012, null], \"z\": [0.6080402010050252, 0.6582914572864322, null]}, {\"hoverinfo\": \"none\", \"line\": {\"color\": \"black\", \"width\": 4}, \"mode\": \"lines\", \"type\": \"scatter3d\", \"x\": [-0.707456892094313, 0.5212824240995492, null], \"y\": [-0.360266373382285, 0.47563836827449124, null], \"z\": [0.6080402010050252, 0.7085427135678393, null]}, {\"hoverinfo\": \"none\", \"line\": {\"color\": \"black\", \"width\": 3}, \"mode\": \"lines\", \"type\": \"scatter3d\", \"x\": [-0.5505913149039414, -0.2566312989684941, null], \"y\": [-0.5610823440242639, -0.5438266327748627, null], \"z\": [0.6180904522613064, 0.7989949748743719, null]}, {\"hoverinfo\": \"none\", \"line\": {\"color\": \"black\", \"width\": 8}, \"mode\": \"lines\", \"type\": \"scatter3d\", \"x\": [-0.09075695184030583, 0.36776528457450497, null], \"y\": [-0.7645099613068972, 0.35546905741019574, null], \"z\": [0.6381909547738693, 0.8592964824120604, null]}, {\"hoverinfo\": \"none\", \"line\": {\"color\": \"black\", \"width\": 1}, \"mode\": \"lines\", \"type\": \"scatter3d\", \"x\": [0.1633089131200265, 0.5810756220933079, null], \"y\": [-0.7437160329723511, -0.46440336134774246, null], \"z\": [0.6482412060301508, 0.6683417085427135, null]}, {\"hoverinfo\": \"none\", \"line\": {\"color\": \"black\", \"width\": 2}, \"mode\": \"lines\", \"type\": \"scatter3d\", \"x\": [0.1633089131200265, -0.4107215962272207, null], \"y\": [-0.7437160329723511, 0.5202793617472665, null], \"z\": [0.6482412060301508, 0.7487437185929648, null]}, {\"hoverinfo\": \"none\", \"line\": {\"color\": \"black\", \"width\": 8}, \"mode\": \"lines\", \"type\": \"scatter3d\", \"x\": [0.3962282650703626, 0.5810756220933079, null], \"y\": [-0.6400433729233012, -0.46440336134774246, null], \"z\": [0.6582914572864322, 0.6683417085427135, null]}, {\"hoverinfo\": \"none\", \"line\": {\"color\": \"black\", \"width\": 2}, \"mode\": \"lines\", \"type\": \"scatter3d\", \"x\": [0.3962282650703626, 0.5317207462626569, null], \"y\": [-0.6400433729233012, -0.11411904010464476, null], \"z\": [0.6582914572864322, 0.8391959798994975, null]}, {\"hoverinfo\": \"none\", \"line\": {\"color\": \"black\", \"width\": 8}, \"mode\": \"lines\", \"type\": \"scatter3d\", \"x\": [0.3962282650703626, -0.18633022541047584, null], \"y\": [-0.6400433729233012, -0.3458620880912837, null], \"z\": [0.6582914572864322, 0.9195979899497488, null]}, {\"hoverinfo\": \"none\", \"line\": {\"color\": \"black\", \"width\": 8}, \"mode\": \"lines\", \"type\": \"scatter3d\", \"x\": [0.6955838850071943, -0.18633022541047584, null], \"y\": [-0.2365320439145132, -0.3458620880912837, null], \"z\": [0.6783919597989949, 0.9195979899497488, null]}, {\"hoverinfo\": \"none\", \"line\": {\"color\": \"black\", \"width\": 9}, \"mode\": \"lines\", \"type\": \"scatter3d\", \"x\": [0.725096144076266, -0.2566312989684941, null], \"y\": [0.01681974681893568, -0.5438266327748627, null], \"z\": [0.6884422110552764, 0.7989949748743719, null]}, {\"hoverinfo\": \"none\", \"line\": {\"color\": \"black\", \"width\": 6}, \"mode\": \"lines\", \"type\": \"scatter3d\", \"x\": [0.6648572393833766, -0.600556325517356, null], \"y\": [0.264713300257944, -0.18070833075791126, null], \"z\": [0.6984924623115578, 0.778894472361809, null]}, {\"hoverinfo\": \"none\", \"line\": {\"color\": \"black\", \"width\": 8}, \"mode\": \"lines\", \"type\": \"scatter3d\", \"x\": [0.6648572393833766, -0.46736094041360504, null], \"y\": [0.264713300257944, -0.3989235195509105, null], \"z\": [0.6984924623115578, 0.7889447236180904, null]}, {\"hoverinfo\": \"none\", \"line\": {\"color\": \"black\", \"width\": 9}, \"mode\": \"lines\", \"type\": \"scatter3d\", \"x\": [0.6648572393833766, -0.2566312989684941, null], \"y\": [0.264713300257944, -0.5438266327748627, null], \"z\": [0.6984924623115578, 0.7989949748743719, null]}, {\"hoverinfo\": \"none\", \"line\": {\"color\": \"black\", \"width\": 7}, \"mode\": \"lines\", \"type\": \"scatter3d\", \"x\": [0.6648572393833766, 0.36776528457450497, null], \"y\": [0.264713300257944, 0.35546905741019574, null], \"z\": [0.6984924623115578, 0.8592964824120604, null]}, {\"hoverinfo\": \"none\", \"line\": {\"color\": \"black\", \"width\": 9}, \"mode\": \"lines\", \"type\": \"scatter3d\", \"x\": [0.6648572393833766, 0.0720199661208389, null], \"y\": [0.264713300257944, -0.3613409361011954, null], \"z\": [0.6984924623115578, 0.9296482412060301, null]}, {\"hoverinfo\": \"none\", \"line\": {\"color\": \"black\", \"width\": 9}, \"mode\": \"lines\", \"type\": \"scatter3d\", \"x\": [0.5212824240995492, 0.1400434946507435, null], \"y\": [0.47563836827449124, 0.4739452249640167, null], \"z\": [0.7085427135678393, 0.8693467336683418, null]}, {\"hoverinfo\": \"none\", \"line\": {\"color\": \"black\", \"width\": 3}, \"mode\": \"lines\", \"type\": \"scatter3d\", \"x\": [0.3119136244605593, 0.5087685882011274, null], \"y\": [0.6215577541798972, 0.14119264331946282, null], \"z\": [0.7185929648241205, 0.8492462311557789, null]}, {\"hoverinfo\": \"none\", \"line\": {\"color\": \"black\", \"width\": 3}, \"mode\": \"lines\", \"type\": \"scatter3d\", \"x\": [0.06389728976483165, -0.5679012117000678, null], \"y\": [0.6819062985636061, 0.318935612734006, null], \"z\": [0.728643216080402, 0.7587939698492463, null]}, {\"hoverinfo\": \"none\", \"line\": {\"color\": \"black\", \"width\": 6}, \"mode\": \"lines\", \"type\": \"scatter3d\", \"x\": [-0.18901287835010755, -0.4107215962272207, null], \"y\": [0.646997753575633, 0.5202793617472665, null], \"z\": [0.7386934673366834, 0.7487437185929648, null]}, {\"hoverinfo\": \"none\", \"line\": {\"color\": \"black\", \"width\": 4}, \"mode\": \"lines\", \"type\": \"scatter3d\", \"x\": [-0.4107215962272207, -0.6353138707760849, null], \"y\": [0.5202793617472665, 0.07249033916421053, null], \"z\": [0.7487437185929648, 0.7688442211055277, null]}, {\"hoverinfo\": \"none\", \"line\": {\"color\": \"black\", \"width\": 5}, \"mode\": \"lines\", \"type\": \"scatter3d\", \"x\": [-0.4107215962272207, -0.46736094041360504, null], \"y\": [0.5202793617472665, -0.3989235195509105, null], \"z\": [0.7487437185929648, 0.7889447236180904, null]}, {\"hoverinfo\": \"none\", \"line\": {\"color\": \"black\", \"width\": 8}, \"mode\": \"lines\", \"type\": \"scatter3d\", \"x\": [-0.5679012117000678, -0.46736094041360504, null], \"y\": [0.318935612734006, -0.3989235195509105, null], \"z\": [0.7587939698492463, 0.7889447236180904, null]}, {\"hoverinfo\": \"none\", \"line\": {\"color\": \"black\", \"width\": 9}, \"mode\": \"lines\", \"type\": \"scatter3d\", \"x\": [-0.6353138707760849, -0.42956390914738973, null], \"y\": [0.07249033916421053, 0.07986938119331266, null], \"z\": [0.7688442211055277, 0.8994974874371859, null]}, {\"hoverinfo\": \"none\", \"line\": {\"color\": \"black\", \"width\": 0}, \"mode\": \"lines\", \"type\": \"scatter3d\", \"x\": [-0.6353138707760849, 0.1297116280928751, null], \"y\": [0.07249033916421053, 0.24891922943540667, null], \"z\": [0.7688442211055277, 0.9597989949748744, null]}, {\"hoverinfo\": \"none\", \"line\": {\"color\": \"black\", \"width\": 3}, \"mode\": \"lines\", \"type\": \"scatter3d\", \"x\": [-0.6353138707760849, -0.1303084840790476, null], \"y\": [0.07249033916421053, 0.20594207574432036, null], \"z\": [0.7688442211055277, 0.9698492462311559, null]}, {\"hoverinfo\": \"none\", \"line\": {\"color\": \"black\", \"width\": 6}, \"mode\": \"lines\", \"type\": \"scatter3d\", \"x\": [-0.600556325517356, 0.36776528457450497, null], \"y\": [-0.18070833075791126, 0.35546905741019574, null], \"z\": [0.778894472361809, 0.8592964824120604, null]}, {\"hoverinfo\": \"none\", \"line\": {\"color\": \"black\", \"width\": 8}, \"mode\": \"lines\", \"type\": \"scatter3d\", \"x\": [-0.46736094041360504, 0.43486403352118225, null], \"y\": [-0.3989235195509105, -0.351298495616475, null], \"z\": [0.7889447236180904, 0.829145728643216, null]}, {\"hoverinfo\": \"none\", \"line\": {\"color\": \"black\", \"width\": 8}, \"mode\": \"lines\", \"type\": \"scatter3d\", \"x\": [-0.46736094041360504, -0.3779945609644943, null], \"y\": [-0.3989235195509105, -0.17275133261095033, null], \"z\": [0.7889447236180904, 0.9095477386934674, null]}, {\"hoverinfo\": \"none\", \"line\": {\"color\": \"black\", \"width\": 3}, \"mode\": \"lines\", \"type\": \"scatter3d\", \"x\": [-0.46736094041360504, 0.27639958067021775, null], \"y\": [-0.3989235195509105, -0.20141999669691893, null], \"z\": [0.7889447236180904, 0.9396984924623115, null]}, {\"hoverinfo\": \"none\", \"line\": {\"color\": \"black\", \"width\": 5}, \"mode\": \"lines\", \"type\": \"scatter3d\", \"x\": [-0.46736094041360504, 0.1297116280928751, null], \"y\": [-0.3989235195509105, 0.24891922943540667, null], \"z\": [0.7889447236180904, 0.9597989949748744, null]}, {\"hoverinfo\": \"none\", \"line\": {\"color\": \"black\", \"width\": 9}, \"mode\": \"lines\", \"type\": \"scatter3d\", \"x\": [-0.2566312989684941, -0.3292415201774607, null], \"y\": [-0.5438266327748627, 0.31699153843814987, null], \"z\": [0.7989949748743719, 0.8894472361809045, null]}, {\"hoverinfo\": \"none\", \"line\": {\"color\": \"black\", \"width\": 1}, \"mode\": \"lines\", \"type\": \"scatter3d\", \"x\": [-0.2566312989684941, -0.1922969882497981, null], \"y\": [-0.5438266327748627, -0.05309277854779562, null], \"z\": [0.7989949748743719, 0.9798994974874371, null]}, {\"hoverinfo\": \"none\", \"line\": {\"color\": \"black\", \"width\": 9}, \"mode\": \"lines\", \"type\": \"scatter3d\", \"x\": [0.43486403352118225, 0.0720199661208389, null], \"y\": [-0.351298495616475, -0.3613409361011954, null], \"z\": [0.829145728643216, 0.9296482412060301, null]}, {\"hoverinfo\": \"none\", \"line\": {\"color\": \"black\", \"width\": 6}, \"mode\": \"lines\", \"type\": \"scatter3d\", \"x\": [0.43486403352118225, 0.30775790638944817, null], \"y\": [-0.351298495616475, 0.0571173779137144, null], \"z\": [0.829145728643216, 0.949748743718593, null]}, {\"hoverinfo\": \"none\", \"line\": {\"color\": \"black\", \"width\": 2}, \"mode\": \"lines\", \"type\": \"scatter3d\", \"x\": [0.5087685882011274, 0.27639958067021775, null], \"y\": [0.14119264331946282, -0.20141999669691893, null], \"z\": [0.8492462311557789, 0.9396984924623115, null]}, {\"hoverinfo\": \"none\", \"line\": {\"color\": \"black\", \"width\": 0}, \"mode\": \"lines\", \"type\": \"scatter3d\", \"x\": [0.1400434946507435, 0.27639958067021775, null], \"y\": [0.4739452249640167, -0.20141999669691893, null], \"z\": [0.8693467336683418, 0.9396984924623115, null]}, {\"hoverinfo\": \"none\", \"line\": {\"color\": \"black\", \"width\": 1}, \"mode\": \"lines\", \"type\": \"scatter3d\", \"x\": [-0.11657616359218419, -0.3779945609644943, null], \"y\": [0.4615960799092759, -0.17275133261095033, null], \"z\": [0.879396984924623, 0.9095477386934674, null]}, {\"hoverinfo\": \"none\", \"line\": {\"color\": \"black\", \"width\": 4}, \"mode\": \"lines\", \"type\": \"scatter3d\", \"x\": [0.30775790638944817, 0.0676279462623623, null], \"y\": [0.0571173779137144, -0.12420127151757969, null], \"z\": [0.949748743718593, 0.9899497487437185, null]}, {\"hoverinfo\": \"none\", \"line\": {\"color\": \"black\", \"width\": 5}, \"mode\": \"lines\", \"type\": \"scatter3d\", \"x\": [0.1297116280928751, -0.1922969882497981, null], \"y\": [0.24891922943540667, -0.05309277854779562, null], \"z\": [0.9597989949748744, 0.9798994974874371, null]}, {\"hoverinfo\": \"none\", \"line\": {\"color\": \"black\", \"width\": 9}, \"mode\": \"lines\", \"type\": \"scatter3d\", \"x\": [0.1297116280928751, 0.0, null], \"y\": [0.24891922943540667, 0.0, null], \"z\": [0.9597989949748744, 1.0, null]}, {\"hoverinfo\": \"text\", \"marker\": {\"color\": \"blue\", \"colorscale\": [[0.0, \"#440154\"], [0.1111111111111111, \"#482878\"], [0.2222222222222222, \"#3e4989\"], [0.3333333333333333, \"#31688e\"], [0.4444444444444444, \"#26828e\"], [0.5555555555555556, \"#1f9e89\"], [0.6666666666666666, \"#35b779\"], [0.7777777777777778, \"#6ece58\"], [0.8888888888888888, \"#b5de2b\"], [1.0, \"#fde725\"]], \"line\": {\"color\": \"lightblue\", \"width\": 0.5}, \"size\": 6, \"symbol\": \"circle\"}, \"mode\": \"markers\", \"name\": \"actors\", \"text\": [\"0\", \"1\", \"2\", \"3\", \"4\", \"5\", \"6\", \"7\", \"8\", \"9\", \"10\", \"11\", \"12\", \"13\", \"14\", \"15\", \"16\", \"17\", \"18\", \"19\", \"20\", \"21\", \"22\", \"23\", \"24\", \"25\", \"26\", \"27\", \"28\", \"29\", \"30\", \"31\", \"32\", \"33\", \"34\", \"35\", \"36\", \"37\", \"38\", \"39\", \"40\", \"41\", \"42\", \"43\", \"44\", \"45\", \"46\", \"47\", \"48\", \"49\", \"50\", \"51\", \"52\", \"53\", \"54\", \"55\", \"56\", \"57\", \"58\", \"59\", \"60\", \"61\", \"62\", \"63\", \"64\", \"65\", \"66\", \"67\", \"68\", \"69\", \"70\", \"71\", \"72\", \"73\", \"74\", \"75\", \"76\", \"77\", \"78\", \"79\", \"80\", \"81\", \"82\", \"83\", \"84\", \"85\", \"86\", \"87\", \"88\", \"89\", \"90\", \"91\", \"92\", \"93\", \"94\", \"95\", \"96\", \"97\", \"98\", \"99\", \"100\", \"101\", \"102\", \"103\", \"104\", \"105\", \"106\", \"107\", \"108\", \"109\", \"110\", \"111\", \"112\", \"113\", \"114\", \"115\", \"116\", \"117\", \"118\", \"119\", \"120\", \"121\", \"122\", \"123\", \"124\", \"125\", \"126\", \"127\", \"128\", \"129\", \"130\", \"131\", \"132\", \"133\", \"134\", \"135\", \"136\", \"137\", \"138\", \"139\", \"140\", \"141\", \"142\", \"143\", \"144\", \"145\", \"146\", \"147\", \"148\", \"149\", \"150\", \"151\", \"152\", \"153\", \"154\", \"155\", \"156\", \"157\", \"158\", \"159\", \"160\", \"161\", \"162\", \"163\", \"164\", \"165\", \"166\", \"167\", \"168\", \"169\", \"170\", \"171\", \"172\", \"173\", \"174\", \"175\", \"176\", \"177\", \"178\", \"179\", \"180\", \"181\", \"182\", \"183\", \"184\", \"185\", \"186\", \"187\", \"188\", \"189\", \"190\", \"191\", \"192\", \"193\", \"194\", \"195\", \"196\", \"197\", \"198\", \"199\"], \"type\": \"scatter3d\", \"x\": [1.2246467991473532e-16, -0.032133952679065145, -0.19906354897238956, -0.13595244227377956, 0.08699091031156504, 0.28287365586258917, 0.32653852628887875, 0.20130943312962077, -0.02745271035429632, -0.2621154032369282, -0.4166634044954904, -0.44268961941831086, -0.3364695168897425, -0.13171703525515455, 0.11556281947391066, 0.3441774570903987, 0.5024359229003386, 0.557934993565241, 0.5016558508965476, 0.34686968146326486, 0.12414761111548962, -0.12588429280142016, -0.36041865158594155, -0.5416042025803353, -0.6419805478430175, -0.6476851458340083, -0.5593208018755575, -0.3907102300020467, -0.16600286298928865, 0.08426822572670396, 0.3275469559381285, 0.5334469074912569, 0.67729665182849, 0.7427005070540483, 0.722933490894233, 0.6211402465143849, 0.44943909472304994, 0.2271342624438953, -0.021693443738824616, -0.27091571301396306, -0.4951054392952383, -0.672034824294811, -0.7847039751073679, -0.8227463645485272, -0.7831291349132213, -0.6701371795582428, -0.49469427933914145, -0.2731277093851147, -0.02552158648393625, 0.22617275089540043, 0.46009396672206704, 0.6563279444247275, 0.7985178366343181, 0.8751100997786688, 0.8801565810810618, 0.813632848484258, 0.6812730069106526, 0.49395828252674556, 0.26672823542793117, 0.01750774905872829, -0.23434121536311986, -0.4695271916732191, -0.6702820247214136, -0.8216546571450994, -0.9125581834726422, -0.9365042078689544, -0.8919836432498447, -0.7824796533348303, -0.6161246034909317, -0.40503694008954455, -0.1643943972580509, 0.08868431031648284, 0.3363668860791254, 0.5613571369223281, 0.7480816348934248, 0.8837350468780757, 0.9591176411373035, 0.9692141584109936, 0.9134816304942963, 0.7958335820929668, 0.6243280701168443, 0.4105859500056902, 0.16898247772841876, -0.08433109874112966, -0.33250966656464714, -0.5591285460316034, -0.7492577373693531, -0.8904277233305821, -0.9734264244291374, -0.9928784759284608, -0.9475723752818175, -0.8405173138299454, -0.678728644568649, -0.47275790495820047, -0.23599909505127642, 0.016183422624492533, 0.2674492764124154, 0.5015353289119979, 0.7033011304219116, 0.8597006759110095, 0.9606193521054072, 0.9995234698449429, 0.9738814815414809, 0.8853301800948286, 0.739575014981879, 0.5460301977631995, 0.31722051404782214, 0.06798173585948922, -0.18549067049375184, -0.42668500783452756, -0.6398431952082979, -0.8109889569592988, -0.9288482441833449, -0.985601838057066, -0.9774199655907337, -0.9047419231328161, -0.7722794062760031, -0.5887395729275208, -0.3662817858898524, -0.11973939666335258, 0.13434625214634502, 0.3788192430037307, 0.5970599024521844, 0.7741176022559528, 0.89774944367018, 0.9592929774959421, 0.9543101980031311, 0.8829535645133417, 0.7500220497040564, 0.5646952188368541, 0.3399549164860912, 0.09172592356847682, -0.16221249071244484, -0.4034742971178234, -0.6143899953864282, -0.7793130144557557, -0.8858140940564723, -0.925672422221608, -0.8955829153536629, -0.7975160188443354, -0.6386889828957023, -0.4311344860611112, -0.1908820904593788, 0.0632016554808522, 0.3108397890520478, 0.5319383843782858, 0.7082279152172981, 0.8248223009029717, 0.8715636126463255, 0.8440290778788562, 0.7440964149681661, 0.5799931250776793, 0.36579375496206784, 0.12037404304848949, -0.1341208174448031, -0.3741885774371721, -0.5771143305124173, -0.7231637330577864, -0.7976204808491804, -0.7924588501224821, -0.707456892094313, -0.5505913149039414, -0.33761069961500084, -0.09075695184030583, 0.1633089131200265, 0.3962282650703626, 0.5810756220933079, 0.6955838850071943, 0.725096144076266, 0.6648572393833766, 0.5212824240995492, 0.3119136244605593, 0.06389728976483165, -0.18901287835010755, -0.4107215962272207, -0.5679012117000678, -0.6353138707760849, -0.600556325517356, -0.46736094041360504, -0.2566312989684941, -0.004587855210254107, 0.24223438436005945, 0.43486403352118225, 0.5317207462626569, 0.5087685882011274, 0.36776528457450497, 0.1400434946507435, -0.11657616359218419, -0.3292415201774607, -0.42956390914738973, -0.3779945609644943, -0.18633022541047584, 0.0720199661208389, 0.27639958067021775, 0.30775790638944817, 0.1297116280928751, -0.1303084840790476, -0.1922969882497981, 0.0676279462623623, 0.0], \"y\": [0.0, 0.13772038355838287, 0.013064390318155485, -0.20226065614610675, -0.2668678901036732, -0.13401424783913019, 0.10168251626089096, 0.30859141231661874, 0.39190035158772807, 0.3225188776235315, 0.1315137918562799, -0.11362004624810425, -0.3368222188476665, -0.4763264419321875, -0.49825173363421427, -0.4004031929174544, -0.20810634468897715, 0.035012906592636533, 0.27825169574601083, 0.4744757592931101, 0.5883828692100228, 0.6014310998784991, 0.5132463312223391, 0.33991683015107377, 0.10996675639301308, -0.14102055074902595, -0.3761544920686069, -0.5625162929478188, -0.6753274764028482, -0.7006183620080165, -0.6362556653968614, -0.49140789465100837, -0.2846991294366667, -0.0414163910048412, 0.20980830538180167, 0.44041813423680065, 0.6250734399887283, 0.7442105101438017, 0.7858076019752953, 0.7462518277390714, 0.6303004235916108, 0.4502178426846665, 0.22423973382020593, -0.025437514247334803, -0.274918626495518, -0.5008976784258622, -0.682765486167671, -0.8043626009530863, -0.8552493047655827, -0.8314152882664261, -0.73540450884403, -0.575880733433753, -0.36670284861180913, -0.12561344513262568, 0.1273322886833448, 0.3714584584544138, 0.5871418508099392, 0.7573376574341647, 0.8688473944810738, 0.9132446793273558, 0.8874047353964903, 0.7936156341869542, 0.639280955219031, 0.4362525822106138, 0.19985694006815632, -0.052303268368663655, -0.30167773672316983, -0.5301286325953671, -0.7212251598313059, -0.86138423684378, -0.9407830044644023, -0.9539872694962075, -0.9002612720894853, -0.7835468158432456, -0.6121222981915062, -0.3979730956273241, -0.1559228360378783, 0.09741069134859666, 0.3447616141867552, 0.5693860611162309, 0.7561787750638941, 0.8926641829729847, 0.9697996493796973, 0.9825420908093567, 0.9301452884781152, 0.8161730402059268, 0.648231607488682, 0.43744261313650457, 0.19769357018888423, -0.05528335749405927, -0.30494370330751364, -0.5350073360636081, -0.730510610694205, -0.8787675428113799, -0.970179853809575, -0.9988456807426714, -0.9629296662036767, -0.8647722339805256, -0.7107321949644987, -0.510773429174399, -0.27782226057861037, -0.026936336813276493, 0.22566249737407673, 0.4636303804992801, 0.6715529720883432, 0.8359399169400101, 0.9460991367010397, 0.9948350661714466, 0.978925643575427, 0.8993464141660742, 0.7612257241603668, 0.5735317455564173, 0.3485089805742379, 0.100897922544204, -0.15301429152536394, -0.39645300927462035, -0.6132578683301932, -0.7889563695067934, -0.9117388986054294, -0.9732699296082516, -0.9692794548088852, -0.8998917940492931, -0.7696651223338173, -0.5873333961357678, -0.3652617613625499, -0.11864579105488865, 0.1354972094876758, 0.37948128147239324, 0.5961740871715794, 0.7702061342015544, 0.8890828876302689, 0.9441194909258364, 0.9311272108779202, 0.8507953738854946, 0.7087317523628855, 0.515147027766033, 0.2841937400165084, 0.03299544072710666, -0.2195741338890703, -0.45428093654550455, -0.6529921505841256, -0.8001017444049664, -0.8838094476675942, -0.8971477100578715, -0.8386646672133121, -0.7126925523580707, -0.5291593752733467, -0.3029354494546556, -0.05274333023114333, 0.20030268479764154, 0.4344260812178058, 0.6290554026008339, 0.7666765082332472, 0.834506578088399, 0.8258292378007893, 0.7408470838571601, 0.5869392617861797, 0.3782565293064855, 0.13464204197246402, -0.12007077438764355, -0.360266373382285, -0.5610823440242639, -0.7010408490879112, -0.7645099613068972, -0.7437160329723511, -0.6400433729233012, -0.46440336134774246, -0.2365320439145132, 0.01681974681893568, 0.264713300257944, 0.47563836827449124, 0.6215577541798972, 0.6819062985636061, 0.646997753575633, 0.5202793617472665, 0.318935612734006, 0.07249033916421053, -0.18070833075791126, -0.3989235195509105, -0.5438266327748627, -0.5877284863436261, -0.5200049057056794, -0.351298495616475, -0.11411904010464476, 0.14119264331946282, 0.35546905741019574, 0.4739452249640167, 0.4615960799092759, 0.31699153843814987, 0.07986938119331266, -0.17275133261095033, -0.3458620880912837, -0.3613409361011954, -0.20141999669691893, 0.0571173779137144, 0.24891922943540667, 0.20594207574432036, -0.05309277854779562, -0.12420127151757969, 0.0], \"z\": [-1.0, -0.9899497487437185, -0.9798994974874372, -0.9698492462311558, -0.9597989949748744, -0.949748743718593, -0.9396984924623115, -0.9296482412060302, -0.9195979899497487, -0.9095477386934674, -0.8994974874371859, -0.8894472361809045, -0.8793969849246231, -0.8693467336683418, -0.8592964824120604, -0.8492462311557788, -0.8391959798994973, -0.8291457286432161, -0.8190954773869346, -0.8090452261306532, -0.798994974874372, -0.7889447236180905, -0.7788944723618089, -0.7688442211055275, -0.7587939698492463, -0.7487437185929648, -0.7386934673366833, -0.7286432160804021, -0.7185929648241206, -0.7085427135678393, -0.6984924623115578, -0.6884422110552765, -0.678391959798995, -0.6683417085427136, -0.6582914572864321, -0.6482412060301509, -0.6381909547738694, -0.6281407035175878, -0.6180904522613064, -0.6080402010050251, -0.5979899497487439, -0.5879396984924623, -0.5778894472361807, -0.5678391959798994, -0.5577889447236182, -0.5477386934673367, -0.5376884422110554, -0.5276381909547739, -0.5175879396984926, -0.5075376884422109, -0.4974874371859297, -0.48743718592964824, -0.4773869346733667, -0.4673366834170854, -0.45728643216080395, -0.4472361809045229, -0.4371859296482414, -0.4271356783919596, -0.4170854271356784, -0.4070351758793971, -0.3969849246231156, -0.3869346733668342, -0.37688442211055273, -0.36683417085427134, -0.35678391959799, -0.3467336683417085, -0.3366834170854271, -0.3266331658291457, -0.3165829145728643, -0.3065326633165828, -0.29648241206030146, -0.28643216080402006, -0.2763819095477387, -0.2663316582914572, -0.25628140703517577, -0.2462311557788945, -0.236180904522613, -0.2261306532663317, -0.21608040201005033, -0.20603015075376888, -0.19597989949748734, -0.18592964824120606, -0.17587939698492466, -0.16582914572864332, -0.15577889447236182, -0.14572864321608034, -0.13567839195979897, -0.12562814070351752, -0.11557788944723613, -0.10552763819095481, -0.09547738693467336, -0.08542713567839195, -0.07537688442211053, -0.06532663316582904, -0.05527638190954783, -0.04522613065326637, -0.035175879396985035, -0.025125628140703495, -0.015075376884422157, -0.005025125628140692, 0.005025125628140593, 0.015075376884422058, 0.025125628140703616, 0.03517587939698494, 0.045226130653266486, 0.05527638190954773, 0.06532663316582916, 0.07537688442211064, 0.08542713567839207, 0.09547738693467349, 0.10552763819095472, 0.11557788944723603, 0.12562814070351763, 0.13567839195979908, 0.14572864321608045, 0.15577889447236173, 0.16582914572864324, 0.17587939698492458, 0.18592964824120597, 0.19597989949748745, 0.20603015075376876, 0.21608040201005022, 0.22613065326633158, 0.23618090452261312, 0.24623115577889462, 0.25628140703517593, 0.26633165829145716, 0.2763819095477386, 0.2864321608040202, 0.29648241206030157, 0.30653266331658297, 0.3165829145728642, 0.3266331658291456, 0.3366834170854272, 0.3467336683417086, 0.3567839195979901, 0.3668341708542712, 0.3768844221105527, 0.3869346733668343, 0.3969849246231157, 0.4070351758793972, 0.41708542713567837, 0.4271356783919597, 0.43718592964824127, 0.44723618090452255, 0.45728643216080406, 0.4673366834170853, 0.4773869346733668, 0.48743718592964813, 0.49748743718592975, 0.5075376884422113, 0.5175879396984923, 0.5276381909547738, 0.5376884422110553, 0.5477386934673367, 0.5577889447236182, 0.5678391959798994, 0.5778894472361809, 0.5879396984924623, 0.5979899497487438, 0.6080402010050252, 0.6180904522613064, 0.6281407035175879, 0.6381909547738693, 0.6482412060301508, 0.6582914572864322, 0.6683417085427135, 0.6783919597989949, 0.6884422110552764, 0.6984924623115578, 0.7085427135678393, 0.7185929648241205, 0.728643216080402, 0.7386934673366834, 0.7487437185929648, 0.7587939698492463, 0.7688442211055277, 0.778894472361809, 0.7889447236180904, 0.7989949748743719, 0.8090452261306533, 0.8190954773869348, 0.829145728643216, 0.8391959798994975, 0.8492462311557789, 0.8592964824120604, 0.8693467336683418, 0.879396984924623, 0.8894472361809045, 0.8994974874371859, 0.9095477386934674, 0.9195979899497488, 0.9296482412060301, 0.9396984924623115, 0.949748743718593, 0.9597989949748744, 0.9698492462311559, 0.9798994974874371, 0.9899497487437185, 1.0]}],                        {\"height\": 1000, \"hovermode\": \"closest\", \"margin\": {\"t\": 100}, \"scene\": {\"xaxis\": {\"showbackground\": false, \"showgrid\": true, \"showline\": false, \"showticklabels\": false, \"title\": {\"text\": \"\"}, \"zeroline\": false}, \"yaxis\": {\"showbackground\": false, \"showgrid\": true, \"showline\": false, \"showticklabels\": false, \"title\": {\"text\": \"\"}, \"zeroline\": false}, \"zaxis\": {\"showbackground\": false, \"showgrid\": true, \"showline\": false, \"showticklabels\": false, \"title\": {\"text\": \"\"}, \"zeroline\": false}}, \"showlegend\": false, \"template\": {\"data\": {\"bar\": [{\"error_x\": {\"color\": \"#2a3f5f\"}, \"error_y\": {\"color\": \"#2a3f5f\"}, \"marker\": {\"line\": {\"color\": \"#E5ECF6\", \"width\": 0.5}}, \"type\": \"bar\"}], \"barpolar\": [{\"marker\": {\"line\": {\"color\": \"#E5ECF6\", \"width\": 0.5}}, \"type\": \"barpolar\"}], \"carpet\": [{\"aaxis\": {\"endlinecolor\": \"#2a3f5f\", \"gridcolor\": \"white\", \"linecolor\": \"white\", \"minorgridcolor\": \"white\", \"startlinecolor\": \"#2a3f5f\"}, \"baxis\": {\"endlinecolor\": \"#2a3f5f\", \"gridcolor\": \"white\", \"linecolor\": \"white\", \"minorgridcolor\": \"white\", \"startlinecolor\": \"#2a3f5f\"}, \"type\": \"carpet\"}], \"choropleth\": [{\"colorbar\": {\"outlinewidth\": 0, \"ticks\": \"\"}, \"type\": \"choropleth\"}], \"contour\": [{\"colorbar\": {\"outlinewidth\": 0, \"ticks\": \"\"}, \"colorscale\": [[0.0, \"#0d0887\"], [0.1111111111111111, \"#46039f\"], [0.2222222222222222, \"#7201a8\"], [0.3333333333333333, \"#9c179e\"], [0.4444444444444444, \"#bd3786\"], [0.5555555555555556, \"#d8576b\"], [0.6666666666666666, \"#ed7953\"], [0.7777777777777778, \"#fb9f3a\"], [0.8888888888888888, \"#fdca26\"], [1.0, \"#f0f921\"]], \"type\": \"contour\"}], \"contourcarpet\": [{\"colorbar\": {\"outlinewidth\": 0, \"ticks\": \"\"}, \"type\": \"contourcarpet\"}], \"heatmap\": [{\"colorbar\": {\"outlinewidth\": 0, \"ticks\": \"\"}, \"colorscale\": [[0.0, \"#0d0887\"], [0.1111111111111111, \"#46039f\"], [0.2222222222222222, \"#7201a8\"], [0.3333333333333333, \"#9c179e\"], [0.4444444444444444, \"#bd3786\"], [0.5555555555555556, \"#d8576b\"], [0.6666666666666666, \"#ed7953\"], [0.7777777777777778, \"#fb9f3a\"], [0.8888888888888888, \"#fdca26\"], [1.0, \"#f0f921\"]], \"type\": \"heatmap\"}], \"heatmapgl\": [{\"colorbar\": {\"outlinewidth\": 0, \"ticks\": \"\"}, \"colorscale\": [[0.0, \"#0d0887\"], [0.1111111111111111, \"#46039f\"], [0.2222222222222222, \"#7201a8\"], [0.3333333333333333, \"#9c179e\"], [0.4444444444444444, \"#bd3786\"], [0.5555555555555556, \"#d8576b\"], [0.6666666666666666, \"#ed7953\"], [0.7777777777777778, \"#fb9f3a\"], [0.8888888888888888, \"#fdca26\"], [1.0, \"#f0f921\"]], \"type\": \"heatmapgl\"}], \"histogram\": [{\"marker\": {\"colorbar\": {\"outlinewidth\": 0, \"ticks\": \"\"}}, \"type\": \"histogram\"}], \"histogram2d\": [{\"colorbar\": {\"outlinewidth\": 0, \"ticks\": \"\"}, \"colorscale\": [[0.0, \"#0d0887\"], [0.1111111111111111, \"#46039f\"], [0.2222222222222222, \"#7201a8\"], [0.3333333333333333, \"#9c179e\"], [0.4444444444444444, \"#bd3786\"], [0.5555555555555556, \"#d8576b\"], [0.6666666666666666, \"#ed7953\"], [0.7777777777777778, \"#fb9f3a\"], [0.8888888888888888, \"#fdca26\"], [1.0, \"#f0f921\"]], \"type\": \"histogram2d\"}], \"histogram2dcontour\": [{\"colorbar\": {\"outlinewidth\": 0, \"ticks\": \"\"}, \"colorscale\": [[0.0, \"#0d0887\"], [0.1111111111111111, \"#46039f\"], [0.2222222222222222, \"#7201a8\"], [0.3333333333333333, \"#9c179e\"], [0.4444444444444444, \"#bd3786\"], [0.5555555555555556, \"#d8576b\"], [0.6666666666666666, \"#ed7953\"], [0.7777777777777778, \"#fb9f3a\"], [0.8888888888888888, \"#fdca26\"], [1.0, \"#f0f921\"]], \"type\": \"histogram2dcontour\"}], \"mesh3d\": [{\"colorbar\": {\"outlinewidth\": 0, \"ticks\": \"\"}, \"type\": \"mesh3d\"}], \"parcoords\": [{\"line\": {\"colorbar\": {\"outlinewidth\": 0, \"ticks\": \"\"}}, \"type\": \"parcoords\"}], \"pie\": [{\"automargin\": true, \"type\": \"pie\"}], \"scatter\": [{\"marker\": {\"colorbar\": {\"outlinewidth\": 0, \"ticks\": \"\"}}, \"type\": \"scatter\"}], \"scatter3d\": [{\"line\": {\"colorbar\": {\"outlinewidth\": 0, \"ticks\": \"\"}}, \"marker\": {\"colorbar\": {\"outlinewidth\": 0, \"ticks\": \"\"}}, \"type\": \"scatter3d\"}], \"scattercarpet\": [{\"marker\": {\"colorbar\": {\"outlinewidth\": 0, \"ticks\": \"\"}}, \"type\": \"scattercarpet\"}], \"scattergeo\": [{\"marker\": {\"colorbar\": {\"outlinewidth\": 0, \"ticks\": \"\"}}, \"type\": \"scattergeo\"}], \"scattergl\": [{\"marker\": {\"colorbar\": {\"outlinewidth\": 0, \"ticks\": \"\"}}, \"type\": \"scattergl\"}], \"scattermapbox\": [{\"marker\": {\"colorbar\": {\"outlinewidth\": 0, \"ticks\": \"\"}}, \"type\": \"scattermapbox\"}], \"scatterpolar\": [{\"marker\": {\"colorbar\": {\"outlinewidth\": 0, \"ticks\": \"\"}}, \"type\": \"scatterpolar\"}], \"scatterpolargl\": [{\"marker\": {\"colorbar\": {\"outlinewidth\": 0, \"ticks\": \"\"}}, \"type\": \"scatterpolargl\"}], \"scatterternary\": [{\"marker\": {\"colorbar\": {\"outlinewidth\": 0, \"ticks\": \"\"}}, \"type\": \"scatterternary\"}], \"surface\": [{\"colorbar\": {\"outlinewidth\": 0, \"ticks\": \"\"}, \"colorscale\": [[0.0, \"#0d0887\"], [0.1111111111111111, \"#46039f\"], [0.2222222222222222, \"#7201a8\"], [0.3333333333333333, \"#9c179e\"], [0.4444444444444444, \"#bd3786\"], [0.5555555555555556, \"#d8576b\"], [0.6666666666666666, \"#ed7953\"], [0.7777777777777778, \"#fb9f3a\"], [0.8888888888888888, \"#fdca26\"], [1.0, \"#f0f921\"]], \"type\": \"surface\"}], \"table\": [{\"cells\": {\"fill\": {\"color\": \"#EBF0F8\"}, \"line\": {\"color\": \"white\"}}, \"header\": {\"fill\": {\"color\": \"#C8D4E3\"}, \"line\": {\"color\": \"white\"}}, \"type\": \"table\"}]}, \"layout\": {\"annotationdefaults\": {\"arrowcolor\": \"#2a3f5f\", \"arrowhead\": 0, \"arrowwidth\": 1}, \"autotypenumbers\": \"strict\", \"coloraxis\": {\"colorbar\": {\"outlinewidth\": 0, \"ticks\": \"\"}}, \"colorscale\": {\"diverging\": [[0, \"#8e0152\"], [0.1, \"#c51b7d\"], [0.2, \"#de77ae\"], [0.3, \"#f1b6da\"], [0.4, \"#fde0ef\"], [0.5, \"#f7f7f7\"], [0.6, \"#e6f5d0\"], [0.7, \"#b8e186\"], [0.8, \"#7fbc41\"], [0.9, \"#4d9221\"], [1, \"#276419\"]], \"sequential\": [[0.0, \"#0d0887\"], [0.1111111111111111, \"#46039f\"], [0.2222222222222222, \"#7201a8\"], [0.3333333333333333, \"#9c179e\"], [0.4444444444444444, \"#bd3786\"], [0.5555555555555556, \"#d8576b\"], [0.6666666666666666, \"#ed7953\"], [0.7777777777777778, \"#fb9f3a\"], [0.8888888888888888, \"#fdca26\"], [1.0, \"#f0f921\"]], \"sequentialminus\": [[0.0, \"#0d0887\"], [0.1111111111111111, \"#46039f\"], [0.2222222222222222, \"#7201a8\"], [0.3333333333333333, \"#9c179e\"], [0.4444444444444444, \"#bd3786\"], [0.5555555555555556, \"#d8576b\"], [0.6666666666666666, \"#ed7953\"], [0.7777777777777778, \"#fb9f3a\"], [0.8888888888888888, \"#fdca26\"], [1.0, \"#f0f921\"]]}, \"colorway\": [\"#636efa\", \"#EF553B\", \"#00cc96\", \"#ab63fa\", \"#FFA15A\", \"#19d3f3\", \"#FF6692\", \"#B6E880\", \"#FF97FF\", \"#FECB52\"], \"font\": {\"color\": \"#2a3f5f\"}, \"geo\": {\"bgcolor\": \"white\", \"lakecolor\": \"white\", \"landcolor\": \"#E5ECF6\", \"showlakes\": true, \"showland\": true, \"subunitcolor\": \"white\"}, \"hoverlabel\": {\"align\": \"left\"}, \"hovermode\": \"closest\", \"mapbox\": {\"style\": \"light\"}, \"paper_bgcolor\": \"white\", \"plot_bgcolor\": \"#E5ECF6\", \"polar\": {\"angularaxis\": {\"gridcolor\": \"white\", \"linecolor\": \"white\", \"ticks\": \"\"}, \"bgcolor\": \"#E5ECF6\", \"radialaxis\": {\"gridcolor\": \"white\", \"linecolor\": \"white\", \"ticks\": \"\"}}, \"scene\": {\"xaxis\": {\"backgroundcolor\": \"#E5ECF6\", \"gridcolor\": \"white\", \"gridwidth\": 2, \"linecolor\": \"white\", \"showbackground\": true, \"ticks\": \"\", \"zerolinecolor\": \"white\"}, \"yaxis\": {\"backgroundcolor\": \"#E5ECF6\", \"gridcolor\": \"white\", \"gridwidth\": 2, \"linecolor\": \"white\", \"showbackground\": true, \"ticks\": \"\", \"zerolinecolor\": \"white\"}, \"zaxis\": {\"backgroundcolor\": \"#E5ECF6\", \"gridcolor\": \"white\", \"gridwidth\": 2, \"linecolor\": \"white\", \"showbackground\": true, \"ticks\": \"\", \"zerolinecolor\": \"white\"}}, \"shapedefaults\": {\"line\": {\"color\": \"#2a3f5f\"}}, \"ternary\": {\"aaxis\": {\"gridcolor\": \"white\", \"linecolor\": \"white\", \"ticks\": \"\"}, \"baxis\": {\"gridcolor\": \"white\", \"linecolor\": \"white\", \"ticks\": \"\"}, \"bgcolor\": \"#E5ECF6\", \"caxis\": {\"gridcolor\": \"white\", \"linecolor\": \"white\", \"ticks\": \"\"}}, \"title\": {\"x\": 0.05}, \"xaxis\": {\"automargin\": true, \"gridcolor\": \"white\", \"linecolor\": \"white\", \"ticks\": \"\", \"title\": {\"standoff\": 15}, \"zerolinecolor\": \"white\", \"zerolinewidth\": 2}, \"yaxis\": {\"automargin\": true, \"gridcolor\": \"white\", \"linecolor\": \"white\", \"ticks\": \"\", \"title\": {\"standoff\": 15}, \"zerolinecolor\": \"white\", \"zerolinewidth\": 2}}}, \"title\": {\"text\": \"sample 3D graph\"}, \"width\": 1000},                        {\"responsive\": true}                    ).then(function(){\n",
       "                            \n",
       "var gd = document.getElementById('c55ca4b8-2b8a-47ff-a021-0eff57b896a3');\n",
       "var x = new MutationObserver(function (mutations, observer) {{\n",
       "        var display = window.getComputedStyle(gd).display;\n",
       "        if (!display || display === 'none') {{\n",
       "            console.log([gd, 'removed!']);\n",
       "            Plotly.purge(gd);\n",
       "            observer.disconnect();\n",
       "        }}\n",
       "}});\n",
       "\n",
       "// Listen for the removal of the full notebook cells\n",
       "var notebookContainer = gd.closest('#notebook-container');\n",
       "if (notebookContainer) {{\n",
       "    x.observe(notebookContainer, {childList: true});\n",
       "}}\n",
       "\n",
       "// Listen for the clearing of the current output cell\n",
       "var outputEl = gd.closest('.output');\n",
       "if (outputEl) {{\n",
       "    x.observe(outputEl, {childList: true});\n",
       "}}\n",
       "\n",
       "                        })                };                });            </script>        </div>"
      ]
     },
     "metadata": {},
     "output_type": "display_data"
    }
   ],
   "source": [
    "fig = go.Figure(data=edge_traces + [node_trace], layout=layout)\n",
    "plotly.offline.iplot(fig, filename=\"sample\")"
   ]
  },
  {
   "cell_type": "code",
   "execution_count": null,
   "id": "magnetic-distance",
   "metadata": {},
   "outputs": [],
   "source": []
  }
 ],
 "metadata": {
  "kernelspec": {
   "display_name": "Python 3",
   "language": "python",
   "name": "python3"
  },
  "language_info": {
   "codemirror_mode": {
    "name": "ipython",
    "version": 3
   },
   "file_extension": ".py",
   "mimetype": "text/x-python",
   "name": "python",
   "nbconvert_exporter": "python",
   "pygments_lexer": "ipython3",
   "version": "3.7.5"
  }
 },
 "nbformat": 4,
 "nbformat_minor": 5
}
