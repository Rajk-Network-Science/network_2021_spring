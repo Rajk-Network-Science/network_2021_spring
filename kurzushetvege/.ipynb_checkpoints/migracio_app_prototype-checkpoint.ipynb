{
 "cells": [
  {
   "cell_type": "code",
   "execution_count": 1,
   "metadata": {},
   "outputs": [
    {
     "data": {
      "text/plain": [
       "'\\nTODO\\n- cell padding\\n- width jó legyen\\n- ne kelljen görgetni\\n\\n'"
      ]
     },
     "execution_count": 1,
     "metadata": {},
     "output_type": "execute_result"
    }
   ],
   "source": [
    "'''\n",
    "TODO\n",
    "- cell padding\n",
    "- width jó legyen\n",
    "- ne kelljen görgetni\n",
    "\n",
    "'''"
   ]
  },
  {
   "cell_type": "markdown",
   "metadata": {},
   "source": [
    "# Packages"
   ]
  },
  {
   "cell_type": "code",
   "execution_count": 2,
   "metadata": {},
   "outputs": [],
   "source": [
    "import plotly.express as px\n",
    "from jupyter_dash import JupyterDash\n",
    "import dash_core_components as dcc\n",
    "import dash_html_components as html\n",
    "import dash_bootstrap_components as dbc\n",
    "from dash.dependencies import Input, Output\n",
    "import pandas as pd\n",
    "import pprint\n",
    "\n",
    "DATAPATH = 'C:/Users/HP/Documents/02_CODING/KURZUS_Network/DATA/Kurzushetvege/'"
   ]
  },
  {
   "cell_type": "markdown",
   "metadata": {},
   "source": [
    "# External stylesheet"
   ]
  },
  {
   "cell_type": "code",
   "execution_count": 3,
   "metadata": {},
   "outputs": [],
   "source": [
    "external_stylesheets = [dbc.themes.BOOTSTRAP]"
   ]
  },
  {
   "cell_type": "markdown",
   "metadata": {},
   "source": [
    "# Call the app"
   ]
  },
  {
   "cell_type": "code",
   "execution_count": 4,
   "metadata": {},
   "outputs": [],
   "source": [
    "# In a .py file, use this:\n",
    "# app = dash.Dash(__name__, external_stylesheets=external_stylesheets)\n",
    "\n",
    "# Now, in a Jupyter notebook environment, we use this:\n",
    "app = JupyterDash(__name__, external_stylesheets=external_stylesheets)"
   ]
  },
  {
   "cell_type": "markdown",
   "metadata": {},
   "source": [
    "# Formatting presets"
   ]
  },
  {
   "cell_type": "code",
   "execution_count": 5,
   "metadata": {},
   "outputs": [],
   "source": [
    "colors = {\n",
    "    'bg' : '#a8dadc'\n",
    "}"
   ]
  },
  {
   "cell_type": "code",
   "execution_count": 6,
   "metadata": {},
   "outputs": [],
   "source": [
    "udvozlo_szoveg = '''\n",
    "De jó, hogy a dashboardunkra tévedtél! Próbáld ki, mielőtt _migráncsoznál_ egy jót!\n",
    "A grafikonokon a World Bank migrációs adatbázisának adatai láthatók.\n",
    "Erről ezeket érdemes tudni:\n",
    "- bla\n",
    "- bliblu\n",
    "- bluble\n",
    "\n",
    "[Adatok leírása](https://datacatalog.worldbank.org/dataset/global-bilateral-migration-database)\n",
    "\n",
    "[Adatok forrása](https://www.worldbank.org/en/topic/migrationremittancesdiasporaissues/brief/migration-remittances-data)\n",
    "\n",
    "Az alábbi gombok megnyomásával megnézhetsz néhány érdekes sztorit!\n",
    "\n",
    "\n",
    "'''"
   ]
  },
  {
   "cell_type": "markdown",
   "metadata": {},
   "source": [
    "# Getting the data"
   ]
  },
  {
   "cell_type": "code",
   "execution_count": 7,
   "metadata": {},
   "outputs": [],
   "source": [
    "koldf = pd.DataFrame({\n",
    "    'koli' : ['rajk', 'szisz', 'evk'],\n",
    "    'iq' : [150, 130, 110],\n",
    "    'arc' : [8, 6, 10],\n",
    "    'color' : ['green', 'black', 'red']\n",
    "    })\n",
    "\n",
    "all_koli = koldf.koli.unique()"
   ]
  },
  {
   "cell_type": "code",
   "execution_count": 8,
   "metadata": {},
   "outputs": [],
   "source": [
    "edges = pd.read_csv(DATAPATH + 'edge_list_final.csv')\n",
    "nodes = pd.read_csv(DATAPATH + 'attributes.csv')\n",
    "all_from = edges.Origin.unique()\n",
    "all_to = edges.Destination.unique()\n",
    "all_year = edges.Year.unique()"
   ]
  },
  {
   "cell_type": "code",
   "execution_count": 9,
   "metadata": {},
   "outputs": [
    {
     "data": {
      "text/html": [
       "<div>\n",
       "<style scoped>\n",
       "    .dataframe tbody tr th:only-of-type {\n",
       "        vertical-align: middle;\n",
       "    }\n",
       "\n",
       "    .dataframe tbody tr th {\n",
       "        vertical-align: top;\n",
       "    }\n",
       "\n",
       "    .dataframe thead th {\n",
       "        text-align: right;\n",
       "    }\n",
       "</style>\n",
       "<table border=\"1\" class=\"dataframe\">\n",
       "  <thead>\n",
       "    <tr style=\"text-align: right;\">\n",
       "      <th></th>\n",
       "      <th>Unnamed: 0</th>\n",
       "      <th>Origin</th>\n",
       "      <th>Destination</th>\n",
       "      <th>Year</th>\n",
       "      <th>Stock</th>\n",
       "      <th>Flow</th>\n",
       "      <th>Origin_latitude</th>\n",
       "      <th>Origin_longitude</th>\n",
       "      <th>Destination_latitude</th>\n",
       "      <th>Destination_longitude</th>\n",
       "    </tr>\n",
       "  </thead>\n",
       "  <tbody>\n",
       "    <tr>\n",
       "      <th>20090</th>\n",
       "      <td>20090</td>\n",
       "      <td>Yemen, Rep.</td>\n",
       "      <td>Congo, Dem. Rep.</td>\n",
       "      <td>2000</td>\n",
       "      <td>4087.000000</td>\n",
       "      <td>-905</td>\n",
       "      <td>NaN</td>\n",
       "      <td>NaN</td>\n",
       "      <td>NaN</td>\n",
       "      <td>NaN</td>\n",
       "    </tr>\n",
       "    <tr>\n",
       "      <th>428</th>\n",
       "      <td>428</td>\n",
       "      <td>Angola</td>\n",
       "      <td>Spain</td>\n",
       "      <td>2013</td>\n",
       "      <td>3706.000000</td>\n",
       "      <td>-940</td>\n",
       "      <td>-11.202692</td>\n",
       "      <td>17.873887</td>\n",
       "      <td>40.463667</td>\n",
       "      <td>-3.749220</td>\n",
       "    </tr>\n",
       "    <tr>\n",
       "      <th>4411</th>\n",
       "      <td>4411</td>\n",
       "      <td>Cyprus</td>\n",
       "      <td>France</td>\n",
       "      <td>1960</td>\n",
       "      <td>17204.000000</td>\n",
       "      <td>17204</td>\n",
       "      <td>35.126413</td>\n",
       "      <td>33.429859</td>\n",
       "      <td>46.227638</td>\n",
       "      <td>2.213749</td>\n",
       "    </tr>\n",
       "    <tr>\n",
       "      <th>11088</th>\n",
       "      <td>11088</td>\n",
       "      <td>Madagascar</td>\n",
       "      <td>Comoros</td>\n",
       "      <td>2010</td>\n",
       "      <td>10400.806911</td>\n",
       "      <td>-1003</td>\n",
       "      <td>-18.766947</td>\n",
       "      <td>46.869107</td>\n",
       "      <td>-11.875001</td>\n",
       "      <td>43.872219</td>\n",
       "    </tr>\n",
       "    <tr>\n",
       "      <th>13784</th>\n",
       "      <td>13784</td>\n",
       "      <td>Philippines</td>\n",
       "      <td>United Kingdom</td>\n",
       "      <td>1990</td>\n",
       "      <td>22325.000000</td>\n",
       "      <td>10146</td>\n",
       "      <td>12.879721</td>\n",
       "      <td>121.774017</td>\n",
       "      <td>55.378051</td>\n",
       "      <td>-3.435973</td>\n",
       "    </tr>\n",
       "  </tbody>\n",
       "</table>\n",
       "</div>"
      ],
      "text/plain": [
       "       Unnamed: 0       Origin       Destination  Year         Stock   Flow  \\\n",
       "20090       20090  Yemen, Rep.  Congo, Dem. Rep.  2000   4087.000000   -905   \n",
       "428           428       Angola             Spain  2013   3706.000000   -940   \n",
       "4411         4411       Cyprus            France  1960  17204.000000  17204   \n",
       "11088       11088   Madagascar           Comoros  2010  10400.806911  -1003   \n",
       "13784       13784  Philippines    United Kingdom  1990  22325.000000  10146   \n",
       "\n",
       "       Origin_latitude  Origin_longitude  Destination_latitude  \\\n",
       "20090              NaN               NaN                   NaN   \n",
       "428         -11.202692         17.873887             40.463667   \n",
       "4411         35.126413         33.429859             46.227638   \n",
       "11088       -18.766947         46.869107            -11.875001   \n",
       "13784        12.879721        121.774017             55.378051   \n",
       "\n",
       "       Destination_longitude  \n",
       "20090                    NaN  \n",
       "428                -3.749220  \n",
       "4411                2.213749  \n",
       "11088              43.872219  \n",
       "13784              -3.435973  "
      ]
     },
     "execution_count": 9,
     "metadata": {},
     "output_type": "execute_result"
    }
   ],
   "source": [
    "edges.sample(5)"
   ]
  },
  {
   "cell_type": "code",
   "execution_count": 10,
   "metadata": {},
   "outputs": [
    {
     "data": {
      "text/html": [
       "<div>\n",
       "<style scoped>\n",
       "    .dataframe tbody tr th:only-of-type {\n",
       "        vertical-align: middle;\n",
       "    }\n",
       "\n",
       "    .dataframe tbody tr th {\n",
       "        vertical-align: top;\n",
       "    }\n",
       "\n",
       "    .dataframe thead th {\n",
       "        text-align: right;\n",
       "    }\n",
       "</style>\n",
       "<table border=\"1\" class=\"dataframe\">\n",
       "  <thead>\n",
       "    <tr style=\"text-align: right;\">\n",
       "      <th></th>\n",
       "      <th>Origin</th>\n",
       "      <th>Year</th>\n",
       "      <th>Origin_latitude</th>\n",
       "      <th>Origin_longitude</th>\n",
       "      <th>Stock</th>\n",
       "    </tr>\n",
       "  </thead>\n",
       "  <tbody>\n",
       "    <tr>\n",
       "      <th>1533</th>\n",
       "      <td>Vietnam</td>\n",
       "      <td>1970</td>\n",
       "      <td>14.058324</td>\n",
       "      <td>108.277199</td>\n",
       "      <td>237535.000000</td>\n",
       "    </tr>\n",
       "    <tr>\n",
       "      <th>1439</th>\n",
       "      <td>Tunisia</td>\n",
       "      <td>2010</td>\n",
       "      <td>33.886917</td>\n",
       "      <td>9.537499</td>\n",
       "      <td>632727.841191</td>\n",
       "    </tr>\n",
       "    <tr>\n",
       "      <th>1552</th>\n",
       "      <td>Wallis and Futuna</td>\n",
       "      <td>2000</td>\n",
       "      <td>-13.768752</td>\n",
       "      <td>-177.156097</td>\n",
       "      <td>7165.000000</td>\n",
       "    </tr>\n",
       "    <tr>\n",
       "      <th>1363</th>\n",
       "      <td>Switzerland</td>\n",
       "      <td>1970</td>\n",
       "      <td>46.818188</td>\n",
       "      <td>8.227512</td>\n",
       "      <td>318740.000000</td>\n",
       "    </tr>\n",
       "    <tr>\n",
       "      <th>458</th>\n",
       "      <td>Ethiopia</td>\n",
       "      <td>1980</td>\n",
       "      <td>9.145000</td>\n",
       "      <td>40.489673</td>\n",
       "      <td>55917.000000</td>\n",
       "    </tr>\n",
       "  </tbody>\n",
       "</table>\n",
       "</div>"
      ],
      "text/plain": [
       "                 Origin  Year  Origin_latitude  Origin_longitude  \\\n",
       "1533            Vietnam  1970        14.058324        108.277199   \n",
       "1439            Tunisia  2010        33.886917          9.537499   \n",
       "1552  Wallis and Futuna  2000       -13.768752       -177.156097   \n",
       "1363        Switzerland  1970        46.818188          8.227512   \n",
       "458            Ethiopia  1980         9.145000         40.489673   \n",
       "\n",
       "              Stock  \n",
       "1533  237535.000000  \n",
       "1439  632727.841191  \n",
       "1552    7165.000000  \n",
       "1363  318740.000000  \n",
       "458    55917.000000  "
      ]
     },
     "execution_count": 10,
     "metadata": {},
     "output_type": "execute_result"
    }
   ],
   "source": [
    "nodes.sample(5)"
   ]
  },
  {
   "cell_type": "code",
   "execution_count": 11,
   "metadata": {},
   "outputs": [
    {
     "data": {
      "text/plain": [
       "211"
      ]
     },
     "execution_count": 11,
     "metadata": {},
     "output_type": "execute_result"
    }
   ],
   "source": [
    "len(all_to)"
   ]
  },
  {
   "cell_type": "markdown",
   "metadata": {},
   "source": [
    "# Defining functions and figures"
   ]
  },
  {
   "cell_type": "code",
   "execution_count": 12,
   "metadata": {},
   "outputs": [],
   "source": [
    "# Példa\n",
    "fig1 = px.bar(koldf, x='koli', y='iq', color = 'koli', color_discrete_sequence = koldf['color'])\n",
    "fig2 = px.bar(koldf, x='koli', y='arc', color = 'koli', color_discrete_sequence = koldf['color'])"
   ]
  },
  {
   "cell_type": "code",
   "execution_count": 13,
   "metadata": {},
   "outputs": [],
   "source": [
    "# Mendöl térkép készítője\n",
    "from mapping import map_creation\n",
    "# Gyenes gráf készítője\n",
    "from gyenes_vizu import generate_data, graf_vizu"
   ]
  },
  {
   "cell_type": "code",
   "execution_count": null,
   "metadata": {},
   "outputs": [],
   "source": []
  },
  {
   "cell_type": "markdown",
   "metadata": {},
   "source": [
    "# App layout"
   ]
  },
  {
   "cell_type": "code",
   "execution_count": 14,
   "metadata": {},
   "outputs": [],
   "source": [
    "app.layout = html.Div(children=[\n",
    "    html.H1(children='Migráció app', style = {'backgroundColor' : colors['bg']}),\n",
    "    html.H4(children='Rajk Network Science kurzushétvége, 2021.04.16-18.', style = {'backgroundColor' : colors['bg']}),\n",
    "    \n",
    "    dbc.Row(\n",
    "            [\n",
    "            dbc.Col(\n",
    "                [\n",
    "                    html.Div('Migráció a világban', style = {'textAlign' : 'left', 'fontSize' : 20, 'fontWeight' : 'bold'}),\n",
    "                    html.Div('Egy adott év kiválasztásával megtekinthető az évben országok közötti áramlás', style = {'textAlign' : 'left'}),\n",
    "                    #html.Img(src = 'https://cdn.vox-cdn.com/thumbor/2-7zdMpMpfbDDqIn2GsRVNN-au8=/51x0:977x617/1400x1050/filters:focal(51x0:977x617):format(png)/cdn.vox-cdn.com/uploads/chorus_image/image/50017015/Screen_Shot_2016-07-04_at_12.37.15_PM.0.0.png',\n",
    "                    #         height = 300, width = 420),\n",
    "                    \n",
    "                    # Mendöl térképe\n",
    "                    dcc.Graph(id = 'terkep_viz'),\n",
    "                    \n",
    "    \n",
    "                    dcc.Slider(\n",
    "                        id = 'year_slider_1',\n",
    "                        min = all_year.min(),\n",
    "                        max = all_year.max(),\n",
    "                        value = all_year.max(),\n",
    "                        marks = {str(year): str(year) for year in all_year},\n",
    "                        step = None)\n",
    "                    \n",
    "                    \n",
    "                ], style = {'backgroundColor' : colors['bg']}, width = {'size' : 6}\n",
    "                ),\n",
    "            \n",
    "            dbc.Col(\n",
    "                [\n",
    "                    html.Div('Migrációs hálózat', style = {'textAlign' : 'left', 'fontSize' : 20, 'fontWeight' : 'bold'}),\n",
    "                    html.Div('Országok és év kiválasztásával megtekinthető az adott országok adott éves migrációs hálózata', style = {'textAlign' : 'left'}),\n",
    "                    #html.Img(src = 'https://brsl.net.bd/wp-content/uploads/2020/04/1_rmq7bd3GFjcwfXtkrBQaPQ.png',\n",
    "                    #         height = 300, width = 600),\n",
    "                    \n",
    "                    # Gyenes gráfja\n",
    "                    html.Iframe(id = 'graf_viz', width = '100%', height = '75%'),\n",
    "                    \n",
    "                    \n",
    "                    dcc.Slider(\n",
    "                        id = 'year_slider_2',\n",
    "                        min = all_year.min(),\n",
    "                        max = all_year.max(),\n",
    "                        value = all_year.max(),\n",
    "                        marks = {str(year): str(year) for year in all_year},\n",
    "                        step = None),\n",
    "                    dcc.Dropdown(\n",
    "                        id = 'orszag_dropdown_2', # this number means that this is the 2nd cell on the dashboard (not that this is the 2nd dropdown filter)\n",
    "                        options = [{'label': i, 'value': i} for i in all_from],\n",
    "                        value = ['Germany', 'Greece', 'Austria', 'Hungary', 'Turkey'],\n",
    "                        multi=True\n",
    "                        )\n",
    "                    \n",
    "                    \n",
    "                    \n",
    "                ], style = {'backgroundColor' : colors['bg']}, width = {'size' : 6}),\n",
    "            \n",
    "            ]), # Row 1 vége\n",
    "    \n",
    "    html.Br(),\n",
    "            \n",
    "    dbc.Row(\n",
    "            [\n",
    "            \n",
    "            dbc.Col(\n",
    "                [\n",
    "                    html.Div('Adott ország vizsgálata', style = {'textAlign' : 'left', 'fontSize' : 20, 'fontWeight' : 'bold'}),\n",
    "                    html.Div('Egy adott ország esetében megtekinthetők a leggyakoribb küldő vagy fogadó országok', style = {'textAlign' : 'left'}),\n",
    "                    html.Img(src = 'https://www.amcharts.com/wp-content/uploads/2018/01/horizontal-bar-chart.png',\n",
    "                             height = 300, width = 384),\n",
    "                    dcc.Dropdown(\n",
    "                        id = 'orszag_dropdown_3', # this number means that this is the 3rd cell on the dashboard (not that this is the 3rd dropdown filter)\n",
    "                        options = [{'label': i, 'value': i} for i in all_from],\n",
    "                        value = 'Germany'\n",
    "                        ),\n",
    "                    dcc.RadioItems(\n",
    "                        id = 'kibe_radio_3',\n",
    "                        options = [{'label': 'Beáramlás', 'value' : 'be'},\n",
    "                                   {'label': 'Kiáramlás', 'value' : 'ki'}], # Itt még át kell írni a value-kat!\n",
    "                        value = 'be',\n",
    "                        labelStyle = {'display': 'inline-block'}\n",
    "                    ),\n",
    "                ],\n",
    "                style = {'backgroundColor' : colors['bg']}, width = {'size' : 6}),\n",
    "            \n",
    "            dbc.Col(\n",
    "                [\n",
    "                    html.Div('Útmutató', style = {'textAlign' : 'left', 'fontSize' : 20, 'fontWeight' : 'bold'}),\n",
    "                    #dcc.Markdown(udvozlo_szoveg),\n",
    "                    #html.Iframe(probahtml)\n",
    "                ],\n",
    "                style = {'backgroundColor' : colors['bg']}, width = {'size' : 6}),\n",
    "                \n",
    "                #[\n",
    "                #    html.Div(\"Jobb alsó\", style = {'textAlign' : 'center', 'fontSize' : 14}),\n",
    "                #    html.Div(\"A szakkolisok IQ-ja\", style = {'textAlign' : 'center', 'fontSize' : 20}),\n",
    "                #    html.Br(),\n",
    "                #    dcc.Graph(\n",
    "                #        id = 'iq_graf'\n",
    "                #        ),\n",
    "                #    html.Label('Koli szűrő'),\n",
    "                #    dcc.Dropdown(\n",
    "                #        id = 'koli_dropdown1',\n",
    "                #        options = [{'label': i, 'value': i} for i in all_koli],\n",
    "                #        value = ['rajk', 'szisz'],\n",
    "                #        multi=True\n",
    "                #        )\n",
    "                #], style = {'backgroundColor' : colors['bg']}, width = {'size' : 6})],\n",
    "                \n",
    "            ]) # Row 2 vége\n",
    "    ]) # Layout vége"
   ]
  },
  {
   "cell_type": "markdown",
   "metadata": {},
   "source": [
    "# Callbacks"
   ]
  },
  {
   "cell_type": "code",
   "execution_count": 15,
   "metadata": {},
   "outputs": [],
   "source": [
    "#@app.callback(\n",
    "#    Output('iq_graf', 'figure'),\n",
    "#    Input('koli_dropdown1', 'value'))\n",
    "#def update_figure(kolik):\n",
    "#    filtered_df = koldf[koldf.koli.isin(kolik)]\n",
    "#\n",
    "#    fig = px.bar(filtered_df, x='koli', y='iq', color = 'koli', color_discrete_sequence = list(filtered_df['color']))\n",
    "#\n",
    "#    fig.update_layout(transition_duration=500)\n",
    "#\n",
    "#    return fig\n",
    "\n",
    "# TÉRKÉP (bal felső)\n",
    "@app.callback(\n",
    "    Output('terkep_viz', 'figure'),\n",
    "    Input('year_slider_1', 'value'))\n",
    "def update_map(year):\n",
    "    szurt_nodes = nodes[nodes.Year == year]\n",
    "    szurt_edges = edges[edges.Year == year]\n",
    "    fig = map_creation(edgelist_df = szurt_edges, node_df = szurt_nodes, edgeweight_multiplier = 0.02)\n",
    "    fig.update_layout(transition_duration = 500)\n",
    "    return fig\n",
    "\n",
    "# GRÁF (jobb felső)\n",
    "@app.callback(\n",
    "    Output('graf_viz', 'srcDoc'),\n",
    "    Input('year_slider_2', 'value'),\n",
    "    Input('orszag_dropdown_2', 'value'))\n",
    "def update_graf(year, orszagok):\n",
    "    szurt_nodes = nodes[(nodes.Year == year) & (nodes.Origin.isin(orszagok))]\n",
    "    szurt_edges = edges[(edges.Year == year) & (edges.Origin.isin(orszagok)) & (edges.Destination.isin(orszagok))]\n",
    "    generalt_nodes, generalt_edges = generate_data(node_features = szurt_nodes, edge_features = szurt_edges)\n",
    "    #fig_html = graf_vizu(node_features = generalt_nodes, edge_features = generalt_edges).html\n",
    "    fig = graf_vizu(node_features = generalt_nodes, edge_features = generalt_edges)\n",
    "    fig.save_graph('gyenes_graf.html')\n",
    "    return fig.html # open('gyenes_graf.html', 'r').read()\n",
    "    \n",
    "    \n",
    "    \n",
    "\n",
    "\n",
    "\n"
   ]
  },
  {
   "cell_type": "markdown",
   "metadata": {},
   "source": [
    "# Run the app!"
   ]
  },
  {
   "cell_type": "code",
   "execution_count": 16,
   "metadata": {},
   "outputs": [
    {
     "name": "stdout",
     "output_type": "stream",
     "text": [
      "Dash app running on http://127.0.0.1:8050/\n"
     ]
    },
    {
     "name": "stderr",
     "output_type": "stream",
     "text": [
      "C:\\Users\\HP\\Documents\\02_CODING\\KURZUS_Network\\network_2021_spring\\kurzushetvege\\mapping.py:8: SettingWithCopyWarning:\n",
      "\n",
      "\n",
      "A value is trying to be set on a copy of a slice from a DataFrame.\n",
      "Try using .loc[row_indexer,col_indexer] = value instead\n",
      "\n",
      "See the caveats in the documentation: https://pandas.pydata.org/pandas-docs/stable/user_guide/indexing.html#returning-a-view-versus-a-copy\n",
      "\n"
     ]
    },
    {
     "name": "stdout",
     "output_type": "stream",
     "text": [
      "A hálózat több, mint 1000 élt tartalmaz, a számítási kapacitások korlátossága miatt, csak a felső 1000 kerül ábrázolásra.\n"
     ]
    }
   ],
   "source": [
    "if __name__ == '__main__':\n",
    "    app.run_server(debug=True, mode = 'external')"
   ]
  },
  {
   "cell_type": "code",
   "execution_count": null,
   "metadata": {},
   "outputs": [],
   "source": []
  },
  {
   "cell_type": "code",
   "execution_count": null,
   "metadata": {},
   "outputs": [],
   "source": []
  },
  {
   "cell_type": "code",
   "execution_count": null,
   "metadata": {},
   "outputs": [],
   "source": []
  },
  {
   "cell_type": "code",
   "execution_count": null,
   "metadata": {},
   "outputs": [],
   "source": []
  },
  {
   "cell_type": "code",
   "execution_count": null,
   "metadata": {},
   "outputs": [],
   "source": []
  },
  {
   "cell_type": "markdown",
   "metadata": {},
   "source": [
    "# Próba"
   ]
  },
  {
   "cell_type": "code",
   "execution_count": null,
   "metadata": {},
   "outputs": [],
   "source": []
  }
 ],
 "metadata": {
  "kernelspec": {
   "display_name": "Python 3",
   "language": "python",
   "name": "python3"
  },
  "language_info": {
   "codemirror_mode": {
    "name": "ipython",
    "version": 3
   },
   "file_extension": ".py",
   "mimetype": "text/x-python",
   "name": "python",
   "nbconvert_exporter": "python",
   "pygments_lexer": "ipython3",
   "version": "3.8.0"
  },
  "toc": {
   "base_numbering": 1,
   "nav_menu": {},
   "number_sections": true,
   "sideBar": true,
   "skip_h1_title": false,
   "title_cell": "Table of Contents",
   "title_sidebar": "Contents",
   "toc_cell": false,
   "toc_position": {},
   "toc_section_display": true,
   "toc_window_display": true
  }
 },
 "nbformat": 4,
 "nbformat_minor": 2
}
