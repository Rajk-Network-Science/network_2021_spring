{
 "cells": [
  {
   "cell_type": "code",
   "execution_count": 1,
   "metadata": {},
   "outputs": [
    {
     "data": {
      "text/plain": [
       "'\\nTODO\\n- cell padding\\n- width jó legyen\\n- ne kelljen görgetni\\n\\n'"
      ]
     },
     "execution_count": 1,
     "metadata": {},
     "output_type": "execute_result"
    }
   ],
   "source": [
    "'''\n",
    "TODO\n",
    "- cell padding\n",
    "- width jó legyen\n",
    "- ne kelljen görgetni\n",
    "\n",
    "'''"
   ]
  },
  {
   "cell_type": "markdown",
   "metadata": {},
   "source": [
    "# Packages"
   ]
  },
  {
   "cell_type": "code",
   "execution_count": 2,
   "metadata": {},
   "outputs": [],
   "source": [
    "import plotly.express as px\n",
    "from jupyter_dash import JupyterDash\n",
    "import dash_core_components as dcc\n",
    "import dash_html_components as html\n",
    "import dash_bootstrap_components as dbc\n",
    "from dash.dependencies import Input, Output\n",
    "import pandas as pd\n",
    "import pprint\n",
    "\n",
    "DATAPATH = 'C:/Users/HP/Documents/02_CODING/KURZUS_Network/DATA/Kurzushetvege/'"
   ]
  },
  {
   "cell_type": "markdown",
   "metadata": {},
   "source": [
    "# External stylesheet"
   ]
  },
  {
   "cell_type": "code",
   "execution_count": 3,
   "metadata": {},
   "outputs": [],
   "source": [
    "external_stylesheets = [dbc.themes.BOOTSTRAP]"
   ]
  },
  {
   "cell_type": "markdown",
   "metadata": {},
   "source": [
    "# Call the app"
   ]
  },
  {
   "cell_type": "code",
   "execution_count": 4,
   "metadata": {},
   "outputs": [],
   "source": [
    "# In a .py file, use this:\n",
    "# app = dash.Dash(__name__, external_stylesheets=external_stylesheets)\n",
    "\n",
    "# Now, in a Jupyter notebook environment, we use this:\n",
    "app = JupyterDash(__name__, external_stylesheets=external_stylesheets)"
   ]
  },
  {
   "cell_type": "markdown",
   "metadata": {},
   "source": [
    "# Formatting presets"
   ]
  },
  {
   "cell_type": "code",
   "execution_count": 5,
   "metadata": {},
   "outputs": [],
   "source": [
    "colors = {\n",
    "    'bg' : '#a8dadc'\n",
    "}"
   ]
  },
  {
   "cell_type": "code",
   "execution_count": 6,
   "metadata": {},
   "outputs": [],
   "source": [
    "udvozlo_szoveg = '''\n",
    "De jó, hogy a dashboardunkra tévedtél! Próbáld ki, mielőtt _migráncsoznál_ egy jót!\n",
    "A grafikonokon a World Bank migrációs adatbázisának adatai láthatók.\n",
    "Erről ezeket érdemes tudni:\n",
    "- bla\n",
    "- bliblu\n",
    "- bluble\n",
    "\n",
    "[Adatok leírása](https://datacatalog.worldbank.org/dataset/global-bilateral-migration-database)\n",
    "\n",
    "[Adatok forrása](https://www.worldbank.org/en/topic/migrationremittancesdiasporaissues/brief/migration-remittances-data)\n",
    "\n",
    "Az alábbi gombok megnyomásával megnézhetsz néhány érdekes sztorit!\n",
    "\n",
    "\n",
    "'''"
   ]
  },
  {
   "cell_type": "markdown",
   "metadata": {},
   "source": [
    "# Getting the data"
   ]
  },
  {
   "cell_type": "code",
   "execution_count": 7,
   "metadata": {},
   "outputs": [],
   "source": [
    "koldf = pd.DataFrame({\n",
    "    'koli' : ['rajk', 'szisz', 'evk'],\n",
    "    'iq' : [150, 130, 110],\n",
    "    'arc' : [8, 6, 10],\n",
    "    'color' : ['green', 'black', 'red']\n",
    "    })\n",
    "\n",
    "all_koli = koldf.koli.unique()"
   ]
  },
  {
   "cell_type": "code",
   "execution_count": 8,
   "metadata": {},
   "outputs": [],
   "source": [
    "edges = pd.read_csv(DATAPATH + 'edge_list_final.csv')\n",
    "nodes = pd.read_csv(DATAPATH + 'attributes.csv')\n",
    "all_from = edges.Origin.unique()\n",
    "all_to = edges.Destination.unique()\n",
    "all_year = edges.Year.unique()"
   ]
  },
  {
   "cell_type": "code",
   "execution_count": 9,
   "metadata": {},
   "outputs": [
    {
     "data": {
      "text/html": [
       "<div>\n",
       "<style scoped>\n",
       "    .dataframe tbody tr th:only-of-type {\n",
       "        vertical-align: middle;\n",
       "    }\n",
       "\n",
       "    .dataframe tbody tr th {\n",
       "        vertical-align: top;\n",
       "    }\n",
       "\n",
       "    .dataframe thead th {\n",
       "        text-align: right;\n",
       "    }\n",
       "</style>\n",
       "<table border=\"1\" class=\"dataframe\">\n",
       "  <thead>\n",
       "    <tr style=\"text-align: right;\">\n",
       "      <th></th>\n",
       "      <th>Unnamed: 0</th>\n",
       "      <th>Origin</th>\n",
       "      <th>Destination</th>\n",
       "      <th>Year</th>\n",
       "      <th>Stock</th>\n",
       "      <th>Flow</th>\n",
       "      <th>Origin_latitude</th>\n",
       "      <th>Origin_longitude</th>\n",
       "      <th>Destination_latitude</th>\n",
       "      <th>Destination_longitude</th>\n",
       "    </tr>\n",
       "  </thead>\n",
       "  <tbody>\n",
       "    <tr>\n",
       "      <th>19001</th>\n",
       "      <td>19001</td>\n",
       "      <td>United States</td>\n",
       "      <td>Chile</td>\n",
       "      <td>1970</td>\n",
       "      <td>3567.0</td>\n",
       "      <td>580</td>\n",
       "      <td>37.090240</td>\n",
       "      <td>-95.712891</td>\n",
       "      <td>-35.675147</td>\n",
       "      <td>-71.542969</td>\n",
       "    </tr>\n",
       "    <tr>\n",
       "      <th>15948</th>\n",
       "      <td>15948</td>\n",
       "      <td>South Africa</td>\n",
       "      <td>Tanzania</td>\n",
       "      <td>2013</td>\n",
       "      <td>7698.0</td>\n",
       "      <td>6052</td>\n",
       "      <td>-30.559482</td>\n",
       "      <td>22.937506</td>\n",
       "      <td>-6.369028</td>\n",
       "      <td>34.888822</td>\n",
       "    </tr>\n",
       "    <tr>\n",
       "      <th>2111</th>\n",
       "      <td>2111</td>\n",
       "      <td>Botswana</td>\n",
       "      <td>South Africa</td>\n",
       "      <td>2000</td>\n",
       "      <td>17676.0</td>\n",
       "      <td>-41414</td>\n",
       "      <td>-22.328474</td>\n",
       "      <td>24.684866</td>\n",
       "      <td>-30.559482</td>\n",
       "      <td>22.937506</td>\n",
       "    </tr>\n",
       "    <tr>\n",
       "      <th>18162</th>\n",
       "      <td>18162</td>\n",
       "      <td>Ukraine</td>\n",
       "      <td>Canada</td>\n",
       "      <td>2017</td>\n",
       "      <td>76098.0</td>\n",
       "      <td>7050</td>\n",
       "      <td>48.379433</td>\n",
       "      <td>31.165580</td>\n",
       "      <td>56.130366</td>\n",
       "      <td>-106.346771</td>\n",
       "    </tr>\n",
       "    <tr>\n",
       "      <th>15866</th>\n",
       "      <td>15866</td>\n",
       "      <td>South Africa</td>\n",
       "      <td>India</td>\n",
       "      <td>1970</td>\n",
       "      <td>3759.0</td>\n",
       "      <td>-5568</td>\n",
       "      <td>-30.559482</td>\n",
       "      <td>22.937506</td>\n",
       "      <td>20.593684</td>\n",
       "      <td>78.962880</td>\n",
       "    </tr>\n",
       "  </tbody>\n",
       "</table>\n",
       "</div>"
      ],
      "text/plain": [
       "       Unnamed: 0         Origin   Destination  Year    Stock   Flow  \\\n",
       "19001       19001  United States         Chile  1970   3567.0    580   \n",
       "15948       15948   South Africa      Tanzania  2013   7698.0   6052   \n",
       "2111         2111       Botswana  South Africa  2000  17676.0 -41414   \n",
       "18162       18162        Ukraine        Canada  2017  76098.0   7050   \n",
       "15866       15866   South Africa         India  1970   3759.0  -5568   \n",
       "\n",
       "       Origin_latitude  Origin_longitude  Destination_latitude  \\\n",
       "19001        37.090240        -95.712891            -35.675147   \n",
       "15948       -30.559482         22.937506             -6.369028   \n",
       "2111        -22.328474         24.684866            -30.559482   \n",
       "18162        48.379433         31.165580             56.130366   \n",
       "15866       -30.559482         22.937506             20.593684   \n",
       "\n",
       "       Destination_longitude  \n",
       "19001             -71.542969  \n",
       "15948              34.888822  \n",
       "2111               22.937506  \n",
       "18162            -106.346771  \n",
       "15866              78.962880  "
      ]
     },
     "execution_count": 9,
     "metadata": {},
     "output_type": "execute_result"
    }
   ],
   "source": [
    "edges.sample(5)"
   ]
  },
  {
   "cell_type": "code",
   "execution_count": 10,
   "metadata": {},
   "outputs": [
    {
     "data": {
      "text/html": [
       "<div>\n",
       "<style scoped>\n",
       "    .dataframe tbody tr th:only-of-type {\n",
       "        vertical-align: middle;\n",
       "    }\n",
       "\n",
       "    .dataframe tbody tr th {\n",
       "        vertical-align: top;\n",
       "    }\n",
       "\n",
       "    .dataframe thead th {\n",
       "        text-align: right;\n",
       "    }\n",
       "</style>\n",
       "<table border=\"1\" class=\"dataframe\">\n",
       "  <thead>\n",
       "    <tr style=\"text-align: right;\">\n",
       "      <th></th>\n",
       "      <th>Origin</th>\n",
       "      <th>Year</th>\n",
       "      <th>Origin_latitude</th>\n",
       "      <th>Origin_longitude</th>\n",
       "      <th>Stock</th>\n",
       "    </tr>\n",
       "  </thead>\n",
       "  <tbody>\n",
       "    <tr>\n",
       "      <th>1162</th>\n",
       "      <td>Qatar</td>\n",
       "      <td>2010</td>\n",
       "      <td>25.354826</td>\n",
       "      <td>51.183884</td>\n",
       "      <td>2.237405e+03</td>\n",
       "    </tr>\n",
       "    <tr>\n",
       "      <th>845</th>\n",
       "      <td>Luxembourg</td>\n",
       "      <td>1960</td>\n",
       "      <td>49.815273</td>\n",
       "      <td>6.129583</td>\n",
       "      <td>2.913700e+04</td>\n",
       "    </tr>\n",
       "    <tr>\n",
       "      <th>622</th>\n",
       "      <td>Honduras</td>\n",
       "      <td>2000</td>\n",
       "      <td>15.199999</td>\n",
       "      <td>-86.241905</td>\n",
       "      <td>3.326070e+05</td>\n",
       "    </tr>\n",
       "    <tr>\n",
       "      <th>1089</th>\n",
       "      <td>Pakistan</td>\n",
       "      <td>2010</td>\n",
       "      <td>30.375321</td>\n",
       "      <td>69.345116</td>\n",
       "      <td>4.508376e+06</td>\n",
       "    </tr>\n",
       "    <tr>\n",
       "      <th>82</th>\n",
       "      <td>Austria</td>\n",
       "      <td>2000</td>\n",
       "      <td>47.516231</td>\n",
       "      <td>14.550072</td>\n",
       "      <td>5.065550e+05</td>\n",
       "    </tr>\n",
       "  </tbody>\n",
       "</table>\n",
       "</div>"
      ],
      "text/plain": [
       "          Origin  Year  Origin_latitude  Origin_longitude         Stock\n",
       "1162       Qatar  2010        25.354826         51.183884  2.237405e+03\n",
       "845   Luxembourg  1960        49.815273          6.129583  2.913700e+04\n",
       "622     Honduras  2000        15.199999        -86.241905  3.326070e+05\n",
       "1089    Pakistan  2010        30.375321         69.345116  4.508376e+06\n",
       "82       Austria  2000        47.516231         14.550072  5.065550e+05"
      ]
     },
     "execution_count": 10,
     "metadata": {},
     "output_type": "execute_result"
    }
   ],
   "source": [
    "nodes.sample(5)"
   ]
  },
  {
   "cell_type": "code",
   "execution_count": 11,
   "metadata": {},
   "outputs": [
    {
     "data": {
      "text/plain": [
       "211"
      ]
     },
     "execution_count": 11,
     "metadata": {},
     "output_type": "execute_result"
    }
   ],
   "source": [
    "len(all_to)"
   ]
  },
  {
   "cell_type": "markdown",
   "metadata": {},
   "source": [
    "# Defining functions and figures"
   ]
  },
  {
   "cell_type": "code",
   "execution_count": 12,
   "metadata": {},
   "outputs": [],
   "source": [
    "# Példa\n",
    "fig1 = px.bar(koldf, x='koli', y='iq', color = 'koli', color_discrete_sequence = koldf['color'])\n",
    "fig2 = px.bar(koldf, x='koli', y='arc', color = 'koli', color_discrete_sequence = koldf['color'])"
   ]
  },
  {
   "cell_type": "code",
   "execution_count": 13,
   "metadata": {},
   "outputs": [],
   "source": [
    "# Mendöl térkép készítője\n",
    "from mapping import map_creation\n",
    "# Gyenes gráf készítője\n",
    "from gyenes_vizu import generate_data, graf_vizu"
   ]
  },
  {
   "cell_type": "code",
   "execution_count": null,
   "metadata": {},
   "outputs": [],
   "source": []
  },
  {
   "cell_type": "markdown",
   "metadata": {},
   "source": [
    "# App layout"
   ]
  },
  {
   "cell_type": "code",
   "execution_count": 26,
   "metadata": {},
   "outputs": [],
   "source": [
    "app.layout = html.Div(children=[\n",
    "    html.H1(children='Migráció app', style = {'backgroundColor' : colors['bg']}),\n",
    "    html.H4(children='Rajk Network Science kurzushétvége, 2021.04.16-18.', style = {'backgroundColor' : colors['bg']}),\n",
    "    \n",
    "    dbc.Row(\n",
    "            [\n",
    "            dbc.Col(\n",
    "                [\n",
    "                    html.Div('Migráció a világban', style = {'textAlign' : 'left', 'fontSize' : 20, 'fontWeight' : 'bold'}),\n",
    "                    html.Div('Egy adott év kiválasztásával megtekinthető az évben országok közötti áramlás', style = {'textAlign' : 'left'}),\n",
    "                    #html.Img(src = 'https://cdn.vox-cdn.com/thumbor/2-7zdMpMpfbDDqIn2GsRVNN-au8=/51x0:977x617/1400x1050/filters:focal(51x0:977x617):format(png)/cdn.vox-cdn.com/uploads/chorus_image/image/50017015/Screen_Shot_2016-07-04_at_12.37.15_PM.0.0.png',\n",
    "                    #         height = 300, width = 420),\n",
    "                    \n",
    "                    # Mendöl térképe\n",
    "                    dcc.Graph(id = 'terkep_viz'),\n",
    "                    \n",
    "    \n",
    "                    dcc.Slider(\n",
    "                        id = 'year_slider_1',\n",
    "                        min = all_year.min(),\n",
    "                        max = all_year.max(),\n",
    "                        value = all_year.max(),\n",
    "                        marks = {str(year): str(year) for year in all_year},\n",
    "                        step = None)\n",
    "                    \n",
    "                    \n",
    "                ], style = {'backgroundColor' : colors['bg']}, width = {'size' : 6}\n",
    "                ),\n",
    "            \n",
    "            dbc.Col(\n",
    "                [\n",
    "                    html.Div('Migrációs hálózat', style = {'textAlign' : 'left', 'fontSize' : 20, 'fontWeight' : 'bold'}),\n",
    "                    html.Div('Országok és év kiválasztásával megtekinthető az adott országok adott éves migrációs hálózata', style = {'textAlign' : 'left'}),\n",
    "                    #html.Img(src = 'https://brsl.net.bd/wp-content/uploads/2020/04/1_rmq7bd3GFjcwfXtkrBQaPQ.png',\n",
    "                    #         height = 300, width = 600),\n",
    "                    \n",
    "                    # Gyenes gráfja\n",
    "                    html.Iframe(id = 'graf_viz', width = '100%', height = '75%'),\n",
    "                    \n",
    "                    \n",
    "                    dcc.Slider(\n",
    "                        id = 'year_slider_2',\n",
    "                        min = all_year.min(),\n",
    "                        max = all_year.max(),\n",
    "                        value = all_year.max(),\n",
    "                        marks = {str(year): str(year) for year in all_year},\n",
    "                        step = None),\n",
    "                    dcc.Dropdown(\n",
    "                        id = 'orszag_dropdown_2', # this number means that this is the 2nd cell on the dashboard (not that this is the 2nd dropdown filter)\n",
    "                        options = [{'label': i, 'value': i} for i in all_from],\n",
    "                        value = ['Germany', 'Greece', 'Austria', 'Hungary', 'Turkey'],\n",
    "                        multi=True\n",
    "                        )\n",
    "                    \n",
    "                    \n",
    "                    \n",
    "                ], style = {'backgroundColor' : colors['bg']}, width = {'size' : 6}),\n",
    "            \n",
    "            ]), # Row 1 vége\n",
    "    \n",
    "    html.Br(),\n",
    "            \n",
    "    dbc.Row(\n",
    "            [\n",
    "            \n",
    "            dbc.Col(\n",
    "                [\n",
    "                    html.Div('Adott ország vizsgálata', style = {'textAlign' : 'left', 'fontSize' : 20, 'fontWeight' : 'bold'}),\n",
    "                    html.Div('Egy adott ország esetében megtekinthetők a leggyakoribb küldő vagy fogadó országok', style = {'textAlign' : 'left'}),\n",
    "                    html.Img(src = 'https://www.amcharts.com/wp-content/uploads/2018/01/horizontal-bar-chart.png',\n",
    "                             height = 300, width = 384),\n",
    "                    dcc.Dropdown(\n",
    "                        id = 'orszag_dropdown_3', # this number means that this is the 3rd cell on the dashboard (not that this is the 3rd dropdown filter)\n",
    "                        options = [{'label': i, 'value': i} for i in all_from],\n",
    "                        value = 'Germany'\n",
    "                        ),\n",
    "                    dcc.RadioItems(\n",
    "                        id = 'kibe_radio_3',\n",
    "                        options = [{'label': 'Beáramlás', 'value' : 'be'},\n",
    "                                   {'label': 'Kiáramlás', 'value' : 'ki'}], # Itt még át kell írni a value-kat!\n",
    "                        value = 'be',\n",
    "                        labelStyle = {'display': 'inline-block'}\n",
    "                    ),\n",
    "                ],\n",
    "                style = {'backgroundColor' : colors['bg']}, width = {'size' : 6}),\n",
    "            \n",
    "            dbc.Col(\n",
    "                [\n",
    "                    html.Div('Útmutató', style = {'textAlign' : 'left', 'fontSize' : 20, 'fontWeight' : 'bold'}),\n",
    "                    dcc.Markdown(udvozlo_szoveg),\n",
    "                    #html.Iframe(probahtml)\n",
    "                ],\n",
    "                style = {'backgroundColor' : colors['bg']}, width = {'size' : 6}),\n",
    "                \n",
    "                #[\n",
    "                #    html.Div(\"Jobb alsó\", style = {'textAlign' : 'center', 'fontSize' : 14}),\n",
    "                #    html.Div(\"A szakkolisok IQ-ja\", style = {'textAlign' : 'center', 'fontSize' : 20}),\n",
    "                #    html.Br(),\n",
    "                #    dcc.Graph(\n",
    "                #        id = 'iq_graf'\n",
    "                #        ),\n",
    "                #    html.Label('Koli szűrő'),\n",
    "                #    dcc.Dropdown(\n",
    "                #        id = 'koli_dropdown1',\n",
    "                #        options = [{'label': i, 'value': i} for i in all_koli],\n",
    "                #        value = ['rajk', 'szisz'],\n",
    "                #        multi=True\n",
    "                #        )\n",
    "                #], style = {'backgroundColor' : colors['bg']}, width = {'size' : 6})],\n",
    "                \n",
    "            ]) # Row 2 vége\n",
    "    ]) # Layout vége"
   ]
  },
  {
   "cell_type": "markdown",
   "metadata": {},
   "source": [
    "# Callbacks"
   ]
  },
  {
   "cell_type": "code",
   "execution_count": 27,
   "metadata": {},
   "outputs": [],
   "source": [
    "#@app.callback(\n",
    "#    Output('iq_graf', 'figure'),\n",
    "#    Input('koli_dropdown1', 'value'))\n",
    "#def update_figure(kolik):\n",
    "#    filtered_df = koldf[koldf.koli.isin(kolik)]\n",
    "#\n",
    "#    fig = px.bar(filtered_df, x='koli', y='iq', color = 'koli', color_discrete_sequence = list(filtered_df['color']))\n",
    "#\n",
    "#    fig.update_layout(transition_duration=500)\n",
    "#\n",
    "#    return fig\n",
    "\n",
    "# TÉRKÉP (bal felső)\n",
    "@app.callback(\n",
    "    Output('terkep_viz', 'figure'),\n",
    "    Input('year_slider_1', 'value'))\n",
    "def update_map(year):\n",
    "    szurt_nodes = nodes[nodes.Year == year]\n",
    "    szurt_edges = edges[edges.Year == year]\n",
    "    fig = map_creation(edgelist_df = szurt_edges, node_df = szurt_nodes, edgeweight_multiplier = 0.02)\n",
    "    fig.update_layout(transition_duration = 500)\n",
    "    return fig\n",
    "\n",
    "# GRÁF (jobb felső)\n",
    "@app.callback(\n",
    "    Output('graf_viz', 'srcDoc'),\n",
    "    Input('year_slider_2', 'value'),\n",
    "    Input('orszag_dropdown_2', 'value'))\n",
    "def update_graf(year, orszagok):\n",
    "    szurt_nodes = nodes[(nodes.Year == year) & (nodes.Origin.isin(orszagok))]\n",
    "    szurt_edges = edges[(edges.Year == year) & (edges.Origin.isin(orszagok)) & (edges.Destination.isin(orszagok))]\n",
    "    #generalt_nodes, generalt_edges = generate_data(node_features = szurt_nodes, edge_features = szurt_edges)\n",
    "    #fig_html = graf_vizu(node_features = generalt_nodes, edge_features = generalt_edges).html\n",
    "    fig = graf_vizu(node_features = szurt_nodes, edge_features = szurt_edges, edge_weight_multiplier = 5)\n",
    "    fig.save_graph('gyenes_graf.html')\n",
    "    return fig.html # open('gyenes_graf.html', 'r').read()\n",
    "    \n",
    "    \n",
    "    \n",
    "\n",
    "\n",
    "\n"
   ]
  },
  {
   "cell_type": "code",
   "execution_count": null,
   "metadata": {},
   "outputs": [],
   "source": []
  },
  {
   "cell_type": "markdown",
   "metadata": {},
   "source": [
    "# Run the app!"
   ]
  },
  {
   "cell_type": "code",
   "execution_count": 28,
   "metadata": {},
   "outputs": [
    {
     "name": "stdout",
     "output_type": "stream",
     "text": [
      "Dash app running on http://127.0.0.1:8050/\n"
     ]
    }
   ],
   "source": [
    "if __name__ == '__main__':\n",
    "    app.run_server(debug=True, mode = 'external')"
   ]
  },
  {
   "cell_type": "code",
   "execution_count": null,
   "metadata": {},
   "outputs": [],
   "source": []
  },
  {
   "cell_type": "markdown",
   "metadata": {},
   "source": [
    "# Próba"
   ]
  },
  {
   "cell_type": "code",
   "execution_count": 17,
   "metadata": {},
   "outputs": [],
   "source": [
    "orszagok = ['Germany', 'Greece', 'Austria', 'Hungary', 'Turkey']"
   ]
  },
  {
   "cell_type": "code",
   "execution_count": 18,
   "metadata": {},
   "outputs": [],
   "source": [
    "szurt_nodes = nodes[(nodes.Year == 2000) & (nodes.Origin.isin(orszagok))]\n",
    "szurt_edges = edges[(edges.Year == 2000) & (edges.Origin.isin(orszagok)) & (edges.Destination.isin(orszagok))]"
   ]
  },
  {
   "cell_type": "code",
   "execution_count": 19,
   "metadata": {},
   "outputs": [
    {
     "data": {
      "text/html": [
       "<div>\n",
       "<style scoped>\n",
       "    .dataframe tbody tr th:only-of-type {\n",
       "        vertical-align: middle;\n",
       "    }\n",
       "\n",
       "    .dataframe tbody tr th {\n",
       "        vertical-align: top;\n",
       "    }\n",
       "\n",
       "    .dataframe thead th {\n",
       "        text-align: right;\n",
       "    }\n",
       "</style>\n",
       "<table border=\"1\" class=\"dataframe\">\n",
       "  <thead>\n",
       "    <tr style=\"text-align: right;\">\n",
       "      <th></th>\n",
       "      <th>Origin</th>\n",
       "      <th>Year</th>\n",
       "      <th>Origin_latitude</th>\n",
       "      <th>Origin_longitude</th>\n",
       "      <th>Stock</th>\n",
       "    </tr>\n",
       "  </thead>\n",
       "  <tbody>\n",
       "    <tr>\n",
       "      <th>82</th>\n",
       "      <td>Austria</td>\n",
       "      <td>2000</td>\n",
       "      <td>47.516231</td>\n",
       "      <td>14.550072</td>\n",
       "      <td>506555.0</td>\n",
       "    </tr>\n",
       "    <tr>\n",
       "      <th>528</th>\n",
       "      <td>Germany</td>\n",
       "      <td>2000</td>\n",
       "      <td>51.165691</td>\n",
       "      <td>10.451526</td>\n",
       "      <td>3549124.0</td>\n",
       "    </tr>\n",
       "  </tbody>\n",
       "</table>\n",
       "</div>"
      ],
      "text/plain": [
       "      Origin  Year  Origin_latitude  Origin_longitude      Stock\n",
       "82   Austria  2000        47.516231         14.550072   506555.0\n",
       "528  Germany  2000        51.165691         10.451526  3549124.0"
      ]
     },
     "execution_count": 19,
     "metadata": {},
     "output_type": "execute_result"
    }
   ],
   "source": [
    "szurt_nodes.head(2)"
   ]
  },
  {
   "cell_type": "code",
   "execution_count": 20,
   "metadata": {},
   "outputs": [
    {
     "data": {
      "text/html": [
       "<div>\n",
       "<style scoped>\n",
       "    .dataframe tbody tr th:only-of-type {\n",
       "        vertical-align: middle;\n",
       "    }\n",
       "\n",
       "    .dataframe tbody tr th {\n",
       "        vertical-align: top;\n",
       "    }\n",
       "\n",
       "    .dataframe thead th {\n",
       "        text-align: right;\n",
       "    }\n",
       "</style>\n",
       "<table border=\"1\" class=\"dataframe\">\n",
       "  <thead>\n",
       "    <tr style=\"text-align: right;\">\n",
       "      <th></th>\n",
       "      <th>Unnamed: 0</th>\n",
       "      <th>Origin</th>\n",
       "      <th>Destination</th>\n",
       "      <th>Year</th>\n",
       "      <th>Stock</th>\n",
       "      <th>Flow</th>\n",
       "      <th>Origin_latitude</th>\n",
       "      <th>Origin_longitude</th>\n",
       "      <th>Destination_latitude</th>\n",
       "      <th>Destination_longitude</th>\n",
       "    </tr>\n",
       "  </thead>\n",
       "  <tbody>\n",
       "    <tr>\n",
       "      <th>996</th>\n",
       "      <td>996</td>\n",
       "      <td>Austria</td>\n",
       "      <td>Germany</td>\n",
       "      <td>2000</td>\n",
       "      <td>189096.0</td>\n",
       "      <td>37995</td>\n",
       "      <td>47.516231</td>\n",
       "      <td>14.550072</td>\n",
       "      <td>51.165691</td>\n",
       "      <td>10.451526</td>\n",
       "    </tr>\n",
       "    <tr>\n",
       "      <th>1093</th>\n",
       "      <td>1093</td>\n",
       "      <td>Austria</td>\n",
       "      <td>Turkey</td>\n",
       "      <td>2000</td>\n",
       "      <td>14309.0</td>\n",
       "      <td>7411</td>\n",
       "      <td>47.516231</td>\n",
       "      <td>14.550072</td>\n",
       "      <td>38.963745</td>\n",
       "      <td>35.243322</td>\n",
       "    </tr>\n",
       "    <tr>\n",
       "      <th>6363</th>\n",
       "      <td>6363</td>\n",
       "      <td>Germany</td>\n",
       "      <td>Austria</td>\n",
       "      <td>2000</td>\n",
       "      <td>101883.0</td>\n",
       "      <td>13073</td>\n",
       "      <td>51.165691</td>\n",
       "      <td>10.451526</td>\n",
       "      <td>47.516231</td>\n",
       "      <td>14.550072</td>\n",
       "    </tr>\n",
       "    <tr>\n",
       "      <th>6478</th>\n",
       "      <td>6478</td>\n",
       "      <td>Germany</td>\n",
       "      <td>Greece</td>\n",
       "      <td>2000</td>\n",
       "      <td>11349.0</td>\n",
       "      <td>-9744</td>\n",
       "      <td>51.165691</td>\n",
       "      <td>10.451526</td>\n",
       "      <td>39.074208</td>\n",
       "      <td>21.824312</td>\n",
       "    </tr>\n",
       "  </tbody>\n",
       "</table>\n",
       "</div>"
      ],
      "text/plain": [
       "      Unnamed: 0   Origin Destination  Year     Stock   Flow  Origin_latitude  \\\n",
       "996          996  Austria     Germany  2000  189096.0  37995        47.516231   \n",
       "1093        1093  Austria      Turkey  2000   14309.0   7411        47.516231   \n",
       "6363        6363  Germany     Austria  2000  101883.0  13073        51.165691   \n",
       "6478        6478  Germany      Greece  2000   11349.0  -9744        51.165691   \n",
       "\n",
       "      Origin_longitude  Destination_latitude  Destination_longitude  \n",
       "996          14.550072             51.165691              10.451526  \n",
       "1093         14.550072             38.963745              35.243322  \n",
       "6363         10.451526             47.516231              14.550072  \n",
       "6478         10.451526             39.074208              21.824312  "
      ]
     },
     "execution_count": 20,
     "metadata": {},
     "output_type": "execute_result"
    }
   ],
   "source": [
    "szurt_edges.head(4)"
   ]
  },
  {
   "cell_type": "code",
   "execution_count": 21,
   "metadata": {},
   "outputs": [
    {
     "name": "stderr",
     "output_type": "stream",
     "text": [
      "C:\\Users\\HP\\Documents\\02_CODING\\KURZUS_Network\\network_2021_spring\\kurzushetvege\\mapping.py:8: SettingWithCopyWarning:\n",
      "\n",
      "\n",
      "A value is trying to be set on a copy of a slice from a DataFrame.\n",
      "Try using .loc[row_indexer,col_indexer] = value instead\n",
      "\n",
      "See the caveats in the documentation: https://pandas.pydata.org/pandas-docs/stable/user_guide/indexing.html#returning-a-view-versus-a-copy\n",
      "\n",
      "C:\\Users\\HP\\Documents\\02_CODING\\KURZUS_Network\\network_2021_spring\\kurzushetvege\\mapping.py:9: SettingWithCopyWarning:\n",
      "\n",
      "\n",
      "A value is trying to be set on a copy of a slice from a DataFrame.\n",
      "Try using .loc[row_indexer,col_indexer] = value instead\n",
      "\n",
      "See the caveats in the documentation: https://pandas.pydata.org/pandas-docs/stable/user_guide/indexing.html#returning-a-view-versus-a-copy\n",
      "\n"
     ]
    }
   ],
   "source": [
    "fig = graf_vizu(node_features = szurt_nodes, edge_features = szurt_edges)"
   ]
  },
  {
   "cell_type": "code",
   "execution_count": 22,
   "metadata": {},
   "outputs": [
    {
     "data": {
      "text/html": [
       "\n",
       "        <iframe\n",
       "            width=\"100%\"\n",
       "            height=\"375px\"\n",
       "            src=\"mig.html\"\n",
       "            frameborder=\"0\"\n",
       "            allowfullscreen\n",
       "        ></iframe>\n",
       "        "
      ],
      "text/plain": [
       "<IPython.lib.display.IFrame at 0x2088abf8250>"
      ]
     },
     "execution_count": 22,
     "metadata": {},
     "output_type": "execute_result"
    }
   ],
   "source": [
    "fig.show(\"mig.html\")"
   ]
  },
  {
   "cell_type": "code",
   "execution_count": 23,
   "metadata": {},
   "outputs": [],
   "source": [
    "gnodes,gedges=generate_data(szurt_nodes, szurt_edges)"
   ]
  },
  {
   "cell_type": "code",
   "execution_count": 24,
   "metadata": {},
   "outputs": [
    {
     "data": {
      "text/html": [
       "<div>\n",
       "<style scoped>\n",
       "    .dataframe tbody tr th:only-of-type {\n",
       "        vertical-align: middle;\n",
       "    }\n",
       "\n",
       "    .dataframe tbody tr th {\n",
       "        vertical-align: top;\n",
       "    }\n",
       "\n",
       "    .dataframe thead th {\n",
       "        text-align: right;\n",
       "    }\n",
       "</style>\n",
       "<table border=\"1\" class=\"dataframe\">\n",
       "  <thead>\n",
       "    <tr style=\"text-align: right;\">\n",
       "      <th></th>\n",
       "      <th>stock_migration</th>\n",
       "      <th>display_nodesize</th>\n",
       "    </tr>\n",
       "    <tr>\n",
       "      <th>Origin</th>\n",
       "      <th></th>\n",
       "      <th></th>\n",
       "    </tr>\n",
       "  </thead>\n",
       "  <tbody>\n",
       "    <tr>\n",
       "      <th>Austria</th>\n",
       "      <td>506555.0</td>\n",
       "      <td>93.981763</td>\n",
       "    </tr>\n",
       "    <tr>\n",
       "      <th>Germany</th>\n",
       "      <td>3549124.0</td>\n",
       "      <td>107.910995</td>\n",
       "    </tr>\n",
       "    <tr>\n",
       "      <th>Greece</th>\n",
       "      <td>1020252.0</td>\n",
       "      <td>98.991390</td>\n",
       "    </tr>\n",
       "    <tr>\n",
       "      <th>Hungary</th>\n",
       "      <td>409532.0</td>\n",
       "      <td>92.460513</td>\n",
       "    </tr>\n",
       "    <tr>\n",
       "      <th>Turkey</th>\n",
       "      <td>2977856.0</td>\n",
       "      <td>106.655338</td>\n",
       "    </tr>\n",
       "  </tbody>\n",
       "</table>\n",
       "</div>"
      ],
      "text/plain": [
       "         stock_migration  display_nodesize\n",
       "Origin                                    \n",
       "Austria         506555.0         93.981763\n",
       "Germany        3549124.0        107.910995\n",
       "Greece         1020252.0         98.991390\n",
       "Hungary         409532.0         92.460513\n",
       "Turkey         2977856.0        106.655338"
      ]
     },
     "execution_count": 24,
     "metadata": {},
     "output_type": "execute_result"
    }
   ],
   "source": [
    "gnodes"
   ]
  },
  {
   "cell_type": "code",
   "execution_count": 25,
   "metadata": {},
   "outputs": [
    {
     "data": {
      "text/html": [
       "<div>\n",
       "<style scoped>\n",
       "    .dataframe tbody tr th:only-of-type {\n",
       "        vertical-align: middle;\n",
       "    }\n",
       "\n",
       "    .dataframe tbody tr th {\n",
       "        vertical-align: top;\n",
       "    }\n",
       "\n",
       "    .dataframe thead th {\n",
       "        text-align: right;\n",
       "    }\n",
       "</style>\n",
       "<table border=\"1\" class=\"dataframe\">\n",
       "  <thead>\n",
       "    <tr style=\"text-align: right;\">\n",
       "      <th></th>\n",
       "      <th>origin</th>\n",
       "      <th>destination</th>\n",
       "      <th>stock_migration</th>\n",
       "      <th>migration</th>\n",
       "      <th>display_edgesize</th>\n",
       "    </tr>\n",
       "  </thead>\n",
       "  <tbody>\n",
       "    <tr>\n",
       "      <th>0</th>\n",
       "      <td>Germany</td>\n",
       "      <td>Austria</td>\n",
       "      <td>101883.0</td>\n",
       "      <td>13073</td>\n",
       "      <td>0.023833</td>\n",
       "    </tr>\n",
       "    <tr>\n",
       "      <th>1</th>\n",
       "      <td>Greece</td>\n",
       "      <td>Austria</td>\n",
       "      <td>2655.0</td>\n",
       "      <td>1096</td>\n",
       "      <td>0.001998</td>\n",
       "    </tr>\n",
       "    <tr>\n",
       "      <th>2</th>\n",
       "      <td>Hungary</td>\n",
       "      <td>Austria</td>\n",
       "      <td>17955.0</td>\n",
       "      <td>1598</td>\n",
       "      <td>0.002913</td>\n",
       "    </tr>\n",
       "    <tr>\n",
       "      <th>3</th>\n",
       "      <td>Turkey</td>\n",
       "      <td>Austria</td>\n",
       "      <td>179638.0</td>\n",
       "      <td>-4187</td>\n",
       "      <td>-0.007633</td>\n",
       "    </tr>\n",
       "    <tr>\n",
       "      <th>4</th>\n",
       "      <td>Austria</td>\n",
       "      <td>Germany</td>\n",
       "      <td>189096.0</td>\n",
       "      <td>37995</td>\n",
       "      <td>0.069269</td>\n",
       "    </tr>\n",
       "    <tr>\n",
       "      <th>5</th>\n",
       "      <td>Greece</td>\n",
       "      <td>Germany</td>\n",
       "      <td>367554.0</td>\n",
       "      <td>109477</td>\n",
       "      <td>0.199588</td>\n",
       "    </tr>\n",
       "    <tr>\n",
       "      <th>6</th>\n",
       "      <td>Hungary</td>\n",
       "      <td>Germany</td>\n",
       "      <td>71830.0</td>\n",
       "      <td>10745</td>\n",
       "      <td>0.019589</td>\n",
       "    </tr>\n",
       "    <tr>\n",
       "      <th>7</th>\n",
       "      <td>Turkey</td>\n",
       "      <td>Germany</td>\n",
       "      <td>2008979.0</td>\n",
       "      <td>548514</td>\n",
       "      <td>1.000000</td>\n",
       "    </tr>\n",
       "    <tr>\n",
       "      <th>8</th>\n",
       "      <td>Germany</td>\n",
       "      <td>Greece</td>\n",
       "      <td>11349.0</td>\n",
       "      <td>-9744</td>\n",
       "      <td>-0.017764</td>\n",
       "    </tr>\n",
       "    <tr>\n",
       "      <th>9</th>\n",
       "      <td>Turkey</td>\n",
       "      <td>Greece</td>\n",
       "      <td>7603.0</td>\n",
       "      <td>-20143</td>\n",
       "      <td>-0.036723</td>\n",
       "    </tr>\n",
       "    <tr>\n",
       "      <th>10</th>\n",
       "      <td>Germany</td>\n",
       "      <td>Hungary</td>\n",
       "      <td>16733.0</td>\n",
       "      <td>-1194</td>\n",
       "      <td>-0.002177</td>\n",
       "    </tr>\n",
       "    <tr>\n",
       "      <th>11</th>\n",
       "      <td>Greece</td>\n",
       "      <td>Hungary</td>\n",
       "      <td>2169.0</td>\n",
       "      <td>-1223</td>\n",
       "      <td>-0.002230</td>\n",
       "    </tr>\n",
       "    <tr>\n",
       "      <th>12</th>\n",
       "      <td>Austria</td>\n",
       "      <td>Turkey</td>\n",
       "      <td>14309.0</td>\n",
       "      <td>7411</td>\n",
       "      <td>0.013511</td>\n",
       "    </tr>\n",
       "    <tr>\n",
       "      <th>13</th>\n",
       "      <td>Germany</td>\n",
       "      <td>Turkey</td>\n",
       "      <td>272995.0</td>\n",
       "      <td>98238</td>\n",
       "      <td>0.179098</td>\n",
       "    </tr>\n",
       "    <tr>\n",
       "      <th>14</th>\n",
       "      <td>Greece</td>\n",
       "      <td>Turkey</td>\n",
       "      <td>59749.0</td>\n",
       "      <td>-40816</td>\n",
       "      <td>-0.074412</td>\n",
       "    </tr>\n",
       "  </tbody>\n",
       "</table>\n",
       "</div>"
      ],
      "text/plain": [
       "     origin destination  stock_migration  migration  display_edgesize\n",
       "0   Germany     Austria         101883.0      13073          0.023833\n",
       "1    Greece     Austria           2655.0       1096          0.001998\n",
       "2   Hungary     Austria          17955.0       1598          0.002913\n",
       "3    Turkey     Austria         179638.0      -4187         -0.007633\n",
       "4   Austria     Germany         189096.0      37995          0.069269\n",
       "5    Greece     Germany         367554.0     109477          0.199588\n",
       "6   Hungary     Germany          71830.0      10745          0.019589\n",
       "7    Turkey     Germany        2008979.0     548514          1.000000\n",
       "8   Germany      Greece          11349.0      -9744         -0.017764\n",
       "9    Turkey      Greece           7603.0     -20143         -0.036723\n",
       "10  Germany     Hungary          16733.0      -1194         -0.002177\n",
       "11   Greece     Hungary           2169.0      -1223         -0.002230\n",
       "12  Austria      Turkey          14309.0       7411          0.013511\n",
       "13  Germany      Turkey         272995.0      98238          0.179098\n",
       "14   Greece      Turkey          59749.0     -40816         -0.074412"
      ]
     },
     "execution_count": 25,
     "metadata": {},
     "output_type": "execute_result"
    },
    {
     "name": "stderr",
     "output_type": "stream",
     "text": [
      "C:\\Users\\HP\\Documents\\02_CODING\\KURZUS_Network\\network_2021_spring\\kurzushetvege\\mapping.py:8: SettingWithCopyWarning:\n",
      "\n",
      "\n",
      "A value is trying to be set on a copy of a slice from a DataFrame.\n",
      "Try using .loc[row_indexer,col_indexer] = value instead\n",
      "\n",
      "See the caveats in the documentation: https://pandas.pydata.org/pandas-docs/stable/user_guide/indexing.html#returning-a-view-versus-a-copy\n",
      "\n",
      "C:\\Users\\HP\\Documents\\02_CODING\\KURZUS_Network\\network_2021_spring\\kurzushetvege\\mapping.py:9: SettingWithCopyWarning:\n",
      "\n",
      "\n",
      "A value is trying to be set on a copy of a slice from a DataFrame.\n",
      "Try using .loc[row_indexer,col_indexer] = value instead\n",
      "\n",
      "See the caveats in the documentation: https://pandas.pydata.org/pandas-docs/stable/user_guide/indexing.html#returning-a-view-versus-a-copy\n",
      "\n"
     ]
    }
   ],
   "source": [
    "gedges"
   ]
  },
  {
   "cell_type": "code",
   "execution_count": null,
   "metadata": {},
   "outputs": [],
   "source": []
  },
  {
   "cell_type": "code",
   "execution_count": null,
   "metadata": {},
   "outputs": [],
   "source": []
  },
  {
   "cell_type": "code",
   "execution_count": null,
   "metadata": {},
   "outputs": [],
   "source": []
  },
  {
   "cell_type": "code",
   "execution_count": null,
   "metadata": {},
   "outputs": [],
   "source": []
  }
 ],
 "metadata": {
  "kernelspec": {
   "display_name": "Python 3",
   "language": "python",
   "name": "python3"
  },
  "language_info": {
   "codemirror_mode": {
    "name": "ipython",
    "version": 3
   },
   "file_extension": ".py",
   "mimetype": "text/x-python",
   "name": "python",
   "nbconvert_exporter": "python",
   "pygments_lexer": "ipython3",
   "version": "3.8.0"
  },
  "toc": {
   "base_numbering": 1,
   "nav_menu": {},
   "number_sections": true,
   "sideBar": true,
   "skip_h1_title": false,
   "title_cell": "Table of Contents",
   "title_sidebar": "Contents",
   "toc_cell": false,
   "toc_position": {},
   "toc_section_display": true,
   "toc_window_display": true
  }
 },
 "nbformat": 4,
 "nbformat_minor": 2
}
