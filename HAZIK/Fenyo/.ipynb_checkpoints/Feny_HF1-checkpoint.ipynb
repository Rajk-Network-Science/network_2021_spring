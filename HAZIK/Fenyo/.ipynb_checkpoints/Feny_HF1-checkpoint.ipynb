{
 "cells": [
  {
   "cell_type": "markdown",
   "metadata": {},
   "source": [
    "# Packages"
   ]
  },
  {
   "cell_type": "code",
   "execution_count": 2,
   "metadata": {},
   "outputs": [],
   "source": [
    "import pandas as pd\n",
    "import numpy as np\n",
    "import matplotlib.pyplot as plt\n",
    "import seaborn as sns"
   ]
  },
  {
   "cell_type": "markdown",
   "metadata": {},
   "source": [
    "# HF1. Poisson és Binomiális"
   ]
  },
  {
   "cell_type": "markdown",
   "metadata": {},
   "source": [
    "## Binomiális eloszlások"
   ]
  },
  {
   "cell_type": "code",
   "execution_count": 7,
   "metadata": {},
   "outputs": [],
   "source": [
    "prob_df = pd.DataFrame()"
   ]
  },
  {
   "cell_type": "code",
   "execution_count": 7,
   "metadata": {},
   "outputs": [
    {
     "name": "stdout",
     "output_type": "stream",
     "text": [
      "0       14\n",
      "1       82\n",
      "2      404\n",
      "3     1138\n",
      "4     2081\n",
      "5     2449\n",
      "6     2061\n",
      "7     1215\n",
      "8      437\n",
      "9      102\n",
      "10      17\n",
      "Name: binom_10_2, dtype: int64\n",
      "0    3526\n",
      "1    3783\n",
      "2    2003\n",
      "3     575\n",
      "4     102\n",
      "5      11\n",
      "Name: binom_10_10, dtype: int64\n"
     ]
    }
   ],
   "source": [
    "prob_df[\"binom_10_2\"]=np.random.binomial(10,0.5,10000)\n",
    "prob_df[\"binom_10_10\"]=np.random.binomial(10,0.1,10000)\n",
    "\n",
    "print(prob_df[\"binom_10_2\"].value_counts().sort_index())\n",
    "print(prob_df[\"binom_10_10\"].value_counts().sort_index())"
   ]
  },
  {
   "cell_type": "code",
   "execution_count": 8,
   "metadata": {},
   "outputs": [
    {
     "data": {
      "text/plain": [
       "Text(0.5, 1.0, 'BIN(10,0.1)')"
      ]
     },
     "execution_count": 8,
     "metadata": {},
     "output_type": "execute_result"
    },
    {
     "data": {
      "image/png": "[encoded data removed]",
      "text/plain": [
       "<Figure size 720x360 with 2 Axes>"
      ]
     },
     "metadata": {
      "needs_background": "light"
     },
     "output_type": "display_data"
    }
   ],
   "source": [
    "fig,axes=plt.subplots(1,2,figsize=(10,5))\n",
    "axes[0].bar(x=np.arange(11),\n",
    "            height=prob_df[\"binom_10_2\"].value_counts().sort_index())\n",
    "axes[0].set_title(\"BIN(10,0.5)\")\n",
    "axes[1].bar(x=np.arange(11),height=pd.Series(index=np.arange(11),data=prob_df[\"binom_10_10\"].value_counts().sort_index()).fillna(0))\n",
    "axes[1].set_title(\"BIN(10,0.1)\")"
   ]
  },
  {
   "cell_type": "markdown",
   "metadata": {},
   "source": [
    "## Poisson eloszlások"
   ]
  },
  {
   "cell_type": "code",
   "execution_count": 9,
   "metadata": {},
   "outputs": [],
   "source": [
    "prob_df[\"poi_1\"]=np.random.poisson(1,10000)\n",
    "prob_df[\"poi_5\"]=np.random.poisson(5,10000)"
   ]
  },
  {
   "cell_type": "code",
   "execution_count": 10,
   "metadata": {},
   "outputs": [
    {
     "name": "stdout",
     "output_type": "stream",
     "text": [
      "0    3680\n",
      "1    3667\n",
      "2    1851\n",
      "3     624\n",
      "4     139\n",
      "5      33\n",
      "6       5\n",
      "7       1\n",
      "Name: poi_1, dtype: int64\n",
      "0       72\n",
      "1      325\n",
      "2      878\n",
      "3     1472\n",
      "4     1723\n",
      "5     1686\n",
      "6     1451\n",
      "7     1036\n",
      "8      673\n",
      "9      377\n",
      "10     171\n",
      "11      85\n",
      "12      35\n",
      "13      11\n",
      "14       5\n",
      "Name: poi_5, dtype: int64\n"
     ]
    }
   ],
   "source": [
    "print(prob_df[\"poi_1\"].value_counts().sort_index())\n",
    "print(prob_df[\"poi_5\"].value_counts().sort_index())"
   ]
  },
  {
   "cell_type": "code",
   "execution_count": 11,
   "metadata": {},
   "outputs": [
    {
     "data": {
      "image/png": "[encoded data removed]",
      "text/plain": [
       "<Figure size 720x360 with 4 Axes>"
      ]
     },
     "metadata": {
      "needs_background": "light"
     },
     "output_type": "display_data"
    }
   ],
   "source": [
    "fig,axes=plt.subplots(2,2,figsize=(10,5))\n",
    "axes[0,0].bar(x=np.arange(11),height=prob_df[\"binom_10_2\"].value_counts().sort_index())\n",
    "axes[0,0].set_title(\"BIN(10,0.5)\")\n",
    "axes[0,1].bar(x=np.arange(11),\n",
    "              height=pd.Series(index=np.arange(11),\n",
    "                data=prob_df[\"binom_10_10\"].value_counts().sort_index()).fillna(0))\n",
    "axes[0,1].set_title(\"BIN(10,0.1)\")\n",
    "\n",
    "axes[1,0].bar(x=np.arange(11),height=pd.Series(index=np.arange(11),data=prob_df[\"poi_5\"].value_counts().sort_index()).fillna(0))\n",
    "axes[1,0].set_title(\"POI(5)\")\n",
    "\n",
    "axes[1,1].bar(x=np.arange(11),height=pd.Series(index=np.arange(11),data=prob_df[\"poi_1\"].value_counts().sort_index()).fillna(0))\n",
    "axes[1,1].set_title(\"POI(1)\")\n",
    "plt.tight_layout()\n",
    "#nem  teljesen ugyanaz!"
   ]
  },
  {
   "cell_type": "markdown",
   "metadata": {},
   "source": [
    "## Kiértékelő függvény\n",
    "A konvergencia mértéke legyen a sűrűségfüggvények közötti abszolút eltérés maximuma!"
   ]
  },
  {
   "cell_type": "code",
   "execution_count": 39,
   "metadata": {},
   "outputs": [
    {
     "data": {
      "text/plain": [
       "3783"
      ]
     },
     "execution_count": 39,
     "metadata": {},
     "output_type": "execute_result"
    }
   ],
   "source": [
    "prob_df['binom_10_10'].value_counts().max()"
   ]
  },
  {
   "cell_type": "code",
   "execution_count": 40,
   "metadata": {},
   "outputs": [
    {
     "data": {
      "text/plain": [
       "1"
      ]
     },
     "execution_count": 40,
     "metadata": {},
     "output_type": "execute_result"
    }
   ],
   "source": [
    "prob_df['poi_1'].value_counts().min()"
   ]
  },
  {
   "cell_type": "code",
   "execution_count": 69,
   "metadata": {},
   "outputs": [],
   "source": [
    "def suruseg_ertekelo(eloszl1, eloszl2):\n",
    "    '''\n",
    "    két eloszlásból megmondja, mennyi a legnagyobb abszolút különbség a sűrűségfüggvények között\n",
    "    a bemeneti eloszlások pandas df oszlopai legyenek\n",
    "    '''\n",
    "    dif1 = eloszl1.value_counts().max() - eloszl2.value_counts().min()\n",
    "    dif2 = eloszl2.value_counts().max() - eloszl1.value_counts().min()\n",
    "    return dif1 if dif1 > dif2 else dif2"
   ]
  },
  {
   "cell_type": "code",
   "execution_count": 57,
   "metadata": {},
   "outputs": [
    {
     "data": {
      "text/plain": [
       "3782"
      ]
     },
     "execution_count": 57,
     "metadata": {},
     "output_type": "execute_result"
    }
   ],
   "source": [
    "suruseg_ertekelo(prob_df['binom_10_10'], prob_df['poi_1'])"
   ]
  },
  {
   "cell_type": "markdown",
   "metadata": {
    "heading_collapsed": true
   },
   "source": [
    "## Nem jól értelmezett feladat\n",
    "\n",
    "**azért bent hagyom, hátha van benne valami tanulságos hiba**"
   ]
  },
  {
   "cell_type": "markdown",
   "metadata": {
    "hidden": true
   },
   "source": [
    "Generáljunk sok n,p és lambda párt. Az n legyen fixen 10, a tesztek száma 10000.\n",
    "\n",
    "A p menjen 0.001-től 0.999-ig"
   ]
  },
  {
   "cell_type": "code",
   "execution_count": 47,
   "metadata": {
    "hidden": true
   },
   "outputs": [],
   "source": [
    "p_values_1 = np.linspace(0.001, 0.999, 999)"
   ]
  },
  {
   "cell_type": "code",
   "execution_count": 48,
   "metadata": {
    "hidden": true
   },
   "outputs": [],
   "source": [
    "# Nézzünk meg pár esetet előtte\n",
    "prob_df['binom_0.001'] = np.random.binomial(10,0.001,10000)\n",
    "prob_df['binom_0.999'] = np.random.binomial(10,0.999,10000)\n",
    "prob_df['poi_0.001'] = np.random.poisson(0.01,10000)\n",
    "prob_df['poi_0.999'] = np.random.poisson(9.99,10000)"
   ]
  },
  {
   "cell_type": "code",
   "execution_count": 54,
   "metadata": {
    "collapsed": true,
    "hidden": true
   },
   "outputs": [
    {
     "data": {
      "text/plain": [
       "9     1289\n",
       "10    1268\n",
       "8     1130\n",
       "11    1125\n",
       "12     955\n",
       "7      897\n",
       "13     668\n",
       "6      621\n",
       "14     504\n",
       "5      397\n",
       "15     344\n",
       "16     238\n",
       "4      208\n",
       "17     120\n",
       "18      76\n",
       "3       70\n",
       "19      30\n",
       "2       25\n",
       "20      13\n",
       "21      11\n",
       "22       4\n",
       "23       2\n",
       "1        2\n",
       "24       2\n",
       "0        1\n",
       "Name: poi_0.999, dtype: int64"
      ]
     },
     "execution_count": 54,
     "metadata": {},
     "output_type": "execute_result"
    }
   ],
   "source": [
    "prob_df['poi_0.999'].value_counts()"
   ]
  },
  {
   "cell_type": "code",
   "execution_count": 102,
   "metadata": {
    "hidden": true
   },
   "outputs": [],
   "source": [
    "def eloszl_csinalo(p):\n",
    "    '''\n",
    "    egy lambda = n*p számból csinál két eloszlást\n",
    "    egy binomiálisat, aminél a paraméterek (10, p, 10000)\n",
    "    és egy poissont, aminél a paraméterek (10 * p, 10000)\n",
    "    '''\n",
    "    return np.random.binomial(10, p, 10000), np.random.poisson(10*p, 10000)\n",
    "\n",
    "def suruseg_ertekelo2(eloszl1, eloszl2):\n",
    "    '''\n",
    "    két eloszlásból megmondja, mennyi a legnagyobb abszolút különbség a sűrűségfüggvények között\n",
    "    a bemeneti eloszlások nem pd oszlopok hanem eloszlás objektumok, és a függvényben kerülnek átalakításra\n",
    "    '''\n",
    "    dif1 = pd.DataFrame(eloszl1)[0].value_counts().max() - pd.DataFrame(eloszl2)[0].value_counts().min()\n",
    "    dif2 = pd.DataFrame(eloszl2)[0].value_counts().max() - pd.DataFrame(eloszl1)[0].value_counts().min()\n",
    "    return dif1 if dif1 > dif2 else dif2\n",
    "\n",
    "def osszevont(n, p):\n",
    "    '''\n",
    "    a fenti két függvény funkcionalitását kombinálja\n",
    "    '''\n",
    "    dif1 = pd.DataFrame(np.random.binomial(n, p, 10000))[0].value_counts().max() - pd.DataFrame(np.random.poisson(n*p, 10000))[0].value_counts().min()\n",
    "    dif2 = pd.DataFrame(np.random.poisson(n*p, 10000))[0].value_counts().max() - pd.DataFrame(np.random.binomial(n, p, 10000))[0].value_counts().min()\n",
    "    return dif1 if dif1 > dif2 else dif2\n",
    "    "
   ]
  },
  {
   "cell_type": "code",
   "execution_count": 92,
   "metadata": {
    "hidden": true
   },
   "outputs": [
    {
     "data": {
      "text/plain": [
       "(array([1, 0, 0, ..., 0, 0, 1]), array([1, 0, 0, ..., 0, 0, 1]))"
      ]
     },
     "execution_count": 92,
     "metadata": {},
     "output_type": "execute_result"
    }
   ],
   "source": [
    "eloszl_csinalo(0.04)"
   ]
  },
  {
   "cell_type": "code",
   "execution_count": 84,
   "metadata": {
    "hidden": true
   },
   "outputs": [
    {
     "data": {
      "text/plain": [
       "5     2487\n",
       "4     2048\n",
       "6     2044\n",
       "7     1184\n",
       "3     1159\n",
       "2      435\n",
       "8      424\n",
       "9      117\n",
       "1       80\n",
       "0       11\n",
       "10      11\n",
       "Name: 0, dtype: int64"
      ]
     },
     "execution_count": 84,
     "metadata": {},
     "output_type": "execute_result"
    }
   ],
   "source": [
    "pd.DataFrame(np.random.binomial(10,0.5,10000))[0].value_counts()"
   ]
  },
  {
   "cell_type": "code",
   "execution_count": 74,
   "metadata": {
    "hidden": true
   },
   "outputs": [
    {
     "data": {
      "text/plain": [
       "2483"
      ]
     },
     "execution_count": 74,
     "metadata": {},
     "output_type": "execute_result"
    }
   ],
   "source": [
    "prob_df['binom_0.005'], prob_df['poi_0.005'] = eloszl_csinalo(0.5)\n",
    "suruseg_ertekelo(prob_df['binom_0.005'], prob_df['poi_0.005'])"
   ]
  },
  {
   "cell_type": "code",
   "execution_count": 103,
   "metadata": {
    "hidden": true
   },
   "outputs": [],
   "source": [
    "difs = np.array([osszevont(10, x) for x in p_values_1])"
   ]
  },
  {
   "cell_type": "code",
   "execution_count": 104,
   "metadata": {
    "hidden": true
   },
   "outputs": [
    {
     "data": {
      "text/plain": [
       "Text(0.5, 1.0, 'A különbség mértéke n=10-nél rögzített lambda = p*n-ek esetén')"
      ]
     },
     "execution_count": 104,
     "metadata": {},
     "output_type": "execute_result"
    },
    {
     "data": {
      "image/png": "[encoded data removed]",
      "text/plain": [
       "<Figure size 432x288 with 1 Axes>"
      ]
     },
     "metadata": {
      "needs_background": "light"
     },
     "output_type": "display_data"
    }
   ],
   "source": [
    "plt.plot(p_values_1, difs)\n",
    "plt.title('A különbség mértéke n=10-nél rögzített lambda = p*n-ek esetén')"
   ]
  },
  {
   "cell_type": "code",
   "execution_count": 105,
   "metadata": {
    "hidden": true
   },
   "outputs": [],
   "source": [
    "difs2 = np.array([osszevont(20, x) for x in p_values_1])"
   ]
  },
  {
   "cell_type": "code",
   "execution_count": 106,
   "metadata": {
    "hidden": true
   },
   "outputs": [
    {
     "data": {
      "text/plain": [
       "Text(0.5, 1.0, 'A különbség mértéke n=20-nál rögzített lambda = p*n-ek esetén')"
      ]
     },
     "execution_count": 106,
     "metadata": {},
     "output_type": "execute_result"
    },
    {
     "data": {
      "image/png": "[encoded data removed]",
      "text/plain": [
       "<Figure size 432x288 with 1 Axes>"
      ]
     },
     "metadata": {
      "needs_background": "light"
     },
     "output_type": "display_data"
    }
   ],
   "source": [
    "plt.plot(p_values_1, difs2)\n",
    "plt.title('A különbség mértéke n=20-nál rögzített lambda = p*n-ek esetén')"
   ]
  },
  {
   "cell_type": "code",
   "execution_count": 107,
   "metadata": {
    "hidden": true
   },
   "outputs": [],
   "source": [
    "difs3 = np.array([osszevont(5, x) for x in p_values_1])"
   ]
  },
  {
   "cell_type": "code",
   "execution_count": 108,
   "metadata": {
    "hidden": true
   },
   "outputs": [
    {
     "data": {
      "text/plain": [
       "Text(0.5, 1.0, 'A különbség mértéke n=5-nél rögzített lambda = p*n-ek esetén')"
      ]
     },
     "execution_count": 108,
     "metadata": {},
     "output_type": "execute_result"
    },
    {
     "data": {
      "image/png": "[encoded data removed]",
      "text/plain": [
       "<Figure size 432x288 with 1 Axes>"
      ]
     },
     "metadata": {
      "needs_background": "light"
     },
     "output_type": "display_data"
    }
   ],
   "source": [
    "plt.plot(p_values_1, difs3)\n",
    "plt.title('A különbség mértéke n=5-nél rögzített lambda = p*n-ek esetén')"
   ]
  },
  {
   "cell_type": "markdown",
   "metadata": {},
   "source": [
    "## Ahogy meg kellene oldani\n",
    "\n",
    "Generáljunk le sok n-et, és nézzük meg, hogy viselkedik kicsi (0.1), közepes (0.5) és nagy (0.9) p esetén a konvergencia!\n",
    "\n",
    "lambda = n*p mindig"
   ]
  },
  {
   "cell_type": "code",
   "execution_count": 4,
   "metadata": {},
   "outputs": [],
   "source": [
    "n_values = np.linspace(2,1000,999)"
   ]
  },
  {
   "cell_type": "markdown",
   "metadata": {
    "heading_collapsed": true
   },
   "source": [
    "### Nézzünk meg pár esetet"
   ]
  },
  {
   "cell_type": "code",
   "execution_count": 8,
   "metadata": {
    "hidden": true
   },
   "outputs": [],
   "source": [
    "prob_df['binom_2_s'] = np.random.binomial(2,0.1,10000)\n",
    "prob_df['binom_1000_s'] = np.random.binomial(1000,0.1,10000)\n",
    "prob_df['poi_2_s'] = np.random.poisson(0.2,10000)\n",
    "prob_df['poi_1000_s'] = np.random.poisson(100,10000)"
   ]
  },
  {
   "cell_type": "code",
   "execution_count": 9,
   "metadata": {
    "hidden": true
   },
   "outputs": [
    {
     "data": {
      "text/plain": [
       "0    8050\n",
       "1    1860\n",
       "2      90\n",
       "Name: binom_2_s, dtype: int64"
      ]
     },
     "execution_count": 9,
     "metadata": {},
     "output_type": "execute_result"
    }
   ],
   "source": [
    "prob_df['binom_2_s'].value_counts()"
   ]
  },
  {
   "cell_type": "code",
   "execution_count": 10,
   "metadata": {
    "hidden": true
   },
   "outputs": [
    {
     "data": {
      "text/plain": [
       "98     437\n",
       "100    426\n",
       "97     424\n",
       "103    411\n",
       "99     401\n",
       "      ... \n",
       "134      1\n",
       "63       1\n",
       "69       1\n",
       "66       1\n",
       "136      1\n",
       "Name: binom_1000_s, Length: 70, dtype: int64"
      ]
     },
     "execution_count": 10,
     "metadata": {},
     "output_type": "execute_result"
    }
   ],
   "source": [
    "prob_df['binom_1000_s'].value_counts()"
   ]
  },
  {
   "cell_type": "code",
   "execution_count": 11,
   "metadata": {
    "hidden": true
   },
   "outputs": [
    {
     "data": {
      "text/plain": [
       "0    8156\n",
       "1    1678\n",
       "2     157\n",
       "3       9\n",
       "Name: poi_2_s, dtype: int64"
      ]
     },
     "execution_count": 11,
     "metadata": {},
     "output_type": "execute_result"
    }
   ],
   "source": [
    "prob_df['poi_2_s'].value_counts()"
   ]
  },
  {
   "cell_type": "code",
   "execution_count": 12,
   "metadata": {
    "hidden": true
   },
   "outputs": [
    {
     "data": {
      "text/plain": [
       "101    415\n",
       "98     415\n",
       "103    409\n",
       "99     406\n",
       "100    405\n",
       "      ... \n",
       "137      2\n",
       "136      2\n",
       "66       1\n",
       "135      1\n",
       "143      1\n",
       "Name: poi_1000_s, Length: 73, dtype: int64"
      ]
     },
     "execution_count": 12,
     "metadata": {},
     "output_type": "execute_result"
    }
   ],
   "source": [
    "prob_df['poi_1000_s'].value_counts()"
   ]
  },
  {
   "cell_type": "markdown",
   "metadata": {},
   "source": [
    "### Függvények"
   ]
  },
  {
   "cell_type": "code",
   "execution_count": 5,
   "metadata": {},
   "outputs": [],
   "source": [
    "def eloszl_csinalo(n,p):\n",
    "    '''\n",
    "    egy lambda = n*p számból csinál két eloszlást\n",
    "    egy binomiálisat, aminél a paraméterek (n, p, 10000)\n",
    "    és egy poissont, aminél a paraméterek (n * p, 10000)\n",
    "    '''\n",
    "    return np.random.binomial(n, p, 10000), np.random.poisson(n*p, 10000)\n",
    "\n",
    "def suruseg_ertekelo2(eloszl1, eloszl2):\n",
    "    '''\n",
    "    két eloszlásból megmondja, mennyi a legnagyobb abszolút különbség a sűrűségfüggvények között\n",
    "    a bemeneti eloszlások nem pd oszlopok hanem eloszlás objektumok, és a függvényben kerülnek átalakításra\n",
    "    '''\n",
    "    dif1 = pd.DataFrame(eloszl1)[0].value_counts().max() - pd.DataFrame(eloszl2)[0].value_counts().min()\n",
    "    dif2 = pd.DataFrame(eloszl2)[0].value_counts().max() - pd.DataFrame(eloszl1)[0].value_counts().min()\n",
    "    return dif1 if dif1 > dif2 else dif2\n",
    "\n",
    "def osszevont(n, p):\n",
    "    '''\n",
    "    a fenti két függvény funkcionalitását kombinálja\n",
    "    '''\n",
    "    dif1 = pd.DataFrame(np.random.binomial(n, p, 10000))[0].value_counts().max() - pd.DataFrame(np.random.poisson(n*p, 10000))[0].value_counts().min()\n",
    "    dif2 = pd.DataFrame(np.random.poisson(n*p, 10000))[0].value_counts().max() - pd.DataFrame(np.random.binomial(n, p, 10000))[0].value_counts().min()\n",
    "    return dif1 if dif1 > dif2 else dif2"
   ]
  },
  {
   "cell_type": "markdown",
   "metadata": {},
   "source": [
    "### Kicsi p esetén\n",
    "\n",
    "n értékét iteráljuk 2-1000 között\n",
    "\n",
    "p = 0.1\n",
    "\n",
    "lambda = n*p"
   ]
  },
  {
   "cell_type": "code",
   "execution_count": 22,
   "metadata": {},
   "outputs": [],
   "source": [
    "difs = np.array([osszevont(x, 0.1) for x in n_values])"
   ]
  },
  {
   "cell_type": "code",
   "execution_count": 23,
   "metadata": {},
   "outputs": [
    {
     "data": {
      "text/plain": [
       "Text(0.5, 1.0, 'A különbség mértéke p=0.1-nél különböző n-ekre')"
      ]
     },
     "execution_count": 23,
     "metadata": {},
     "output_type": "execute_result"
    },
    {
     "data": {
      "image/png": "[encoded data removed]",
      "text/plain": [
       "<Figure size 432x288 with 1 Axes>"
      ]
     },
     "metadata": {
      "needs_background": "light"
     },
     "output_type": "display_data"
    }
   ],
   "source": [
    "plt.plot(n_values, difs)\n",
    "plt.title('A különbség mértéke p=0.1-nél különböző n-ekre')"
   ]
  },
  {
   "cell_type": "markdown",
   "metadata": {},
   "source": [
    "### Közepes p esetén\n",
    "\n",
    "n értékét iteráljuk 2-1000 között\n",
    "\n",
    "p = 0.5\n",
    "\n",
    "lambda = n*p"
   ]
  },
  {
   "cell_type": "code",
   "execution_count": 24,
   "metadata": {},
   "outputs": [],
   "source": [
    "difs2 = np.array([osszevont(x, 0.5) for x in n_values])"
   ]
  },
  {
   "cell_type": "code",
   "execution_count": 25,
   "metadata": {},
   "outputs": [
    {
     "data": {
      "text/plain": [
       "Text(0.5, 1.0, 'A különbség mértéke p=0.5-nél különböző n-ekre')"
      ]
     },
     "execution_count": 25,
     "metadata": {},
     "output_type": "execute_result"
    },
    {
     "data": {
      "image/png": "[encoded data removed]",
      "text/plain": [
       "<Figure size 432x288 with 1 Axes>"
      ]
     },
     "metadata": {
      "needs_background": "light"
     },
     "output_type": "display_data"
    }
   ],
   "source": [
    "plt.plot(n_values, difs2)\n",
    "plt.title('A különbség mértéke p=0.5-nél különböző n-ekre')"
   ]
  },
  {
   "cell_type": "markdown",
   "metadata": {},
   "source": [
    "### Nagy p esetén\n",
    "\n",
    "n értékét iteráljuk 2-1000 között\n",
    "\n",
    "p = 0.9\n",
    "\n",
    "lambda = n*p"
   ]
  },
  {
   "cell_type": "code",
   "execution_count": 26,
   "metadata": {},
   "outputs": [],
   "source": [
    "difs3 = np.array([osszevont(x, 0.9) for x in n_values])"
   ]
  },
  {
   "cell_type": "code",
   "execution_count": 28,
   "metadata": {},
   "outputs": [
    {
     "data": {
      "text/plain": [
       "Text(0.5, 1.0, 'A különbség mértéke p=0.5-nél különböző n-ekre')"
      ]
     },
     "execution_count": 28,
     "metadata": {},
     "output_type": "execute_result"
    },
    {
     "data": {
      "image/png": "[encoded data removed]",
      "text/plain": [
       "<Figure size 432x288 with 1 Axes>"
      ]
     },
     "metadata": {
      "needs_background": "light"
     },
     "output_type": "display_data"
    }
   ],
   "source": [
    "plt.plot(n_values, difs3)\n",
    "plt.title('A különbség mértéke p=0.5-nél különböző n-ekre')"
   ]
  },
  {
   "cell_type": "markdown",
   "metadata": {},
   "source": [
    "### Egy ábrán"
   ]
  },
  {
   "cell_type": "code",
   "execution_count": null,
   "metadata": {},
   "outputs": [],
   "source": [
    "plt.plot(n_values, difs, color = 'red', label = 'p=0.1')\n",
    "plt.plot(n_values, difs2, color = 'blue', label = 'p=0.5')\n",
    "plt.plot(n_values, difs3, color = 'green', label = 'p=0.9')\n",
    "plt.legend()"
   ]
  },
  {
   "cell_type": "markdown",
   "metadata": {},
   "source": [
    "Ez olyan sokat nem mondd még"
   ]
  },
  {
   "cell_type": "markdown",
   "metadata": {},
   "source": [
    "### Nézzünk meg néhány egyéb szórást is"
   ]
  },
  {
   "cell_type": "code",
   "execution_count": 32,
   "metadata": {},
   "outputs": [
    {
     "data": {
      "text/plain": [
       "<matplotlib.legend.Legend at 0x1c07ab41910>"
      ]
     },
     "execution_count": 32,
     "metadata": {},
     "output_type": "execute_result"
    },
    {
     "data": {
      "image/png": "[encoded data removed]",
      "text/plain": [
       "<Figure size 432x288 with 1 Axes>"
      ]
     },
     "metadata": {
      "needs_background": "light"
     },
     "output_type": "display_data"
    }
   ],
   "source": [
    "plt.plot(n_values, np.array([osszevont(x, 0.1) for x in n_values]), color = 'red', label = 'p=0.1')\n",
    "plt.plot(n_values, np.array([osszevont(x, 0.2) for x in n_values]), color = 'blue', label = 'p=0.2')\n",
    "plt.plot(n_values, np.array([osszevont(x, 0.3) for x in n_values]), color = 'green', label = 'p=0.3')\n",
    "plt.plot(n_values, np.array([osszevont(x, 0.4) for x in n_values]), color = 'yellow', label = 'p=0.4')\n",
    "plt.plot(n_values, np.array([osszevont(x, 0.5) for x in n_values]), color = 'pink', label = 'p=0.5')\n",
    "plt.legend()\n"
   ]
  },
  {
   "cell_type": "markdown",
   "metadata": {},
   "source": [
    "Kezd kirajzolódni valami\n",
    "\n",
    "Vágjuk le a hosszú farkat, hogy jobban lássuk"
   ]
  },
  {
   "cell_type": "code",
   "execution_count": 3,
   "metadata": {},
   "outputs": [],
   "source": [
    "n_values2 = np.linspace(2,200,199)"
   ]
  },
  {
   "cell_type": "code",
   "execution_count": 6,
   "metadata": {},
   "outputs": [
    {
     "data": {
      "text/plain": [
       "Text(0, 0.5, 'A Binomiális és Poisson sűrűségfüggvény közötti legnagyobb eltérés')"
      ]
     },
     "execution_count": 6,
     "metadata": {},
     "output_type": "execute_result"
    },
    {
     "data": {
      "image/png": "[encoded data removed]",
      "text/plain": [
       "<Figure size 432x288 with 1 Axes>"
      ]
     },
     "metadata": {
      "needs_background": "light"
     },
     "output_type": "display_data"
    }
   ],
   "source": [
    "plt.plot(n_values2, np.array([osszevont(x, 0.1) for x in n_values2]), color = 'red', label = 'p=0.1')\n",
    "plt.plot(n_values2, np.array([osszevont(x, 0.2) for x in n_values2]), color = 'blue', label = 'p=0.2')\n",
    "plt.plot(n_values2, np.array([osszevont(x, 0.3) for x in n_values2]), color = 'green', label = 'p=0.3')\n",
    "plt.plot(n_values2, np.array([osszevont(x, 0.4) for x in n_values2]), color = 'yellow', label = 'p=0.4')\n",
    "plt.plot(n_values2, np.array([osszevont(x, 0.5) for x in n_values2]), color = 'pink', label = 'p=0.5')\n",
    "plt.legend()\n",
    "plt.xlabel('n értéke')\n",
    "plt.ylabel('A Binomiális és Poisson sűrűségfüggvény közötti legnagyobb eltérés')"
   ]
  },
  {
   "cell_type": "markdown",
   "metadata": {},
   "source": [
    "Azt láthatjuk az ábrán, egy adott **n** esetében minél nagyobbak a szórások (p=0.5-höz egy adott n esetén nagyobb lambda tartozik, mint p=0.1-hez), annál nagyobb lesz a differencia a két eloszlás sűrűségfüggvénye között.\n",
    "\n",
    "Ahogy növeljük az n-t, nagyobb szórások esetén meredekebben csökken a két sűrűségfüggvény különbsége."
   ]
  },
  {
   "cell_type": "code",
   "execution_count": null,
   "metadata": {},
   "outputs": [],
   "source": []
  },
  {
   "cell_type": "code",
   "execution_count": null,
   "metadata": {},
   "outputs": [],
   "source": []
  },
  {
   "cell_type": "markdown",
   "metadata": {},
   "source": [
    "# HF2. Normalizációs konstans"
   ]
  },
  {
   "cell_type": "markdown",
   "metadata": {},
   "source": [
    ":("
   ]
  },
  {
   "cell_type": "code",
   "execution_count": null,
   "metadata": {},
   "outputs": [],
   "source": []
  },
  {
   "cell_type": "code",
   "execution_count": null,
   "metadata": {},
   "outputs": [],
   "source": []
  },
  {
   "cell_type": "markdown",
   "metadata": {},
   "source": [
    "# HF3. CHT"
   ]
  },
  {
   "cell_type": "markdown",
   "metadata": {},
   "source": [
    ":("
   ]
  },
  {
   "cell_type": "code",
   "execution_count": null,
   "metadata": {},
   "outputs": [],
   "source": []
  },
  {
   "cell_type": "code",
   "execution_count": null,
   "metadata": {},
   "outputs": [],
   "source": []
  }
 ],
 "metadata": {
  "kernelspec": {
   "display_name": "Python 3",
   "language": "python",
   "name": "python3"
  },
  "language_info": {
   "codemirror_mode": {
    "name": "ipython",
    "version": 3
   },
   "file_extension": ".py",
   "mimetype": "text/x-python",
   "name": "python",
   "nbconvert_exporter": "python",
   "pygments_lexer": "ipython3",
   "version": "3.8.0"
  },
  "toc": {
   "base_numbering": 1,
   "nav_menu": {},
   "number_sections": true,
   "sideBar": true,
   "skip_h1_title": false,
   "title_cell": "Table of Contents",
   "title_sidebar": "Contents",
   "toc_cell": false,
   "toc_position": {},
   "toc_section_display": true,
   "toc_window_display": true
  }
 },
 "nbformat": 4,
 "nbformat_minor": 2
}
